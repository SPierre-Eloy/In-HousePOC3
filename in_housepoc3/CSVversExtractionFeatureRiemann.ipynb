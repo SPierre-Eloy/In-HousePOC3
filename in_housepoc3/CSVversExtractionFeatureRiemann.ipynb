{
 "cells": [
  {
   "cell_type": "code",
   "execution_count": 8,
   "id": "f452726a",
   "metadata": {},
   "outputs": [],
   "source": [
    "import pyriemann\n",
    "from pyriemann.estimation import Covariances\n",
    "from pyriemann.classification import MDM\n",
    "from sklearn.model_selection import cross_val_score\n",
    "from sklearn.metrics import confusion_matrix\n",
    "from sklearn.metrics import accuracy_score\n",
    "from glob import glob\n",
    "import numpy as np\n",
    "import seaborn as sns\n",
    "import matplotlib.pyplot as plt\n",
    "import csv"
   ]
  },
  {
   "cell_type": "code",
   "execution_count": 9,
   "id": "16e5b2b3",
   "metadata": {},
   "outputs": [],
   "source": [
    "pathdata = \"C:/Users/pesylvestre/Documents/Informatique/BRAIL/FY2023 In-House PoC3/In-HousePOC3/in_housepoc3/data/\""
   ]
  },
  {
   "cell_type": "code",
   "execution_count": 10,
   "id": "8149950a",
   "metadata": {},
   "outputs": [],
   "source": [
    "gb = glob(pathdata+\"sub-032*.csv\")"
   ]
  },
  {
   "cell_type": "code",
   "execution_count": 11,
   "id": "f6790bbb",
   "metadata": {},
   "outputs": [],
   "source": [
    "event_id = dict(age_20_25 =1, age_25_30=2, age_30_35=3, age_35_40=4, age_55_60=5, age_60_65=6, age_65_70=7, age_70_75=8, age_75_80=9)"
   ]
  },
  {
   "cell_type": "code",
   "execution_count": 14,
   "id": "740a5ac7",
   "metadata": {},
   "outputs": [],
   "source": [
    "arr=np.zeros((len(gb),63,14501))"
   ]
  },
  {
   "cell_type": "code",
   "execution_count": 15,
   "id": "8d9fc258",
   "metadata": {},
   "outputs": [
    {
     "name": "stdout",
     "output_type": "stream",
     "text": [
      "C:/Users/pesylvestre/Documents/Informatique/BRAIL/FY2023 In-House PoC3/In-HousePOC3/in_housepoc3/data\\sub-032528_EO7_eeg.csv\r"
     ]
    }
   ],
   "source": [
    "import pandas as pd\n",
    "i = 0\n",
    "for filename in gb:\n",
    "    print(filename, end=\"\\r\")\n",
    "    df=pd.read_csv(filename)\n",
    "    #print(df.values)\n",
    "    #print(df.shape)\n",
    "    if df.shape[0] == 14501:\n",
    "        arr[i]=df.T.values\n",
    "    i=i+1"
   ]
  },
  {
   "cell_type": "code",
   "execution_count": 17,
   "id": "a021348e",
   "metadata": {},
   "outputs": [],
   "source": [
    "import csv"
   ]
  },
  {
   "cell_type": "code",
   "execution_count": 18,
   "id": "6a574988",
   "metadata": {},
   "outputs": [
    {
     "name": "stdout",
     "output_type": "stream",
     "text": [
      "[7 7 7 ... 1 1 1]\n",
      "(2438,)\n"
     ]
    },
    {
     "name": "stderr",
     "output_type": "stream",
     "text": [
      "C:\\Users\\PESYLV~1\\AppData\\Local\\Temp/ipykernel_14308/4242893162.py:6: DeprecationWarning: `np.int` is a deprecated alias for the builtin `int`. To silence this warning, use `int` by itself. Doing this will not modify any behavior and is safe. When replacing `np.int`, you may wish to use e.g. `np.int64` or `np.int32` to specify the precision. If you wish to review your current use, check the release note link for additional information.\n",
      "Deprecated in NumPy 1.20; for more details and guidance: https://numpy.org/devdocs/release/1.20.0-notes.html#deprecations\n",
      "  data_array = np.asarray(data[0][:-1]).astype(np.int)\n"
     ]
    }
   ],
   "source": [
    "with open(pathdata+\"clab.csv\",'r') as dest_f:\n",
    "    data_iter = csv.reader(dest_f,\n",
    "                           delimiter = ',',\n",
    "                           quotechar = '\"')\n",
    "    data = [data for data in data_iter]\n",
    "data_array = np.asarray(data[0][:-1]).astype(np.int)\n",
    "print(data_array)\n",
    "print(data_array.shape)"
   ]
  },
  {
   "cell_type": "code",
   "execution_count": 19,
   "id": "2875ea66",
   "metadata": {},
   "outputs": [
    {
     "name": "stdout",
     "output_type": "stream",
     "text": [
      "<class 'numpy.ndarray'>\n",
      "[7 7 7 7 7 7 7 7 7 7 7 7 7 7 1 1 1 1 1 1 1 1 1 1 1 1 1 1 1 1 7 7 7 7 7 7 7\n",
      " 7 7 7 7 7 7 2 2 2 2 2 2 2 2 2 2 2 7 7 7 7 7 7 7 7 7 7 7 7 7 7 7 7 7 7 7 7\n",
      " 2 2 2 2 2 2 2 2 2 2 2 6 6 6 6 6 6 6 6 6 6 6 6 1 1 1]\n",
      "(100, 63, 14501) (100,)\n"
     ]
    }
   ],
   "source": [
    "X = arr[:100]\n",
    "y = data_array[:100]\n",
    "print(type(X))\n",
    "print(y)\n",
    "print(X.shape, y.shape)"
   ]
  },
  {
   "cell_type": "code",
   "execution_count": 20,
   "id": "e54eeef7",
   "metadata": {},
   "outputs": [],
   "source": [
    "kernels, chans, samples = 1, 63, 14501\n",
    "p50 = int(len(y)/2)\n",
    "p75 = int(len(y)*0.75)"
   ]
  },
  {
   "cell_type": "code",
   "execution_count": 21,
   "id": "ac07e864",
   "metadata": {},
   "outputs": [],
   "source": [
    "X_train      = X[0:p50,]\n",
    "Y_train      = y[0:p50]\n",
    "X_validate   = X[p50:p75,]\n",
    "Y_validate   = y[p50:p75]\n",
    "X_test       = X[p75:,]\n",
    "Y_test       = y[p75:]"
   ]
  },
  {
   "cell_type": "code",
   "execution_count": 22,
   "id": "ebcb057b",
   "metadata": {},
   "outputs": [],
   "source": [
    "from sklearn.model_selection import train_test_split\n",
    "from pyriemann.estimation import Covariances\n",
    "from pyriemann.classification import MDM\n",
    "from sklearn.metrics import accuracy_score"
   ]
  },
  {
   "cell_type": "code",
   "execution_count": 23,
   "id": "79260657",
   "metadata": {},
   "outputs": [
    {
     "data": {
      "text/plain": [
       "MDM()"
      ]
     },
     "execution_count": 23,
     "metadata": {},
     "output_type": "execute_result"
    }
   ],
   "source": [
    "cov_train = Covariances().fit_transform(X_train)\n",
    "mdm = MDM()\n",
    "mdm.fit(cov_train, Y_train)"
   ]
  },
  {
   "cell_type": "code",
   "execution_count": 24,
   "id": "112fb251",
   "metadata": {},
   "outputs": [],
   "source": [
    "cov_val = Covariances().fit_transform(X_validate)\n",
    "y_pred = mdm.predict(cov_val)"
   ]
  },
  {
   "cell_type": "code",
   "execution_count": 32,
   "id": "d9e96efa",
   "metadata": {},
   "outputs": [
    {
     "name": "stdout",
     "output_type": "stream",
     "text": [
      "Précision sur l'ensemble de validation : 0.92\n",
      "[2 2 2 2 7 7 7 7 7 7 7 7 7 7 7 7 7 7 7 7 7 7 7 7 2] [2 2 2 2 7 7 7 1 7 7 7 7 7 7 7 7 7 7 7 7 7 7 7 7 1]\n",
      "(25,)\n"
     ]
    }
   ],
   "source": [
    "accuracy = accuracy_score(Y_validate, y_pred)\n",
    "print(f'Précision sur l\\'ensemble de validation : {accuracy}')\n",
    "print(Y_validate, y_pred)\n",
    "print(Y_validate.shape)"
   ]
  },
  {
   "cell_type": "code",
   "execution_count": 27,
   "id": "37c73ab2",
   "metadata": {},
   "outputs": [],
   "source": [
    "from sklearn.metrics import confusion_matrix\n",
    "import seaborn as sns\n",
    "import matplotlib.pyplot as plt"
   ]
  },
  {
   "cell_type": "code",
   "execution_count": 36,
   "id": "00c36dfe",
   "metadata": {},
   "outputs": [],
   "source": [
    "#lab = [\"20-25\", \"25-30\", \"30-35\", \"35-40\", \"55-60\", \"60-65\", \"65-70\", \"70-75\", \"75_80\"]"
   ]
  },
  {
   "cell_type": "code",
   "execution_count": 41,
   "id": "8fc408b4",
   "metadata": {},
   "outputs": [],
   "source": [
    "lab = [\"20-25\", \"25-30\", \"65-70\"]"
   ]
  },
  {
   "cell_type": "code",
   "execution_count": 42,
   "id": "0c96b5e0",
   "metadata": {},
   "outputs": [
    {
     "data": {
      "image/png": "[encoded data removed]",
      "text/plain": [
       "<Figure size 720x504 with 2 Axes>"
      ]
     },
     "metadata": {
      "needs_background": "light"
     },
     "output_type": "display_data"
    }
   ],
   "source": [
    "cm = confusion_matrix(Y_validate, y_pred)\n",
    "plt.figure(figsize=(10,7))\n",
    "sns.heatmap(cm, annot=True, fmt='d', xticklabels=lab, yticklabels=lab)\n",
    "plt.xlabel('Prédits')\n",
    "plt.ylabel('Vrais')\n",
    "plt.show()"
   ]
  },
  {
   "cell_type": "code",
   "execution_count": null,
   "id": "d5bbdf18",
   "metadata": {},
   "outputs": [],
   "source": []
  },
  {
   "cell_type": "code",
   "execution_count": null,
   "id": "ee7314ab",
   "metadata": {},
   "outputs": [],
   "source": []
  }
 ],
 "metadata": {
  "kernelspec": {
   "display_name": "Python 3 (ipykernel)",
   "language": "python",
   "name": "python3"
  },
  "language_info": {
   "codemirror_mode": {
    "name": "ipython",
    "version": 3
   },
   "file_extension": ".py",
   "mimetype": "text/x-python",
   "name": "python",
   "nbconvert_exporter": "python",
   "pygments_lexer": "ipython3",
   "version": "3.8.9"
  }
 },
 "nbformat": 4,
 "nbformat_minor": 5
}
