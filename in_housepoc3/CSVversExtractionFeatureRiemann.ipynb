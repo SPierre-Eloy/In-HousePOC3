{
 "cells": [
  {
   "cell_type": "code",
   "execution_count": 8,
   "id": "fc96d9c4",
   "metadata": {},
   "outputs": [],
   "source": [
    "import pyriemann\n",
    "from pyriemann.estimation import Covariances\n",
    "from pyriemann.classification import MDM\n",
    "from sklearn.model_selection import cross_val_score\n",
    "from sklearn.metrics import confusion_matrix\n",
    "from sklearn.metrics import accuracy_score\n",
    "from glob import glob\n",
    "import numpy as np\n",
    "import seaborn as sns\n",
    "import matplotlib.pyplot as plt\n",
    "import csv"
   ]
  },
  {
   "cell_type": "code",
   "execution_count": 9,
   "id": "999d940b",
   "metadata": {},
   "outputs": [],
   "source": [
    "pathdata = \"C:/Users/pesylvestre/Documents/Informatique/BRAIL/FY2023 In-House PoC3/In-HousePOC3/in_housepoc3/data/\""
   ]
  },
  {
   "cell_type": "code",
   "execution_count": 10,
   "id": "bdbed8b6",
   "metadata": {},
   "outputs": [],
   "source": [
    "gb = glob(pathdata+\"sub-032*.csv\")"
   ]
  },
  {
   "cell_type": "code",
   "execution_count": 11,
   "id": "edaf3d2e",
   "metadata": {},
   "outputs": [],
   "source": [
    "event_id = dict(age_20_25 =1, age_25_30=2, age_30_35=3, age_35_40=4, age_55_60=5, age_60_65=6, age_65_70=7, age_70_75=8, age_75_80=9)"
   ]
  },
  {
   "cell_type": "code",
   "execution_count": 14,
   "id": "bb9f8601",
   "metadata": {},
   "outputs": [],
   "source": [
    "arr=np.zeros((len(gb),63,14501))"
   ]
  },
  {
   "cell_type": "code",
   "execution_count": 15,
   "id": "36779606",
   "metadata": {},
   "outputs": [
    {
     "name": "stdout",
     "output_type": "stream",
     "text": [
      "C:/Users/pesylvestre/Documents/Informatique/BRAIL/FY2023 In-House PoC3/In-HousePOC3/in_housepoc3/data\\sub-032528_EO7_eeg.csv\r"
     ]
    }
   ],
   "source": [
    "import pandas as pd\n",
    "i = 0\n",
    "for filename in gb:\n",
    "    print(filename, end=\"\\r\")\n",
    "    df=pd.read_csv(filename)\n",
    "    #print(df.values)\n",
    "    #print(df.shape)\n",
    "    if df.shape[0] == 14501:\n",
    "        arr[i]=df.T.values\n",
    "    i=i+1"
   ]
  },
  {
   "cell_type": "code",
   "execution_count": 17,
   "id": "cbf1dfd4",
   "metadata": {},
   "outputs": [],
   "source": [
    "import csv"
   ]
  },
  {
   "cell_type": "code",
   "execution_count": 18,
   "id": "8ef5c3e4",
   "metadata": {},
   "outputs": [
    {
     "name": "stdout",
     "output_type": "stream",
     "text": [
      "[7 7 7 ... 1 1 1]\n",
      "(2438,)\n"
     ]
    },
    {
     "name": "stderr",
     "output_type": "stream",
     "text": [
      "C:\\Users\\PESYLV~1\\AppData\\Local\\Temp/ipykernel_14308/4242893162.py:6: DeprecationWarning: `np.int` is a deprecated alias for the builtin `int`. To silence this warning, use `int` by itself. Doing this will not modify any behavior and is safe. When replacing `np.int`, you may wish to use e.g. `np.int64` or `np.int32` to specify the precision. If you wish to review your current use, check the release note link for additional information.\n",
      "Deprecated in NumPy 1.20; for more details and guidance: https://numpy.org/devdocs/release/1.20.0-notes.html#deprecations\n",
      "  data_array = np.asarray(data[0][:-1]).astype(np.int)\n"
     ]
    }
   ],
   "source": [
    "with open(pathdata+\"clab.csv\",'r') as dest_f:\n",
    "    data_iter = csv.reader(dest_f,\n",
    "                           delimiter = ',',\n",
    "                           quotechar = '\"')\n",
    "    data = [data for data in data_iter]\n",
    "data_array = np.asarray(data[0][:-1]).astype(np.int)\n",
    "print(data_array)\n",
    "print(data_array.shape)"
   ]
  },
  {
   "cell_type": "code",
   "execution_count": 67,
   "id": "e17ffe4d",
   "metadata": {},
   "outputs": [],
   "source": [
    "def is_pos_def(x):\n",
    "    try:\n",
    "        np.linalg.cholesky(x)\n",
    "        return True\n",
    "    except np.linalg.LinAlgError:\n",
    "        return False"
   ]
  },
  {
   "cell_type": "code",
   "execution_count": 109,
   "id": "c35359e3",
   "metadata": {},
   "outputs": [
    {
     "name": "stdout",
     "output_type": "stream",
     "text": [
      "<class 'numpy.ndarray'>\n",
      "[7 7 7 7 7 7 7 7 7 7 7 7 7 7 1 1 1 1 1 1 1 1 1 1 1 1 1 1 1 1 7 7 7 7 7 7 7\n",
      " 7 7 7 7 7 7 2 2 2 2 2 2 2 2 2 2 2 7 7 7 7 7 7 7 7 7 7 7 7 7 7 7 7 7 7 7 7\n",
      " 2 2 2 2 2 2 2 2 2 2 2 6 6 6 6 6 6 6 6 6 6 6 6 1 1 1 1 1 2 2 2 2 2 2 2 2 2\n",
      " 2 2 2 1 1 1 1 1 1 1 1 1 1 1 1 1 1 1 1 1 1 1 1 1 1 1 1 1 1 1 1 1 1 1 1 1 1\n",
      " 1 1 2 2 2 2 2 2 2 2 2 2 2 1 1 1 1 1 1 1 1 1 1 1 2 2 2 2 2 2 2 2 2 2 2 2 2\n",
      " 2 1 1 1 1 1 1 1 1 1 1 6 6 6 6 6 6 6 6 6 6 1 1 1 1 1 1 1 1 1 1 1 2 2 2 2 2\n",
      " 2 2 3 3 3 3 3 3 3 3 1 1 1 1 1 1 1 1 1 1 1 1 1 1 1 1 1 1 1 1 1 1 1 1 1 1 1\n",
      " 1 1 1 1 1 1 1 1 1 1 1 1 1 1 1 1 1 1 1 1 1 2 2 2 2 2 2 2 2 2 2 2 2 2 2 2 2\n",
      " 2 2 2 2 2 2 2 2 3 3 3 3 3 3]\n",
      "(310, 63, 14501) (310,)\n"
     ]
    }
   ],
   "source": [
    "X = arr[:310]\n",
    "y = data_array[:310]\n",
    "print(type(X))\n",
    "print(y)\n",
    "print(X.shape, y.shape)\n",
    "for a in arr:\n",
    "    if is_pos_def(a):\n",
    "        print(is_pos_def(a), end=\" \")"
   ]
  },
  {
   "cell_type": "code",
   "execution_count": 110,
   "id": "8e015b58",
   "metadata": {},
   "outputs": [],
   "source": [
    "kernels, chans, samples = 1, 63, 14501\n",
    "p50 = int(len(y)/2)\n",
    "p75 = int(len(y)*0.75)"
   ]
  },
  {
   "cell_type": "code",
   "execution_count": 111,
   "id": "393e38ba",
   "metadata": {},
   "outputs": [],
   "source": [
    "X_train      = X[0:p50,]\n",
    "Y_train      = y[0:p50]\n",
    "X_validate   = X[p50:p75,]\n",
    "Y_validate   = y[p50:p75]\n",
    "X_test       = X[p75:,]\n",
    "Y_test       = y[p75:]"
   ]
  },
  {
   "cell_type": "code",
   "execution_count": 112,
   "id": "b6118f74",
   "metadata": {},
   "outputs": [],
   "source": [
    "from sklearn.model_selection import train_test_split\n",
    "from pyriemann.estimation import Covariances\n",
    "from pyriemann.classification import MDM\n",
    "from sklearn.metrics import accuracy_score"
   ]
  },
  {
   "cell_type": "code",
   "execution_count": 113,
   "id": "fe899fa6",
   "metadata": {},
   "outputs": [
    {
     "data": {
      "text/plain": [
       "MDM()"
      ]
     },
     "execution_count": 113,
     "metadata": {},
     "output_type": "execute_result"
    }
   ],
   "source": [
    "cov_train = Covariances('oas').fit_transform(X_train)\n",
    "mdm = MDM()\n",
    "mdm.fit(cov_train, Y_train)"
   ]
  },
  {
   "cell_type": "code",
   "execution_count": 114,
   "id": "5f6c8e5c",
   "metadata": {},
   "outputs": [
    {
     "name": "stderr",
     "output_type": "stream",
     "text": [
      "c:\\users\\pesylvestre\\appdata\\local\\programs\\python\\python38\\lib\\site-packages\\pyriemann\\utils\\distance.py:319: RuntimeWarning: divide by zero encountered in log\n",
      "  d2 = (np.log(_recursive(eigvalsh, A, B))**2).sum(axis=-1)\n"
     ]
    }
   ],
   "source": [
    "cov_val = Covariances().fit_transform(X_validate)\n",
    "y_pred = mdm.predict(cov_val)"
   ]
  },
  {
   "cell_type": "code",
   "execution_count": 115,
   "id": "8cc151d7",
   "metadata": {},
   "outputs": [
    {
     "name": "stdout",
     "output_type": "stream",
     "text": [
      "Précision sur l'ensemble de validation : 0.42857142857142855\n",
      "[2 2 2 2 2 2 1 1 1 1 1 1 1 1 1 1 1 2 2 2 2 2 2 2 2 2 2 2 2 2 2 1 1 1 1 1 1\n",
      " 1 1 1 1 6 6 6 6 6 6 6 6 6 6 1 1 1 1 1 1 1 1 1 1 1 2 2 2 2 2 2 2 3 3 3 3 3\n",
      " 3 3 3] [2 2 2 2 2 2 1 1 1 1 1 1 2 1 1 1 1 2 2 1 2 2 2 2 7 7 7 2 2 7 7 1 1 1 2 2 1\n",
      " 2 2 2 2 2 2 2 2 2 2 1 2 2 2 1 1 1 1 1 7 2 7 7 7 7 7 7 7 7 7 7 7 2 2 2 2 2\n",
      " 2 2 2]\n",
      "(77,)\n"
     ]
    }
   ],
   "source": [
    "accuracy = accuracy_score(Y_validate, y_pred)\n",
    "print(f'Précision sur l\\'ensemble de validation : {accuracy}')\n",
    "print(Y_validate, y_pred)\n",
    "print(Y_validate.shape)"
   ]
  },
  {
   "cell_type": "code",
   "execution_count": 117,
   "id": "47f66ffc",
   "metadata": {},
   "outputs": [],
   "source": [
    "from sklearn.metrics import confusion_matrix\n",
    "import seaborn as sns\n",
    "import matplotlib.pyplot as plt"
   ]
  },
  {
   "cell_type": "code",
   "execution_count": 118,
   "id": "36686960",
   "metadata": {},
   "outputs": [],
   "source": [
    "#lab = [\"20-25\", \"25-30\", \"30-35\", \"35-40\", \"55-60\", \"60-65\", \"65-70\", \"70-75\", \"75_80\"]"
   ]
  },
  {
   "cell_type": "code",
   "execution_count": 119,
   "id": "7d246a1c",
   "metadata": {},
   "outputs": [],
   "source": [
    "lab = [\"20-25\", \"25-30\", \"30-35\", \"60-65\", \"65-70\"]"
   ]
  },
  {
   "cell_type": "code",
   "execution_count": 120,
   "id": "e4e214dc",
   "metadata": {},
   "outputs": [
    {
     "data": {
      "image/png": "[encoded data removed]",
      "text/plain": [
       "<Figure size 720x504 with 2 Axes>"
      ]
     },
     "metadata": {
      "needs_background": "light"
     },
     "output_type": "display_data"
    }
   ],
   "source": [
    "cm = confusion_matrix(Y_validate, y_pred)\n",
    "plt.figure(figsize=(10,7))\n",
    "sns.heatmap(cm, annot=True, fmt='d', xticklabels=lab, yticklabels=lab)\n",
    "plt.xlabel('Prédits')\n",
    "plt.ylabel('Vrais')\n",
    "plt.show()"
   ]
  },
  {
   "cell_type": "code",
   "execution_count": null,
   "id": "eeeeae5e",
   "metadata": {},
   "outputs": [],
   "source": []
  },
  {
   "cell_type": "code",
   "execution_count": null,
   "id": "d91f901b",
   "metadata": {},
   "outputs": [],
   "source": []
  }
 ],
 "metadata": {
  "kernelspec": {
   "display_name": "Python 3 (ipykernel)",
   "language": "python",
   "name": "python3"
  },
  "language_info": {
   "codemirror_mode": {
    "name": "ipython",
    "version": 3
   },
   "file_extension": ".py",
   "mimetype": "text/x-python",
   "name": "python",
   "nbconvert_exporter": "python",
   "pygments_lexer": "ipython3",
   "version": "3.8.9"
  }
 },
 "nbformat": 4,
 "nbformat_minor": 5
}
