{
 "cells": [
  {
   "cell_type": "code",
   "execution_count": 13,
   "metadata": {},
   "outputs": [],
   "source": [
    "import pandas as pd\n",
    "import numpy as np\n",
    "import mne\n",
    "from sklearn.model_selection import cross_val_score\n",
    "from glob import glob"
   ]
  },
  {
   "cell_type": "code",
   "execution_count": 14,
   "metadata": {},
   "outputs": [],
   "source": [
    "pathdata = \"D:/Utilisateur/SPierre-Eloy/Documents/Informatique/Brail/In-HousePOC3/in_housepoc3/data\""
   ]
  },
  {
   "cell_type": "code",
   "execution_count": 15,
   "metadata": {},
   "outputs": [],
   "source": [
    "gb = glob(pathdata+\"/Lemon_PreDict/sub-032*/sub-032*.fif\")"
   ]
  },
  {
   "cell_type": "code",
   "execution_count": 16,
   "metadata": {},
   "outputs": [
    {
     "name": "stdout",
     "output_type": "stream",
     "text": [
      "134\n"
     ]
    }
   ],
   "source": [
    "print(len(gb))"
   ]
  },
  {
   "cell_type": "code",
   "execution_count": 17,
   "metadata": {},
   "outputs": [],
   "source": [
    "lab = pd.read_csv(pathdata+\"/label.csv\", header=None)"
   ]
  },
  {
   "cell_type": "code",
   "execution_count": 18,
   "metadata": {},
   "outputs": [
    {
     "name": "stdout",
     "output_type": "stream",
     "text": [
      "              0  1      2\n",
      "0    sub-032301  1  65-70\n",
      "1    sub-032302  1  20-25\n",
      "2    sub-032303  1  65-70\n",
      "3    sub-032304  2  25-30\n",
      "4    sub-032305  1  65-70\n",
      "..          ... ..    ...\n",
      "223  sub-032524  2  20-25\n",
      "224  sub-032525  2  20-25\n",
      "225  sub-032526  2  20-25\n",
      "226  sub-032527  2  20-25\n",
      "227  sub-032528  1  20-25\n",
      "\n",
      "[228 rows x 3 columns]\n"
     ]
    }
   ],
   "source": [
    "print(lab)"
   ]
  },
  {
   "cell_type": "code",
   "execution_count": 19,
   "metadata": {},
   "outputs": [
    {
     "data": {
      "text/plain": [
       "'20-25'"
      ]
     },
     "execution_count": 19,
     "metadata": {},
     "output_type": "execute_result"
    }
   ],
   "source": [
    "def find_row(df, column, string):\n",
    "    # Appliquer la fonction str.contains() sur la colonne choisie\n",
    "    mask = df[column].str.contains(string)\n",
    "    # Filtrer le dataframe avec le masque\n",
    "    result = df[mask]\n",
    "    # Retourner le résultat\n",
    "    return result\n",
    "\n",
    "res = find_row(lab, 0, \"sub-032525\")\n",
    "res[2].values[0]"
   ]
  },
  {
   "cell_type": "code",
   "execution_count": 20,
   "metadata": {},
   "outputs": [
    {
     "name": "stdout",
     "output_type": "stream",
     "text": [
      "Opening raw data file D:/Utilisateur/SPierre-Eloy/Documents/Informatique/Brail/In-HousePOC3/in_housepoc3/data/Lemon_PreDict\\sub-032301\\sub-032301_EC1_eeg.fif...\n",
      "Isotrak not found\n",
      "    Range : 1596 ... 16096 =      6.384 ...    64.384 secs\n",
      "Ready.\n",
      "Reading 0 ... 14500  =      0.000 ...    58.000 secs...\n",
      "Opening raw data file D:/Utilisateur/SPierre-Eloy/Documents/Informatique/Brail/In-HousePOC3/in_housepoc3/data/Lemon_PreDict\\sub-032301\\sub-032301_EC2_eeg.fif...\n",
      "Isotrak not found\n",
      "    Range : 32618 ... 47118 =    130.472 ...   188.472 secs\n",
      "Ready.\n",
      "Reading 0 ... 14500  =      0.000 ...    58.000 secs...\n",
      "Opening raw data file D:/Utilisateur/SPierre-Eloy/Documents/Informatique/Brail/In-HousePOC3/in_housepoc3/data/Lemon_PreDict\\sub-032301\\sub-032301_EC3_eeg.fif...\n",
      "Isotrak not found\n",
      "    Range : 63592 ... 78092 =    254.368 ...   312.368 secs\n",
      "Ready.\n",
      "Reading 0 ... 14500  =      0.000 ...    58.000 secs...\n",
      "Opening raw data file D:/Utilisateur/SPierre-Eloy/Documents/Informatique/Brail/In-HousePOC3/in_housepoc3/data/Lemon_PreDict\\sub-032301\\sub-032301_EC4_eeg.fif...\n",
      "Isotrak not found\n",
      "    Range : 94507 ... 109007 =    378.028 ...   436.028 secs\n",
      "Ready.\n",
      "Reading 0 ... 14500  =      0.000 ...    58.000 secs...\n",
      "Opening raw data file D:/Utilisateur/SPierre-Eloy/Documents/Informatique/Brail/In-HousePOC3/in_housepoc3/data/Lemon_PreDict\\sub-032301\\sub-032301_EC5_eeg.fif...\n",
      "Isotrak not found\n",
      "    Range : 125416 ... 139916 =    501.664 ...   559.664 secs\n",
      "Ready.\n",
      "Reading 0 ... 14500  =      0.000 ...    58.000 secs...\n",
      "Opening raw data file D:/Utilisateur/SPierre-Eloy/Documents/Informatique/Brail/In-HousePOC3/in_housepoc3/data/Lemon_PreDict\\sub-032301\\sub-032301_EC6_eeg.fif...\n",
      "Isotrak not found\n",
      "    Range : 156578 ... 171078 =    626.312 ...   684.312 secs\n",
      "Ready.\n",
      "Reading 0 ... 14500  =      0.000 ...    58.000 secs...\n",
      "Opening raw data file D:/Utilisateur/SPierre-Eloy/Documents/Informatique/Brail/In-HousePOC3/in_housepoc3/data/Lemon_PreDict\\sub-032301\\sub-032301_EC7_eeg.fif...\n"
     ]
    },
    {
     "name": "stderr",
     "output_type": "stream",
     "text": [
      "<ipython-input-20-44e113f5a598>:14: FutureWarning: The frame.append method is deprecated and will be removed from pandas in a future version. Use pandas.concat instead.\n",
      "  df = df.append({\"data\": rawpd, \"age\": int(mlab[:2])+2.5}, ignore_index=True)\n",
      "<ipython-input-20-44e113f5a598>:14: FutureWarning: The frame.append method is deprecated and will be removed from pandas in a future version. Use pandas.concat instead.\n",
      "  df = df.append({\"data\": rawpd, \"age\": int(mlab[:2])+2.5}, ignore_index=True)\n",
      "<ipython-input-20-44e113f5a598>:14: FutureWarning: The frame.append method is deprecated and will be removed from pandas in a future version. Use pandas.concat instead.\n",
      "  df = df.append({\"data\": rawpd, \"age\": int(mlab[:2])+2.5}, ignore_index=True)\n",
      "<ipython-input-20-44e113f5a598>:14: FutureWarning: The frame.append method is deprecated and will be removed from pandas in a future version. Use pandas.concat instead.\n",
      "  df = df.append({\"data\": rawpd, \"age\": int(mlab[:2])+2.5}, ignore_index=True)\n",
      "<ipython-input-20-44e113f5a598>:14: FutureWarning: The frame.append method is deprecated and will be removed from pandas in a future version. Use pandas.concat instead.\n",
      "  df = df.append({\"data\": rawpd, \"age\": int(mlab[:2])+2.5}, ignore_index=True)\n",
      "<ipython-input-20-44e113f5a598>:14: FutureWarning: The frame.append method is deprecated and will be removed from pandas in a future version. Use pandas.concat instead.\n",
      "  df = df.append({\"data\": rawpd, \"age\": int(mlab[:2])+2.5}, ignore_index=True)\n"
     ]
    },
    {
     "name": "stdout",
     "output_type": "stream",
     "text": [
      "Isotrak not found\n",
      "    Range : 187585 ... 202085 =    750.340 ...   808.340 secs\n",
      "Ready.\n",
      "Reading 0 ... 14500  =      0.000 ...    58.000 secs...\n",
      "Opening raw data file D:/Utilisateur/SPierre-Eloy/Documents/Informatique/Brail/In-HousePOC3/in_housepoc3/data/Lemon_PreDict\\sub-032301\\sub-032301_EC8_eeg.fif...\n",
      "Isotrak not found\n",
      "    Range : 218718 ... 233219 =    874.872 ...   932.876 secs\n",
      "Ready.\n",
      "Reading 0 ... 14501  =      0.000 ...    58.004 secs...\n",
      "Opening raw data file D:/Utilisateur/SPierre-Eloy/Documents/Informatique/Brail/In-HousePOC3/in_housepoc3/data/Lemon_PreDict\\sub-032301\\sub-032301_EO1_eeg.fif...\n",
      "Isotrak not found\n",
      "    Range : 17187 ... 31687 =     68.748 ...   126.748 secs\n",
      "Ready.\n",
      "Reading 0 ... 14500  =      0.000 ...    58.000 secs...\n",
      "Opening raw data file D:/Utilisateur/SPierre-Eloy/Documents/Informatique/Brail/In-HousePOC3/in_housepoc3/data/Lemon_PreDict\\sub-032301\\sub-032301_EO2_eeg.fif...\n",
      "Isotrak not found\n",
      "    Range : 48108 ... 62608 =    192.432 ...   250.432 secs\n",
      "Ready.\n",
      "Reading 0 ... 14500  =      0.000 ...    58.000 secs...\n",
      "Opening raw data file D:/Utilisateur/SPierre-Eloy/Documents/Informatique/Brail/In-HousePOC3/in_housepoc3/data/Lemon_PreDict\\sub-032301\\sub-032301_EO3_eeg.fif...\n",
      "Isotrak not found\n",
      "    Range : 79060 ... 93561 =    316.240 ...   374.244 secs\n",
      "Ready.\n",
      "Reading 0 ... 14501  =      0.000 ...    58.004 secs...\n",
      "Opening raw data file D:/Utilisateur/SPierre-Eloy/Documents/Informatique/Brail/In-HousePOC3/in_housepoc3/data/Lemon_PreDict\\sub-032301\\sub-032301_EO4_eeg.fif...\n",
      "Isotrak not found\n"
     ]
    },
    {
     "name": "stderr",
     "output_type": "stream",
     "text": [
      "<ipython-input-20-44e113f5a598>:14: FutureWarning: The frame.append method is deprecated and will be removed from pandas in a future version. Use pandas.concat instead.\n",
      "  df = df.append({\"data\": rawpd, \"age\": int(mlab[:2])+2.5}, ignore_index=True)\n",
      "<ipython-input-20-44e113f5a598>:14: FutureWarning: The frame.append method is deprecated and will be removed from pandas in a future version. Use pandas.concat instead.\n",
      "  df = df.append({\"data\": rawpd, \"age\": int(mlab[:2])+2.5}, ignore_index=True)\n",
      "<ipython-input-20-44e113f5a598>:14: FutureWarning: The frame.append method is deprecated and will be removed from pandas in a future version. Use pandas.concat instead.\n",
      "  df = df.append({\"data\": rawpd, \"age\": int(mlab[:2])+2.5}, ignore_index=True)\n",
      "<ipython-input-20-44e113f5a598>:14: FutureWarning: The frame.append method is deprecated and will be removed from pandas in a future version. Use pandas.concat instead.\n",
      "  df = df.append({\"data\": rawpd, \"age\": int(mlab[:2])+2.5}, ignore_index=True)\n",
      "<ipython-input-20-44e113f5a598>:14: FutureWarning: The frame.append method is deprecated and will be removed from pandas in a future version. Use pandas.concat instead.\n",
      "  df = df.append({\"data\": rawpd, \"age\": int(mlab[:2])+2.5}, ignore_index=True)\n"
     ]
    },
    {
     "name": "stdout",
     "output_type": "stream",
     "text": [
      "    Range : 109907 ... 124407 =    439.628 ...   497.628 secs\n",
      "Ready.\n",
      "Reading 0 ... 14500  =      0.000 ...    58.000 secs...\n",
      "Opening raw data file D:/Utilisateur/SPierre-Eloy/Documents/Informatique/Brail/In-HousePOC3/in_housepoc3/data/Lemon_PreDict\\sub-032301\\sub-032301_EO5_eeg.fif...\n",
      "Isotrak not found\n",
      "    Range : 141057 ... 155557 =    564.228 ...   622.228 secs\n",
      "Ready.\n",
      "Reading 0 ... 14500  =      0.000 ...    58.000 secs...\n",
      "Opening raw data file D:/Utilisateur/SPierre-Eloy/Documents/Informatique/Brail/In-HousePOC3/in_housepoc3/data/Lemon_PreDict\\sub-032301\\sub-032301_EO6_eeg.fif...\n",
      "Isotrak not found\n",
      "    Range : 172133 ... 186633 =    688.532 ...   746.532 secs\n",
      "Ready.\n",
      "Reading 0 ... 14500  =      0.000 ...    58.000 secs...\n",
      "Opening raw data file D:/Utilisateur/SPierre-Eloy/Documents/Informatique/Brail/In-HousePOC3/in_housepoc3/data/Lemon_PreDict\\sub-032301\\sub-032301_EO7_eeg.fif...\n",
      "Isotrak not found\n",
      "    Range : 203151 ... 217651 =    812.604 ...   870.604 secs\n",
      "Ready.\n",
      "Reading 0 ... 14500  =      0.000 ...    58.000 secs...\n",
      "Opening raw data file D:/Utilisateur/SPierre-Eloy/Documents/Informatique/Brail/In-HousePOC3/in_housepoc3/data/Lemon_PreDict\\sub-032301\\sub-032301_EO8_eeg.fif...\n",
      "Isotrak not found\n",
      "    Range : 234331 ... 248831 =    937.324 ...   995.324 secs\n",
      "Ready.\n",
      "Reading 0 ... 14500  =      0.000 ...    58.000 secs...\n",
      "Opening raw data file D:/Utilisateur/SPierre-Eloy/Documents/Informatique/Brail/In-HousePOC3/in_housepoc3/data/Lemon_PreDict\\sub-032302\\sub-032302_EC1_eeg.fif...\n",
      "Isotrak not found\n",
      "    Range : 3262 ... 17762 =     13.048 ...    71.048 secs\n",
      "Ready.\n",
      "Reading 0 ... 14500  =      0.000 ...    58.000 secs...\n",
      "Opening raw data file D:/Utilisateur/SPierre-Eloy/Documents/Informatique/Brail/In-HousePOC3/in_housepoc3/data/Lemon_PreDict\\sub-032302\\sub-032302_EC2_eeg.fif...\n"
     ]
    },
    {
     "name": "stderr",
     "output_type": "stream",
     "text": [
      "<ipython-input-20-44e113f5a598>:14: FutureWarning: The frame.append method is deprecated and will be removed from pandas in a future version. Use pandas.concat instead.\n",
      "  df = df.append({\"data\": rawpd, \"age\": int(mlab[:2])+2.5}, ignore_index=True)\n",
      "<ipython-input-20-44e113f5a598>:14: FutureWarning: The frame.append method is deprecated and will be removed from pandas in a future version. Use pandas.concat instead.\n",
      "  df = df.append({\"data\": rawpd, \"age\": int(mlab[:2])+2.5}, ignore_index=True)\n",
      "<ipython-input-20-44e113f5a598>:14: FutureWarning: The frame.append method is deprecated and will be removed from pandas in a future version. Use pandas.concat instead.\n",
      "  df = df.append({\"data\": rawpd, \"age\": int(mlab[:2])+2.5}, ignore_index=True)\n",
      "<ipython-input-20-44e113f5a598>:14: FutureWarning: The frame.append method is deprecated and will be removed from pandas in a future version. Use pandas.concat instead.\n",
      "  df = df.append({\"data\": rawpd, \"age\": int(mlab[:2])+2.5}, ignore_index=True)\n",
      "<ipython-input-20-44e113f5a598>:14: FutureWarning: The frame.append method is deprecated and will be removed from pandas in a future version. Use pandas.concat instead.\n",
      "  df = df.append({\"data\": rawpd, \"age\": int(mlab[:2])+2.5}, ignore_index=True)\n",
      "<ipython-input-20-44e113f5a598>:14: FutureWarning: The frame.append method is deprecated and will be removed from pandas in a future version. Use pandas.concat instead.\n",
      "  df = df.append({\"data\": rawpd, \"age\": int(mlab[:2])+2.5}, ignore_index=True)\n"
     ]
    },
    {
     "name": "stdout",
     "output_type": "stream",
     "text": [
      "Isotrak not found\n",
      "    Range : 34124 ... 48624 =    136.496 ...   194.496 secs\n",
      "Ready.\n",
      "Reading 0 ... 14500  =      0.000 ...    58.000 secs...\n",
      "Opening raw data file D:/Utilisateur/SPierre-Eloy/Documents/Informatique/Brail/In-HousePOC3/in_housepoc3/data/Lemon_PreDict\\sub-032302\\sub-032302_EC3_eeg.fif...\n",
      "Isotrak not found\n",
      "    Range : 65097 ... 79597 =    260.388 ...   318.388 secs\n",
      "Ready.\n",
      "Reading 0 ... 14500  =      0.000 ...    58.000 secs...\n",
      "Opening raw data file D:/Utilisateur/SPierre-Eloy/Documents/Informatique/Brail/In-HousePOC3/in_housepoc3/data/Lemon_PreDict\\sub-032302\\sub-032302_EC4_eeg.fif...\n",
      "Isotrak not found\n",
      "    Range : 95778 ... 110278 =    383.112 ...   441.112 secs\n",
      "Ready.\n",
      "Reading 0 ... 14500  =      0.000 ...    58.000 secs...\n",
      "Opening raw data file D:/Utilisateur/SPierre-Eloy/Documents/Informatique/Brail/In-HousePOC3/in_housepoc3/data/Lemon_PreDict\\sub-032302\\sub-032302_EC5_eeg.fif...\n",
      "Isotrak not found\n",
      "    Range : 126563 ... 141063 =    506.252 ...   564.252 secs\n",
      "Ready.\n",
      "Reading 0 ... 14500  =      0.000 ...    58.000 secs...\n",
      "Opening raw data file D:/Utilisateur/SPierre-Eloy/Documents/Informatique/Brail/In-HousePOC3/in_housepoc3/data/Lemon_PreDict\\sub-032302\\sub-032302_EC6_eeg.fif...\n",
      "Isotrak not found\n",
      "    Range : 157188 ... 171688 =    628.752 ...   686.752 secs\n",
      "Ready.\n",
      "Reading 0 ... 14500  =      0.000 ...    58.000 secs...\n",
      "Opening raw data file D:/Utilisateur/SPierre-Eloy/Documents/Informatique/Brail/In-HousePOC3/in_housepoc3/data/Lemon_PreDict\\sub-032302\\sub-032302_EC7_eeg.fif...\n",
      "Isotrak not found\n",
      "    Range : 188352 ... 202852 =    753.408 ...   811.408 secs\n",
      "Ready.\n",
      "Reading 0 ... 14500  =      0.000 ...    58.000 secs...\n",
      "Opening raw data file D:/Utilisateur/SPierre-Eloy/Documents/Informatique/Brail/In-HousePOC3/in_housepoc3/data/Lemon_PreDict\\sub-032302\\sub-032302_EC8_eeg.fif...\n"
     ]
    },
    {
     "name": "stderr",
     "output_type": "stream",
     "text": [
      "<ipython-input-20-44e113f5a598>:14: FutureWarning: The frame.append method is deprecated and will be removed from pandas in a future version. Use pandas.concat instead.\n",
      "  df = df.append({\"data\": rawpd, \"age\": int(mlab[:2])+2.5}, ignore_index=True)\n",
      "<ipython-input-20-44e113f5a598>:14: FutureWarning: The frame.append method is deprecated and will be removed from pandas in a future version. Use pandas.concat instead.\n",
      "  df = df.append({\"data\": rawpd, \"age\": int(mlab[:2])+2.5}, ignore_index=True)\n",
      "<ipython-input-20-44e113f5a598>:14: FutureWarning: The frame.append method is deprecated and will be removed from pandas in a future version. Use pandas.concat instead.\n",
      "  df = df.append({\"data\": rawpd, \"age\": int(mlab[:2])+2.5}, ignore_index=True)\n",
      "<ipython-input-20-44e113f5a598>:14: FutureWarning: The frame.append method is deprecated and will be removed from pandas in a future version. Use pandas.concat instead.\n",
      "  df = df.append({\"data\": rawpd, \"age\": int(mlab[:2])+2.5}, ignore_index=True)\n",
      "<ipython-input-20-44e113f5a598>:14: FutureWarning: The frame.append method is deprecated and will be removed from pandas in a future version. Use pandas.concat instead.\n",
      "  df = df.append({\"data\": rawpd, \"age\": int(mlab[:2])+2.5}, ignore_index=True)\n",
      "<ipython-input-20-44e113f5a598>:14: FutureWarning: The frame.append method is deprecated and will be removed from pandas in a future version. Use pandas.concat instead.\n",
      "  df = df.append({\"data\": rawpd, \"age\": int(mlab[:2])+2.5}, ignore_index=True)\n"
     ]
    },
    {
     "name": "stdout",
     "output_type": "stream",
     "text": [
      "Isotrak not found\n",
      "    Range : 219253 ... 233753 =    877.012 ...   935.012 secs\n",
      "Ready.\n",
      "Reading 0 ... 14500  =      0.000 ...    58.000 secs...\n",
      "Opening raw data file D:/Utilisateur/SPierre-Eloy/Documents/Informatique/Brail/In-HousePOC3/in_housepoc3/data/Lemon_PreDict\\sub-032302\\sub-032302_EO1_eeg.fif...\n",
      "Isotrak not found\n",
      "    Range : 18735 ... 33235 =     74.940 ...   132.940 secs\n",
      "Ready.\n",
      "Reading 0 ... 14500  =      0.000 ...    58.000 secs...\n",
      "Opening raw data file D:/Utilisateur/SPierre-Eloy/Documents/Informatique/Brail/In-HousePOC3/in_housepoc3/data/Lemon_PreDict\\sub-032302\\sub-032302_EO2_eeg.fif...\n",
      "Isotrak not found\n",
      "    Range : 49605 ... 64105 =    198.420 ...   256.420 secs\n",
      "Ready.\n",
      "Reading 0 ... 14500  =      0.000 ...    58.000 secs...\n",
      "Opening raw data file D:/Utilisateur/SPierre-Eloy/Documents/Informatique/Brail/In-HousePOC3/in_housepoc3/data/Lemon_PreDict\\sub-032302\\sub-032302_EO3_eeg.fif...\n",
      "Isotrak not found\n",
      "    Range : 80524 ... 95024 =    322.096 ...   380.096 secs\n",
      "Ready.\n",
      "Reading 0 ... 14500  =      0.000 ...    58.000 secs...\n",
      "Opening raw data file D:/Utilisateur/SPierre-Eloy/Documents/Informatique/Brail/In-HousePOC3/in_housepoc3/data/Lemon_PreDict\\sub-032302\\sub-032302_EO4_eeg.fif...\n",
      "Isotrak not found\n",
      "    Range : 111344 ... 125844 =    445.376 ...   503.376 secs\n",
      "Ready.\n",
      "Reading 0 ... 14500  =      0.000 ...    58.000 secs...\n",
      "Opening raw data file D:/Utilisateur/SPierre-Eloy/Documents/Informatique/Brail/In-HousePOC3/in_housepoc3/data/Lemon_PreDict\\sub-032302\\sub-032302_EO5_eeg.fif...\n",
      "Isotrak not found\n",
      "    Range : 141817 ... 156317 =    567.268 ...   625.268 secs\n",
      "Ready.\n",
      "Reading 0 ... 14500  =      0.000 ...    58.000 secs...\n",
      "Opening raw data file D:/Utilisateur/SPierre-Eloy/Documents/Informatique/Brail/In-HousePOC3/in_housepoc3/data/Lemon_PreDict\\sub-032302\\sub-032302_EO6_eeg.fif...\n"
     ]
    },
    {
     "name": "stderr",
     "output_type": "stream",
     "text": [
      "<ipython-input-20-44e113f5a598>:14: FutureWarning: The frame.append method is deprecated and will be removed from pandas in a future version. Use pandas.concat instead.\n",
      "  df = df.append({\"data\": rawpd, \"age\": int(mlab[:2])+2.5}, ignore_index=True)\n",
      "<ipython-input-20-44e113f5a598>:14: FutureWarning: The frame.append method is deprecated and will be removed from pandas in a future version. Use pandas.concat instead.\n",
      "  df = df.append({\"data\": rawpd, \"age\": int(mlab[:2])+2.5}, ignore_index=True)\n",
      "<ipython-input-20-44e113f5a598>:14: FutureWarning: The frame.append method is deprecated and will be removed from pandas in a future version. Use pandas.concat instead.\n",
      "  df = df.append({\"data\": rawpd, \"age\": int(mlab[:2])+2.5}, ignore_index=True)\n",
      "<ipython-input-20-44e113f5a598>:14: FutureWarning: The frame.append method is deprecated and will be removed from pandas in a future version. Use pandas.concat instead.\n",
      "  df = df.append({\"data\": rawpd, \"age\": int(mlab[:2])+2.5}, ignore_index=True)\n",
      "<ipython-input-20-44e113f5a598>:14: FutureWarning: The frame.append method is deprecated and will be removed from pandas in a future version. Use pandas.concat instead.\n",
      "  df = df.append({\"data\": rawpd, \"age\": int(mlab[:2])+2.5}, ignore_index=True)\n",
      "<ipython-input-20-44e113f5a598>:14: FutureWarning: The frame.append method is deprecated and will be removed from pandas in a future version. Use pandas.concat instead.\n",
      "  df = df.append({\"data\": rawpd, \"age\": int(mlab[:2])+2.5}, ignore_index=True)\n"
     ]
    },
    {
     "name": "stdout",
     "output_type": "stream",
     "text": [
      "Isotrak not found\n",
      "    Range : 172713 ... 187213 =    690.852 ...   748.852 secs\n",
      "Ready.\n",
      "Reading 0 ... 14500  =      0.000 ...    58.000 secs...\n",
      "Opening raw data file D:/Utilisateur/SPierre-Eloy/Documents/Informatique/Brail/In-HousePOC3/in_housepoc3/data/Lemon_PreDict\\sub-032302\\sub-032302_EO7_eeg.fif...\n",
      "Isotrak not found\n",
      "    Range : 203975 ... 218475 =    815.900 ...   873.900 secs\n",
      "Ready.\n",
      "Reading 0 ... 14500  =      0.000 ...    58.000 secs...\n",
      "Opening raw data file D:/Utilisateur/SPierre-Eloy/Documents/Informatique/Brail/In-HousePOC3/in_housepoc3/data/Lemon_PreDict\\sub-032302\\sub-032302_EO8_eeg.fif...\n",
      "Isotrak not found\n",
      "    Range : 234700 ... 249200 =    938.800 ...   996.800 secs\n",
      "Ready.\n",
      "Reading 0 ... 14500  =      0.000 ...    58.000 secs...\n",
      "Opening raw data file D:/Utilisateur/SPierre-Eloy/Documents/Informatique/Brail/In-HousePOC3/in_housepoc3/data/Lemon_PreDict\\sub-032303\\sub-032303_EC1_eeg.fif...\n",
      "Isotrak not found\n",
      "    Range : 2593 ... 17093 =     10.372 ...    68.372 secs\n",
      "Ready.\n",
      "Reading 0 ... 14500  =      0.000 ...    58.000 secs...\n",
      "Opening raw data file D:/Utilisateur/SPierre-Eloy/Documents/Informatique/Brail/In-HousePOC3/in_housepoc3/data/Lemon_PreDict\\sub-032303\\sub-032303_EC2_eeg.fif...\n",
      "Isotrak not found\n",
      "    Range : 33939 ... 48440 =    135.756 ...   193.760 secs\n",
      "Ready.\n",
      "Reading 0 ... 14501  =      0.000 ...    58.004 secs...\n",
      "Opening raw data file D:/Utilisateur/SPierre-Eloy/Documents/Informatique/Brail/In-HousePOC3/in_housepoc3/data/Lemon_PreDict\\sub-032303\\sub-032303_EC3_eeg.fif...\n",
      "Isotrak not found\n",
      "    Range : 65269 ... 79769 =    261.076 ...   319.076 secs\n",
      "Ready.\n",
      "Reading 0 ... 14500  =      0.000 ...    58.000 secs...\n",
      "Opening raw data file D:/Utilisateur/SPierre-Eloy/Documents/Informatique/Brail/In-HousePOC3/in_housepoc3/data/Lemon_PreDict\\sub-032303\\sub-032303_EC4_eeg.fif...\n"
     ]
    },
    {
     "name": "stderr",
     "output_type": "stream",
     "text": [
      "<ipython-input-20-44e113f5a598>:14: FutureWarning: The frame.append method is deprecated and will be removed from pandas in a future version. Use pandas.concat instead.\n",
      "  df = df.append({\"data\": rawpd, \"age\": int(mlab[:2])+2.5}, ignore_index=True)\n",
      "<ipython-input-20-44e113f5a598>:14: FutureWarning: The frame.append method is deprecated and will be removed from pandas in a future version. Use pandas.concat instead.\n",
      "  df = df.append({\"data\": rawpd, \"age\": int(mlab[:2])+2.5}, ignore_index=True)\n",
      "<ipython-input-20-44e113f5a598>:14: FutureWarning: The frame.append method is deprecated and will be removed from pandas in a future version. Use pandas.concat instead.\n",
      "  df = df.append({\"data\": rawpd, \"age\": int(mlab[:2])+2.5}, ignore_index=True)\n",
      "<ipython-input-20-44e113f5a598>:14: FutureWarning: The frame.append method is deprecated and will be removed from pandas in a future version. Use pandas.concat instead.\n",
      "  df = df.append({\"data\": rawpd, \"age\": int(mlab[:2])+2.5}, ignore_index=True)\n",
      "<ipython-input-20-44e113f5a598>:14: FutureWarning: The frame.append method is deprecated and will be removed from pandas in a future version. Use pandas.concat instead.\n",
      "  df = df.append({\"data\": rawpd, \"age\": int(mlab[:2])+2.5}, ignore_index=True)\n",
      "<ipython-input-20-44e113f5a598>:14: FutureWarning: The frame.append method is deprecated and will be removed from pandas in a future version. Use pandas.concat instead.\n",
      "  df = df.append({\"data\": rawpd, \"age\": int(mlab[:2])+2.5}, ignore_index=True)\n"
     ]
    },
    {
     "name": "stdout",
     "output_type": "stream",
     "text": [
      "Isotrak not found\n",
      "    Range : 96532 ... 111032 =    386.128 ...   444.128 secs\n",
      "Ready.\n",
      "Reading 0 ... 14500  =      0.000 ...    58.000 secs...\n",
      "Opening raw data file D:/Utilisateur/SPierre-Eloy/Documents/Informatique/Brail/In-HousePOC3/in_housepoc3/data/Lemon_PreDict\\sub-032303\\sub-032303_EC5_eeg.fif...\n",
      "Isotrak not found\n",
      "    Range : 127592 ... 142092 =    510.368 ...   568.368 secs\n",
      "Ready.\n",
      "Reading 0 ... 14500  =      0.000 ...    58.000 secs...\n",
      "Opening raw data file D:/Utilisateur/SPierre-Eloy/Documents/Informatique/Brail/In-HousePOC3/in_housepoc3/data/Lemon_PreDict\\sub-032303\\sub-032303_EC6_eeg.fif...\n",
      "Isotrak not found\n",
      "    Range : 158868 ... 173368 =    635.472 ...   693.472 secs\n",
      "Ready.\n",
      "Reading 0 ... 14500  =      0.000 ...    58.000 secs...\n",
      "Opening raw data file D:/Utilisateur/SPierre-Eloy/Documents/Informatique/Brail/In-HousePOC3/in_housepoc3/data/Lemon_PreDict\\sub-032303\\sub-032303_EC7_eeg.fif...\n",
      "Isotrak not found\n",
      "    Range : 189913 ... 204413 =    759.652 ...   817.652 secs\n",
      "Ready.\n",
      "Reading 0 ... 14500  =      0.000 ...    58.000 secs...\n",
      "Opening raw data file D:/Utilisateur/SPierre-Eloy/Documents/Informatique/Brail/In-HousePOC3/in_housepoc3/data/Lemon_PreDict\\sub-032303\\sub-032303_EC8_eeg.fif...\n",
      "Isotrak not found\n",
      "    Range : 224028 ... 238528 =    896.112 ...   954.112 secs\n",
      "Ready.\n",
      "Reading 0 ... 14500  =      0.000 ...    58.000 secs...\n",
      "Opening raw data file D:/Utilisateur/SPierre-Eloy/Documents/Informatique/Brail/In-HousePOC3/in_housepoc3/data/Lemon_PreDict\\sub-032303\\sub-032303_EO1_eeg.fif...\n",
      "Isotrak not found\n",
      "    Range : 18224 ... 32724 =     72.896 ...   130.896 secs\n",
      "Ready.\n",
      "Reading 0 ... 14500  =      0.000 ...    58.000 secs...\n"
     ]
    },
    {
     "name": "stderr",
     "output_type": "stream",
     "text": [
      "<ipython-input-20-44e113f5a598>:14: FutureWarning: The frame.append method is deprecated and will be removed from pandas in a future version. Use pandas.concat instead.\n",
      "  df = df.append({\"data\": rawpd, \"age\": int(mlab[:2])+2.5}, ignore_index=True)\n",
      "<ipython-input-20-44e113f5a598>:14: FutureWarning: The frame.append method is deprecated and will be removed from pandas in a future version. Use pandas.concat instead.\n",
      "  df = df.append({\"data\": rawpd, \"age\": int(mlab[:2])+2.5}, ignore_index=True)\n",
      "<ipython-input-20-44e113f5a598>:14: FutureWarning: The frame.append method is deprecated and will be removed from pandas in a future version. Use pandas.concat instead.\n",
      "  df = df.append({\"data\": rawpd, \"age\": int(mlab[:2])+2.5}, ignore_index=True)\n",
      "<ipython-input-20-44e113f5a598>:14: FutureWarning: The frame.append method is deprecated and will be removed from pandas in a future version. Use pandas.concat instead.\n",
      "  df = df.append({\"data\": rawpd, \"age\": int(mlab[:2])+2.5}, ignore_index=True)\n",
      "<ipython-input-20-44e113f5a598>:14: FutureWarning: The frame.append method is deprecated and will be removed from pandas in a future version. Use pandas.concat instead.\n",
      "  df = df.append({\"data\": rawpd, \"age\": int(mlab[:2])+2.5}, ignore_index=True)\n"
     ]
    },
    {
     "name": "stdout",
     "output_type": "stream",
     "text": [
      "Opening raw data file D:/Utilisateur/SPierre-Eloy/Documents/Informatique/Brail/In-HousePOC3/in_housepoc3/data/Lemon_PreDict\\sub-032303\\sub-032303_EO2_eeg.fif...\n",
      "Isotrak not found\n",
      "    Range : 49609 ... 64109 =    198.436 ...   256.436 secs\n",
      "Ready.\n",
      "Reading 0 ... 14500  =      0.000 ...    58.000 secs...\n",
      "Opening raw data file D:/Utilisateur/SPierre-Eloy/Documents/Informatique/Brail/In-HousePOC3/in_housepoc3/data/Lemon_PreDict\\sub-032303\\sub-032303_EO3_eeg.fif...\n",
      "Isotrak not found\n",
      "    Range : 80877 ... 95377 =    323.508 ...   381.508 secs\n",
      "Ready.\n",
      "Reading 0 ... 14500  =      0.000 ...    58.000 secs...\n",
      "Opening raw data file D:/Utilisateur/SPierre-Eloy/Documents/Informatique/Brail/In-HousePOC3/in_housepoc3/data/Lemon_PreDict\\sub-032303\\sub-032303_EO4_eeg.fif...\n",
      "Isotrak not found\n",
      "    Range : 112126 ... 126627 =    448.504 ...   506.508 secs\n",
      "Ready.\n",
      "Reading 0 ... 14501  =      0.000 ...    58.004 secs...\n",
      "Opening raw data file D:/Utilisateur/SPierre-Eloy/Documents/Informatique/Brail/In-HousePOC3/in_housepoc3/data/Lemon_PreDict\\sub-032303\\sub-032303_EO5_eeg.fif...\n",
      "Isotrak not found\n",
      "    Range : 143098 ... 157598 =    572.392 ...   630.392 secs\n",
      "Ready.\n",
      "Reading 0 ... 14500  =      0.000 ...    58.000 secs...\n",
      "Opening raw data file D:/Utilisateur/SPierre-Eloy/Documents/Informatique/Brail/In-HousePOC3/in_housepoc3/data/Lemon_PreDict\\sub-032303\\sub-032303_EO6_eeg.fif...\n",
      "Isotrak not found\n",
      "    Range : 174373 ... 188873 =    697.492 ...   755.492 secs\n",
      "Ready.\n",
      "Reading 0 ... 14500  =      0.000 ...    58.000 secs...\n"
     ]
    },
    {
     "name": "stderr",
     "output_type": "stream",
     "text": [
      "<ipython-input-20-44e113f5a598>:14: FutureWarning: The frame.append method is deprecated and will be removed from pandas in a future version. Use pandas.concat instead.\n",
      "  df = df.append({\"data\": rawpd, \"age\": int(mlab[:2])+2.5}, ignore_index=True)\n",
      "<ipython-input-20-44e113f5a598>:14: FutureWarning: The frame.append method is deprecated and will be removed from pandas in a future version. Use pandas.concat instead.\n",
      "  df = df.append({\"data\": rawpd, \"age\": int(mlab[:2])+2.5}, ignore_index=True)\n",
      "<ipython-input-20-44e113f5a598>:14: FutureWarning: The frame.append method is deprecated and will be removed from pandas in a future version. Use pandas.concat instead.\n",
      "  df = df.append({\"data\": rawpd, \"age\": int(mlab[:2])+2.5}, ignore_index=True)\n",
      "<ipython-input-20-44e113f5a598>:14: FutureWarning: The frame.append method is deprecated and will be removed from pandas in a future version. Use pandas.concat instead.\n",
      "  df = df.append({\"data\": rawpd, \"age\": int(mlab[:2])+2.5}, ignore_index=True)\n",
      "<ipython-input-20-44e113f5a598>:14: FutureWarning: The frame.append method is deprecated and will be removed from pandas in a future version. Use pandas.concat instead.\n",
      "  df = df.append({\"data\": rawpd, \"age\": int(mlab[:2])+2.5}, ignore_index=True)\n"
     ]
    },
    {
     "name": "stdout",
     "output_type": "stream",
     "text": [
      "Opening raw data file D:/Utilisateur/SPierre-Eloy/Documents/Informatique/Brail/In-HousePOC3/in_housepoc3/data/Lemon_PreDict\\sub-032303\\sub-032303_EO7_eeg.fif...\n",
      "Isotrak not found\n",
      "    Range : 208582 ... 223082 =    834.328 ...   892.328 secs\n",
      "Ready.\n",
      "Reading 0 ... 14500  =      0.000 ...    58.000 secs...\n",
      "Opening raw data file D:/Utilisateur/SPierre-Eloy/Documents/Informatique/Brail/In-HousePOC3/in_housepoc3/data/Lemon_PreDict\\sub-032303\\sub-032303_EO8_eeg.fif...\n",
      "Isotrak not found\n",
      "    Range : 239549 ... 254050 =    958.196 ...  1016.200 secs\n",
      "Ready.\n",
      "Reading 0 ... 14501  =      0.000 ...    58.004 secs...\n",
      "Opening raw data file D:/Utilisateur/SPierre-Eloy/Documents/Informatique/Brail/In-HousePOC3/in_housepoc3/data/Lemon_PreDict\\sub-032304\\sub-032304_EC1_eeg.fif...\n",
      "Isotrak not found\n",
      "    Range : 2136 ... 16636 =      8.544 ...    66.544 secs\n",
      "Ready.\n",
      "Reading 0 ... 14500  =      0.000 ...    58.000 secs...\n",
      "Opening raw data file D:/Utilisateur/SPierre-Eloy/Documents/Informatique/Brail/In-HousePOC3/in_housepoc3/data/Lemon_PreDict\\sub-032304\\sub-032304_EC2_eeg.fif...\n",
      "Isotrak not found\n",
      "    Range : 33101 ... 47602 =    132.404 ...   190.408 secs\n",
      "Ready.\n",
      "Reading 0 ... 14501  =      0.000 ...    58.004 secs...\n",
      "Opening raw data file D:/Utilisateur/SPierre-Eloy/Documents/Informatique/Brail/In-HousePOC3/in_housepoc3/data/Lemon_PreDict\\sub-032304\\sub-032304_EC3_eeg.fif...\n",
      "Isotrak not found\n",
      "    Range : 66868 ... 81369 =    267.472 ...   325.476 secs\n",
      "Ready.\n",
      "Reading 0 ... 14501  =      0.000 ...    58.004 secs...\n",
      "Opening raw data file D:/Utilisateur/SPierre-Eloy/Documents/Informatique/Brail/In-HousePOC3/in_housepoc3/data/Lemon_PreDict\\sub-032304\\sub-032304_EC4_eeg.fif...\n"
     ]
    },
    {
     "name": "stderr",
     "output_type": "stream",
     "text": [
      "<ipython-input-20-44e113f5a598>:14: FutureWarning: The frame.append method is deprecated and will be removed from pandas in a future version. Use pandas.concat instead.\n",
      "  df = df.append({\"data\": rawpd, \"age\": int(mlab[:2])+2.5}, ignore_index=True)\n",
      "<ipython-input-20-44e113f5a598>:14: FutureWarning: The frame.append method is deprecated and will be removed from pandas in a future version. Use pandas.concat instead.\n",
      "  df = df.append({\"data\": rawpd, \"age\": int(mlab[:2])+2.5}, ignore_index=True)\n",
      "<ipython-input-20-44e113f5a598>:14: FutureWarning: The frame.append method is deprecated and will be removed from pandas in a future version. Use pandas.concat instead.\n",
      "  df = df.append({\"data\": rawpd, \"age\": int(mlab[:2])+2.5}, ignore_index=True)\n",
      "<ipython-input-20-44e113f5a598>:14: FutureWarning: The frame.append method is deprecated and will be removed from pandas in a future version. Use pandas.concat instead.\n",
      "  df = df.append({\"data\": rawpd, \"age\": int(mlab[:2])+2.5}, ignore_index=True)\n",
      "<ipython-input-20-44e113f5a598>:14: FutureWarning: The frame.append method is deprecated and will be removed from pandas in a future version. Use pandas.concat instead.\n",
      "  df = df.append({\"data\": rawpd, \"age\": int(mlab[:2])+2.5}, ignore_index=True)\n",
      "<ipython-input-20-44e113f5a598>:14: FutureWarning: The frame.append method is deprecated and will be removed from pandas in a future version. Use pandas.concat instead.\n",
      "  df = df.append({\"data\": rawpd, \"age\": int(mlab[:2])+2.5}, ignore_index=True)\n"
     ]
    },
    {
     "name": "stdout",
     "output_type": "stream",
     "text": [
      "Isotrak not found\n",
      "    Range : 98876 ... 113376 =    395.504 ...   453.504 secs\n",
      "Ready.\n",
      "Reading 0 ... 14500  =      0.000 ...    58.000 secs...\n",
      "Opening raw data file D:/Utilisateur/SPierre-Eloy/Documents/Informatique/Brail/In-HousePOC3/in_housepoc3/data/Lemon_PreDict\\sub-032304\\sub-032304_EC5_eeg.fif...\n",
      "Isotrak not found\n",
      "    Range : 137945 ... 152445 =    551.780 ...   609.780 secs\n",
      "Ready.\n",
      "Reading 0 ... 14500  =      0.000 ...    58.000 secs...\n",
      "Opening raw data file D:/Utilisateur/SPierre-Eloy/Documents/Informatique/Brail/In-HousePOC3/in_housepoc3/data/Lemon_PreDict\\sub-032304\\sub-032304_EC6_eeg.fif...\n",
      "Isotrak not found\n",
      "    Range : 170607 ... 185107 =    682.428 ...   740.428 secs\n",
      "Ready.\n",
      "Reading 0 ... 14500  =      0.000 ...    58.000 secs...\n",
      "Opening raw data file D:/Utilisateur/SPierre-Eloy/Documents/Informatique/Brail/In-HousePOC3/in_housepoc3/data/Lemon_PreDict\\sub-032304\\sub-032304_EC7_eeg.fif...\n",
      "Isotrak not found\n",
      "    Range : 210062 ... 224562 =    840.248 ...   898.248 secs\n",
      "Ready.\n",
      "Reading 0 ... 14500  =      0.000 ...    58.000 secs...\n",
      "Opening raw data file D:/Utilisateur/SPierre-Eloy/Documents/Informatique/Brail/In-HousePOC3/in_housepoc3/data/Lemon_PreDict\\sub-032304\\sub-032304_EC8_eeg.fif...\n",
      "Isotrak not found\n",
      "    Range : 241606 ... 256106 =    966.424 ...  1024.424 secs\n",
      "Ready.\n",
      "Reading 0 ... 14500  =      0.000 ...    58.000 secs...\n",
      "Opening raw data file D:/Utilisateur/SPierre-Eloy/Documents/Informatique/Brail/In-HousePOC3/in_housepoc3/data/Lemon_PreDict\\sub-032304\\sub-032304_EO1_eeg.fif...\n",
      "Isotrak not found\n",
      "    Range : 17698 ... 32198 =     70.792 ...   128.792 secs\n",
      "Ready.\n",
      "Reading 0 ... 14500  =      0.000 ...    58.000 secs...\n",
      "Opening raw data file D:/Utilisateur/SPierre-Eloy/Documents/Informatique/Brail/In-HousePOC3/in_housepoc3/data/Lemon_PreDict\\sub-032304\\sub-032304_EO2_eeg.fif...\n"
     ]
    },
    {
     "name": "stderr",
     "output_type": "stream",
     "text": [
      "<ipython-input-20-44e113f5a598>:14: FutureWarning: The frame.append method is deprecated and will be removed from pandas in a future version. Use pandas.concat instead.\n",
      "  df = df.append({\"data\": rawpd, \"age\": int(mlab[:2])+2.5}, ignore_index=True)\n",
      "<ipython-input-20-44e113f5a598>:14: FutureWarning: The frame.append method is deprecated and will be removed from pandas in a future version. Use pandas.concat instead.\n",
      "  df = df.append({\"data\": rawpd, \"age\": int(mlab[:2])+2.5}, ignore_index=True)\n",
      "<ipython-input-20-44e113f5a598>:14: FutureWarning: The frame.append method is deprecated and will be removed from pandas in a future version. Use pandas.concat instead.\n",
      "  df = df.append({\"data\": rawpd, \"age\": int(mlab[:2])+2.5}, ignore_index=True)\n",
      "<ipython-input-20-44e113f5a598>:14: FutureWarning: The frame.append method is deprecated and will be removed from pandas in a future version. Use pandas.concat instead.\n",
      "  df = df.append({\"data\": rawpd, \"age\": int(mlab[:2])+2.5}, ignore_index=True)\n",
      "<ipython-input-20-44e113f5a598>:14: FutureWarning: The frame.append method is deprecated and will be removed from pandas in a future version. Use pandas.concat instead.\n",
      "  df = df.append({\"data\": rawpd, \"age\": int(mlab[:2])+2.5}, ignore_index=True)\n",
      "<ipython-input-20-44e113f5a598>:14: FutureWarning: The frame.append method is deprecated and will be removed from pandas in a future version. Use pandas.concat instead.\n",
      "  df = df.append({\"data\": rawpd, \"age\": int(mlab[:2])+2.5}, ignore_index=True)\n"
     ]
    },
    {
     "name": "stdout",
     "output_type": "stream",
     "text": [
      "Isotrak not found\n",
      "    Range : 48826 ... 63327 =    195.304 ...   253.308 secs\n",
      "Ready.\n",
      "Reading 0 ... 14501  =      0.000 ...    58.004 secs...\n",
      "Opening raw data file D:/Utilisateur/SPierre-Eloy/Documents/Informatique/Brail/In-HousePOC3/in_housepoc3/data/Lemon_PreDict\\sub-032304\\sub-032304_EO3_eeg.fif...\n",
      "Isotrak not found\n",
      "    Range : 82479 ... 96980 =    329.916 ...   387.920 secs\n",
      "Ready.\n",
      "Reading 0 ... 14501  =      0.000 ...    58.004 secs...\n",
      "Opening raw data file D:/Utilisateur/SPierre-Eloy/Documents/Informatique/Brail/In-HousePOC3/in_housepoc3/data/Lemon_PreDict\\sub-032304\\sub-032304_EO4_eeg.fif...\n",
      "Isotrak not found\n",
      "    Range : 115264 ... 129764 =    461.056 ...   519.056 secs\n",
      "Ready.\n",
      "Reading 0 ... 14500  =      0.000 ...    58.000 secs...\n",
      "Opening raw data file D:/Utilisateur/SPierre-Eloy/Documents/Informatique/Brail/In-HousePOC3/in_housepoc3/data/Lemon_PreDict\\sub-032304\\sub-032304_EO5_eeg.fif...\n",
      "Isotrak not found\n",
      "    Range : 155022 ... 169523 =    620.088 ...   678.092 secs\n",
      "Ready.\n",
      "Reading 0 ... 14501  =      0.000 ...    58.004 secs...\n",
      "Opening raw data file D:/Utilisateur/SPierre-Eloy/Documents/Informatique/Brail/In-HousePOC3/in_housepoc3/data/Lemon_PreDict\\sub-032304\\sub-032304_EO6_eeg.fif...\n",
      "Isotrak not found\n",
      "    Range : 192102 ... 206602 =    768.408 ...   826.408 secs\n",
      "Ready.\n",
      "Reading 0 ... 14500  =      0.000 ...    58.000 secs...\n",
      "Opening raw data file D:/Utilisateur/SPierre-Eloy/Documents/Informatique/Brail/In-HousePOC3/in_housepoc3/data/Lemon_PreDict\\sub-032304\\sub-032304_EO7_eeg.fif...\n",
      "Isotrak not found\n",
      "    Range : 225612 ... 240112 =    902.448 ...   960.448 secs\n",
      "Ready.\n",
      "Reading 0 ... 14500  =      0.000 ...    58.000 secs...\n",
      "Opening raw data file D:/Utilisateur/SPierre-Eloy/Documents/Informatique/Brail/In-HousePOC3/in_housepoc3/data/Lemon_PreDict\\sub-032304\\sub-032304_EO8_eeg.fif...\n"
     ]
    },
    {
     "name": "stderr",
     "output_type": "stream",
     "text": [
      "<ipython-input-20-44e113f5a598>:14: FutureWarning: The frame.append method is deprecated and will be removed from pandas in a future version. Use pandas.concat instead.\n",
      "  df = df.append({\"data\": rawpd, \"age\": int(mlab[:2])+2.5}, ignore_index=True)\n",
      "<ipython-input-20-44e113f5a598>:14: FutureWarning: The frame.append method is deprecated and will be removed from pandas in a future version. Use pandas.concat instead.\n",
      "  df = df.append({\"data\": rawpd, \"age\": int(mlab[:2])+2.5}, ignore_index=True)\n",
      "<ipython-input-20-44e113f5a598>:14: FutureWarning: The frame.append method is deprecated and will be removed from pandas in a future version. Use pandas.concat instead.\n",
      "  df = df.append({\"data\": rawpd, \"age\": int(mlab[:2])+2.5}, ignore_index=True)\n",
      "<ipython-input-20-44e113f5a598>:14: FutureWarning: The frame.append method is deprecated and will be removed from pandas in a future version. Use pandas.concat instead.\n",
      "  df = df.append({\"data\": rawpd, \"age\": int(mlab[:2])+2.5}, ignore_index=True)\n",
      "<ipython-input-20-44e113f5a598>:14: FutureWarning: The frame.append method is deprecated and will be removed from pandas in a future version. Use pandas.concat instead.\n",
      "  df = df.append({\"data\": rawpd, \"age\": int(mlab[:2])+2.5}, ignore_index=True)\n",
      "<ipython-input-20-44e113f5a598>:14: FutureWarning: The frame.append method is deprecated and will be removed from pandas in a future version. Use pandas.concat instead.\n",
      "  df = df.append({\"data\": rawpd, \"age\": int(mlab[:2])+2.5}, ignore_index=True)\n"
     ]
    },
    {
     "name": "stdout",
     "output_type": "stream",
     "text": [
      "Isotrak not found\n",
      "    Range : 257146 ... 271646 =   1028.584 ...  1086.584 secs\n",
      "Ready.\n",
      "Reading 0 ... 14500  =      0.000 ...    58.000 secs...\n",
      "Opening raw data file D:/Utilisateur/SPierre-Eloy/Documents/Informatique/Brail/In-HousePOC3/in_housepoc3/data/Lemon_PreDict\\sub-032305\\sub-032305_EC1_eeg.fif...\n",
      "Isotrak not found\n",
      "    Range : 1599 ... 16100 =      6.396 ...    64.400 secs\n",
      "Ready.\n",
      "Reading 0 ... 14501  =      0.000 ...    58.004 secs...\n",
      "Opening raw data file D:/Utilisateur/SPierre-Eloy/Documents/Informatique/Brail/In-HousePOC3/in_housepoc3/data/Lemon_PreDict\\sub-032305\\sub-032305_EC2_eeg.fif...\n",
      "Isotrak not found\n",
      "    Range : 32608 ... 47108 =    130.432 ...   188.432 secs\n",
      "Ready.\n",
      "Reading 0 ... 14500  =      0.000 ...    58.000 secs...\n",
      "Opening raw data file D:/Utilisateur/SPierre-Eloy/Documents/Informatique/Brail/In-HousePOC3/in_housepoc3/data/Lemon_PreDict\\sub-032305\\sub-032305_EC3_eeg.fif...\n",
      "Isotrak not found\n",
      "    Range : 63766 ... 78266 =    255.064 ...   313.064 secs\n",
      "Ready.\n",
      "Reading 0 ... 14500  =      0.000 ...    58.000 secs...\n",
      "Opening raw data file D:/Utilisateur/SPierre-Eloy/Documents/Informatique/Brail/In-HousePOC3/in_housepoc3/data/Lemon_PreDict\\sub-032305\\sub-032305_EC4_eeg.fif...\n",
      "Isotrak not found\n",
      "    Range : 95006 ... 109506 =    380.024 ...   438.024 secs\n",
      "Ready.\n",
      "Reading 0 ... 14500  =      0.000 ...    58.000 secs...\n",
      "Opening raw data file D:/Utilisateur/SPierre-Eloy/Documents/Informatique/Brail/In-HousePOC3/in_housepoc3/data/Lemon_PreDict\\sub-032305\\sub-032305_EC5_eeg.fif...\n",
      "Isotrak not found\n",
      "    Range : 127752 ... 142252 =    511.008 ...   569.008 secs\n",
      "Ready.\n",
      "Reading 0 ... 14500  =      0.000 ...    58.000 secs...\n",
      "Opening raw data file D:/Utilisateur/SPierre-Eloy/Documents/Informatique/Brail/In-HousePOC3/in_housepoc3/data/Lemon_PreDict\\sub-032305\\sub-032305_EC6_eeg.fif...\n"
     ]
    },
    {
     "name": "stderr",
     "output_type": "stream",
     "text": [
      "<ipython-input-20-44e113f5a598>:14: FutureWarning: The frame.append method is deprecated and will be removed from pandas in a future version. Use pandas.concat instead.\n",
      "  df = df.append({\"data\": rawpd, \"age\": int(mlab[:2])+2.5}, ignore_index=True)\n",
      "<ipython-input-20-44e113f5a598>:14: FutureWarning: The frame.append method is deprecated and will be removed from pandas in a future version. Use pandas.concat instead.\n",
      "  df = df.append({\"data\": rawpd, \"age\": int(mlab[:2])+2.5}, ignore_index=True)\n",
      "<ipython-input-20-44e113f5a598>:14: FutureWarning: The frame.append method is deprecated and will be removed from pandas in a future version. Use pandas.concat instead.\n",
      "  df = df.append({\"data\": rawpd, \"age\": int(mlab[:2])+2.5}, ignore_index=True)\n",
      "<ipython-input-20-44e113f5a598>:14: FutureWarning: The frame.append method is deprecated and will be removed from pandas in a future version. Use pandas.concat instead.\n",
      "  df = df.append({\"data\": rawpd, \"age\": int(mlab[:2])+2.5}, ignore_index=True)\n",
      "<ipython-input-20-44e113f5a598>:14: FutureWarning: The frame.append method is deprecated and will be removed from pandas in a future version. Use pandas.concat instead.\n",
      "  df = df.append({\"data\": rawpd, \"age\": int(mlab[:2])+2.5}, ignore_index=True)\n",
      "<ipython-input-20-44e113f5a598>:14: FutureWarning: The frame.append method is deprecated and will be removed from pandas in a future version. Use pandas.concat instead.\n",
      "  df = df.append({\"data\": rawpd, \"age\": int(mlab[:2])+2.5}, ignore_index=True)\n"
     ]
    },
    {
     "name": "stdout",
     "output_type": "stream",
     "text": [
      "Isotrak not found\n",
      "    Range : 158643 ... 173144 =    634.572 ...   692.576 secs\n",
      "Ready.\n",
      "Reading 0 ... 14501  =      0.000 ...    58.004 secs...\n",
      "Opening raw data file D:/Utilisateur/SPierre-Eloy/Documents/Informatique/Brail/In-HousePOC3/in_housepoc3/data/Lemon_PreDict\\sub-032305\\sub-032305_EC7_eeg.fif...\n",
      "Isotrak not found\n",
      "    Range : 189645 ... 204145 =    758.580 ...   816.580 secs\n",
      "Ready.\n",
      "Reading 0 ... 14500  =      0.000 ...    58.000 secs...\n",
      "Opening raw data file D:/Utilisateur/SPierre-Eloy/Documents/Informatique/Brail/In-HousePOC3/in_housepoc3/data/Lemon_PreDict\\sub-032305\\sub-032305_EC8_eeg.fif...\n",
      "Isotrak not found\n",
      "    Range : 220919 ... 235419 =    883.676 ...   941.676 secs\n",
      "Ready.\n",
      "Reading 0 ... 14500  =      0.000 ...    58.000 secs...\n",
      "Opening raw data file D:/Utilisateur/SPierre-Eloy/Documents/Informatique/Brail/In-HousePOC3/in_housepoc3/data/Lemon_PreDict\\sub-032305\\sub-032305_EO1_eeg.fif...\n",
      "Isotrak not found\n",
      "    Range : 17076 ... 31576 =     68.304 ...   126.304 secs\n",
      "Ready.\n",
      "Reading 0 ... 14500  =      0.000 ...    58.000 secs...\n",
      "Opening raw data file D:/Utilisateur/SPierre-Eloy/Documents/Informatique/Brail/In-HousePOC3/in_housepoc3/data/Lemon_PreDict\\sub-032305\\sub-032305_EO2_eeg.fif...\n",
      "Isotrak not found\n",
      "    Range : 48191 ... 62691 =    192.764 ...   250.764 secs\n",
      "Ready.\n",
      "Reading 0 ... 14500  =      0.000 ...    58.000 secs...\n",
      "Opening raw data file D:/Utilisateur/SPierre-Eloy/Documents/Informatique/Brail/In-HousePOC3/in_housepoc3/data/Lemon_PreDict\\sub-032305\\sub-032305_EO3_eeg.fif...\n",
      "Isotrak not found\n",
      "    Range : 79391 ... 93891 =    317.564 ...   375.564 secs\n",
      "Ready.\n",
      "Reading 0 ... 14500  =      0.000 ...    58.000 secs...\n",
      "Opening raw data file D:/Utilisateur/SPierre-Eloy/Documents/Informatique/Brail/In-HousePOC3/in_housepoc3/data/Lemon_PreDict\\sub-032305\\sub-032305_EO4_eeg.fif...\n"
     ]
    },
    {
     "name": "stderr",
     "output_type": "stream",
     "text": [
      "<ipython-input-20-44e113f5a598>:14: FutureWarning: The frame.append method is deprecated and will be removed from pandas in a future version. Use pandas.concat instead.\n",
      "  df = df.append({\"data\": rawpd, \"age\": int(mlab[:2])+2.5}, ignore_index=True)\n",
      "<ipython-input-20-44e113f5a598>:14: FutureWarning: The frame.append method is deprecated and will be removed from pandas in a future version. Use pandas.concat instead.\n",
      "  df = df.append({\"data\": rawpd, \"age\": int(mlab[:2])+2.5}, ignore_index=True)\n",
      "<ipython-input-20-44e113f5a598>:14: FutureWarning: The frame.append method is deprecated and will be removed from pandas in a future version. Use pandas.concat instead.\n",
      "  df = df.append({\"data\": rawpd, \"age\": int(mlab[:2])+2.5}, ignore_index=True)\n",
      "<ipython-input-20-44e113f5a598>:14: FutureWarning: The frame.append method is deprecated and will be removed from pandas in a future version. Use pandas.concat instead.\n",
      "  df = df.append({\"data\": rawpd, \"age\": int(mlab[:2])+2.5}, ignore_index=True)\n",
      "<ipython-input-20-44e113f5a598>:14: FutureWarning: The frame.append method is deprecated and will be removed from pandas in a future version. Use pandas.concat instead.\n",
      "  df = df.append({\"data\": rawpd, \"age\": int(mlab[:2])+2.5}, ignore_index=True)\n",
      "<ipython-input-20-44e113f5a598>:14: FutureWarning: The frame.append method is deprecated and will be removed from pandas in a future version. Use pandas.concat instead.\n",
      "  df = df.append({\"data\": rawpd, \"age\": int(mlab[:2])+2.5}, ignore_index=True)\n"
     ]
    },
    {
     "name": "stdout",
     "output_type": "stream",
     "text": [
      "Isotrak not found\n",
      "    Range : 112223 ... 126724 =    448.892 ...   506.896 secs\n",
      "Ready.\n",
      "Reading 0 ... 14501  =      0.000 ...    58.004 secs...\n",
      "Opening raw data file D:/Utilisateur/SPierre-Eloy/Documents/Informatique/Brail/In-HousePOC3/in_housepoc3/data/Lemon_PreDict\\sub-032305\\sub-032305_EO5_eeg.fif...\n",
      "Isotrak not found\n",
      "    Range : 143160 ... 157660 =    572.640 ...   630.640 secs\n",
      "Ready.\n",
      "Reading 0 ... 14500  =      0.000 ...    58.000 secs...\n",
      "Opening raw data file D:/Utilisateur/SPierre-Eloy/Documents/Informatique/Brail/In-HousePOC3/in_housepoc3/data/Lemon_PreDict\\sub-032305\\sub-032305_EO6_eeg.fif...\n",
      "Isotrak not found\n",
      "    Range : 174143 ... 188643 =    696.572 ...   754.572 secs\n",
      "Ready.\n",
      "Reading 0 ... 14500  =      0.000 ...    58.000 secs...\n",
      "Opening raw data file D:/Utilisateur/SPierre-Eloy/Documents/Informatique/Brail/In-HousePOC3/in_housepoc3/data/Lemon_PreDict\\sub-032305\\sub-032305_EO7_eeg.fif...\n",
      "Isotrak not found\n",
      "    Range : 205134 ... 219635 =    820.536 ...   878.540 secs\n",
      "Ready.\n",
      "Reading 0 ... 14501  =      0.000 ...    58.004 secs...\n",
      "Opening raw data file D:/Utilisateur/SPierre-Eloy/Documents/Informatique/Brail/In-HousePOC3/in_housepoc3/data/Lemon_PreDict\\sub-032305\\sub-032305_EO8_eeg.fif...\n",
      "Isotrak not found\n",
      "    Range : 236397 ... 250897 =    945.588 ...  1003.588 secs\n",
      "Ready.\n",
      "Reading 0 ... 14500  =      0.000 ...    58.000 secs...\n",
      "Opening raw data file D:/Utilisateur/SPierre-Eloy/Documents/Informatique/Brail/In-HousePOC3/in_housepoc3/data/Lemon_PreDict\\sub-032306\\sub-032306_EC1_eeg.fif...\n",
      "Isotrak not found\n",
      "    Range : 1675 ... 16175 =      6.700 ...    64.700 secs\n",
      "Ready.\n",
      "Reading 0 ... 14500  =      0.000 ...    58.000 secs...\n",
      "Opening raw data file D:/Utilisateur/SPierre-Eloy/Documents/Informatique/Brail/In-HousePOC3/in_housepoc3/data/Lemon_PreDict\\sub-032306\\sub-032306_EC2_eeg.fif...\n"
     ]
    },
    {
     "name": "stderr",
     "output_type": "stream",
     "text": [
      "<ipython-input-20-44e113f5a598>:14: FutureWarning: The frame.append method is deprecated and will be removed from pandas in a future version. Use pandas.concat instead.\n",
      "  df = df.append({\"data\": rawpd, \"age\": int(mlab[:2])+2.5}, ignore_index=True)\n",
      "<ipython-input-20-44e113f5a598>:14: FutureWarning: The frame.append method is deprecated and will be removed from pandas in a future version. Use pandas.concat instead.\n",
      "  df = df.append({\"data\": rawpd, \"age\": int(mlab[:2])+2.5}, ignore_index=True)\n",
      "<ipython-input-20-44e113f5a598>:14: FutureWarning: The frame.append method is deprecated and will be removed from pandas in a future version. Use pandas.concat instead.\n",
      "  df = df.append({\"data\": rawpd, \"age\": int(mlab[:2])+2.5}, ignore_index=True)\n",
      "<ipython-input-20-44e113f5a598>:14: FutureWarning: The frame.append method is deprecated and will be removed from pandas in a future version. Use pandas.concat instead.\n",
      "  df = df.append({\"data\": rawpd, \"age\": int(mlab[:2])+2.5}, ignore_index=True)\n",
      "<ipython-input-20-44e113f5a598>:14: FutureWarning: The frame.append method is deprecated and will be removed from pandas in a future version. Use pandas.concat instead.\n",
      "  df = df.append({\"data\": rawpd, \"age\": int(mlab[:2])+2.5}, ignore_index=True)\n",
      "<ipython-input-20-44e113f5a598>:14: FutureWarning: The frame.append method is deprecated and will be removed from pandas in a future version. Use pandas.concat instead.\n",
      "  df = df.append({\"data\": rawpd, \"age\": int(mlab[:2])+2.5}, ignore_index=True)\n"
     ]
    },
    {
     "name": "stdout",
     "output_type": "stream",
     "text": [
      "Isotrak not found\n",
      "    Range : 32718 ... 47219 =    130.872 ...   188.876 secs\n",
      "Ready.\n",
      "Reading 0 ... 14501  =      0.000 ...    58.004 secs...\n",
      "Opening raw data file D:/Utilisateur/SPierre-Eloy/Documents/Informatique/Brail/In-HousePOC3/in_housepoc3/data/Lemon_PreDict\\sub-032306\\sub-032306_EC3_eeg.fif...\n",
      "Isotrak not found\n",
      "    Range : 63699 ... 78199 =    254.796 ...   312.796 secs\n",
      "Ready.\n",
      "Reading 0 ... 14500  =      0.000 ...    58.000 secs...\n",
      "Opening raw data file D:/Utilisateur/SPierre-Eloy/Documents/Informatique/Brail/In-HousePOC3/in_housepoc3/data/Lemon_PreDict\\sub-032306\\sub-032306_EC4_eeg.fif...\n",
      "Isotrak not found\n",
      "    Range : 95801 ... 110301 =    383.204 ...   441.204 secs\n",
      "Ready.\n",
      "Reading 0 ... 14500  =      0.000 ...    58.000 secs...\n",
      "Opening raw data file D:/Utilisateur/SPierre-Eloy/Documents/Informatique/Brail/In-HousePOC3/in_housepoc3/data/Lemon_PreDict\\sub-032306\\sub-032306_EC5_eeg.fif...\n",
      "Isotrak not found\n",
      "    Range : 127779 ... 142279 =    511.116 ...   569.116 secs\n",
      "Ready.\n",
      "Reading 0 ... 14500  =      0.000 ...    58.000 secs...\n",
      "Opening raw data file D:/Utilisateur/SPierre-Eloy/Documents/Informatique/Brail/In-HousePOC3/in_housepoc3/data/Lemon_PreDict\\sub-032306\\sub-032306_EC6_eeg.fif...\n",
      "Isotrak not found\n",
      "    Range : 158910 ... 173411 =    635.640 ...   693.644 secs\n",
      "Ready.\n",
      "Reading 0 ... 14501  =      0.000 ...    58.004 secs...\n",
      "Opening raw data file D:/Utilisateur/SPierre-Eloy/Documents/Informatique/Brail/In-HousePOC3/in_housepoc3/data/Lemon_PreDict\\sub-032306\\sub-032306_EC7_eeg.fif...\n",
      "Isotrak not found\n",
      "    Range : 191286 ... 205787 =    765.144 ...   823.148 secs\n",
      "Ready.\n",
      "Reading 0 ... 14501  =      0.000 ...    58.004 secs...\n",
      "Opening raw data file D:/Utilisateur/SPierre-Eloy/Documents/Informatique/Brail/In-HousePOC3/in_housepoc3/data/Lemon_PreDict\\sub-032306\\sub-032306_EC8_eeg.fif...\n"
     ]
    },
    {
     "name": "stderr",
     "output_type": "stream",
     "text": [
      "<ipython-input-20-44e113f5a598>:14: FutureWarning: The frame.append method is deprecated and will be removed from pandas in a future version. Use pandas.concat instead.\n",
      "  df = df.append({\"data\": rawpd, \"age\": int(mlab[:2])+2.5}, ignore_index=True)\n",
      "<ipython-input-20-44e113f5a598>:14: FutureWarning: The frame.append method is deprecated and will be removed from pandas in a future version. Use pandas.concat instead.\n",
      "  df = df.append({\"data\": rawpd, \"age\": int(mlab[:2])+2.5}, ignore_index=True)\n",
      "<ipython-input-20-44e113f5a598>:14: FutureWarning: The frame.append method is deprecated and will be removed from pandas in a future version. Use pandas.concat instead.\n",
      "  df = df.append({\"data\": rawpd, \"age\": int(mlab[:2])+2.5}, ignore_index=True)\n",
      "<ipython-input-20-44e113f5a598>:14: FutureWarning: The frame.append method is deprecated and will be removed from pandas in a future version. Use pandas.concat instead.\n",
      "  df = df.append({\"data\": rawpd, \"age\": int(mlab[:2])+2.5}, ignore_index=True)\n",
      "<ipython-input-20-44e113f5a598>:14: FutureWarning: The frame.append method is deprecated and will be removed from pandas in a future version. Use pandas.concat instead.\n",
      "  df = df.append({\"data\": rawpd, \"age\": int(mlab[:2])+2.5}, ignore_index=True)\n",
      "<ipython-input-20-44e113f5a598>:14: FutureWarning: The frame.append method is deprecated and will be removed from pandas in a future version. Use pandas.concat instead.\n",
      "  df = df.append({\"data\": rawpd, \"age\": int(mlab[:2])+2.5}, ignore_index=True)\n"
     ]
    },
    {
     "name": "stdout",
     "output_type": "stream",
     "text": [
      "Isotrak not found\n",
      "    Range : 222522 ... 237023 =    890.088 ...   948.092 secs\n",
      "Ready.\n",
      "Reading 0 ... 14501  =      0.000 ...    58.004 secs...\n",
      "Opening raw data file D:/Utilisateur/SPierre-Eloy/Documents/Informatique/Brail/In-HousePOC3/in_housepoc3/data/Lemon_PreDict\\sub-032306\\sub-032306_EO1_eeg.fif...\n",
      "Isotrak not found\n",
      "    Range : 17150 ... 31651 =     68.600 ...   126.604 secs\n",
      "Ready.\n",
      "Reading 0 ... 14501  =      0.000 ...    58.004 secs...\n",
      "Opening raw data file D:/Utilisateur/SPierre-Eloy/Documents/Informatique/Brail/In-HousePOC3/in_housepoc3/data/Lemon_PreDict\\sub-032306\\sub-032306_EO2_eeg.fif...\n",
      "Isotrak not found\n",
      "    Range : 48142 ... 62642 =    192.568 ...   250.568 secs\n",
      "Ready.\n",
      "Reading 0 ... 14500  =      0.000 ...    58.000 secs...\n",
      "Opening raw data file D:/Utilisateur/SPierre-Eloy/Documents/Informatique/Brail/In-HousePOC3/in_housepoc3/data/Lemon_PreDict\\sub-032306\\sub-032306_EO3_eeg.fif...\n",
      "Isotrak not found\n",
      "    Range : 79631 ... 94131 =    318.524 ...   376.524 secs\n",
      "Ready.\n",
      "Reading 0 ... 14500  =      0.000 ...    58.000 secs...\n",
      "Opening raw data file D:/Utilisateur/SPierre-Eloy/Documents/Informatique/Brail/In-HousePOC3/in_housepoc3/data/Lemon_PreDict\\sub-032306\\sub-032306_EO4_eeg.fif...\n",
      "Isotrak not found\n",
      "    Range : 111387 ... 125888 =    445.548 ...   503.552 secs\n",
      "Ready.\n",
      "Reading 0 ... 14501  =      0.000 ...    58.004 secs...\n",
      "Opening raw data file D:/Utilisateur/SPierre-Eloy/Documents/Informatique/Brail/In-HousePOC3/in_housepoc3/data/Lemon_PreDict\\sub-032306\\sub-032306_EO5_eeg.fif...\n",
      "Isotrak not found\n"
     ]
    },
    {
     "name": "stderr",
     "output_type": "stream",
     "text": [
      "<ipython-input-20-44e113f5a598>:14: FutureWarning: The frame.append method is deprecated and will be removed from pandas in a future version. Use pandas.concat instead.\n",
      "  df = df.append({\"data\": rawpd, \"age\": int(mlab[:2])+2.5}, ignore_index=True)\n",
      "<ipython-input-20-44e113f5a598>:14: FutureWarning: The frame.append method is deprecated and will be removed from pandas in a future version. Use pandas.concat instead.\n",
      "  df = df.append({\"data\": rawpd, \"age\": int(mlab[:2])+2.5}, ignore_index=True)\n",
      "<ipython-input-20-44e113f5a598>:14: FutureWarning: The frame.append method is deprecated and will be removed from pandas in a future version. Use pandas.concat instead.\n",
      "  df = df.append({\"data\": rawpd, \"age\": int(mlab[:2])+2.5}, ignore_index=True)\n",
      "<ipython-input-20-44e113f5a598>:14: FutureWarning: The frame.append method is deprecated and will be removed from pandas in a future version. Use pandas.concat instead.\n",
      "  df = df.append({\"data\": rawpd, \"age\": int(mlab[:2])+2.5}, ignore_index=True)\n",
      "<ipython-input-20-44e113f5a598>:14: FutureWarning: The frame.append method is deprecated and will be removed from pandas in a future version. Use pandas.concat instead.\n",
      "  df = df.append({\"data\": rawpd, \"age\": int(mlab[:2])+2.5}, ignore_index=True)\n"
     ]
    },
    {
     "name": "stdout",
     "output_type": "stream",
     "text": [
      "    Range : 143266 ... 157766 =    573.064 ...   631.064 secs\n",
      "Ready.\n",
      "Reading 0 ... 14500  =      0.000 ...    58.000 secs...\n",
      "Opening raw data file D:/Utilisateur/SPierre-Eloy/Documents/Informatique/Brail/In-HousePOC3/in_housepoc3/data/Lemon_PreDict\\sub-032306\\sub-032306_EO6_eeg.fif...\n",
      "Isotrak not found\n",
      "    Range : 174522 ... 189023 =    698.088 ...   756.092 secs\n",
      "Ready.\n",
      "Reading 0 ... 14501  =      0.000 ...    58.004 secs...\n",
      "Opening raw data file D:/Utilisateur/SPierre-Eloy/Documents/Informatique/Brail/In-HousePOC3/in_housepoc3/data/Lemon_PreDict\\sub-032306\\sub-032306_EO7_eeg.fif...\n",
      "Isotrak not found\n",
      "    Range : 206703 ... 221204 =    826.812 ...   884.816 secs\n",
      "Ready.\n",
      "Reading 0 ... 14501  =      0.000 ...    58.004 secs...\n",
      "Opening raw data file D:/Utilisateur/SPierre-Eloy/Documents/Informatique/Brail/In-HousePOC3/in_housepoc3/data/Lemon_PreDict\\sub-032306\\sub-032306_EO8_eeg.fif...\n",
      "Isotrak not found\n",
      "    Range : 237996 ... 252496 =    951.984 ...  1009.984 secs\n",
      "Ready.\n",
      "Reading 0 ... 14500  =      0.000 ...    58.000 secs...\n",
      "Opening raw data file D:/Utilisateur/SPierre-Eloy/Documents/Informatique/Brail/In-HousePOC3/in_housepoc3/data/Lemon_PreDict\\sub-032307\\sub-032307_EC1_eeg.fif...\n",
      "Isotrak not found\n",
      "    Range : 2436 ... 16937 =      9.744 ...    67.748 secs\n",
      "Ready.\n",
      "Reading 0 ... 14501  =      0.000 ...    58.004 secs...\n",
      "Opening raw data file D:/Utilisateur/SPierre-Eloy/Documents/Informatique/Brail/In-HousePOC3/in_housepoc3/data/Lemon_PreDict\\sub-032307\\sub-032307_EC2_eeg.fif...\n",
      "Isotrak not found\n",
      "    Range : 33386 ... 47886 =    133.544 ...   191.544 secs\n",
      "Ready.\n",
      "Reading 0 ... 14500  =      0.000 ...    58.000 secs...\n",
      "Opening raw data file D:/Utilisateur/SPierre-Eloy/Documents/Informatique/Brail/In-HousePOC3/in_housepoc3/data/Lemon_PreDict\\sub-032307\\sub-032307_EC3_eeg.fif...\n"
     ]
    },
    {
     "name": "stderr",
     "output_type": "stream",
     "text": [
      "<ipython-input-20-44e113f5a598>:14: FutureWarning: The frame.append method is deprecated and will be removed from pandas in a future version. Use pandas.concat instead.\n",
      "  df = df.append({\"data\": rawpd, \"age\": int(mlab[:2])+2.5}, ignore_index=True)\n",
      "<ipython-input-20-44e113f5a598>:14: FutureWarning: The frame.append method is deprecated and will be removed from pandas in a future version. Use pandas.concat instead.\n",
      "  df = df.append({\"data\": rawpd, \"age\": int(mlab[:2])+2.5}, ignore_index=True)\n",
      "<ipython-input-20-44e113f5a598>:14: FutureWarning: The frame.append method is deprecated and will be removed from pandas in a future version. Use pandas.concat instead.\n",
      "  df = df.append({\"data\": rawpd, \"age\": int(mlab[:2])+2.5}, ignore_index=True)\n",
      "<ipython-input-20-44e113f5a598>:14: FutureWarning: The frame.append method is deprecated and will be removed from pandas in a future version. Use pandas.concat instead.\n",
      "  df = df.append({\"data\": rawpd, \"age\": int(mlab[:2])+2.5}, ignore_index=True)\n",
      "<ipython-input-20-44e113f5a598>:14: FutureWarning: The frame.append method is deprecated and will be removed from pandas in a future version. Use pandas.concat instead.\n",
      "  df = df.append({\"data\": rawpd, \"age\": int(mlab[:2])+2.5}, ignore_index=True)\n",
      "<ipython-input-20-44e113f5a598>:14: FutureWarning: The frame.append method is deprecated and will be removed from pandas in a future version. Use pandas.concat instead.\n",
      "  df = df.append({\"data\": rawpd, \"age\": int(mlab[:2])+2.5}, ignore_index=True)\n"
     ]
    },
    {
     "name": "stdout",
     "output_type": "stream",
     "text": [
      "Isotrak not found\n",
      "    Range : 64380 ... 78880 =    257.520 ...   315.520 secs\n",
      "Ready.\n",
      "Reading 0 ... 14500  =      0.000 ...    58.000 secs...\n",
      "Opening raw data file D:/Utilisateur/SPierre-Eloy/Documents/Informatique/Brail/In-HousePOC3/in_housepoc3/data/Lemon_PreDict\\sub-032307\\sub-032307_EC4_eeg.fif...\n",
      "Isotrak not found\n",
      "    Range : 95352 ... 109852 =    381.408 ...   439.408 secs\n",
      "Ready.\n",
      "Reading 0 ... 14500  =      0.000 ...    58.000 secs...\n",
      "Opening raw data file D:/Utilisateur/SPierre-Eloy/Documents/Informatique/Brail/In-HousePOC3/in_housepoc3/data/Lemon_PreDict\\sub-032307\\sub-032307_EC5_eeg.fif...\n",
      "Isotrak not found\n",
      "    Range : 126318 ... 140818 =    505.272 ...   563.272 secs\n",
      "Ready.\n",
      "Reading 0 ... 14500  =      0.000 ...    58.000 secs...\n",
      "Opening raw data file D:/Utilisateur/SPierre-Eloy/Documents/Informatique/Brail/In-HousePOC3/in_housepoc3/data/Lemon_PreDict\\sub-032307\\sub-032307_EC6_eeg.fif...\n",
      "Isotrak not found\n",
      "    Range : 157508 ... 172008 =    630.032 ...   688.032 secs\n",
      "Ready.\n",
      "Reading 0 ... 14500  =      0.000 ...    58.000 secs...\n",
      "Opening raw data file D:/Utilisateur/SPierre-Eloy/Documents/Informatique/Brail/In-HousePOC3/in_housepoc3/data/Lemon_PreDict\\sub-032307\\sub-032307_EC7_eeg.fif...\n",
      "Isotrak not found\n",
      "    Range : 189023 ... 203523 =    756.092 ...   814.092 secs\n",
      "Ready.\n",
      "Reading 0 ... 14500  =      0.000 ...    58.000 secs...\n",
      "Opening raw data file D:/Utilisateur/SPierre-Eloy/Documents/Informatique/Brail/In-HousePOC3/in_housepoc3/data/Lemon_PreDict\\sub-032307\\sub-032307_EC8_eeg.fif...\n",
      "Isotrak not found\n",
      "    Range : 220421 ... 234922 =    881.684 ...   939.688 secs\n",
      "Ready.\n",
      "Reading 0 ... 14501  =      0.000 ...    58.004 secs...\n",
      "Opening raw data file D:/Utilisateur/SPierre-Eloy/Documents/Informatique/Brail/In-HousePOC3/in_housepoc3/data/Lemon_PreDict\\sub-032307\\sub-032307_EO1_eeg.fif...\n"
     ]
    },
    {
     "name": "stderr",
     "output_type": "stream",
     "text": [
      "<ipython-input-20-44e113f5a598>:14: FutureWarning: The frame.append method is deprecated and will be removed from pandas in a future version. Use pandas.concat instead.\n",
      "  df = df.append({\"data\": rawpd, \"age\": int(mlab[:2])+2.5}, ignore_index=True)\n",
      "<ipython-input-20-44e113f5a598>:14: FutureWarning: The frame.append method is deprecated and will be removed from pandas in a future version. Use pandas.concat instead.\n",
      "  df = df.append({\"data\": rawpd, \"age\": int(mlab[:2])+2.5}, ignore_index=True)\n",
      "<ipython-input-20-44e113f5a598>:14: FutureWarning: The frame.append method is deprecated and will be removed from pandas in a future version. Use pandas.concat instead.\n",
      "  df = df.append({\"data\": rawpd, \"age\": int(mlab[:2])+2.5}, ignore_index=True)\n",
      "<ipython-input-20-44e113f5a598>:14: FutureWarning: The frame.append method is deprecated and will be removed from pandas in a future version. Use pandas.concat instead.\n",
      "  df = df.append({\"data\": rawpd, \"age\": int(mlab[:2])+2.5}, ignore_index=True)\n",
      "<ipython-input-20-44e113f5a598>:14: FutureWarning: The frame.append method is deprecated and will be removed from pandas in a future version. Use pandas.concat instead.\n",
      "  df = df.append({\"data\": rawpd, \"age\": int(mlab[:2])+2.5}, ignore_index=True)\n",
      "<ipython-input-20-44e113f5a598>:14: FutureWarning: The frame.append method is deprecated and will be removed from pandas in a future version. Use pandas.concat instead.\n",
      "  df = df.append({\"data\": rawpd, \"age\": int(mlab[:2])+2.5}, ignore_index=True)\n"
     ]
    },
    {
     "name": "stdout",
     "output_type": "stream",
     "text": [
      "Isotrak not found\n",
      "    Range : 17928 ... 32429 =     71.712 ...   129.716 secs\n",
      "Ready.\n",
      "Reading 0 ... 14501  =      0.000 ...    58.004 secs...\n",
      "Opening raw data file D:/Utilisateur/SPierre-Eloy/Documents/Informatique/Brail/In-HousePOC3/in_housepoc3/data/Lemon_PreDict\\sub-032307\\sub-032307_EO2_eeg.fif...\n",
      "Isotrak not found\n",
      "    Range : 48859 ... 63360 =    195.436 ...   253.440 secs\n",
      "Ready.\n",
      "Reading 0 ... 14501  =      0.000 ...    58.004 secs...\n",
      "Opening raw data file D:/Utilisateur/SPierre-Eloy/Documents/Informatique/Brail/In-HousePOC3/in_housepoc3/data/Lemon_PreDict\\sub-032307\\sub-032307_EO3_eeg.fif...\n",
      "Isotrak not found\n",
      "    Range : 79896 ... 94396 =    319.584 ...   377.584 secs\n",
      "Ready.\n",
      "Reading 0 ... 14500  =      0.000 ...    58.000 secs...\n",
      "Opening raw data file D:/Utilisateur/SPierre-Eloy/Documents/Informatique/Brail/In-HousePOC3/in_housepoc3/data/Lemon_PreDict\\sub-032307\\sub-032307_EO4_eeg.fif...\n",
      "Isotrak not found\n",
      "    Range : 110815 ... 125316 =    443.260 ...   501.264 secs\n",
      "Ready.\n",
      "Reading 0 ... 14501  =      0.000 ...    58.004 secs...\n",
      "Opening raw data file D:/Utilisateur/SPierre-Eloy/Documents/Informatique/Brail/In-HousePOC3/in_housepoc3/data/Lemon_PreDict\\sub-032307\\sub-032307_EO5_eeg.fif...\n",
      "Isotrak not found\n",
      "    Range : 141781 ... 156281 =    567.124 ...   625.124 secs\n",
      "Ready.\n",
      "Reading 0 ... 14500  =      0.000 ...    58.000 secs...\n",
      "Opening raw data file D:/Utilisateur/SPierre-Eloy/Documents/Informatique/Brail/In-HousePOC3/in_housepoc3/data/Lemon_PreDict\\sub-032307\\sub-032307_EO6_eeg.fif...\n",
      "Isotrak not found\n",
      "    Range : 173000 ... 187500 =    692.000 ...   750.000 secs\n",
      "Ready.\n",
      "Reading 0 ... 14500  =      0.000 ...    58.000 secs...\n",
      "Opening raw data file D:/Utilisateur/SPierre-Eloy/Documents/Informatique/Brail/In-HousePOC3/in_housepoc3/data/Lemon_PreDict\\sub-032307\\sub-032307_EO7_eeg.fif...\n"
     ]
    },
    {
     "name": "stderr",
     "output_type": "stream",
     "text": [
      "<ipython-input-20-44e113f5a598>:14: FutureWarning: The frame.append method is deprecated and will be removed from pandas in a future version. Use pandas.concat instead.\n",
      "  df = df.append({\"data\": rawpd, \"age\": int(mlab[:2])+2.5}, ignore_index=True)\n",
      "<ipython-input-20-44e113f5a598>:14: FutureWarning: The frame.append method is deprecated and will be removed from pandas in a future version. Use pandas.concat instead.\n",
      "  df = df.append({\"data\": rawpd, \"age\": int(mlab[:2])+2.5}, ignore_index=True)\n",
      "<ipython-input-20-44e113f5a598>:14: FutureWarning: The frame.append method is deprecated and will be removed from pandas in a future version. Use pandas.concat instead.\n",
      "  df = df.append({\"data\": rawpd, \"age\": int(mlab[:2])+2.5}, ignore_index=True)\n",
      "<ipython-input-20-44e113f5a598>:14: FutureWarning: The frame.append method is deprecated and will be removed from pandas in a future version. Use pandas.concat instead.\n",
      "  df = df.append({\"data\": rawpd, \"age\": int(mlab[:2])+2.5}, ignore_index=True)\n",
      "<ipython-input-20-44e113f5a598>:14: FutureWarning: The frame.append method is deprecated and will be removed from pandas in a future version. Use pandas.concat instead.\n",
      "  df = df.append({\"data\": rawpd, \"age\": int(mlab[:2])+2.5}, ignore_index=True)\n",
      "<ipython-input-20-44e113f5a598>:14: FutureWarning: The frame.append method is deprecated and will be removed from pandas in a future version. Use pandas.concat instead.\n",
      "  df = df.append({\"data\": rawpd, \"age\": int(mlab[:2])+2.5}, ignore_index=True)\n"
     ]
    },
    {
     "name": "stdout",
     "output_type": "stream",
     "text": [
      "Isotrak not found\n",
      "    Range : 204566 ... 219066 =    818.264 ...   876.264 secs\n",
      "Ready.\n",
      "Reading 0 ... 14500  =      0.000 ...    58.000 secs...\n",
      "Opening raw data file D:/Utilisateur/SPierre-Eloy/Documents/Informatique/Brail/In-HousePOC3/in_housepoc3/data/Lemon_PreDict\\sub-032307\\sub-032307_EO8_eeg.fif...\n",
      "Isotrak not found\n",
      "    Range : 235914 ... 250414 =    943.656 ...  1001.656 secs\n",
      "Ready.\n",
      "Reading 0 ... 14500  =      0.000 ...    58.000 secs...\n",
      "Opening raw data file D:/Utilisateur/SPierre-Eloy/Documents/Informatique/Brail/In-HousePOC3/in_housepoc3/data/Lemon_PreDict\\sub-032308\\sub-032308_EC1_eeg.fif...\n",
      "Isotrak not found\n",
      "    Range : 6258 ... 20758 =     25.032 ...    83.032 secs\n",
      "Ready.\n",
      "Reading 0 ... 14500  =      0.000 ...    58.000 secs...\n",
      "Opening raw data file D:/Utilisateur/SPierre-Eloy/Documents/Informatique/Brail/In-HousePOC3/in_housepoc3/data/Lemon_PreDict\\sub-032308\\sub-032308_EC2_eeg.fif...\n",
      "Isotrak not found\n",
      "    Range : 37350 ... 51850 =    149.400 ...   207.400 secs\n",
      "Ready.\n",
      "Reading 0 ... 14500  =      0.000 ...    58.000 secs...\n",
      "Opening raw data file D:/Utilisateur/SPierre-Eloy/Documents/Informatique/Brail/In-HousePOC3/in_housepoc3/data/Lemon_PreDict\\sub-032308\\sub-032308_EC3_eeg.fif...\n",
      "Isotrak not found\n",
      "    Range : 70958 ... 85458 =    283.832 ...   341.832 secs\n",
      "Ready.\n",
      "Reading 0 ... 14500  =      0.000 ...    58.000 secs...\n",
      "Opening raw data file D:/Utilisateur/SPierre-Eloy/Documents/Informatique/Brail/In-HousePOC3/in_housepoc3/data/Lemon_PreDict\\sub-032308\\sub-032308_EC4_eeg.fif...\n",
      "Isotrak not found\n",
      "    Range : 102144 ... 116645 =    408.576 ...   466.580 secs\n",
      "Ready.\n",
      "Reading 0 ... 14501  =      0.000 ...    58.004 secs...\n",
      "Opening raw data file D:/Utilisateur/SPierre-Eloy/Documents/Informatique/Brail/In-HousePOC3/in_housepoc3/data/Lemon_PreDict\\sub-032308\\sub-032308_EC5_eeg.fif...\n"
     ]
    },
    {
     "name": "stderr",
     "output_type": "stream",
     "text": [
      "<ipython-input-20-44e113f5a598>:14: FutureWarning: The frame.append method is deprecated and will be removed from pandas in a future version. Use pandas.concat instead.\n",
      "  df = df.append({\"data\": rawpd, \"age\": int(mlab[:2])+2.5}, ignore_index=True)\n",
      "<ipython-input-20-44e113f5a598>:14: FutureWarning: The frame.append method is deprecated and will be removed from pandas in a future version. Use pandas.concat instead.\n",
      "  df = df.append({\"data\": rawpd, \"age\": int(mlab[:2])+2.5}, ignore_index=True)\n",
      "<ipython-input-20-44e113f5a598>:14: FutureWarning: The frame.append method is deprecated and will be removed from pandas in a future version. Use pandas.concat instead.\n",
      "  df = df.append({\"data\": rawpd, \"age\": int(mlab[:2])+2.5}, ignore_index=True)\n",
      "<ipython-input-20-44e113f5a598>:14: FutureWarning: The frame.append method is deprecated and will be removed from pandas in a future version. Use pandas.concat instead.\n",
      "  df = df.append({\"data\": rawpd, \"age\": int(mlab[:2])+2.5}, ignore_index=True)\n",
      "<ipython-input-20-44e113f5a598>:14: FutureWarning: The frame.append method is deprecated and will be removed from pandas in a future version. Use pandas.concat instead.\n",
      "  df = df.append({\"data\": rawpd, \"age\": int(mlab[:2])+2.5}, ignore_index=True)\n",
      "<ipython-input-20-44e113f5a598>:14: FutureWarning: The frame.append method is deprecated and will be removed from pandas in a future version. Use pandas.concat instead.\n",
      "  df = df.append({\"data\": rawpd, \"age\": int(mlab[:2])+2.5}, ignore_index=True)\n"
     ]
    },
    {
     "name": "stdout",
     "output_type": "stream",
     "text": [
      "Isotrak not found\n",
      "    Range : 133203 ... 147703 =    532.812 ...   590.812 secs\n",
      "Ready.\n",
      "Reading 0 ... 14500  =      0.000 ...    58.000 secs...\n",
      "Opening raw data file D:/Utilisateur/SPierre-Eloy/Documents/Informatique/Brail/In-HousePOC3/in_housepoc3/data/Lemon_PreDict\\sub-032308\\sub-032308_EC6_eeg.fif...\n",
      "Isotrak not found\n",
      "    Range : 164201 ... 178702 =    656.804 ...   714.808 secs\n",
      "Ready.\n",
      "Reading 0 ... 14501  =      0.000 ...    58.004 secs...\n",
      "Opening raw data file D:/Utilisateur/SPierre-Eloy/Documents/Informatique/Brail/In-HousePOC3/in_housepoc3/data/Lemon_PreDict\\sub-032308\\sub-032308_EC7_eeg.fif...\n",
      "Isotrak not found\n",
      "    Range : 197482 ... 211982 =    789.928 ...   847.928 secs\n",
      "Ready.\n",
      "Reading 0 ... 14500  =      0.000 ...    58.000 secs...\n",
      "Opening raw data file D:/Utilisateur/SPierre-Eloy/Documents/Informatique/Brail/In-HousePOC3/in_housepoc3/data/Lemon_PreDict\\sub-032308\\sub-032308_EC8_eeg.fif...\n",
      "Isotrak not found\n",
      "    Range : 228807 ... 243307 =    915.228 ...   973.228 secs\n",
      "Ready.\n",
      "Reading 0 ... 14500  =      0.000 ...    58.000 secs...\n",
      "Opening raw data file D:/Utilisateur/SPierre-Eloy/Documents/Informatique/Brail/In-HousePOC3/in_housepoc3/data/Lemon_PreDict\\sub-032308\\sub-032308_EO1_eeg.fif...\n",
      "Isotrak not found\n",
      "    Range : 21800 ... 36300 =     87.200 ...   145.200 secs\n",
      "Ready.\n",
      "Reading 0 ... 14500  =      0.000 ...    58.000 secs...\n",
      "Opening raw data file D:/Utilisateur/SPierre-Eloy/Documents/Informatique/Brail/In-HousePOC3/in_housepoc3/data/Lemon_PreDict\\sub-032308\\sub-032308_EO2_eeg.fif...\n",
      "Isotrak not found\n",
      "    Range : 52821 ... 67321 =    211.284 ...   269.284 secs\n",
      "Ready.\n",
      "Reading 0 ... 14500  =      0.000 ...    58.000 secs...\n",
      "Opening raw data file D:/Utilisateur/SPierre-Eloy/Documents/Informatique/Brail/In-HousePOC3/in_housepoc3/data/Lemon_PreDict\\sub-032308\\sub-032308_EO3_eeg.fif...\n"
     ]
    },
    {
     "name": "stderr",
     "output_type": "stream",
     "text": [
      "<ipython-input-20-44e113f5a598>:14: FutureWarning: The frame.append method is deprecated and will be removed from pandas in a future version. Use pandas.concat instead.\n",
      "  df = df.append({\"data\": rawpd, \"age\": int(mlab[:2])+2.5}, ignore_index=True)\n",
      "<ipython-input-20-44e113f5a598>:14: FutureWarning: The frame.append method is deprecated and will be removed from pandas in a future version. Use pandas.concat instead.\n",
      "  df = df.append({\"data\": rawpd, \"age\": int(mlab[:2])+2.5}, ignore_index=True)\n",
      "<ipython-input-20-44e113f5a598>:14: FutureWarning: The frame.append method is deprecated and will be removed from pandas in a future version. Use pandas.concat instead.\n",
      "  df = df.append({\"data\": rawpd, \"age\": int(mlab[:2])+2.5}, ignore_index=True)\n",
      "<ipython-input-20-44e113f5a598>:14: FutureWarning: The frame.append method is deprecated and will be removed from pandas in a future version. Use pandas.concat instead.\n",
      "  df = df.append({\"data\": rawpd, \"age\": int(mlab[:2])+2.5}, ignore_index=True)\n",
      "<ipython-input-20-44e113f5a598>:14: FutureWarning: The frame.append method is deprecated and will be removed from pandas in a future version. Use pandas.concat instead.\n",
      "  df = df.append({\"data\": rawpd, \"age\": int(mlab[:2])+2.5}, ignore_index=True)\n",
      "<ipython-input-20-44e113f5a598>:14: FutureWarning: The frame.append method is deprecated and will be removed from pandas in a future version. Use pandas.concat instead.\n",
      "  df = df.append({\"data\": rawpd, \"age\": int(mlab[:2])+2.5}, ignore_index=True)\n"
     ]
    },
    {
     "name": "stdout",
     "output_type": "stream",
     "text": [
      "Isotrak not found\n",
      "    Range : 86458 ... 100958 =    345.832 ...   403.832 secs\n",
      "Ready.\n",
      "Reading 0 ... 14500  =      0.000 ...    58.000 secs...\n",
      "Opening raw data file D:/Utilisateur/SPierre-Eloy/Documents/Informatique/Brail/In-HousePOC3/in_housepoc3/data/Lemon_PreDict\\sub-032308\\sub-032308_EO4_eeg.fif...\n",
      "Isotrak not found\n",
      "    Range : 117674 ... 132175 =    470.696 ...   528.700 secs\n",
      "Ready.\n",
      "Reading 0 ... 14501  =      0.000 ...    58.004 secs...\n",
      "Opening raw data file D:/Utilisateur/SPierre-Eloy/Documents/Informatique/Brail/In-HousePOC3/in_housepoc3/data/Lemon_PreDict\\sub-032308\\sub-032308_EO5_eeg.fif...\n",
      "Isotrak not found\n",
      "    Range : 148724 ... 163224 =    594.896 ...   652.896 secs\n",
      "Ready.\n",
      "Reading 0 ... 14500  =      0.000 ...    58.000 secs...\n",
      "Opening raw data file D:/Utilisateur/SPierre-Eloy/Documents/Informatique/Brail/In-HousePOC3/in_housepoc3/data/Lemon_PreDict\\sub-032308\\sub-032308_EO6_eeg.fif...\n",
      "Isotrak not found\n",
      "    Range : 179649 ... 194149 =    718.596 ...   776.596 secs\n",
      "Ready.\n",
      "Reading 0 ... 14500  =      0.000 ...    58.000 secs...\n",
      "Opening raw data file D:/Utilisateur/SPierre-Eloy/Documents/Informatique/Brail/In-HousePOC3/in_housepoc3/data/Lemon_PreDict\\sub-032308\\sub-032308_EO7_eeg.fif...\n",
      "Isotrak not found\n",
      "    Range : 213049 ... 227550 =    852.196 ...   910.200 secs\n",
      "Ready.\n",
      "Reading 0 ... 14501  =      0.000 ...    58.004 secs...\n",
      "Opening raw data file D:/Utilisateur/SPierre-Eloy/Documents/Informatique/Brail/In-HousePOC3/in_housepoc3/data/Lemon_PreDict\\sub-032308\\sub-032308_EO8_eeg.fif...\n",
      "Isotrak not found\n",
      "    Range : 244992 ... 259492 =    979.968 ...  1037.968 secs\n",
      "Ready.\n",
      "Reading 0 ... 14500  =      0.000 ...    58.000 secs...\n",
      "Opening raw data file D:/Utilisateur/SPierre-Eloy/Documents/Informatique/Brail/In-HousePOC3/in_housepoc3/data/Lemon_PreDict\\sub-032309\\sub-032309_EC1_eeg.fif...\n",
      "Isotrak not found\n"
     ]
    },
    {
     "name": "stderr",
     "output_type": "stream",
     "text": [
      "<ipython-input-20-44e113f5a598>:14: FutureWarning: The frame.append method is deprecated and will be removed from pandas in a future version. Use pandas.concat instead.\n",
      "  df = df.append({\"data\": rawpd, \"age\": int(mlab[:2])+2.5}, ignore_index=True)\n",
      "<ipython-input-20-44e113f5a598>:14: FutureWarning: The frame.append method is deprecated and will be removed from pandas in a future version. Use pandas.concat instead.\n",
      "  df = df.append({\"data\": rawpd, \"age\": int(mlab[:2])+2.5}, ignore_index=True)\n",
      "<ipython-input-20-44e113f5a598>:14: FutureWarning: The frame.append method is deprecated and will be removed from pandas in a future version. Use pandas.concat instead.\n",
      "  df = df.append({\"data\": rawpd, \"age\": int(mlab[:2])+2.5}, ignore_index=True)\n",
      "<ipython-input-20-44e113f5a598>:14: FutureWarning: The frame.append method is deprecated and will be removed from pandas in a future version. Use pandas.concat instead.\n",
      "  df = df.append({\"data\": rawpd, \"age\": int(mlab[:2])+2.5}, ignore_index=True)\n",
      "<ipython-input-20-44e113f5a598>:14: FutureWarning: The frame.append method is deprecated and will be removed from pandas in a future version. Use pandas.concat instead.\n",
      "  df = df.append({\"data\": rawpd, \"age\": int(mlab[:2])+2.5}, ignore_index=True)\n",
      "<ipython-input-20-44e113f5a598>:14: FutureWarning: The frame.append method is deprecated and will be removed from pandas in a future version. Use pandas.concat instead.\n",
      "  df = df.append({\"data\": rawpd, \"age\": int(mlab[:2])+2.5}, ignore_index=True)\n"
     ]
    },
    {
     "name": "stdout",
     "output_type": "stream",
     "text": [
      "    Range : 6969 ... 21469 =     27.876 ...    85.876 secs\n",
      "Ready.\n",
      "Reading 0 ... 14500  =      0.000 ...    58.000 secs...\n",
      "Opening raw data file D:/Utilisateur/SPierre-Eloy/Documents/Informatique/Brail/In-HousePOC3/in_housepoc3/data/Lemon_PreDict\\sub-032309\\sub-032309_EC2_eeg.fif...\n",
      "Isotrak not found\n",
      "    Range : 37890 ... 52390 =    151.560 ...   209.560 secs\n",
      "Ready.\n",
      "Reading 0 ... 14500  =      0.000 ...    58.000 secs...\n",
      "Opening raw data file D:/Utilisateur/SPierre-Eloy/Documents/Informatique/Brail/In-HousePOC3/in_housepoc3/data/Lemon_PreDict\\sub-032309\\sub-032309_EC3_eeg.fif...\n",
      "Isotrak not found\n",
      "    Range : 68819 ... 83319 =    275.276 ...   333.276 secs\n",
      "Ready.\n",
      "Reading 0 ... 14500  =      0.000 ...    58.000 secs...\n",
      "Opening raw data file D:/Utilisateur/SPierre-Eloy/Documents/Informatique/Brail/In-HousePOC3/in_housepoc3/data/Lemon_PreDict\\sub-032309\\sub-032309_EO1_eeg.fif...\n",
      "Isotrak not found\n",
      "    Range : 22551 ... 37051 =     90.204 ...   148.204 secs\n",
      "Ready.\n",
      "Reading 0 ... 14500  =      0.000 ...    58.000 secs...\n",
      "Opening raw data file D:/Utilisateur/SPierre-Eloy/Documents/Informatique/Brail/In-HousePOC3/in_housepoc3/data/Lemon_PreDict\\sub-032309\\sub-032309_EO2_eeg.fif...\n",
      "Isotrak not found\n",
      "    Range : 53385 ... 67885 =    213.540 ...   271.540 secs\n",
      "Ready.\n",
      "Reading 0 ... 14500  =      0.000 ...    58.000 secs...\n",
      "Opening raw data file D:/Utilisateur/SPierre-Eloy/Documents/Informatique/Brail/In-HousePOC3/in_housepoc3/data/Lemon_PreDict\\sub-032309\\sub-032309_EO3_eeg.fif...\n",
      "Isotrak not found\n",
      "    Range : 84239 ... 97239 =    336.956 ...   388.956 secs\n",
      "Ready.\n",
      "Reading 0 ... 13000  =      0.000 ...    52.000 secs...\n"
     ]
    },
    {
     "name": "stderr",
     "output_type": "stream",
     "text": [
      "<ipython-input-20-44e113f5a598>:14: FutureWarning: The frame.append method is deprecated and will be removed from pandas in a future version. Use pandas.concat instead.\n",
      "  df = df.append({\"data\": rawpd, \"age\": int(mlab[:2])+2.5}, ignore_index=True)\n",
      "<ipython-input-20-44e113f5a598>:14: FutureWarning: The frame.append method is deprecated and will be removed from pandas in a future version. Use pandas.concat instead.\n",
      "  df = df.append({\"data\": rawpd, \"age\": int(mlab[:2])+2.5}, ignore_index=True)\n",
      "<ipython-input-20-44e113f5a598>:14: FutureWarning: The frame.append method is deprecated and will be removed from pandas in a future version. Use pandas.concat instead.\n",
      "  df = df.append({\"data\": rawpd, \"age\": int(mlab[:2])+2.5}, ignore_index=True)\n",
      "<ipython-input-20-44e113f5a598>:14: FutureWarning: The frame.append method is deprecated and will be removed from pandas in a future version. Use pandas.concat instead.\n",
      "  df = df.append({\"data\": rawpd, \"age\": int(mlab[:2])+2.5}, ignore_index=True)\n",
      "<ipython-input-20-44e113f5a598>:14: FutureWarning: The frame.append method is deprecated and will be removed from pandas in a future version. Use pandas.concat instead.\n",
      "  df = df.append({\"data\": rawpd, \"age\": int(mlab[:2])+2.5}, ignore_index=True)\n"
     ]
    },
    {
     "name": "stdout",
     "output_type": "stream",
     "text": [
      "                                                  data   age\n",
      "0    [[0.0, 4.430996043627091, -6.09678654644972, 2...  67.5\n",
      "1    [[0.0, -5.827880609544076, -8.114727218482303,...  67.5\n",
      "2    [[0.0, -18.533236565097962, -17.07739163957374...  67.5\n",
      "3    [[0.0, 4.991340830909509, 6.457090153883622, 5...  67.5\n",
      "4    [[0.0, -2.405402701160817, 2.7317617830314562,...  67.5\n",
      "..                                                 ...   ...\n",
      "128  [[0.0, 3.1575306381755412, -0.0415241635713135...  22.5\n",
      "129  [[0.0, 45.19070857023012, 42.59751940291403, 1...  22.5\n",
      "130  [[0.0, 3.430759949159956, 2.692151287290659, -...  22.5\n",
      "131  [[0.0, -28.612986051298464, -19.13317856949833...  22.5\n",
      "132  [[0.0, 0.3905242523600002, -0.3524975734538385...  22.5\n",
      "\n",
      "[133 rows x 2 columns]\n",
      "[(62, 14501), (62, 14501), (62, 14501), (62, 14501), (62, 14501), (62, 14501), (62, 14501), (62, 14502), (62, 14501), (62, 14501), (62, 14502), (62, 14501), (62, 14501), (62, 14501), (62, 14501), (62, 14501), (62, 14501), (62, 14501), (62, 14501), (62, 14501), (62, 14501), (62, 14501), (62, 14501), (62, 14501), (62, 14501), (62, 14501), (62, 14501), (62, 14501), (62, 14501), (62, 14501), (62, 14501), (62, 14501), (62, 14501), (62, 14502), (62, 14501), (62, 14501), (62, 14501), (62, 14501), (62, 14501), (62, 14501), (62, 14501), (62, 14501), (62, 14501), (62, 14502), (62, 14501), (62, 14501), (62, 14501), (62, 14502), (62, 14501), (62, 14502), (62, 14502), (62, 14501), (62, 14501), (62, 14501), (62, 14501), (62, 14501), (62, 14501), (62, 14502), (62, 14502), (62, 14501), (62, 14502), (62, 14501), (62, 14501), (62, 14501), (62, 14502), (62, 14501), (62, 14501), (62, 14501), (62, 14501), (62, 14502), (62, 14501), (62, 14501), (62, 14501), (62, 14501), (62, 14501), (62, 14502), (62, 14501), (62, 14501), (62, 14502), (62, 14501), (62, 14501), (62, 14502), (62, 14501), (62, 14501), (62, 14501), (62, 14502), (62, 14502), (62, 14502), (62, 14502), (62, 14501), (62, 14501), (62, 14502), (62, 14501), (62, 14502), (62, 14502), (62, 14501), (62, 14502), (62, 14501), (62, 14501), (62, 14501), (62, 14501), (62, 14501), (62, 14501), (62, 14502), (62, 14502), (62, 14502), (62, 14501), (62, 14502), (62, 14501), (62, 14501), (62, 14501), (62, 14501), (62, 14501), (62, 14501), (62, 14501), (62, 14502), (62, 14501), (62, 14502), (62, 14501), (62, 14501), (62, 14501), (62, 14501), (62, 14501), (62, 14502), (62, 14501), (62, 14501), (62, 14502), (62, 14501), (62, 14501), (62, 14501), (62, 14501), (62, 14501), (62, 14501), (62, 13001)]\n"
     ]
    }
   ],
   "source": [
    "df = pd.DataFrame(columns=[\"data\", \"age\"])\n",
    "shape = []\n",
    "for g in gb:\n",
    "    raw = mne.io.read_raw_fif(g, preload=True)\n",
    "    shape += [(len(raw.ch_names),raw.n_times)]\n",
    "    if raw.n_times < 14501:\n",
    "        continue\n",
    "    rawpd = raw.to_data_frame().to_numpy()\n",
    "    if raw.n_times == 14502:\n",
    "            rawpd = np.delete(rawpd, -1, 0)\n",
    "    #tdpd = rawpd.values.ravel()\n",
    "    tg = g.split(\"\\\\\")\n",
    "    mlab = find_row(lab, 0, tg[1])[2].values[0]\n",
    "    df = df.append({\"data\": rawpd, \"age\": int(mlab[:2])+2.5}, ignore_index=True)\n",
    "print(df)\n",
    "print(shape)"
   ]
  },
  {
   "cell_type": "code",
   "execution_count": 21,
   "metadata": {},
   "outputs": [
    {
     "name": "stdout",
     "output_type": "stream",
     "text": [
      "Counter({(62, 14501): 102, (62, 14502): 31, (62, 13001): 1})\n"
     ]
    }
   ],
   "source": [
    "from collections import Counter\n",
    "\n",
    "compteur = Counter(shape)\n",
    "print(compteur) # {1: 2, 2: 2, 3: 1, 4: 1}"
   ]
  },
  {
   "cell_type": "code",
   "execution_count": null,
   "metadata": {},
   "outputs": [],
   "source": [
    "print(df.shape)\n",
    "df"
   ]
  },
  {
   "cell_type": "code",
   "execution_count": null,
   "metadata": {},
   "outputs": [],
   "source": [
    "df.iloc[0][\"data\"].shape"
   ]
  },
  {
   "cell_type": "code",
   "execution_count": null,
   "metadata": {},
   "outputs": [],
   "source": [
    "i = 0\n",
    "sh = []\n",
    "while i < df.shape[0]:\n",
    "    print(i)\n",
    "    sh += [df.iloc[i][\"data\"].shape]\n",
    "    i+=1\n",
    "compteur = Counter(sh)\n",
    "print(compteur) # {1: 2, 2: 2, 3: 1, 4: 1}"
   ]
  },
  {
   "cell_type": "code",
   "execution_count": null,
   "metadata": {},
   "outputs": [],
   "source": [
    "pip install seaborn"
   ]
  },
  {
   "cell_type": "code",
   "execution_count": null,
   "metadata": {},
   "outputs": [],
   "source": [
    "import seaborn as sns\n",
    "sns.distplot(df['age'])"
   ]
  },
  {
   "cell_type": "code",
   "execution_count": null,
   "metadata": {},
   "outputs": [],
   "source": [
    "df_train, df_test = np.split(df, [int(0.8 * len(df))])\n",
    "print(df_train.shape)\n",
    "print(df_test.shape)"
   ]
  },
  {
   "cell_type": "code",
   "execution_count": null,
   "metadata": {},
   "outputs": [],
   "source": [
    "df_train = df_train.sample(frac=1, ignore_index=True)\n",
    "df_test = df_test.sample(frac=1, ignore_index=True)"
   ]
  },
  {
   "cell_type": "code",
   "execution_count": null,
   "metadata": {},
   "outputs": [],
   "source": [
    "X = np.array(df['data'])\n",
    "y_age = np.array(df['age'])"
   ]
  },
  {
   "cell_type": "markdown",
   "metadata": {},
   "source": [
    "Create predictions"
   ]
  },
  {
   "cell_type": "code",
   "execution_count": null,
   "metadata": {},
   "outputs": [],
   "source": [
    "pip install keras"
   ]
  },
  {
   "cell_type": "code",
   "execution_count": null,
   "metadata": {},
   "outputs": [],
   "source": [
    "#import the necessary liblaries\n",
    "import pandas as pd\n",
    "import numpy as np\n",
    "import os\n",
    "import matplotlib.pyplot as plt\n",
    "import seaborn as sns\n",
    "import warnings\n",
    "\n",
    "warnings.filterwarnings('ignore')\n",
    "%matplotlib inline\n",
    "# Tensorflow and Keras Modules\n",
    "import tensorflow as tf\n",
    "from keras.preprocessing.image import load_img\n",
    "from keras.models import Sequential, Model\n",
    "from keras.layers import Dense, Conv2D, Dropout, Flatten, MaxPooling2D, Input"
   ]
  },
  {
   "cell_type": "code",
   "execution_count": null,
   "metadata": {},
   "outputs": [],
   "source": [
    "input_shape = (14501, 63, 1)\n",
    "# declare input\n",
    "inputs = Input((input_shape))\n",
    "# Convolutional layers 1\n",
    "conv_1 = Conv2D(32, kernel_size=(3, 3), activation='relu') (inputs)\n",
    "maxp_1 = MaxPooling2D(pool_size=(2, 2)) (conv_1)\n",
    "# Convolutional layers 2\n",
    "conv_2 = Conv2D(64, kernel_size=(3, 3), activation='relu') (maxp_1)\n",
    "maxp_2 = MaxPooling2D(pool_size=(2, 2)) (conv_2)\n",
    "# Convolutional layers 3\n",
    "conv_3 = Conv2D(128, kernel_size=(3, 3), activation='relu') (maxp_2)\n",
    "maxp_3 = MaxPooling2D(pool_size=(2, 2)) (conv_3)\n",
    "# Convolutional layers 4\n",
    "conv_4 = Conv2D(256, kernel_size=(3, 3), activation='relu') (maxp_3)\n",
    "maxp_4 = MaxPooling2D(pool_size=(2, 2)) (conv_4)\n",
    "\n",
    "\n",
    "flatten = Flatten() (maxp_4)\n",
    "\n",
    "# Fully connected layers\n",
    "dense_1 = Dense(256, activation='relu') (flatten)\n",
    "\n",
    "dropout_1 = Dropout(0.3) (dense_1)\n",
    "# two outputs\n",
    "output_1 = Dense(1, activation='sigmoid', name='age_out') (dropout_1)\n",
    "\n",
    "model = Model(inputs=[inputs], outputs=[output_1])\n",
    "\n",
    "model.compile(loss=['binary_crossentropy', 'mae'], optimizer='adam', metrics=['accuracy'])"
   ]
  },
  {
   "cell_type": "code",
   "execution_count": null,
   "metadata": {},
   "outputs": [],
   "source": [
    "pip install pydot"
   ]
  },
  {
   "cell_type": "code",
   "execution_count": null,
   "metadata": {},
   "outputs": [],
   "source": [
    "from tensorflow.keras.utils import plot_model\n",
    "plot_model(model)"
   ]
  },
  {
   "cell_type": "code",
   "execution_count": null,
   "metadata": {},
   "outputs": [],
   "source": [
    "history = model.fit(x=X, y=[y_age], batch_size=32, epochs=30, validation_split=0.2)"
   ]
  },
  {
   "cell_type": "code",
   "execution_count": null,
   "metadata": {},
   "outputs": [],
   "source": []
  }
 ],
 "metadata": {
  "kernelspec": {
   "display_name": "Python 3 (ipykernel)",
   "language": "python",
   "name": "python3"
  },
  "language_info": {
   "codemirror_mode": {
    "name": "ipython",
    "version": 3
   },
   "file_extension": ".py",
   "mimetype": "text/x-python",
   "name": "python",
   "nbconvert_exporter": "python",
   "pygments_lexer": "ipython3",
   "version": "3.8.9"
  }
 },
 "nbformat": 4,
 "nbformat_minor": 4
}
