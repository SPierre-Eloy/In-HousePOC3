{
 "cells": [
  {
   "cell_type": "code",
   "execution_count": 2,
   "id": "a0fdd437",
   "metadata": {},
   "outputs": [],
   "source": [
    "import os\n",
    "import sys\n",
    "import numpy as np\n",
    "import pandas as pd\n",
    "import matplotlib.pyplot as plt\n",
    "import scipy.io\n",
    "from mne import Epochs, find_events, events_from_annotations\n",
    "import mne\n",
    "import glob\n",
    "import tarfile\n",
    "\n",
    "from mne import find_events"
   ]
  },
  {
   "cell_type": "code",
   "execution_count": 3,
   "id": "c0c62bea",
   "metadata": {},
   "outputs": [],
   "source": [
    "#Manualy download lemon data from : http://fcon_1000.projects.nitrc.org/indi/retro/MPI_LEMON/downloads/download_EEG.html"
   ]
  },
  {
   "cell_type": "code",
   "execution_count": 8,
   "id": "d492ddfe",
   "metadata": {},
   "outputs": [],
   "source": [
    "def eeg_to_epoch(path, event_id=dict(T=1), tmin=-0.2, tmax=0.8, picks='eeg'):\n",
    "    #need a .vhdr\n",
    "    raw = mne.io.read_raw_brainvision(path)\n",
    "    raw.load_data()\n",
    "    filt_raw = raw.copy().filter(0.1, 30, picks='eeg', method='iir', \n",
    "                             iir_params=dict(order=8, ftype='butter'), \n",
    "                             verbose=True)\n",
    "    events = events_from_annotations(filt_raw)\n",
    "    epochs = Epochs(filt_raw, events[0], event_id, tmin, tmax, \n",
    "                    picks=picks, baseline=(-0.2, 0), reject=None, preload=True)\n",
    "    return epochs, events[0], events[1]"
   ]
  },
  {
   "cell_type": "code",
   "execution_count": 9,
   "id": "04c9f1e6",
   "metadata": {},
   "outputs": [],
   "source": [
    "def tar_to_epoch(path, event_id=dict(T=1), tmin=-0.2, tmax=0.8, picks='eeg'):\n",
    "    tar = tarfile.open(open)\n",
    "    d = tar.getnames()\n",
    "    tar.extractall()\n",
    "    tar.close()\n",
    "    eeg_to_epoch(path.replace(d[0]+\".tar.gz\", '')+\"\\n\".join(s for s in d if \"vhdr\" in s), event_id, tmin, tmax, picks)"
   ]
  },
  {
   "cell_type": "code",
   "execution_count": null,
   "id": "91ac18c2",
   "metadata": {},
   "outputs": [],
   "source": []
  }
 ],
 "metadata": {
  "kernelspec": {
   "display_name": "Python 3 (ipykernel)",
   "language": "python",
   "name": "python3"
  },
  "language_info": {
   "codemirror_mode": {
    "name": "ipython",
    "version": 3
   },
   "file_extension": ".py",
   "mimetype": "text/x-python",
   "name": "python",
   "nbconvert_exporter": "python",
   "pygments_lexer": "ipython3",
   "version": "3.8.9"
  }
 },
 "nbformat": 4,
 "nbformat_minor": 5
}
