{
 "cells": [
  {
   "cell_type": "code",
   "execution_count": 1,
   "metadata": {},
   "outputs": [],
   "source": [
    "import numpy as np\n",
    "\n",
    "# mne imports\n",
    "import mne\n",
    "from mne import io\n",
    "from mne.datasets import sample\n",
    "\n",
    "# EEGNet-specific imports\n",
    "#from EEGModels import EEGNet\n",
    "from tensorflow.keras import utils as np_utils\n",
    "from tensorflow.keras.callbacks import ModelCheckpoint\n",
    "from tensorflow.keras import backend as K\n",
    "\n",
    "# PyRiemann imports\n",
    "from pyriemann.estimation import XdawnCovariances\n",
    "from pyriemann.tangentspace import TangentSpace\n",
    "from sklearn.metrics import ConfusionMatrixDisplay, confusion_matrix\n",
    "#from pyriemann.utils.viz import plot_confusion_matrix\n",
    "from sklearn.pipeline import make_pipeline\n",
    "from sklearn.linear_model import LogisticRegression\n",
    "\n",
    "from glob import glob\n",
    "\n",
    "# tools for plotting confusion matrices\n",
    "from matplotlib import pyplot as plt\n",
    "%matplotlib inline"
   ]
  },
  {
   "cell_type": "code",
   "execution_count": 2,
   "metadata": {},
   "outputs": [],
   "source": [
    "K.set_image_data_format('channels_last')"
   ]
  },
  {
   "cell_type": "code",
   "execution_count": 3,
   "metadata": {},
   "outputs": [
    {
     "name": "stdout",
     "output_type": "stream",
     "text": [
      "C:\\Users\\pesylvestre\\mne_data\\MNE-sample-data\n"
     ]
    }
   ],
   "source": [
    "data_path = sample.data_path()\n",
    "print(data_path)"
   ]
  },
  {
   "cell_type": "code",
   "execution_count": 4,
   "metadata": {},
   "outputs": [],
   "source": [
    "pathdata = \"C:/Users/pesylvestre/Documents/Informatique/BRAIL/FY2023 In-House PoC3/In-HousePOC3/in_housepoc3/data/\""
   ]
  },
  {
   "cell_type": "code",
   "execution_count": 5,
   "metadata": {},
   "outputs": [],
   "source": [
    "gb = glob(pathdata+\"sub-032*.csv\")"
   ]
  },
  {
   "cell_type": "code",
   "execution_count": 6,
   "metadata": {},
   "outputs": [],
   "source": [
    "#raw_fname = str(data_path) + '/MEG/sample/sample_audvis_filt-0-40_raw.fif'\n",
    "#event_fname = str(data_path) + '/MEG/sample/sample_audvis_filt-0-40_raw-eve.fif'\n",
    "#tmin, tmax = -0., 1\n",
    "event_id = dict(age_20_25 =1, age_25_30=2, age_30_35=3, age_35_40=4, age_55_60=5, age_60_65=6, age_65_70=7, age_70_75=8, age_75_80=9)"
   ]
  },
  {
   "cell_type": "code",
   "execution_count": 7,
   "metadata": {},
   "outputs": [],
   "source": [
    "#raw = io.Raw(raw_fname, preload=True, verbose=False)\n",
    "#raw.filter(2, None, method='iir')  # replace baselining with high-pass\n",
    "#events = mne.read_events(event_fname)"
   ]
  },
  {
   "cell_type": "code",
   "execution_count": 8,
   "metadata": {},
   "outputs": [],
   "source": [
    "#raw.info['bads'] = ['MEG 2443']  # set bad channels\n",
    "#picks = mne.pick_types(raw.info, meg=False, eeg=True, stim=False, eog=False,\n",
    "                       #exclude='bads')"
   ]
  },
  {
   "cell_type": "code",
   "execution_count": 9,
   "metadata": {},
   "outputs": [],
   "source": [
    "#epochs = mne.Epochs(raw, events, event_id, tmin, tmax, proj=False,\n",
    "                    #picks=picks, baseline=None, preload=True, verbose=False)\n",
    "#labels = epochs.events[:, -1]"
   ]
  },
  {
   "cell_type": "code",
   "execution_count": 10,
   "metadata": {},
   "outputs": [],
   "source": [
    "arr=np.zeros((len(gb),14501,63))"
   ]
  },
  {
   "cell_type": "code",
   "execution_count": 11,
   "metadata": {},
   "outputs": [],
   "source": [
    "import csv\n",
    "import numpy as np"
   ]
  },
  {
   "cell_type": "code",
   "execution_count": 12,
   "metadata": {},
   "outputs": [],
   "source": [
    "arr=np.zeros((len(gb),63,14501))"
   ]
  },
  {
   "cell_type": "code",
   "execution_count": 13,
   "metadata": {
    "scrolled": true
   },
   "outputs": [
    {
     "name": "stdout",
     "output_type": "stream",
     "text": [
      "(2438, 63, 14501) re/Documents/Informatique/BRAIL/FY2023 In-House PoC3/In-HousePOC3/in_housepoc3/data\\sub-032395_EC3_eeg.csv[[[ 0.00000000e+00  4.00000000e-03  8.00000000e-03 ...  5.79920000e+01\n",
      "    5.79960000e+01  5.80000000e+01]\n",
      "  [ 4.43099604e+00  9.29993362e-01 -2.51943588e+00 ... -1.03355189e+00\n",
      "    1.23344036e+00  3.75175956e+00]\n",
      "  [-6.09678655e+00  1.53566527e+00  3.32119603e+00 ... -1.45541010e+00\n",
      "    2.53001694e+00  6.74658741e+00]\n",
      "  ...\n",
      "  [-8.25740802e+00 -1.02092397e+01 -1.19413316e+01 ... -2.19583311e+01\n",
      "   -1.64163607e+01 -7.37770108e+00]\n",
      "  [-6.29691431e+00 -3.40233242e+00 -2.44495481e+00 ... -2.62064339e+01\n",
      "   -2.23936851e+01 -1.41744868e+01]\n",
      "  [-1.84043513e+00  1.02355918e+00  9.58074830e-01 ... -3.16844065e+01\n",
      "   -2.91202513e+01 -2.03665873e+01]]\n",
      "\n",
      " [[ 0.00000000e+00  4.00000000e-03  8.00000000e-03 ...  5.79920000e+01\n",
      "    5.79960000e+01  5.80000000e+01]\n",
      "  [-5.82788061e+00 -8.90241076e+00 -1.74663192e+01 ...  1.25033608e+01\n",
      "    1.18108939e+00 -6.85292335e+00]\n",
      "  [-8.11472722e+00 -1.05149631e+01 -1.31147479e+01 ...  3.14384711e+00\n",
      "    1.30670153e+00  1.02575643e+00]\n",
      "  ...\n",
      "  [ 4.01379408e+00  2.04217907e+00 -8.31606861e-01 ... -8.01143336e+00\n",
      "   -1.47822010e+01 -1.97739663e+01]\n",
      "  [ 5.45985830e+00  3.71864086e+00  1.63309271e+00 ... -7.80400526e+00\n",
      "   -1.45953849e+01 -1.98253593e+01]\n",
      "  [ 1.26404617e+01  1.14456214e+01  1.02170395e+01 ... -9.34892755e+00\n",
      "   -1.65321779e+01 -2.26761902e+01]]\n",
      "\n",
      " [[ 0.00000000e+00  4.00000000e-03  8.00000000e-03 ...  5.79920000e+01\n",
      "    5.79960000e+01  5.80000000e+01]\n",
      "  [-1.85332366e+01 -2.05588588e+01 -1.89481539e+01 ...  6.88106239e+00\n",
      "    1.61159742e+01  2.74809984e+01]\n",
      "  [-1.70773916e+01 -1.26139888e+01 -6.32204692e+00 ... -1.06102796e+01\n",
      "   -4.74538436e+00  7.37304665e+00]\n",
      "  ...\n",
      "  [-9.57055759e+00 -1.19537743e+01 -1.06678688e+01 ... -2.80330082e+00\n",
      "   -3.88868872e+00 -4.11995758e+00]\n",
      "  [-9.50765694e+00 -1.31977855e+01 -1.40519305e+01 ... -3.66072314e+00\n",
      "   -6.37783751e+00 -6.80370296e+00]\n",
      "  [-1.35473996e+01 -1.98558383e+01 -2.28713983e+01 ... -2.78108259e+00\n",
      "   -2.77956010e+00 -1.91483971e-01]]\n",
      "\n",
      " ...\n",
      "\n",
      " [[ 0.00000000e+00  0.00000000e+00  0.00000000e+00 ...  0.00000000e+00\n",
      "    0.00000000e+00  0.00000000e+00]\n",
      "  [ 0.00000000e+00  0.00000000e+00  0.00000000e+00 ...  0.00000000e+00\n",
      "    0.00000000e+00  0.00000000e+00]\n",
      "  [ 0.00000000e+00  0.00000000e+00  0.00000000e+00 ...  0.00000000e+00\n",
      "    0.00000000e+00  0.00000000e+00]\n",
      "  ...\n",
      "  [ 0.00000000e+00  0.00000000e+00  0.00000000e+00 ...  0.00000000e+00\n",
      "    0.00000000e+00  0.00000000e+00]\n",
      "  [ 0.00000000e+00  0.00000000e+00  0.00000000e+00 ...  0.00000000e+00\n",
      "    0.00000000e+00  0.00000000e+00]\n",
      "  [ 0.00000000e+00  0.00000000e+00  0.00000000e+00 ...  0.00000000e+00\n",
      "    0.00000000e+00  0.00000000e+00]]\n",
      "\n",
      " [[ 0.00000000e+00  0.00000000e+00  0.00000000e+00 ...  0.00000000e+00\n",
      "    0.00000000e+00  0.00000000e+00]\n",
      "  [ 0.00000000e+00  0.00000000e+00  0.00000000e+00 ...  0.00000000e+00\n",
      "    0.00000000e+00  0.00000000e+00]\n",
      "  [ 0.00000000e+00  0.00000000e+00  0.00000000e+00 ...  0.00000000e+00\n",
      "    0.00000000e+00  0.00000000e+00]\n",
      "  ...\n",
      "  [ 0.00000000e+00  0.00000000e+00  0.00000000e+00 ...  0.00000000e+00\n",
      "    0.00000000e+00  0.00000000e+00]\n",
      "  [ 0.00000000e+00  0.00000000e+00  0.00000000e+00 ...  0.00000000e+00\n",
      "    0.00000000e+00  0.00000000e+00]\n",
      "  [ 0.00000000e+00  0.00000000e+00  0.00000000e+00 ...  0.00000000e+00\n",
      "    0.00000000e+00  0.00000000e+00]]\n",
      "\n",
      " [[ 0.00000000e+00  0.00000000e+00  0.00000000e+00 ...  0.00000000e+00\n",
      "    0.00000000e+00  0.00000000e+00]\n",
      "  [ 0.00000000e+00  0.00000000e+00  0.00000000e+00 ...  0.00000000e+00\n",
      "    0.00000000e+00  0.00000000e+00]\n",
      "  [ 0.00000000e+00  0.00000000e+00  0.00000000e+00 ...  0.00000000e+00\n",
      "    0.00000000e+00  0.00000000e+00]\n",
      "  ...\n",
      "  [ 0.00000000e+00  0.00000000e+00  0.00000000e+00 ...  0.00000000e+00\n",
      "    0.00000000e+00  0.00000000e+00]\n",
      "  [ 0.00000000e+00  0.00000000e+00  0.00000000e+00 ...  0.00000000e+00\n",
      "    0.00000000e+00  0.00000000e+00]\n",
      "  [ 0.00000000e+00  0.00000000e+00  0.00000000e+00 ...  0.00000000e+00\n",
      "    0.00000000e+00  0.00000000e+00]]]\n"
     ]
    }
   ],
   "source": [
    "import pandas as pd\n",
    "i = 0\n",
    "for filename in gb:\n",
    "    if i > 1000:\n",
    "        continue\n",
    "    print(filename, end=\"\\r\")\n",
    "    df=pd.read_csv(filename)\n",
    "    #print(df.values)\n",
    "    #print(df.shape)\n",
    "    if df.shape[0] == 14501:\n",
    "        arr[i]=df.T.values\n",
    "    i=i+1\n",
    "\n",
    "print(arr.shape, arr)"
   ]
  },
  {
   "cell_type": "code",
   "execution_count": 14,
   "metadata": {},
   "outputs": [
    {
     "name": "stdout",
     "output_type": "stream",
     "text": [
      "[7 7 7 ... 1 1 1]\n",
      "(2438,)\n"
     ]
    },
    {
     "name": "stderr",
     "output_type": "stream",
     "text": [
      "C:\\Users\\PESYLV~1\\AppData\\Local\\Temp/ipykernel_29472/4242893162.py:6: DeprecationWarning: `np.int` is a deprecated alias for the builtin `int`. To silence this warning, use `int` by itself. Doing this will not modify any behavior and is safe. When replacing `np.int`, you may wish to use e.g. `np.int64` or `np.int32` to specify the precision. If you wish to review your current use, check the release note link for additional information.\n",
      "Deprecated in NumPy 1.20; for more details and guidance: https://numpy.org/devdocs/release/1.20.0-notes.html#deprecations\n",
      "  data_array = np.asarray(data[0][:-1]).astype(np.int)\n"
     ]
    }
   ],
   "source": [
    "with open(pathdata+\"clab.csv\",'r') as dest_f:\n",
    "    data_iter = csv.reader(dest_f,\n",
    "                           delimiter = ',',\n",
    "                           quotechar = '\"')\n",
    "    data = [data for data in data_iter]\n",
    "data_array = np.asarray(data[0][:-1]).astype(np.int)\n",
    "print(data_array)\n",
    "print(data_array.shape)"
   ]
  },
  {
   "cell_type": "code",
   "execution_count": 15,
   "metadata": {},
   "outputs": [
    {
     "name": "stdout",
     "output_type": "stream",
     "text": [
      "<class 'numpy.ndarray'>\n",
      "[7 7 7 7 7 7 7 7 7 7 7 7 7 7 1 1 1 1 1 1 1 1 1 1 1 1 1 1 1 1 7 7 7 7 7 7 7\n",
      " 7 7 7 7 7 7 2 2 2 2 2 2 2 2 2 2 2 7 7 7 7 7 7 7 7 7 7 7 7 7 7 7 7 7 7 7 7\n",
      " 2 2 2 2 2 2 2 2 2 2 2 6 6 6 6 6 6 6 6 6 6 6 6 1 1 1 1 1 2 2 2 2 2 2 2 2 2\n",
      " 2 2 2 1 1 1 1 1 1 1 1 1 1 1 1 1 1 1 1 1 1 1 1 1 1 1 1 1 1 1 1 1 1 1 1 1 1\n",
      " 1 1 2 2 2 2 2 2 2 2 2 2 2 1 1 1 1 1 1 1 1 1 1 1 2 2 2 2 2 2 2 2 2 2 2 2 2\n",
      " 2 1 1 1 1 1 1 1 1 1 1 6 6 6 6 6 6 6 6 6 6 1 1 1 1 1 1 1 1 1 1 1 2 2 2 2 2\n",
      " 2 2 3 3 3 3 3 3 3 3 1 1 1 1 1 1 1 1 1 1 1 1 1 1 1 1 1 1 1 1 1 1 1 1 1 1 1\n",
      " 1 1 1 1 1 1 1 1 1 1 1 1 1 1 1 1 1 1 1 1 1 2 2 2 2 2 2 2 2 2 2 2 2 2 2 2 2\n",
      " 2 2 2 2 2 2 2 2 3 3 3 3 3 3 3 3 3 3 3 7 7 7 7 7 7 7 7 7 2 2 2 2 2 2 2 2 2\n",
      " 2 2 2 8 8 8 8 8 8 8 8 8 8 8 8 8 1 1 1 1 1 1 1 1 1 1 1 1 1 1 8 8 8 8 8 8 8\n",
      " 8 8 8 8 3 3 3 3 3 3 3 3 3 3 3 3 3 7 7 7 7 7 7 7 7 7 7 7 7 7 7 7 7 7 7 7 7\n",
      " 7 7 7 7 7 7 7 7 9 9 9 9 9 9 9 9 9 7 7 7 7 7 7 7 7 7 8 8 8 8 8 8 8 8 8 8 8\n",
      " 8 6 6 6 6 6 6 6 6 6 6 6 7 7 7 7 7 7 7 7 2 2 2 2 2 2 2 2 2 1 1 1 1 1 1 1 1\n",
      " 1 1 1 1 1 1 1 1 1 1 9 9 9 9 9 9 9 9 9 9 9 9 3 3 3 3 3 3 3 3 3 3 3 2 2 2 2\n",
      " 2 2 2 2 2 2 2 2 2 2 2 2 2 2 2 2 1 1 1 1 1 1 1 1 1 1 1 1 1 1 1 1 1 1 1 1 1\n",
      " 1 1 1 1 1 1 1 2 2 2 2 2 2 2 2 2 2 2 2 1 1 1 1 1 1 1 1 2 2 2 2 2 2 2 2 1 1\n",
      " 1 1 1 1 1 1 1 1 1 1 1 1 1 1 1 1 1 1 1 1 1 2 2 2 2 2 2 2 2 2 2 2 2 2 2 2 2\n",
      " 2 2 2 2 2 2 1 1 1 1 1 1 1 1 1 1 1 1 3 3 3 3 3 3 3 3 3 3 3 1 1 1 1 1 1 1 1\n",
      " 1 1 2 2 2 2 2 2 2 2 2 2 2 2 1 1 1 1 1 1 1 1 1 1 1 1 1 1 1 1 1 1 1 1 2 2 2\n",
      " 2 2 2 2 2 2 2 3 3 3 3 3 3 3 3 6 6 6 6 6 6 6 6 6 6 1 1 1 1 1 1 1 1 1 1 1 1\n",
      " 1 1 1 1 8 8 8 8 8 8 8 8 8 8 8 8 8 7 7 7 7 7 7 7 7 7 7 9 9 9 9 9 9 9 9 9 9\n",
      " 9 9 7 7 7 7 7 7 7 7 7 7 7 7 6 6 6 6 6 6 6 6 6 6 6 7 7 7 7 7 7 7 7 7 7 7 7\n",
      " 5 5 5 5 5 5 5 5 5 5 5 5 8 8 8 8 8 8 8 8 8 8 8 8 8 8 8 8 8 8 8 8 8 8 8 8 8\n",
      " 8 8 3 3 3 3 3 3 3 3 3 3 3 2 2 2 2 2 2 2 2 2 6 6 6 6 6 6 6 6 6 6 1 1 1 1 1\n",
      " 1 1 1 1 1 1 1 1 1 1 1 1 1 1 1 2 2 2 2 2 2 2 2 2 2 2 2 2 2 2 2 2 2 2 2 2 2\n",
      " 2 2 2 2 2 2 2 2 2 2 2 2 2 2 2 2 2 2 2 1 1 1 1 1 1 1 1 1 1 1 1 1 4 4 4 4 4\n",
      " 4 4 4 4 4 7 7 7 7 7 7 7 7 7 7 7 7 7 6 6 6 6 6 6 6 6 6 6 6 1 1 1 1 1 1 1 6\n",
      " 6]\n",
      "(1000, 63, 14501) (1000,)\n"
     ]
    }
   ],
   "source": [
    "X = arr[:1000]\n",
    "y = data_array[:1000]\n",
    "print(type(X))\n",
    "print(y)\n",
    "print(X.shape, y.shape)"
   ]
  },
  {
   "cell_type": "code",
   "execution_count": 16,
   "metadata": {},
   "outputs": [],
   "source": [
    "kernels, chans, samples = 1, 63, 14501\n",
    "p50 = int(len(y)/2)\n",
    "p75 = int(len(y)*0.75)"
   ]
  },
  {
   "cell_type": "code",
   "execution_count": 17,
   "metadata": {},
   "outputs": [],
   "source": [
    "X_train      = X[0:p50,]\n",
    "Y_train      = y[0:p50]\n",
    "X_validate   = X[p50:p75,]\n",
    "Y_validate   = y[p50:p75]\n",
    "X_test       = X[p75:,]\n",
    "Y_test       = y[p75:]"
   ]
  },
  {
   "cell_type": "code",
   "execution_count": 18,
   "metadata": {},
   "outputs": [],
   "source": [
    "Y_train      = np_utils.to_categorical(Y_train-1)\n",
    "Y_validate   = np_utils.to_categorical(Y_validate-1)\n",
    "Y_test       = np_utils.to_categorical(Y_test-1)"
   ]
  },
  {
   "cell_type": "code",
   "execution_count": 19,
   "metadata": {},
   "outputs": [
    {
     "name": "stdout",
     "output_type": "stream",
     "text": [
      "X_train shape: (500, 63, 14501)\n",
      "500 train samples\n",
      "250 test samples\n",
      "500 train samples\n",
      "250 test samples\n"
     ]
    }
   ],
   "source": [
    "print('X_train shape:', X_train.shape)\n",
    "print(X_train.shape[0], 'train samples')\n",
    "print(X_test.shape[0], 'test samples')\n",
    "print(Y_train.shape[0], 'train samples')\n",
    "print(Y_test.shape[0], 'test samples')"
   ]
  },
  {
   "cell_type": "code",
   "execution_count": 20,
   "metadata": {},
   "outputs": [],
   "source": [
    "n_components = 2"
   ]
  },
  {
   "cell_type": "code",
   "execution_count": 21,
   "metadata": {},
   "outputs": [],
   "source": [
    "clf = make_pipeline(XdawnCovariances(n_components, estimator='oas'),\n",
    "                    TangentSpace(metric='riemann'),\n",
    "                    LogisticRegression())"
   ]
  },
  {
   "cell_type": "code",
   "execution_count": 22,
   "metadata": {},
   "outputs": [],
   "source": [
    "X_train = X_train.reshape(X_train.shape[0], chans, samples)\n",
    "X_test = X_test.reshape(X_test.shape[0], chans, samples)"
   ]
  },
  {
   "cell_type": "code",
   "execution_count": 23,
   "metadata": {},
   "outputs": [],
   "source": [
    "clf.fit(X_train, Y_train.argmax(axis = -1))\n",
    "preds_rg = clf.predict(X_test)"
   ]
  },
  {
   "cell_type": "code",
   "execution_count": 29,
   "metadata": {},
   "outputs": [
    {
     "name": "stdout",
     "output_type": "stream",
     "text": [
      "Classification accuracy: 8.800000 %\n"
     ]
    }
   ],
   "source": [
    "acc2 = np.mean(preds_rg == Y_test.argmax(axis = -1))\n",
    "print(\"Classification accuracy: %f \" % (acc2*100), end=\"\")\n",
    "print(\"%\")"
   ]
  },
  {
   "cell_type": "code",
   "execution_count": 30,
   "metadata": {},
   "outputs": [
    {
     "data": {
      "text/plain": [
       "<Figure size 432x288 with 0 Axes>"
      ]
     },
     "metadata": {},
     "output_type": "display_data"
    },
    {
     "data": {
      "image/png": "[encoded data removed]",
      "text/plain": [
       "<Figure size 432x288 with 2 Axes>"
      ]
     },
     "metadata": {
      "needs_background": "light"
     },
     "output_type": "display_data"
    }
   ],
   "source": [
    "names = ['audio left', 'audio right', 'vis left', 'vis right']\n",
    "plt.figure(0)\n",
    "cm = confusion_matrix(Y_test.argmax(axis = -1), preds_rg)\n",
    "ConfusionMatrixDisplay(cm).plot()\n",
    "plt.show()"
   ]
  },
  {
   "cell_type": "code",
   "execution_count": null,
   "metadata": {},
   "outputs": [],
   "source": []
  },
  {
   "cell_type": "code",
   "execution_count": null,
   "metadata": {},
   "outputs": [],
   "source": []
  }
 ],
 "metadata": {
  "kernelspec": {
   "display_name": "Python 3 (ipykernel)",
   "language": "python",
   "name": "python3"
  },
  "language_info": {
   "codemirror_mode": {
    "name": "ipython",
    "version": 3
   },
   "file_extension": ".py",
   "mimetype": "text/x-python",
   "name": "python",
   "nbconvert_exporter": "python",
   "pygments_lexer": "ipython3",
   "version": "3.8.9"
  }
 },
 "nbformat": 4,
 "nbformat_minor": 4
}
