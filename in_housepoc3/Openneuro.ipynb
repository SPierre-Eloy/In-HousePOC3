{
 "cells": [
  {
   "cell_type": "code",
   "execution_count": 31,
   "id": "egyptian-hearing",
   "metadata": {},
   "outputs": [],
   "source": [
    "import os\n",
    "import os.path as op\n",
    "import openneuro\n",
    "\n",
    "from mne.datasets import sample\n",
    "from mne_bids import (\n",
    "    BIDSPath,\n",
    "    read_raw_bids,\n",
    "    print_dir_tree,\n",
    "    make_report,\n",
    "    find_matching_paths,\n",
    "    get_entity_vals,\n",
    ")"
   ]
  },
  {
   "cell_type": "code",
   "execution_count": 32,
   "id": "dominant-leadership",
   "metadata": {},
   "outputs": [
    {
     "name": "stdout",
     "output_type": "stream",
     "text": [
      "\n",
      "👋 Hello! This is openneuro-py 2023.1.0. Great to see you! 🤗\n",
      "\n",
      "   👉 Please report problems 🤯 and bugs 🪲 at\n",
      "      https://github.com/hoechenberger/openneuro-py/issues\n",
      "\n",
      "🌍 Preparing to download ds002778 …\n"
     ]
    },
    {
     "data": {
      "application/vnd.jupyter.widget-view+json": {
       "model_id": "9243911e3aa54f8dab4b86b8a84628d8",
       "version_major": 2,
       "version_minor": 0
      },
      "text/plain": [
       "📁 Traversing directories for ds002778 : 0 entities [00:00, ? entities/s]"
      ]
     },
     "metadata": {},
     "output_type": "display_data"
    },
    {
     "name": "stdout",
     "output_type": "stream",
     "text": [
      "📥 Retrieving up to 328 files (5 concurrent downloads). \n",
      "✅ Finished downloading ds002778.\n",
      " \n",
      "🧠 Please enjoy your brains.\n",
      " \n"
     ]
    },
    {
     "data": {
      "application/vnd.jupyter.widget-view+json": {
       "model_id": "",
       "version_major": 2,
       "version_minor": 0
      },
      "text/plain": [
       "Re-downloading dataset_description.json: file size mismatch.: 0.00B [00:00, ?B/s]"
      ]
     },
     "metadata": {},
     "output_type": "display_data"
    },
    {
     "data": {
      "application/vnd.jupyter.widget-view+json": {
       "model_id": "",
       "version_major": 2,
       "version_minor": 0
      },
      "text/plain": [
       "Re-downloading CHANGES: file size mismatch.: 0.00B [00:00, ?B/s]"
      ]
     },
     "metadata": {},
     "output_type": "display_data"
    },
    {
     "data": {
      "application/vnd.jupyter.widget-view+json": {
       "model_id": "",
       "version_major": 2,
       "version_minor": 0
      },
      "text/plain": [
       "Re-downloading README: file size mismatch.: 0.00B [00:00, ?B/s]"
      ]
     },
     "metadata": {},
     "output_type": "display_data"
    },
    {
     "data": {
      "application/vnd.jupyter.widget-view+json": {
       "model_id": "",
       "version_major": 2,
       "version_minor": 0
      },
      "text/plain": [
       "Skipping participants.tsv: already downloaded.: 100%|##########| 1.62k/1.62k [00:00<?, ?B/s]"
      ]
     },
     "metadata": {},
     "output_type": "display_data"
    },
    {
     "data": {
      "application/vnd.jupyter.widget-view+json": {
       "model_id": "",
       "version_major": 2,
       "version_minor": 0
      },
      "text/plain": [
       "Skipping participants.json: already downloaded.: 100%|##########| 1.24k/1.24k [00:00<?, ?B/s]"
      ]
     },
     "metadata": {},
     "output_type": "display_data"
    },
    {
     "data": {
      "application/vnd.jupyter.widget-view+json": {
       "model_id": "",
       "version_major": 2,
       "version_minor": 0
      },
      "text/plain": [
       "sub-hc1_ses-hc_task-rest_beh.tsv:   0%|          | 0.00/10.0 [00:00<?, ?B/s]"
      ]
     },
     "metadata": {},
     "output_type": "display_data"
    },
    {
     "data": {
      "application/vnd.jupyter.widget-view+json": {
       "model_id": "",
       "version_major": 2,
       "version_minor": 0
      },
      "text/plain": [
       "sub-hc1_ses-hc_task-rest_events.tsv:   0%|          | 0.00/65.0 [00:00<?, ?B/s]"
      ]
     },
     "metadata": {},
     "output_type": "display_data"
    },
    {
     "data": {
      "application/vnd.jupyter.widget-view+json": {
       "model_id": "",
       "version_major": 2,
       "version_minor": 0
      },
      "text/plain": [
       "sub-hc1_ses-hc_task-rest_channels.tsv:   0%|          | 0.00/2.22k [00:00<?, ?B/s]"
      ]
     },
     "metadata": {},
     "output_type": "display_data"
    },
    {
     "data": {
      "application/vnd.jupyter.widget-view+json": {
       "model_id": "",
       "version_major": 2,
       "version_minor": 0
      },
      "text/plain": [
       "sub-hc1_ses-hc_task-rest_eeg.json:   0%|          | 0.00/471 [00:00<?, ?B/s]"
      ]
     },
     "metadata": {},
     "output_type": "display_data"
    },
    {
     "data": {
      "application/vnd.jupyter.widget-view+json": {
       "model_id": "",
       "version_major": 2,
       "version_minor": 0
      },
      "text/plain": [
       "sub-hc1_ses-hc_task-rest_eeg.bdf:   0%|          | 0.00/11.5M [00:00<?, ?B/s]"
      ]
     },
     "metadata": {},
     "output_type": "display_data"
    },
    {
     "data": {
      "application/vnd.jupyter.widget-view+json": {
       "model_id": "",
       "version_major": 2,
       "version_minor": 0
      },
      "text/plain": [
       "sub-hc10_ses-hc_task-rest_eeg.json:   0%|          | 0.00/471 [00:00<?, ?B/s]"
      ]
     },
     "metadata": {},
     "output_type": "display_data"
    },
    {
     "data": {
      "application/vnd.jupyter.widget-view+json": {
       "model_id": "",
       "version_major": 2,
       "version_minor": 0
      },
      "text/plain": [
       "sub-hc10_ses-hc_task-rest_events.tsv:   0%|          | 0.00/66.0 [00:00<?, ?B/s]"
      ]
     },
     "metadata": {},
     "output_type": "display_data"
    },
    {
     "data": {
      "application/vnd.jupyter.widget-view+json": {
       "model_id": "",
       "version_major": 2,
       "version_minor": 0
      },
      "text/plain": [
       "sub-hc18_ses-hc_scans.tsv:   0%|          | 0.00/75.0 [00:00<?, ?B/s]"
      ]
     },
     "metadata": {},
     "output_type": "display_data"
    },
    {
     "data": {
      "application/vnd.jupyter.widget-view+json": {
       "model_id": "",
       "version_major": 2,
       "version_minor": 0
      },
      "text/plain": [
       "sub-hc18_ses-hc_task-rest_beh.json:   0%|          | 0.00/90.0 [00:00<?, ?B/s]"
      ]
     },
     "metadata": {},
     "output_type": "display_data"
    },
    {
     "data": {
      "application/vnd.jupyter.widget-view+json": {
       "model_id": "",
       "version_major": 2,
       "version_minor": 0
      },
      "text/plain": [
       "sub-hc18_ses-hc_task-rest_events.tsv:   0%|          | 0.00/65.0 [00:00<?, ?B/s]"
      ]
     },
     "metadata": {},
     "output_type": "display_data"
    },
    {
     "data": {
      "application/vnd.jupyter.widget-view+json": {
       "model_id": "",
       "version_major": 2,
       "version_minor": 0
      },
      "text/plain": [
       "sub-hc2_ses-hc_scans.tsv:   0%|          | 0.00/74.0 [00:00<?, ?B/s]"
      ]
     },
     "metadata": {},
     "output_type": "display_data"
    },
    {
     "data": {
      "application/vnd.jupyter.widget-view+json": {
       "model_id": "",
       "version_major": 2,
       "version_minor": 0
      },
      "text/plain": [
       "sub-hc2_ses-hc_task-rest_beh.json:   0%|          | 0.00/90.0 [00:00<?, ?B/s]"
      ]
     },
     "metadata": {},
     "output_type": "display_data"
    },
    {
     "data": {
      "application/vnd.jupyter.widget-view+json": {
       "model_id": "",
       "version_major": 2,
       "version_minor": 0
      },
      "text/plain": [
       "sub-hc2_ses-hc_task-rest_beh.tsv:   0%|          | 0.00/10.0 [00:00<?, ?B/s]"
      ]
     },
     "metadata": {},
     "output_type": "display_data"
    },
    {
     "data": {
      "application/vnd.jupyter.widget-view+json": {
       "model_id": "",
       "version_major": 2,
       "version_minor": 0
      },
      "text/plain": [
       "sub-hc20_ses-hc_scans.tsv:   0%|          | 0.00/75.0 [00:00<?, ?B/s]"
      ]
     },
     "metadata": {},
     "output_type": "display_data"
    },
    {
     "data": {
      "application/vnd.jupyter.widget-view+json": {
       "model_id": "",
       "version_major": 2,
       "version_minor": 0
      },
      "text/plain": [
       "sub-hc20_ses-hc_task-rest_beh.json:   0%|          | 0.00/90.0 [00:00<?, ?B/s]"
      ]
     },
     "metadata": {},
     "output_type": "display_data"
    },
    {
     "data": {
      "application/vnd.jupyter.widget-view+json": {
       "model_id": "",
       "version_major": 2,
       "version_minor": 0
      },
      "text/plain": [
       "sub-hc20_ses-hc_task-rest_beh.tsv:   0%|          | 0.00/10.0 [00:00<?, ?B/s]"
      ]
     },
     "metadata": {},
     "output_type": "display_data"
    },
    {
     "data": {
      "application/vnd.jupyter.widget-view+json": {
       "model_id": "",
       "version_major": 2,
       "version_minor": 0
      },
      "text/plain": [
       "sub-hc20_ses-hc_task-rest_channels.tsv:   0%|          | 0.00/2.22k [00:00<?, ?B/s]"
      ]
     },
     "metadata": {},
     "output_type": "display_data"
    },
    {
     "data": {
      "application/vnd.jupyter.widget-view+json": {
       "model_id": "",
       "version_major": 2,
       "version_minor": 0
      },
      "text/plain": [
       "sub-hc20_ses-hc_task-rest_eeg.bdf:   0%|          | 0.00/11.1M [00:00<?, ?B/s]"
      ]
     },
     "metadata": {},
     "output_type": "display_data"
    },
    {
     "data": {
      "application/vnd.jupyter.widget-view+json": {
       "model_id": "",
       "version_major": 2,
       "version_minor": 0
      },
      "text/plain": [
       "sub-hc21_ses-hc_task-rest_channels.tsv:   0%|          | 0.00/2.22k [00:00<?, ?B/s]"
      ]
     },
     "metadata": {},
     "output_type": "display_data"
    },
    {
     "data": {
      "application/vnd.jupyter.widget-view+json": {
       "model_id": "",
       "version_major": 2,
       "version_minor": 0
      },
      "text/plain": [
       "sub-hc21_ses-hc_task-rest_eeg.json:   0%|          | 0.00/471 [00:00<?, ?B/s]"
      ]
     },
     "metadata": {},
     "output_type": "display_data"
    },
    {
     "data": {
      "application/vnd.jupyter.widget-view+json": {
       "model_id": "",
       "version_major": 2,
       "version_minor": 0
      },
      "text/plain": [
       "sub-hc21_ses-hc_task-rest_events.tsv:   0%|          | 0.00/66.0 [00:00<?, ?B/s]"
      ]
     },
     "metadata": {},
     "output_type": "display_data"
    },
    {
     "data": {
      "application/vnd.jupyter.widget-view+json": {
       "model_id": "",
       "version_major": 2,
       "version_minor": 0
      },
      "text/plain": [
       "sub-hc21_ses-hc_task-rest_eeg.bdf:   0%|          | 0.00/11.4M [00:00<?, ?B/s]"
      ]
     },
     "metadata": {},
     "output_type": "display_data"
    },
    {
     "data": {
      "application/vnd.jupyter.widget-view+json": {
       "model_id": "",
       "version_major": 2,
       "version_minor": 0
      },
      "text/plain": [
       "sub-hc24_ses-hc_task-rest_eeg.json:   0%|          | 0.00/471 [00:00<?, ?B/s]"
      ]
     },
     "metadata": {},
     "output_type": "display_data"
    },
    {
     "data": {
      "application/vnd.jupyter.widget-view+json": {
       "model_id": "",
       "version_major": 2,
       "version_minor": 0
      },
      "text/plain": [
       "sub-hc24_ses-hc_task-rest_events.tsv:   0%|          | 0.00/66.0 [00:00<?, ?B/s]"
      ]
     },
     "metadata": {},
     "output_type": "display_data"
    },
    {
     "data": {
      "application/vnd.jupyter.widget-view+json": {
       "model_id": "",
       "version_major": 2,
       "version_minor": 0
      },
      "text/plain": [
       "sub-hc24_ses-hc_task-rest_eeg.bdf:   0%|          | 0.00/11.5M [00:00<?, ?B/s]"
      ]
     },
     "metadata": {},
     "output_type": "display_data"
    },
    {
     "data": {
      "application/vnd.jupyter.widget-view+json": {
       "model_id": "",
       "version_major": 2,
       "version_minor": 0
      },
      "text/plain": [
       "sub-hc25_ses-hc_task-rest_channels.tsv:   0%|          | 0.00/2.22k [00:00<?, ?B/s]"
      ]
     },
     "metadata": {},
     "output_type": "display_data"
    },
    {
     "data": {
      "application/vnd.jupyter.widget-view+json": {
       "model_id": "",
       "version_major": 2,
       "version_minor": 0
      },
      "text/plain": [
       "sub-hc25_ses-hc_task-rest_eeg.json:   0%|          | 0.00/471 [00:00<?, ?B/s]"
      ]
     },
     "metadata": {},
     "output_type": "display_data"
    },
    {
     "data": {
      "application/vnd.jupyter.widget-view+json": {
       "model_id": "",
       "version_major": 2,
       "version_minor": 0
      },
      "text/plain": [
       "sub-hc25_ses-hc_task-rest_eeg.bdf:   0%|          | 0.00/12.1M [00:00<?, ?B/s]"
      ]
     },
     "metadata": {},
     "output_type": "display_data"
    },
    {
     "data": {
      "application/vnd.jupyter.widget-view+json": {
       "model_id": "",
       "version_major": 2,
       "version_minor": 0
      },
      "text/plain": [
       "sub-hc25_ses-hc_task-rest_events.tsv:   0%|          | 0.00/67.0 [00:00<?, ?B/s]"
      ]
     },
     "metadata": {},
     "output_type": "display_data"
    },
    {
     "data": {
      "application/vnd.jupyter.widget-view+json": {
       "model_id": "",
       "version_major": 2,
       "version_minor": 0
      },
      "text/plain": [
       "sub-hc29_ses-hc_task-rest_eeg.bdf:   0%|          | 0.00/12.0M [00:00<?, ?B/s]"
      ]
     },
     "metadata": {},
     "output_type": "display_data"
    },
    {
     "data": {
      "application/vnd.jupyter.widget-view+json": {
       "model_id": "",
       "version_major": 2,
       "version_minor": 0
      },
      "text/plain": [
       "sub-hc29_ses-hc_task-rest_eeg.json:   0%|          | 0.00/471 [00:00<?, ?B/s]"
      ]
     },
     "metadata": {},
     "output_type": "display_data"
    },
    {
     "data": {
      "application/vnd.jupyter.widget-view+json": {
       "model_id": "",
       "version_major": 2,
       "version_minor": 0
      },
      "text/plain": [
       "sub-hc29_ses-hc_task-rest_events.tsv:   0%|          | 0.00/66.0 [00:00<?, ?B/s]"
      ]
     },
     "metadata": {},
     "output_type": "display_data"
    },
    {
     "data": {
      "application/vnd.jupyter.widget-view+json": {
       "model_id": "",
       "version_major": 2,
       "version_minor": 0
      },
      "text/plain": [
       "sub-hc30_ses-hc_task-rest_channels.tsv:   0%|          | 0.00/2.22k [00:00<?, ?B/s]"
      ]
     },
     "metadata": {},
     "output_type": "display_data"
    },
    {
     "data": {
      "application/vnd.jupyter.widget-view+json": {
       "model_id": "",
       "version_major": 2,
       "version_minor": 0
      },
      "text/plain": [
       "sub-hc30_ses-hc_task-rest_eeg.bdf:   0%|          | 0.00/11.4M [00:00<?, ?B/s]"
      ]
     },
     "metadata": {},
     "output_type": "display_data"
    },
    {
     "data": {
      "application/vnd.jupyter.widget-view+json": {
       "model_id": "",
       "version_major": 2,
       "version_minor": 0
      },
      "text/plain": [
       "sub-hc30_ses-hc_task-rest_eeg.json:   0%|          | 0.00/471 [00:00<?, ?B/s]"
      ]
     },
     "metadata": {},
     "output_type": "display_data"
    },
    {
     "data": {
      "application/vnd.jupyter.widget-view+json": {
       "model_id": "",
       "version_major": 2,
       "version_minor": 0
      },
      "text/plain": [
       "sub-hc31_ses-hc_task-rest_beh.tsv:   0%|          | 0.00/10.0 [00:00<?, ?B/s]"
      ]
     },
     "metadata": {},
     "output_type": "display_data"
    },
    {
     "data": {
      "application/vnd.jupyter.widget-view+json": {
       "model_id": "",
       "version_major": 2,
       "version_minor": 0
      },
      "text/plain": [
       "sub-hc31_ses-hc_task-rest_channels.tsv:   0%|          | 0.00/2.22k [00:00<?, ?B/s]"
      ]
     },
     "metadata": {},
     "output_type": "display_data"
    },
    {
     "data": {
      "application/vnd.jupyter.widget-view+json": {
       "model_id": "",
       "version_major": 2,
       "version_minor": 0
      },
      "text/plain": [
       "sub-hc31_ses-hc_task-rest_eeg.json:   0%|          | 0.00/471 [00:00<?, ?B/s]"
      ]
     },
     "metadata": {},
     "output_type": "display_data"
    },
    {
     "data": {
      "application/vnd.jupyter.widget-view+json": {
       "model_id": "",
       "version_major": 2,
       "version_minor": 0
      },
      "text/plain": [
       "sub-hc32_ses-hc_task-rest_beh.json:   0%|          | 0.00/90.0 [00:00<?, ?B/s]"
      ]
     },
     "metadata": {},
     "output_type": "display_data"
    },
    {
     "data": {
      "application/vnd.jupyter.widget-view+json": {
       "model_id": "",
       "version_major": 2,
       "version_minor": 0
      },
      "text/plain": [
       "sub-hc32_ses-hc_task-rest_beh.tsv:   0%|          | 0.00/10.0 [00:00<?, ?B/s]"
      ]
     },
     "metadata": {},
     "output_type": "display_data"
    },
    {
     "data": {
      "application/vnd.jupyter.widget-view+json": {
       "model_id": "",
       "version_major": 2,
       "version_minor": 0
      },
      "text/plain": [
       "sub-hc32_ses-hc_task-rest_eeg.bdf:   0%|          | 0.00/11.8M [00:00<?, ?B/s]"
      ]
     },
     "metadata": {},
     "output_type": "display_data"
    },
    {
     "data": {
      "application/vnd.jupyter.widget-view+json": {
       "model_id": "",
       "version_major": 2,
       "version_minor": 0
      },
      "text/plain": [
       "sub-hc33_ses-hc_scans.tsv:   0%|          | 0.00/75.0 [00:00<?, ?B/s]"
      ]
     },
     "metadata": {},
     "output_type": "display_data"
    },
    {
     "data": {
      "application/vnd.jupyter.widget-view+json": {
       "model_id": "",
       "version_major": 2,
       "version_minor": 0
      },
      "text/plain": [
       "sub-hc33_ses-hc_task-rest_beh.json:   0%|          | 0.00/90.0 [00:00<?, ?B/s]"
      ]
     },
     "metadata": {},
     "output_type": "display_data"
    },
    {
     "data": {
      "application/vnd.jupyter.widget-view+json": {
       "model_id": "",
       "version_major": 2,
       "version_minor": 0
      },
      "text/plain": [
       "sub-hc33_ses-hc_task-rest_eeg.bdf:   0%|          | 0.00/11.4M [00:00<?, ?B/s]"
      ]
     },
     "metadata": {},
     "output_type": "display_data"
    },
    {
     "data": {
      "application/vnd.jupyter.widget-view+json": {
       "model_id": "",
       "version_major": 2,
       "version_minor": 0
      },
      "text/plain": [
       "sub-hc33_ses-hc_task-rest_eeg.json:   0%|          | 0.00/471 [00:00<?, ?B/s]"
      ]
     },
     "metadata": {},
     "output_type": "display_data"
    },
    {
     "data": {
      "application/vnd.jupyter.widget-view+json": {
       "model_id": "",
       "version_major": 2,
       "version_minor": 0
      },
      "text/plain": [
       "sub-hc4_ses-hc_task-rest_beh.json:   0%|          | 0.00/90.0 [00:00<?, ?B/s]"
      ]
     },
     "metadata": {},
     "output_type": "display_data"
    },
    {
     "data": {
      "application/vnd.jupyter.widget-view+json": {
       "model_id": "",
       "version_major": 2,
       "version_minor": 0
      },
      "text/plain": [
       "sub-hc4_ses-hc_task-rest_channels.tsv:   0%|          | 0.00/2.22k [00:00<?, ?B/s]"
      ]
     },
     "metadata": {},
     "output_type": "display_data"
    },
    {
     "data": {
      "application/vnd.jupyter.widget-view+json": {
       "model_id": "",
       "version_major": 2,
       "version_minor": 0
      },
      "text/plain": [
       "sub-hc4_ses-hc_task-rest_eeg.bdf:   0%|          | 0.00/10.9M [00:00<?, ?B/s]"
      ]
     },
     "metadata": {},
     "output_type": "display_data"
    },
    {
     "data": {
      "application/vnd.jupyter.widget-view+json": {
       "model_id": "",
       "version_major": 2,
       "version_minor": 0
      },
      "text/plain": [
       "sub-hc7_ses-hc_scans.tsv:   0%|          | 0.00/74.0 [00:00<?, ?B/s]"
      ]
     },
     "metadata": {},
     "output_type": "display_data"
    },
    {
     "data": {
      "application/vnd.jupyter.widget-view+json": {
       "model_id": "",
       "version_major": 2,
       "version_minor": 0
      },
      "text/plain": [
       "sub-hc7_ses-hc_task-rest_beh.tsv:   0%|          | 0.00/10.0 [00:00<?, ?B/s]"
      ]
     },
     "metadata": {},
     "output_type": "display_data"
    },
    {
     "data": {
      "application/vnd.jupyter.widget-view+json": {
       "model_id": "",
       "version_major": 2,
       "version_minor": 0
      },
      "text/plain": [
       "sub-hc7_ses-hc_task-rest_eeg.bdf:   0%|          | 0.00/11.5M [00:00<?, ?B/s]"
      ]
     },
     "metadata": {},
     "output_type": "display_data"
    },
    {
     "data": {
      "application/vnd.jupyter.widget-view+json": {
       "model_id": "",
       "version_major": 2,
       "version_minor": 0
      },
      "text/plain": [
       "sub-hc7_ses-hc_task-rest_eeg.json:   0%|          | 0.00/471 [00:00<?, ?B/s]"
      ]
     },
     "metadata": {},
     "output_type": "display_data"
    },
    {
     "data": {
      "application/vnd.jupyter.widget-view+json": {
       "model_id": "",
       "version_major": 2,
       "version_minor": 0
      },
      "text/plain": [
       "sub-hc8_ses-hc_task-rest_beh.json:   0%|          | 0.00/90.0 [00:00<?, ?B/s]"
      ]
     },
     "metadata": {},
     "output_type": "display_data"
    },
    {
     "data": {
      "application/vnd.jupyter.widget-view+json": {
       "model_id": "",
       "version_major": 2,
       "version_minor": 0
      },
      "text/plain": [
       "sub-hc8_ses-hc_task-rest_channels.tsv:   0%|          | 0.00/2.22k [00:00<?, ?B/s]"
      ]
     },
     "metadata": {},
     "output_type": "display_data"
    },
    {
     "data": {
      "application/vnd.jupyter.widget-view+json": {
       "model_id": "",
       "version_major": 2,
       "version_minor": 0
      },
      "text/plain": [
       "sub-hc8_ses-hc_task-rest_eeg.json:   0%|          | 0.00/471 [00:00<?, ?B/s]"
      ]
     },
     "metadata": {},
     "output_type": "display_data"
    },
    {
     "data": {
      "application/vnd.jupyter.widget-view+json": {
       "model_id": "",
       "version_major": 2,
       "version_minor": 0
      },
      "text/plain": [
       "sub-hc8_ses-hc_task-rest_events.tsv:   0%|          | 0.00/65.0 [00:00<?, ?B/s]"
      ]
     },
     "metadata": {},
     "output_type": "display_data"
    },
    {
     "data": {
      "application/vnd.jupyter.widget-view+json": {
       "model_id": "",
       "version_major": 2,
       "version_minor": 0
      },
      "text/plain": [
       "sub-pd11_ses-off_task-rest_beh.tsv:   0%|          | 0.00/10.0 [00:00<?, ?B/s]"
      ]
     },
     "metadata": {},
     "output_type": "display_data"
    },
    {
     "data": {
      "application/vnd.jupyter.widget-view+json": {
       "model_id": "",
       "version_major": 2,
       "version_minor": 0
      },
      "text/plain": [
       "sub-pd11_ses-off_task-rest_channels.tsv:   0%|          | 0.00/2.22k [00:00<?, ?B/s]"
      ]
     },
     "metadata": {},
     "output_type": "display_data"
    },
    {
     "data": {
      "application/vnd.jupyter.widget-view+json": {
       "model_id": "",
       "version_major": 2,
       "version_minor": 0
      },
      "text/plain": [
       "sub-pd11_ses-off_task-rest_eeg.json:   0%|          | 0.00/471 [00:00<?, ?B/s]"
      ]
     },
     "metadata": {},
     "output_type": "display_data"
    },
    {
     "data": {
      "application/vnd.jupyter.widget-view+json": {
       "model_id": "",
       "version_major": 2,
       "version_minor": 0
      },
      "text/plain": [
       "sub-pd11_ses-on_scans.tsv:   0%|          | 0.00/75.0 [00:00<?, ?B/s]"
      ]
     },
     "metadata": {},
     "output_type": "display_data"
    },
    {
     "data": {
      "application/vnd.jupyter.widget-view+json": {
       "model_id": "",
       "version_major": 2,
       "version_minor": 0
      },
      "text/plain": [
       "sub-pd11_ses-on_task-rest_beh.tsv:   0%|          | 0.00/10.0 [00:00<?, ?B/s]"
      ]
     },
     "metadata": {},
     "output_type": "display_data"
    },
    {
     "data": {
      "application/vnd.jupyter.widget-view+json": {
       "model_id": "",
       "version_major": 2,
       "version_minor": 0
      },
      "text/plain": [
       "sub-pd12_ses-off_task-rest_beh.json: 0.00B [00:00, ?B/s]"
      ]
     },
     "metadata": {},
     "output_type": "display_data"
    },
    {
     "data": {
      "application/vnd.jupyter.widget-view+json": {
       "model_id": "",
       "version_major": 2,
       "version_minor": 0
      },
      "text/plain": [
       "sub-pd11_ses-on_task-rest_eeg.bdf:   0%|          | 0.00/11.2M [00:00<?, ?B/s]"
      ]
     },
     "metadata": {},
     "output_type": "display_data"
    },
    {
     "data": {
      "application/vnd.jupyter.widget-view+json": {
       "model_id": "",
       "version_major": 2,
       "version_minor": 0
      },
      "text/plain": [
       "sub-pd11_ses-on_task-rest_events.tsv:   0%|          | 0.00/66.0 [00:00<?, ?B/s]"
      ]
     },
     "metadata": {},
     "output_type": "display_data"
    },
    {
     "data": {
      "application/vnd.jupyter.widget-view+json": {
       "model_id": "",
       "version_major": 2,
       "version_minor": 0
      },
      "text/plain": [
       "sub-pd12_ses-off_task-rest_eeg.bdf:   0%|          | 0.00/12.4M [00:00<?, ?B/s]"
      ]
     },
     "metadata": {},
     "output_type": "display_data"
    },
    {
     "data": {
      "application/vnd.jupyter.widget-view+json": {
       "model_id": "",
       "version_major": 2,
       "version_minor": 0
      },
      "text/plain": [
       "sub-pd12_ses-off_task-rest_events.tsv:   0%|          | 0.00/66.0 [00:00<?, ?B/s]"
      ]
     },
     "metadata": {},
     "output_type": "display_data"
    },
    {
     "data": {
      "application/vnd.jupyter.widget-view+json": {
       "model_id": "",
       "version_major": 2,
       "version_minor": 0
      },
      "text/plain": [
       "sub-pd12_ses-on_scans.tsv:   0%|          | 0.00/75.0 [00:00<?, ?B/s]"
      ]
     },
     "metadata": {},
     "output_type": "display_data"
    },
    {
     "data": {
      "application/vnd.jupyter.widget-view+json": {
       "model_id": "",
       "version_major": 2,
       "version_minor": 0
      },
      "text/plain": [
       "sub-pd12_ses-on_task-rest_channels.tsv:   0%|          | 0.00/2.22k [00:00<?, ?B/s]"
      ]
     },
     "metadata": {},
     "output_type": "display_data"
    },
    {
     "data": {
      "application/vnd.jupyter.widget-view+json": {
       "model_id": "",
       "version_major": 2,
       "version_minor": 0
      },
      "text/plain": [
       "sub-pd12_ses-on_task-rest_eeg.json:   0%|          | 0.00/471 [00:00<?, ?B/s]"
      ]
     },
     "metadata": {},
     "output_type": "display_data"
    },
    {
     "data": {
      "application/vnd.jupyter.widget-view+json": {
       "model_id": "",
       "version_major": 2,
       "version_minor": 0
      },
      "text/plain": [
       "sub-pd12_ses-on_task-rest_eeg.bdf:   0%|          | 0.00/11.5M [00:00<?, ?B/s]"
      ]
     },
     "metadata": {},
     "output_type": "display_data"
    },
    {
     "data": {
      "application/vnd.jupyter.widget-view+json": {
       "model_id": "",
       "version_major": 2,
       "version_minor": 0
      },
      "text/plain": [
       "sub-pd13_ses-off_task-rest_beh.tsv:   0%|          | 0.00/10.0 [00:00<?, ?B/s]"
      ]
     },
     "metadata": {},
     "output_type": "display_data"
    },
    {
     "data": {
      "application/vnd.jupyter.widget-view+json": {
       "model_id": "",
       "version_major": 2,
       "version_minor": 0
      },
      "text/plain": [
       "sub-pd13_ses-off_task-rest_channels.tsv:   0%|          | 0.00/2.22k [00:00<?, ?B/s]"
      ]
     },
     "metadata": {},
     "output_type": "display_data"
    },
    {
     "data": {
      "application/vnd.jupyter.widget-view+json": {
       "model_id": "",
       "version_major": 2,
       "version_minor": 0
      },
      "text/plain": [
       "sub-pd13_ses-off_task-rest_events.tsv:   0%|          | 0.00/66.0 [00:00<?, ?B/s]"
      ]
     },
     "metadata": {},
     "output_type": "display_data"
    },
    {
     "data": {
      "application/vnd.jupyter.widget-view+json": {
       "model_id": "",
       "version_major": 2,
       "version_minor": 0
      },
      "text/plain": [
       "sub-pd13_ses-on_scans.tsv:   0%|          | 0.00/75.0 [00:00<?, ?B/s]"
      ]
     },
     "metadata": {},
     "output_type": "display_data"
    },
    {
     "data": {
      "application/vnd.jupyter.widget-view+json": {
       "model_id": "",
       "version_major": 2,
       "version_minor": 0
      },
      "text/plain": [
       "sub-pd13_ses-on_task-rest_channels.tsv:   0%|          | 0.00/2.22k [00:00<?, ?B/s]"
      ]
     },
     "metadata": {},
     "output_type": "display_data"
    },
    {
     "data": {
      "application/vnd.jupyter.widget-view+json": {
       "model_id": "",
       "version_major": 2,
       "version_minor": 0
      },
      "text/plain": [
       "sub-pd13_ses-on_task-rest_eeg.bdf:   0%|          | 0.00/11.2M [00:00<?, ?B/s]"
      ]
     },
     "metadata": {},
     "output_type": "display_data"
    },
    {
     "data": {
      "application/vnd.jupyter.widget-view+json": {
       "model_id": "",
       "version_major": 2,
       "version_minor": 0
      },
      "text/plain": [
       "sub-pd13_ses-on_task-rest_eeg.json:   0%|          | 0.00/471 [00:00<?, ?B/s]"
      ]
     },
     "metadata": {},
     "output_type": "display_data"
    },
    {
     "data": {
      "application/vnd.jupyter.widget-view+json": {
       "model_id": "",
       "version_major": 2,
       "version_minor": 0
      },
      "text/plain": [
       "sub-pd14_ses-off_task-rest_beh.tsv:   0%|          | 0.00/10.0 [00:00<?, ?B/s]"
      ]
     },
     "metadata": {},
     "output_type": "display_data"
    },
    {
     "data": {
      "application/vnd.jupyter.widget-view+json": {
       "model_id": "",
       "version_major": 2,
       "version_minor": 0
      },
      "text/plain": [
       "sub-pd14_ses-off_task-rest_channels.tsv:   0%|          | 0.00/2.22k [00:00<?, ?B/s]"
      ]
     },
     "metadata": {},
     "output_type": "display_data"
    },
    {
     "data": {
      "application/vnd.jupyter.widget-view+json": {
       "model_id": "",
       "version_major": 2,
       "version_minor": 0
      },
      "text/plain": [
       "sub-pd14_ses-off_task-rest_events.tsv:   0%|          | 0.00/65.0 [00:00<?, ?B/s]"
      ]
     },
     "metadata": {},
     "output_type": "display_data"
    },
    {
     "data": {
      "application/vnd.jupyter.widget-view+json": {
       "model_id": "",
       "version_major": 2,
       "version_minor": 0
      },
      "text/plain": [
       "sub-pd14_ses-on_scans.tsv:   0%|          | 0.00/75.0 [00:00<?, ?B/s]"
      ]
     },
     "metadata": {},
     "output_type": "display_data"
    },
    {
     "data": {
      "application/vnd.jupyter.widget-view+json": {
       "model_id": "",
       "version_major": 2,
       "version_minor": 0
      },
      "text/plain": [
       "sub-pd14_ses-on_task-rest_beh.tsv:   0%|          | 0.00/10.0 [00:00<?, ?B/s]"
      ]
     },
     "metadata": {},
     "output_type": "display_data"
    },
    {
     "data": {
      "application/vnd.jupyter.widget-view+json": {
       "model_id": "",
       "version_major": 2,
       "version_minor": 0
      },
      "text/plain": [
       "sub-pd14_ses-on_task-rest_eeg.bdf:   0%|          | 0.00/11.4M [00:00<?, ?B/s]"
      ]
     },
     "metadata": {},
     "output_type": "display_data"
    },
    {
     "data": {
      "application/vnd.jupyter.widget-view+json": {
       "model_id": "",
       "version_major": 2,
       "version_minor": 0
      },
      "text/plain": [
       "sub-pd16_ses-off_task-rest_beh.json: 0.00B [00:00, ?B/s]"
      ]
     },
     "metadata": {},
     "output_type": "display_data"
    },
    {
     "data": {
      "application/vnd.jupyter.widget-view+json": {
       "model_id": "",
       "version_major": 2,
       "version_minor": 0
      },
      "text/plain": [
       "sub-pd14_ses-on_task-rest_events.tsv:   0%|          | 0.00/61.0 [00:00<?, ?B/s]"
      ]
     },
     "metadata": {},
     "output_type": "display_data"
    },
    {
     "data": {
      "application/vnd.jupyter.widget-view+json": {
       "model_id": "",
       "version_major": 2,
       "version_minor": 0
      },
      "text/plain": [
       "sub-pd16_ses-off_task-rest_eeg.bdf:   0%|          | 0.00/11.3M [00:00<?, ?B/s]"
      ]
     },
     "metadata": {},
     "output_type": "display_data"
    },
    {
     "data": {
      "application/vnd.jupyter.widget-view+json": {
       "model_id": "",
       "version_major": 2,
       "version_minor": 0
      },
      "text/plain": [
       "sub-pd16_ses-off_task-rest_eeg.json:   0%|          | 0.00/471 [00:00<?, ?B/s]"
      ]
     },
     "metadata": {},
     "output_type": "display_data"
    },
    {
     "data": {
      "application/vnd.jupyter.widget-view+json": {
       "model_id": "",
       "version_major": 2,
       "version_minor": 0
      },
      "text/plain": [
       "sub-pd16_ses-on_task-rest_beh.json: 0.00B [00:00, ?B/s]"
      ]
     },
     "metadata": {},
     "output_type": "display_data"
    },
    {
     "data": {
      "application/vnd.jupyter.widget-view+json": {
       "model_id": "",
       "version_major": 2,
       "version_minor": 0
      },
      "text/plain": [
       "sub-pd16_ses-on_task-rest_channels.tsv:   0%|          | 0.00/2.22k [00:00<?, ?B/s]"
      ]
     },
     "metadata": {},
     "output_type": "display_data"
    },
    {
     "data": {
      "application/vnd.jupyter.widget-view+json": {
       "model_id": "",
       "version_major": 2,
       "version_minor": 0
      },
      "text/plain": [
       "sub-pd16_ses-on_task-rest_eeg.bdf:   0%|          | 0.00/11.2M [00:00<?, ?B/s]"
      ]
     },
     "metadata": {},
     "output_type": "display_data"
    },
    {
     "data": {
      "application/vnd.jupyter.widget-view+json": {
       "model_id": "",
       "version_major": 2,
       "version_minor": 0
      },
      "text/plain": [
       "sub-pd17_ses-off_task-rest_beh.json: 0.00B [00:00, ?B/s]"
      ]
     },
     "metadata": {},
     "output_type": "display_data"
    },
    {
     "data": {
      "application/vnd.jupyter.widget-view+json": {
       "model_id": "",
       "version_major": 2,
       "version_minor": 0
      },
      "text/plain": [
       "sub-pd17_ses-off_scans.tsv:   0%|          | 0.00/76.0 [00:00<?, ?B/s]"
      ]
     },
     "metadata": {},
     "output_type": "display_data"
    },
    {
     "data": {
      "application/vnd.jupyter.widget-view+json": {
       "model_id": "",
       "version_major": 2,
       "version_minor": 0
      },
      "text/plain": [
       "sub-pd17_ses-off_task-rest_eeg.bdf:   0%|          | 0.00/11.4M [00:00<?, ?B/s]"
      ]
     },
     "metadata": {},
     "output_type": "display_data"
    },
    {
     "data": {
      "application/vnd.jupyter.widget-view+json": {
       "model_id": "",
       "version_major": 2,
       "version_minor": 0
      },
      "text/plain": [
       "sub-pd17_ses-off_task-rest_eeg.json:   0%|          | 0.00/471 [00:00<?, ?B/s]"
      ]
     },
     "metadata": {},
     "output_type": "display_data"
    },
    {
     "data": {
      "application/vnd.jupyter.widget-view+json": {
       "model_id": "",
       "version_major": 2,
       "version_minor": 0
      },
      "text/plain": [
       "sub-pd17_ses-on_task-rest_beh.json: 0.00B [00:00, ?B/s]"
      ]
     },
     "metadata": {},
     "output_type": "display_data"
    },
    {
     "data": {
      "application/vnd.jupyter.widget-view+json": {
       "model_id": "",
       "version_major": 2,
       "version_minor": 0
      },
      "text/plain": [
       "sub-pd17_ses-on_task-rest_channels.tsv:   0%|          | 0.00/2.22k [00:00<?, ?B/s]"
      ]
     },
     "metadata": {},
     "output_type": "display_data"
    },
    {
     "data": {
      "application/vnd.jupyter.widget-view+json": {
       "model_id": "",
       "version_major": 2,
       "version_minor": 0
      },
      "text/plain": [
       "sub-pd17_ses-on_task-rest_eeg.bdf:   0%|          | 0.00/11.2M [00:00<?, ?B/s]"
      ]
     },
     "metadata": {},
     "output_type": "display_data"
    },
    {
     "data": {
      "application/vnd.jupyter.widget-view+json": {
       "model_id": "",
       "version_major": 2,
       "version_minor": 0
      },
      "text/plain": [
       "sub-pd19_ses-off_task-rest_beh.json: 0.00B [00:00, ?B/s]"
      ]
     },
     "metadata": {},
     "output_type": "display_data"
    },
    {
     "data": {
      "application/vnd.jupyter.widget-view+json": {
       "model_id": "",
       "version_major": 2,
       "version_minor": 0
      },
      "text/plain": [
       "sub-pd19_ses-off_scans.tsv:   0%|          | 0.00/76.0 [00:00<?, ?B/s]"
      ]
     },
     "metadata": {},
     "output_type": "display_data"
    },
    {
     "data": {
      "application/vnd.jupyter.widget-view+json": {
       "model_id": "",
       "version_major": 2,
       "version_minor": 0
      },
      "text/plain": [
       "sub-pd19_ses-off_task-rest_eeg.bdf:   0%|          | 0.00/11.1M [00:00<?, ?B/s]"
      ]
     },
     "metadata": {},
     "output_type": "display_data"
    },
    {
     "data": {
      "application/vnd.jupyter.widget-view+json": {
       "model_id": "",
       "version_major": 2,
       "version_minor": 0
      },
      "text/plain": [
       "sub-pd19_ses-off_task-rest_eeg.json:   0%|          | 0.00/471 [00:00<?, ?B/s]"
      ]
     },
     "metadata": {},
     "output_type": "display_data"
    },
    {
     "data": {
      "application/vnd.jupyter.widget-view+json": {
       "model_id": "",
       "version_major": 2,
       "version_minor": 0
      },
      "text/plain": [
       "sub-pd19_ses-on_task-rest_beh.json: 0.00B [00:00, ?B/s]"
      ]
     },
     "metadata": {},
     "output_type": "display_data"
    },
    {
     "data": {
      "application/vnd.jupyter.widget-view+json": {
       "model_id": "",
       "version_major": 2,
       "version_minor": 0
      },
      "text/plain": [
       "sub-pd19_ses-on_task-rest_channels.tsv:   0%|          | 0.00/2.22k [00:00<?, ?B/s]"
      ]
     },
     "metadata": {},
     "output_type": "display_data"
    },
    {
     "data": {
      "application/vnd.jupyter.widget-view+json": {
       "model_id": "",
       "version_major": 2,
       "version_minor": 0
      },
      "text/plain": [
       "sub-pd19_ses-on_task-rest_eeg.json:   0%|          | 0.00/471 [00:00<?, ?B/s]"
      ]
     },
     "metadata": {},
     "output_type": "display_data"
    },
    {
     "data": {
      "application/vnd.jupyter.widget-view+json": {
       "model_id": "",
       "version_major": 2,
       "version_minor": 0
      },
      "text/plain": [
       "sub-pd19_ses-on_task-rest_events.tsv:   0%|          | 0.00/65.0 [00:00<?, ?B/s]"
      ]
     },
     "metadata": {},
     "output_type": "display_data"
    },
    {
     "data": {
      "application/vnd.jupyter.widget-view+json": {
       "model_id": "",
       "version_major": 2,
       "version_minor": 0
      },
      "text/plain": [
       "sub-pd22_ses-off_task-rest_beh.tsv:   0%|          | 0.00/10.0 [00:00<?, ?B/s]"
      ]
     },
     "metadata": {},
     "output_type": "display_data"
    },
    {
     "data": {
      "application/vnd.jupyter.widget-view+json": {
       "model_id": "",
       "version_major": 2,
       "version_minor": 0
      },
      "text/plain": [
       "sub-pd22_ses-off_task-rest_channels.tsv:   0%|          | 0.00/2.22k [00:00<?, ?B/s]"
      ]
     },
     "metadata": {},
     "output_type": "display_data"
    },
    {
     "data": {
      "application/vnd.jupyter.widget-view+json": {
       "model_id": "",
       "version_major": 2,
       "version_minor": 0
      },
      "text/plain": [
       "sub-pd22_ses-off_task-rest_events.tsv:   0%|          | 0.00/62.0 [00:00<?, ?B/s]"
      ]
     },
     "metadata": {},
     "output_type": "display_data"
    },
    {
     "data": {
      "application/vnd.jupyter.widget-view+json": {
       "model_id": "",
       "version_major": 2,
       "version_minor": 0
      },
      "text/plain": [
       "sub-pd22_ses-on_scans.tsv:   0%|          | 0.00/75.0 [00:00<?, ?B/s]"
      ]
     },
     "metadata": {},
     "output_type": "display_data"
    },
    {
     "data": {
      "application/vnd.jupyter.widget-view+json": {
       "model_id": "",
       "version_major": 2,
       "version_minor": 0
      },
      "text/plain": [
       "sub-pd22_ses-on_task-rest_channels.tsv:   0%|          | 0.00/2.22k [00:00<?, ?B/s]"
      ]
     },
     "metadata": {},
     "output_type": "display_data"
    },
    {
     "data": {
      "application/vnd.jupyter.widget-view+json": {
       "model_id": "",
       "version_major": 2,
       "version_minor": 0
      },
      "text/plain": [
       "sub-pd23_ses-off_task-rest_beh.json: 0.00B [00:00, ?B/s]"
      ]
     },
     "metadata": {},
     "output_type": "display_data"
    },
    {
     "data": {
      "application/vnd.jupyter.widget-view+json": {
       "model_id": "",
       "version_major": 2,
       "version_minor": 0
      },
      "text/plain": [
       "sub-pd22_ses-on_task-rest_eeg.bdf:   0%|          | 0.00/11.1M [00:00<?, ?B/s]"
      ]
     },
     "metadata": {},
     "output_type": "display_data"
    },
    {
     "data": {
      "application/vnd.jupyter.widget-view+json": {
       "model_id": "",
       "version_major": 2,
       "version_minor": 0
      },
      "text/plain": [
       "sub-pd23_ses-off_scans.tsv:   0%|          | 0.00/76.0 [00:00<?, ?B/s]"
      ]
     },
     "metadata": {},
     "output_type": "display_data"
    },
    {
     "data": {
      "application/vnd.jupyter.widget-view+json": {
       "model_id": "",
       "version_major": 2,
       "version_minor": 0
      },
      "text/plain": [
       "sub-pd23_ses-off_task-rest_channels.tsv:   0%|          | 0.00/2.22k [00:00<?, ?B/s]"
      ]
     },
     "metadata": {},
     "output_type": "display_data"
    },
    {
     "data": {
      "application/vnd.jupyter.widget-view+json": {
       "model_id": "",
       "version_major": 2,
       "version_minor": 0
      },
      "text/plain": [
       "sub-pd23_ses-off_task-rest_events.tsv:   0%|          | 0.00/67.0 [00:00<?, ?B/s]"
      ]
     },
     "metadata": {},
     "output_type": "display_data"
    },
    {
     "data": {
      "application/vnd.jupyter.widget-view+json": {
       "model_id": "",
       "version_major": 2,
       "version_minor": 0
      },
      "text/plain": [
       "sub-pd23_ses-on_scans.tsv:   0%|          | 0.00/75.0 [00:00<?, ?B/s]"
      ]
     },
     "metadata": {},
     "output_type": "display_data"
    },
    {
     "data": {
      "application/vnd.jupyter.widget-view+json": {
       "model_id": "",
       "version_major": 2,
       "version_minor": 0
      },
      "text/plain": [
       "sub-pd23_ses-on_task-rest_channels.tsv:   0%|          | 0.00/2.22k [00:00<?, ?B/s]"
      ]
     },
     "metadata": {},
     "output_type": "display_data"
    },
    {
     "data": {
      "application/vnd.jupyter.widget-view+json": {
       "model_id": "",
       "version_major": 2,
       "version_minor": 0
      },
      "text/plain": [
       "sub-pd23_ses-on_task-rest_eeg.bdf:   0%|          | 0.00/11.2M [00:00<?, ?B/s]"
      ]
     },
     "metadata": {},
     "output_type": "display_data"
    },
    {
     "data": {
      "application/vnd.jupyter.widget-view+json": {
       "model_id": "",
       "version_major": 2,
       "version_minor": 0
      },
      "text/plain": [
       "sub-pd26_ses-off_scans.tsv:   0%|          | 0.00/76.0 [00:00<?, ?B/s]"
      ]
     },
     "metadata": {},
     "output_type": "display_data"
    },
    {
     "data": {
      "application/vnd.jupyter.widget-view+json": {
       "model_id": "",
       "version_major": 2,
       "version_minor": 0
      },
      "text/plain": [
       "sub-pd26_ses-off_task-rest_beh.tsv:   0%|          | 0.00/10.0 [00:00<?, ?B/s]"
      ]
     },
     "metadata": {},
     "output_type": "display_data"
    },
    {
     "data": {
      "application/vnd.jupyter.widget-view+json": {
       "model_id": "",
       "version_major": 2,
       "version_minor": 0
      },
      "text/plain": [
       "sub-pd26_ses-off_task-rest_channels.tsv:   0%|          | 0.00/2.22k [00:00<?, ?B/s]"
      ]
     },
     "metadata": {},
     "output_type": "display_data"
    },
    {
     "data": {
      "application/vnd.jupyter.widget-view+json": {
       "model_id": "",
       "version_major": 2,
       "version_minor": 0
      },
      "text/plain": [
       "sub-pd26_ses-off_task-rest_events.tsv:   0%|          | 0.00/66.0 [00:00<?, ?B/s]"
      ]
     },
     "metadata": {},
     "output_type": "display_data"
    },
    {
     "data": {
      "application/vnd.jupyter.widget-view+json": {
       "model_id": "",
       "version_major": 2,
       "version_minor": 0
      },
      "text/plain": [
       "sub-pd26_ses-on_scans.tsv:   0%|          | 0.00/75.0 [00:00<?, ?B/s]"
      ]
     },
     "metadata": {},
     "output_type": "display_data"
    },
    {
     "data": {
      "application/vnd.jupyter.widget-view+json": {
       "model_id": "",
       "version_major": 2,
       "version_minor": 0
      },
      "text/plain": [
       "sub-pd26_ses-on_task-rest_channels.tsv:   0%|          | 0.00/2.22k [00:00<?, ?B/s]"
      ]
     },
     "metadata": {},
     "output_type": "display_data"
    },
    {
     "data": {
      "application/vnd.jupyter.widget-view+json": {
       "model_id": "",
       "version_major": 2,
       "version_minor": 0
      },
      "text/plain": [
       "sub-pd26_ses-on_task-rest_eeg.bdf:   0%|          | 0.00/13.0M [00:00<?, ?B/s]"
      ]
     },
     "metadata": {},
     "output_type": "display_data"
    },
    {
     "data": {
      "application/vnd.jupyter.widget-view+json": {
       "model_id": "",
       "version_major": 2,
       "version_minor": 0
      },
      "text/plain": [
       "sub-pd26_ses-on_task-rest_eeg.json:   0%|          | 0.00/471 [00:00<?, ?B/s]"
      ]
     },
     "metadata": {},
     "output_type": "display_data"
    },
    {
     "data": {
      "application/vnd.jupyter.widget-view+json": {
       "model_id": "",
       "version_major": 2,
       "version_minor": 0
      },
      "text/plain": [
       "sub-pd28_ses-off_task-rest_beh.tsv:   0%|          | 0.00/10.0 [00:00<?, ?B/s]"
      ]
     },
     "metadata": {},
     "output_type": "display_data"
    },
    {
     "data": {
      "application/vnd.jupyter.widget-view+json": {
       "model_id": "",
       "version_major": 2,
       "version_minor": 0
      },
      "text/plain": [
       "sub-pd28_ses-off_task-rest_channels.tsv:   0%|          | 0.00/2.22k [00:00<?, ?B/s]"
      ]
     },
     "metadata": {},
     "output_type": "display_data"
    },
    {
     "data": {
      "application/vnd.jupyter.widget-view+json": {
       "model_id": "",
       "version_major": 2,
       "version_minor": 0
      },
      "text/plain": [
       "sub-pd28_ses-off_task-rest_events.tsv:   0%|          | 0.00/67.0 [00:00<?, ?B/s]"
      ]
     },
     "metadata": {},
     "output_type": "display_data"
    },
    {
     "data": {
      "application/vnd.jupyter.widget-view+json": {
       "model_id": "",
       "version_major": 2,
       "version_minor": 0
      },
      "text/plain": [
       "sub-pd28_ses-on_scans.tsv:   0%|          | 0.00/75.0 [00:00<?, ?B/s]"
      ]
     },
     "metadata": {},
     "output_type": "display_data"
    },
    {
     "data": {
      "application/vnd.jupyter.widget-view+json": {
       "model_id": "",
       "version_major": 2,
       "version_minor": 0
      },
      "text/plain": [
       "sub-pd28_ses-on_task-rest_channels.tsv:   0%|          | 0.00/2.22k [00:00<?, ?B/s]"
      ]
     },
     "metadata": {},
     "output_type": "display_data"
    },
    {
     "data": {
      "application/vnd.jupyter.widget-view+json": {
       "model_id": "",
       "version_major": 2,
       "version_minor": 0
      },
      "text/plain": [
       "sub-pd28_ses-on_task-rest_eeg.bdf:   0%|          | 0.00/12.1M [00:00<?, ?B/s]"
      ]
     },
     "metadata": {},
     "output_type": "display_data"
    },
    {
     "data": {
      "application/vnd.jupyter.widget-view+json": {
       "model_id": "",
       "version_major": 2,
       "version_minor": 0
      },
      "text/plain": [
       "sub-pd3_ses-off_scans.tsv:   0%|          | 0.00/75.0 [00:00<?, ?B/s]"
      ]
     },
     "metadata": {},
     "output_type": "display_data"
    },
    {
     "data": {
      "application/vnd.jupyter.widget-view+json": {
       "model_id": "",
       "version_major": 2,
       "version_minor": 0
      },
      "text/plain": [
       "sub-pd3_ses-off_task-rest_beh.tsv:   0%|          | 0.00/10.0 [00:00<?, ?B/s]"
      ]
     },
     "metadata": {},
     "output_type": "display_data"
    },
    {
     "data": {
      "application/vnd.jupyter.widget-view+json": {
       "model_id": "",
       "version_major": 2,
       "version_minor": 0
      },
      "text/plain": [
       "sub-pd3_ses-off_task-rest_eeg.bdf:   0%|          | 0.00/12.0M [00:00<?, ?B/s]"
      ]
     },
     "metadata": {},
     "output_type": "display_data"
    },
    {
     "data": {
      "application/vnd.jupyter.widget-view+json": {
       "model_id": "",
       "version_major": 2,
       "version_minor": 0
      },
      "text/plain": [
       "sub-pd3_ses-off_task-rest_events.tsv:   0%|          | 0.00/67.0 [00:00<?, ?B/s]"
      ]
     },
     "metadata": {},
     "output_type": "display_data"
    },
    {
     "data": {
      "application/vnd.jupyter.widget-view+json": {
       "model_id": "",
       "version_major": 2,
       "version_minor": 0
      },
      "text/plain": [
       "sub-pd3_ses-on_task-rest_beh.json: 0.00B [00:00, ?B/s]"
      ]
     },
     "metadata": {},
     "output_type": "display_data"
    },
    {
     "data": {
      "application/vnd.jupyter.widget-view+json": {
       "model_id": "",
       "version_major": 2,
       "version_minor": 0
      },
      "text/plain": [
       "sub-pd3_ses-on_task-rest_channels.tsv:   0%|          | 0.00/2.22k [00:00<?, ?B/s]"
      ]
     },
     "metadata": {},
     "output_type": "display_data"
    },
    {
     "data": {
      "application/vnd.jupyter.widget-view+json": {
       "model_id": "",
       "version_major": 2,
       "version_minor": 0
      },
      "text/plain": [
       "sub-pd3_ses-on_task-rest_eeg.bdf:   0%|          | 0.00/12.8M [00:00<?, ?B/s]"
      ]
     },
     "metadata": {},
     "output_type": "display_data"
    },
    {
     "data": {
      "application/vnd.jupyter.widget-view+json": {
       "model_id": "",
       "version_major": 2,
       "version_minor": 0
      },
      "text/plain": [
       "sub-pd5_ses-off_scans.tsv:   0%|          | 0.00/75.0 [00:00<?, ?B/s]"
      ]
     },
     "metadata": {},
     "output_type": "display_data"
    },
    {
     "data": {
      "application/vnd.jupyter.widget-view+json": {
       "model_id": "",
       "version_major": 2,
       "version_minor": 0
      },
      "text/plain": [
       "sub-pd5_ses-off_task-rest_beh.json:   0%|          | 0.00/552 [00:00<?, ?B/s]"
      ]
     },
     "metadata": {},
     "output_type": "display_data"
    },
    {
     "data": {
      "application/vnd.jupyter.widget-view+json": {
       "model_id": "",
       "version_major": 2,
       "version_minor": 0
      },
      "text/plain": [
       "sub-pd5_ses-off_task-rest_eeg.bdf:   0%|          | 0.00/11.8M [00:00<?, ?B/s]"
      ]
     },
     "metadata": {},
     "output_type": "display_data"
    },
    {
     "data": {
      "application/vnd.jupyter.widget-view+json": {
       "model_id": "",
       "version_major": 2,
       "version_minor": 0
      },
      "text/plain": [
       "sub-pd5_ses-off_task-rest_events.tsv:   0%|          | 0.00/65.0 [00:00<?, ?B/s]"
      ]
     },
     "metadata": {},
     "output_type": "display_data"
    },
    {
     "data": {
      "application/vnd.jupyter.widget-view+json": {
       "model_id": "",
       "version_major": 2,
       "version_minor": 0
      },
      "text/plain": [
       "sub-pd5_ses-on_task-rest_beh.json: 0.00B [00:00, ?B/s]"
      ]
     },
     "metadata": {},
     "output_type": "display_data"
    },
    {
     "data": {
      "application/vnd.jupyter.widget-view+json": {
       "model_id": "",
       "version_major": 2,
       "version_minor": 0
      },
      "text/plain": [
       "sub-pd5_ses-on_task-rest_channels.tsv:   0%|          | 0.00/2.22k [00:00<?, ?B/s]"
      ]
     },
     "metadata": {},
     "output_type": "display_data"
    },
    {
     "data": {
      "application/vnd.jupyter.widget-view+json": {
       "model_id": "",
       "version_major": 2,
       "version_minor": 0
      },
      "text/plain": [
       "sub-pd5_ses-on_task-rest_eeg.json:   0%|          | 0.00/471 [00:00<?, ?B/s]"
      ]
     },
     "metadata": {},
     "output_type": "display_data"
    },
    {
     "data": {
      "application/vnd.jupyter.widget-view+json": {
       "model_id": "",
       "version_major": 2,
       "version_minor": 0
      },
      "text/plain": [
       "sub-pd5_ses-on_task-rest_events.tsv:   0%|          | 0.00/68.0 [00:00<?, ?B/s]"
      ]
     },
     "metadata": {},
     "output_type": "display_data"
    },
    {
     "data": {
      "application/vnd.jupyter.widget-view+json": {
       "model_id": "",
       "version_major": 2,
       "version_minor": 0
      },
      "text/plain": [
       "Skipping sub-pd6_ses-off_task-rest_beh.tsv: already downloaded.: 100%|##########| 10.0/10.0 [00:00<?, ?B/s]"
      ]
     },
     "metadata": {},
     "output_type": "display_data"
    },
    {
     "data": {
      "application/vnd.jupyter.widget-view+json": {
       "model_id": "",
       "version_major": 2,
       "version_minor": 0
      },
      "text/plain": [
       "Skipping sub-pd6_ses-off_task-rest_channels.tsv: already downloaded.: 100%|##########| 2.22k/2.22k [00:00<?, ?…"
      ]
     },
     "metadata": {},
     "output_type": "display_data"
    },
    {
     "data": {
      "application/vnd.jupyter.widget-view+json": {
       "model_id": "",
       "version_major": 2,
       "version_minor": 0
      },
      "text/plain": [
       "Skipping sub-pd6_ses-off_task-rest_eeg.bdf: already downloaded.: 100%|##########| 11.5M/11.5M [00:00<?, ?B/s]"
      ]
     },
     "metadata": {},
     "output_type": "display_data"
    },
    {
     "data": {
      "application/vnd.jupyter.widget-view+json": {
       "model_id": "",
       "version_major": 2,
       "version_minor": 0
      },
      "text/plain": [
       "Skipping sub-pd6_ses-off_task-rest_eeg.json: already downloaded.: 100%|##########| 471/471 [00:00<?, ?B/s]"
      ]
     },
     "metadata": {},
     "output_type": "display_data"
    },
    {
     "data": {
      "application/vnd.jupyter.widget-view+json": {
       "model_id": "",
       "version_major": 2,
       "version_minor": 0
      },
      "text/plain": [
       "Skipping sub-pd6_ses-off_task-rest_events.tsv: already downloaded.: 100%|##########| 66.0/66.0 [00:00<?, ?B/s]"
      ]
     },
     "metadata": {},
     "output_type": "display_data"
    },
    {
     "data": {
      "application/vnd.jupyter.widget-view+json": {
       "model_id": "",
       "version_major": 2,
       "version_minor": 0
      },
      "text/plain": [
       "Skipping sub-pd6_ses-on_scans.tsv: already downloaded.: 100%|##########| 74.0/74.0 [00:00<?, ?B/s]"
      ]
     },
     "metadata": {},
     "output_type": "display_data"
    },
    {
     "data": {
      "application/vnd.jupyter.widget-view+json": {
       "model_id": "",
       "version_major": 2,
       "version_minor": 0
      },
      "text/plain": [
       "Skipping sub-pd6_ses-on_task-rest_beh.json: already downloaded.: 100%|##########| 433/433 [00:00<?, ?B/s]"
      ]
     },
     "metadata": {},
     "output_type": "display_data"
    },
    {
     "data": {
      "application/vnd.jupyter.widget-view+json": {
       "model_id": "",
       "version_major": 2,
       "version_minor": 0
      },
      "text/plain": [
       "Skipping sub-pd6_ses-on_task-rest_beh.tsv: already downloaded.: 100%|##########| 10.0/10.0 [00:00<?, ?B/s]"
      ]
     },
     "metadata": {},
     "output_type": "display_data"
    },
    {
     "data": {
      "application/vnd.jupyter.widget-view+json": {
       "model_id": "",
       "version_major": 2,
       "version_minor": 0
      },
      "text/plain": [
       "Skipping sub-pd6_ses-on_task-rest_channels.tsv: already downloaded.: 100%|##########| 2.22k/2.22k [00:00<?, ?B…"
      ]
     },
     "metadata": {},
     "output_type": "display_data"
    },
    {
     "data": {
      "application/vnd.jupyter.widget-view+json": {
       "model_id": "",
       "version_major": 2,
       "version_minor": 0
      },
      "text/plain": [
       "Skipping sub-pd6_ses-on_task-rest_eeg.json: already downloaded.: 100%|##########| 471/471 [00:00<?, ?B/s]"
      ]
     },
     "metadata": {},
     "output_type": "display_data"
    },
    {
     "data": {
      "application/vnd.jupyter.widget-view+json": {
       "model_id": "",
       "version_major": 2,
       "version_minor": 0
      },
      "text/plain": [
       "Skipping sub-pd6_ses-on_task-rest_eeg.bdf: already downloaded.: 100%|##########| 17.4M/17.4M [00:00<?, ?B/s]"
      ]
     },
     "metadata": {},
     "output_type": "display_data"
    },
    {
     "data": {
      "application/vnd.jupyter.widget-view+json": {
       "model_id": "",
       "version_major": 2,
       "version_minor": 0
      },
      "text/plain": [
       "Skipping sub-pd6_ses-on_task-rest_events.tsv: already downloaded.: 100%|##########| 51.0/51.0 [00:00<?, ?B/s]"
      ]
     },
     "metadata": {},
     "output_type": "display_data"
    },
    {
     "data": {
      "application/vnd.jupyter.widget-view+json": {
       "model_id": "",
       "version_major": 2,
       "version_minor": 0
      },
      "text/plain": [
       "sub-pd9_ses-off_task-rest_beh.json: 0.00B [00:00, ?B/s]"
      ]
     },
     "metadata": {},
     "output_type": "display_data"
    },
    {
     "data": {
      "application/vnd.jupyter.widget-view+json": {
       "model_id": "",
       "version_major": 2,
       "version_minor": 0
      },
      "text/plain": [
       "sub-pd9_ses-off_scans.tsv:   0%|          | 0.00/75.0 [00:00<?, ?B/s]"
      ]
     },
     "metadata": {},
     "output_type": "display_data"
    },
    {
     "data": {
      "application/vnd.jupyter.widget-view+json": {
       "model_id": "",
       "version_major": 2,
       "version_minor": 0
      },
      "text/plain": [
       "sub-pd9_ses-off_task-rest_beh.tsv:   0%|          | 0.00/10.0 [00:00<?, ?B/s]"
      ]
     },
     "metadata": {},
     "output_type": "display_data"
    },
    {
     "data": {
      "application/vnd.jupyter.widget-view+json": {
       "model_id": "",
       "version_major": 2,
       "version_minor": 0
      },
      "text/plain": [
       "sub-pd9_ses-off_task-rest_channels.tsv:   0%|          | 0.00/2.22k [00:00<?, ?B/s]"
      ]
     },
     "metadata": {},
     "output_type": "display_data"
    },
    {
     "data": {
      "application/vnd.jupyter.widget-view+json": {
       "model_id": "",
       "version_major": 2,
       "version_minor": 0
      },
      "text/plain": [
       "sub-pd9_ses-off_task-rest_events.tsv:   0%|          | 0.00/66.0 [00:00<?, ?B/s]"
      ]
     },
     "metadata": {},
     "output_type": "display_data"
    },
    {
     "data": {
      "application/vnd.jupyter.widget-view+json": {
       "model_id": "",
       "version_major": 2,
       "version_minor": 0
      },
      "text/plain": [
       "sub-pd9_ses-on_task-rest_beh.tsv:   0%|          | 0.00/10.0 [00:00<?, ?B/s]"
      ]
     },
     "metadata": {},
     "output_type": "display_data"
    },
    {
     "data": {
      "application/vnd.jupyter.widget-view+json": {
       "model_id": "",
       "version_major": 2,
       "version_minor": 0
      },
      "text/plain": [
       "sub-pd9_ses-on_task-rest_channels.tsv:   0%|          | 0.00/2.22k [00:00<?, ?B/s]"
      ]
     },
     "metadata": {},
     "output_type": "display_data"
    },
    {
     "data": {
      "application/vnd.jupyter.widget-view+json": {
       "model_id": "",
       "version_major": 2,
       "version_minor": 0
      },
      "text/plain": [
       "sub-pd9_ses-on_task-rest_eeg.json:   0%|          | 0.00/471 [00:00<?, ?B/s]"
      ]
     },
     "metadata": {},
     "output_type": "display_data"
    },
    {
     "data": {
      "application/vnd.jupyter.widget-view+json": {
       "model_id": "",
       "version_major": 2,
       "version_minor": 0
      },
      "text/plain": [
       "sub-hc1_ses-hc_scans.tsv:   0%|          | 0.00/74.0 [00:00<?, ?B/s]"
      ]
     },
     "metadata": {},
     "output_type": "display_data"
    },
    {
     "data": {
      "application/vnd.jupyter.widget-view+json": {
       "model_id": "",
       "version_major": 2,
       "version_minor": 0
      },
      "text/plain": [
       "sub-hc10_ses-hc_scans.tsv:   0%|          | 0.00/75.0 [00:00<?, ?B/s]"
      ]
     },
     "metadata": {},
     "output_type": "display_data"
    },
    {
     "data": {
      "application/vnd.jupyter.widget-view+json": {
       "model_id": "",
       "version_major": 2,
       "version_minor": 0
      },
      "text/plain": [
       "sub-hc10_ses-hc_task-rest_beh.json:   0%|          | 0.00/90.0 [00:00<?, ?B/s]"
      ]
     },
     "metadata": {},
     "output_type": "display_data"
    },
    {
     "data": {
      "application/vnd.jupyter.widget-view+json": {
       "model_id": "",
       "version_major": 2,
       "version_minor": 0
      },
      "text/plain": [
       "sub-hc10_ses-hc_task-rest_channels.tsv:   0%|          | 0.00/2.22k [00:00<?, ?B/s]"
      ]
     },
     "metadata": {},
     "output_type": "display_data"
    },
    {
     "data": {
      "application/vnd.jupyter.widget-view+json": {
       "model_id": "",
       "version_major": 2,
       "version_minor": 0
      },
      "text/plain": [
       "sub-hc18_ses-hc_task-rest_channels.tsv:   0%|          | 0.00/2.22k [00:00<?, ?B/s]"
      ]
     },
     "metadata": {},
     "output_type": "display_data"
    },
    {
     "data": {
      "application/vnd.jupyter.widget-view+json": {
       "model_id": "",
       "version_major": 2,
       "version_minor": 0
      },
      "text/plain": [
       "sub-hc18_ses-hc_task-rest_eeg.json:   0%|          | 0.00/471 [00:00<?, ?B/s]"
      ]
     },
     "metadata": {},
     "output_type": "display_data"
    },
    {
     "data": {
      "application/vnd.jupyter.widget-view+json": {
       "model_id": "",
       "version_major": 2,
       "version_minor": 0
      },
      "text/plain": [
       "sub-hc2_ses-hc_task-rest_channels.tsv:   0%|          | 0.00/2.22k [00:00<?, ?B/s]"
      ]
     },
     "metadata": {},
     "output_type": "display_data"
    },
    {
     "data": {
      "application/vnd.jupyter.widget-view+json": {
       "model_id": "",
       "version_major": 2,
       "version_minor": 0
      },
      "text/plain": [
       "sub-hc2_ses-hc_task-rest_eeg.json:   0%|          | 0.00/471 [00:00<?, ?B/s]"
      ]
     },
     "metadata": {},
     "output_type": "display_data"
    },
    {
     "data": {
      "application/vnd.jupyter.widget-view+json": {
       "model_id": "",
       "version_major": 2,
       "version_minor": 0
      },
      "text/plain": [
       "sub-hc20_ses-hc_task-rest_events.tsv:   0%|          | 0.00/50.0 [00:00<?, ?B/s]"
      ]
     },
     "metadata": {},
     "output_type": "display_data"
    },
    {
     "data": {
      "application/vnd.jupyter.widget-view+json": {
       "model_id": "",
       "version_major": 2,
       "version_minor": 0
      },
      "text/plain": [
       "sub-hc21_ses-hc_task-rest_beh.json:   0%|          | 0.00/90.0 [00:00<?, ?B/s]"
      ]
     },
     "metadata": {},
     "output_type": "display_data"
    },
    {
     "data": {
      "application/vnd.jupyter.widget-view+json": {
       "model_id": "",
       "version_major": 2,
       "version_minor": 0
      },
      "text/plain": [
       "sub-hc21_ses-hc_task-rest_beh.tsv:   0%|          | 0.00/10.0 [00:00<?, ?B/s]"
      ]
     },
     "metadata": {},
     "output_type": "display_data"
    },
    {
     "data": {
      "application/vnd.jupyter.widget-view+json": {
       "model_id": "",
       "version_major": 2,
       "version_minor": 0
      },
      "text/plain": [
       "sub-hc24_ses-hc_task-rest_beh.json:   0%|          | 0.00/90.0 [00:00<?, ?B/s]"
      ]
     },
     "metadata": {},
     "output_type": "display_data"
    },
    {
     "data": {
      "application/vnd.jupyter.widget-view+json": {
       "model_id": "",
       "version_major": 2,
       "version_minor": 0
      },
      "text/plain": [
       "sub-hc24_ses-hc_task-rest_channels.tsv:   0%|          | 0.00/2.22k [00:00<?, ?B/s]"
      ]
     },
     "metadata": {},
     "output_type": "display_data"
    },
    {
     "data": {
      "application/vnd.jupyter.widget-view+json": {
       "model_id": "",
       "version_major": 2,
       "version_minor": 0
      },
      "text/plain": [
       "sub-hc25_ses-hc_task-rest_beh.tsv:   0%|          | 0.00/10.0 [00:00<?, ?B/s]"
      ]
     },
     "metadata": {},
     "output_type": "display_data"
    },
    {
     "data": {
      "application/vnd.jupyter.widget-view+json": {
       "model_id": "",
       "version_major": 2,
       "version_minor": 0
      },
      "text/plain": [
       "sub-hc29_ses-hc_task-rest_beh.json:   0%|          | 0.00/90.0 [00:00<?, ?B/s]"
      ]
     },
     "metadata": {},
     "output_type": "display_data"
    },
    {
     "data": {
      "application/vnd.jupyter.widget-view+json": {
       "model_id": "",
       "version_major": 2,
       "version_minor": 0
      },
      "text/plain": [
       "sub-hc29_ses-hc_task-rest_beh.tsv:   0%|          | 0.00/10.0 [00:00<?, ?B/s]"
      ]
     },
     "metadata": {},
     "output_type": "display_data"
    },
    {
     "data": {
      "application/vnd.jupyter.widget-view+json": {
       "model_id": "",
       "version_major": 2,
       "version_minor": 0
      },
      "text/plain": [
       "sub-hc30_ses-hc_task-rest_beh.json:   0%|          | 0.00/90.0 [00:00<?, ?B/s]"
      ]
     },
     "metadata": {},
     "output_type": "display_data"
    },
    {
     "data": {
      "application/vnd.jupyter.widget-view+json": {
       "model_id": "",
       "version_major": 2,
       "version_minor": 0
      },
      "text/plain": [
       "sub-hc30_ses-hc_task-rest_events.tsv:   0%|          | 0.00/66.0 [00:00<?, ?B/s]"
      ]
     },
     "metadata": {},
     "output_type": "display_data"
    },
    {
     "data": {
      "application/vnd.jupyter.widget-view+json": {
       "model_id": "",
       "version_major": 2,
       "version_minor": 0
      },
      "text/plain": [
       "sub-hc31_ses-hc_scans.tsv:   0%|          | 0.00/75.0 [00:00<?, ?B/s]"
      ]
     },
     "metadata": {},
     "output_type": "display_data"
    },
    {
     "data": {
      "application/vnd.jupyter.widget-view+json": {
       "model_id": "",
       "version_major": 2,
       "version_minor": 0
      },
      "text/plain": [
       "sub-hc31_ses-hc_task-rest_eeg.bdf:   0%|          | 0.00/11.2M [00:00<?, ?B/s]"
      ]
     },
     "metadata": {},
     "output_type": "display_data"
    },
    {
     "data": {
      "application/vnd.jupyter.widget-view+json": {
       "model_id": "",
       "version_major": 2,
       "version_minor": 0
      },
      "text/plain": [
       "sub-hc32_ses-hc_task-rest_channels.tsv:   0%|          | 0.00/2.22k [00:00<?, ?B/s]"
      ]
     },
     "metadata": {},
     "output_type": "display_data"
    },
    {
     "data": {
      "application/vnd.jupyter.widget-view+json": {
       "model_id": "",
       "version_major": 2,
       "version_minor": 0
      },
      "text/plain": [
       "sub-hc32_ses-hc_task-rest_events.tsv:   0%|          | 0.00/65.0 [00:00<?, ?B/s]"
      ]
     },
     "metadata": {},
     "output_type": "display_data"
    },
    {
     "data": {
      "application/vnd.jupyter.widget-view+json": {
       "model_id": "",
       "version_major": 2,
       "version_minor": 0
      },
      "text/plain": [
       "sub-hc33_ses-hc_task-rest_beh.tsv:   0%|          | 0.00/10.0 [00:00<?, ?B/s]"
      ]
     },
     "metadata": {},
     "output_type": "display_data"
    },
    {
     "data": {
      "application/vnd.jupyter.widget-view+json": {
       "model_id": "",
       "version_major": 2,
       "version_minor": 0
      },
      "text/plain": [
       "sub-hc4_ses-hc_task-rest_beh.tsv:   0%|          | 0.00/10.0 [00:00<?, ?B/s]"
      ]
     },
     "metadata": {},
     "output_type": "display_data"
    },
    {
     "data": {
      "application/vnd.jupyter.widget-view+json": {
       "model_id": "",
       "version_major": 2,
       "version_minor": 0
      },
      "text/plain": [
       "sub-hc4_ses-hc_task-rest_eeg.json:   0%|          | 0.00/471 [00:00<?, ?B/s]"
      ]
     },
     "metadata": {},
     "output_type": "display_data"
    },
    {
     "data": {
      "application/vnd.jupyter.widget-view+json": {
       "model_id": "",
       "version_major": 2,
       "version_minor": 0
      },
      "text/plain": [
       "sub-hc4_ses-hc_task-rest_events.tsv:   0%|          | 0.00/43.0 [00:00<?, ?B/s]"
      ]
     },
     "metadata": {},
     "output_type": "display_data"
    },
    {
     "data": {
      "application/vnd.jupyter.widget-view+json": {
       "model_id": "",
       "version_major": 2,
       "version_minor": 0
      },
      "text/plain": [
       "sub-hc8_ses-hc_scans.tsv:   0%|          | 0.00/74.0 [00:00<?, ?B/s]"
      ]
     },
     "metadata": {},
     "output_type": "display_data"
    },
    {
     "data": {
      "application/vnd.jupyter.widget-view+json": {
       "model_id": "",
       "version_major": 2,
       "version_minor": 0
      },
      "text/plain": [
       "sub-hc8_ses-hc_task-rest_beh.tsv:   0%|          | 0.00/10.0 [00:00<?, ?B/s]"
      ]
     },
     "metadata": {},
     "output_type": "display_data"
    },
    {
     "data": {
      "application/vnd.jupyter.widget-view+json": {
       "model_id": "",
       "version_major": 2,
       "version_minor": 0
      },
      "text/plain": [
       "sub-pd11_ses-on_task-rest_beh.json: 0.00B [00:00, ?B/s]"
      ]
     },
     "metadata": {},
     "output_type": "display_data"
    },
    {
     "data": {
      "application/vnd.jupyter.widget-view+json": {
       "model_id": "",
       "version_major": 2,
       "version_minor": 0
      },
      "text/plain": [
       "sub-hc8_ses-hc_task-rest_eeg.bdf:   0%|          | 0.00/11.5M [00:00<?, ?B/s]"
      ]
     },
     "metadata": {},
     "output_type": "display_data"
    },
    {
     "data": {
      "application/vnd.jupyter.widget-view+json": {
       "model_id": "",
       "version_major": 2,
       "version_minor": 0
      },
      "text/plain": [
       "sub-pd11_ses-off_task-rest_events.tsv:   0%|          | 0.00/66.0 [00:00<?, ?B/s]"
      ]
     },
     "metadata": {},
     "output_type": "display_data"
    },
    {
     "data": {
      "application/vnd.jupyter.widget-view+json": {
       "model_id": "",
       "version_major": 2,
       "version_minor": 0
      },
      "text/plain": [
       "sub-pd11_ses-on_task-rest_channels.tsv:   0%|          | 0.00/2.22k [00:00<?, ?B/s]"
      ]
     },
     "metadata": {},
     "output_type": "display_data"
    },
    {
     "data": {
      "application/vnd.jupyter.widget-view+json": {
       "model_id": "",
       "version_major": 2,
       "version_minor": 0
      },
      "text/plain": [
       "sub-pd12_ses-off_scans.tsv:   0%|          | 0.00/76.0 [00:00<?, ?B/s]"
      ]
     },
     "metadata": {},
     "output_type": "display_data"
    },
    {
     "data": {
      "application/vnd.jupyter.widget-view+json": {
       "model_id": "",
       "version_major": 2,
       "version_minor": 0
      },
      "text/plain": [
       "sub-pd12_ses-off_task-rest_eeg.json:   0%|          | 0.00/471 [00:00<?, ?B/s]"
      ]
     },
     "metadata": {},
     "output_type": "display_data"
    },
    {
     "data": {
      "application/vnd.jupyter.widget-view+json": {
       "model_id": "",
       "version_major": 2,
       "version_minor": 0
      },
      "text/plain": [
       "sub-pd12_ses-on_task-rest_beh.tsv:   0%|          | 0.00/10.0 [00:00<?, ?B/s]"
      ]
     },
     "metadata": {},
     "output_type": "display_data"
    },
    {
     "data": {
      "application/vnd.jupyter.widget-view+json": {
       "model_id": "",
       "version_major": 2,
       "version_minor": 0
      },
      "text/plain": [
       "sub-pd13_ses-off_scans.tsv:   0%|          | 0.00/76.0 [00:00<?, ?B/s]"
      ]
     },
     "metadata": {},
     "output_type": "display_data"
    },
    {
     "data": {
      "application/vnd.jupyter.widget-view+json": {
       "model_id": "",
       "version_major": 2,
       "version_minor": 0
      },
      "text/plain": [
       "sub-pd13_ses-on_task-rest_beh.json: 0.00B [00:00, ?B/s]"
      ]
     },
     "metadata": {},
     "output_type": "display_data"
    },
    {
     "data": {
      "application/vnd.jupyter.widget-view+json": {
       "model_id": "",
       "version_major": 2,
       "version_minor": 0
      },
      "text/plain": [
       "sub-pd13_ses-off_task-rest_eeg.bdf:   0%|          | 0.00/11.2M [00:00<?, ?B/s]"
      ]
     },
     "metadata": {},
     "output_type": "display_data"
    },
    {
     "data": {
      "application/vnd.jupyter.widget-view+json": {
       "model_id": "",
       "version_major": 2,
       "version_minor": 0
      },
      "text/plain": [
       "sub-pd14_ses-off_task-rest_beh.json: 0.00B [00:00, ?B/s]"
      ]
     },
     "metadata": {},
     "output_type": "display_data"
    },
    {
     "data": {
      "application/vnd.jupyter.widget-view+json": {
       "model_id": "",
       "version_major": 2,
       "version_minor": 0
      },
      "text/plain": [
       "sub-pd13_ses-on_task-rest_beh.tsv:   0%|          | 0.00/10.0 [00:00<?, ?B/s]"
      ]
     },
     "metadata": {},
     "output_type": "display_data"
    },
    {
     "data": {
      "application/vnd.jupyter.widget-view+json": {
       "model_id": "",
       "version_major": 2,
       "version_minor": 0
      },
      "text/plain": [
       "sub-pd14_ses-off_task-rest_eeg.bdf:   0%|          | 0.00/17.5M [00:00<?, ?B/s]"
      ]
     },
     "metadata": {},
     "output_type": "display_data"
    },
    {
     "data": {
      "application/vnd.jupyter.widget-view+json": {
       "model_id": "",
       "version_major": 2,
       "version_minor": 0
      },
      "text/plain": [
       "sub-pd14_ses-on_task-rest_channels.tsv:   0%|          | 0.00/2.22k [00:00<?, ?B/s]"
      ]
     },
     "metadata": {},
     "output_type": "display_data"
    },
    {
     "data": {
      "application/vnd.jupyter.widget-view+json": {
       "model_id": "",
       "version_major": 2,
       "version_minor": 0
      },
      "text/plain": [
       "sub-pd16_ses-off_scans.tsv:   0%|          | 0.00/76.0 [00:00<?, ?B/s]"
      ]
     },
     "metadata": {},
     "output_type": "display_data"
    },
    {
     "data": {
      "application/vnd.jupyter.widget-view+json": {
       "model_id": "",
       "version_major": 2,
       "version_minor": 0
      },
      "text/plain": [
       "sub-pd16_ses-off_task-rest_events.tsv:   0%|          | 0.00/66.0 [00:00<?, ?B/s]"
      ]
     },
     "metadata": {},
     "output_type": "display_data"
    },
    {
     "data": {
      "application/vnd.jupyter.widget-view+json": {
       "model_id": "",
       "version_major": 2,
       "version_minor": 0
      },
      "text/plain": [
       "sub-pd16_ses-on_scans.tsv:   0%|          | 0.00/75.0 [00:00<?, ?B/s]"
      ]
     },
     "metadata": {},
     "output_type": "display_data"
    },
    {
     "data": {
      "application/vnd.jupyter.widget-view+json": {
       "model_id": "",
       "version_major": 2,
       "version_minor": 0
      },
      "text/plain": [
       "sub-pd16_ses-on_task-rest_events.tsv:   0%|          | 0.00/70.0 [00:00<?, ?B/s]"
      ]
     },
     "metadata": {},
     "output_type": "display_data"
    },
    {
     "data": {
      "application/vnd.jupyter.widget-view+json": {
       "model_id": "",
       "version_major": 2,
       "version_minor": 0
      },
      "text/plain": [
       "sub-pd17_ses-off_task-rest_beh.tsv:   0%|          | 0.00/10.0 [00:00<?, ?B/s]"
      ]
     },
     "metadata": {},
     "output_type": "display_data"
    },
    {
     "data": {
      "application/vnd.jupyter.widget-view+json": {
       "model_id": "",
       "version_major": 2,
       "version_minor": 0
      },
      "text/plain": [
       "sub-pd17_ses-on_scans.tsv:   0%|          | 0.00/75.0 [00:00<?, ?B/s]"
      ]
     },
     "metadata": {},
     "output_type": "display_data"
    },
    {
     "data": {
      "application/vnd.jupyter.widget-view+json": {
       "model_id": "",
       "version_major": 2,
       "version_minor": 0
      },
      "text/plain": [
       "sub-pd17_ses-on_task-rest_beh.tsv:   0%|          | 0.00/10.0 [00:00<?, ?B/s]"
      ]
     },
     "metadata": {},
     "output_type": "display_data"
    },
    {
     "data": {
      "application/vnd.jupyter.widget-view+json": {
       "model_id": "",
       "version_major": 2,
       "version_minor": 0
      },
      "text/plain": [
       "sub-pd19_ses-off_task-rest_beh.tsv:   0%|          | 0.00/10.0 [00:00<?, ?B/s]"
      ]
     },
     "metadata": {},
     "output_type": "display_data"
    },
    {
     "data": {
      "application/vnd.jupyter.widget-view+json": {
       "model_id": "",
       "version_major": 2,
       "version_minor": 0
      },
      "text/plain": [
       "sub-pd19_ses-off_task-rest_channels.tsv:   0%|          | 0.00/2.22k [00:00<?, ?B/s]"
      ]
     },
     "metadata": {},
     "output_type": "display_data"
    },
    {
     "data": {
      "application/vnd.jupyter.widget-view+json": {
       "model_id": "",
       "version_major": 2,
       "version_minor": 0
      },
      "text/plain": [
       "sub-pd19_ses-off_task-rest_events.tsv:   0%|          | 0.00/66.0 [00:00<?, ?B/s]"
      ]
     },
     "metadata": {},
     "output_type": "display_data"
    },
    {
     "data": {
      "application/vnd.jupyter.widget-view+json": {
       "model_id": "",
       "version_major": 2,
       "version_minor": 0
      },
      "text/plain": [
       "sub-pd22_ses-off_task-rest_beh.json: 0.00B [00:00, ?B/s]"
      ]
     },
     "metadata": {},
     "output_type": "display_data"
    },
    {
     "data": {
      "application/vnd.jupyter.widget-view+json": {
       "model_id": "",
       "version_major": 2,
       "version_minor": 0
      },
      "text/plain": [
       "sub-pd22_ses-off_scans.tsv:   0%|          | 0.00/76.0 [00:00<?, ?B/s]"
      ]
     },
     "metadata": {},
     "output_type": "display_data"
    },
    {
     "data": {
      "application/vnd.jupyter.widget-view+json": {
       "model_id": "",
       "version_major": 2,
       "version_minor": 0
      },
      "text/plain": [
       "sub-pd22_ses-off_task-rest_eeg.json:   0%|          | 0.00/471 [00:00<?, ?B/s]"
      ]
     },
     "metadata": {},
     "output_type": "display_data"
    },
    {
     "data": {
      "application/vnd.jupyter.widget-view+json": {
       "model_id": "",
       "version_major": 2,
       "version_minor": 0
      },
      "text/plain": [
       "sub-pd22_ses-on_task-rest_beh.tsv:   0%|          | 0.00/10.0 [00:00<?, ?B/s]"
      ]
     },
     "metadata": {},
     "output_type": "display_data"
    },
    {
     "data": {
      "application/vnd.jupyter.widget-view+json": {
       "model_id": "",
       "version_major": 2,
       "version_minor": 0
      },
      "text/plain": [
       "sub-pd22_ses-on_task-rest_events.tsv:   0%|          | 0.00/66.0 [00:00<?, ?B/s]"
      ]
     },
     "metadata": {},
     "output_type": "display_data"
    },
    {
     "data": {
      "application/vnd.jupyter.widget-view+json": {
       "model_id": "",
       "version_major": 2,
       "version_minor": 0
      },
      "text/plain": [
       "sub-pd23_ses-on_task-rest_beh.json: 0.00B [00:00, ?B/s]"
      ]
     },
     "metadata": {},
     "output_type": "display_data"
    },
    {
     "data": {
      "application/vnd.jupyter.widget-view+json": {
       "model_id": "",
       "version_major": 2,
       "version_minor": 0
      },
      "text/plain": [
       "sub-pd23_ses-off_task-rest_eeg.bdf:   0%|          | 0.00/12.3M [00:00<?, ?B/s]"
      ]
     },
     "metadata": {},
     "output_type": "display_data"
    },
    {
     "data": {
      "application/vnd.jupyter.widget-view+json": {
       "model_id": "",
       "version_major": 2,
       "version_minor": 0
      },
      "text/plain": [
       "sub-pd26_ses-off_task-rest_beh.json: 0.00B [00:00, ?B/s]"
      ]
     },
     "metadata": {},
     "output_type": "display_data"
    },
    {
     "data": {
      "application/vnd.jupyter.widget-view+json": {
       "model_id": "",
       "version_major": 2,
       "version_minor": 0
      },
      "text/plain": [
       "sub-pd23_ses-on_task-rest_events.tsv:   0%|          | 0.00/66.0 [00:00<?, ?B/s]"
      ]
     },
     "metadata": {},
     "output_type": "display_data"
    },
    {
     "data": {
      "application/vnd.jupyter.widget-view+json": {
       "model_id": "",
       "version_major": 2,
       "version_minor": 0
      },
      "text/plain": [
       "sub-pd26_ses-off_task-rest_eeg.json:   0%|          | 0.00/471 [00:00<?, ?B/s]"
      ]
     },
     "metadata": {},
     "output_type": "display_data"
    },
    {
     "data": {
      "application/vnd.jupyter.widget-view+json": {
       "model_id": "",
       "version_major": 2,
       "version_minor": 0
      },
      "text/plain": [
       "sub-pd26_ses-on_task-rest_events.tsv:   0%|          | 0.00/67.0 [00:00<?, ?B/s]"
      ]
     },
     "metadata": {},
     "output_type": "display_data"
    },
    {
     "data": {
      "application/vnd.jupyter.widget-view+json": {
       "model_id": "",
       "version_major": 2,
       "version_minor": 0
      },
      "text/plain": [
       "sub-pd28_ses-on_task-rest_beh.json: 0.00B [00:00, ?B/s]"
      ]
     },
     "metadata": {},
     "output_type": "display_data"
    },
    {
     "data": {
      "application/vnd.jupyter.widget-view+json": {
       "model_id": "",
       "version_major": 2,
       "version_minor": 0
      },
      "text/plain": [
       "sub-pd28_ses-off_scans.tsv:   0%|          | 0.00/76.0 [00:00<?, ?B/s]"
      ]
     },
     "metadata": {},
     "output_type": "display_data"
    },
    {
     "data": {
      "application/vnd.jupyter.widget-view+json": {
       "model_id": "",
       "version_major": 2,
       "version_minor": 0
      },
      "text/plain": [
       "sub-pd28_ses-off_task-rest_eeg.bdf:   0%|          | 0.00/12.4M [00:00<?, ?B/s]"
      ]
     },
     "metadata": {},
     "output_type": "display_data"
    },
    {
     "data": {
      "application/vnd.jupyter.widget-view+json": {
       "model_id": "",
       "version_major": 2,
       "version_minor": 0
      },
      "text/plain": [
       "sub-pd28_ses-on_task-rest_events.tsv:   0%|          | 0.00/65.0 [00:00<?, ?B/s]"
      ]
     },
     "metadata": {},
     "output_type": "display_data"
    },
    {
     "data": {
      "application/vnd.jupyter.widget-view+json": {
       "model_id": "",
       "version_major": 2,
       "version_minor": 0
      },
      "text/plain": [
       "sub-pd3_ses-off_task-rest_beh.json:   0%|          | 0.00/954 [00:00<?, ?B/s]"
      ]
     },
     "metadata": {},
     "output_type": "display_data"
    },
    {
     "data": {
      "application/vnd.jupyter.widget-view+json": {
       "model_id": "",
       "version_major": 2,
       "version_minor": 0
      },
      "text/plain": [
       "sub-pd3_ses-on_scans.tsv:   0%|          | 0.00/74.0 [00:00<?, ?B/s]"
      ]
     },
     "metadata": {},
     "output_type": "display_data"
    },
    {
     "data": {
      "application/vnd.jupyter.widget-view+json": {
       "model_id": "",
       "version_major": 2,
       "version_minor": 0
      },
      "text/plain": [
       "sub-pd3_ses-on_task-rest_beh.tsv:   0%|          | 0.00/10.0 [00:00<?, ?B/s]"
      ]
     },
     "metadata": {},
     "output_type": "display_data"
    },
    {
     "data": {
      "application/vnd.jupyter.widget-view+json": {
       "model_id": "",
       "version_major": 2,
       "version_minor": 0
      },
      "text/plain": [
       "sub-pd5_ses-off_task-rest_beh.tsv:   0%|          | 0.00/10.0 [00:00<?, ?B/s]"
      ]
     },
     "metadata": {},
     "output_type": "display_data"
    },
    {
     "data": {
      "application/vnd.jupyter.widget-view+json": {
       "model_id": "",
       "version_major": 2,
       "version_minor": 0
      },
      "text/plain": [
       "sub-pd5_ses-off_task-rest_channels.tsv:   0%|          | 0.00/2.22k [00:00<?, ?B/s]"
      ]
     },
     "metadata": {},
     "output_type": "display_data"
    },
    {
     "data": {
      "application/vnd.jupyter.widget-view+json": {
       "model_id": "",
       "version_major": 2,
       "version_minor": 0
      },
      "text/plain": [
       "sub-pd5_ses-off_task-rest_eeg.json:   0%|          | 0.00/471 [00:00<?, ?B/s]"
      ]
     },
     "metadata": {},
     "output_type": "display_data"
    },
    {
     "data": {
      "application/vnd.jupyter.widget-view+json": {
       "model_id": "",
       "version_major": 2,
       "version_minor": 0
      },
      "text/plain": [
       "Skipping sub-pd6_ses-off_scans.tsv: already downloaded.: 100%|##########| 75.0/75.0 [00:00<?, ?B/s]"
      ]
     },
     "metadata": {},
     "output_type": "display_data"
    },
    {
     "data": {
      "application/vnd.jupyter.widget-view+json": {
       "model_id": "",
       "version_major": 2,
       "version_minor": 0
      },
      "text/plain": [
       "Re-downloading sub-pd6_ses-off_task-rest_beh.json: file size mismatch.: 0.00B [00:00, ?B/s]"
      ]
     },
     "metadata": {},
     "output_type": "display_data"
    },
    {
     "data": {
      "application/vnd.jupyter.widget-view+json": {
       "model_id": "",
       "version_major": 2,
       "version_minor": 0
      },
      "text/plain": [
       "sub-pd9_ses-on_task-rest_beh.json: 0.00B [00:00, ?B/s]"
      ]
     },
     "metadata": {},
     "output_type": "display_data"
    },
    {
     "data": {
      "application/vnd.jupyter.widget-view+json": {
       "model_id": "",
       "version_major": 2,
       "version_minor": 0
      },
      "text/plain": [
       "sub-pd9_ses-off_task-rest_eeg.json:   0%|          | 0.00/471 [00:00<?, ?B/s]"
      ]
     },
     "metadata": {},
     "output_type": "display_data"
    },
    {
     "data": {
      "application/vnd.jupyter.widget-view+json": {
       "model_id": "",
       "version_major": 2,
       "version_minor": 0
      },
      "text/plain": [
       "sub-pd9_ses-off_task-rest_eeg.bdf:   0%|          | 0.00/11.5M [00:00<?, ?B/s]"
      ]
     },
     "metadata": {},
     "output_type": "display_data"
    },
    {
     "data": {
      "application/vnd.jupyter.widget-view+json": {
       "model_id": "",
       "version_major": 2,
       "version_minor": 0
      },
      "text/plain": [
       "sub-hc1_ses-hc_task-rest_beh.json:   0%|          | 0.00/90.0 [00:00<?, ?B/s]"
      ]
     },
     "metadata": {},
     "output_type": "display_data"
    },
    {
     "data": {
      "application/vnd.jupyter.widget-view+json": {
       "model_id": "",
       "version_major": 2,
       "version_minor": 0
      },
      "text/plain": [
       "sub-hc10_ses-hc_task-rest_beh.tsv:   0%|          | 0.00/10.0 [00:00<?, ?B/s]"
      ]
     },
     "metadata": {},
     "output_type": "display_data"
    },
    {
     "data": {
      "application/vnd.jupyter.widget-view+json": {
       "model_id": "",
       "version_major": 2,
       "version_minor": 0
      },
      "text/plain": [
       "sub-hc18_ses-hc_task-rest_eeg.bdf:   0%|          | 0.00/11.2M [00:00<?, ?B/s]"
      ]
     },
     "metadata": {},
     "output_type": "display_data"
    },
    {
     "data": {
      "application/vnd.jupyter.widget-view+json": {
       "model_id": "",
       "version_major": 2,
       "version_minor": 0
      },
      "text/plain": [
       "sub-hc2_ses-hc_task-rest_events.tsv:   0%|          | 0.00/65.0 [00:00<?, ?B/s]"
      ]
     },
     "metadata": {},
     "output_type": "display_data"
    },
    {
     "data": {
      "application/vnd.jupyter.widget-view+json": {
       "model_id": "",
       "version_major": 2,
       "version_minor": 0
      },
      "text/plain": [
       "sub-hc2_ses-hc_task-rest_eeg.bdf:   0%|          | 0.00/11.7M [00:00<?, ?B/s]"
      ]
     },
     "metadata": {},
     "output_type": "display_data"
    },
    {
     "data": {
      "application/vnd.jupyter.widget-view+json": {
       "model_id": "",
       "version_major": 2,
       "version_minor": 0
      },
      "text/plain": [
       "sub-hc24_ses-hc_task-rest_beh.tsv:   0%|          | 0.00/10.0 [00:00<?, ?B/s]"
      ]
     },
     "metadata": {},
     "output_type": "display_data"
    },
    {
     "data": {
      "application/vnd.jupyter.widget-view+json": {
       "model_id": "",
       "version_major": 2,
       "version_minor": 0
      },
      "text/plain": [
       "sub-hc25_ses-hc_task-rest_beh.json:   0%|          | 0.00/90.0 [00:00<?, ?B/s]"
      ]
     },
     "metadata": {},
     "output_type": "display_data"
    },
    {
     "data": {
      "application/vnd.jupyter.widget-view+json": {
       "model_id": "",
       "version_major": 2,
       "version_minor": 0
      },
      "text/plain": [
       "sub-hc29_ses-hc_task-rest_channels.tsv:   0%|          | 0.00/2.22k [00:00<?, ?B/s]"
      ]
     },
     "metadata": {},
     "output_type": "display_data"
    },
    {
     "data": {
      "application/vnd.jupyter.widget-view+json": {
       "model_id": "",
       "version_major": 2,
       "version_minor": 0
      },
      "text/plain": [
       "sub-hc30_ses-hc_scans.tsv:   0%|          | 0.00/75.0 [00:00<?, ?B/s]"
      ]
     },
     "metadata": {},
     "output_type": "display_data"
    },
    {
     "data": {
      "application/vnd.jupyter.widget-view+json": {
       "model_id": "",
       "version_major": 2,
       "version_minor": 0
      },
      "text/plain": [
       "sub-hc31_ses-hc_task-rest_events.tsv:   0%|          | 0.00/65.0 [00:00<?, ?B/s]"
      ]
     },
     "metadata": {},
     "output_type": "display_data"
    },
    {
     "data": {
      "application/vnd.jupyter.widget-view+json": {
       "model_id": "",
       "version_major": 2,
       "version_minor": 0
      },
      "text/plain": [
       "sub-hc32_ses-hc_scans.tsv:   0%|          | 0.00/75.0 [00:00<?, ?B/s]"
      ]
     },
     "metadata": {},
     "output_type": "display_data"
    },
    {
     "data": {
      "application/vnd.jupyter.widget-view+json": {
       "model_id": "",
       "version_major": 2,
       "version_minor": 0
      },
      "text/plain": [
       "sub-hc33_ses-hc_task-rest_events.tsv:   0%|          | 0.00/64.0 [00:00<?, ?B/s]"
      ]
     },
     "metadata": {},
     "output_type": "display_data"
    },
    {
     "data": {
      "application/vnd.jupyter.widget-view+json": {
       "model_id": "",
       "version_major": 2,
       "version_minor": 0
      },
      "text/plain": [
       "sub-hc4_ses-hc_scans.tsv:   0%|          | 0.00/74.0 [00:00<?, ?B/s]"
      ]
     },
     "metadata": {},
     "output_type": "display_data"
    },
    {
     "data": {
      "application/vnd.jupyter.widget-view+json": {
       "model_id": "",
       "version_major": 2,
       "version_minor": 0
      },
      "text/plain": [
       "sub-hc7_ses-hc_task-rest_events.tsv:   0%|          | 0.00/66.0 [00:00<?, ?B/s]"
      ]
     },
     "metadata": {},
     "output_type": "display_data"
    },
    {
     "data": {
      "application/vnd.jupyter.widget-view+json": {
       "model_id": "",
       "version_major": 2,
       "version_minor": 0
      },
      "text/plain": [
       "sub-pd11_ses-off_scans.tsv:   0%|          | 0.00/76.0 [00:00<?, ?B/s]"
      ]
     },
     "metadata": {},
     "output_type": "display_data"
    },
    {
     "data": {
      "application/vnd.jupyter.widget-view+json": {
       "model_id": "",
       "version_major": 2,
       "version_minor": 0
      },
      "text/plain": [
       "sub-pd11_ses-on_task-rest_eeg.json:   0%|          | 0.00/471 [00:00<?, ?B/s]"
      ]
     },
     "metadata": {},
     "output_type": "display_data"
    },
    {
     "data": {
      "application/vnd.jupyter.widget-view+json": {
       "model_id": "",
       "version_major": 2,
       "version_minor": 0
      },
      "text/plain": [
       "sub-pd12_ses-off_task-rest_beh.tsv:   0%|          | 0.00/10.0 [00:00<?, ?B/s]"
      ]
     },
     "metadata": {},
     "output_type": "display_data"
    },
    {
     "data": {
      "application/vnd.jupyter.widget-view+json": {
       "model_id": "",
       "version_major": 2,
       "version_minor": 0
      },
      "text/plain": [
       "sub-pd13_ses-off_task-rest_beh.json: 0.00B [00:00, ?B/s]"
      ]
     },
     "metadata": {},
     "output_type": "display_data"
    },
    {
     "data": {
      "application/vnd.jupyter.widget-view+json": {
       "model_id": "",
       "version_major": 2,
       "version_minor": 0
      },
      "text/plain": [
       "sub-pd12_ses-on_task-rest_events.tsv:   0%|          | 0.00/66.0 [00:00<?, ?B/s]"
      ]
     },
     "metadata": {},
     "output_type": "display_data"
    },
    {
     "data": {
      "application/vnd.jupyter.widget-view+json": {
       "model_id": "",
       "version_major": 2,
       "version_minor": 0
      },
      "text/plain": [
       "sub-pd14_ses-off_scans.tsv:   0%|          | 0.00/76.0 [00:00<?, ?B/s]"
      ]
     },
     "metadata": {},
     "output_type": "display_data"
    },
    {
     "data": {
      "application/vnd.jupyter.widget-view+json": {
       "model_id": "",
       "version_major": 2,
       "version_minor": 0
      },
      "text/plain": [
       "sub-pd14_ses-off_task-rest_eeg.json:   0%|          | 0.00/471 [00:00<?, ?B/s]"
      ]
     },
     "metadata": {},
     "output_type": "display_data"
    },
    {
     "data": {
      "application/vnd.jupyter.widget-view+json": {
       "model_id": "",
       "version_major": 2,
       "version_minor": 0
      },
      "text/plain": [
       "sub-pd16_ses-off_task-rest_beh.tsv:   0%|          | 0.00/10.0 [00:00<?, ?B/s]"
      ]
     },
     "metadata": {},
     "output_type": "display_data"
    },
    {
     "data": {
      "application/vnd.jupyter.widget-view+json": {
       "model_id": "",
       "version_major": 2,
       "version_minor": 0
      },
      "text/plain": [
       "sub-pd16_ses-off_task-rest_channels.tsv:   0%|          | 0.00/2.22k [00:00<?, ?B/s]"
      ]
     },
     "metadata": {},
     "output_type": "display_data"
    },
    {
     "data": {
      "application/vnd.jupyter.widget-view+json": {
       "model_id": "",
       "version_major": 2,
       "version_minor": 0
      },
      "text/plain": [
       "sub-pd16_ses-on_task-rest_eeg.json:   0%|          | 0.00/471 [00:00<?, ?B/s]"
      ]
     },
     "metadata": {},
     "output_type": "display_data"
    },
    {
     "data": {
      "application/vnd.jupyter.widget-view+json": {
       "model_id": "",
       "version_major": 2,
       "version_minor": 0
      },
      "text/plain": [
       "sub-pd17_ses-on_task-rest_eeg.json:   0%|          | 0.00/471 [00:00<?, ?B/s]"
      ]
     },
     "metadata": {},
     "output_type": "display_data"
    },
    {
     "data": {
      "application/vnd.jupyter.widget-view+json": {
       "model_id": "",
       "version_major": 2,
       "version_minor": 0
      },
      "text/plain": [
       "sub-pd19_ses-on_scans.tsv:   0%|          | 0.00/75.0 [00:00<?, ?B/s]"
      ]
     },
     "metadata": {},
     "output_type": "display_data"
    },
    {
     "data": {
      "application/vnd.jupyter.widget-view+json": {
       "model_id": "",
       "version_major": 2,
       "version_minor": 0
      },
      "text/plain": [
       "sub-pd19_ses-on_task-rest_beh.tsv:   0%|          | 0.00/10.0 [00:00<?, ?B/s]"
      ]
     },
     "metadata": {},
     "output_type": "display_data"
    },
    {
     "data": {
      "application/vnd.jupyter.widget-view+json": {
       "model_id": "",
       "version_major": 2,
       "version_minor": 0
      },
      "text/plain": [
       "sub-pd22_ses-off_task-rest_eeg.bdf:   0%|          | 0.00/11.3M [00:00<?, ?B/s]"
      ]
     },
     "metadata": {},
     "output_type": "display_data"
    },
    {
     "data": {
      "application/vnd.jupyter.widget-view+json": {
       "model_id": "",
       "version_major": 2,
       "version_minor": 0
      },
      "text/plain": [
       "sub-pd23_ses-off_task-rest_beh.tsv:   0%|          | 0.00/10.0 [00:00<?, ?B/s]"
      ]
     },
     "metadata": {},
     "output_type": "display_data"
    },
    {
     "data": {
      "application/vnd.jupyter.widget-view+json": {
       "model_id": "",
       "version_major": 2,
       "version_minor": 0
      },
      "text/plain": [
       "sub-pd23_ses-on_task-rest_beh.tsv:   0%|          | 0.00/10.0 [00:00<?, ?B/s]"
      ]
     },
     "metadata": {},
     "output_type": "display_data"
    },
    {
     "data": {
      "application/vnd.jupyter.widget-view+json": {
       "model_id": "",
       "version_major": 2,
       "version_minor": 0
      },
      "text/plain": [
       "sub-pd23_ses-off_task-rest_eeg.json:   0%|          | 0.00/471 [00:00<?, ?B/s]"
      ]
     },
     "metadata": {},
     "output_type": "display_data"
    },
    {
     "data": {
      "application/vnd.jupyter.widget-view+json": {
       "model_id": "",
       "version_major": 2,
       "version_minor": 0
      },
      "text/plain": [
       "sub-pd28_ses-off_task-rest_beh.json: 0.00B [00:00, ?B/s]"
      ]
     },
     "metadata": {},
     "output_type": "display_data"
    },
    {
     "data": {
      "application/vnd.jupyter.widget-view+json": {
       "model_id": "",
       "version_major": 2,
       "version_minor": 0
      },
      "text/plain": [
       "sub-pd26_ses-off_task-rest_eeg.bdf:   0%|          | 0.00/11.5M [00:00<?, ?B/s]"
      ]
     },
     "metadata": {},
     "output_type": "display_data"
    },
    {
     "data": {
      "application/vnd.jupyter.widget-view+json": {
       "model_id": "",
       "version_major": 2,
       "version_minor": 0
      },
      "text/plain": [
       "sub-pd28_ses-on_task-rest_beh.tsv:   0%|          | 0.00/10.0 [00:00<?, ?B/s]"
      ]
     },
     "metadata": {},
     "output_type": "display_data"
    },
    {
     "data": {
      "application/vnd.jupyter.widget-view+json": {
       "model_id": "",
       "version_major": 2,
       "version_minor": 0
      },
      "text/plain": [
       "sub-pd28_ses-on_task-rest_eeg.json:   0%|          | 0.00/471 [00:00<?, ?B/s]"
      ]
     },
     "metadata": {},
     "output_type": "display_data"
    },
    {
     "data": {
      "application/vnd.jupyter.widget-view+json": {
       "model_id": "",
       "version_major": 2,
       "version_minor": 0
      },
      "text/plain": [
       "sub-pd3_ses-off_task-rest_eeg.json:   0%|          | 0.00/471 [00:00<?, ?B/s]"
      ]
     },
     "metadata": {},
     "output_type": "display_data"
    },
    {
     "data": {
      "application/vnd.jupyter.widget-view+json": {
       "model_id": "",
       "version_major": 2,
       "version_minor": 0
      },
      "text/plain": [
       "sub-pd5_ses-on_scans.tsv:   0%|          | 0.00/74.0 [00:00<?, ?B/s]"
      ]
     },
     "metadata": {},
     "output_type": "display_data"
    },
    {
     "data": {
      "application/vnd.jupyter.widget-view+json": {
       "model_id": "",
       "version_major": 2,
       "version_minor": 0
      },
      "text/plain": [
       "sub-pd9_ses-on_scans.tsv:   0%|          | 0.00/74.0 [00:00<?, ?B/s]"
      ]
     },
     "metadata": {},
     "output_type": "display_data"
    },
    {
     "data": {
      "application/vnd.jupyter.widget-view+json": {
       "model_id": "",
       "version_major": 2,
       "version_minor": 0
      },
      "text/plain": [
       "sub-pd5_ses-on_task-rest_eeg.bdf:   0%|          | 0.00/12.4M [00:00<?, ?B/s]"
      ]
     },
     "metadata": {},
     "output_type": "display_data"
    },
    {
     "data": {
      "application/vnd.jupyter.widget-view+json": {
       "model_id": "",
       "version_major": 2,
       "version_minor": 0
      },
      "text/plain": [
       "sub-pd9_ses-on_task-rest_events.tsv:   0%|          | 0.00/63.0 [00:00<?, ?B/s]"
      ]
     },
     "metadata": {},
     "output_type": "display_data"
    },
    {
     "data": {
      "application/vnd.jupyter.widget-view+json": {
       "model_id": "",
       "version_major": 2,
       "version_minor": 0
      },
      "text/plain": [
       "sub-hc18_ses-hc_task-rest_beh.tsv:   0%|          | 0.00/10.0 [00:00<?, ?B/s]"
      ]
     },
     "metadata": {},
     "output_type": "display_data"
    },
    {
     "data": {
      "application/vnd.jupyter.widget-view+json": {
       "model_id": "",
       "version_major": 2,
       "version_minor": 0
      },
      "text/plain": [
       "sub-hc21_ses-hc_scans.tsv:   0%|          | 0.00/75.0 [00:00<?, ?B/s]"
      ]
     },
     "metadata": {},
     "output_type": "display_data"
    },
    {
     "data": {
      "application/vnd.jupyter.widget-view+json": {
       "model_id": "",
       "version_major": 2,
       "version_minor": 0
      },
      "text/plain": [
       "sub-hc25_ses-hc_scans.tsv:   0%|          | 0.00/75.0 [00:00<?, ?B/s]"
      ]
     },
     "metadata": {},
     "output_type": "display_data"
    },
    {
     "data": {
      "application/vnd.jupyter.widget-view+json": {
       "model_id": "",
       "version_major": 2,
       "version_minor": 0
      },
      "text/plain": [
       "sub-hc30_ses-hc_task-rest_beh.tsv:   0%|          | 0.00/10.0 [00:00<?, ?B/s]"
      ]
     },
     "metadata": {},
     "output_type": "display_data"
    },
    {
     "data": {
      "application/vnd.jupyter.widget-view+json": {
       "model_id": "",
       "version_major": 2,
       "version_minor": 0
      },
      "text/plain": [
       "sub-hc32_ses-hc_task-rest_eeg.json:   0%|          | 0.00/471 [00:00<?, ?B/s]"
      ]
     },
     "metadata": {},
     "output_type": "display_data"
    },
    {
     "data": {
      "application/vnd.jupyter.widget-view+json": {
       "model_id": "",
       "version_major": 2,
       "version_minor": 0
      },
      "text/plain": [
       "sub-pd11_ses-off_task-rest_beh.json: 0.00B [00:00, ?B/s]"
      ]
     },
     "metadata": {},
     "output_type": "display_data"
    },
    {
     "data": {
      "application/vnd.jupyter.widget-view+json": {
       "model_id": "",
       "version_major": 2,
       "version_minor": 0
      },
      "text/plain": [
       "sub-hc7_ses-hc_task-rest_beh.json:   0%|          | 0.00/90.0 [00:00<?, ?B/s]"
      ]
     },
     "metadata": {},
     "output_type": "display_data"
    },
    {
     "data": {
      "application/vnd.jupyter.widget-view+json": {
       "model_id": "",
       "version_major": 2,
       "version_minor": 0
      },
      "text/plain": [
       "sub-pd12_ses-on_task-rest_beh.json: 0.00B [00:00, ?B/s]"
      ]
     },
     "metadata": {},
     "output_type": "display_data"
    },
    {
     "data": {
      "application/vnd.jupyter.widget-view+json": {
       "model_id": "",
       "version_major": 2,
       "version_minor": 0
      },
      "text/plain": [
       "sub-pd14_ses-on_task-rest_beh.json: 0.00B [00:00, ?B/s]"
      ]
     },
     "metadata": {},
     "output_type": "display_data"
    },
    {
     "data": {
      "application/vnd.jupyter.widget-view+json": {
       "model_id": "",
       "version_major": 2,
       "version_minor": 0
      },
      "text/plain": [
       "sub-pd13_ses-off_task-rest_eeg.json:   0%|          | 0.00/471 [00:00<?, ?B/s]"
      ]
     },
     "metadata": {},
     "output_type": "display_data"
    },
    {
     "data": {
      "application/vnd.jupyter.widget-view+json": {
       "model_id": "",
       "version_major": 2,
       "version_minor": 0
      },
      "text/plain": [
       "sub-pd14_ses-on_task-rest_eeg.json:   0%|          | 0.00/471 [00:00<?, ?B/s]"
      ]
     },
     "metadata": {},
     "output_type": "display_data"
    },
    {
     "data": {
      "application/vnd.jupyter.widget-view+json": {
       "model_id": "",
       "version_major": 2,
       "version_minor": 0
      },
      "text/plain": [
       "sub-pd17_ses-off_task-rest_events.tsv:   0%|          | 0.00/88.0 [00:00<?, ?B/s]"
      ]
     },
     "metadata": {},
     "output_type": "display_data"
    },
    {
     "data": {
      "application/vnd.jupyter.widget-view+json": {
       "model_id": "",
       "version_major": 2,
       "version_minor": 0
      },
      "text/plain": [
       "sub-pd26_ses-on_task-rest_beh.json: 0.00B [00:00, ?B/s]"
      ]
     },
     "metadata": {},
     "output_type": "display_data"
    },
    {
     "data": {
      "application/vnd.jupyter.widget-view+json": {
       "model_id": "",
       "version_major": 2,
       "version_minor": 0
      },
      "text/plain": [
       "sub-pd19_ses-on_task-rest_eeg.bdf:   0%|          | 0.00/11.3M [00:00<?, ?B/s]"
      ]
     },
     "metadata": {},
     "output_type": "display_data"
    },
    {
     "data": {
      "application/vnd.jupyter.widget-view+json": {
       "model_id": "",
       "version_major": 2,
       "version_minor": 0
      },
      "text/plain": [
       "sub-pd22_ses-on_task-rest_eeg.json:   0%|          | 0.00/471 [00:00<?, ?B/s]"
      ]
     },
     "metadata": {},
     "output_type": "display_data"
    },
    {
     "data": {
      "application/vnd.jupyter.widget-view+json": {
       "model_id": "",
       "version_major": 2,
       "version_minor": 0
      },
      "text/plain": [
       "sub-pd3_ses-off_task-rest_channels.tsv:   0%|          | 0.00/2.22k [00:00<?, ?B/s]"
      ]
     },
     "metadata": {},
     "output_type": "display_data"
    },
    {
     "data": {
      "application/vnd.jupyter.widget-view+json": {
       "model_id": "",
       "version_major": 2,
       "version_minor": 0
      },
      "text/plain": [
       "sub-pd3_ses-on_task-rest_eeg.json:   0%|          | 0.00/471 [00:00<?, ?B/s]"
      ]
     },
     "metadata": {},
     "output_type": "display_data"
    },
    {
     "data": {
      "application/vnd.jupyter.widget-view+json": {
       "model_id": "",
       "version_major": 2,
       "version_minor": 0
      },
      "text/plain": [
       "sub-pd9_ses-on_task-rest_eeg.bdf:   0%|          | 0.00/11.2M [00:00<?, ?B/s]"
      ]
     },
     "metadata": {},
     "output_type": "display_data"
    },
    {
     "data": {
      "application/vnd.jupyter.widget-view+json": {
       "model_id": "",
       "version_major": 2,
       "version_minor": 0
      },
      "text/plain": [
       "task-rest_beh.json:   0%|          | 0.00/215 [00:00<?, ?B/s]"
      ]
     },
     "metadata": {},
     "output_type": "display_data"
    },
    {
     "data": {
      "application/vnd.jupyter.widget-view+json": {
       "model_id": "",
       "version_major": 2,
       "version_minor": 0
      },
      "text/plain": [
       "sub-hc24_ses-hc_scans.tsv:   0%|          | 0.00/75.0 [00:00<?, ?B/s]"
      ]
     },
     "metadata": {},
     "output_type": "display_data"
    },
    {
     "data": {
      "application/vnd.jupyter.widget-view+json": {
       "model_id": "",
       "version_major": 2,
       "version_minor": 0
      },
      "text/plain": [
       "sub-hc31_ses-hc_task-rest_beh.json:   0%|          | 0.00/90.0 [00:00<?, ?B/s]"
      ]
     },
     "metadata": {},
     "output_type": "display_data"
    },
    {
     "data": {
      "application/vnd.jupyter.widget-view+json": {
       "model_id": "",
       "version_major": 2,
       "version_minor": 0
      },
      "text/plain": [
       "sub-hc7_ses-hc_task-rest_channels.tsv:   0%|          | 0.00/2.22k [00:00<?, ?B/s]"
      ]
     },
     "metadata": {},
     "output_type": "display_data"
    },
    {
     "data": {
      "application/vnd.jupyter.widget-view+json": {
       "model_id": "",
       "version_major": 2,
       "version_minor": 0
      },
      "text/plain": [
       "sub-pd12_ses-off_task-rest_channels.tsv:   0%|          | 0.00/2.22k [00:00<?, ?B/s]"
      ]
     },
     "metadata": {},
     "output_type": "display_data"
    },
    {
     "data": {
      "application/vnd.jupyter.widget-view+json": {
       "model_id": "",
       "version_major": 2,
       "version_minor": 0
      },
      "text/plain": [
       "sub-pd16_ses-on_task-rest_beh.tsv:   0%|          | 0.00/10.0 [00:00<?, ?B/s]"
      ]
     },
     "metadata": {},
     "output_type": "display_data"
    },
    {
     "data": {
      "application/vnd.jupyter.widget-view+json": {
       "model_id": "",
       "version_major": 2,
       "version_minor": 0
      },
      "text/plain": [
       "sub-pd17_ses-off_task-rest_channels.tsv:   0%|          | 0.00/2.22k [00:00<?, ?B/s]"
      ]
     },
     "metadata": {},
     "output_type": "display_data"
    },
    {
     "data": {
      "application/vnd.jupyter.widget-view+json": {
       "model_id": "",
       "version_major": 2,
       "version_minor": 0
      },
      "text/plain": [
       "sub-pd23_ses-on_task-rest_eeg.json:   0%|          | 0.00/471 [00:00<?, ?B/s]"
      ]
     },
     "metadata": {},
     "output_type": "display_data"
    },
    {
     "data": {
      "application/vnd.jupyter.widget-view+json": {
       "model_id": "",
       "version_major": 2,
       "version_minor": 0
      },
      "text/plain": [
       "sub-pd26_ses-on_task-rest_beh.tsv:   0%|          | 0.00/10.0 [00:00<?, ?B/s]"
      ]
     },
     "metadata": {},
     "output_type": "display_data"
    },
    {
     "data": {
      "application/vnd.jupyter.widget-view+json": {
       "model_id": "",
       "version_major": 2,
       "version_minor": 0
      },
      "text/plain": [
       "sub-pd5_ses-on_task-rest_beh.tsv:   0%|          | 0.00/10.0 [00:00<?, ?B/s]"
      ]
     },
     "metadata": {},
     "output_type": "display_data"
    },
    {
     "data": {
      "application/vnd.jupyter.widget-view+json": {
       "model_id": "",
       "version_major": 2,
       "version_minor": 0
      },
      "text/plain": [
       "sub-hc10_ses-hc_task-rest_eeg.bdf:   0%|          | 0.00/12.1M [00:00<?, ?B/s]"
      ]
     },
     "metadata": {},
     "output_type": "display_data"
    },
    {
     "data": {
      "application/vnd.jupyter.widget-view+json": {
       "model_id": "",
       "version_major": 2,
       "version_minor": 0
      },
      "text/plain": [
       "sub-hc29_ses-hc_scans.tsv:   0%|          | 0.00/75.0 [00:00<?, ?B/s]"
      ]
     },
     "metadata": {},
     "output_type": "display_data"
    },
    {
     "data": {
      "application/vnd.jupyter.widget-view+json": {
       "model_id": "",
       "version_major": 2,
       "version_minor": 0
      },
      "text/plain": [
       "sub-pd22_ses-on_task-rest_beh.json: 0.00B [00:00, ?B/s]"
      ]
     },
     "metadata": {},
     "output_type": "display_data"
    },
    {
     "data": {
      "application/vnd.jupyter.widget-view+json": {
       "model_id": "",
       "version_major": 2,
       "version_minor": 0
      },
      "text/plain": [
       "sub-pd11_ses-off_task-rest_eeg.bdf:   0%|          | 0.00/11.2M [00:00<?, ?B/s]"
      ]
     },
     "metadata": {},
     "output_type": "display_data"
    },
    {
     "data": {
      "application/vnd.jupyter.widget-view+json": {
       "model_id": "",
       "version_major": 2,
       "version_minor": 0
      },
      "text/plain": [
       "sub-pd3_ses-on_task-rest_events.tsv:   0%|          | 0.00/68.0 [00:00<?, ?B/s]"
      ]
     },
     "metadata": {},
     "output_type": "display_data"
    },
    {
     "data": {
      "application/vnd.jupyter.widget-view+json": {
       "model_id": "",
       "version_major": 2,
       "version_minor": 0
      },
      "text/plain": [
       "sub-hc33_ses-hc_task-rest_channels.tsv:   0%|          | 0.00/2.22k [00:00<?, ?B/s]"
      ]
     },
     "metadata": {},
     "output_type": "display_data"
    },
    {
     "data": {
      "application/vnd.jupyter.widget-view+json": {
       "model_id": "",
       "version_major": 2,
       "version_minor": 0
      },
      "text/plain": [
       "sub-pd17_ses-on_task-rest_events.tsv:   0%|          | 0.00/65.0 [00:00<?, ?B/s]"
      ]
     },
     "metadata": {},
     "output_type": "display_data"
    },
    {
     "data": {
      "application/vnd.jupyter.widget-view+json": {
       "model_id": "",
       "version_major": 2,
       "version_minor": 0
      },
      "text/plain": [
       "sub-pd28_ses-off_task-rest_eeg.json:   0%|          | 0.00/471 [00:00<?, ?B/s]"
      ]
     },
     "metadata": {},
     "output_type": "display_data"
    },
    {
     "data": {
      "application/vnd.jupyter.widget-view+json": {
       "model_id": "",
       "version_major": 2,
       "version_minor": 0
      },
      "text/plain": [
       "sub-pd13_ses-on_task-rest_events.tsv:   0%|          | 0.00/66.0 [00:00<?, ?B/s]"
      ]
     },
     "metadata": {},
     "output_type": "display_data"
    },
    {
     "data": {
      "application/vnd.jupyter.widget-view+json": {
       "model_id": "",
       "version_major": 2,
       "version_minor": 0
      },
      "text/plain": [
       "sub-hc20_ses-hc_task-rest_eeg.json:   0%|          | 0.00/471 [00:00<?, ?B/s]"
      ]
     },
     "metadata": {},
     "output_type": "display_data"
    }
   ],
   "source": [
    "dataset = \"ds002778\"\n",
    "subject = \"pd6\"\n",
    "\n",
    "bids_root = op.join(op.dirname(sample.data_path()), dataset)\n",
    "if not op.isdir(bids_root):\n",
    "    os.makedirs(bids_root)\n",
    "\n",
    "openneuro.download(dataset=dataset, target_dir=bids_root)"
   ]
  },
  {
   "cell_type": "code",
   "execution_count": 33,
   "id": "burning-piano",
   "metadata": {},
   "outputs": [
    {
     "name": "stdout",
     "output_type": "stream",
     "text": [
      "|ds002778\\\n",
      "|--- CHANGES\n",
      "|--- README\n",
      "|--- dataset_description.json\n",
      "|--- participants.json\n",
      "|--- participants.tsv\n",
      "|--- task-rest_beh.json\n",
      "|--- sub-hc1\\\n",
      "|------ ses-hc\\\n",
      "|--------- sub-hc1_ses-hc_scans.tsv\n",
      "|--------- beh\\\n",
      "|------------ sub-hc1_ses-hc_task-rest_beh.json\n",
      "|------------ sub-hc1_ses-hc_task-rest_beh.tsv\n",
      "|--------- eeg\\\n",
      "|------------ sub-hc1_ses-hc_task-rest_channels.tsv\n",
      "|------------ sub-hc1_ses-hc_task-rest_eeg.bdf\n",
      "|------------ sub-hc1_ses-hc_task-rest_eeg.json\n",
      "|------------ sub-hc1_ses-hc_task-rest_events.tsv\n",
      "|--- sub-hc10\\\n",
      "|------ ses-hc\\\n",
      "|--------- sub-hc10_ses-hc_scans.tsv\n",
      "|--------- beh\\\n",
      "|------------ sub-hc10_ses-hc_task-rest_beh.json\n",
      "|------------ sub-hc10_ses-hc_task-rest_beh.tsv\n",
      "|--------- eeg\\\n",
      "|------------ sub-hc10_ses-hc_task-rest_channels.tsv\n",
      "|------------ sub-hc10_ses-hc_task-rest_eeg.bdf\n",
      "|------------ sub-hc10_ses-hc_task-rest_eeg.json\n",
      "|------------ sub-hc10_ses-hc_task-rest_events.tsv\n",
      "|--- sub-hc18\\\n",
      "|------ ses-hc\\\n",
      "|--------- sub-hc18_ses-hc_scans.tsv\n",
      "|--------- beh\\\n",
      "|------------ sub-hc18_ses-hc_task-rest_beh.json\n",
      "|------------ sub-hc18_ses-hc_task-rest_beh.tsv\n",
      "|--------- eeg\\\n",
      "|------------ sub-hc18_ses-hc_task-rest_channels.tsv\n",
      "|------------ sub-hc18_ses-hc_task-rest_eeg.bdf\n",
      "|------------ sub-hc18_ses-hc_task-rest_eeg.json\n",
      "|------------ sub-hc18_ses-hc_task-rest_events.tsv\n",
      "|--- sub-hc2\\\n",
      "|------ ses-hc\\\n",
      "|--------- sub-hc2_ses-hc_scans.tsv\n",
      "|--------- beh\\\n",
      "|------------ sub-hc2_ses-hc_task-rest_beh.json\n",
      "|------------ sub-hc2_ses-hc_task-rest_beh.tsv\n",
      "|--------- eeg\\\n",
      "|------------ sub-hc2_ses-hc_task-rest_channels.tsv\n",
      "|------------ sub-hc2_ses-hc_task-rest_eeg.bdf\n",
      "|------------ sub-hc2_ses-hc_task-rest_eeg.json\n",
      "|------------ sub-hc2_ses-hc_task-rest_events.tsv\n",
      "|--- sub-hc20\\\n",
      "|------ ses-hc\\\n",
      "|--------- sub-hc20_ses-hc_scans.tsv\n",
      "|--------- beh\\\n",
      "|------------ sub-hc20_ses-hc_task-rest_beh.json\n",
      "|------------ sub-hc20_ses-hc_task-rest_beh.tsv\n",
      "|--------- eeg\\\n",
      "|------------ sub-hc20_ses-hc_task-rest_channels.tsv\n",
      "|------------ sub-hc20_ses-hc_task-rest_eeg.bdf\n",
      "|------------ sub-hc20_ses-hc_task-rest_eeg.json\n",
      "|------------ sub-hc20_ses-hc_task-rest_events.tsv\n",
      "|--- sub-hc21\\\n",
      "|------ ses-hc\\\n",
      "|--------- sub-hc21_ses-hc_scans.tsv\n",
      "|--------- beh\\\n",
      "|------------ sub-hc21_ses-hc_task-rest_beh.json\n",
      "|------------ sub-hc21_ses-hc_task-rest_beh.tsv\n",
      "|--------- eeg\\\n",
      "|------------ sub-hc21_ses-hc_task-rest_channels.tsv\n",
      "|------------ sub-hc21_ses-hc_task-rest_eeg.bdf\n",
      "|------------ sub-hc21_ses-hc_task-rest_eeg.json\n",
      "|------------ sub-hc21_ses-hc_task-rest_events.tsv\n",
      "|--- sub-hc24\\\n",
      "|------ ses-hc\\\n",
      "|--------- sub-hc24_ses-hc_scans.tsv\n",
      "|--------- beh\\\n",
      "|------------ sub-hc24_ses-hc_task-rest_beh.json\n",
      "|------------ sub-hc24_ses-hc_task-rest_beh.tsv\n",
      "|--------- eeg\\\n",
      "|------------ sub-hc24_ses-hc_task-rest_channels.tsv\n",
      "|------------ sub-hc24_ses-hc_task-rest_eeg.bdf\n",
      "|------------ sub-hc24_ses-hc_task-rest_eeg.json\n",
      "|------------ sub-hc24_ses-hc_task-rest_events.tsv\n",
      "|--- sub-hc25\\\n",
      "|------ ses-hc\\\n",
      "|--------- sub-hc25_ses-hc_scans.tsv\n",
      "|--------- beh\\\n",
      "|------------ sub-hc25_ses-hc_task-rest_beh.json\n",
      "|------------ sub-hc25_ses-hc_task-rest_beh.tsv\n",
      "|--------- eeg\\\n",
      "|------------ sub-hc25_ses-hc_task-rest_channels.tsv\n",
      "|------------ sub-hc25_ses-hc_task-rest_eeg.bdf\n",
      "|------------ sub-hc25_ses-hc_task-rest_eeg.json\n",
      "|------------ sub-hc25_ses-hc_task-rest_events.tsv\n",
      "|--- sub-hc29\\\n",
      "|------ ses-hc\\\n",
      "|--------- sub-hc29_ses-hc_scans.tsv\n",
      "|--------- beh\\\n",
      "|------------ sub-hc29_ses-hc_task-rest_beh.json\n",
      "|------------ sub-hc29_ses-hc_task-rest_beh.tsv\n",
      "|--------- eeg\\\n",
      "|------------ sub-hc29_ses-hc_task-rest_channels.tsv\n",
      "|------------ sub-hc29_ses-hc_task-rest_eeg.bdf\n",
      "|------------ sub-hc29_ses-hc_task-rest_eeg.json\n",
      "|------------ sub-hc29_ses-hc_task-rest_events.tsv\n",
      "|--- sub-hc30\\\n",
      "|------ ses-hc\\\n",
      "|--------- sub-hc30_ses-hc_scans.tsv\n",
      "|--------- beh\\\n",
      "|------------ sub-hc30_ses-hc_task-rest_beh.json\n",
      "|------------ sub-hc30_ses-hc_task-rest_beh.tsv\n",
      "|--------- eeg\\\n",
      "|------------ sub-hc30_ses-hc_task-rest_channels.tsv\n",
      "|------------ sub-hc30_ses-hc_task-rest_eeg.bdf\n",
      "|------------ sub-hc30_ses-hc_task-rest_eeg.json\n",
      "|------------ sub-hc30_ses-hc_task-rest_events.tsv\n",
      "|--- sub-hc31\\\n",
      "|------ ses-hc\\\n",
      "|--------- sub-hc31_ses-hc_scans.tsv\n",
      "|--------- beh\\\n",
      "|------------ sub-hc31_ses-hc_task-rest_beh.json\n",
      "|------------ sub-hc31_ses-hc_task-rest_beh.tsv\n",
      "|--------- eeg\\\n",
      "|------------ sub-hc31_ses-hc_task-rest_channels.tsv\n",
      "|------------ sub-hc31_ses-hc_task-rest_eeg.bdf\n",
      "|------------ sub-hc31_ses-hc_task-rest_eeg.json\n",
      "|------------ sub-hc31_ses-hc_task-rest_events.tsv\n",
      "|--- sub-hc32\\\n",
      "|------ ses-hc\\\n",
      "|--------- sub-hc32_ses-hc_scans.tsv\n",
      "|--------- beh\\\n",
      "|------------ sub-hc32_ses-hc_task-rest_beh.json\n",
      "|------------ sub-hc32_ses-hc_task-rest_beh.tsv\n",
      "|--------- eeg\\\n",
      "|------------ sub-hc32_ses-hc_task-rest_channels.tsv\n",
      "|------------ sub-hc32_ses-hc_task-rest_eeg.bdf\n",
      "|------------ sub-hc32_ses-hc_task-rest_eeg.json\n",
      "|------------ sub-hc32_ses-hc_task-rest_events.tsv\n",
      "|--- sub-hc33\\\n",
      "|------ ses-hc\\\n",
      "|--------- sub-hc33_ses-hc_scans.tsv\n",
      "|--------- beh\\\n",
      "|------------ sub-hc33_ses-hc_task-rest_beh.json\n",
      "|------------ sub-hc33_ses-hc_task-rest_beh.tsv\n",
      "|--------- eeg\\\n",
      "|------------ sub-hc33_ses-hc_task-rest_channels.tsv\n",
      "|------------ sub-hc33_ses-hc_task-rest_eeg.bdf\n",
      "|------------ sub-hc33_ses-hc_task-rest_eeg.json\n",
      "|------------ sub-hc33_ses-hc_task-rest_events.tsv\n",
      "|--- sub-hc4\\\n",
      "|------ ses-hc\\\n",
      "|--------- sub-hc4_ses-hc_scans.tsv\n",
      "|--------- beh\\\n",
      "|------------ sub-hc4_ses-hc_task-rest_beh.json\n",
      "|------------ sub-hc4_ses-hc_task-rest_beh.tsv\n",
      "|--------- eeg\\\n",
      "|------------ sub-hc4_ses-hc_task-rest_channels.tsv\n",
      "|------------ sub-hc4_ses-hc_task-rest_eeg.bdf\n",
      "|------------ sub-hc4_ses-hc_task-rest_eeg.json\n",
      "|------------ sub-hc4_ses-hc_task-rest_events.tsv\n",
      "|--- sub-hc7\\\n",
      "|------ ses-hc\\\n",
      "|--------- sub-hc7_ses-hc_scans.tsv\n",
      "|--------- beh\\\n",
      "|------------ sub-hc7_ses-hc_task-rest_beh.json\n",
      "|------------ sub-hc7_ses-hc_task-rest_beh.tsv\n",
      "|--------- eeg\\\n",
      "|------------ sub-hc7_ses-hc_task-rest_channels.tsv\n",
      "|------------ sub-hc7_ses-hc_task-rest_eeg.bdf\n",
      "|------------ sub-hc7_ses-hc_task-rest_eeg.json\n",
      "|------------ sub-hc7_ses-hc_task-rest_events.tsv\n",
      "|--- sub-hc8\\\n",
      "|------ ses-hc\\\n",
      "|--------- sub-hc8_ses-hc_scans.tsv\n",
      "|--------- beh\\\n",
      "|------------ sub-hc8_ses-hc_task-rest_beh.json\n",
      "|------------ sub-hc8_ses-hc_task-rest_beh.tsv\n",
      "|--------- eeg\\\n",
      "|------------ sub-hc8_ses-hc_task-rest_channels.tsv\n",
      "|------------ sub-hc8_ses-hc_task-rest_eeg.bdf\n",
      "|------------ sub-hc8_ses-hc_task-rest_eeg.json\n",
      "|------------ sub-hc8_ses-hc_task-rest_events.tsv\n",
      "|--- sub-pd11\\\n",
      "|------ ses-off\\\n",
      "|--------- sub-pd11_ses-off_scans.tsv\n",
      "|--------- beh\\\n",
      "|------------ sub-pd11_ses-off_task-rest_beh.json\n",
      "|------------ sub-pd11_ses-off_task-rest_beh.tsv\n",
      "|--------- eeg\\\n",
      "|------------ sub-pd11_ses-off_task-rest_channels.tsv\n",
      "|------------ sub-pd11_ses-off_task-rest_eeg.bdf\n",
      "|------------ sub-pd11_ses-off_task-rest_eeg.json\n",
      "|------------ sub-pd11_ses-off_task-rest_events.tsv\n",
      "|------ ses-on\\\n",
      "|--------- sub-pd11_ses-on_scans.tsv\n",
      "|--------- beh\\\n",
      "|------------ sub-pd11_ses-on_task-rest_beh.json\n",
      "|------------ sub-pd11_ses-on_task-rest_beh.tsv\n",
      "|--------- eeg\\\n",
      "|------------ sub-pd11_ses-on_task-rest_channels.tsv\n",
      "|------------ sub-pd11_ses-on_task-rest_eeg.bdf\n",
      "|------------ sub-pd11_ses-on_task-rest_eeg.json\n",
      "|------------ sub-pd11_ses-on_task-rest_events.tsv\n",
      "|--- sub-pd12\\\n",
      "|------ ses-off\\\n",
      "|--------- sub-pd12_ses-off_scans.tsv\n",
      "|--------- beh\\\n",
      "|------------ sub-pd12_ses-off_task-rest_beh.json\n",
      "|------------ sub-pd12_ses-off_task-rest_beh.tsv\n",
      "|--------- eeg\\\n",
      "|------------ sub-pd12_ses-off_task-rest_channels.tsv\n",
      "|------------ sub-pd12_ses-off_task-rest_eeg.bdf\n",
      "|------------ sub-pd12_ses-off_task-rest_eeg.json\n",
      "|------------ sub-pd12_ses-off_task-rest_events.tsv\n",
      "|------ ses-on\\\n",
      "|--------- sub-pd12_ses-on_scans.tsv\n",
      "|--------- beh\\\n",
      "|------------ sub-pd12_ses-on_task-rest_beh.json\n",
      "|------------ sub-pd12_ses-on_task-rest_beh.tsv\n",
      "|--------- eeg\\\n",
      "|------------ sub-pd12_ses-on_task-rest_channels.tsv\n",
      "|------------ sub-pd12_ses-on_task-rest_eeg.bdf\n",
      "|------------ sub-pd12_ses-on_task-rest_eeg.json\n",
      "|------------ sub-pd12_ses-on_task-rest_events.tsv\n",
      "|--- sub-pd13\\\n",
      "|------ ses-off\\\n",
      "|--------- sub-pd13_ses-off_scans.tsv\n",
      "|--------- beh\\\n",
      "|------------ sub-pd13_ses-off_task-rest_beh.json\n",
      "|------------ sub-pd13_ses-off_task-rest_beh.tsv\n",
      "|--------- eeg\\\n",
      "|------------ sub-pd13_ses-off_task-rest_channels.tsv\n",
      "|------------ sub-pd13_ses-off_task-rest_eeg.bdf\n",
      "|------------ sub-pd13_ses-off_task-rest_eeg.json\n",
      "|------------ sub-pd13_ses-off_task-rest_events.tsv\n",
      "|------ ses-on\\\n",
      "|--------- sub-pd13_ses-on_scans.tsv\n",
      "|--------- beh\\\n",
      "|------------ sub-pd13_ses-on_task-rest_beh.json\n",
      "|------------ sub-pd13_ses-on_task-rest_beh.tsv\n",
      "|--------- eeg\\\n",
      "|------------ sub-pd13_ses-on_task-rest_channels.tsv\n",
      "|------------ sub-pd13_ses-on_task-rest_eeg.bdf\n",
      "|------------ sub-pd13_ses-on_task-rest_eeg.json\n",
      "|------------ sub-pd13_ses-on_task-rest_events.tsv\n",
      "|--- sub-pd14\\\n",
      "|------ ses-off\\\n",
      "|--------- sub-pd14_ses-off_scans.tsv\n",
      "|--------- beh\\\n",
      "|------------ sub-pd14_ses-off_task-rest_beh.json\n",
      "|------------ sub-pd14_ses-off_task-rest_beh.tsv\n",
      "|--------- eeg\\\n",
      "|------------ sub-pd14_ses-off_task-rest_channels.tsv\n",
      "|------------ sub-pd14_ses-off_task-rest_eeg.bdf\n",
      "|------------ sub-pd14_ses-off_task-rest_eeg.json\n",
      "|------------ sub-pd14_ses-off_task-rest_events.tsv\n",
      "|------ ses-on\\\n",
      "|--------- sub-pd14_ses-on_scans.tsv\n",
      "|--------- beh\\\n",
      "|------------ sub-pd14_ses-on_task-rest_beh.json\n",
      "|------------ sub-pd14_ses-on_task-rest_beh.tsv\n",
      "|--------- eeg\\\n",
      "|------------ sub-pd14_ses-on_task-rest_channels.tsv\n",
      "|------------ sub-pd14_ses-on_task-rest_eeg.bdf\n",
      "|------------ sub-pd14_ses-on_task-rest_eeg.json\n",
      "|------------ sub-pd14_ses-on_task-rest_events.tsv\n",
      "|--- sub-pd16\\\n",
      "|------ ses-off\\\n",
      "|--------- sub-pd16_ses-off_scans.tsv\n",
      "|--------- beh\\\n",
      "|------------ sub-pd16_ses-off_task-rest_beh.json\n",
      "|------------ sub-pd16_ses-off_task-rest_beh.tsv\n",
      "|--------- eeg\\\n",
      "|------------ sub-pd16_ses-off_task-rest_channels.tsv\n",
      "|------------ sub-pd16_ses-off_task-rest_eeg.bdf\n",
      "|------------ sub-pd16_ses-off_task-rest_eeg.json\n",
      "|------------ sub-pd16_ses-off_task-rest_events.tsv\n",
      "|------ ses-on\\\n",
      "|--------- sub-pd16_ses-on_scans.tsv\n",
      "|--------- beh\\\n",
      "|------------ sub-pd16_ses-on_task-rest_beh.json\n",
      "|------------ sub-pd16_ses-on_task-rest_beh.tsv\n",
      "|--------- eeg\\\n",
      "|------------ sub-pd16_ses-on_task-rest_channels.tsv\n",
      "|------------ sub-pd16_ses-on_task-rest_eeg.bdf\n",
      "|------------ sub-pd16_ses-on_task-rest_eeg.json\n",
      "|------------ sub-pd16_ses-on_task-rest_events.tsv\n",
      "|--- sub-pd17\\\n",
      "|------ ses-off\\\n",
      "|--------- sub-pd17_ses-off_scans.tsv\n",
      "|--------- beh\\\n",
      "|------------ sub-pd17_ses-off_task-rest_beh.json\n",
      "|------------ sub-pd17_ses-off_task-rest_beh.tsv\n",
      "|--------- eeg\\\n",
      "|------------ sub-pd17_ses-off_task-rest_channels.tsv\n",
      "|------------ sub-pd17_ses-off_task-rest_eeg.bdf\n",
      "|------------ sub-pd17_ses-off_task-rest_eeg.json\n",
      "|------------ sub-pd17_ses-off_task-rest_events.tsv\n",
      "|------ ses-on\\\n",
      "|--------- sub-pd17_ses-on_scans.tsv\n",
      "|--------- beh\\\n",
      "|------------ sub-pd17_ses-on_task-rest_beh.json\n",
      "|------------ sub-pd17_ses-on_task-rest_beh.tsv\n",
      "|--------- eeg\\\n",
      "|------------ sub-pd17_ses-on_task-rest_channels.tsv\n",
      "|------------ sub-pd17_ses-on_task-rest_eeg.bdf\n",
      "|------------ sub-pd17_ses-on_task-rest_eeg.json\n",
      "|------------ sub-pd17_ses-on_task-rest_events.tsv\n",
      "|--- sub-pd19\\\n",
      "|------ ses-off\\\n",
      "|--------- sub-pd19_ses-off_scans.tsv\n",
      "|--------- beh\\\n",
      "|------------ sub-pd19_ses-off_task-rest_beh.json\n",
      "|------------ sub-pd19_ses-off_task-rest_beh.tsv\n",
      "|--------- eeg\\\n",
      "|------------ sub-pd19_ses-off_task-rest_channels.tsv\n",
      "|------------ sub-pd19_ses-off_task-rest_eeg.bdf\n",
      "|------------ sub-pd19_ses-off_task-rest_eeg.json\n",
      "|------------ sub-pd19_ses-off_task-rest_events.tsv\n",
      "|------ ses-on\\\n",
      "|--------- sub-pd19_ses-on_scans.tsv\n",
      "|--------- beh\\\n",
      "|------------ sub-pd19_ses-on_task-rest_beh.json\n",
      "|------------ sub-pd19_ses-on_task-rest_beh.tsv\n",
      "|--------- eeg\\\n",
      "|------------ sub-pd19_ses-on_task-rest_channels.tsv\n",
      "|------------ sub-pd19_ses-on_task-rest_eeg.bdf\n",
      "|------------ sub-pd19_ses-on_task-rest_eeg.json\n",
      "|------------ sub-pd19_ses-on_task-rest_events.tsv\n",
      "|--- sub-pd22\\\n",
      "|------ ses-off\\\n",
      "|--------- sub-pd22_ses-off_scans.tsv\n",
      "|--------- beh\\\n",
      "|------------ sub-pd22_ses-off_task-rest_beh.json\n",
      "|------------ sub-pd22_ses-off_task-rest_beh.tsv\n",
      "|--------- eeg\\\n",
      "|------------ sub-pd22_ses-off_task-rest_channels.tsv\n",
      "|------------ sub-pd22_ses-off_task-rest_eeg.bdf\n",
      "|------------ sub-pd22_ses-off_task-rest_eeg.json\n",
      "|------------ sub-pd22_ses-off_task-rest_events.tsv\n",
      "|------ ses-on\\\n",
      "|--------- sub-pd22_ses-on_scans.tsv\n",
      "|--------- beh\\\n",
      "|------------ sub-pd22_ses-on_task-rest_beh.json\n",
      "|------------ sub-pd22_ses-on_task-rest_beh.tsv\n",
      "|--------- eeg\\\n",
      "|------------ sub-pd22_ses-on_task-rest_channels.tsv\n",
      "|------------ sub-pd22_ses-on_task-rest_eeg.bdf\n",
      "|------------ sub-pd22_ses-on_task-rest_eeg.json\n",
      "|------------ sub-pd22_ses-on_task-rest_events.tsv\n",
      "|--- sub-pd23\\\n",
      "|------ ses-off\\\n",
      "|--------- sub-pd23_ses-off_scans.tsv\n",
      "|--------- beh\\\n",
      "|------------ sub-pd23_ses-off_task-rest_beh.json\n",
      "|------------ sub-pd23_ses-off_task-rest_beh.tsv\n",
      "|--------- eeg\\\n",
      "|------------ sub-pd23_ses-off_task-rest_channels.tsv\n",
      "|------------ sub-pd23_ses-off_task-rest_eeg.bdf\n",
      "|------------ sub-pd23_ses-off_task-rest_eeg.json\n",
      "|------------ sub-pd23_ses-off_task-rest_events.tsv\n",
      "|------ ses-on\\\n",
      "|--------- sub-pd23_ses-on_scans.tsv\n",
      "|--------- beh\\\n",
      "|------------ sub-pd23_ses-on_task-rest_beh.json\n",
      "|------------ sub-pd23_ses-on_task-rest_beh.tsv\n",
      "|--------- eeg\\\n",
      "|------------ sub-pd23_ses-on_task-rest_channels.tsv\n",
      "|------------ sub-pd23_ses-on_task-rest_eeg.bdf\n",
      "|------------ sub-pd23_ses-on_task-rest_eeg.json\n",
      "|------------ sub-pd23_ses-on_task-rest_events.tsv\n",
      "|--- sub-pd26\\\n",
      "|------ ses-off\\\n",
      "|--------- sub-pd26_ses-off_scans.tsv\n",
      "|--------- beh\\\n",
      "|------------ sub-pd26_ses-off_task-rest_beh.json\n",
      "|------------ sub-pd26_ses-off_task-rest_beh.tsv\n",
      "|--------- eeg\\\n",
      "|------------ sub-pd26_ses-off_task-rest_channels.tsv\n",
      "|------------ sub-pd26_ses-off_task-rest_eeg.bdf\n",
      "|------------ sub-pd26_ses-off_task-rest_eeg.json\n",
      "|------------ sub-pd26_ses-off_task-rest_events.tsv\n",
      "|------ ses-on\\\n",
      "|--------- sub-pd26_ses-on_scans.tsv\n",
      "|--------- beh\\\n",
      "|------------ sub-pd26_ses-on_task-rest_beh.json\n",
      "|------------ sub-pd26_ses-on_task-rest_beh.tsv\n",
      "|--------- eeg\\\n",
      "|------------ sub-pd26_ses-on_task-rest_channels.tsv\n",
      "|------------ sub-pd26_ses-on_task-rest_eeg.bdf\n",
      "|------------ sub-pd26_ses-on_task-rest_eeg.json\n",
      "|------------ sub-pd26_ses-on_task-rest_events.tsv\n",
      "|--- sub-pd28\\\n",
      "|------ ses-off\\\n",
      "|--------- sub-pd28_ses-off_scans.tsv\n",
      "|--------- beh\\\n",
      "|------------ sub-pd28_ses-off_task-rest_beh.json\n",
      "|------------ sub-pd28_ses-off_task-rest_beh.tsv\n",
      "|--------- eeg\\\n",
      "|------------ sub-pd28_ses-off_task-rest_channels.tsv\n",
      "|------------ sub-pd28_ses-off_task-rest_eeg.bdf\n",
      "|------------ sub-pd28_ses-off_task-rest_eeg.json\n",
      "|------------ sub-pd28_ses-off_task-rest_events.tsv\n",
      "|------ ses-on\\\n",
      "|--------- sub-pd28_ses-on_scans.tsv\n",
      "|--------- beh\\\n",
      "|------------ sub-pd28_ses-on_task-rest_beh.json\n",
      "|------------ sub-pd28_ses-on_task-rest_beh.tsv\n",
      "|--------- eeg\\\n",
      "|------------ sub-pd28_ses-on_task-rest_channels.tsv\n",
      "|------------ sub-pd28_ses-on_task-rest_eeg.bdf\n",
      "|------------ sub-pd28_ses-on_task-rest_eeg.json\n",
      "|------------ sub-pd28_ses-on_task-rest_events.tsv\n",
      "|--- sub-pd3\\\n",
      "|------ ses-off\\\n",
      "|--------- sub-pd3_ses-off_scans.tsv\n",
      "|--------- beh\\\n",
      "|------------ sub-pd3_ses-off_task-rest_beh.json\n",
      "|------------ sub-pd3_ses-off_task-rest_beh.tsv\n",
      "|--------- eeg\\\n",
      "|------------ sub-pd3_ses-off_task-rest_channels.tsv\n",
      "|------------ sub-pd3_ses-off_task-rest_eeg.bdf\n",
      "|------------ sub-pd3_ses-off_task-rest_eeg.json\n",
      "|------------ sub-pd3_ses-off_task-rest_events.tsv\n",
      "|------ ses-on\\\n",
      "|--------- sub-pd3_ses-on_scans.tsv\n",
      "|--------- beh\\\n",
      "|------------ sub-pd3_ses-on_task-rest_beh.json\n",
      "|------------ sub-pd3_ses-on_task-rest_beh.tsv\n",
      "|--------- eeg\\\n",
      "|------------ sub-pd3_ses-on_task-rest_channels.tsv\n",
      "|------------ sub-pd3_ses-on_task-rest_eeg.bdf\n",
      "|------------ sub-pd3_ses-on_task-rest_eeg.json\n",
      "|------------ sub-pd3_ses-on_task-rest_events.tsv\n",
      "|--- sub-pd5\\\n",
      "|------ ses-off\\\n",
      "|--------- sub-pd5_ses-off_scans.tsv\n",
      "|--------- beh\\\n",
      "|------------ sub-pd5_ses-off_task-rest_beh.json\n",
      "|------------ sub-pd5_ses-off_task-rest_beh.tsv\n",
      "|--------- eeg\\\n",
      "|------------ sub-pd5_ses-off_task-rest_channels.tsv\n",
      "|------------ sub-pd5_ses-off_task-rest_eeg.bdf\n",
      "|------------ sub-pd5_ses-off_task-rest_eeg.json\n",
      "|------------ sub-pd5_ses-off_task-rest_events.tsv\n",
      "|------ ses-on\\\n",
      "|--------- sub-pd5_ses-on_scans.tsv\n",
      "|--------- beh\\\n",
      "|------------ sub-pd5_ses-on_task-rest_beh.json\n",
      "|------------ sub-pd5_ses-on_task-rest_beh.tsv\n",
      "|--------- eeg\\\n",
      "|------------ sub-pd5_ses-on_task-rest_channels.tsv\n",
      "|------------ sub-pd5_ses-on_task-rest_eeg.bdf\n",
      "|------------ sub-pd5_ses-on_task-rest_eeg.json\n",
      "|------------ sub-pd5_ses-on_task-rest_events.tsv\n",
      "|--- sub-pd6\\\n",
      "|------ ses-off\\\n",
      "|--------- sub-pd6_ses-off_scans.tsv\n",
      "|--------- beh\\\n",
      "|------------ sub-pd6_ses-off_task-rest_beh.json\n",
      "|------------ sub-pd6_ses-off_task-rest_beh.tsv\n",
      "|--------- eeg\\\n",
      "|------------ sub-pd6_ses-off_task-rest_channels.tsv\n",
      "|------------ sub-pd6_ses-off_task-rest_eeg.bdf\n",
      "|------------ sub-pd6_ses-off_task-rest_eeg.json\n",
      "|------------ sub-pd6_ses-off_task-rest_events.tsv\n",
      "|------ ses-on\\\n",
      "|--------- sub-pd6_ses-on_scans.tsv\n",
      "|--------- beh\\\n",
      "|------------ sub-pd6_ses-on_task-rest_beh.json\n",
      "|------------ sub-pd6_ses-on_task-rest_beh.tsv\n",
      "|--------- eeg\\\n",
      "|------------ sub-pd6_ses-on_task-rest_channels.tsv\n",
      "|------------ sub-pd6_ses-on_task-rest_eeg.bdf\n",
      "|------------ sub-pd6_ses-on_task-rest_eeg.json\n",
      "|------------ sub-pd6_ses-on_task-rest_events.tsv\n",
      "|--- sub-pd9\\\n",
      "|------ ses-off\\\n",
      "|--------- sub-pd9_ses-off_scans.tsv\n",
      "|--------- beh\\\n",
      "|------------ sub-pd9_ses-off_task-rest_beh.json\n",
      "|------------ sub-pd9_ses-off_task-rest_beh.tsv\n",
      "|--------- eeg\\\n",
      "|------------ sub-pd9_ses-off_task-rest_channels.tsv\n",
      "|------------ sub-pd9_ses-off_task-rest_eeg.bdf\n",
      "|------------ sub-pd9_ses-off_task-rest_eeg.json\n",
      "|------------ sub-pd9_ses-off_task-rest_events.tsv\n",
      "|------ ses-on\\\n",
      "|--------- sub-pd9_ses-on_scans.tsv\n",
      "|--------- beh\\\n",
      "|------------ sub-pd9_ses-on_task-rest_beh.json\n",
      "|------------ sub-pd9_ses-on_task-rest_beh.tsv\n",
      "|--------- eeg\\\n",
      "|------------ sub-pd9_ses-on_task-rest_channels.tsv\n",
      "|------------ sub-pd9_ses-on_task-rest_eeg.bdf\n",
      "|------------ sub-pd9_ses-on_task-rest_eeg.json\n",
      "|------------ sub-pd9_ses-on_task-rest_events.tsv\n"
     ]
    }
   ],
   "source": [
    "print_dir_tree(bids_root, max_depth=4)"
   ]
  },
  {
   "cell_type": "code",
   "execution_count": 34,
   "id": "southeast-fighter",
   "metadata": {},
   "outputs": [],
   "source": [
    "sessions = get_entity_vals(bids_root, \"session\", ignore_sessions=\"on\")\n",
    "datatype = \"eeg\"\n",
    "extensions = [\".bdf\", \".tsv\"]\n",
    "bids_paths = find_matching_paths(\n",
    "    bids_root, datatypes=datatype, sessions=sessions, extensions=extensions\n",
    ")"
   ]
  },
  {
   "cell_type": "code",
   "execution_count": 35,
   "id": "common-organization",
   "metadata": {},
   "outputs": [
    {
     "name": "stdout",
     "output_type": "stream",
     "text": [
      "[BIDSPath(\n",
      "root: C:/Users/SPierre-Eloy/mne_data/ds002778\n",
      "datatype: eeg\n",
      "basename: sub-hc10_ses-hc_task-rest_channels.tsv), BIDSPath(\n",
      "root: C:/Users/SPierre-Eloy/mne_data/ds002778\n",
      "datatype: eeg\n",
      "basename: sub-hc10_ses-hc_task-rest_eeg.bdf), BIDSPath(\n",
      "root: C:/Users/SPierre-Eloy/mne_data/ds002778\n",
      "datatype: eeg\n",
      "basename: sub-hc10_ses-hc_task-rest_events.tsv), BIDSPath(\n",
      "root: C:/Users/SPierre-Eloy/mne_data/ds002778\n",
      "datatype: eeg\n",
      "basename: sub-hc18_ses-hc_task-rest_channels.tsv), BIDSPath(\n",
      "root: C:/Users/SPierre-Eloy/mne_data/ds002778\n",
      "datatype: eeg\n",
      "basename: sub-hc18_ses-hc_task-rest_eeg.bdf), BIDSPath(\n",
      "root: C:/Users/SPierre-Eloy/mne_data/ds002778\n",
      "datatype: eeg\n",
      "basename: sub-hc18_ses-hc_task-rest_events.tsv), BIDSPath(\n",
      "root: C:/Users/SPierre-Eloy/mne_data/ds002778\n",
      "datatype: eeg\n",
      "basename: sub-hc1_ses-hc_task-rest_channels.tsv), BIDSPath(\n",
      "root: C:/Users/SPierre-Eloy/mne_data/ds002778\n",
      "datatype: eeg\n",
      "basename: sub-hc1_ses-hc_task-rest_eeg.bdf), BIDSPath(\n",
      "root: C:/Users/SPierre-Eloy/mne_data/ds002778\n",
      "datatype: eeg\n",
      "basename: sub-hc1_ses-hc_task-rest_events.tsv), BIDSPath(\n",
      "root: C:/Users/SPierre-Eloy/mne_data/ds002778\n",
      "datatype: eeg\n",
      "basename: sub-hc20_ses-hc_task-rest_channels.tsv), BIDSPath(\n",
      "root: C:/Users/SPierre-Eloy/mne_data/ds002778\n",
      "datatype: eeg\n",
      "basename: sub-hc20_ses-hc_task-rest_eeg.bdf), BIDSPath(\n",
      "root: C:/Users/SPierre-Eloy/mne_data/ds002778\n",
      "datatype: eeg\n",
      "basename: sub-hc20_ses-hc_task-rest_events.tsv), BIDSPath(\n",
      "root: C:/Users/SPierre-Eloy/mne_data/ds002778\n",
      "datatype: eeg\n",
      "basename: sub-hc21_ses-hc_task-rest_channels.tsv), BIDSPath(\n",
      "root: C:/Users/SPierre-Eloy/mne_data/ds002778\n",
      "datatype: eeg\n",
      "basename: sub-hc21_ses-hc_task-rest_eeg.bdf), BIDSPath(\n",
      "root: C:/Users/SPierre-Eloy/mne_data/ds002778\n",
      "datatype: eeg\n",
      "basename: sub-hc21_ses-hc_task-rest_events.tsv), BIDSPath(\n",
      "root: C:/Users/SPierre-Eloy/mne_data/ds002778\n",
      "datatype: eeg\n",
      "basename: sub-hc24_ses-hc_task-rest_channels.tsv), BIDSPath(\n",
      "root: C:/Users/SPierre-Eloy/mne_data/ds002778\n",
      "datatype: eeg\n",
      "basename: sub-hc24_ses-hc_task-rest_eeg.bdf), BIDSPath(\n",
      "root: C:/Users/SPierre-Eloy/mne_data/ds002778\n",
      "datatype: eeg\n",
      "basename: sub-hc24_ses-hc_task-rest_events.tsv), BIDSPath(\n",
      "root: C:/Users/SPierre-Eloy/mne_data/ds002778\n",
      "datatype: eeg\n",
      "basename: sub-hc25_ses-hc_task-rest_channels.tsv), BIDSPath(\n",
      "root: C:/Users/SPierre-Eloy/mne_data/ds002778\n",
      "datatype: eeg\n",
      "basename: sub-hc25_ses-hc_task-rest_eeg.bdf), BIDSPath(\n",
      "root: C:/Users/SPierre-Eloy/mne_data/ds002778\n",
      "datatype: eeg\n",
      "basename: sub-hc25_ses-hc_task-rest_events.tsv), BIDSPath(\n",
      "root: C:/Users/SPierre-Eloy/mne_data/ds002778\n",
      "datatype: eeg\n",
      "basename: sub-hc29_ses-hc_task-rest_channels.tsv), BIDSPath(\n",
      "root: C:/Users/SPierre-Eloy/mne_data/ds002778\n",
      "datatype: eeg\n",
      "basename: sub-hc29_ses-hc_task-rest_eeg.bdf), BIDSPath(\n",
      "root: C:/Users/SPierre-Eloy/mne_data/ds002778\n",
      "datatype: eeg\n",
      "basename: sub-hc29_ses-hc_task-rest_events.tsv), BIDSPath(\n",
      "root: C:/Users/SPierre-Eloy/mne_data/ds002778\n",
      "datatype: eeg\n",
      "basename: sub-hc2_ses-hc_task-rest_channels.tsv), BIDSPath(\n",
      "root: C:/Users/SPierre-Eloy/mne_data/ds002778\n",
      "datatype: eeg\n",
      "basename: sub-hc2_ses-hc_task-rest_eeg.bdf), BIDSPath(\n",
      "root: C:/Users/SPierre-Eloy/mne_data/ds002778\n",
      "datatype: eeg\n",
      "basename: sub-hc2_ses-hc_task-rest_events.tsv), BIDSPath(\n",
      "root: C:/Users/SPierre-Eloy/mne_data/ds002778\n",
      "datatype: eeg\n",
      "basename: sub-hc30_ses-hc_task-rest_channels.tsv), BIDSPath(\n",
      "root: C:/Users/SPierre-Eloy/mne_data/ds002778\n",
      "datatype: eeg\n",
      "basename: sub-hc30_ses-hc_task-rest_eeg.bdf), BIDSPath(\n",
      "root: C:/Users/SPierre-Eloy/mne_data/ds002778\n",
      "datatype: eeg\n",
      "basename: sub-hc30_ses-hc_task-rest_events.tsv), BIDSPath(\n",
      "root: C:/Users/SPierre-Eloy/mne_data/ds002778\n",
      "datatype: eeg\n",
      "basename: sub-hc31_ses-hc_task-rest_channels.tsv), BIDSPath(\n",
      "root: C:/Users/SPierre-Eloy/mne_data/ds002778\n",
      "datatype: eeg\n",
      "basename: sub-hc31_ses-hc_task-rest_eeg.bdf), BIDSPath(\n",
      "root: C:/Users/SPierre-Eloy/mne_data/ds002778\n",
      "datatype: eeg\n",
      "basename: sub-hc31_ses-hc_task-rest_events.tsv), BIDSPath(\n",
      "root: C:/Users/SPierre-Eloy/mne_data/ds002778\n",
      "datatype: eeg\n",
      "basename: sub-hc32_ses-hc_task-rest_channels.tsv), BIDSPath(\n",
      "root: C:/Users/SPierre-Eloy/mne_data/ds002778\n",
      "datatype: eeg\n",
      "basename: sub-hc32_ses-hc_task-rest_eeg.bdf), BIDSPath(\n",
      "root: C:/Users/SPierre-Eloy/mne_data/ds002778\n",
      "datatype: eeg\n",
      "basename: sub-hc32_ses-hc_task-rest_events.tsv), BIDSPath(\n",
      "root: C:/Users/SPierre-Eloy/mne_data/ds002778\n",
      "datatype: eeg\n",
      "basename: sub-hc33_ses-hc_task-rest_channels.tsv), BIDSPath(\n",
      "root: C:/Users/SPierre-Eloy/mne_data/ds002778\n",
      "datatype: eeg\n",
      "basename: sub-hc33_ses-hc_task-rest_eeg.bdf), BIDSPath(\n",
      "root: C:/Users/SPierre-Eloy/mne_data/ds002778\n",
      "datatype: eeg\n",
      "basename: sub-hc33_ses-hc_task-rest_events.tsv), BIDSPath(\n",
      "root: C:/Users/SPierre-Eloy/mne_data/ds002778\n",
      "datatype: eeg\n",
      "basename: sub-hc4_ses-hc_task-rest_channels.tsv), BIDSPath(\n",
      "root: C:/Users/SPierre-Eloy/mne_data/ds002778\n",
      "datatype: eeg\n",
      "basename: sub-hc4_ses-hc_task-rest_eeg.bdf), BIDSPath(\n",
      "root: C:/Users/SPierre-Eloy/mne_data/ds002778\n",
      "datatype: eeg\n",
      "basename: sub-hc4_ses-hc_task-rest_events.tsv), BIDSPath(\n",
      "root: C:/Users/SPierre-Eloy/mne_data/ds002778\n",
      "datatype: eeg\n",
      "basename: sub-hc7_ses-hc_task-rest_channels.tsv), BIDSPath(\n",
      "root: C:/Users/SPierre-Eloy/mne_data/ds002778\n",
      "datatype: eeg\n",
      "basename: sub-hc7_ses-hc_task-rest_eeg.bdf), BIDSPath(\n",
      "root: C:/Users/SPierre-Eloy/mne_data/ds002778\n",
      "datatype: eeg\n",
      "basename: sub-hc7_ses-hc_task-rest_events.tsv), BIDSPath(\n",
      "root: C:/Users/SPierre-Eloy/mne_data/ds002778\n",
      "datatype: eeg\n",
      "basename: sub-hc8_ses-hc_task-rest_channels.tsv), BIDSPath(\n",
      "root: C:/Users/SPierre-Eloy/mne_data/ds002778\n",
      "datatype: eeg\n",
      "basename: sub-hc8_ses-hc_task-rest_eeg.bdf), BIDSPath(\n",
      "root: C:/Users/SPierre-Eloy/mne_data/ds002778\n",
      "datatype: eeg\n",
      "basename: sub-hc8_ses-hc_task-rest_events.tsv), BIDSPath(\n",
      "root: C:/Users/SPierre-Eloy/mne_data/ds002778\n",
      "datatype: eeg\n",
      "basename: sub-pd11_ses-off_task-rest_channels.tsv), BIDSPath(\n",
      "root: C:/Users/SPierre-Eloy/mne_data/ds002778\n",
      "datatype: eeg\n",
      "basename: sub-pd11_ses-off_task-rest_eeg.bdf), BIDSPath(\n",
      "root: C:/Users/SPierre-Eloy/mne_data/ds002778\n",
      "datatype: eeg\n",
      "basename: sub-pd11_ses-off_task-rest_events.tsv), BIDSPath(\n",
      "root: C:/Users/SPierre-Eloy/mne_data/ds002778\n",
      "datatype: eeg\n",
      "basename: sub-pd12_ses-off_task-rest_channels.tsv), BIDSPath(\n",
      "root: C:/Users/SPierre-Eloy/mne_data/ds002778\n",
      "datatype: eeg\n",
      "basename: sub-pd12_ses-off_task-rest_eeg.bdf), BIDSPath(\n",
      "root: C:/Users/SPierre-Eloy/mne_data/ds002778\n",
      "datatype: eeg\n",
      "basename: sub-pd12_ses-off_task-rest_events.tsv), BIDSPath(\n",
      "root: C:/Users/SPierre-Eloy/mne_data/ds002778\n",
      "datatype: eeg\n",
      "basename: sub-pd13_ses-off_task-rest_channels.tsv), BIDSPath(\n",
      "root: C:/Users/SPierre-Eloy/mne_data/ds002778\n",
      "datatype: eeg\n",
      "basename: sub-pd13_ses-off_task-rest_eeg.bdf), BIDSPath(\n",
      "root: C:/Users/SPierre-Eloy/mne_data/ds002778\n",
      "datatype: eeg\n",
      "basename: sub-pd13_ses-off_task-rest_events.tsv), BIDSPath(\n",
      "root: C:/Users/SPierre-Eloy/mne_data/ds002778\n",
      "datatype: eeg\n",
      "basename: sub-pd14_ses-off_task-rest_channels.tsv), BIDSPath(\n",
      "root: C:/Users/SPierre-Eloy/mne_data/ds002778\n",
      "datatype: eeg\n",
      "basename: sub-pd14_ses-off_task-rest_eeg.bdf), BIDSPath(\n",
      "root: C:/Users/SPierre-Eloy/mne_data/ds002778\n",
      "datatype: eeg\n",
      "basename: sub-pd14_ses-off_task-rest_events.tsv), BIDSPath(\n",
      "root: C:/Users/SPierre-Eloy/mne_data/ds002778\n",
      "datatype: eeg\n",
      "basename: sub-pd16_ses-off_task-rest_channels.tsv), BIDSPath(\n",
      "root: C:/Users/SPierre-Eloy/mne_data/ds002778\n",
      "datatype: eeg\n",
      "basename: sub-pd16_ses-off_task-rest_eeg.bdf), BIDSPath(\n",
      "root: C:/Users/SPierre-Eloy/mne_data/ds002778\n",
      "datatype: eeg\n",
      "basename: sub-pd16_ses-off_task-rest_events.tsv), BIDSPath(\n",
      "root: C:/Users/SPierre-Eloy/mne_data/ds002778\n",
      "datatype: eeg\n",
      "basename: sub-pd17_ses-off_task-rest_channels.tsv), BIDSPath(\n",
      "root: C:/Users/SPierre-Eloy/mne_data/ds002778\n",
      "datatype: eeg\n",
      "basename: sub-pd17_ses-off_task-rest_eeg.bdf), BIDSPath(\n",
      "root: C:/Users/SPierre-Eloy/mne_data/ds002778\n",
      "datatype: eeg\n",
      "basename: sub-pd17_ses-off_task-rest_events.tsv), BIDSPath(\n",
      "root: C:/Users/SPierre-Eloy/mne_data/ds002778\n",
      "datatype: eeg\n",
      "basename: sub-pd19_ses-off_task-rest_channels.tsv), BIDSPath(\n",
      "root: C:/Users/SPierre-Eloy/mne_data/ds002778\n",
      "datatype: eeg\n",
      "basename: sub-pd19_ses-off_task-rest_eeg.bdf), BIDSPath(\n",
      "root: C:/Users/SPierre-Eloy/mne_data/ds002778\n",
      "datatype: eeg\n",
      "basename: sub-pd19_ses-off_task-rest_events.tsv), BIDSPath(\n",
      "root: C:/Users/SPierre-Eloy/mne_data/ds002778\n",
      "datatype: eeg\n",
      "basename: sub-pd22_ses-off_task-rest_channels.tsv), BIDSPath(\n",
      "root: C:/Users/SPierre-Eloy/mne_data/ds002778\n",
      "datatype: eeg\n",
      "basename: sub-pd22_ses-off_task-rest_eeg.bdf), BIDSPath(\n",
      "root: C:/Users/SPierre-Eloy/mne_data/ds002778\n",
      "datatype: eeg\n",
      "basename: sub-pd22_ses-off_task-rest_events.tsv), BIDSPath(\n",
      "root: C:/Users/SPierre-Eloy/mne_data/ds002778\n",
      "datatype: eeg\n",
      "basename: sub-pd23_ses-off_task-rest_channels.tsv), BIDSPath(\n",
      "root: C:/Users/SPierre-Eloy/mne_data/ds002778\n",
      "datatype: eeg\n",
      "basename: sub-pd23_ses-off_task-rest_eeg.bdf), BIDSPath(\n",
      "root: C:/Users/SPierre-Eloy/mne_data/ds002778\n",
      "datatype: eeg\n",
      "basename: sub-pd23_ses-off_task-rest_events.tsv), BIDSPath(\n",
      "root: C:/Users/SPierre-Eloy/mne_data/ds002778\n",
      "datatype: eeg\n",
      "basename: sub-pd26_ses-off_task-rest_channels.tsv), BIDSPath(\n",
      "root: C:/Users/SPierre-Eloy/mne_data/ds002778\n",
      "datatype: eeg\n",
      "basename: sub-pd26_ses-off_task-rest_eeg.bdf), BIDSPath(\n",
      "root: C:/Users/SPierre-Eloy/mne_data/ds002778\n",
      "datatype: eeg\n",
      "basename: sub-pd26_ses-off_task-rest_events.tsv), BIDSPath(\n",
      "root: C:/Users/SPierre-Eloy/mne_data/ds002778\n",
      "datatype: eeg\n",
      "basename: sub-pd28_ses-off_task-rest_channels.tsv), BIDSPath(\n",
      "root: C:/Users/SPierre-Eloy/mne_data/ds002778\n",
      "datatype: eeg\n",
      "basename: sub-pd28_ses-off_task-rest_eeg.bdf), BIDSPath(\n",
      "root: C:/Users/SPierre-Eloy/mne_data/ds002778\n",
      "datatype: eeg\n",
      "basename: sub-pd28_ses-off_task-rest_events.tsv), BIDSPath(\n",
      "root: C:/Users/SPierre-Eloy/mne_data/ds002778\n",
      "datatype: eeg\n",
      "basename: sub-pd3_ses-off_task-rest_channels.tsv), BIDSPath(\n",
      "root: C:/Users/SPierre-Eloy/mne_data/ds002778\n",
      "datatype: eeg\n",
      "basename: sub-pd3_ses-off_task-rest_eeg.bdf), BIDSPath(\n",
      "root: C:/Users/SPierre-Eloy/mne_data/ds002778\n",
      "datatype: eeg\n",
      "basename: sub-pd3_ses-off_task-rest_events.tsv), BIDSPath(\n",
      "root: C:/Users/SPierre-Eloy/mne_data/ds002778\n",
      "datatype: eeg\n",
      "basename: sub-pd5_ses-off_task-rest_channels.tsv), BIDSPath(\n",
      "root: C:/Users/SPierre-Eloy/mne_data/ds002778\n",
      "datatype: eeg\n",
      "basename: sub-pd5_ses-off_task-rest_eeg.bdf), BIDSPath(\n",
      "root: C:/Users/SPierre-Eloy/mne_data/ds002778\n",
      "datatype: eeg\n",
      "basename: sub-pd5_ses-off_task-rest_events.tsv), BIDSPath(\n",
      "root: C:/Users/SPierre-Eloy/mne_data/ds002778\n",
      "datatype: eeg\n",
      "basename: sub-pd6_ses-off_task-rest_channels.tsv), BIDSPath(\n",
      "root: C:/Users/SPierre-Eloy/mne_data/ds002778\n",
      "datatype: eeg\n",
      "basename: sub-pd6_ses-off_task-rest_eeg.bdf), BIDSPath(\n",
      "root: C:/Users/SPierre-Eloy/mne_data/ds002778\n",
      "datatype: eeg\n",
      "basename: sub-pd6_ses-off_task-rest_events.tsv), BIDSPath(\n",
      "root: C:/Users/SPierre-Eloy/mne_data/ds002778\n",
      "datatype: eeg\n",
      "basename: sub-pd9_ses-off_task-rest_channels.tsv), BIDSPath(\n",
      "root: C:/Users/SPierre-Eloy/mne_data/ds002778\n",
      "datatype: eeg\n",
      "basename: sub-pd9_ses-off_task-rest_eeg.bdf), BIDSPath(\n",
      "root: C:/Users/SPierre-Eloy/mne_data/ds002778\n",
      "datatype: eeg\n",
      "basename: sub-pd9_ses-off_task-rest_events.tsv)]\n"
     ]
    }
   ],
   "source": [
    "print(bids_paths)"
   ]
  },
  {
   "cell_type": "code",
   "execution_count": 39,
   "id": "indie-syndrome",
   "metadata": {},
   "outputs": [
    {
     "name": "stdout",
     "output_type": "stream",
     "text": [
      "[BIDSPath(\n",
      "root: C:/Users/SPierre-Eloy/mne_data/ds002778\n",
      "datatype: eeg\n",
      "basename: sub-pd11_ses-off_task-rest_channels.tsv), BIDSPath(\n",
      "root: C:/Users/SPierre-Eloy/mne_data/ds002778\n",
      "datatype: eeg\n",
      "basename: sub-pd11_ses-off_task-rest_eeg.bdf), BIDSPath(\n",
      "root: C:/Users/SPierre-Eloy/mne_data/ds002778\n",
      "datatype: eeg\n",
      "basename: sub-pd11_ses-off_task-rest_events.tsv), BIDSPath(\n",
      "root: C:/Users/SPierre-Eloy/mne_data/ds002778\n",
      "datatype: eeg\n",
      "basename: sub-pd12_ses-off_task-rest_channels.tsv), BIDSPath(\n",
      "root: C:/Users/SPierre-Eloy/mne_data/ds002778\n",
      "datatype: eeg\n",
      "basename: sub-pd12_ses-off_task-rest_eeg.bdf), BIDSPath(\n",
      "root: C:/Users/SPierre-Eloy/mne_data/ds002778\n",
      "datatype: eeg\n",
      "basename: sub-pd12_ses-off_task-rest_events.tsv), BIDSPath(\n",
      "root: C:/Users/SPierre-Eloy/mne_data/ds002778\n",
      "datatype: eeg\n",
      "basename: sub-pd13_ses-off_task-rest_channels.tsv), BIDSPath(\n",
      "root: C:/Users/SPierre-Eloy/mne_data/ds002778\n",
      "datatype: eeg\n",
      "basename: sub-pd13_ses-off_task-rest_eeg.bdf), BIDSPath(\n",
      "root: C:/Users/SPierre-Eloy/mne_data/ds002778\n",
      "datatype: eeg\n",
      "basename: sub-pd13_ses-off_task-rest_events.tsv), BIDSPath(\n",
      "root: C:/Users/SPierre-Eloy/mne_data/ds002778\n",
      "datatype: eeg\n",
      "basename: sub-pd14_ses-off_task-rest_channels.tsv), BIDSPath(\n",
      "root: C:/Users/SPierre-Eloy/mne_data/ds002778\n",
      "datatype: eeg\n",
      "basename: sub-pd14_ses-off_task-rest_eeg.bdf), BIDSPath(\n",
      "root: C:/Users/SPierre-Eloy/mne_data/ds002778\n",
      "datatype: eeg\n",
      "basename: sub-pd14_ses-off_task-rest_events.tsv), BIDSPath(\n",
      "root: C:/Users/SPierre-Eloy/mne_data/ds002778\n",
      "datatype: eeg\n",
      "basename: sub-pd16_ses-off_task-rest_channels.tsv), BIDSPath(\n",
      "root: C:/Users/SPierre-Eloy/mne_data/ds002778\n",
      "datatype: eeg\n",
      "basename: sub-pd16_ses-off_task-rest_eeg.bdf), BIDSPath(\n",
      "root: C:/Users/SPierre-Eloy/mne_data/ds002778\n",
      "datatype: eeg\n",
      "basename: sub-pd16_ses-off_task-rest_events.tsv), BIDSPath(\n",
      "root: C:/Users/SPierre-Eloy/mne_data/ds002778\n",
      "datatype: eeg\n",
      "basename: sub-pd17_ses-off_task-rest_channels.tsv), BIDSPath(\n",
      "root: C:/Users/SPierre-Eloy/mne_data/ds002778\n",
      "datatype: eeg\n",
      "basename: sub-pd17_ses-off_task-rest_eeg.bdf), BIDSPath(\n",
      "root: C:/Users/SPierre-Eloy/mne_data/ds002778\n",
      "datatype: eeg\n",
      "basename: sub-pd17_ses-off_task-rest_events.tsv), BIDSPath(\n",
      "root: C:/Users/SPierre-Eloy/mne_data/ds002778\n",
      "datatype: eeg\n",
      "basename: sub-pd19_ses-off_task-rest_channels.tsv), BIDSPath(\n",
      "root: C:/Users/SPierre-Eloy/mne_data/ds002778\n",
      "datatype: eeg\n",
      "basename: sub-pd19_ses-off_task-rest_eeg.bdf), BIDSPath(\n",
      "root: C:/Users/SPierre-Eloy/mne_data/ds002778\n",
      "datatype: eeg\n",
      "basename: sub-pd19_ses-off_task-rest_events.tsv), BIDSPath(\n",
      "root: C:/Users/SPierre-Eloy/mne_data/ds002778\n",
      "datatype: eeg\n",
      "basename: sub-pd22_ses-off_task-rest_channels.tsv), BIDSPath(\n",
      "root: C:/Users/SPierre-Eloy/mne_data/ds002778\n",
      "datatype: eeg\n",
      "basename: sub-pd22_ses-off_task-rest_eeg.bdf), BIDSPath(\n",
      "root: C:/Users/SPierre-Eloy/mne_data/ds002778\n",
      "datatype: eeg\n",
      "basename: sub-pd22_ses-off_task-rest_events.tsv), BIDSPath(\n",
      "root: C:/Users/SPierre-Eloy/mne_data/ds002778\n",
      "datatype: eeg\n",
      "basename: sub-pd23_ses-off_task-rest_channels.tsv), BIDSPath(\n",
      "root: C:/Users/SPierre-Eloy/mne_data/ds002778\n",
      "datatype: eeg\n",
      "basename: sub-pd23_ses-off_task-rest_eeg.bdf), BIDSPath(\n",
      "root: C:/Users/SPierre-Eloy/mne_data/ds002778\n",
      "datatype: eeg\n",
      "basename: sub-pd23_ses-off_task-rest_events.tsv), BIDSPath(\n",
      "root: C:/Users/SPierre-Eloy/mne_data/ds002778\n",
      "datatype: eeg\n",
      "basename: sub-pd26_ses-off_task-rest_channels.tsv), BIDSPath(\n",
      "root: C:/Users/SPierre-Eloy/mne_data/ds002778\n",
      "datatype: eeg\n",
      "basename: sub-pd26_ses-off_task-rest_eeg.bdf), BIDSPath(\n",
      "root: C:/Users/SPierre-Eloy/mne_data/ds002778\n",
      "datatype: eeg\n",
      "basename: sub-pd26_ses-off_task-rest_events.tsv), BIDSPath(\n",
      "root: C:/Users/SPierre-Eloy/mne_data/ds002778\n",
      "datatype: eeg\n",
      "basename: sub-pd28_ses-off_task-rest_channels.tsv), BIDSPath(\n",
      "root: C:/Users/SPierre-Eloy/mne_data/ds002778\n",
      "datatype: eeg\n",
      "basename: sub-pd28_ses-off_task-rest_eeg.bdf), BIDSPath(\n",
      "root: C:/Users/SPierre-Eloy/mne_data/ds002778\n",
      "datatype: eeg\n",
      "basename: sub-pd28_ses-off_task-rest_events.tsv), BIDSPath(\n",
      "root: C:/Users/SPierre-Eloy/mne_data/ds002778\n",
      "datatype: eeg\n",
      "basename: sub-pd3_ses-off_task-rest_channels.tsv), BIDSPath(\n",
      "root: C:/Users/SPierre-Eloy/mne_data/ds002778\n",
      "datatype: eeg\n",
      "basename: sub-pd3_ses-off_task-rest_eeg.bdf), BIDSPath(\n",
      "root: C:/Users/SPierre-Eloy/mne_data/ds002778\n",
      "datatype: eeg\n",
      "basename: sub-pd3_ses-off_task-rest_events.tsv), BIDSPath(\n",
      "root: C:/Users/SPierre-Eloy/mne_data/ds002778\n",
      "datatype: eeg\n",
      "basename: sub-pd5_ses-off_task-rest_channels.tsv), BIDSPath(\n",
      "root: C:/Users/SPierre-Eloy/mne_data/ds002778\n",
      "datatype: eeg\n",
      "basename: sub-pd5_ses-off_task-rest_eeg.bdf), BIDSPath(\n",
      "root: C:/Users/SPierre-Eloy/mne_data/ds002778\n",
      "datatype: eeg\n",
      "basename: sub-pd5_ses-off_task-rest_events.tsv), BIDSPath(\n",
      "root: C:/Users/SPierre-Eloy/mne_data/ds002778\n",
      "datatype: eeg\n",
      "basename: sub-pd6_ses-off_task-rest_channels.tsv), BIDSPath(\n",
      "root: C:/Users/SPierre-Eloy/mne_data/ds002778\n",
      "datatype: eeg\n",
      "basename: sub-pd6_ses-off_task-rest_eeg.bdf), BIDSPath(\n",
      "root: C:/Users/SPierre-Eloy/mne_data/ds002778\n",
      "datatype: eeg\n",
      "basename: sub-pd6_ses-off_task-rest_events.tsv), BIDSPath(\n",
      "root: C:/Users/SPierre-Eloy/mne_data/ds002778\n",
      "datatype: eeg\n",
      "basename: sub-pd9_ses-off_task-rest_channels.tsv), BIDSPath(\n",
      "root: C:/Users/SPierre-Eloy/mne_data/ds002778\n",
      "datatype: eeg\n",
      "basename: sub-pd9_ses-off_task-rest_eeg.bdf), BIDSPath(\n",
      "root: C:/Users/SPierre-Eloy/mne_data/ds002778\n",
      "datatype: eeg\n",
      "basename: sub-pd9_ses-off_task-rest_events.tsv)]\n"
     ]
    }
   ],
   "source": [
    "session = \"off\"\n",
    "bids_path = BIDSPath(root=bids_root, session=session, datatype=datatype)\n",
    "print(bids_path.match(ignore_json=True))"
   ]
  },
  {
   "cell_type": "code",
   "execution_count": 43,
   "id": "stone-glenn",
   "metadata": {},
   "outputs": [
    {
     "data": {
      "text/plain": [
       "45"
      ]
     },
     "execution_count": 43,
     "metadata": {},
     "output_type": "execute_result"
    }
   ],
   "source": [
    "len(bids_path.match(ignore_json=True))"
   ]
  },
  {
   "cell_type": "code",
   "execution_count": 56,
   "id": "adjusted-cookbook",
   "metadata": {},
   "outputs": [
    {
     "name": "stdout",
     "output_type": "stream",
     "text": [
      "{'his_id': 'sub-pd11', 'age': '71', 'gender': 'f', 'hand': 1, 'MMSE': '30', 'NAART': '52', 'disease_duration': '1', 'rl_deficits': 'R worse off'}\n",
      "{'his_id': 'sub-pd12', 'age': '74', 'gender': 'm', 'hand': 1, 'MMSE': '26', 'NAART': '53', 'disease_duration': '1'}\n",
      "{'his_id': 'sub-pd13', 'age': '62', 'gender': 'm', 'hand': 1, 'MMSE': '29', 'NAART': '47', 'disease_duration': '2', 'rl_deficits': 'R slightly worse'}\n",
      "{'his_id': 'sub-pd14', 'age': '63', 'gender': 'm', 'hand': 1, 'MMSE': '28', 'NAART': '35', 'disease_duration': '2', 'rl_deficits': 'R worse off'}\n",
      "{'his_id': 'sub-pd16', 'age': '74', 'gender': 'm', 'hand': 1, 'MMSE': '29', 'NAART': '56', 'disease_duration': '2', 'rl_deficits': 'Started on left, noticed left side worse', 'notes': 'Used preprocessed data from EEGLAB .mat file instead of raw data for pd on'}\n",
      "{'his_id': 'sub-pd17', 'age': '55', 'gender': 'm', 'hand': 1, 'MMSE': '30', 'NAART': '40', 'disease_duration': '2', 'rl_deficits': 'started on R; Right slightly worse'}\n",
      "{'his_id': 'sub-pd19', 'age': '69', 'gender': 'f', 'hand': 1, 'MMSE': '29', 'NAART': '43', 'disease_duration': '6', 'rl_deficits': 'started on Left side, left is worse'}\n",
      "{'his_id': 'sub-pd22', 'age': '47', 'gender': 'm', 'hand': 1, 'MMSE': '30', 'NAART': '51', 'disease_duration': '6', 'rl_deficits': 'started on Left side, left is worse'}\n",
      "{'his_id': 'sub-pd23', 'age': '66', 'gender': 'f', 'hand': 1, 'MMSE': '29', 'NAART': '34', 'disease_duration': '3', 'rl_deficits': 'started on L, left is worse'}\n",
      "{'his_id': 'sub-pd26', 'age': '71', 'gender': 'f', 'hand': 1, 'MMSE': '29', 'NAART': '51', 'disease_duration': '3', 'rl_deficits': 'started L leg tremor, then moved to right arm tremor, but left leg stopped'}\n",
      "{'his_id': 'sub-pd28', 'age': '61', 'gender': 'm', 'hand': 1, 'MMSE': '29', 'NAART': '46', 'disease_duration': '9', 'rl_deficits': 'started on right, but left is worse'}\n",
      "{'his_id': 'sub-pd3', 'age': '52', 'gender': 'f', 'hand': 1, 'MMSE': '29', 'NAART': '44', 'disease_duration': '9', 'rl_deficits': 'R'}\n",
      "{'his_id': 'sub-pd5', 'age': '67', 'gender': 'f', 'hand': 1, 'MMSE': '29', 'NAART': '48', 'disease_duration': '2', 'rl_deficits': 'No clear side, perhaps more L'}\n",
      "{'his_id': 'sub-pd6', 'age': '62', 'gender': 'f', 'hand': 1, 'MMSE': '30', 'NAART': '42', 'disease_duration': '8', 'rl_deficits': 'L OFF meds, more R ON meds', 'notes': 'Used preprocessed data from EEGLAB .mat file instead of raw data for pd on'}\n",
      "{'his_id': 'sub-pd9', 'age': '55', 'gender': 'f', 'hand': 1, 'MMSE': '28', 'NAART': '50', 'disease_duration': '12', 'rl_deficits': 'R'}\n",
      "[<RawEDF | sub-pd11_ses-off_task-rest_eeg.bdf, 41 x 95232 (186.0 s), ~45 kB, data not loaded>, <RawEDF | sub-pd12_ses-off_task-rest_eeg.bdf, 41 x 105984 (207.0 s), ~45 kB, data not loaded>, <RawEDF | sub-pd13_ses-off_task-rest_eeg.bdf, 41 x 95232 (186.0 s), ~45 kB, data not loaded>, <RawEDF | sub-pd14_ses-off_task-rest_eeg.bdf, 41 x 149504 (292.0 s), ~45 kB, data not loaded>, <RawEDF | sub-pd16_ses-off_task-rest_eeg.bdf, 41 x 96256 (188.0 s), ~45 kB, data not loaded>, <RawEDF | sub-pd19_ses-off_task-rest_eeg.bdf, 41 x 94720 (185.0 s), ~45 kB, data not loaded>, <RawEDF | sub-pd23_ses-off_task-rest_eeg.bdf, 41 x 104448 (204.0 s), ~45 kB, data not loaded>, <RawEDF | sub-pd26_ses-off_task-rest_eeg.bdf, 41 x 97792 (191.0 s), ~45 kB, data not loaded>, <RawEDF | sub-pd28_ses-off_task-rest_eeg.bdf, 41 x 105472 (206.0 s), ~45 kB, data not loaded>, <RawEDF | sub-pd5_ses-off_task-rest_eeg.bdf, 41 x 100864 (197.0 s), ~45 kB, data not loaded>, <RawEDF | sub-pd6_ses-off_task-rest_eeg.bdf, 41 x 97792 (191.0 s), ~45 kB, data not loaded>]\n"
     ]
    },
    {
     "name": "stderr",
     "output_type": "stream",
     "text": [
      "<ipython-input-56-ba941c8c24af>:9: RuntimeWarning: The unit for channel(s) Status has changed from NA to V.\n",
      "  data += [read_raw_bids(bids_path=bids_path, verbose=False)]\n",
      "<ipython-input-56-ba941c8c24af>:9: RuntimeWarning: The unit for channel(s) Status has changed from NA to V.\n",
      "  data += [read_raw_bids(bids_path=bids_path, verbose=False)]\n",
      "<ipython-input-56-ba941c8c24af>:9: RuntimeWarning: The unit for channel(s) Status has changed from NA to V.\n",
      "  data += [read_raw_bids(bids_path=bids_path, verbose=False)]\n",
      "<ipython-input-56-ba941c8c24af>:9: RuntimeWarning: The unit for channel(s) Status has changed from NA to V.\n",
      "  data += [read_raw_bids(bids_path=bids_path, verbose=False)]\n",
      "<ipython-input-56-ba941c8c24af>:9: RuntimeWarning: The unit for channel(s) Status has changed from NA to V.\n",
      "  data += [read_raw_bids(bids_path=bids_path, verbose=False)]\n",
      "<ipython-input-56-ba941c8c24af>:9: RuntimeWarning: The unit for channel(s) Status has changed from NA to V.\n",
      "  data += [read_raw_bids(bids_path=bids_path, verbose=False)]\n",
      "<ipython-input-56-ba941c8c24af>:9: RuntimeWarning: The unit for channel(s) Status has changed from NA to V.\n",
      "  data += [read_raw_bids(bids_path=bids_path, verbose=False)]\n",
      "<ipython-input-56-ba941c8c24af>:9: RuntimeWarning: The unit for channel(s) Status has changed from NA to V.\n",
      "  data += [read_raw_bids(bids_path=bids_path, verbose=False)]\n",
      "<ipython-input-56-ba941c8c24af>:9: RuntimeWarning: The unit for channel(s) Status has changed from NA to V.\n",
      "  data += [read_raw_bids(bids_path=bids_path, verbose=False)]\n",
      "<ipython-input-56-ba941c8c24af>:9: RuntimeWarning: The unit for channel(s) Status has changed from NA to V.\n",
      "  data += [read_raw_bids(bids_path=bids_path, verbose=False)]\n",
      "<ipython-input-56-ba941c8c24af>:9: RuntimeWarning: The unit for channel(s) Status has changed from NA to V.\n",
      "  data += [read_raw_bids(bids_path=bids_path, verbose=False)]\n",
      "<ipython-input-56-ba941c8c24af>:9: RuntimeWarning: The unit for channel(s) Status has changed from NA to V.\n",
      "  data += [read_raw_bids(bids_path=bids_path, verbose=False)]\n",
      "<ipython-input-56-ba941c8c24af>:9: RuntimeWarning: The unit for channel(s) Status has changed from NA to V.\n",
      "  data += [read_raw_bids(bids_path=bids_path, verbose=False)]\n",
      "<ipython-input-56-ba941c8c24af>:9: RuntimeWarning: The unit for channel(s) Status has changed from NA to V.\n",
      "  data += [read_raw_bids(bids_path=bids_path, verbose=False)]\n",
      "<ipython-input-56-ba941c8c24af>:9: RuntimeWarning: The unit for channel(s) Status has changed from NA to V.\n",
      "  data += [read_raw_bids(bids_path=bids_path, verbose=False)]\n"
     ]
    }
   ],
   "source": [
    "task = \"rest\"\n",
    "suffix = \"eeg\"\n",
    "\n",
    "sub = [\"pd11\", \"pd12\", \"pd13\", \"pd14\", \"pd16\", \"pd17\", \"pd19\", \"pd22\", \"pd23\", \"pd26\", \"pd28\", \"pd3\", \"pd5\", \"pd6\", \"pd9\"]\n",
    "data = []\n",
    "\n",
    "for s in sub:\n",
    "    bids_path = bids_path.update(subject=s, task=task, suffix=suffix)\n",
    "    data += [read_raw_bids(bids_path=bids_path, verbose=False)]\n",
    "    \n",
    "senior = []\n",
    "notsenior = []\n",
    "\n",
    "for d in data :\n",
    "    print(d.info[\"subject_info\"])\n",
    "    if int(d.info[\"subject_info\"][\"age\"]) < 60:\n",
    "        notsenior += [d]\n",
    "    else:\n",
    "        senior += [d]\n",
    "        \n",
    "print(senior)\n",
    "        "
   ]
  },
  {
   "cell_type": "code",
   "execution_count": null,
   "id": "third-calvin",
   "metadata": {},
   "outputs": [],
   "source": []
  },
  {
   "cell_type": "code",
   "execution_count": null,
   "id": "russian-parade",
   "metadata": {},
   "outputs": [],
   "source": []
  }
 ],
 "metadata": {
  "kernelspec": {
   "display_name": "Python 3",
   "language": "python",
   "name": "python3"
  },
  "language_info": {
   "codemirror_mode": {
    "name": "ipython",
    "version": 3
   },
   "file_extension": ".py",
   "mimetype": "text/x-python",
   "name": "python",
   "nbconvert_exporter": "python",
   "pygments_lexer": "ipython3",
   "version": "3.8.8"
  }
 },
 "nbformat": 4,
 "nbformat_minor": 5
}
