{
 "cells": [
  {
   "cell_type": "code",
   "execution_count": 1,
   "metadata": {},
   "outputs": [],
   "source": [
    "import pandas as pd\n",
    "import numpy as np\n",
    "import mne\n",
    "from sklearn.model_selection import cross_val_score\n",
    "from glob import glob"
   ]
  },
  {
   "cell_type": "code",
   "execution_count": 2,
   "metadata": {},
   "outputs": [],
   "source": [
    "pathdata = \"C:/Users/pesylvestre/Documents/Informatique/BRAIL/FY2023 In-House PoC3/In-HousePOC3/in_housepoc3/data\""
   ]
  },
  {
   "cell_type": "code",
   "execution_count": 3,
   "metadata": {},
   "outputs": [],
   "source": [
    "gb = glob(pathdata+\"/Lemon_PreDict/sub-0323*/sub-0323*.fif\")"
   ]
  },
  {
   "cell_type": "code",
   "execution_count": 4,
   "metadata": {},
   "outputs": [
    {
     "name": "stdout",
     "output_type": "stream",
     "text": [
      "1535\n"
     ]
    }
   ],
   "source": [
    "print(len(gb))"
   ]
  },
  {
   "cell_type": "code",
   "execution_count": 5,
   "metadata": {},
   "outputs": [],
   "source": [
    "lab = pd.read_csv(pathdata+\"/label.csv\", header=None)"
   ]
  },
  {
   "cell_type": "code",
   "execution_count": 6,
   "metadata": {},
   "outputs": [
    {
     "name": "stdout",
     "output_type": "stream",
     "text": [
      "              0  1      2\n",
      "0    sub-032301  1  65-70\n",
      "1    sub-032302  1  20-25\n",
      "2    sub-032303  1  65-70\n",
      "3    sub-032304  2  25-30\n",
      "4    sub-032305  1  65-70\n",
      "..          ... ..    ...\n",
      "223  sub-032524  2  20-25\n",
      "224  sub-032525  2  20-25\n",
      "225  sub-032526  2  20-25\n",
      "226  sub-032527  2  20-25\n",
      "227  sub-032528  1  20-25\n",
      "\n",
      "[228 rows x 3 columns]\n"
     ]
    }
   ],
   "source": [
    "print(lab)"
   ]
  },
  {
   "cell_type": "code",
   "execution_count": 7,
   "metadata": {},
   "outputs": [
    {
     "data": {
      "text/plain": [
       "'20-25'"
      ]
     },
     "execution_count": 7,
     "metadata": {},
     "output_type": "execute_result"
    }
   ],
   "source": [
    "def find_row(df, column, string):\n",
    "    # Appliquer la fonction str.contains() sur la colonne choisie\n",
    "    mask = df[column].str.contains(string)\n",
    "    # Filtrer le dataframe avec le masque\n",
    "    result = df[mask]\n",
    "    # Retourner le résultat\n",
    "    return result\n",
    "\n",
    "res = find_row(lab, 0, \"sub-032525\")\n",
    "res[2].values[0]"
   ]
  },
  {
   "cell_type": "code",
   "execution_count": null,
   "metadata": {},
   "outputs": [
    {
     "name": "stdout",
     "output_type": "stream",
     "text": [
      "Opening raw data file C:/Users/pesylvestre/Documents/Informatique/BRAIL/FY2023 In-House PoC3/In-HousePOC3/in_housepoc3/data/Lemon_PreDict\\sub-032301\\sub-032301_EC1_eeg.fif...\n",
      "Isotrak not found\n",
      "    Range : 1596 ... 16096 =      6.384 ...    64.384 secs\n",
      "Ready.\n",
      "Reading 0 ... 14500  =      0.000 ...    58.000 secs...\n",
      "<class 'list'>\n",
      "Opening raw data file C:/Users/pesylvestre/Documents/Informatique/BRAIL/FY2023 In-House PoC3/In-HousePOC3/in_housepoc3/data/Lemon_PreDict\\sub-032301\\sub-032301_EC2_eeg.fif...\n",
      "Isotrak not found\n",
      "    Range : 32618 ... 47118 =    130.472 ...   188.472 secs\n",
      "Ready.\n",
      "Reading 0 ... 14500  =      0.000 ...    58.000 secs...\n"
     ]
    },
    {
     "name": "stderr",
     "output_type": "stream",
     "text": [
      "C:\\Users\\PESYLV~1\\AppData\\Local\\Temp/ipykernel_29536/564882533.py:16: FutureWarning: The frame.append method is deprecated and will be removed from pandas in a future version. Use pandas.concat instead.\n",
      "  df = df.append({\"data\": rawpd, \"age\": int(mlab[:2])+2.5}, ignore_index=True)\n"
     ]
    },
    {
     "name": "stdout",
     "output_type": "stream",
     "text": [
      "<class 'list'>\n",
      "Opening raw data file C:/Users/pesylvestre/Documents/Informatique/BRAIL/FY2023 In-House PoC3/In-HousePOC3/in_housepoc3/data/Lemon_PreDict\\sub-032301\\sub-032301_EC3_eeg.fif...\n",
      "Isotrak not found\n",
      "    Range : 63592 ... 78092 =    254.368 ...   312.368 secs\n",
      "Ready.\n",
      "Reading 0 ... 14500  =      0.000 ...    58.000 secs...\n"
     ]
    },
    {
     "name": "stderr",
     "output_type": "stream",
     "text": [
      "C:\\Users\\PESYLV~1\\AppData\\Local\\Temp/ipykernel_29536/564882533.py:16: FutureWarning: The frame.append method is deprecated and will be removed from pandas in a future version. Use pandas.concat instead.\n",
      "  df = df.append({\"data\": rawpd, \"age\": int(mlab[:2])+2.5}, ignore_index=True)\n"
     ]
    },
    {
     "name": "stdout",
     "output_type": "stream",
     "text": [
      "<class 'list'>\n",
      "Opening raw data file C:/Users/pesylvestre/Documents/Informatique/BRAIL/FY2023 In-House PoC3/In-HousePOC3/in_housepoc3/data/Lemon_PreDict\\sub-032301\\sub-032301_EC4_eeg.fif...\n",
      "Isotrak not found\n",
      "    Range : 94507 ... 109007 =    378.028 ...   436.028 secs\n",
      "Ready.\n",
      "Reading 0 ... 14500  =      0.000 ...    58.000 secs...\n"
     ]
    },
    {
     "name": "stderr",
     "output_type": "stream",
     "text": [
      "C:\\Users\\PESYLV~1\\AppData\\Local\\Temp/ipykernel_29536/564882533.py:16: FutureWarning: The frame.append method is deprecated and will be removed from pandas in a future version. Use pandas.concat instead.\n",
      "  df = df.append({\"data\": rawpd, \"age\": int(mlab[:2])+2.5}, ignore_index=True)\n"
     ]
    },
    {
     "name": "stdout",
     "output_type": "stream",
     "text": [
      "<class 'list'>\n",
      "Opening raw data file C:/Users/pesylvestre/Documents/Informatique/BRAIL/FY2023 In-House PoC3/In-HousePOC3/in_housepoc3/data/Lemon_PreDict\\sub-032301\\sub-032301_EC5_eeg.fif...\n",
      "Isotrak not found\n",
      "    Range : 125416 ... 139916 =    501.664 ...   559.664 secs\n",
      "Ready.\n",
      "Reading 0 ... 14500  =      0.000 ...    58.000 secs...\n"
     ]
    },
    {
     "name": "stderr",
     "output_type": "stream",
     "text": [
      "C:\\Users\\PESYLV~1\\AppData\\Local\\Temp/ipykernel_29536/564882533.py:16: FutureWarning: The frame.append method is deprecated and will be removed from pandas in a future version. Use pandas.concat instead.\n",
      "  df = df.append({\"data\": rawpd, \"age\": int(mlab[:2])+2.5}, ignore_index=True)\n"
     ]
    },
    {
     "name": "stdout",
     "output_type": "stream",
     "text": [
      "<class 'list'>\n",
      "Opening raw data file C:/Users/pesylvestre/Documents/Informatique/BRAIL/FY2023 In-House PoC3/In-HousePOC3/in_housepoc3/data/Lemon_PreDict\\sub-032301\\sub-032301_EC6_eeg.fif...\n",
      "Isotrak not found\n",
      "    Range : 156578 ... 171078 =    626.312 ...   684.312 secs\n",
      "Ready.\n",
      "Reading 0 ... 14500  =      0.000 ...    58.000 secs...\n"
     ]
    },
    {
     "name": "stderr",
     "output_type": "stream",
     "text": [
      "C:\\Users\\PESYLV~1\\AppData\\Local\\Temp/ipykernel_29536/564882533.py:16: FutureWarning: The frame.append method is deprecated and will be removed from pandas in a future version. Use pandas.concat instead.\n",
      "  df = df.append({\"data\": rawpd, \"age\": int(mlab[:2])+2.5}, ignore_index=True)\n"
     ]
    },
    {
     "name": "stdout",
     "output_type": "stream",
     "text": [
      "<class 'list'>\n",
      "Opening raw data file C:/Users/pesylvestre/Documents/Informatique/BRAIL/FY2023 In-House PoC3/In-HousePOC3/in_housepoc3/data/Lemon_PreDict\\sub-032301\\sub-032301_EC7_eeg.fif...\n",
      "Isotrak not found\n",
      "    Range : 187585 ... 202085 =    750.340 ...   808.340 secs\n",
      "Ready.\n",
      "Reading 0 ... 14500  =      0.000 ...    58.000 secs...\n"
     ]
    },
    {
     "name": "stderr",
     "output_type": "stream",
     "text": [
      "C:\\Users\\PESYLV~1\\AppData\\Local\\Temp/ipykernel_29536/564882533.py:16: FutureWarning: The frame.append method is deprecated and will be removed from pandas in a future version. Use pandas.concat instead.\n",
      "  df = df.append({\"data\": rawpd, \"age\": int(mlab[:2])+2.5}, ignore_index=True)\n"
     ]
    },
    {
     "name": "stdout",
     "output_type": "stream",
     "text": [
      "<class 'list'>\n",
      "Opening raw data file C:/Users/pesylvestre/Documents/Informatique/BRAIL/FY2023 In-House PoC3/In-HousePOC3/in_housepoc3/data/Lemon_PreDict\\sub-032301\\sub-032301_EC8_eeg.fif...\n",
      "Isotrak not found\n",
      "    Range : 218718 ... 233219 =    874.872 ...   932.876 secs\n",
      "Ready.\n",
      "Reading 0 ... 14501  =      0.000 ...    58.004 secs...\n"
     ]
    },
    {
     "name": "stderr",
     "output_type": "stream",
     "text": [
      "C:\\Users\\PESYLV~1\\AppData\\Local\\Temp/ipykernel_29536/564882533.py:16: FutureWarning: The frame.append method is deprecated and will be removed from pandas in a future version. Use pandas.concat instead.\n",
      "  df = df.append({\"data\": rawpd, \"age\": int(mlab[:2])+2.5}, ignore_index=True)\n"
     ]
    },
    {
     "name": "stdout",
     "output_type": "stream",
     "text": [
      "<class 'list'>\n",
      "Opening raw data file C:/Users/pesylvestre/Documents/Informatique/BRAIL/FY2023 In-House PoC3/In-HousePOC3/in_housepoc3/data/Lemon_PreDict\\sub-032301\\sub-032301_EO1_eeg.fif...\n",
      "Isotrak not found\n",
      "    Range : 17187 ... 31687 =     68.748 ...   126.748 secs\n",
      "Ready.\n",
      "Reading 0 ... 14500  =      0.000 ...    58.000 secs...\n"
     ]
    },
    {
     "name": "stderr",
     "output_type": "stream",
     "text": [
      "C:\\Users\\PESYLV~1\\AppData\\Local\\Temp/ipykernel_29536/564882533.py:16: FutureWarning: The frame.append method is deprecated and will be removed from pandas in a future version. Use pandas.concat instead.\n",
      "  df = df.append({\"data\": rawpd, \"age\": int(mlab[:2])+2.5}, ignore_index=True)\n"
     ]
    },
    {
     "name": "stdout",
     "output_type": "stream",
     "text": [
      "<class 'list'>\n",
      "Opening raw data file C:/Users/pesylvestre/Documents/Informatique/BRAIL/FY2023 In-House PoC3/In-HousePOC3/in_housepoc3/data/Lemon_PreDict\\sub-032301\\sub-032301_EO2_eeg.fif...\n",
      "Isotrak not found\n",
      "    Range : 48108 ... 62608 =    192.432 ...   250.432 secs\n",
      "Ready.\n",
      "Reading 0 ... 14500  =      0.000 ...    58.000 secs...\n"
     ]
    },
    {
     "name": "stderr",
     "output_type": "stream",
     "text": [
      "C:\\Users\\PESYLV~1\\AppData\\Local\\Temp/ipykernel_29536/564882533.py:16: FutureWarning: The frame.append method is deprecated and will be removed from pandas in a future version. Use pandas.concat instead.\n",
      "  df = df.append({\"data\": rawpd, \"age\": int(mlab[:2])+2.5}, ignore_index=True)\n"
     ]
    },
    {
     "name": "stdout",
     "output_type": "stream",
     "text": [
      "<class 'list'>\n",
      "Opening raw data file C:/Users/pesylvestre/Documents/Informatique/BRAIL/FY2023 In-House PoC3/In-HousePOC3/in_housepoc3/data/Lemon_PreDict\\sub-032301\\sub-032301_EO3_eeg.fif...\n",
      "Isotrak not found\n",
      "    Range : 79060 ... 93561 =    316.240 ...   374.244 secs\n",
      "Ready.\n",
      "Reading 0 ... 14501  =      0.000 ...    58.004 secs...\n"
     ]
    },
    {
     "name": "stderr",
     "output_type": "stream",
     "text": [
      "C:\\Users\\PESYLV~1\\AppData\\Local\\Temp/ipykernel_29536/564882533.py:16: FutureWarning: The frame.append method is deprecated and will be removed from pandas in a future version. Use pandas.concat instead.\n",
      "  df = df.append({\"data\": rawpd, \"age\": int(mlab[:2])+2.5}, ignore_index=True)\n"
     ]
    },
    {
     "name": "stdout",
     "output_type": "stream",
     "text": [
      "<class 'list'>\n",
      "Opening raw data file C:/Users/pesylvestre/Documents/Informatique/BRAIL/FY2023 In-House PoC3/In-HousePOC3/in_housepoc3/data/Lemon_PreDict\\sub-032301\\sub-032301_EO4_eeg.fif...\n",
      "Isotrak not found\n",
      "    Range : 109907 ... 124407 =    439.628 ...   497.628 secs\n",
      "Ready.\n",
      "Reading 0 ... 14500  =      0.000 ...    58.000 secs...\n"
     ]
    },
    {
     "name": "stderr",
     "output_type": "stream",
     "text": [
      "C:\\Users\\PESYLV~1\\AppData\\Local\\Temp/ipykernel_29536/564882533.py:16: FutureWarning: The frame.append method is deprecated and will be removed from pandas in a future version. Use pandas.concat instead.\n",
      "  df = df.append({\"data\": rawpd, \"age\": int(mlab[:2])+2.5}, ignore_index=True)\n"
     ]
    },
    {
     "name": "stdout",
     "output_type": "stream",
     "text": [
      "<class 'list'>\n",
      "Opening raw data file C:/Users/pesylvestre/Documents/Informatique/BRAIL/FY2023 In-House PoC3/In-HousePOC3/in_housepoc3/data/Lemon_PreDict\\sub-032301\\sub-032301_EO5_eeg.fif...\n",
      "Isotrak not found\n",
      "    Range : 141057 ... 155557 =    564.228 ...   622.228 secs\n",
      "Ready.\n",
      "Reading 0 ... 14500  =      0.000 ...    58.000 secs...\n"
     ]
    },
    {
     "name": "stderr",
     "output_type": "stream",
     "text": [
      "C:\\Users\\PESYLV~1\\AppData\\Local\\Temp/ipykernel_29536/564882533.py:16: FutureWarning: The frame.append method is deprecated and will be removed from pandas in a future version. Use pandas.concat instead.\n",
      "  df = df.append({\"data\": rawpd, \"age\": int(mlab[:2])+2.5}, ignore_index=True)\n"
     ]
    },
    {
     "name": "stdout",
     "output_type": "stream",
     "text": [
      "<class 'list'>\n",
      "Opening raw data file C:/Users/pesylvestre/Documents/Informatique/BRAIL/FY2023 In-House PoC3/In-HousePOC3/in_housepoc3/data/Lemon_PreDict\\sub-032301\\sub-032301_EO6_eeg.fif...\n",
      "Isotrak not found\n",
      "    Range : 172133 ... 186633 =    688.532 ...   746.532 secs\n",
      "Ready.\n",
      "Reading 0 ... 14500  =      0.000 ...    58.000 secs...\n"
     ]
    },
    {
     "name": "stderr",
     "output_type": "stream",
     "text": [
      "C:\\Users\\PESYLV~1\\AppData\\Local\\Temp/ipykernel_29536/564882533.py:16: FutureWarning: The frame.append method is deprecated and will be removed from pandas in a future version. Use pandas.concat instead.\n",
      "  df = df.append({\"data\": rawpd, \"age\": int(mlab[:2])+2.5}, ignore_index=True)\n"
     ]
    },
    {
     "name": "stdout",
     "output_type": "stream",
     "text": [
      "<class 'list'>\n",
      "Opening raw data file C:/Users/pesylvestre/Documents/Informatique/BRAIL/FY2023 In-House PoC3/In-HousePOC3/in_housepoc3/data/Lemon_PreDict\\sub-032301\\sub-032301_EO7_eeg.fif...\n",
      "Isotrak not found\n",
      "    Range : 203151 ... 217651 =    812.604 ...   870.604 secs\n",
      "Ready.\n",
      "Reading 0 ... 14500  =      0.000 ...    58.000 secs...\n"
     ]
    },
    {
     "name": "stderr",
     "output_type": "stream",
     "text": [
      "C:\\Users\\PESYLV~1\\AppData\\Local\\Temp/ipykernel_29536/564882533.py:16: FutureWarning: The frame.append method is deprecated and will be removed from pandas in a future version. Use pandas.concat instead.\n",
      "  df = df.append({\"data\": rawpd, \"age\": int(mlab[:2])+2.5}, ignore_index=True)\n"
     ]
    },
    {
     "name": "stdout",
     "output_type": "stream",
     "text": [
      "<class 'list'>\n",
      "Opening raw data file C:/Users/pesylvestre/Documents/Informatique/BRAIL/FY2023 In-House PoC3/In-HousePOC3/in_housepoc3/data/Lemon_PreDict\\sub-032301\\sub-032301_EO8_eeg.fif...\n",
      "Isotrak not found\n",
      "    Range : 234331 ... 248831 =    937.324 ...   995.324 secs\n",
      "Ready.\n",
      "Reading 0 ... 14500  =      0.000 ...    58.000 secs...\n"
     ]
    },
    {
     "name": "stderr",
     "output_type": "stream",
     "text": [
      "C:\\Users\\PESYLV~1\\AppData\\Local\\Temp/ipykernel_29536/564882533.py:16: FutureWarning: The frame.append method is deprecated and will be removed from pandas in a future version. Use pandas.concat instead.\n",
      "  df = df.append({\"data\": rawpd, \"age\": int(mlab[:2])+2.5}, ignore_index=True)\n"
     ]
    },
    {
     "name": "stdout",
     "output_type": "stream",
     "text": [
      "<class 'list'>\n",
      "Opening raw data file C:/Users/pesylvestre/Documents/Informatique/BRAIL/FY2023 In-House PoC3/In-HousePOC3/in_housepoc3/data/Lemon_PreDict\\sub-032302\\sub-032302_EC1_eeg.fif...\n",
      "Isotrak not found\n",
      "    Range : 3262 ... 17762 =     13.048 ...    71.048 secs\n",
      "Ready.\n",
      "Reading 0 ... 14500  =      0.000 ...    58.000 secs...\n"
     ]
    },
    {
     "name": "stderr",
     "output_type": "stream",
     "text": [
      "C:\\Users\\PESYLV~1\\AppData\\Local\\Temp/ipykernel_29536/564882533.py:16: FutureWarning: The frame.append method is deprecated and will be removed from pandas in a future version. Use pandas.concat instead.\n",
      "  df = df.append({\"data\": rawpd, \"age\": int(mlab[:2])+2.5}, ignore_index=True)\n"
     ]
    },
    {
     "name": "stdout",
     "output_type": "stream",
     "text": [
      "<class 'list'>\n",
      "Opening raw data file C:/Users/pesylvestre/Documents/Informatique/BRAIL/FY2023 In-House PoC3/In-HousePOC3/in_housepoc3/data/Lemon_PreDict\\sub-032302\\sub-032302_EC2_eeg.fif...\n",
      "Isotrak not found\n",
      "    Range : 34124 ... 48624 =    136.496 ...   194.496 secs\n",
      "Ready.\n",
      "Reading 0 ... 14500  =      0.000 ...    58.000 secs...\n"
     ]
    },
    {
     "name": "stderr",
     "output_type": "stream",
     "text": [
      "C:\\Users\\PESYLV~1\\AppData\\Local\\Temp/ipykernel_29536/564882533.py:16: FutureWarning: The frame.append method is deprecated and will be removed from pandas in a future version. Use pandas.concat instead.\n",
      "  df = df.append({\"data\": rawpd, \"age\": int(mlab[:2])+2.5}, ignore_index=True)\n"
     ]
    },
    {
     "name": "stdout",
     "output_type": "stream",
     "text": [
      "<class 'list'>\n",
      "Opening raw data file C:/Users/pesylvestre/Documents/Informatique/BRAIL/FY2023 In-House PoC3/In-HousePOC3/in_housepoc3/data/Lemon_PreDict\\sub-032302\\sub-032302_EC3_eeg.fif...\n",
      "Isotrak not found\n",
      "    Range : 65097 ... 79597 =    260.388 ...   318.388 secs\n",
      "Ready.\n",
      "Reading 0 ... 14500  =      0.000 ...    58.000 secs...\n"
     ]
    },
    {
     "name": "stderr",
     "output_type": "stream",
     "text": [
      "C:\\Users\\PESYLV~1\\AppData\\Local\\Temp/ipykernel_29536/564882533.py:16: FutureWarning: The frame.append method is deprecated and will be removed from pandas in a future version. Use pandas.concat instead.\n",
      "  df = df.append({\"data\": rawpd, \"age\": int(mlab[:2])+2.5}, ignore_index=True)\n"
     ]
    },
    {
     "name": "stdout",
     "output_type": "stream",
     "text": [
      "<class 'list'>\n",
      "Opening raw data file C:/Users/pesylvestre/Documents/Informatique/BRAIL/FY2023 In-House PoC3/In-HousePOC3/in_housepoc3/data/Lemon_PreDict\\sub-032302\\sub-032302_EC4_eeg.fif...\n",
      "Isotrak not found\n",
      "    Range : 95778 ... 110278 =    383.112 ...   441.112 secs\n",
      "Ready.\n",
      "Reading 0 ... 14500  =      0.000 ...    58.000 secs...\n"
     ]
    },
    {
     "name": "stderr",
     "output_type": "stream",
     "text": [
      "C:\\Users\\PESYLV~1\\AppData\\Local\\Temp/ipykernel_29536/564882533.py:16: FutureWarning: The frame.append method is deprecated and will be removed from pandas in a future version. Use pandas.concat instead.\n",
      "  df = df.append({\"data\": rawpd, \"age\": int(mlab[:2])+2.5}, ignore_index=True)\n"
     ]
    },
    {
     "name": "stdout",
     "output_type": "stream",
     "text": [
      "<class 'list'>\n",
      "Opening raw data file C:/Users/pesylvestre/Documents/Informatique/BRAIL/FY2023 In-House PoC3/In-HousePOC3/in_housepoc3/data/Lemon_PreDict\\sub-032302\\sub-032302_EC5_eeg.fif...\n",
      "Isotrak not found\n",
      "    Range : 126563 ... 141063 =    506.252 ...   564.252 secs\n",
      "Ready.\n",
      "Reading 0 ... 14500  =      0.000 ...    58.000 secs...\n"
     ]
    },
    {
     "name": "stderr",
     "output_type": "stream",
     "text": [
      "C:\\Users\\PESYLV~1\\AppData\\Local\\Temp/ipykernel_29536/564882533.py:16: FutureWarning: The frame.append method is deprecated and will be removed from pandas in a future version. Use pandas.concat instead.\n",
      "  df = df.append({\"data\": rawpd, \"age\": int(mlab[:2])+2.5}, ignore_index=True)\n"
     ]
    },
    {
     "name": "stdout",
     "output_type": "stream",
     "text": [
      "<class 'list'>\n",
      "Opening raw data file C:/Users/pesylvestre/Documents/Informatique/BRAIL/FY2023 In-House PoC3/In-HousePOC3/in_housepoc3/data/Lemon_PreDict\\sub-032302\\sub-032302_EC6_eeg.fif...\n",
      "Isotrak not found\n",
      "    Range : 157188 ... 171688 =    628.752 ...   686.752 secs\n",
      "Ready.\n",
      "Reading 0 ... 14500  =      0.000 ...    58.000 secs...\n"
     ]
    },
    {
     "name": "stderr",
     "output_type": "stream",
     "text": [
      "C:\\Users\\PESYLV~1\\AppData\\Local\\Temp/ipykernel_29536/564882533.py:16: FutureWarning: The frame.append method is deprecated and will be removed from pandas in a future version. Use pandas.concat instead.\n",
      "  df = df.append({\"data\": rawpd, \"age\": int(mlab[:2])+2.5}, ignore_index=True)\n"
     ]
    },
    {
     "name": "stdout",
     "output_type": "stream",
     "text": [
      "<class 'list'>\n",
      "Opening raw data file C:/Users/pesylvestre/Documents/Informatique/BRAIL/FY2023 In-House PoC3/In-HousePOC3/in_housepoc3/data/Lemon_PreDict\\sub-032302\\sub-032302_EC7_eeg.fif...\n",
      "Isotrak not found\n",
      "    Range : 188352 ... 202852 =    753.408 ...   811.408 secs\n",
      "Ready.\n",
      "Reading 0 ... 14500  =      0.000 ...    58.000 secs...\n"
     ]
    },
    {
     "name": "stderr",
     "output_type": "stream",
     "text": [
      "C:\\Users\\PESYLV~1\\AppData\\Local\\Temp/ipykernel_29536/564882533.py:16: FutureWarning: The frame.append method is deprecated and will be removed from pandas in a future version. Use pandas.concat instead.\n",
      "  df = df.append({\"data\": rawpd, \"age\": int(mlab[:2])+2.5}, ignore_index=True)\n"
     ]
    },
    {
     "name": "stdout",
     "output_type": "stream",
     "text": [
      "<class 'list'>\n",
      "Opening raw data file C:/Users/pesylvestre/Documents/Informatique/BRAIL/FY2023 In-House PoC3/In-HousePOC3/in_housepoc3/data/Lemon_PreDict\\sub-032302\\sub-032302_EC8_eeg.fif...\n",
      "Isotrak not found\n",
      "    Range : 219253 ... 233753 =    877.012 ...   935.012 secs\n",
      "Ready.\n",
      "Reading 0 ... 14500  =      0.000 ...    58.000 secs...\n"
     ]
    },
    {
     "name": "stderr",
     "output_type": "stream",
     "text": [
      "C:\\Users\\PESYLV~1\\AppData\\Local\\Temp/ipykernel_29536/564882533.py:16: FutureWarning: The frame.append method is deprecated and will be removed from pandas in a future version. Use pandas.concat instead.\n",
      "  df = df.append({\"data\": rawpd, \"age\": int(mlab[:2])+2.5}, ignore_index=True)\n"
     ]
    },
    {
     "name": "stdout",
     "output_type": "stream",
     "text": [
      "<class 'list'>\n",
      "Opening raw data file C:/Users/pesylvestre/Documents/Informatique/BRAIL/FY2023 In-House PoC3/In-HousePOC3/in_housepoc3/data/Lemon_PreDict\\sub-032302\\sub-032302_EO1_eeg.fif...\n",
      "Isotrak not found\n",
      "    Range : 18735 ... 33235 =     74.940 ...   132.940 secs\n",
      "Ready.\n",
      "Reading 0 ... 14500  =      0.000 ...    58.000 secs...\n"
     ]
    },
    {
     "name": "stderr",
     "output_type": "stream",
     "text": [
      "C:\\Users\\PESYLV~1\\AppData\\Local\\Temp/ipykernel_29536/564882533.py:16: FutureWarning: The frame.append method is deprecated and will be removed from pandas in a future version. Use pandas.concat instead.\n",
      "  df = df.append({\"data\": rawpd, \"age\": int(mlab[:2])+2.5}, ignore_index=True)\n"
     ]
    },
    {
     "name": "stdout",
     "output_type": "stream",
     "text": [
      "<class 'list'>\n",
      "Opening raw data file C:/Users/pesylvestre/Documents/Informatique/BRAIL/FY2023 In-House PoC3/In-HousePOC3/in_housepoc3/data/Lemon_PreDict\\sub-032302\\sub-032302_EO2_eeg.fif...\n",
      "Isotrak not found\n",
      "    Range : 49605 ... 64105 =    198.420 ...   256.420 secs\n",
      "Ready.\n",
      "Reading 0 ... 14500  =      0.000 ...    58.000 secs...\n"
     ]
    },
    {
     "name": "stderr",
     "output_type": "stream",
     "text": [
      "C:\\Users\\PESYLV~1\\AppData\\Local\\Temp/ipykernel_29536/564882533.py:16: FutureWarning: The frame.append method is deprecated and will be removed from pandas in a future version. Use pandas.concat instead.\n",
      "  df = df.append({\"data\": rawpd, \"age\": int(mlab[:2])+2.5}, ignore_index=True)\n"
     ]
    },
    {
     "name": "stdout",
     "output_type": "stream",
     "text": [
      "<class 'list'>\n",
      "Opening raw data file C:/Users/pesylvestre/Documents/Informatique/BRAIL/FY2023 In-House PoC3/In-HousePOC3/in_housepoc3/data/Lemon_PreDict\\sub-032302\\sub-032302_EO3_eeg.fif...\n",
      "Isotrak not found\n",
      "    Range : 80524 ... 95024 =    322.096 ...   380.096 secs\n",
      "Ready.\n",
      "Reading 0 ... 14500  =      0.000 ...    58.000 secs...\n"
     ]
    },
    {
     "name": "stderr",
     "output_type": "stream",
     "text": [
      "C:\\Users\\PESYLV~1\\AppData\\Local\\Temp/ipykernel_29536/564882533.py:16: FutureWarning: The frame.append method is deprecated and will be removed from pandas in a future version. Use pandas.concat instead.\n",
      "  df = df.append({\"data\": rawpd, \"age\": int(mlab[:2])+2.5}, ignore_index=True)\n"
     ]
    },
    {
     "name": "stdout",
     "output_type": "stream",
     "text": [
      "<class 'list'>\n",
      "Opening raw data file C:/Users/pesylvestre/Documents/Informatique/BRAIL/FY2023 In-House PoC3/In-HousePOC3/in_housepoc3/data/Lemon_PreDict\\sub-032302\\sub-032302_EO4_eeg.fif...\n",
      "Isotrak not found\n",
      "    Range : 111344 ... 125844 =    445.376 ...   503.376 secs\n",
      "Ready.\n",
      "Reading 0 ... 14500  =      0.000 ...    58.000 secs...\n"
     ]
    },
    {
     "name": "stderr",
     "output_type": "stream",
     "text": [
      "C:\\Users\\PESYLV~1\\AppData\\Local\\Temp/ipykernel_29536/564882533.py:16: FutureWarning: The frame.append method is deprecated and will be removed from pandas in a future version. Use pandas.concat instead.\n",
      "  df = df.append({\"data\": rawpd, \"age\": int(mlab[:2])+2.5}, ignore_index=True)\n"
     ]
    },
    {
     "name": "stdout",
     "output_type": "stream",
     "text": [
      "<class 'list'>\n",
      "Opening raw data file C:/Users/pesylvestre/Documents/Informatique/BRAIL/FY2023 In-House PoC3/In-HousePOC3/in_housepoc3/data/Lemon_PreDict\\sub-032302\\sub-032302_EO5_eeg.fif...\n",
      "Isotrak not found\n",
      "    Range : 141817 ... 156317 =    567.268 ...   625.268 secs\n",
      "Ready.\n",
      "Reading 0 ... 14500  =      0.000 ...    58.000 secs...\n"
     ]
    },
    {
     "name": "stderr",
     "output_type": "stream",
     "text": [
      "C:\\Users\\PESYLV~1\\AppData\\Local\\Temp/ipykernel_29536/564882533.py:16: FutureWarning: The frame.append method is deprecated and will be removed from pandas in a future version. Use pandas.concat instead.\n",
      "  df = df.append({\"data\": rawpd, \"age\": int(mlab[:2])+2.5}, ignore_index=True)\n"
     ]
    },
    {
     "name": "stdout",
     "output_type": "stream",
     "text": [
      "<class 'list'>\n",
      "Opening raw data file C:/Users/pesylvestre/Documents/Informatique/BRAIL/FY2023 In-House PoC3/In-HousePOC3/in_housepoc3/data/Lemon_PreDict\\sub-032302\\sub-032302_EO6_eeg.fif...\n",
      "Isotrak not found\n",
      "    Range : 172713 ... 187213 =    690.852 ...   748.852 secs\n",
      "Ready.\n",
      "Reading 0 ... 14500  =      0.000 ...    58.000 secs...\n"
     ]
    },
    {
     "name": "stderr",
     "output_type": "stream",
     "text": [
      "C:\\Users\\PESYLV~1\\AppData\\Local\\Temp/ipykernel_29536/564882533.py:16: FutureWarning: The frame.append method is deprecated and will be removed from pandas in a future version. Use pandas.concat instead.\n",
      "  df = df.append({\"data\": rawpd, \"age\": int(mlab[:2])+2.5}, ignore_index=True)\n"
     ]
    },
    {
     "name": "stdout",
     "output_type": "stream",
     "text": [
      "<class 'list'>\n",
      "Opening raw data file C:/Users/pesylvestre/Documents/Informatique/BRAIL/FY2023 In-House PoC3/In-HousePOC3/in_housepoc3/data/Lemon_PreDict\\sub-032302\\sub-032302_EO7_eeg.fif...\n",
      "Isotrak not found\n",
      "    Range : 203975 ... 218475 =    815.900 ...   873.900 secs\n",
      "Ready.\n",
      "Reading 0 ... 14500  =      0.000 ...    58.000 secs...\n"
     ]
    },
    {
     "name": "stderr",
     "output_type": "stream",
     "text": [
      "C:\\Users\\PESYLV~1\\AppData\\Local\\Temp/ipykernel_29536/564882533.py:16: FutureWarning: The frame.append method is deprecated and will be removed from pandas in a future version. Use pandas.concat instead.\n",
      "  df = df.append({\"data\": rawpd, \"age\": int(mlab[:2])+2.5}, ignore_index=True)\n"
     ]
    },
    {
     "name": "stdout",
     "output_type": "stream",
     "text": [
      "<class 'list'>\n",
      "Opening raw data file C:/Users/pesylvestre/Documents/Informatique/BRAIL/FY2023 In-House PoC3/In-HousePOC3/in_housepoc3/data/Lemon_PreDict\\sub-032302\\sub-032302_EO8_eeg.fif...\n",
      "Isotrak not found\n",
      "    Range : 234700 ... 249200 =    938.800 ...   996.800 secs\n",
      "Ready.\n",
      "Reading 0 ... 14500  =      0.000 ...    58.000 secs...\n"
     ]
    },
    {
     "name": "stderr",
     "output_type": "stream",
     "text": [
      "C:\\Users\\PESYLV~1\\AppData\\Local\\Temp/ipykernel_29536/564882533.py:16: FutureWarning: The frame.append method is deprecated and will be removed from pandas in a future version. Use pandas.concat instead.\n",
      "  df = df.append({\"data\": rawpd, \"age\": int(mlab[:2])+2.5}, ignore_index=True)\n"
     ]
    },
    {
     "name": "stdout",
     "output_type": "stream",
     "text": [
      "<class 'list'>\n",
      "Opening raw data file C:/Users/pesylvestre/Documents/Informatique/BRAIL/FY2023 In-House PoC3/In-HousePOC3/in_housepoc3/data/Lemon_PreDict\\sub-032303\\sub-032303_EC1_eeg.fif...\n",
      "Isotrak not found\n",
      "    Range : 2593 ... 17093 =     10.372 ...    68.372 secs\n",
      "Ready.\n",
      "Reading 0 ... 14500  =      0.000 ...    58.000 secs...\n"
     ]
    },
    {
     "name": "stderr",
     "output_type": "stream",
     "text": [
      "C:\\Users\\PESYLV~1\\AppData\\Local\\Temp/ipykernel_29536/564882533.py:16: FutureWarning: The frame.append method is deprecated and will be removed from pandas in a future version. Use pandas.concat instead.\n",
      "  df = df.append({\"data\": rawpd, \"age\": int(mlab[:2])+2.5}, ignore_index=True)\n"
     ]
    },
    {
     "name": "stdout",
     "output_type": "stream",
     "text": [
      "<class 'list'>\n",
      "Opening raw data file C:/Users/pesylvestre/Documents/Informatique/BRAIL/FY2023 In-House PoC3/In-HousePOC3/in_housepoc3/data/Lemon_PreDict\\sub-032303\\sub-032303_EC2_eeg.fif...\n",
      "Isotrak not found\n",
      "    Range : 33939 ... 48440 =    135.756 ...   193.760 secs\n",
      "Ready.\n",
      "Reading 0 ... 14501  =      0.000 ...    58.004 secs...\n"
     ]
    },
    {
     "name": "stderr",
     "output_type": "stream",
     "text": [
      "C:\\Users\\PESYLV~1\\AppData\\Local\\Temp/ipykernel_29536/564882533.py:16: FutureWarning: The frame.append method is deprecated and will be removed from pandas in a future version. Use pandas.concat instead.\n",
      "  df = df.append({\"data\": rawpd, \"age\": int(mlab[:2])+2.5}, ignore_index=True)\n"
     ]
    },
    {
     "name": "stdout",
     "output_type": "stream",
     "text": [
      "<class 'list'>\n",
      "Opening raw data file C:/Users/pesylvestre/Documents/Informatique/BRAIL/FY2023 In-House PoC3/In-HousePOC3/in_housepoc3/data/Lemon_PreDict\\sub-032303\\sub-032303_EC3_eeg.fif...\n",
      "Isotrak not found\n",
      "    Range : 65269 ... 79769 =    261.076 ...   319.076 secs\n",
      "Ready.\n",
      "Reading 0 ... 14500  =      0.000 ...    58.000 secs...\n"
     ]
    },
    {
     "name": "stderr",
     "output_type": "stream",
     "text": [
      "C:\\Users\\PESYLV~1\\AppData\\Local\\Temp/ipykernel_29536/564882533.py:16: FutureWarning: The frame.append method is deprecated and will be removed from pandas in a future version. Use pandas.concat instead.\n",
      "  df = df.append({\"data\": rawpd, \"age\": int(mlab[:2])+2.5}, ignore_index=True)\n"
     ]
    },
    {
     "name": "stdout",
     "output_type": "stream",
     "text": [
      "<class 'list'>\n",
      "Opening raw data file C:/Users/pesylvestre/Documents/Informatique/BRAIL/FY2023 In-House PoC3/In-HousePOC3/in_housepoc3/data/Lemon_PreDict\\sub-032303\\sub-032303_EC4_eeg.fif...\n",
      "Isotrak not found\n",
      "    Range : 96532 ... 111032 =    386.128 ...   444.128 secs\n",
      "Ready.\n",
      "Reading 0 ... 14500  =      0.000 ...    58.000 secs...\n"
     ]
    },
    {
     "name": "stderr",
     "output_type": "stream",
     "text": [
      "C:\\Users\\PESYLV~1\\AppData\\Local\\Temp/ipykernel_29536/564882533.py:16: FutureWarning: The frame.append method is deprecated and will be removed from pandas in a future version. Use pandas.concat instead.\n",
      "  df = df.append({\"data\": rawpd, \"age\": int(mlab[:2])+2.5}, ignore_index=True)\n"
     ]
    },
    {
     "name": "stdout",
     "output_type": "stream",
     "text": [
      "<class 'list'>\n",
      "Opening raw data file C:/Users/pesylvestre/Documents/Informatique/BRAIL/FY2023 In-House PoC3/In-HousePOC3/in_housepoc3/data/Lemon_PreDict\\sub-032303\\sub-032303_EC5_eeg.fif...\n",
      "Isotrak not found\n",
      "    Range : 127592 ... 142092 =    510.368 ...   568.368 secs\n",
      "Ready.\n",
      "Reading 0 ... 14500  =      0.000 ...    58.000 secs...\n"
     ]
    },
    {
     "name": "stderr",
     "output_type": "stream",
     "text": [
      "C:\\Users\\PESYLV~1\\AppData\\Local\\Temp/ipykernel_29536/564882533.py:16: FutureWarning: The frame.append method is deprecated and will be removed from pandas in a future version. Use pandas.concat instead.\n",
      "  df = df.append({\"data\": rawpd, \"age\": int(mlab[:2])+2.5}, ignore_index=True)\n"
     ]
    },
    {
     "name": "stdout",
     "output_type": "stream",
     "text": [
      "<class 'list'>\n",
      "Opening raw data file C:/Users/pesylvestre/Documents/Informatique/BRAIL/FY2023 In-House PoC3/In-HousePOC3/in_housepoc3/data/Lemon_PreDict\\sub-032303\\sub-032303_EC6_eeg.fif...\n",
      "Isotrak not found\n",
      "    Range : 158868 ... 173368 =    635.472 ...   693.472 secs\n",
      "Ready.\n",
      "Reading 0 ... 14500  =      0.000 ...    58.000 secs...\n"
     ]
    },
    {
     "name": "stderr",
     "output_type": "stream",
     "text": [
      "C:\\Users\\PESYLV~1\\AppData\\Local\\Temp/ipykernel_29536/564882533.py:16: FutureWarning: The frame.append method is deprecated and will be removed from pandas in a future version. Use pandas.concat instead.\n",
      "  df = df.append({\"data\": rawpd, \"age\": int(mlab[:2])+2.5}, ignore_index=True)\n"
     ]
    },
    {
     "name": "stdout",
     "output_type": "stream",
     "text": [
      "<class 'list'>\n",
      "Opening raw data file C:/Users/pesylvestre/Documents/Informatique/BRAIL/FY2023 In-House PoC3/In-HousePOC3/in_housepoc3/data/Lemon_PreDict\\sub-032303\\sub-032303_EC7_eeg.fif...\n",
      "Isotrak not found\n",
      "    Range : 189913 ... 204413 =    759.652 ...   817.652 secs\n",
      "Ready.\n",
      "Reading 0 ... 14500  =      0.000 ...    58.000 secs...\n"
     ]
    },
    {
     "name": "stderr",
     "output_type": "stream",
     "text": [
      "C:\\Users\\PESYLV~1\\AppData\\Local\\Temp/ipykernel_29536/564882533.py:16: FutureWarning: The frame.append method is deprecated and will be removed from pandas in a future version. Use pandas.concat instead.\n",
      "  df = df.append({\"data\": rawpd, \"age\": int(mlab[:2])+2.5}, ignore_index=True)\n"
     ]
    },
    {
     "name": "stdout",
     "output_type": "stream",
     "text": [
      "<class 'list'>\n",
      "Opening raw data file C:/Users/pesylvestre/Documents/Informatique/BRAIL/FY2023 In-House PoC3/In-HousePOC3/in_housepoc3/data/Lemon_PreDict\\sub-032303\\sub-032303_EC8_eeg.fif...\n",
      "Isotrak not found\n",
      "    Range : 224028 ... 238528 =    896.112 ...   954.112 secs\n",
      "Ready.\n",
      "Reading 0 ... 14500  =      0.000 ...    58.000 secs...\n"
     ]
    },
    {
     "name": "stderr",
     "output_type": "stream",
     "text": [
      "C:\\Users\\PESYLV~1\\AppData\\Local\\Temp/ipykernel_29536/564882533.py:16: FutureWarning: The frame.append method is deprecated and will be removed from pandas in a future version. Use pandas.concat instead.\n",
      "  df = df.append({\"data\": rawpd, \"age\": int(mlab[:2])+2.5}, ignore_index=True)\n"
     ]
    },
    {
     "name": "stdout",
     "output_type": "stream",
     "text": [
      "<class 'list'>\n",
      "Opening raw data file C:/Users/pesylvestre/Documents/Informatique/BRAIL/FY2023 In-House PoC3/In-HousePOC3/in_housepoc3/data/Lemon_PreDict\\sub-032303\\sub-032303_EO1_eeg.fif...\n",
      "Isotrak not found\n",
      "    Range : 18224 ... 32724 =     72.896 ...   130.896 secs\n",
      "Ready.\n",
      "Reading 0 ... 14500  =      0.000 ...    58.000 secs...\n"
     ]
    },
    {
     "name": "stderr",
     "output_type": "stream",
     "text": [
      "C:\\Users\\PESYLV~1\\AppData\\Local\\Temp/ipykernel_29536/564882533.py:16: FutureWarning: The frame.append method is deprecated and will be removed from pandas in a future version. Use pandas.concat instead.\n",
      "  df = df.append({\"data\": rawpd, \"age\": int(mlab[:2])+2.5}, ignore_index=True)\n"
     ]
    },
    {
     "name": "stdout",
     "output_type": "stream",
     "text": [
      "<class 'list'>\n",
      "Opening raw data file C:/Users/pesylvestre/Documents/Informatique/BRAIL/FY2023 In-House PoC3/In-HousePOC3/in_housepoc3/data/Lemon_PreDict\\sub-032303\\sub-032303_EO2_eeg.fif...\n",
      "Isotrak not found\n",
      "    Range : 49609 ... 64109 =    198.436 ...   256.436 secs\n",
      "Ready.\n",
      "Reading 0 ... 14500  =      0.000 ...    58.000 secs...\n"
     ]
    },
    {
     "name": "stderr",
     "output_type": "stream",
     "text": [
      "C:\\Users\\PESYLV~1\\AppData\\Local\\Temp/ipykernel_29536/564882533.py:16: FutureWarning: The frame.append method is deprecated and will be removed from pandas in a future version. Use pandas.concat instead.\n",
      "  df = df.append({\"data\": rawpd, \"age\": int(mlab[:2])+2.5}, ignore_index=True)\n"
     ]
    },
    {
     "name": "stdout",
     "output_type": "stream",
     "text": [
      "<class 'list'>\n",
      "Opening raw data file C:/Users/pesylvestre/Documents/Informatique/BRAIL/FY2023 In-House PoC3/In-HousePOC3/in_housepoc3/data/Lemon_PreDict\\sub-032303\\sub-032303_EO3_eeg.fif...\n",
      "Isotrak not found\n",
      "    Range : 80877 ... 95377 =    323.508 ...   381.508 secs\n",
      "Ready.\n",
      "Reading 0 ... 14500  =      0.000 ...    58.000 secs...\n"
     ]
    },
    {
     "name": "stderr",
     "output_type": "stream",
     "text": [
      "C:\\Users\\PESYLV~1\\AppData\\Local\\Temp/ipykernel_29536/564882533.py:16: FutureWarning: The frame.append method is deprecated and will be removed from pandas in a future version. Use pandas.concat instead.\n",
      "  df = df.append({\"data\": rawpd, \"age\": int(mlab[:2])+2.5}, ignore_index=True)\n"
     ]
    },
    {
     "name": "stdout",
     "output_type": "stream",
     "text": [
      "<class 'list'>\n",
      "Opening raw data file C:/Users/pesylvestre/Documents/Informatique/BRAIL/FY2023 In-House PoC3/In-HousePOC3/in_housepoc3/data/Lemon_PreDict\\sub-032303\\sub-032303_EO4_eeg.fif...\n",
      "Isotrak not found\n",
      "    Range : 112126 ... 126627 =    448.504 ...   506.508 secs\n",
      "Ready.\n",
      "Reading 0 ... 14501  =      0.000 ...    58.004 secs...\n"
     ]
    },
    {
     "name": "stderr",
     "output_type": "stream",
     "text": [
      "C:\\Users\\PESYLV~1\\AppData\\Local\\Temp/ipykernel_29536/564882533.py:16: FutureWarning: The frame.append method is deprecated and will be removed from pandas in a future version. Use pandas.concat instead.\n",
      "  df = df.append({\"data\": rawpd, \"age\": int(mlab[:2])+2.5}, ignore_index=True)\n"
     ]
    },
    {
     "name": "stdout",
     "output_type": "stream",
     "text": [
      "<class 'list'>\n",
      "Opening raw data file C:/Users/pesylvestre/Documents/Informatique/BRAIL/FY2023 In-House PoC3/In-HousePOC3/in_housepoc3/data/Lemon_PreDict\\sub-032303\\sub-032303_EO5_eeg.fif...\n",
      "Isotrak not found\n",
      "    Range : 143098 ... 157598 =    572.392 ...   630.392 secs\n",
      "Ready.\n",
      "Reading 0 ... 14500  =      0.000 ...    58.000 secs...\n"
     ]
    },
    {
     "name": "stderr",
     "output_type": "stream",
     "text": [
      "C:\\Users\\PESYLV~1\\AppData\\Local\\Temp/ipykernel_29536/564882533.py:16: FutureWarning: The frame.append method is deprecated and will be removed from pandas in a future version. Use pandas.concat instead.\n",
      "  df = df.append({\"data\": rawpd, \"age\": int(mlab[:2])+2.5}, ignore_index=True)\n"
     ]
    },
    {
     "name": "stdout",
     "output_type": "stream",
     "text": [
      "<class 'list'>\n",
      "Opening raw data file C:/Users/pesylvestre/Documents/Informatique/BRAIL/FY2023 In-House PoC3/In-HousePOC3/in_housepoc3/data/Lemon_PreDict\\sub-032303\\sub-032303_EO6_eeg.fif...\n",
      "Isotrak not found\n",
      "    Range : 174373 ... 188873 =    697.492 ...   755.492 secs\n",
      "Ready.\n",
      "Reading 0 ... 14500  =      0.000 ...    58.000 secs...\n"
     ]
    },
    {
     "name": "stderr",
     "output_type": "stream",
     "text": [
      "C:\\Users\\PESYLV~1\\AppData\\Local\\Temp/ipykernel_29536/564882533.py:16: FutureWarning: The frame.append method is deprecated and will be removed from pandas in a future version. Use pandas.concat instead.\n",
      "  df = df.append({\"data\": rawpd, \"age\": int(mlab[:2])+2.5}, ignore_index=True)\n"
     ]
    },
    {
     "name": "stdout",
     "output_type": "stream",
     "text": [
      "<class 'list'>\n",
      "Opening raw data file C:/Users/pesylvestre/Documents/Informatique/BRAIL/FY2023 In-House PoC3/In-HousePOC3/in_housepoc3/data/Lemon_PreDict\\sub-032303\\sub-032303_EO7_eeg.fif...\n",
      "Isotrak not found\n",
      "    Range : 208582 ... 223082 =    834.328 ...   892.328 secs\n",
      "Ready.\n",
      "Reading 0 ... 14500  =      0.000 ...    58.000 secs...\n"
     ]
    },
    {
     "name": "stderr",
     "output_type": "stream",
     "text": [
      "C:\\Users\\PESYLV~1\\AppData\\Local\\Temp/ipykernel_29536/564882533.py:16: FutureWarning: The frame.append method is deprecated and will be removed from pandas in a future version. Use pandas.concat instead.\n",
      "  df = df.append({\"data\": rawpd, \"age\": int(mlab[:2])+2.5}, ignore_index=True)\n"
     ]
    },
    {
     "name": "stdout",
     "output_type": "stream",
     "text": [
      "<class 'list'>\n",
      "Opening raw data file C:/Users/pesylvestre/Documents/Informatique/BRAIL/FY2023 In-House PoC3/In-HousePOC3/in_housepoc3/data/Lemon_PreDict\\sub-032303\\sub-032303_EO8_eeg.fif...\n",
      "Isotrak not found\n",
      "    Range : 239549 ... 254050 =    958.196 ...  1016.200 secs\n",
      "Ready.\n",
      "Reading 0 ... 14501  =      0.000 ...    58.004 secs...\n"
     ]
    },
    {
     "name": "stderr",
     "output_type": "stream",
     "text": [
      "C:\\Users\\PESYLV~1\\AppData\\Local\\Temp/ipykernel_29536/564882533.py:16: FutureWarning: The frame.append method is deprecated and will be removed from pandas in a future version. Use pandas.concat instead.\n",
      "  df = df.append({\"data\": rawpd, \"age\": int(mlab[:2])+2.5}, ignore_index=True)\n"
     ]
    },
    {
     "name": "stdout",
     "output_type": "stream",
     "text": [
      "<class 'list'>\n",
      "Opening raw data file C:/Users/pesylvestre/Documents/Informatique/BRAIL/FY2023 In-House PoC3/In-HousePOC3/in_housepoc3/data/Lemon_PreDict\\sub-032304\\sub-032304_EC1_eeg.fif...\n",
      "Isotrak not found\n",
      "    Range : 2136 ... 16636 =      8.544 ...    66.544 secs\n",
      "Ready.\n",
      "Reading 0 ... 14500  =      0.000 ...    58.000 secs...\n"
     ]
    },
    {
     "name": "stderr",
     "output_type": "stream",
     "text": [
      "C:\\Users\\PESYLV~1\\AppData\\Local\\Temp/ipykernel_29536/564882533.py:16: FutureWarning: The frame.append method is deprecated and will be removed from pandas in a future version. Use pandas.concat instead.\n",
      "  df = df.append({\"data\": rawpd, \"age\": int(mlab[:2])+2.5}, ignore_index=True)\n"
     ]
    },
    {
     "name": "stdout",
     "output_type": "stream",
     "text": [
      "<class 'list'>\n",
      "Opening raw data file C:/Users/pesylvestre/Documents/Informatique/BRAIL/FY2023 In-House PoC3/In-HousePOC3/in_housepoc3/data/Lemon_PreDict\\sub-032304\\sub-032304_EC2_eeg.fif...\n",
      "Isotrak not found\n",
      "    Range : 33101 ... 47602 =    132.404 ...   190.408 secs\n",
      "Ready.\n",
      "Reading 0 ... 14501  =      0.000 ...    58.004 secs...\n"
     ]
    },
    {
     "name": "stderr",
     "output_type": "stream",
     "text": [
      "C:\\Users\\PESYLV~1\\AppData\\Local\\Temp/ipykernel_29536/564882533.py:16: FutureWarning: The frame.append method is deprecated and will be removed from pandas in a future version. Use pandas.concat instead.\n",
      "  df = df.append({\"data\": rawpd, \"age\": int(mlab[:2])+2.5}, ignore_index=True)\n"
     ]
    },
    {
     "name": "stdout",
     "output_type": "stream",
     "text": [
      "<class 'list'>\n",
      "Opening raw data file C:/Users/pesylvestre/Documents/Informatique/BRAIL/FY2023 In-House PoC3/In-HousePOC3/in_housepoc3/data/Lemon_PreDict\\sub-032304\\sub-032304_EC3_eeg.fif...\n",
      "Isotrak not found\n",
      "    Range : 66868 ... 81369 =    267.472 ...   325.476 secs\n",
      "Ready.\n",
      "Reading 0 ... 14501  =      0.000 ...    58.004 secs...\n"
     ]
    },
    {
     "name": "stderr",
     "output_type": "stream",
     "text": [
      "C:\\Users\\PESYLV~1\\AppData\\Local\\Temp/ipykernel_29536/564882533.py:16: FutureWarning: The frame.append method is deprecated and will be removed from pandas in a future version. Use pandas.concat instead.\n",
      "  df = df.append({\"data\": rawpd, \"age\": int(mlab[:2])+2.5}, ignore_index=True)\n"
     ]
    },
    {
     "name": "stdout",
     "output_type": "stream",
     "text": [
      "<class 'list'>\n",
      "Opening raw data file C:/Users/pesylvestre/Documents/Informatique/BRAIL/FY2023 In-House PoC3/In-HousePOC3/in_housepoc3/data/Lemon_PreDict\\sub-032304\\sub-032304_EC4_eeg.fif...\n",
      "Isotrak not found\n",
      "    Range : 98876 ... 113376 =    395.504 ...   453.504 secs\n",
      "Ready.\n",
      "Reading 0 ... 14500  =      0.000 ...    58.000 secs...\n"
     ]
    },
    {
     "name": "stderr",
     "output_type": "stream",
     "text": [
      "C:\\Users\\PESYLV~1\\AppData\\Local\\Temp/ipykernel_29536/564882533.py:16: FutureWarning: The frame.append method is deprecated and will be removed from pandas in a future version. Use pandas.concat instead.\n",
      "  df = df.append({\"data\": rawpd, \"age\": int(mlab[:2])+2.5}, ignore_index=True)\n"
     ]
    },
    {
     "name": "stdout",
     "output_type": "stream",
     "text": [
      "<class 'list'>\n",
      "Opening raw data file C:/Users/pesylvestre/Documents/Informatique/BRAIL/FY2023 In-House PoC3/In-HousePOC3/in_housepoc3/data/Lemon_PreDict\\sub-032304\\sub-032304_EC5_eeg.fif...\n",
      "Isotrak not found\n",
      "    Range : 137945 ... 152445 =    551.780 ...   609.780 secs\n",
      "Ready.\n",
      "Reading 0 ... 14500  =      0.000 ...    58.000 secs...\n"
     ]
    },
    {
     "name": "stderr",
     "output_type": "stream",
     "text": [
      "C:\\Users\\PESYLV~1\\AppData\\Local\\Temp/ipykernel_29536/564882533.py:16: FutureWarning: The frame.append method is deprecated and will be removed from pandas in a future version. Use pandas.concat instead.\n",
      "  df = df.append({\"data\": rawpd, \"age\": int(mlab[:2])+2.5}, ignore_index=True)\n"
     ]
    },
    {
     "name": "stdout",
     "output_type": "stream",
     "text": [
      "<class 'list'>\n",
      "Opening raw data file C:/Users/pesylvestre/Documents/Informatique/BRAIL/FY2023 In-House PoC3/In-HousePOC3/in_housepoc3/data/Lemon_PreDict\\sub-032304\\sub-032304_EC6_eeg.fif...\n",
      "Isotrak not found\n",
      "    Range : 170607 ... 185107 =    682.428 ...   740.428 secs\n",
      "Ready.\n",
      "Reading 0 ... 14500  =      0.000 ...    58.000 secs...\n"
     ]
    },
    {
     "name": "stderr",
     "output_type": "stream",
     "text": [
      "C:\\Users\\PESYLV~1\\AppData\\Local\\Temp/ipykernel_29536/564882533.py:16: FutureWarning: The frame.append method is deprecated and will be removed from pandas in a future version. Use pandas.concat instead.\n",
      "  df = df.append({\"data\": rawpd, \"age\": int(mlab[:2])+2.5}, ignore_index=True)\n"
     ]
    },
    {
     "name": "stdout",
     "output_type": "stream",
     "text": [
      "<class 'list'>\n",
      "Opening raw data file C:/Users/pesylvestre/Documents/Informatique/BRAIL/FY2023 In-House PoC3/In-HousePOC3/in_housepoc3/data/Lemon_PreDict\\sub-032304\\sub-032304_EC7_eeg.fif...\n",
      "Isotrak not found\n",
      "    Range : 210062 ... 224562 =    840.248 ...   898.248 secs\n",
      "Ready.\n",
      "Reading 0 ... 14500  =      0.000 ...    58.000 secs...\n"
     ]
    },
    {
     "name": "stderr",
     "output_type": "stream",
     "text": [
      "C:\\Users\\PESYLV~1\\AppData\\Local\\Temp/ipykernel_29536/564882533.py:16: FutureWarning: The frame.append method is deprecated and will be removed from pandas in a future version. Use pandas.concat instead.\n",
      "  df = df.append({\"data\": rawpd, \"age\": int(mlab[:2])+2.5}, ignore_index=True)\n"
     ]
    },
    {
     "name": "stdout",
     "output_type": "stream",
     "text": [
      "<class 'list'>\n",
      "Opening raw data file C:/Users/pesylvestre/Documents/Informatique/BRAIL/FY2023 In-House PoC3/In-HousePOC3/in_housepoc3/data/Lemon_PreDict\\sub-032304\\sub-032304_EC8_eeg.fif...\n",
      "Isotrak not found\n",
      "    Range : 241606 ... 256106 =    966.424 ...  1024.424 secs\n",
      "Ready.\n",
      "Reading 0 ... 14500  =      0.000 ...    58.000 secs...\n"
     ]
    },
    {
     "name": "stderr",
     "output_type": "stream",
     "text": [
      "C:\\Users\\PESYLV~1\\AppData\\Local\\Temp/ipykernel_29536/564882533.py:16: FutureWarning: The frame.append method is deprecated and will be removed from pandas in a future version. Use pandas.concat instead.\n",
      "  df = df.append({\"data\": rawpd, \"age\": int(mlab[:2])+2.5}, ignore_index=True)\n"
     ]
    },
    {
     "name": "stdout",
     "output_type": "stream",
     "text": [
      "<class 'list'>\n",
      "Opening raw data file C:/Users/pesylvestre/Documents/Informatique/BRAIL/FY2023 In-House PoC3/In-HousePOC3/in_housepoc3/data/Lemon_PreDict\\sub-032304\\sub-032304_EO1_eeg.fif...\n",
      "Isotrak not found\n",
      "    Range : 17698 ... 32198 =     70.792 ...   128.792 secs\n",
      "Ready.\n",
      "Reading 0 ... 14500  =      0.000 ...    58.000 secs...\n"
     ]
    },
    {
     "name": "stderr",
     "output_type": "stream",
     "text": [
      "C:\\Users\\PESYLV~1\\AppData\\Local\\Temp/ipykernel_29536/564882533.py:16: FutureWarning: The frame.append method is deprecated and will be removed from pandas in a future version. Use pandas.concat instead.\n",
      "  df = df.append({\"data\": rawpd, \"age\": int(mlab[:2])+2.5}, ignore_index=True)\n"
     ]
    },
    {
     "name": "stdout",
     "output_type": "stream",
     "text": [
      "<class 'list'>\n",
      "Opening raw data file C:/Users/pesylvestre/Documents/Informatique/BRAIL/FY2023 In-House PoC3/In-HousePOC3/in_housepoc3/data/Lemon_PreDict\\sub-032304\\sub-032304_EO2_eeg.fif...\n",
      "Isotrak not found\n",
      "    Range : 48826 ... 63327 =    195.304 ...   253.308 secs\n",
      "Ready.\n",
      "Reading 0 ... 14501  =      0.000 ...    58.004 secs...\n"
     ]
    },
    {
     "name": "stderr",
     "output_type": "stream",
     "text": [
      "C:\\Users\\PESYLV~1\\AppData\\Local\\Temp/ipykernel_29536/564882533.py:16: FutureWarning: The frame.append method is deprecated and will be removed from pandas in a future version. Use pandas.concat instead.\n",
      "  df = df.append({\"data\": rawpd, \"age\": int(mlab[:2])+2.5}, ignore_index=True)\n"
     ]
    },
    {
     "name": "stdout",
     "output_type": "stream",
     "text": [
      "<class 'list'>\n",
      "Opening raw data file C:/Users/pesylvestre/Documents/Informatique/BRAIL/FY2023 In-House PoC3/In-HousePOC3/in_housepoc3/data/Lemon_PreDict\\sub-032304\\sub-032304_EO3_eeg.fif...\n",
      "Isotrak not found\n",
      "    Range : 82479 ... 96980 =    329.916 ...   387.920 secs\n",
      "Ready.\n",
      "Reading 0 ... 14501  =      0.000 ...    58.004 secs...\n"
     ]
    },
    {
     "name": "stderr",
     "output_type": "stream",
     "text": [
      "C:\\Users\\PESYLV~1\\AppData\\Local\\Temp/ipykernel_29536/564882533.py:16: FutureWarning: The frame.append method is deprecated and will be removed from pandas in a future version. Use pandas.concat instead.\n",
      "  df = df.append({\"data\": rawpd, \"age\": int(mlab[:2])+2.5}, ignore_index=True)\n"
     ]
    },
    {
     "name": "stdout",
     "output_type": "stream",
     "text": [
      "<class 'list'>\n",
      "Opening raw data file C:/Users/pesylvestre/Documents/Informatique/BRAIL/FY2023 In-House PoC3/In-HousePOC3/in_housepoc3/data/Lemon_PreDict\\sub-032304\\sub-032304_EO4_eeg.fif...\n",
      "Isotrak not found\n",
      "    Range : 115264 ... 129764 =    461.056 ...   519.056 secs\n",
      "Ready.\n",
      "Reading 0 ... 14500  =      0.000 ...    58.000 secs...\n"
     ]
    },
    {
     "name": "stderr",
     "output_type": "stream",
     "text": [
      "C:\\Users\\PESYLV~1\\AppData\\Local\\Temp/ipykernel_29536/564882533.py:16: FutureWarning: The frame.append method is deprecated and will be removed from pandas in a future version. Use pandas.concat instead.\n",
      "  df = df.append({\"data\": rawpd, \"age\": int(mlab[:2])+2.5}, ignore_index=True)\n"
     ]
    },
    {
     "name": "stdout",
     "output_type": "stream",
     "text": [
      "<class 'list'>\n",
      "Opening raw data file C:/Users/pesylvestre/Documents/Informatique/BRAIL/FY2023 In-House PoC3/In-HousePOC3/in_housepoc3/data/Lemon_PreDict\\sub-032304\\sub-032304_EO5_eeg.fif...\n",
      "Isotrak not found\n",
      "    Range : 155022 ... 169523 =    620.088 ...   678.092 secs\n",
      "Ready.\n",
      "Reading 0 ... 14501  =      0.000 ...    58.004 secs...\n"
     ]
    },
    {
     "name": "stderr",
     "output_type": "stream",
     "text": [
      "C:\\Users\\PESYLV~1\\AppData\\Local\\Temp/ipykernel_29536/564882533.py:16: FutureWarning: The frame.append method is deprecated and will be removed from pandas in a future version. Use pandas.concat instead.\n",
      "  df = df.append({\"data\": rawpd, \"age\": int(mlab[:2])+2.5}, ignore_index=True)\n"
     ]
    },
    {
     "name": "stdout",
     "output_type": "stream",
     "text": [
      "<class 'list'>\n",
      "Opening raw data file C:/Users/pesylvestre/Documents/Informatique/BRAIL/FY2023 In-House PoC3/In-HousePOC3/in_housepoc3/data/Lemon_PreDict\\sub-032304\\sub-032304_EO6_eeg.fif...\n",
      "Isotrak not found\n",
      "    Range : 192102 ... 206602 =    768.408 ...   826.408 secs\n",
      "Ready.\n",
      "Reading 0 ... 14500  =      0.000 ...    58.000 secs...\n"
     ]
    },
    {
     "name": "stderr",
     "output_type": "stream",
     "text": [
      "C:\\Users\\PESYLV~1\\AppData\\Local\\Temp/ipykernel_29536/564882533.py:16: FutureWarning: The frame.append method is deprecated and will be removed from pandas in a future version. Use pandas.concat instead.\n",
      "  df = df.append({\"data\": rawpd, \"age\": int(mlab[:2])+2.5}, ignore_index=True)\n"
     ]
    },
    {
     "name": "stdout",
     "output_type": "stream",
     "text": [
      "<class 'list'>\n",
      "Opening raw data file C:/Users/pesylvestre/Documents/Informatique/BRAIL/FY2023 In-House PoC3/In-HousePOC3/in_housepoc3/data/Lemon_PreDict\\sub-032304\\sub-032304_EO7_eeg.fif...\n",
      "Isotrak not found\n",
      "    Range : 225612 ... 240112 =    902.448 ...   960.448 secs\n",
      "Ready.\n",
      "Reading 0 ... 14500  =      0.000 ...    58.000 secs...\n"
     ]
    },
    {
     "name": "stderr",
     "output_type": "stream",
     "text": [
      "C:\\Users\\PESYLV~1\\AppData\\Local\\Temp/ipykernel_29536/564882533.py:16: FutureWarning: The frame.append method is deprecated and will be removed from pandas in a future version. Use pandas.concat instead.\n",
      "  df = df.append({\"data\": rawpd, \"age\": int(mlab[:2])+2.5}, ignore_index=True)\n"
     ]
    },
    {
     "name": "stdout",
     "output_type": "stream",
     "text": [
      "<class 'list'>\n",
      "Opening raw data file C:/Users/pesylvestre/Documents/Informatique/BRAIL/FY2023 In-House PoC3/In-HousePOC3/in_housepoc3/data/Lemon_PreDict\\sub-032304\\sub-032304_EO8_eeg.fif...\n",
      "Isotrak not found\n",
      "    Range : 257146 ... 271646 =   1028.584 ...  1086.584 secs\n",
      "Ready.\n",
      "Reading 0 ... 14500  =      0.000 ...    58.000 secs...\n"
     ]
    },
    {
     "name": "stderr",
     "output_type": "stream",
     "text": [
      "C:\\Users\\PESYLV~1\\AppData\\Local\\Temp/ipykernel_29536/564882533.py:16: FutureWarning: The frame.append method is deprecated and will be removed from pandas in a future version. Use pandas.concat instead.\n",
      "  df = df.append({\"data\": rawpd, \"age\": int(mlab[:2])+2.5}, ignore_index=True)\n"
     ]
    },
    {
     "name": "stdout",
     "output_type": "stream",
     "text": [
      "<class 'list'>\n",
      "Opening raw data file C:/Users/pesylvestre/Documents/Informatique/BRAIL/FY2023 In-House PoC3/In-HousePOC3/in_housepoc3/data/Lemon_PreDict\\sub-032305\\sub-032305_EC1_eeg.fif...\n",
      "Isotrak not found\n",
      "    Range : 1599 ... 16100 =      6.396 ...    64.400 secs\n",
      "Ready.\n",
      "Reading 0 ... 14501  =      0.000 ...    58.004 secs...\n"
     ]
    },
    {
     "name": "stderr",
     "output_type": "stream",
     "text": [
      "C:\\Users\\PESYLV~1\\AppData\\Local\\Temp/ipykernel_29536/564882533.py:16: FutureWarning: The frame.append method is deprecated and will be removed from pandas in a future version. Use pandas.concat instead.\n",
      "  df = df.append({\"data\": rawpd, \"age\": int(mlab[:2])+2.5}, ignore_index=True)\n"
     ]
    },
    {
     "name": "stdout",
     "output_type": "stream",
     "text": [
      "<class 'list'>\n",
      "Opening raw data file C:/Users/pesylvestre/Documents/Informatique/BRAIL/FY2023 In-House PoC3/In-HousePOC3/in_housepoc3/data/Lemon_PreDict\\sub-032305\\sub-032305_EC2_eeg.fif...\n",
      "Isotrak not found\n",
      "    Range : 32608 ... 47108 =    130.432 ...   188.432 secs\n",
      "Ready.\n",
      "Reading 0 ... 14500  =      0.000 ...    58.000 secs...\n"
     ]
    },
    {
     "name": "stderr",
     "output_type": "stream",
     "text": [
      "C:\\Users\\PESYLV~1\\AppData\\Local\\Temp/ipykernel_29536/564882533.py:16: FutureWarning: The frame.append method is deprecated and will be removed from pandas in a future version. Use pandas.concat instead.\n",
      "  df = df.append({\"data\": rawpd, \"age\": int(mlab[:2])+2.5}, ignore_index=True)\n"
     ]
    },
    {
     "name": "stdout",
     "output_type": "stream",
     "text": [
      "<class 'list'>\n",
      "Opening raw data file C:/Users/pesylvestre/Documents/Informatique/BRAIL/FY2023 In-House PoC3/In-HousePOC3/in_housepoc3/data/Lemon_PreDict\\sub-032305\\sub-032305_EC3_eeg.fif...\n",
      "Isotrak not found\n",
      "    Range : 63766 ... 78266 =    255.064 ...   313.064 secs\n",
      "Ready.\n",
      "Reading 0 ... 14500  =      0.000 ...    58.000 secs...\n"
     ]
    },
    {
     "name": "stderr",
     "output_type": "stream",
     "text": [
      "C:\\Users\\PESYLV~1\\AppData\\Local\\Temp/ipykernel_29536/564882533.py:16: FutureWarning: The frame.append method is deprecated and will be removed from pandas in a future version. Use pandas.concat instead.\n",
      "  df = df.append({\"data\": rawpd, \"age\": int(mlab[:2])+2.5}, ignore_index=True)\n"
     ]
    },
    {
     "name": "stdout",
     "output_type": "stream",
     "text": [
      "<class 'list'>\n",
      "Opening raw data file C:/Users/pesylvestre/Documents/Informatique/BRAIL/FY2023 In-House PoC3/In-HousePOC3/in_housepoc3/data/Lemon_PreDict\\sub-032305\\sub-032305_EC4_eeg.fif...\n",
      "Isotrak not found\n",
      "    Range : 95006 ... 109506 =    380.024 ...   438.024 secs\n",
      "Ready.\n",
      "Reading 0 ... 14500  =      0.000 ...    58.000 secs...\n"
     ]
    },
    {
     "name": "stderr",
     "output_type": "stream",
     "text": [
      "C:\\Users\\PESYLV~1\\AppData\\Local\\Temp/ipykernel_29536/564882533.py:16: FutureWarning: The frame.append method is deprecated and will be removed from pandas in a future version. Use pandas.concat instead.\n",
      "  df = df.append({\"data\": rawpd, \"age\": int(mlab[:2])+2.5}, ignore_index=True)\n"
     ]
    },
    {
     "name": "stdout",
     "output_type": "stream",
     "text": [
      "<class 'list'>\n",
      "Opening raw data file C:/Users/pesylvestre/Documents/Informatique/BRAIL/FY2023 In-House PoC3/In-HousePOC3/in_housepoc3/data/Lemon_PreDict\\sub-032305\\sub-032305_EC5_eeg.fif...\n",
      "Isotrak not found\n",
      "    Range : 127752 ... 142252 =    511.008 ...   569.008 secs\n",
      "Ready.\n",
      "Reading 0 ... 14500  =      0.000 ...    58.000 secs...\n"
     ]
    },
    {
     "name": "stderr",
     "output_type": "stream",
     "text": [
      "C:\\Users\\PESYLV~1\\AppData\\Local\\Temp/ipykernel_29536/564882533.py:16: FutureWarning: The frame.append method is deprecated and will be removed from pandas in a future version. Use pandas.concat instead.\n",
      "  df = df.append({\"data\": rawpd, \"age\": int(mlab[:2])+2.5}, ignore_index=True)\n"
     ]
    },
    {
     "name": "stdout",
     "output_type": "stream",
     "text": [
      "<class 'list'>\n",
      "Opening raw data file C:/Users/pesylvestre/Documents/Informatique/BRAIL/FY2023 In-House PoC3/In-HousePOC3/in_housepoc3/data/Lemon_PreDict\\sub-032305\\sub-032305_EC6_eeg.fif...\n",
      "Isotrak not found\n",
      "    Range : 158643 ... 173144 =    634.572 ...   692.576 secs\n",
      "Ready.\n",
      "Reading 0 ... 14501  =      0.000 ...    58.004 secs...\n"
     ]
    },
    {
     "name": "stderr",
     "output_type": "stream",
     "text": [
      "C:\\Users\\PESYLV~1\\AppData\\Local\\Temp/ipykernel_29536/564882533.py:16: FutureWarning: The frame.append method is deprecated and will be removed from pandas in a future version. Use pandas.concat instead.\n",
      "  df = df.append({\"data\": rawpd, \"age\": int(mlab[:2])+2.5}, ignore_index=True)\n"
     ]
    },
    {
     "name": "stdout",
     "output_type": "stream",
     "text": [
      "<class 'list'>\n",
      "Opening raw data file C:/Users/pesylvestre/Documents/Informatique/BRAIL/FY2023 In-House PoC3/In-HousePOC3/in_housepoc3/data/Lemon_PreDict\\sub-032305\\sub-032305_EC7_eeg.fif...\n",
      "Isotrak not found\n",
      "    Range : 189645 ... 204145 =    758.580 ...   816.580 secs\n",
      "Ready.\n",
      "Reading 0 ... 14500  =      0.000 ...    58.000 secs...\n"
     ]
    },
    {
     "name": "stderr",
     "output_type": "stream",
     "text": [
      "C:\\Users\\PESYLV~1\\AppData\\Local\\Temp/ipykernel_29536/564882533.py:16: FutureWarning: The frame.append method is deprecated and will be removed from pandas in a future version. Use pandas.concat instead.\n",
      "  df = df.append({\"data\": rawpd, \"age\": int(mlab[:2])+2.5}, ignore_index=True)\n"
     ]
    },
    {
     "name": "stdout",
     "output_type": "stream",
     "text": [
      "<class 'list'>\n",
      "Opening raw data file C:/Users/pesylvestre/Documents/Informatique/BRAIL/FY2023 In-House PoC3/In-HousePOC3/in_housepoc3/data/Lemon_PreDict\\sub-032305\\sub-032305_EC8_eeg.fif...\n",
      "Isotrak not found\n",
      "    Range : 220919 ... 235419 =    883.676 ...   941.676 secs\n",
      "Ready.\n",
      "Reading 0 ... 14500  =      0.000 ...    58.000 secs...\n"
     ]
    },
    {
     "name": "stderr",
     "output_type": "stream",
     "text": [
      "C:\\Users\\PESYLV~1\\AppData\\Local\\Temp/ipykernel_29536/564882533.py:16: FutureWarning: The frame.append method is deprecated and will be removed from pandas in a future version. Use pandas.concat instead.\n",
      "  df = df.append({\"data\": rawpd, \"age\": int(mlab[:2])+2.5}, ignore_index=True)\n"
     ]
    },
    {
     "name": "stdout",
     "output_type": "stream",
     "text": [
      "<class 'list'>\n",
      "Opening raw data file C:/Users/pesylvestre/Documents/Informatique/BRAIL/FY2023 In-House PoC3/In-HousePOC3/in_housepoc3/data/Lemon_PreDict\\sub-032305\\sub-032305_EO1_eeg.fif...\n",
      "Isotrak not found\n",
      "    Range : 17076 ... 31576 =     68.304 ...   126.304 secs\n",
      "Ready.\n",
      "Reading 0 ... 14500  =      0.000 ...    58.000 secs...\n"
     ]
    },
    {
     "name": "stderr",
     "output_type": "stream",
     "text": [
      "C:\\Users\\PESYLV~1\\AppData\\Local\\Temp/ipykernel_29536/564882533.py:16: FutureWarning: The frame.append method is deprecated and will be removed from pandas in a future version. Use pandas.concat instead.\n",
      "  df = df.append({\"data\": rawpd, \"age\": int(mlab[:2])+2.5}, ignore_index=True)\n"
     ]
    },
    {
     "name": "stdout",
     "output_type": "stream",
     "text": [
      "<class 'list'>\n",
      "Opening raw data file C:/Users/pesylvestre/Documents/Informatique/BRAIL/FY2023 In-House PoC3/In-HousePOC3/in_housepoc3/data/Lemon_PreDict\\sub-032305\\sub-032305_EO2_eeg.fif...\n",
      "Isotrak not found\n",
      "    Range : 48191 ... 62691 =    192.764 ...   250.764 secs\n",
      "Ready.\n",
      "Reading 0 ... 14500  =      0.000 ...    58.000 secs...\n"
     ]
    },
    {
     "name": "stderr",
     "output_type": "stream",
     "text": [
      "C:\\Users\\PESYLV~1\\AppData\\Local\\Temp/ipykernel_29536/564882533.py:16: FutureWarning: The frame.append method is deprecated and will be removed from pandas in a future version. Use pandas.concat instead.\n",
      "  df = df.append({\"data\": rawpd, \"age\": int(mlab[:2])+2.5}, ignore_index=True)\n"
     ]
    },
    {
     "name": "stdout",
     "output_type": "stream",
     "text": [
      "<class 'list'>\n",
      "Opening raw data file C:/Users/pesylvestre/Documents/Informatique/BRAIL/FY2023 In-House PoC3/In-HousePOC3/in_housepoc3/data/Lemon_PreDict\\sub-032305\\sub-032305_EO3_eeg.fif...\n",
      "Isotrak not found\n",
      "    Range : 79391 ... 93891 =    317.564 ...   375.564 secs\n",
      "Ready.\n",
      "Reading 0 ... 14500  =      0.000 ...    58.000 secs...\n"
     ]
    },
    {
     "name": "stderr",
     "output_type": "stream",
     "text": [
      "C:\\Users\\PESYLV~1\\AppData\\Local\\Temp/ipykernel_29536/564882533.py:16: FutureWarning: The frame.append method is deprecated and will be removed from pandas in a future version. Use pandas.concat instead.\n",
      "  df = df.append({\"data\": rawpd, \"age\": int(mlab[:2])+2.5}, ignore_index=True)\n"
     ]
    },
    {
     "name": "stdout",
     "output_type": "stream",
     "text": [
      "<class 'list'>\n",
      "Opening raw data file C:/Users/pesylvestre/Documents/Informatique/BRAIL/FY2023 In-House PoC3/In-HousePOC3/in_housepoc3/data/Lemon_PreDict\\sub-032305\\sub-032305_EO4_eeg.fif...\n",
      "Isotrak not found\n",
      "    Range : 112223 ... 126724 =    448.892 ...   506.896 secs\n",
      "Ready.\n",
      "Reading 0 ... 14501  =      0.000 ...    58.004 secs...\n"
     ]
    },
    {
     "name": "stderr",
     "output_type": "stream",
     "text": [
      "C:\\Users\\PESYLV~1\\AppData\\Local\\Temp/ipykernel_29536/564882533.py:16: FutureWarning: The frame.append method is deprecated and will be removed from pandas in a future version. Use pandas.concat instead.\n",
      "  df = df.append({\"data\": rawpd, \"age\": int(mlab[:2])+2.5}, ignore_index=True)\n"
     ]
    },
    {
     "name": "stdout",
     "output_type": "stream",
     "text": [
      "<class 'list'>\n",
      "Opening raw data file C:/Users/pesylvestre/Documents/Informatique/BRAIL/FY2023 In-House PoC3/In-HousePOC3/in_housepoc3/data/Lemon_PreDict\\sub-032305\\sub-032305_EO5_eeg.fif...\n",
      "Isotrak not found\n",
      "    Range : 143160 ... 157660 =    572.640 ...   630.640 secs\n",
      "Ready.\n",
      "Reading 0 ... 14500  =      0.000 ...    58.000 secs...\n"
     ]
    },
    {
     "name": "stderr",
     "output_type": "stream",
     "text": [
      "C:\\Users\\PESYLV~1\\AppData\\Local\\Temp/ipykernel_29536/564882533.py:16: FutureWarning: The frame.append method is deprecated and will be removed from pandas in a future version. Use pandas.concat instead.\n",
      "  df = df.append({\"data\": rawpd, \"age\": int(mlab[:2])+2.5}, ignore_index=True)\n"
     ]
    },
    {
     "name": "stdout",
     "output_type": "stream",
     "text": [
      "<class 'list'>\n",
      "Opening raw data file C:/Users/pesylvestre/Documents/Informatique/BRAIL/FY2023 In-House PoC3/In-HousePOC3/in_housepoc3/data/Lemon_PreDict\\sub-032305\\sub-032305_EO6_eeg.fif...\n",
      "Isotrak not found\n",
      "    Range : 174143 ... 188643 =    696.572 ...   754.572 secs\n",
      "Ready.\n",
      "Reading 0 ... 14500  =      0.000 ...    58.000 secs...\n"
     ]
    },
    {
     "name": "stderr",
     "output_type": "stream",
     "text": [
      "C:\\Users\\PESYLV~1\\AppData\\Local\\Temp/ipykernel_29536/564882533.py:16: FutureWarning: The frame.append method is deprecated and will be removed from pandas in a future version. Use pandas.concat instead.\n",
      "  df = df.append({\"data\": rawpd, \"age\": int(mlab[:2])+2.5}, ignore_index=True)\n"
     ]
    },
    {
     "name": "stdout",
     "output_type": "stream",
     "text": [
      "<class 'list'>\n",
      "Opening raw data file C:/Users/pesylvestre/Documents/Informatique/BRAIL/FY2023 In-House PoC3/In-HousePOC3/in_housepoc3/data/Lemon_PreDict\\sub-032305\\sub-032305_EO7_eeg.fif...\n",
      "Isotrak not found\n",
      "    Range : 205134 ... 219635 =    820.536 ...   878.540 secs\n",
      "Ready.\n",
      "Reading 0 ... 14501  =      0.000 ...    58.004 secs...\n"
     ]
    },
    {
     "name": "stderr",
     "output_type": "stream",
     "text": [
      "C:\\Users\\PESYLV~1\\AppData\\Local\\Temp/ipykernel_29536/564882533.py:16: FutureWarning: The frame.append method is deprecated and will be removed from pandas in a future version. Use pandas.concat instead.\n",
      "  df = df.append({\"data\": rawpd, \"age\": int(mlab[:2])+2.5}, ignore_index=True)\n"
     ]
    },
    {
     "name": "stdout",
     "output_type": "stream",
     "text": [
      "<class 'list'>\n",
      "Opening raw data file C:/Users/pesylvestre/Documents/Informatique/BRAIL/FY2023 In-House PoC3/In-HousePOC3/in_housepoc3/data/Lemon_PreDict\\sub-032305\\sub-032305_EO8_eeg.fif...\n",
      "Isotrak not found\n",
      "    Range : 236397 ... 250897 =    945.588 ...  1003.588 secs\n",
      "Ready.\n",
      "Reading 0 ... 14500  =      0.000 ...    58.000 secs...\n"
     ]
    },
    {
     "name": "stderr",
     "output_type": "stream",
     "text": [
      "C:\\Users\\PESYLV~1\\AppData\\Local\\Temp/ipykernel_29536/564882533.py:16: FutureWarning: The frame.append method is deprecated and will be removed from pandas in a future version. Use pandas.concat instead.\n",
      "  df = df.append({\"data\": rawpd, \"age\": int(mlab[:2])+2.5}, ignore_index=True)\n"
     ]
    },
    {
     "name": "stdout",
     "output_type": "stream",
     "text": [
      "<class 'list'>\n",
      "Opening raw data file C:/Users/pesylvestre/Documents/Informatique/BRAIL/FY2023 In-House PoC3/In-HousePOC3/in_housepoc3/data/Lemon_PreDict\\sub-032306\\sub-032306_EC1_eeg.fif...\n",
      "Isotrak not found\n",
      "    Range : 1675 ... 16175 =      6.700 ...    64.700 secs\n",
      "Ready.\n",
      "Reading 0 ... 14500  =      0.000 ...    58.000 secs...\n"
     ]
    },
    {
     "name": "stderr",
     "output_type": "stream",
     "text": [
      "C:\\Users\\PESYLV~1\\AppData\\Local\\Temp/ipykernel_29536/564882533.py:16: FutureWarning: The frame.append method is deprecated and will be removed from pandas in a future version. Use pandas.concat instead.\n",
      "  df = df.append({\"data\": rawpd, \"age\": int(mlab[:2])+2.5}, ignore_index=True)\n"
     ]
    },
    {
     "name": "stdout",
     "output_type": "stream",
     "text": [
      "<class 'list'>\n",
      "Opening raw data file C:/Users/pesylvestre/Documents/Informatique/BRAIL/FY2023 In-House PoC3/In-HousePOC3/in_housepoc3/data/Lemon_PreDict\\sub-032306\\sub-032306_EC2_eeg.fif...\n",
      "Isotrak not found\n",
      "    Range : 32718 ... 47219 =    130.872 ...   188.876 secs\n",
      "Ready.\n",
      "Reading 0 ... 14501  =      0.000 ...    58.004 secs...\n"
     ]
    },
    {
     "name": "stderr",
     "output_type": "stream",
     "text": [
      "C:\\Users\\PESYLV~1\\AppData\\Local\\Temp/ipykernel_29536/564882533.py:16: FutureWarning: The frame.append method is deprecated and will be removed from pandas in a future version. Use pandas.concat instead.\n",
      "  df = df.append({\"data\": rawpd, \"age\": int(mlab[:2])+2.5}, ignore_index=True)\n"
     ]
    },
    {
     "name": "stdout",
     "output_type": "stream",
     "text": [
      "<class 'list'>\n",
      "Opening raw data file C:/Users/pesylvestre/Documents/Informatique/BRAIL/FY2023 In-House PoC3/In-HousePOC3/in_housepoc3/data/Lemon_PreDict\\sub-032306\\sub-032306_EC3_eeg.fif...\n",
      "Isotrak not found\n",
      "    Range : 63699 ... 78199 =    254.796 ...   312.796 secs\n",
      "Ready.\n",
      "Reading 0 ... 14500  =      0.000 ...    58.000 secs...\n"
     ]
    },
    {
     "name": "stderr",
     "output_type": "stream",
     "text": [
      "C:\\Users\\PESYLV~1\\AppData\\Local\\Temp/ipykernel_29536/564882533.py:16: FutureWarning: The frame.append method is deprecated and will be removed from pandas in a future version. Use pandas.concat instead.\n",
      "  df = df.append({\"data\": rawpd, \"age\": int(mlab[:2])+2.5}, ignore_index=True)\n"
     ]
    },
    {
     "name": "stdout",
     "output_type": "stream",
     "text": [
      "<class 'list'>\n",
      "Opening raw data file C:/Users/pesylvestre/Documents/Informatique/BRAIL/FY2023 In-House PoC3/In-HousePOC3/in_housepoc3/data/Lemon_PreDict\\sub-032306\\sub-032306_EC4_eeg.fif...\n",
      "Isotrak not found\n",
      "    Range : 95801 ... 110301 =    383.204 ...   441.204 secs\n",
      "Ready.\n",
      "Reading 0 ... 14500  =      0.000 ...    58.000 secs...\n"
     ]
    },
    {
     "name": "stderr",
     "output_type": "stream",
     "text": [
      "C:\\Users\\PESYLV~1\\AppData\\Local\\Temp/ipykernel_29536/564882533.py:16: FutureWarning: The frame.append method is deprecated and will be removed from pandas in a future version. Use pandas.concat instead.\n",
      "  df = df.append({\"data\": rawpd, \"age\": int(mlab[:2])+2.5}, ignore_index=True)\n"
     ]
    },
    {
     "name": "stdout",
     "output_type": "stream",
     "text": [
      "<class 'list'>\n",
      "Opening raw data file C:/Users/pesylvestre/Documents/Informatique/BRAIL/FY2023 In-House PoC3/In-HousePOC3/in_housepoc3/data/Lemon_PreDict\\sub-032306\\sub-032306_EC5_eeg.fif...\n",
      "Isotrak not found\n",
      "    Range : 127779 ... 142279 =    511.116 ...   569.116 secs\n",
      "Ready.\n",
      "Reading 0 ... 14500  =      0.000 ...    58.000 secs...\n"
     ]
    },
    {
     "name": "stderr",
     "output_type": "stream",
     "text": [
      "C:\\Users\\PESYLV~1\\AppData\\Local\\Temp/ipykernel_29536/564882533.py:16: FutureWarning: The frame.append method is deprecated and will be removed from pandas in a future version. Use pandas.concat instead.\n",
      "  df = df.append({\"data\": rawpd, \"age\": int(mlab[:2])+2.5}, ignore_index=True)\n"
     ]
    },
    {
     "name": "stdout",
     "output_type": "stream",
     "text": [
      "<class 'list'>\n",
      "Opening raw data file C:/Users/pesylvestre/Documents/Informatique/BRAIL/FY2023 In-House PoC3/In-HousePOC3/in_housepoc3/data/Lemon_PreDict\\sub-032306\\sub-032306_EC6_eeg.fif...\n",
      "Isotrak not found\n",
      "    Range : 158910 ... 173411 =    635.640 ...   693.644 secs\n",
      "Ready.\n",
      "Reading 0 ... 14501  =      0.000 ...    58.004 secs...\n"
     ]
    },
    {
     "name": "stderr",
     "output_type": "stream",
     "text": [
      "C:\\Users\\PESYLV~1\\AppData\\Local\\Temp/ipykernel_29536/564882533.py:16: FutureWarning: The frame.append method is deprecated and will be removed from pandas in a future version. Use pandas.concat instead.\n",
      "  df = df.append({\"data\": rawpd, \"age\": int(mlab[:2])+2.5}, ignore_index=True)\n"
     ]
    },
    {
     "name": "stdout",
     "output_type": "stream",
     "text": [
      "<class 'list'>\n",
      "Opening raw data file C:/Users/pesylvestre/Documents/Informatique/BRAIL/FY2023 In-House PoC3/In-HousePOC3/in_housepoc3/data/Lemon_PreDict\\sub-032306\\sub-032306_EC7_eeg.fif...\n",
      "Isotrak not found\n",
      "    Range : 191286 ... 205787 =    765.144 ...   823.148 secs\n",
      "Ready.\n",
      "Reading 0 ... 14501  =      0.000 ...    58.004 secs...\n"
     ]
    },
    {
     "name": "stderr",
     "output_type": "stream",
     "text": [
      "C:\\Users\\PESYLV~1\\AppData\\Local\\Temp/ipykernel_29536/564882533.py:16: FutureWarning: The frame.append method is deprecated and will be removed from pandas in a future version. Use pandas.concat instead.\n",
      "  df = df.append({\"data\": rawpd, \"age\": int(mlab[:2])+2.5}, ignore_index=True)\n"
     ]
    },
    {
     "name": "stdout",
     "output_type": "stream",
     "text": [
      "<class 'list'>\n",
      "Opening raw data file C:/Users/pesylvestre/Documents/Informatique/BRAIL/FY2023 In-House PoC3/In-HousePOC3/in_housepoc3/data/Lemon_PreDict\\sub-032306\\sub-032306_EC8_eeg.fif...\n",
      "Isotrak not found\n",
      "    Range : 222522 ... 237023 =    890.088 ...   948.092 secs\n",
      "Ready.\n",
      "Reading 0 ... 14501  =      0.000 ...    58.004 secs...\n"
     ]
    },
    {
     "name": "stderr",
     "output_type": "stream",
     "text": [
      "C:\\Users\\PESYLV~1\\AppData\\Local\\Temp/ipykernel_29536/564882533.py:16: FutureWarning: The frame.append method is deprecated and will be removed from pandas in a future version. Use pandas.concat instead.\n",
      "  df = df.append({\"data\": rawpd, \"age\": int(mlab[:2])+2.5}, ignore_index=True)\n"
     ]
    },
    {
     "name": "stdout",
     "output_type": "stream",
     "text": [
      "<class 'list'>\n",
      "Opening raw data file C:/Users/pesylvestre/Documents/Informatique/BRAIL/FY2023 In-House PoC3/In-HousePOC3/in_housepoc3/data/Lemon_PreDict\\sub-032306\\sub-032306_EO1_eeg.fif...\n",
      "Isotrak not found\n",
      "    Range : 17150 ... 31651 =     68.600 ...   126.604 secs\n",
      "Ready.\n",
      "Reading 0 ... 14501  =      0.000 ...    58.004 secs...\n"
     ]
    },
    {
     "name": "stderr",
     "output_type": "stream",
     "text": [
      "C:\\Users\\PESYLV~1\\AppData\\Local\\Temp/ipykernel_29536/564882533.py:16: FutureWarning: The frame.append method is deprecated and will be removed from pandas in a future version. Use pandas.concat instead.\n",
      "  df = df.append({\"data\": rawpd, \"age\": int(mlab[:2])+2.5}, ignore_index=True)\n"
     ]
    },
    {
     "name": "stdout",
     "output_type": "stream",
     "text": [
      "<class 'list'>\n",
      "Opening raw data file C:/Users/pesylvestre/Documents/Informatique/BRAIL/FY2023 In-House PoC3/In-HousePOC3/in_housepoc3/data/Lemon_PreDict\\sub-032306\\sub-032306_EO2_eeg.fif...\n",
      "Isotrak not found\n",
      "    Range : 48142 ... 62642 =    192.568 ...   250.568 secs\n",
      "Ready.\n",
      "Reading 0 ... 14500  =      0.000 ...    58.000 secs...\n"
     ]
    },
    {
     "name": "stderr",
     "output_type": "stream",
     "text": [
      "C:\\Users\\PESYLV~1\\AppData\\Local\\Temp/ipykernel_29536/564882533.py:16: FutureWarning: The frame.append method is deprecated and will be removed from pandas in a future version. Use pandas.concat instead.\n",
      "  df = df.append({\"data\": rawpd, \"age\": int(mlab[:2])+2.5}, ignore_index=True)\n"
     ]
    },
    {
     "name": "stdout",
     "output_type": "stream",
     "text": [
      "<class 'list'>\n",
      "Opening raw data file C:/Users/pesylvestre/Documents/Informatique/BRAIL/FY2023 In-House PoC3/In-HousePOC3/in_housepoc3/data/Lemon_PreDict\\sub-032306\\sub-032306_EO3_eeg.fif...\n",
      "Isotrak not found\n",
      "    Range : 79631 ... 94131 =    318.524 ...   376.524 secs\n",
      "Ready.\n",
      "Reading 0 ... 14500  =      0.000 ...    58.000 secs...\n"
     ]
    },
    {
     "name": "stderr",
     "output_type": "stream",
     "text": [
      "C:\\Users\\PESYLV~1\\AppData\\Local\\Temp/ipykernel_29536/564882533.py:16: FutureWarning: The frame.append method is deprecated and will be removed from pandas in a future version. Use pandas.concat instead.\n",
      "  df = df.append({\"data\": rawpd, \"age\": int(mlab[:2])+2.5}, ignore_index=True)\n"
     ]
    },
    {
     "name": "stdout",
     "output_type": "stream",
     "text": [
      "<class 'list'>\n",
      "Opening raw data file C:/Users/pesylvestre/Documents/Informatique/BRAIL/FY2023 In-House PoC3/In-HousePOC3/in_housepoc3/data/Lemon_PreDict\\sub-032306\\sub-032306_EO4_eeg.fif...\n",
      "Isotrak not found\n",
      "    Range : 111387 ... 125888 =    445.548 ...   503.552 secs\n",
      "Ready.\n",
      "Reading 0 ... 14501  =      0.000 ...    58.004 secs...\n"
     ]
    },
    {
     "name": "stderr",
     "output_type": "stream",
     "text": [
      "C:\\Users\\PESYLV~1\\AppData\\Local\\Temp/ipykernel_29536/564882533.py:16: FutureWarning: The frame.append method is deprecated and will be removed from pandas in a future version. Use pandas.concat instead.\n",
      "  df = df.append({\"data\": rawpd, \"age\": int(mlab[:2])+2.5}, ignore_index=True)\n"
     ]
    },
    {
     "name": "stdout",
     "output_type": "stream",
     "text": [
      "<class 'list'>\n",
      "Opening raw data file C:/Users/pesylvestre/Documents/Informatique/BRAIL/FY2023 In-House PoC3/In-HousePOC3/in_housepoc3/data/Lemon_PreDict\\sub-032306\\sub-032306_EO5_eeg.fif...\n",
      "Isotrak not found\n",
      "    Range : 143266 ... 157766 =    573.064 ...   631.064 secs\n",
      "Ready.\n",
      "Reading 0 ... 14500  =      0.000 ...    58.000 secs...\n"
     ]
    },
    {
     "name": "stderr",
     "output_type": "stream",
     "text": [
      "C:\\Users\\PESYLV~1\\AppData\\Local\\Temp/ipykernel_29536/564882533.py:16: FutureWarning: The frame.append method is deprecated and will be removed from pandas in a future version. Use pandas.concat instead.\n",
      "  df = df.append({\"data\": rawpd, \"age\": int(mlab[:2])+2.5}, ignore_index=True)\n"
     ]
    },
    {
     "name": "stdout",
     "output_type": "stream",
     "text": [
      "<class 'list'>\n",
      "Opening raw data file C:/Users/pesylvestre/Documents/Informatique/BRAIL/FY2023 In-House PoC3/In-HousePOC3/in_housepoc3/data/Lemon_PreDict\\sub-032306\\sub-032306_EO6_eeg.fif...\n",
      "Isotrak not found\n",
      "    Range : 174522 ... 189023 =    698.088 ...   756.092 secs\n",
      "Ready.\n",
      "Reading 0 ... 14501  =      0.000 ...    58.004 secs...\n"
     ]
    },
    {
     "name": "stderr",
     "output_type": "stream",
     "text": [
      "C:\\Users\\PESYLV~1\\AppData\\Local\\Temp/ipykernel_29536/564882533.py:16: FutureWarning: The frame.append method is deprecated and will be removed from pandas in a future version. Use pandas.concat instead.\n",
      "  df = df.append({\"data\": rawpd, \"age\": int(mlab[:2])+2.5}, ignore_index=True)\n"
     ]
    },
    {
     "name": "stdout",
     "output_type": "stream",
     "text": [
      "<class 'list'>\n",
      "Opening raw data file C:/Users/pesylvestre/Documents/Informatique/BRAIL/FY2023 In-House PoC3/In-HousePOC3/in_housepoc3/data/Lemon_PreDict\\sub-032306\\sub-032306_EO7_eeg.fif...\n",
      "Isotrak not found\n",
      "    Range : 206703 ... 221204 =    826.812 ...   884.816 secs\n",
      "Ready.\n",
      "Reading 0 ... 14501  =      0.000 ...    58.004 secs...\n"
     ]
    },
    {
     "name": "stderr",
     "output_type": "stream",
     "text": [
      "C:\\Users\\PESYLV~1\\AppData\\Local\\Temp/ipykernel_29536/564882533.py:16: FutureWarning: The frame.append method is deprecated and will be removed from pandas in a future version. Use pandas.concat instead.\n",
      "  df = df.append({\"data\": rawpd, \"age\": int(mlab[:2])+2.5}, ignore_index=True)\n"
     ]
    },
    {
     "name": "stdout",
     "output_type": "stream",
     "text": [
      "<class 'list'>\n",
      "Opening raw data file C:/Users/pesylvestre/Documents/Informatique/BRAIL/FY2023 In-House PoC3/In-HousePOC3/in_housepoc3/data/Lemon_PreDict\\sub-032306\\sub-032306_EO8_eeg.fif...\n",
      "Isotrak not found\n",
      "    Range : 237996 ... 252496 =    951.984 ...  1009.984 secs\n",
      "Ready.\n",
      "Reading 0 ... 14500  =      0.000 ...    58.000 secs...\n"
     ]
    },
    {
     "name": "stderr",
     "output_type": "stream",
     "text": [
      "C:\\Users\\PESYLV~1\\AppData\\Local\\Temp/ipykernel_29536/564882533.py:16: FutureWarning: The frame.append method is deprecated and will be removed from pandas in a future version. Use pandas.concat instead.\n",
      "  df = df.append({\"data\": rawpd, \"age\": int(mlab[:2])+2.5}, ignore_index=True)\n"
     ]
    },
    {
     "name": "stdout",
     "output_type": "stream",
     "text": [
      "<class 'list'>\n",
      "Opening raw data file C:/Users/pesylvestre/Documents/Informatique/BRAIL/FY2023 In-House PoC3/In-HousePOC3/in_housepoc3/data/Lemon_PreDict\\sub-032307\\sub-032307_EC1_eeg.fif...\n",
      "Isotrak not found\n",
      "    Range : 2436 ... 16937 =      9.744 ...    67.748 secs\n",
      "Ready.\n",
      "Reading 0 ... 14501  =      0.000 ...    58.004 secs...\n"
     ]
    },
    {
     "name": "stderr",
     "output_type": "stream",
     "text": [
      "C:\\Users\\PESYLV~1\\AppData\\Local\\Temp/ipykernel_29536/564882533.py:16: FutureWarning: The frame.append method is deprecated and will be removed from pandas in a future version. Use pandas.concat instead.\n",
      "  df = df.append({\"data\": rawpd, \"age\": int(mlab[:2])+2.5}, ignore_index=True)\n"
     ]
    },
    {
     "name": "stdout",
     "output_type": "stream",
     "text": [
      "<class 'list'>\n",
      "Opening raw data file C:/Users/pesylvestre/Documents/Informatique/BRAIL/FY2023 In-House PoC3/In-HousePOC3/in_housepoc3/data/Lemon_PreDict\\sub-032307\\sub-032307_EC2_eeg.fif...\n",
      "Isotrak not found\n",
      "    Range : 33386 ... 47886 =    133.544 ...   191.544 secs\n",
      "Ready.\n",
      "Reading 0 ... 14500  =      0.000 ...    58.000 secs...\n"
     ]
    },
    {
     "name": "stderr",
     "output_type": "stream",
     "text": [
      "C:\\Users\\PESYLV~1\\AppData\\Local\\Temp/ipykernel_29536/564882533.py:16: FutureWarning: The frame.append method is deprecated and will be removed from pandas in a future version. Use pandas.concat instead.\n",
      "  df = df.append({\"data\": rawpd, \"age\": int(mlab[:2])+2.5}, ignore_index=True)\n"
     ]
    },
    {
     "name": "stdout",
     "output_type": "stream",
     "text": [
      "<class 'list'>\n",
      "Opening raw data file C:/Users/pesylvestre/Documents/Informatique/BRAIL/FY2023 In-House PoC3/In-HousePOC3/in_housepoc3/data/Lemon_PreDict\\sub-032307\\sub-032307_EC3_eeg.fif...\n",
      "Isotrak not found\n",
      "    Range : 64380 ... 78880 =    257.520 ...   315.520 secs\n",
      "Ready.\n",
      "Reading 0 ... 14500  =      0.000 ...    58.000 secs...\n"
     ]
    },
    {
     "name": "stderr",
     "output_type": "stream",
     "text": [
      "C:\\Users\\PESYLV~1\\AppData\\Local\\Temp/ipykernel_29536/564882533.py:16: FutureWarning: The frame.append method is deprecated and will be removed from pandas in a future version. Use pandas.concat instead.\n",
      "  df = df.append({\"data\": rawpd, \"age\": int(mlab[:2])+2.5}, ignore_index=True)\n"
     ]
    },
    {
     "name": "stdout",
     "output_type": "stream",
     "text": [
      "<class 'list'>\n",
      "Opening raw data file C:/Users/pesylvestre/Documents/Informatique/BRAIL/FY2023 In-House PoC3/In-HousePOC3/in_housepoc3/data/Lemon_PreDict\\sub-032307\\sub-032307_EC4_eeg.fif...\n",
      "Isotrak not found\n",
      "    Range : 95352 ... 109852 =    381.408 ...   439.408 secs\n",
      "Ready.\n",
      "Reading 0 ... 14500  =      0.000 ...    58.000 secs...\n"
     ]
    },
    {
     "name": "stderr",
     "output_type": "stream",
     "text": [
      "C:\\Users\\PESYLV~1\\AppData\\Local\\Temp/ipykernel_29536/564882533.py:16: FutureWarning: The frame.append method is deprecated and will be removed from pandas in a future version. Use pandas.concat instead.\n",
      "  df = df.append({\"data\": rawpd, \"age\": int(mlab[:2])+2.5}, ignore_index=True)\n"
     ]
    },
    {
     "name": "stdout",
     "output_type": "stream",
     "text": [
      "<class 'list'>\n",
      "Opening raw data file C:/Users/pesylvestre/Documents/Informatique/BRAIL/FY2023 In-House PoC3/In-HousePOC3/in_housepoc3/data/Lemon_PreDict\\sub-032307\\sub-032307_EC5_eeg.fif...\n",
      "Isotrak not found\n",
      "    Range : 126318 ... 140818 =    505.272 ...   563.272 secs\n",
      "Ready.\n",
      "Reading 0 ... 14500  =      0.000 ...    58.000 secs...\n"
     ]
    },
    {
     "name": "stderr",
     "output_type": "stream",
     "text": [
      "C:\\Users\\PESYLV~1\\AppData\\Local\\Temp/ipykernel_29536/564882533.py:16: FutureWarning: The frame.append method is deprecated and will be removed from pandas in a future version. Use pandas.concat instead.\n",
      "  df = df.append({\"data\": rawpd, \"age\": int(mlab[:2])+2.5}, ignore_index=True)\n"
     ]
    },
    {
     "name": "stdout",
     "output_type": "stream",
     "text": [
      "<class 'list'>\n",
      "Opening raw data file C:/Users/pesylvestre/Documents/Informatique/BRAIL/FY2023 In-House PoC3/In-HousePOC3/in_housepoc3/data/Lemon_PreDict\\sub-032307\\sub-032307_EC6_eeg.fif...\n",
      "Isotrak not found\n",
      "    Range : 157508 ... 172008 =    630.032 ...   688.032 secs\n",
      "Ready.\n",
      "Reading 0 ... 14500  =      0.000 ...    58.000 secs...\n"
     ]
    },
    {
     "name": "stderr",
     "output_type": "stream",
     "text": [
      "C:\\Users\\PESYLV~1\\AppData\\Local\\Temp/ipykernel_29536/564882533.py:16: FutureWarning: The frame.append method is deprecated and will be removed from pandas in a future version. Use pandas.concat instead.\n",
      "  df = df.append({\"data\": rawpd, \"age\": int(mlab[:2])+2.5}, ignore_index=True)\n"
     ]
    },
    {
     "name": "stdout",
     "output_type": "stream",
     "text": [
      "<class 'list'>\n",
      "Opening raw data file C:/Users/pesylvestre/Documents/Informatique/BRAIL/FY2023 In-House PoC3/In-HousePOC3/in_housepoc3/data/Lemon_PreDict\\sub-032307\\sub-032307_EC7_eeg.fif...\n",
      "Isotrak not found\n",
      "    Range : 189023 ... 203523 =    756.092 ...   814.092 secs\n",
      "Ready.\n",
      "Reading 0 ... 14500  =      0.000 ...    58.000 secs...\n"
     ]
    },
    {
     "name": "stderr",
     "output_type": "stream",
     "text": [
      "C:\\Users\\PESYLV~1\\AppData\\Local\\Temp/ipykernel_29536/564882533.py:16: FutureWarning: The frame.append method is deprecated and will be removed from pandas in a future version. Use pandas.concat instead.\n",
      "  df = df.append({\"data\": rawpd, \"age\": int(mlab[:2])+2.5}, ignore_index=True)\n"
     ]
    },
    {
     "name": "stdout",
     "output_type": "stream",
     "text": [
      "<class 'list'>\n",
      "Opening raw data file C:/Users/pesylvestre/Documents/Informatique/BRAIL/FY2023 In-House PoC3/In-HousePOC3/in_housepoc3/data/Lemon_PreDict\\sub-032307\\sub-032307_EC8_eeg.fif...\n",
      "Isotrak not found\n",
      "    Range : 220421 ... 234922 =    881.684 ...   939.688 secs\n",
      "Ready.\n",
      "Reading 0 ... 14501  =      0.000 ...    58.004 secs...\n"
     ]
    },
    {
     "name": "stderr",
     "output_type": "stream",
     "text": [
      "C:\\Users\\PESYLV~1\\AppData\\Local\\Temp/ipykernel_29536/564882533.py:16: FutureWarning: The frame.append method is deprecated and will be removed from pandas in a future version. Use pandas.concat instead.\n",
      "  df = df.append({\"data\": rawpd, \"age\": int(mlab[:2])+2.5}, ignore_index=True)\n"
     ]
    },
    {
     "name": "stdout",
     "output_type": "stream",
     "text": [
      "<class 'list'>\n",
      "Opening raw data file C:/Users/pesylvestre/Documents/Informatique/BRAIL/FY2023 In-House PoC3/In-HousePOC3/in_housepoc3/data/Lemon_PreDict\\sub-032307\\sub-032307_EO1_eeg.fif...\n",
      "Isotrak not found\n",
      "    Range : 17928 ... 32429 =     71.712 ...   129.716 secs\n",
      "Ready.\n",
      "Reading 0 ... 14501  =      0.000 ...    58.004 secs...\n"
     ]
    },
    {
     "name": "stderr",
     "output_type": "stream",
     "text": [
      "C:\\Users\\PESYLV~1\\AppData\\Local\\Temp/ipykernel_29536/564882533.py:16: FutureWarning: The frame.append method is deprecated and will be removed from pandas in a future version. Use pandas.concat instead.\n",
      "  df = df.append({\"data\": rawpd, \"age\": int(mlab[:2])+2.5}, ignore_index=True)\n"
     ]
    },
    {
     "name": "stdout",
     "output_type": "stream",
     "text": [
      "<class 'list'>\n",
      "Opening raw data file C:/Users/pesylvestre/Documents/Informatique/BRAIL/FY2023 In-House PoC3/In-HousePOC3/in_housepoc3/data/Lemon_PreDict\\sub-032307\\sub-032307_EO2_eeg.fif...\n",
      "Isotrak not found\n",
      "    Range : 48859 ... 63360 =    195.436 ...   253.440 secs\n",
      "Ready.\n",
      "Reading 0 ... 14501  =      0.000 ...    58.004 secs...\n"
     ]
    },
    {
     "name": "stderr",
     "output_type": "stream",
     "text": [
      "C:\\Users\\PESYLV~1\\AppData\\Local\\Temp/ipykernel_29536/564882533.py:16: FutureWarning: The frame.append method is deprecated and will be removed from pandas in a future version. Use pandas.concat instead.\n",
      "  df = df.append({\"data\": rawpd, \"age\": int(mlab[:2])+2.5}, ignore_index=True)\n"
     ]
    },
    {
     "name": "stdout",
     "output_type": "stream",
     "text": [
      "<class 'list'>\n",
      "Opening raw data file C:/Users/pesylvestre/Documents/Informatique/BRAIL/FY2023 In-House PoC3/In-HousePOC3/in_housepoc3/data/Lemon_PreDict\\sub-032307\\sub-032307_EO3_eeg.fif...\n",
      "Isotrak not found\n",
      "    Range : 79896 ... 94396 =    319.584 ...   377.584 secs\n",
      "Ready.\n",
      "Reading 0 ... 14500  =      0.000 ...    58.000 secs...\n"
     ]
    },
    {
     "name": "stderr",
     "output_type": "stream",
     "text": [
      "C:\\Users\\PESYLV~1\\AppData\\Local\\Temp/ipykernel_29536/564882533.py:16: FutureWarning: The frame.append method is deprecated and will be removed from pandas in a future version. Use pandas.concat instead.\n",
      "  df = df.append({\"data\": rawpd, \"age\": int(mlab[:2])+2.5}, ignore_index=True)\n"
     ]
    },
    {
     "name": "stdout",
     "output_type": "stream",
     "text": [
      "<class 'list'>\n",
      "Opening raw data file C:/Users/pesylvestre/Documents/Informatique/BRAIL/FY2023 In-House PoC3/In-HousePOC3/in_housepoc3/data/Lemon_PreDict\\sub-032307\\sub-032307_EO4_eeg.fif...\n",
      "Isotrak not found\n",
      "    Range : 110815 ... 125316 =    443.260 ...   501.264 secs\n",
      "Ready.\n",
      "Reading 0 ... 14501  =      0.000 ...    58.004 secs...\n"
     ]
    },
    {
     "name": "stderr",
     "output_type": "stream",
     "text": [
      "C:\\Users\\PESYLV~1\\AppData\\Local\\Temp/ipykernel_29536/564882533.py:16: FutureWarning: The frame.append method is deprecated and will be removed from pandas in a future version. Use pandas.concat instead.\n",
      "  df = df.append({\"data\": rawpd, \"age\": int(mlab[:2])+2.5}, ignore_index=True)\n"
     ]
    },
    {
     "name": "stdout",
     "output_type": "stream",
     "text": [
      "<class 'list'>\n",
      "Opening raw data file C:/Users/pesylvestre/Documents/Informatique/BRAIL/FY2023 In-House PoC3/In-HousePOC3/in_housepoc3/data/Lemon_PreDict\\sub-032307\\sub-032307_EO5_eeg.fif...\n",
      "Isotrak not found\n",
      "    Range : 141781 ... 156281 =    567.124 ...   625.124 secs\n",
      "Ready.\n",
      "Reading 0 ... 14500  =      0.000 ...    58.000 secs...\n"
     ]
    },
    {
     "name": "stderr",
     "output_type": "stream",
     "text": [
      "C:\\Users\\PESYLV~1\\AppData\\Local\\Temp/ipykernel_29536/564882533.py:16: FutureWarning: The frame.append method is deprecated and will be removed from pandas in a future version. Use pandas.concat instead.\n",
      "  df = df.append({\"data\": rawpd, \"age\": int(mlab[:2])+2.5}, ignore_index=True)\n"
     ]
    },
    {
     "name": "stdout",
     "output_type": "stream",
     "text": [
      "<class 'list'>\n",
      "Opening raw data file C:/Users/pesylvestre/Documents/Informatique/BRAIL/FY2023 In-House PoC3/In-HousePOC3/in_housepoc3/data/Lemon_PreDict\\sub-032307\\sub-032307_EO6_eeg.fif...\n",
      "Isotrak not found\n",
      "    Range : 173000 ... 187500 =    692.000 ...   750.000 secs\n",
      "Ready.\n",
      "Reading 0 ... 14500  =      0.000 ...    58.000 secs...\n"
     ]
    },
    {
     "name": "stderr",
     "output_type": "stream",
     "text": [
      "C:\\Users\\PESYLV~1\\AppData\\Local\\Temp/ipykernel_29536/564882533.py:16: FutureWarning: The frame.append method is deprecated and will be removed from pandas in a future version. Use pandas.concat instead.\n",
      "  df = df.append({\"data\": rawpd, \"age\": int(mlab[:2])+2.5}, ignore_index=True)\n"
     ]
    },
    {
     "name": "stdout",
     "output_type": "stream",
     "text": [
      "<class 'list'>\n",
      "Opening raw data file C:/Users/pesylvestre/Documents/Informatique/BRAIL/FY2023 In-House PoC3/In-HousePOC3/in_housepoc3/data/Lemon_PreDict\\sub-032307\\sub-032307_EO7_eeg.fif...\n",
      "Isotrak not found\n",
      "    Range : 204566 ... 219066 =    818.264 ...   876.264 secs\n",
      "Ready.\n",
      "Reading 0 ... 14500  =      0.000 ...    58.000 secs...\n"
     ]
    },
    {
     "name": "stderr",
     "output_type": "stream",
     "text": [
      "C:\\Users\\PESYLV~1\\AppData\\Local\\Temp/ipykernel_29536/564882533.py:16: FutureWarning: The frame.append method is deprecated and will be removed from pandas in a future version. Use pandas.concat instead.\n",
      "  df = df.append({\"data\": rawpd, \"age\": int(mlab[:2])+2.5}, ignore_index=True)\n"
     ]
    },
    {
     "name": "stdout",
     "output_type": "stream",
     "text": [
      "<class 'list'>\n",
      "Opening raw data file C:/Users/pesylvestre/Documents/Informatique/BRAIL/FY2023 In-House PoC3/In-HousePOC3/in_housepoc3/data/Lemon_PreDict\\sub-032307\\sub-032307_EO8_eeg.fif...\n",
      "Isotrak not found\n",
      "    Range : 235914 ... 250414 =    943.656 ...  1001.656 secs\n",
      "Ready.\n",
      "Reading 0 ... 14500  =      0.000 ...    58.000 secs...\n"
     ]
    },
    {
     "name": "stderr",
     "output_type": "stream",
     "text": [
      "C:\\Users\\PESYLV~1\\AppData\\Local\\Temp/ipykernel_29536/564882533.py:16: FutureWarning: The frame.append method is deprecated and will be removed from pandas in a future version. Use pandas.concat instead.\n",
      "  df = df.append({\"data\": rawpd, \"age\": int(mlab[:2])+2.5}, ignore_index=True)\n"
     ]
    },
    {
     "name": "stdout",
     "output_type": "stream",
     "text": [
      "<class 'list'>\n",
      "Opening raw data file C:/Users/pesylvestre/Documents/Informatique/BRAIL/FY2023 In-House PoC3/In-HousePOC3/in_housepoc3/data/Lemon_PreDict\\sub-032308\\sub-032308_EC1_eeg.fif...\n",
      "Isotrak not found\n",
      "    Range : 6258 ... 20758 =     25.032 ...    83.032 secs\n",
      "Ready.\n",
      "Reading 0 ... 14500  =      0.000 ...    58.000 secs...\n"
     ]
    },
    {
     "name": "stderr",
     "output_type": "stream",
     "text": [
      "C:\\Users\\PESYLV~1\\AppData\\Local\\Temp/ipykernel_29536/564882533.py:16: FutureWarning: The frame.append method is deprecated and will be removed from pandas in a future version. Use pandas.concat instead.\n",
      "  df = df.append({\"data\": rawpd, \"age\": int(mlab[:2])+2.5}, ignore_index=True)\n"
     ]
    },
    {
     "name": "stdout",
     "output_type": "stream",
     "text": [
      "<class 'list'>\n",
      "Opening raw data file C:/Users/pesylvestre/Documents/Informatique/BRAIL/FY2023 In-House PoC3/In-HousePOC3/in_housepoc3/data/Lemon_PreDict\\sub-032308\\sub-032308_EC2_eeg.fif...\n",
      "Isotrak not found\n",
      "    Range : 37350 ... 51850 =    149.400 ...   207.400 secs\n",
      "Ready.\n",
      "Reading 0 ... 14500  =      0.000 ...    58.000 secs...\n"
     ]
    },
    {
     "name": "stderr",
     "output_type": "stream",
     "text": [
      "C:\\Users\\PESYLV~1\\AppData\\Local\\Temp/ipykernel_29536/564882533.py:16: FutureWarning: The frame.append method is deprecated and will be removed from pandas in a future version. Use pandas.concat instead.\n",
      "  df = df.append({\"data\": rawpd, \"age\": int(mlab[:2])+2.5}, ignore_index=True)\n"
     ]
    },
    {
     "name": "stdout",
     "output_type": "stream",
     "text": [
      "<class 'list'>\n",
      "Opening raw data file C:/Users/pesylvestre/Documents/Informatique/BRAIL/FY2023 In-House PoC3/In-HousePOC3/in_housepoc3/data/Lemon_PreDict\\sub-032308\\sub-032308_EC3_eeg.fif...\n",
      "Isotrak not found\n",
      "    Range : 70958 ... 85458 =    283.832 ...   341.832 secs\n",
      "Ready.\n",
      "Reading 0 ... 14500  =      0.000 ...    58.000 secs...\n"
     ]
    },
    {
     "name": "stderr",
     "output_type": "stream",
     "text": [
      "C:\\Users\\PESYLV~1\\AppData\\Local\\Temp/ipykernel_29536/564882533.py:16: FutureWarning: The frame.append method is deprecated and will be removed from pandas in a future version. Use pandas.concat instead.\n",
      "  df = df.append({\"data\": rawpd, \"age\": int(mlab[:2])+2.5}, ignore_index=True)\n"
     ]
    },
    {
     "name": "stdout",
     "output_type": "stream",
     "text": [
      "<class 'list'>\n",
      "Opening raw data file C:/Users/pesylvestre/Documents/Informatique/BRAIL/FY2023 In-House PoC3/In-HousePOC3/in_housepoc3/data/Lemon_PreDict\\sub-032308\\sub-032308_EC4_eeg.fif...\n",
      "Isotrak not found\n",
      "    Range : 102144 ... 116645 =    408.576 ...   466.580 secs\n",
      "Ready.\n",
      "Reading 0 ... 14501  =      0.000 ...    58.004 secs...\n"
     ]
    },
    {
     "name": "stderr",
     "output_type": "stream",
     "text": [
      "C:\\Users\\PESYLV~1\\AppData\\Local\\Temp/ipykernel_29536/564882533.py:16: FutureWarning: The frame.append method is deprecated and will be removed from pandas in a future version. Use pandas.concat instead.\n",
      "  df = df.append({\"data\": rawpd, \"age\": int(mlab[:2])+2.5}, ignore_index=True)\n"
     ]
    },
    {
     "name": "stdout",
     "output_type": "stream",
     "text": [
      "<class 'list'>\n",
      "Opening raw data file C:/Users/pesylvestre/Documents/Informatique/BRAIL/FY2023 In-House PoC3/In-HousePOC3/in_housepoc3/data/Lemon_PreDict\\sub-032308\\sub-032308_EC5_eeg.fif...\n",
      "Isotrak not found\n",
      "    Range : 133203 ... 147703 =    532.812 ...   590.812 secs\n",
      "Ready.\n",
      "Reading 0 ... 14500  =      0.000 ...    58.000 secs...\n"
     ]
    },
    {
     "name": "stderr",
     "output_type": "stream",
     "text": [
      "C:\\Users\\PESYLV~1\\AppData\\Local\\Temp/ipykernel_29536/564882533.py:16: FutureWarning: The frame.append method is deprecated and will be removed from pandas in a future version. Use pandas.concat instead.\n",
      "  df = df.append({\"data\": rawpd, \"age\": int(mlab[:2])+2.5}, ignore_index=True)\n"
     ]
    },
    {
     "name": "stdout",
     "output_type": "stream",
     "text": [
      "<class 'list'>\n",
      "Opening raw data file C:/Users/pesylvestre/Documents/Informatique/BRAIL/FY2023 In-House PoC3/In-HousePOC3/in_housepoc3/data/Lemon_PreDict\\sub-032308\\sub-032308_EC6_eeg.fif...\n",
      "Isotrak not found\n",
      "    Range : 164201 ... 178702 =    656.804 ...   714.808 secs\n",
      "Ready.\n",
      "Reading 0 ... 14501  =      0.000 ...    58.004 secs...\n"
     ]
    },
    {
     "name": "stderr",
     "output_type": "stream",
     "text": [
      "C:\\Users\\PESYLV~1\\AppData\\Local\\Temp/ipykernel_29536/564882533.py:16: FutureWarning: The frame.append method is deprecated and will be removed from pandas in a future version. Use pandas.concat instead.\n",
      "  df = df.append({\"data\": rawpd, \"age\": int(mlab[:2])+2.5}, ignore_index=True)\n"
     ]
    },
    {
     "name": "stdout",
     "output_type": "stream",
     "text": [
      "<class 'list'>\n",
      "Opening raw data file C:/Users/pesylvestre/Documents/Informatique/BRAIL/FY2023 In-House PoC3/In-HousePOC3/in_housepoc3/data/Lemon_PreDict\\sub-032308\\sub-032308_EC7_eeg.fif...\n",
      "Isotrak not found\n",
      "    Range : 197482 ... 211982 =    789.928 ...   847.928 secs\n",
      "Ready.\n",
      "Reading 0 ... 14500  =      0.000 ...    58.000 secs...\n"
     ]
    },
    {
     "name": "stderr",
     "output_type": "stream",
     "text": [
      "C:\\Users\\PESYLV~1\\AppData\\Local\\Temp/ipykernel_29536/564882533.py:16: FutureWarning: The frame.append method is deprecated and will be removed from pandas in a future version. Use pandas.concat instead.\n",
      "  df = df.append({\"data\": rawpd, \"age\": int(mlab[:2])+2.5}, ignore_index=True)\n"
     ]
    },
    {
     "name": "stdout",
     "output_type": "stream",
     "text": [
      "<class 'list'>\n",
      "Opening raw data file C:/Users/pesylvestre/Documents/Informatique/BRAIL/FY2023 In-House PoC3/In-HousePOC3/in_housepoc3/data/Lemon_PreDict\\sub-032308\\sub-032308_EC8_eeg.fif...\n",
      "Isotrak not found\n",
      "    Range : 228807 ... 243307 =    915.228 ...   973.228 secs\n",
      "Ready.\n",
      "Reading 0 ... 14500  =      0.000 ...    58.000 secs...\n"
     ]
    },
    {
     "name": "stderr",
     "output_type": "stream",
     "text": [
      "C:\\Users\\PESYLV~1\\AppData\\Local\\Temp/ipykernel_29536/564882533.py:16: FutureWarning: The frame.append method is deprecated and will be removed from pandas in a future version. Use pandas.concat instead.\n",
      "  df = df.append({\"data\": rawpd, \"age\": int(mlab[:2])+2.5}, ignore_index=True)\n"
     ]
    },
    {
     "name": "stdout",
     "output_type": "stream",
     "text": [
      "<class 'list'>\n",
      "Opening raw data file C:/Users/pesylvestre/Documents/Informatique/BRAIL/FY2023 In-House PoC3/In-HousePOC3/in_housepoc3/data/Lemon_PreDict\\sub-032308\\sub-032308_EO1_eeg.fif...\n",
      "Isotrak not found\n",
      "    Range : 21800 ... 36300 =     87.200 ...   145.200 secs\n",
      "Ready.\n",
      "Reading 0 ... 14500  =      0.000 ...    58.000 secs...\n"
     ]
    },
    {
     "name": "stderr",
     "output_type": "stream",
     "text": [
      "C:\\Users\\PESYLV~1\\AppData\\Local\\Temp/ipykernel_29536/564882533.py:16: FutureWarning: The frame.append method is deprecated and will be removed from pandas in a future version. Use pandas.concat instead.\n",
      "  df = df.append({\"data\": rawpd, \"age\": int(mlab[:2])+2.5}, ignore_index=True)\n"
     ]
    },
    {
     "name": "stdout",
     "output_type": "stream",
     "text": [
      "<class 'list'>\n",
      "Opening raw data file C:/Users/pesylvestre/Documents/Informatique/BRAIL/FY2023 In-House PoC3/In-HousePOC3/in_housepoc3/data/Lemon_PreDict\\sub-032308\\sub-032308_EO2_eeg.fif...\n",
      "Isotrak not found\n",
      "    Range : 52821 ... 67321 =    211.284 ...   269.284 secs\n",
      "Ready.\n",
      "Reading 0 ... 14500  =      0.000 ...    58.000 secs...\n"
     ]
    },
    {
     "name": "stderr",
     "output_type": "stream",
     "text": [
      "C:\\Users\\PESYLV~1\\AppData\\Local\\Temp/ipykernel_29536/564882533.py:16: FutureWarning: The frame.append method is deprecated and will be removed from pandas in a future version. Use pandas.concat instead.\n",
      "  df = df.append({\"data\": rawpd, \"age\": int(mlab[:2])+2.5}, ignore_index=True)\n"
     ]
    },
    {
     "name": "stdout",
     "output_type": "stream",
     "text": [
      "<class 'list'>\n",
      "Opening raw data file C:/Users/pesylvestre/Documents/Informatique/BRAIL/FY2023 In-House PoC3/In-HousePOC3/in_housepoc3/data/Lemon_PreDict\\sub-032308\\sub-032308_EO3_eeg.fif...\n",
      "Isotrak not found\n",
      "    Range : 86458 ... 100958 =    345.832 ...   403.832 secs\n",
      "Ready.\n",
      "Reading 0 ... 14500  =      0.000 ...    58.000 secs...\n"
     ]
    },
    {
     "name": "stderr",
     "output_type": "stream",
     "text": [
      "C:\\Users\\PESYLV~1\\AppData\\Local\\Temp/ipykernel_29536/564882533.py:16: FutureWarning: The frame.append method is deprecated and will be removed from pandas in a future version. Use pandas.concat instead.\n",
      "  df = df.append({\"data\": rawpd, \"age\": int(mlab[:2])+2.5}, ignore_index=True)\n"
     ]
    },
    {
     "name": "stdout",
     "output_type": "stream",
     "text": [
      "<class 'list'>\n",
      "Opening raw data file C:/Users/pesylvestre/Documents/Informatique/BRAIL/FY2023 In-House PoC3/In-HousePOC3/in_housepoc3/data/Lemon_PreDict\\sub-032308\\sub-032308_EO4_eeg.fif...\n",
      "Isotrak not found\n",
      "    Range : 117674 ... 132175 =    470.696 ...   528.700 secs\n",
      "Ready.\n",
      "Reading 0 ... 14501  =      0.000 ...    58.004 secs...\n"
     ]
    },
    {
     "name": "stderr",
     "output_type": "stream",
     "text": [
      "C:\\Users\\PESYLV~1\\AppData\\Local\\Temp/ipykernel_29536/564882533.py:16: FutureWarning: The frame.append method is deprecated and will be removed from pandas in a future version. Use pandas.concat instead.\n",
      "  df = df.append({\"data\": rawpd, \"age\": int(mlab[:2])+2.5}, ignore_index=True)\n"
     ]
    },
    {
     "name": "stdout",
     "output_type": "stream",
     "text": [
      "<class 'list'>\n",
      "Opening raw data file C:/Users/pesylvestre/Documents/Informatique/BRAIL/FY2023 In-House PoC3/In-HousePOC3/in_housepoc3/data/Lemon_PreDict\\sub-032308\\sub-032308_EO5_eeg.fif...\n",
      "Isotrak not found\n",
      "    Range : 148724 ... 163224 =    594.896 ...   652.896 secs\n",
      "Ready.\n",
      "Reading 0 ... 14500  =      0.000 ...    58.000 secs...\n"
     ]
    },
    {
     "name": "stderr",
     "output_type": "stream",
     "text": [
      "C:\\Users\\PESYLV~1\\AppData\\Local\\Temp/ipykernel_29536/564882533.py:16: FutureWarning: The frame.append method is deprecated and will be removed from pandas in a future version. Use pandas.concat instead.\n",
      "  df = df.append({\"data\": rawpd, \"age\": int(mlab[:2])+2.5}, ignore_index=True)\n"
     ]
    },
    {
     "name": "stdout",
     "output_type": "stream",
     "text": [
      "<class 'list'>\n",
      "Opening raw data file C:/Users/pesylvestre/Documents/Informatique/BRAIL/FY2023 In-House PoC3/In-HousePOC3/in_housepoc3/data/Lemon_PreDict\\sub-032308\\sub-032308_EO6_eeg.fif...\n",
      "Isotrak not found\n",
      "    Range : 179649 ... 194149 =    718.596 ...   776.596 secs\n",
      "Ready.\n",
      "Reading 0 ... 14500  =      0.000 ...    58.000 secs...\n"
     ]
    },
    {
     "name": "stderr",
     "output_type": "stream",
     "text": [
      "C:\\Users\\PESYLV~1\\AppData\\Local\\Temp/ipykernel_29536/564882533.py:16: FutureWarning: The frame.append method is deprecated and will be removed from pandas in a future version. Use pandas.concat instead.\n",
      "  df = df.append({\"data\": rawpd, \"age\": int(mlab[:2])+2.5}, ignore_index=True)\n"
     ]
    },
    {
     "name": "stdout",
     "output_type": "stream",
     "text": [
      "<class 'list'>\n",
      "Opening raw data file C:/Users/pesylvestre/Documents/Informatique/BRAIL/FY2023 In-House PoC3/In-HousePOC3/in_housepoc3/data/Lemon_PreDict\\sub-032308\\sub-032308_EO7_eeg.fif...\n",
      "Isotrak not found\n",
      "    Range : 213049 ... 227550 =    852.196 ...   910.200 secs\n",
      "Ready.\n",
      "Reading 0 ... 14501  =      0.000 ...    58.004 secs...\n"
     ]
    },
    {
     "name": "stderr",
     "output_type": "stream",
     "text": [
      "C:\\Users\\PESYLV~1\\AppData\\Local\\Temp/ipykernel_29536/564882533.py:16: FutureWarning: The frame.append method is deprecated and will be removed from pandas in a future version. Use pandas.concat instead.\n",
      "  df = df.append({\"data\": rawpd, \"age\": int(mlab[:2])+2.5}, ignore_index=True)\n"
     ]
    },
    {
     "name": "stdout",
     "output_type": "stream",
     "text": [
      "<class 'list'>\n",
      "Opening raw data file C:/Users/pesylvestre/Documents/Informatique/BRAIL/FY2023 In-House PoC3/In-HousePOC3/in_housepoc3/data/Lemon_PreDict\\sub-032308\\sub-032308_EO8_eeg.fif...\n",
      "Isotrak not found\n",
      "    Range : 244992 ... 259492 =    979.968 ...  1037.968 secs\n",
      "Ready.\n",
      "Reading 0 ... 14500  =      0.000 ...    58.000 secs...\n"
     ]
    },
    {
     "name": "stderr",
     "output_type": "stream",
     "text": [
      "C:\\Users\\PESYLV~1\\AppData\\Local\\Temp/ipykernel_29536/564882533.py:16: FutureWarning: The frame.append method is deprecated and will be removed from pandas in a future version. Use pandas.concat instead.\n",
      "  df = df.append({\"data\": rawpd, \"age\": int(mlab[:2])+2.5}, ignore_index=True)\n"
     ]
    },
    {
     "name": "stdout",
     "output_type": "stream",
     "text": [
      "<class 'list'>\n",
      "Opening raw data file C:/Users/pesylvestre/Documents/Informatique/BRAIL/FY2023 In-House PoC3/In-HousePOC3/in_housepoc3/data/Lemon_PreDict\\sub-032309\\sub-032309_EC1_eeg.fif...\n",
      "Isotrak not found\n",
      "    Range : 6969 ... 21469 =     27.876 ...    85.876 secs\n",
      "Ready.\n",
      "Reading 0 ... 14500  =      0.000 ...    58.000 secs...\n"
     ]
    },
    {
     "name": "stderr",
     "output_type": "stream",
     "text": [
      "C:\\Users\\PESYLV~1\\AppData\\Local\\Temp/ipykernel_29536/564882533.py:16: FutureWarning: The frame.append method is deprecated and will be removed from pandas in a future version. Use pandas.concat instead.\n",
      "  df = df.append({\"data\": rawpd, \"age\": int(mlab[:2])+2.5}, ignore_index=True)\n"
     ]
    },
    {
     "name": "stdout",
     "output_type": "stream",
     "text": [
      "<class 'list'>\n",
      "Opening raw data file C:/Users/pesylvestre/Documents/Informatique/BRAIL/FY2023 In-House PoC3/In-HousePOC3/in_housepoc3/data/Lemon_PreDict\\sub-032309\\sub-032309_EC2_eeg.fif...\n",
      "Isotrak not found\n",
      "    Range : 37890 ... 52390 =    151.560 ...   209.560 secs\n",
      "Ready.\n",
      "Reading 0 ... 14500  =      0.000 ...    58.000 secs...\n"
     ]
    },
    {
     "name": "stderr",
     "output_type": "stream",
     "text": [
      "C:\\Users\\PESYLV~1\\AppData\\Local\\Temp/ipykernel_29536/564882533.py:16: FutureWarning: The frame.append method is deprecated and will be removed from pandas in a future version. Use pandas.concat instead.\n",
      "  df = df.append({\"data\": rawpd, \"age\": int(mlab[:2])+2.5}, ignore_index=True)\n"
     ]
    },
    {
     "name": "stdout",
     "output_type": "stream",
     "text": [
      "<class 'list'>\n",
      "Opening raw data file C:/Users/pesylvestre/Documents/Informatique/BRAIL/FY2023 In-House PoC3/In-HousePOC3/in_housepoc3/data/Lemon_PreDict\\sub-032309\\sub-032309_EC3_eeg.fif...\n",
      "Isotrak not found\n",
      "    Range : 68819 ... 83319 =    275.276 ...   333.276 secs\n",
      "Ready.\n",
      "Reading 0 ... 14500  =      0.000 ...    58.000 secs...\n",
      "<class 'list'>\n"
     ]
    },
    {
     "name": "stderr",
     "output_type": "stream",
     "text": [
      "C:\\Users\\PESYLV~1\\AppData\\Local\\Temp/ipykernel_29536/564882533.py:16: FutureWarning: The frame.append method is deprecated and will be removed from pandas in a future version. Use pandas.concat instead.\n",
      "  df = df.append({\"data\": rawpd, \"age\": int(mlab[:2])+2.5}, ignore_index=True)\n"
     ]
    },
    {
     "name": "stdout",
     "output_type": "stream",
     "text": [
      "Opening raw data file C:/Users/pesylvestre/Documents/Informatique/BRAIL/FY2023 In-House PoC3/In-HousePOC3/in_housepoc3/data/Lemon_PreDict\\sub-032309\\sub-032309_EO1_eeg.fif...\n",
      "Isotrak not found\n",
      "    Range : 22551 ... 37051 =     90.204 ...   148.204 secs\n",
      "Ready.\n",
      "Reading 0 ... 14500  =      0.000 ...    58.000 secs...\n"
     ]
    },
    {
     "name": "stderr",
     "output_type": "stream",
     "text": [
      "C:\\Users\\PESYLV~1\\AppData\\Local\\Temp/ipykernel_29536/564882533.py:16: FutureWarning: The frame.append method is deprecated and will be removed from pandas in a future version. Use pandas.concat instead.\n",
      "  df = df.append({\"data\": rawpd, \"age\": int(mlab[:2])+2.5}, ignore_index=True)\n"
     ]
    },
    {
     "name": "stdout",
     "output_type": "stream",
     "text": [
      "<class 'list'>\n",
      "Opening raw data file C:/Users/pesylvestre/Documents/Informatique/BRAIL/FY2023 In-House PoC3/In-HousePOC3/in_housepoc3/data/Lemon_PreDict\\sub-032309\\sub-032309_EO2_eeg.fif...\n",
      "Isotrak not found\n",
      "    Range : 53385 ... 67885 =    213.540 ...   271.540 secs\n",
      "Ready.\n",
      "Reading 0 ... 14500  =      0.000 ...    58.000 secs...\n"
     ]
    },
    {
     "name": "stderr",
     "output_type": "stream",
     "text": [
      "C:\\Users\\PESYLV~1\\AppData\\Local\\Temp/ipykernel_29536/564882533.py:16: FutureWarning: The frame.append method is deprecated and will be removed from pandas in a future version. Use pandas.concat instead.\n",
      "  df = df.append({\"data\": rawpd, \"age\": int(mlab[:2])+2.5}, ignore_index=True)\n"
     ]
    },
    {
     "name": "stdout",
     "output_type": "stream",
     "text": [
      "<class 'list'>\n",
      "Opening raw data file C:/Users/pesylvestre/Documents/Informatique/BRAIL/FY2023 In-House PoC3/In-HousePOC3/in_housepoc3/data/Lemon_PreDict\\sub-032309\\sub-032309_EO3_eeg.fif...\n",
      "Isotrak not found\n",
      "    Range : 84239 ... 97239 =    336.956 ...   388.956 secs\n",
      "Ready.\n",
      "Reading 0 ... 13000  =      0.000 ...    52.000 secs...\n",
      "Opening raw data file C:/Users/pesylvestre/Documents/Informatique/BRAIL/FY2023 In-House PoC3/In-HousePOC3/in_housepoc3/data/Lemon_PreDict\\sub-032310\\sub-032310_EC1_eeg.fif...\n",
      "Isotrak not found\n",
      "    Range : 2313 ... 16813 =      9.252 ...    67.252 secs\n",
      "Ready.\n",
      "Reading 0 ... 14500  =      0.000 ...    58.000 secs...\n"
     ]
    },
    {
     "name": "stderr",
     "output_type": "stream",
     "text": [
      "C:\\Users\\PESYLV~1\\AppData\\Local\\Temp/ipykernel_29536/564882533.py:16: FutureWarning: The frame.append method is deprecated and will be removed from pandas in a future version. Use pandas.concat instead.\n",
      "  df = df.append({\"data\": rawpd, \"age\": int(mlab[:2])+2.5}, ignore_index=True)\n"
     ]
    },
    {
     "name": "stdout",
     "output_type": "stream",
     "text": [
      "<class 'list'>\n",
      "Opening raw data file C:/Users/pesylvestre/Documents/Informatique/BRAIL/FY2023 In-House PoC3/In-HousePOC3/in_housepoc3/data/Lemon_PreDict\\sub-032310\\sub-032310_EC2_eeg.fif...\n",
      "Isotrak not found\n",
      "    Range : 33300 ... 47800 =    133.200 ...   191.200 secs\n",
      "Ready.\n",
      "Reading 0 ... 14500  =      0.000 ...    58.000 secs...\n"
     ]
    },
    {
     "name": "stderr",
     "output_type": "stream",
     "text": [
      "C:\\Users\\PESYLV~1\\AppData\\Local\\Temp/ipykernel_29536/564882533.py:16: FutureWarning: The frame.append method is deprecated and will be removed from pandas in a future version. Use pandas.concat instead.\n",
      "  df = df.append({\"data\": rawpd, \"age\": int(mlab[:2])+2.5}, ignore_index=True)\n"
     ]
    },
    {
     "name": "stdout",
     "output_type": "stream",
     "text": [
      "<class 'list'>\n",
      "Opening raw data file C:/Users/pesylvestre/Documents/Informatique/BRAIL/FY2023 In-House PoC3/In-HousePOC3/in_housepoc3/data/Lemon_PreDict\\sub-032310\\sub-032310_EC3_eeg.fif...\n",
      "Isotrak not found\n",
      "    Range : 64330 ... 78830 =    257.320 ...   315.320 secs\n",
      "Ready.\n",
      "Reading 0 ... 14500  =      0.000 ...    58.000 secs...\n"
     ]
    },
    {
     "name": "stderr",
     "output_type": "stream",
     "text": [
      "C:\\Users\\PESYLV~1\\AppData\\Local\\Temp/ipykernel_29536/564882533.py:16: FutureWarning: The frame.append method is deprecated and will be removed from pandas in a future version. Use pandas.concat instead.\n",
      "  df = df.append({\"data\": rawpd, \"age\": int(mlab[:2])+2.5}, ignore_index=True)\n"
     ]
    },
    {
     "name": "stdout",
     "output_type": "stream",
     "text": [
      "<class 'list'>\n",
      "Opening raw data file C:/Users/pesylvestre/Documents/Informatique/BRAIL/FY2023 In-House PoC3/In-HousePOC3/in_housepoc3/data/Lemon_PreDict\\sub-032310\\sub-032310_EC4_eeg.fif...\n",
      "Isotrak not found\n",
      "    Range : 95612 ... 110112 =    382.448 ...   440.448 secs\n",
      "Ready.\n",
      "Reading 0 ... 14500  =      0.000 ...    58.000 secs...\n"
     ]
    },
    {
     "name": "stderr",
     "output_type": "stream",
     "text": [
      "C:\\Users\\PESYLV~1\\AppData\\Local\\Temp/ipykernel_29536/564882533.py:16: FutureWarning: The frame.append method is deprecated and will be removed from pandas in a future version. Use pandas.concat instead.\n",
      "  df = df.append({\"data\": rawpd, \"age\": int(mlab[:2])+2.5}, ignore_index=True)\n"
     ]
    },
    {
     "name": "stdout",
     "output_type": "stream",
     "text": [
      "<class 'list'>\n",
      "Opening raw data file C:/Users/pesylvestre/Documents/Informatique/BRAIL/FY2023 In-House PoC3/In-HousePOC3/in_housepoc3/data/Lemon_PreDict\\sub-032310\\sub-032310_EC5_eeg.fif...\n",
      "Isotrak not found\n",
      "    Range : 126649 ... 141150 =    506.596 ...   564.600 secs\n",
      "Ready.\n",
      "Reading 0 ... 14501  =      0.000 ...    58.004 secs...\n"
     ]
    },
    {
     "name": "stderr",
     "output_type": "stream",
     "text": [
      "C:\\Users\\PESYLV~1\\AppData\\Local\\Temp/ipykernel_29536/564882533.py:16: FutureWarning: The frame.append method is deprecated and will be removed from pandas in a future version. Use pandas.concat instead.\n",
      "  df = df.append({\"data\": rawpd, \"age\": int(mlab[:2])+2.5}, ignore_index=True)\n"
     ]
    },
    {
     "name": "stdout",
     "output_type": "stream",
     "text": [
      "<class 'list'>\n",
      "Opening raw data file C:/Users/pesylvestre/Documents/Informatique/BRAIL/FY2023 In-House PoC3/In-HousePOC3/in_housepoc3/data/Lemon_PreDict\\sub-032310\\sub-032310_EC6_eeg.fif...\n",
      "Isotrak not found\n",
      "    Range : 157641 ... 172142 =    630.564 ...   688.568 secs\n",
      "Ready.\n",
      "Reading 0 ... 14501  =      0.000 ...    58.004 secs...\n"
     ]
    },
    {
     "name": "stderr",
     "output_type": "stream",
     "text": [
      "C:\\Users\\PESYLV~1\\AppData\\Local\\Temp/ipykernel_29536/564882533.py:16: FutureWarning: The frame.append method is deprecated and will be removed from pandas in a future version. Use pandas.concat instead.\n",
      "  df = df.append({\"data\": rawpd, \"age\": int(mlab[:2])+2.5}, ignore_index=True)\n"
     ]
    },
    {
     "name": "stdout",
     "output_type": "stream",
     "text": [
      "<class 'list'>\n",
      "Opening raw data file C:/Users/pesylvestre/Documents/Informatique/BRAIL/FY2023 In-House PoC3/In-HousePOC3/in_housepoc3/data/Lemon_PreDict\\sub-032310\\sub-032310_EC7_eeg.fif...\n",
      "Isotrak not found\n",
      "    Range : 188770 ... 203270 =    755.080 ...   813.080 secs\n",
      "Ready.\n",
      "Reading 0 ... 14500  =      0.000 ...    58.000 secs...\n"
     ]
    },
    {
     "name": "stderr",
     "output_type": "stream",
     "text": [
      "C:\\Users\\PESYLV~1\\AppData\\Local\\Temp/ipykernel_29536/564882533.py:16: FutureWarning: The frame.append method is deprecated and will be removed from pandas in a future version. Use pandas.concat instead.\n",
      "  df = df.append({\"data\": rawpd, \"age\": int(mlab[:2])+2.5}, ignore_index=True)\n"
     ]
    },
    {
     "name": "stdout",
     "output_type": "stream",
     "text": [
      "<class 'list'>\n",
      "Opening raw data file C:/Users/pesylvestre/Documents/Informatique/BRAIL/FY2023 In-House PoC3/In-HousePOC3/in_housepoc3/data/Lemon_PreDict\\sub-032310\\sub-032310_EC8_eeg.fif...\n",
      "Isotrak not found\n",
      "    Range : 219838 ... 234339 =    879.352 ...   937.356 secs\n",
      "Ready.\n",
      "Reading 0 ... 14501  =      0.000 ...    58.004 secs...\n"
     ]
    },
    {
     "name": "stderr",
     "output_type": "stream",
     "text": [
      "C:\\Users\\PESYLV~1\\AppData\\Local\\Temp/ipykernel_29536/564882533.py:16: FutureWarning: The frame.append method is deprecated and will be removed from pandas in a future version. Use pandas.concat instead.\n",
      "  df = df.append({\"data\": rawpd, \"age\": int(mlab[:2])+2.5}, ignore_index=True)\n"
     ]
    },
    {
     "name": "stdout",
     "output_type": "stream",
     "text": [
      "<class 'list'>\n",
      "Opening raw data file C:/Users/pesylvestre/Documents/Informatique/BRAIL/FY2023 In-House PoC3/In-HousePOC3/in_housepoc3/data/Lemon_PreDict\\sub-032310\\sub-032310_EO1_eeg.fif...\n",
      "Isotrak not found\n",
      "    Range : 17836 ... 32336 =     71.344 ...   129.344 secs\n",
      "Ready.\n",
      "Reading 0 ... 14500  =      0.000 ...    58.000 secs...\n"
     ]
    },
    {
     "name": "stderr",
     "output_type": "stream",
     "text": [
      "C:\\Users\\PESYLV~1\\AppData\\Local\\Temp/ipykernel_29536/564882533.py:16: FutureWarning: The frame.append method is deprecated and will be removed from pandas in a future version. Use pandas.concat instead.\n",
      "  df = df.append({\"data\": rawpd, \"age\": int(mlab[:2])+2.5}, ignore_index=True)\n"
     ]
    },
    {
     "name": "stdout",
     "output_type": "stream",
     "text": [
      "<class 'list'>\n",
      "Opening raw data file C:/Users/pesylvestre/Documents/Informatique/BRAIL/FY2023 In-House PoC3/In-HousePOC3/in_housepoc3/data/Lemon_PreDict\\sub-032310\\sub-032310_EO2_eeg.fif...\n",
      "Isotrak not found\n",
      "    Range : 48795 ... 63295 =    195.180 ...   253.180 secs\n",
      "Ready.\n",
      "Reading 0 ... 14500  =      0.000 ...    58.000 secs...\n"
     ]
    },
    {
     "name": "stderr",
     "output_type": "stream",
     "text": [
      "C:\\Users\\PESYLV~1\\AppData\\Local\\Temp/ipykernel_29536/564882533.py:16: FutureWarning: The frame.append method is deprecated and will be removed from pandas in a future version. Use pandas.concat instead.\n",
      "  df = df.append({\"data\": rawpd, \"age\": int(mlab[:2])+2.5}, ignore_index=True)\n"
     ]
    },
    {
     "name": "stdout",
     "output_type": "stream",
     "text": [
      "<class 'list'>\n",
      "Opening raw data file C:/Users/pesylvestre/Documents/Informatique/BRAIL/FY2023 In-House PoC3/In-HousePOC3/in_housepoc3/data/Lemon_PreDict\\sub-032310\\sub-032310_EO3_eeg.fif...\n",
      "Isotrak not found\n",
      "    Range : 79892 ... 94392 =    319.568 ...   377.568 secs\n",
      "Ready.\n",
      "Reading 0 ... 14500  =      0.000 ...    58.000 secs...\n"
     ]
    },
    {
     "name": "stderr",
     "output_type": "stream",
     "text": [
      "C:\\Users\\PESYLV~1\\AppData\\Local\\Temp/ipykernel_29536/564882533.py:16: FutureWarning: The frame.append method is deprecated and will be removed from pandas in a future version. Use pandas.concat instead.\n",
      "  df = df.append({\"data\": rawpd, \"age\": int(mlab[:2])+2.5}, ignore_index=True)\n"
     ]
    },
    {
     "name": "stdout",
     "output_type": "stream",
     "text": [
      "<class 'list'>\n",
      "Opening raw data file C:/Users/pesylvestre/Documents/Informatique/BRAIL/FY2023 In-House PoC3/In-HousePOC3/in_housepoc3/data/Lemon_PreDict\\sub-032310\\sub-032310_EO4_eeg.fif...\n",
      "Isotrak not found\n",
      "    Range : 111065 ... 125565 =    444.260 ...   502.260 secs\n",
      "Ready.\n",
      "Reading 0 ... 14500  =      0.000 ...    58.000 secs...\n"
     ]
    },
    {
     "name": "stderr",
     "output_type": "stream",
     "text": [
      "C:\\Users\\PESYLV~1\\AppData\\Local\\Temp/ipykernel_29536/564882533.py:16: FutureWarning: The frame.append method is deprecated and will be removed from pandas in a future version. Use pandas.concat instead.\n",
      "  df = df.append({\"data\": rawpd, \"age\": int(mlab[:2])+2.5}, ignore_index=True)\n"
     ]
    },
    {
     "name": "stdout",
     "output_type": "stream",
     "text": [
      "<class 'list'>\n",
      "Opening raw data file C:/Users/pesylvestre/Documents/Informatique/BRAIL/FY2023 In-House PoC3/In-HousePOC3/in_housepoc3/data/Lemon_PreDict\\sub-032310\\sub-032310_EO5_eeg.fif...\n",
      "Isotrak not found\n",
      "    Range : 142086 ... 156587 =    568.344 ...   626.348 secs\n",
      "Ready.\n",
      "Reading 0 ... 14501  =      0.000 ...    58.004 secs...\n"
     ]
    },
    {
     "name": "stderr",
     "output_type": "stream",
     "text": [
      "C:\\Users\\PESYLV~1\\AppData\\Local\\Temp/ipykernel_29536/564882533.py:16: FutureWarning: The frame.append method is deprecated and will be removed from pandas in a future version. Use pandas.concat instead.\n",
      "  df = df.append({\"data\": rawpd, \"age\": int(mlab[:2])+2.5}, ignore_index=True)\n"
     ]
    },
    {
     "name": "stdout",
     "output_type": "stream",
     "text": [
      "<class 'list'>\n",
      "Opening raw data file C:/Users/pesylvestre/Documents/Informatique/BRAIL/FY2023 In-House PoC3/In-HousePOC3/in_housepoc3/data/Lemon_PreDict\\sub-032310\\sub-032310_EO6_eeg.fif...\n",
      "Isotrak not found\n",
      "    Range : 173194 ... 187694 =    692.776 ...   750.776 secs\n",
      "Ready.\n",
      "Reading 0 ... 14500  =      0.000 ...    58.000 secs...\n"
     ]
    },
    {
     "name": "stderr",
     "output_type": "stream",
     "text": [
      "C:\\Users\\PESYLV~1\\AppData\\Local\\Temp/ipykernel_29536/564882533.py:16: FutureWarning: The frame.append method is deprecated and will be removed from pandas in a future version. Use pandas.concat instead.\n",
      "  df = df.append({\"data\": rawpd, \"age\": int(mlab[:2])+2.5}, ignore_index=True)\n"
     ]
    },
    {
     "name": "stdout",
     "output_type": "stream",
     "text": [
      "<class 'list'>\n",
      "Opening raw data file C:/Users/pesylvestre/Documents/Informatique/BRAIL/FY2023 In-House PoC3/In-HousePOC3/in_housepoc3/data/Lemon_PreDict\\sub-032310\\sub-032310_EO7_eeg.fif...\n",
      "Isotrak not found\n",
      "    Range : 204348 ... 218848 =    817.392 ...   875.392 secs\n",
      "Ready.\n",
      "Reading 0 ... 14500  =      0.000 ...    58.000 secs...\n"
     ]
    },
    {
     "name": "stderr",
     "output_type": "stream",
     "text": [
      "C:\\Users\\PESYLV~1\\AppData\\Local\\Temp/ipykernel_29536/564882533.py:16: FutureWarning: The frame.append method is deprecated and will be removed from pandas in a future version. Use pandas.concat instead.\n",
      "  df = df.append({\"data\": rawpd, \"age\": int(mlab[:2])+2.5}, ignore_index=True)\n"
     ]
    },
    {
     "name": "stdout",
     "output_type": "stream",
     "text": [
      "<class 'list'>\n",
      "Opening raw data file C:/Users/pesylvestre/Documents/Informatique/BRAIL/FY2023 In-House PoC3/In-HousePOC3/in_housepoc3/data/Lemon_PreDict\\sub-032310\\sub-032310_EO8_eeg.fif...\n",
      "Isotrak not found\n",
      "    Range : 235922 ... 250422 =    943.688 ...  1001.688 secs\n",
      "Ready.\n",
      "Reading 0 ... 14500  =      0.000 ...    58.000 secs...\n"
     ]
    },
    {
     "name": "stderr",
     "output_type": "stream",
     "text": [
      "C:\\Users\\PESYLV~1\\AppData\\Local\\Temp/ipykernel_29536/564882533.py:16: FutureWarning: The frame.append method is deprecated and will be removed from pandas in a future version. Use pandas.concat instead.\n",
      "  df = df.append({\"data\": rawpd, \"age\": int(mlab[:2])+2.5}, ignore_index=True)\n"
     ]
    },
    {
     "name": "stdout",
     "output_type": "stream",
     "text": [
      "<class 'list'>\n",
      "Opening raw data file C:/Users/pesylvestre/Documents/Informatique/BRAIL/FY2023 In-House PoC3/In-HousePOC3/in_housepoc3/data/Lemon_PreDict\\sub-032311\\sub-032311_EC1_eeg.fif...\n",
      "Isotrak not found\n",
      "    Range : 1964 ... 16464 =      7.856 ...    65.856 secs\n",
      "Ready.\n",
      "Reading 0 ... 14500  =      0.000 ...    58.000 secs...\n"
     ]
    },
    {
     "name": "stderr",
     "output_type": "stream",
     "text": [
      "C:\\Users\\PESYLV~1\\AppData\\Local\\Temp/ipykernel_29536/564882533.py:16: FutureWarning: The frame.append method is deprecated and will be removed from pandas in a future version. Use pandas.concat instead.\n",
      "  df = df.append({\"data\": rawpd, \"age\": int(mlab[:2])+2.5}, ignore_index=True)\n"
     ]
    },
    {
     "name": "stdout",
     "output_type": "stream",
     "text": [
      "<class 'list'>\n",
      "Opening raw data file C:/Users/pesylvestre/Documents/Informatique/BRAIL/FY2023 In-House PoC3/In-HousePOC3/in_housepoc3/data/Lemon_PreDict\\sub-032311\\sub-032311_EC2_eeg.fif...\n",
      "Isotrak not found\n",
      "    Range : 33243 ... 47743 =    132.972 ...   190.972 secs\n",
      "Ready.\n",
      "Reading 0 ... 14500  =      0.000 ...    58.000 secs...\n"
     ]
    },
    {
     "name": "stderr",
     "output_type": "stream",
     "text": [
      "C:\\Users\\PESYLV~1\\AppData\\Local\\Temp/ipykernel_29536/564882533.py:16: FutureWarning: The frame.append method is deprecated and will be removed from pandas in a future version. Use pandas.concat instead.\n",
      "  df = df.append({\"data\": rawpd, \"age\": int(mlab[:2])+2.5}, ignore_index=True)\n"
     ]
    },
    {
     "name": "stdout",
     "output_type": "stream",
     "text": [
      "<class 'list'>\n",
      "Opening raw data file C:/Users/pesylvestre/Documents/Informatique/BRAIL/FY2023 In-House PoC3/In-HousePOC3/in_housepoc3/data/Lemon_PreDict\\sub-032311\\sub-032311_EC3_eeg.fif...\n",
      "Isotrak not found\n",
      "    Range : 64142 ... 78642 =    256.568 ...   314.568 secs\n",
      "Ready.\n",
      "Reading 0 ... 14500  =      0.000 ...    58.000 secs...\n"
     ]
    },
    {
     "name": "stderr",
     "output_type": "stream",
     "text": [
      "C:\\Users\\PESYLV~1\\AppData\\Local\\Temp/ipykernel_29536/564882533.py:16: FutureWarning: The frame.append method is deprecated and will be removed from pandas in a future version. Use pandas.concat instead.\n",
      "  df = df.append({\"data\": rawpd, \"age\": int(mlab[:2])+2.5}, ignore_index=True)\n"
     ]
    },
    {
     "name": "stdout",
     "output_type": "stream",
     "text": [
      "<class 'list'>\n",
      "Opening raw data file C:/Users/pesylvestre/Documents/Informatique/BRAIL/FY2023 In-House PoC3/In-HousePOC3/in_housepoc3/data/Lemon_PreDict\\sub-032311\\sub-032311_EC4_eeg.fif...\n",
      "Isotrak not found\n",
      "    Range : 95379 ... 109879 =    381.516 ...   439.516 secs\n",
      "Ready.\n",
      "Reading 0 ... 14500  =      0.000 ...    58.000 secs...\n"
     ]
    },
    {
     "name": "stderr",
     "output_type": "stream",
     "text": [
      "C:\\Users\\PESYLV~1\\AppData\\Local\\Temp/ipykernel_29536/564882533.py:16: FutureWarning: The frame.append method is deprecated and will be removed from pandas in a future version. Use pandas.concat instead.\n",
      "  df = df.append({\"data\": rawpd, \"age\": int(mlab[:2])+2.5}, ignore_index=True)\n"
     ]
    },
    {
     "name": "stdout",
     "output_type": "stream",
     "text": [
      "<class 'list'>\n",
      "Opening raw data file C:/Users/pesylvestre/Documents/Informatique/BRAIL/FY2023 In-House PoC3/In-HousePOC3/in_housepoc3/data/Lemon_PreDict\\sub-032311\\sub-032311_EC5_eeg.fif...\n",
      "Isotrak not found\n",
      "    Range : 126432 ... 140932 =    505.728 ...   563.728 secs\n",
      "Ready.\n",
      "Reading 0 ... 14500  =      0.000 ...    58.000 secs...\n"
     ]
    },
    {
     "name": "stderr",
     "output_type": "stream",
     "text": [
      "C:\\Users\\PESYLV~1\\AppData\\Local\\Temp/ipykernel_29536/564882533.py:16: FutureWarning: The frame.append method is deprecated and will be removed from pandas in a future version. Use pandas.concat instead.\n",
      "  df = df.append({\"data\": rawpd, \"age\": int(mlab[:2])+2.5}, ignore_index=True)\n"
     ]
    },
    {
     "name": "stdout",
     "output_type": "stream",
     "text": [
      "<class 'list'>\n",
      "Opening raw data file C:/Users/pesylvestre/Documents/Informatique/BRAIL/FY2023 In-House PoC3/In-HousePOC3/in_housepoc3/data/Lemon_PreDict\\sub-032311\\sub-032311_EC6_eeg.fif...\n",
      "Isotrak not found\n",
      "    Range : 158468 ... 172968 =    633.872 ...   691.872 secs\n",
      "Ready.\n",
      "Reading 0 ... 14500  =      0.000 ...    58.000 secs...\n"
     ]
    },
    {
     "name": "stderr",
     "output_type": "stream",
     "text": [
      "C:\\Users\\PESYLV~1\\AppData\\Local\\Temp/ipykernel_29536/564882533.py:16: FutureWarning: The frame.append method is deprecated and will be removed from pandas in a future version. Use pandas.concat instead.\n",
      "  df = df.append({\"data\": rawpd, \"age\": int(mlab[:2])+2.5}, ignore_index=True)\n"
     ]
    },
    {
     "name": "stdout",
     "output_type": "stream",
     "text": [
      "<class 'list'>\n",
      "Opening raw data file C:/Users/pesylvestre/Documents/Informatique/BRAIL/FY2023 In-House PoC3/In-HousePOC3/in_housepoc3/data/Lemon_PreDict\\sub-032311\\sub-032311_EC7_eeg.fif...\n",
      "Isotrak not found\n",
      "    Range : 189714 ... 204214 =    758.856 ...   816.856 secs\n",
      "Ready.\n",
      "Reading 0 ... 14500  =      0.000 ...    58.000 secs...\n"
     ]
    },
    {
     "name": "stderr",
     "output_type": "stream",
     "text": [
      "C:\\Users\\PESYLV~1\\AppData\\Local\\Temp/ipykernel_29536/564882533.py:16: FutureWarning: The frame.append method is deprecated and will be removed from pandas in a future version. Use pandas.concat instead.\n",
      "  df = df.append({\"data\": rawpd, \"age\": int(mlab[:2])+2.5}, ignore_index=True)\n"
     ]
    },
    {
     "name": "stdout",
     "output_type": "stream",
     "text": [
      "<class 'list'>\n",
      "Opening raw data file C:/Users/pesylvestre/Documents/Informatique/BRAIL/FY2023 In-House PoC3/In-HousePOC3/in_housepoc3/data/Lemon_PreDict\\sub-032311\\sub-032311_EC8_eeg.fif...\n",
      "Isotrak not found\n",
      "    Range : 220759 ... 235259 =    883.036 ...   941.036 secs\n",
      "Ready.\n",
      "Reading 0 ... 14500  =      0.000 ...    58.000 secs...\n"
     ]
    },
    {
     "name": "stderr",
     "output_type": "stream",
     "text": [
      "C:\\Users\\PESYLV~1\\AppData\\Local\\Temp/ipykernel_29536/564882533.py:16: FutureWarning: The frame.append method is deprecated and will be removed from pandas in a future version. Use pandas.concat instead.\n",
      "  df = df.append({\"data\": rawpd, \"age\": int(mlab[:2])+2.5}, ignore_index=True)\n"
     ]
    },
    {
     "name": "stdout",
     "output_type": "stream",
     "text": [
      "<class 'list'>\n",
      "Opening raw data file C:/Users/pesylvestre/Documents/Informatique/BRAIL/FY2023 In-House PoC3/In-HousePOC3/in_housepoc3/data/Lemon_PreDict\\sub-032311\\sub-032311_EO1_eeg.fif...\n",
      "Isotrak not found\n",
      "    Range : 17630 ... 32131 =     70.520 ...   128.524 secs\n",
      "Ready.\n",
      "Reading 0 ... 14501  =      0.000 ...    58.004 secs...\n"
     ]
    },
    {
     "name": "stderr",
     "output_type": "stream",
     "text": [
      "C:\\Users\\PESYLV~1\\AppData\\Local\\Temp/ipykernel_29536/564882533.py:16: FutureWarning: The frame.append method is deprecated and will be removed from pandas in a future version. Use pandas.concat instead.\n",
      "  df = df.append({\"data\": rawpd, \"age\": int(mlab[:2])+2.5}, ignore_index=True)\n"
     ]
    },
    {
     "name": "stdout",
     "output_type": "stream",
     "text": [
      "<class 'list'>\n",
      "Opening raw data file C:/Users/pesylvestre/Documents/Informatique/BRAIL/FY2023 In-House PoC3/In-HousePOC3/in_housepoc3/data/Lemon_PreDict\\sub-032311\\sub-032311_EO2_eeg.fif...\n",
      "Isotrak not found\n",
      "    Range : 48758 ... 63258 =    195.032 ...   253.032 secs\n",
      "Ready.\n",
      "Reading 0 ... 14500  =      0.000 ...    58.000 secs...\n"
     ]
    },
    {
     "name": "stderr",
     "output_type": "stream",
     "text": [
      "C:\\Users\\PESYLV~1\\AppData\\Local\\Temp/ipykernel_29536/564882533.py:16: FutureWarning: The frame.append method is deprecated and will be removed from pandas in a future version. Use pandas.concat instead.\n",
      "  df = df.append({\"data\": rawpd, \"age\": int(mlab[:2])+2.5}, ignore_index=True)\n"
     ]
    },
    {
     "name": "stdout",
     "output_type": "stream",
     "text": [
      "<class 'list'>\n",
      "Opening raw data file C:/Users/pesylvestre/Documents/Informatique/BRAIL/FY2023 In-House PoC3/In-HousePOC3/in_housepoc3/data/Lemon_PreDict\\sub-032311\\sub-032311_EO3_eeg.fif...\n",
      "Isotrak not found\n",
      "    Range : 79938 ... 94438 =    319.752 ...   377.752 secs\n",
      "Ready.\n",
      "Reading 0 ... 14500  =      0.000 ...    58.000 secs...\n"
     ]
    },
    {
     "name": "stderr",
     "output_type": "stream",
     "text": [
      "C:\\Users\\PESYLV~1\\AppData\\Local\\Temp/ipykernel_29536/564882533.py:16: FutureWarning: The frame.append method is deprecated and will be removed from pandas in a future version. Use pandas.concat instead.\n",
      "  df = df.append({\"data\": rawpd, \"age\": int(mlab[:2])+2.5}, ignore_index=True)\n"
     ]
    },
    {
     "name": "stdout",
     "output_type": "stream",
     "text": [
      "<class 'list'>\n",
      "Opening raw data file C:/Users/pesylvestre/Documents/Informatique/BRAIL/FY2023 In-House PoC3/In-HousePOC3/in_housepoc3/data/Lemon_PreDict\\sub-032311\\sub-032311_EO4_eeg.fif...\n",
      "Isotrak not found\n",
      "    Range : 110838 ... 125338 =    443.352 ...   501.352 secs\n",
      "Ready.\n",
      "Reading 0 ... 14500  =      0.000 ...    58.000 secs...\n"
     ]
    },
    {
     "name": "stderr",
     "output_type": "stream",
     "text": [
      "C:\\Users\\PESYLV~1\\AppData\\Local\\Temp/ipykernel_29536/564882533.py:16: FutureWarning: The frame.append method is deprecated and will be removed from pandas in a future version. Use pandas.concat instead.\n",
      "  df = df.append({\"data\": rawpd, \"age\": int(mlab[:2])+2.5}, ignore_index=True)\n"
     ]
    },
    {
     "name": "stdout",
     "output_type": "stream",
     "text": [
      "<class 'list'>\n",
      "Opening raw data file C:/Users/pesylvestre/Documents/Informatique/BRAIL/FY2023 In-House PoC3/In-HousePOC3/in_housepoc3/data/Lemon_PreDict\\sub-032311\\sub-032311_EO5_eeg.fif...\n",
      "Isotrak not found\n",
      "    Range : 141900 ... 156400 =    567.600 ...   625.600 secs\n",
      "Ready.\n",
      "Reading 0 ... 14500  =      0.000 ...    58.000 secs...\n"
     ]
    },
    {
     "name": "stderr",
     "output_type": "stream",
     "text": [
      "C:\\Users\\PESYLV~1\\AppData\\Local\\Temp/ipykernel_29536/564882533.py:16: FutureWarning: The frame.append method is deprecated and will be removed from pandas in a future version. Use pandas.concat instead.\n",
      "  df = df.append({\"data\": rawpd, \"age\": int(mlab[:2])+2.5}, ignore_index=True)\n"
     ]
    },
    {
     "name": "stdout",
     "output_type": "stream",
     "text": [
      "<class 'list'>\n",
      "Opening raw data file C:/Users/pesylvestre/Documents/Informatique/BRAIL/FY2023 In-House PoC3/In-HousePOC3/in_housepoc3/data/Lemon_PreDict\\sub-032311\\sub-032311_EO6_eeg.fif...\n",
      "Isotrak not found\n",
      "    Range : 174200 ... 188700 =    696.800 ...   754.800 secs\n",
      "Ready.\n",
      "Reading 0 ... 14500  =      0.000 ...    58.000 secs...\n"
     ]
    },
    {
     "name": "stderr",
     "output_type": "stream",
     "text": [
      "C:\\Users\\PESYLV~1\\AppData\\Local\\Temp/ipykernel_29536/564882533.py:16: FutureWarning: The frame.append method is deprecated and will be removed from pandas in a future version. Use pandas.concat instead.\n",
      "  df = df.append({\"data\": rawpd, \"age\": int(mlab[:2])+2.5}, ignore_index=True)\n"
     ]
    },
    {
     "name": "stdout",
     "output_type": "stream",
     "text": [
      "<class 'list'>\n",
      "Opening raw data file C:/Users/pesylvestre/Documents/Informatique/BRAIL/FY2023 In-House PoC3/In-HousePOC3/in_housepoc3/data/Lemon_PreDict\\sub-032311\\sub-032311_EO7_eeg.fif...\n",
      "Isotrak not found\n",
      "    Range : 205314 ... 219814 =    821.256 ...   879.256 secs\n",
      "Ready.\n",
      "Reading 0 ... 14500  =      0.000 ...    58.000 secs...\n"
     ]
    },
    {
     "name": "stderr",
     "output_type": "stream",
     "text": [
      "C:\\Users\\PESYLV~1\\AppData\\Local\\Temp/ipykernel_29536/564882533.py:16: FutureWarning: The frame.append method is deprecated and will be removed from pandas in a future version. Use pandas.concat instead.\n",
      "  df = df.append({\"data\": rawpd, \"age\": int(mlab[:2])+2.5}, ignore_index=True)\n"
     ]
    },
    {
     "name": "stdout",
     "output_type": "stream",
     "text": [
      "<class 'list'>\n",
      "Opening raw data file C:/Users/pesylvestre/Documents/Informatique/BRAIL/FY2023 In-House PoC3/In-HousePOC3/in_housepoc3/data/Lemon_PreDict\\sub-032311\\sub-032311_EO8_eeg.fif...\n",
      "Isotrak not found\n",
      "    Range : 236329 ... 250829 =    945.316 ...  1003.316 secs\n",
      "Ready.\n",
      "Reading 0 ... 14500  =      0.000 ...    58.000 secs...\n"
     ]
    },
    {
     "name": "stderr",
     "output_type": "stream",
     "text": [
      "C:\\Users\\PESYLV~1\\AppData\\Local\\Temp/ipykernel_29536/564882533.py:16: FutureWarning: The frame.append method is deprecated and will be removed from pandas in a future version. Use pandas.concat instead.\n",
      "  df = df.append({\"data\": rawpd, \"age\": int(mlab[:2])+2.5}, ignore_index=True)\n"
     ]
    },
    {
     "name": "stdout",
     "output_type": "stream",
     "text": [
      "<class 'list'>\n",
      "Opening raw data file C:/Users/pesylvestre/Documents/Informatique/BRAIL/FY2023 In-House PoC3/In-HousePOC3/in_housepoc3/data/Lemon_PreDict\\sub-032312\\sub-032312_EC1_eeg.fif...\n",
      "Isotrak not found\n",
      "    Range : 2930 ... 17430 =     11.720 ...    69.720 secs\n",
      "Ready.\n",
      "Reading 0 ... 14500  =      0.000 ...    58.000 secs...\n"
     ]
    },
    {
     "name": "stderr",
     "output_type": "stream",
     "text": [
      "C:\\Users\\PESYLV~1\\AppData\\Local\\Temp/ipykernel_29536/564882533.py:16: FutureWarning: The frame.append method is deprecated and will be removed from pandas in a future version. Use pandas.concat instead.\n",
      "  df = df.append({\"data\": rawpd, \"age\": int(mlab[:2])+2.5}, ignore_index=True)\n"
     ]
    },
    {
     "name": "stdout",
     "output_type": "stream",
     "text": [
      "<class 'list'>\n",
      "Opening raw data file C:/Users/pesylvestre/Documents/Informatique/BRAIL/FY2023 In-House PoC3/In-HousePOC3/in_housepoc3/data/Lemon_PreDict\\sub-032312\\sub-032312_EC2_eeg.fif...\n",
      "Isotrak not found\n",
      "    Range : 34510 ... 49011 =    138.040 ...   196.044 secs\n",
      "Ready.\n",
      "Reading 0 ... 14501  =      0.000 ...    58.004 secs...\n"
     ]
    },
    {
     "name": "stderr",
     "output_type": "stream",
     "text": [
      "C:\\Users\\PESYLV~1\\AppData\\Local\\Temp/ipykernel_29536/564882533.py:16: FutureWarning: The frame.append method is deprecated and will be removed from pandas in a future version. Use pandas.concat instead.\n",
      "  df = df.append({\"data\": rawpd, \"age\": int(mlab[:2])+2.5}, ignore_index=True)\n"
     ]
    },
    {
     "name": "stdout",
     "output_type": "stream",
     "text": [
      "<class 'list'>\n",
      "Opening raw data file C:/Users/pesylvestre/Documents/Informatique/BRAIL/FY2023 In-House PoC3/In-HousePOC3/in_housepoc3/data/Lemon_PreDict\\sub-032312\\sub-032312_EC3_eeg.fif...\n",
      "Isotrak not found\n",
      "    Range : 65531 ... 80031 =    262.124 ...   320.124 secs\n",
      "Ready.\n",
      "Reading 0 ... 14500  =      0.000 ...    58.000 secs...\n"
     ]
    },
    {
     "name": "stderr",
     "output_type": "stream",
     "text": [
      "C:\\Users\\PESYLV~1\\AppData\\Local\\Temp/ipykernel_29536/564882533.py:16: FutureWarning: The frame.append method is deprecated and will be removed from pandas in a future version. Use pandas.concat instead.\n",
      "  df = df.append({\"data\": rawpd, \"age\": int(mlab[:2])+2.5}, ignore_index=True)\n"
     ]
    },
    {
     "name": "stdout",
     "output_type": "stream",
     "text": [
      "<class 'list'>\n",
      "Opening raw data file C:/Users/pesylvestre/Documents/Informatique/BRAIL/FY2023 In-House PoC3/In-HousePOC3/in_housepoc3/data/Lemon_PreDict\\sub-032312\\sub-032312_EC4_eeg.fif...\n",
      "Isotrak not found\n",
      "    Range : 96624 ... 111125 =    386.496 ...   444.500 secs\n",
      "Ready.\n",
      "Reading 0 ... 14501  =      0.000 ...    58.004 secs...\n"
     ]
    },
    {
     "name": "stderr",
     "output_type": "stream",
     "text": [
      "C:\\Users\\PESYLV~1\\AppData\\Local\\Temp/ipykernel_29536/564882533.py:16: FutureWarning: The frame.append method is deprecated and will be removed from pandas in a future version. Use pandas.concat instead.\n",
      "  df = df.append({\"data\": rawpd, \"age\": int(mlab[:2])+2.5}, ignore_index=True)\n"
     ]
    },
    {
     "name": "stdout",
     "output_type": "stream",
     "text": [
      "<class 'list'>\n",
      "Opening raw data file C:/Users/pesylvestre/Documents/Informatique/BRAIL/FY2023 In-House PoC3/In-HousePOC3/in_housepoc3/data/Lemon_PreDict\\sub-032312\\sub-032312_EC5_eeg.fif...\n",
      "Isotrak not found\n",
      "    Range : 127667 ... 142167 =    510.668 ...   568.668 secs\n",
      "Ready.\n",
      "Reading 0 ... 14500  =      0.000 ...    58.000 secs...\n"
     ]
    },
    {
     "name": "stderr",
     "output_type": "stream",
     "text": [
      "C:\\Users\\PESYLV~1\\AppData\\Local\\Temp/ipykernel_29536/564882533.py:16: FutureWarning: The frame.append method is deprecated and will be removed from pandas in a future version. Use pandas.concat instead.\n",
      "  df = df.append({\"data\": rawpd, \"age\": int(mlab[:2])+2.5}, ignore_index=True)\n"
     ]
    },
    {
     "name": "stdout",
     "output_type": "stream",
     "text": [
      "<class 'list'>\n",
      "Opening raw data file C:/Users/pesylvestre/Documents/Informatique/BRAIL/FY2023 In-House PoC3/In-HousePOC3/in_housepoc3/data/Lemon_PreDict\\sub-032312\\sub-032312_EC6_eeg.fif...\n",
      "Isotrak not found\n",
      "    Range : 158761 ... 173261 =    635.044 ...   693.044 secs\n",
      "Ready.\n",
      "Reading 0 ... 14500  =      0.000 ...    58.000 secs...\n"
     ]
    },
    {
     "name": "stderr",
     "output_type": "stream",
     "text": [
      "C:\\Users\\PESYLV~1\\AppData\\Local\\Temp/ipykernel_29536/564882533.py:16: FutureWarning: The frame.append method is deprecated and will be removed from pandas in a future version. Use pandas.concat instead.\n",
      "  df = df.append({\"data\": rawpd, \"age\": int(mlab[:2])+2.5}, ignore_index=True)\n"
     ]
    },
    {
     "name": "stdout",
     "output_type": "stream",
     "text": [
      "<class 'list'>\n",
      "Opening raw data file C:/Users/pesylvestre/Documents/Informatique/BRAIL/FY2023 In-House PoC3/In-HousePOC3/in_housepoc3/data/Lemon_PreDict\\sub-032312\\sub-032312_EC7_eeg.fif...\n",
      "Isotrak not found\n",
      "    Range : 199768 ... 214268 =    799.072 ...   857.072 secs\n",
      "Ready.\n",
      "Reading 0 ... 14500  =      0.000 ...    58.000 secs...\n"
     ]
    },
    {
     "name": "stderr",
     "output_type": "stream",
     "text": [
      "C:\\Users\\PESYLV~1\\AppData\\Local\\Temp/ipykernel_29536/564882533.py:16: FutureWarning: The frame.append method is deprecated and will be removed from pandas in a future version. Use pandas.concat instead.\n",
      "  df = df.append({\"data\": rawpd, \"age\": int(mlab[:2])+2.5}, ignore_index=True)\n"
     ]
    },
    {
     "name": "stdout",
     "output_type": "stream",
     "text": [
      "<class 'list'>\n",
      "Opening raw data file C:/Users/pesylvestre/Documents/Informatique/BRAIL/FY2023 In-House PoC3/In-HousePOC3/in_housepoc3/data/Lemon_PreDict\\sub-032312\\sub-032312_EC8_eeg.fif...\n",
      "Isotrak not found\n",
      "    Range : 230602 ... 245102 =    922.408 ...   980.408 secs\n",
      "Ready.\n",
      "Reading 0 ... 14500  =      0.000 ...    58.000 secs...\n"
     ]
    },
    {
     "name": "stderr",
     "output_type": "stream",
     "text": [
      "C:\\Users\\PESYLV~1\\AppData\\Local\\Temp/ipykernel_29536/564882533.py:16: FutureWarning: The frame.append method is deprecated and will be removed from pandas in a future version. Use pandas.concat instead.\n",
      "  df = df.append({\"data\": rawpd, \"age\": int(mlab[:2])+2.5}, ignore_index=True)\n"
     ]
    },
    {
     "name": "stdout",
     "output_type": "stream",
     "text": [
      "<class 'list'>\n",
      "Opening raw data file C:/Users/pesylvestre/Documents/Informatique/BRAIL/FY2023 In-House PoC3/In-HousePOC3/in_housepoc3/data/Lemon_PreDict\\sub-032312\\sub-032312_EO1_eeg.fif...\n",
      "Isotrak not found\n",
      "    Range : 19021 ... 33521 =     76.084 ...   134.084 secs\n",
      "Ready.\n",
      "Reading 0 ... 14500  =      0.000 ...    58.000 secs...\n"
     ]
    },
    {
     "name": "stderr",
     "output_type": "stream",
     "text": [
      "C:\\Users\\PESYLV~1\\AppData\\Local\\Temp/ipykernel_29536/564882533.py:16: FutureWarning: The frame.append method is deprecated and will be removed from pandas in a future version. Use pandas.concat instead.\n",
      "  df = df.append({\"data\": rawpd, \"age\": int(mlab[:2])+2.5}, ignore_index=True)\n"
     ]
    },
    {
     "name": "stdout",
     "output_type": "stream",
     "text": [
      "<class 'list'>\n",
      "Opening raw data file C:/Users/pesylvestre/Documents/Informatique/BRAIL/FY2023 In-House PoC3/In-HousePOC3/in_housepoc3/data/Lemon_PreDict\\sub-032312\\sub-032312_EO2_eeg.fif...\n",
      "Isotrak not found\n",
      "    Range : 50045 ... 64546 =    200.180 ...   258.184 secs\n",
      "Ready.\n",
      "Reading 0 ... 14501  =      0.000 ...    58.004 secs...\n"
     ]
    },
    {
     "name": "stderr",
     "output_type": "stream",
     "text": [
      "C:\\Users\\PESYLV~1\\AppData\\Local\\Temp/ipykernel_29536/564882533.py:16: FutureWarning: The frame.append method is deprecated and will be removed from pandas in a future version. Use pandas.concat instead.\n",
      "  df = df.append({\"data\": rawpd, \"age\": int(mlab[:2])+2.5}, ignore_index=True)\n"
     ]
    },
    {
     "name": "stdout",
     "output_type": "stream",
     "text": [
      "<class 'list'>\n",
      "Opening raw data file C:/Users/pesylvestre/Documents/Informatique/BRAIL/FY2023 In-House PoC3/In-HousePOC3/in_housepoc3/data/Lemon_PreDict\\sub-032312\\sub-032312_EO3_eeg.fif...\n",
      "Isotrak not found\n",
      "    Range : 81110 ... 95610 =    324.440 ...   382.440 secs\n",
      "Ready.\n",
      "Reading 0 ... 14500  =      0.000 ...    58.000 secs...\n"
     ]
    },
    {
     "name": "stderr",
     "output_type": "stream",
     "text": [
      "C:\\Users\\PESYLV~1\\AppData\\Local\\Temp/ipykernel_29536/564882533.py:16: FutureWarning: The frame.append method is deprecated and will be removed from pandas in a future version. Use pandas.concat instead.\n",
      "  df = df.append({\"data\": rawpd, \"age\": int(mlab[:2])+2.5}, ignore_index=True)\n"
     ]
    },
    {
     "name": "stdout",
     "output_type": "stream",
     "text": [
      "<class 'list'>\n",
      "Opening raw data file C:/Users/pesylvestre/Documents/Informatique/BRAIL/FY2023 In-House PoC3/In-HousePOC3/in_housepoc3/data/Lemon_PreDict\\sub-032312\\sub-032312_EO4_eeg.fif...\n",
      "Isotrak not found\n",
      "    Range : 112125 ... 126625 =    448.500 ...   506.500 secs\n",
      "Ready.\n",
      "Reading 0 ... 14500  =      0.000 ...    58.000 secs...\n"
     ]
    },
    {
     "name": "stderr",
     "output_type": "stream",
     "text": [
      "C:\\Users\\PESYLV~1\\AppData\\Local\\Temp/ipykernel_29536/564882533.py:16: FutureWarning: The frame.append method is deprecated and will be removed from pandas in a future version. Use pandas.concat instead.\n",
      "  df = df.append({\"data\": rawpd, \"age\": int(mlab[:2])+2.5}, ignore_index=True)\n"
     ]
    },
    {
     "name": "stdout",
     "output_type": "stream",
     "text": [
      "<class 'list'>\n",
      "Opening raw data file C:/Users/pesylvestre/Documents/Informatique/BRAIL/FY2023 In-House PoC3/In-HousePOC3/in_housepoc3/data/Lemon_PreDict\\sub-032312\\sub-032312_EO5_eeg.fif...\n",
      "Isotrak not found\n",
      "    Range : 143191 ... 157691 =    572.764 ...   630.764 secs\n",
      "Ready.\n",
      "Reading 0 ... 14500  =      0.000 ...    58.000 secs...\n"
     ]
    },
    {
     "name": "stderr",
     "output_type": "stream",
     "text": [
      "C:\\Users\\PESYLV~1\\AppData\\Local\\Temp/ipykernel_29536/564882533.py:16: FutureWarning: The frame.append method is deprecated and will be removed from pandas in a future version. Use pandas.concat instead.\n",
      "  df = df.append({\"data\": rawpd, \"age\": int(mlab[:2])+2.5}, ignore_index=True)\n"
     ]
    },
    {
     "name": "stdout",
     "output_type": "stream",
     "text": [
      "<class 'list'>\n",
      "Opening raw data file C:/Users/pesylvestre/Documents/Informatique/BRAIL/FY2023 In-House PoC3/In-HousePOC3/in_housepoc3/data/Lemon_PreDict\\sub-032312\\sub-032312_EO6_eeg.fif...\n",
      "Isotrak not found\n",
      "    Range : 174297 ... 188797 =    697.188 ...   755.188 secs\n",
      "Ready.\n",
      "Reading 0 ... 14500  =      0.000 ...    58.000 secs...\n"
     ]
    },
    {
     "name": "stderr",
     "output_type": "stream",
     "text": [
      "C:\\Users\\PESYLV~1\\AppData\\Local\\Temp/ipykernel_29536/564882533.py:16: FutureWarning: The frame.append method is deprecated and will be removed from pandas in a future version. Use pandas.concat instead.\n",
      "  df = df.append({\"data\": rawpd, \"age\": int(mlab[:2])+2.5}, ignore_index=True)\n"
     ]
    },
    {
     "name": "stdout",
     "output_type": "stream",
     "text": [
      "<class 'list'>\n",
      "Opening raw data file C:/Users/pesylvestre/Documents/Informatique/BRAIL/FY2023 In-House PoC3/In-HousePOC3/in_housepoc3/data/Lemon_PreDict\\sub-032312\\sub-032312_EO7_eeg.fif...\n",
      "Isotrak not found\n",
      "    Range : 215211 ... 229711 =    860.844 ...   918.844 secs\n",
      "Ready.\n",
      "Reading 0 ... 14500  =      0.000 ...    58.000 secs...\n"
     ]
    },
    {
     "name": "stderr",
     "output_type": "stream",
     "text": [
      "C:\\Users\\PESYLV~1\\AppData\\Local\\Temp/ipykernel_29536/564882533.py:16: FutureWarning: The frame.append method is deprecated and will be removed from pandas in a future version. Use pandas.concat instead.\n",
      "  df = df.append({\"data\": rawpd, \"age\": int(mlab[:2])+2.5}, ignore_index=True)\n"
     ]
    },
    {
     "name": "stdout",
     "output_type": "stream",
     "text": [
      "<class 'list'>\n",
      "Opening raw data file C:/Users/pesylvestre/Documents/Informatique/BRAIL/FY2023 In-House PoC3/In-HousePOC3/in_housepoc3/data/Lemon_PreDict\\sub-032312\\sub-032312_EO8_eeg.fif...\n",
      "Isotrak not found\n",
      "    Range : 246115 ... 260616 =    984.460 ...  1042.464 secs\n",
      "Ready.\n",
      "Reading 0 ... 14501  =      0.000 ...    58.004 secs...\n"
     ]
    },
    {
     "name": "stderr",
     "output_type": "stream",
     "text": [
      "C:\\Users\\PESYLV~1\\AppData\\Local\\Temp/ipykernel_29536/564882533.py:16: FutureWarning: The frame.append method is deprecated and will be removed from pandas in a future version. Use pandas.concat instead.\n",
      "  df = df.append({\"data\": rawpd, \"age\": int(mlab[:2])+2.5}, ignore_index=True)\n"
     ]
    },
    {
     "name": "stdout",
     "output_type": "stream",
     "text": [
      "<class 'list'>\n",
      "Opening raw data file C:/Users/pesylvestre/Documents/Informatique/BRAIL/FY2023 In-House PoC3/In-HousePOC3/in_housepoc3/data/Lemon_PreDict\\sub-032313\\sub-032313_EC1_eeg.fif...\n",
      "Isotrak not found\n",
      "    Range : 1788 ... 16288 =      7.152 ...    65.152 secs\n",
      "Ready.\n",
      "Reading 0 ... 14500  =      0.000 ...    58.000 secs...\n"
     ]
    },
    {
     "name": "stderr",
     "output_type": "stream",
     "text": [
      "C:\\Users\\PESYLV~1\\AppData\\Local\\Temp/ipykernel_29536/564882533.py:16: FutureWarning: The frame.append method is deprecated and will be removed from pandas in a future version. Use pandas.concat instead.\n",
      "  df = df.append({\"data\": rawpd, \"age\": int(mlab[:2])+2.5}, ignore_index=True)\n"
     ]
    },
    {
     "name": "stdout",
     "output_type": "stream",
     "text": [
      "<class 'list'>\n",
      "Opening raw data file C:/Users/pesylvestre/Documents/Informatique/BRAIL/FY2023 In-House PoC3/In-HousePOC3/in_housepoc3/data/Lemon_PreDict\\sub-032313\\sub-032313_EC2_eeg.fif...\n",
      "Isotrak not found\n",
      "    Range : 32774 ... 47275 =    131.096 ...   189.100 secs\n",
      "Ready.\n",
      "Reading 0 ... 14501  =      0.000 ...    58.004 secs...\n"
     ]
    },
    {
     "name": "stderr",
     "output_type": "stream",
     "text": [
      "C:\\Users\\PESYLV~1\\AppData\\Local\\Temp/ipykernel_29536/564882533.py:16: FutureWarning: The frame.append method is deprecated and will be removed from pandas in a future version. Use pandas.concat instead.\n",
      "  df = df.append({\"data\": rawpd, \"age\": int(mlab[:2])+2.5}, ignore_index=True)\n"
     ]
    },
    {
     "name": "stdout",
     "output_type": "stream",
     "text": [
      "<class 'list'>\n",
      "Opening raw data file C:/Users/pesylvestre/Documents/Informatique/BRAIL/FY2023 In-House PoC3/In-HousePOC3/in_housepoc3/data/Lemon_PreDict\\sub-032313\\sub-032313_EC3_eeg.fif...\n",
      "Isotrak not found\n",
      "    Range : 63704 ... 78205 =    254.816 ...   312.820 secs\n",
      "Ready.\n",
      "Reading 0 ... 14501  =      0.000 ...    58.004 secs...\n"
     ]
    },
    {
     "name": "stderr",
     "output_type": "stream",
     "text": [
      "C:\\Users\\PESYLV~1\\AppData\\Local\\Temp/ipykernel_29536/564882533.py:16: FutureWarning: The frame.append method is deprecated and will be removed from pandas in a future version. Use pandas.concat instead.\n",
      "  df = df.append({\"data\": rawpd, \"age\": int(mlab[:2])+2.5}, ignore_index=True)\n"
     ]
    },
    {
     "name": "stdout",
     "output_type": "stream",
     "text": [
      "<class 'list'>\n",
      "Opening raw data file C:/Users/pesylvestre/Documents/Informatique/BRAIL/FY2023 In-House PoC3/In-HousePOC3/in_housepoc3/data/Lemon_PreDict\\sub-032313\\sub-032313_EC4_eeg.fif...\n",
      "Isotrak not found\n",
      "    Range : 94767 ... 109267 =    379.068 ...   437.068 secs\n",
      "Ready.\n",
      "Reading 0 ... 14500  =      0.000 ...    58.000 secs...\n"
     ]
    },
    {
     "name": "stderr",
     "output_type": "stream",
     "text": [
      "C:\\Users\\PESYLV~1\\AppData\\Local\\Temp/ipykernel_29536/564882533.py:16: FutureWarning: The frame.append method is deprecated and will be removed from pandas in a future version. Use pandas.concat instead.\n",
      "  df = df.append({\"data\": rawpd, \"age\": int(mlab[:2])+2.5}, ignore_index=True)\n"
     ]
    },
    {
     "name": "stdout",
     "output_type": "stream",
     "text": [
      "<class 'list'>\n",
      "Opening raw data file C:/Users/pesylvestre/Documents/Informatique/BRAIL/FY2023 In-House PoC3/In-HousePOC3/in_housepoc3/data/Lemon_PreDict\\sub-032313\\sub-032313_EC5_eeg.fif...\n",
      "Isotrak not found\n",
      "    Range : 125687 ... 140188 =    502.748 ...   560.752 secs\n",
      "Ready.\n",
      "Reading 0 ... 14501  =      0.000 ...    58.004 secs...\n"
     ]
    },
    {
     "name": "stderr",
     "output_type": "stream",
     "text": [
      "C:\\Users\\PESYLV~1\\AppData\\Local\\Temp/ipykernel_29536/564882533.py:16: FutureWarning: The frame.append method is deprecated and will be removed from pandas in a future version. Use pandas.concat instead.\n",
      "  df = df.append({\"data\": rawpd, \"age\": int(mlab[:2])+2.5}, ignore_index=True)\n"
     ]
    },
    {
     "name": "stdout",
     "output_type": "stream",
     "text": [
      "<class 'list'>\n",
      "Opening raw data file C:/Users/pesylvestre/Documents/Informatique/BRAIL/FY2023 In-House PoC3/In-HousePOC3/in_housepoc3/data/Lemon_PreDict\\sub-032313\\sub-032313_EC6_eeg.fif...\n",
      "Isotrak not found\n",
      "    Range : 156680 ... 171181 =    626.720 ...   684.724 secs\n",
      "Ready.\n",
      "Reading 0 ... 14501  =      0.000 ...    58.004 secs...\n"
     ]
    },
    {
     "name": "stderr",
     "output_type": "stream",
     "text": [
      "C:\\Users\\PESYLV~1\\AppData\\Local\\Temp/ipykernel_29536/564882533.py:16: FutureWarning: The frame.append method is deprecated and will be removed from pandas in a future version. Use pandas.concat instead.\n",
      "  df = df.append({\"data\": rawpd, \"age\": int(mlab[:2])+2.5}, ignore_index=True)\n"
     ]
    },
    {
     "name": "stdout",
     "output_type": "stream",
     "text": [
      "<class 'list'>\n",
      "Opening raw data file C:/Users/pesylvestre/Documents/Informatique/BRAIL/FY2023 In-House PoC3/In-HousePOC3/in_housepoc3/data/Lemon_PreDict\\sub-032313\\sub-032313_EC7_eeg.fif...\n",
      "Isotrak not found\n",
      "    Range : 187743 ... 202244 =    750.972 ...   808.976 secs\n",
      "Ready.\n",
      "Reading 0 ... 14501  =      0.000 ...    58.004 secs...\n"
     ]
    },
    {
     "name": "stderr",
     "output_type": "stream",
     "text": [
      "C:\\Users\\PESYLV~1\\AppData\\Local\\Temp/ipykernel_29536/564882533.py:16: FutureWarning: The frame.append method is deprecated and will be removed from pandas in a future version. Use pandas.concat instead.\n",
      "  df = df.append({\"data\": rawpd, \"age\": int(mlab[:2])+2.5}, ignore_index=True)\n"
     ]
    },
    {
     "name": "stdout",
     "output_type": "stream",
     "text": [
      "<class 'list'>\n",
      "Opening raw data file C:/Users/pesylvestre/Documents/Informatique/BRAIL/FY2023 In-House PoC3/In-HousePOC3/in_housepoc3/data/Lemon_PreDict\\sub-032313\\sub-032313_EC8_eeg.fif...\n",
      "Isotrak not found\n",
      "    Range : 219055 ... 233555 =    876.220 ...   934.220 secs\n",
      "Ready.\n",
      "Reading 0 ... 14500  =      0.000 ...    58.000 secs...\n"
     ]
    },
    {
     "name": "stderr",
     "output_type": "stream",
     "text": [
      "C:\\Users\\PESYLV~1\\AppData\\Local\\Temp/ipykernel_29536/564882533.py:16: FutureWarning: The frame.append method is deprecated and will be removed from pandas in a future version. Use pandas.concat instead.\n",
      "  df = df.append({\"data\": rawpd, \"age\": int(mlab[:2])+2.5}, ignore_index=True)\n"
     ]
    },
    {
     "name": "stdout",
     "output_type": "stream",
     "text": [
      "<class 'list'>\n",
      "Opening raw data file C:/Users/pesylvestre/Documents/Informatique/BRAIL/FY2023 In-House PoC3/In-HousePOC3/in_housepoc3/data/Lemon_PreDict\\sub-032313\\sub-032313_EO1_eeg.fif...\n",
      "Isotrak not found\n",
      "    Range : 17297 ... 31798 =     69.188 ...   127.192 secs\n",
      "Ready.\n",
      "Reading 0 ... 14501  =      0.000 ...    58.004 secs...\n"
     ]
    },
    {
     "name": "stderr",
     "output_type": "stream",
     "text": [
      "C:\\Users\\PESYLV~1\\AppData\\Local\\Temp/ipykernel_29536/564882533.py:16: FutureWarning: The frame.append method is deprecated and will be removed from pandas in a future version. Use pandas.concat instead.\n",
      "  df = df.append({\"data\": rawpd, \"age\": int(mlab[:2])+2.5}, ignore_index=True)\n"
     ]
    },
    {
     "name": "stdout",
     "output_type": "stream",
     "text": [
      "<class 'list'>\n",
      "Opening raw data file C:/Users/pesylvestre/Documents/Informatique/BRAIL/FY2023 In-House PoC3/In-HousePOC3/in_housepoc3/data/Lemon_PreDict\\sub-032313\\sub-032313_EO2_eeg.fif...\n",
      "Isotrak not found\n",
      "    Range : 48255 ... 62755 =    193.020 ...   251.020 secs\n",
      "Ready.\n",
      "Reading 0 ... 14500  =      0.000 ...    58.000 secs...\n"
     ]
    },
    {
     "name": "stderr",
     "output_type": "stream",
     "text": [
      "C:\\Users\\PESYLV~1\\AppData\\Local\\Temp/ipykernel_29536/564882533.py:16: FutureWarning: The frame.append method is deprecated and will be removed from pandas in a future version. Use pandas.concat instead.\n",
      "  df = df.append({\"data\": rawpd, \"age\": int(mlab[:2])+2.5}, ignore_index=True)\n"
     ]
    },
    {
     "name": "stdout",
     "output_type": "stream",
     "text": [
      "<class 'list'>\n",
      "Opening raw data file C:/Users/pesylvestre/Documents/Informatique/BRAIL/FY2023 In-House PoC3/In-HousePOC3/in_housepoc3/data/Lemon_PreDict\\sub-032313\\sub-032313_EO3_eeg.fif...\n",
      "Isotrak not found\n",
      "    Range : 79299 ... 93799 =    317.196 ...   375.196 secs\n",
      "Ready.\n",
      "Reading 0 ... 14500  =      0.000 ...    58.000 secs...\n"
     ]
    },
    {
     "name": "stderr",
     "output_type": "stream",
     "text": [
      "C:\\Users\\PESYLV~1\\AppData\\Local\\Temp/ipykernel_29536/564882533.py:16: FutureWarning: The frame.append method is deprecated and will be removed from pandas in a future version. Use pandas.concat instead.\n",
      "  df = df.append({\"data\": rawpd, \"age\": int(mlab[:2])+2.5}, ignore_index=True)\n"
     ]
    },
    {
     "name": "stdout",
     "output_type": "stream",
     "text": [
      "<class 'list'>\n",
      "Opening raw data file C:/Users/pesylvestre/Documents/Informatique/BRAIL/FY2023 In-House PoC3/In-HousePOC3/in_housepoc3/data/Lemon_PreDict\\sub-032313\\sub-032313_EO4_eeg.fif...\n",
      "Isotrak not found\n",
      "    Range : 110261 ... 124761 =    441.044 ...   499.044 secs\n",
      "Ready.\n",
      "Reading 0 ... 14500  =      0.000 ...    58.000 secs...\n"
     ]
    },
    {
     "name": "stderr",
     "output_type": "stream",
     "text": [
      "C:\\Users\\PESYLV~1\\AppData\\Local\\Temp/ipykernel_29536/564882533.py:16: FutureWarning: The frame.append method is deprecated and will be removed from pandas in a future version. Use pandas.concat instead.\n",
      "  df = df.append({\"data\": rawpd, \"age\": int(mlab[:2])+2.5}, ignore_index=True)\n"
     ]
    },
    {
     "name": "stdout",
     "output_type": "stream",
     "text": [
      "<class 'list'>\n",
      "Opening raw data file C:/Users/pesylvestre/Documents/Informatique/BRAIL/FY2023 In-House PoC3/In-HousePOC3/in_housepoc3/data/Lemon_PreDict\\sub-032313\\sub-032313_EO5_eeg.fif...\n",
      "Isotrak not found\n",
      "    Range : 141238 ... 155738 =    564.952 ...   622.952 secs\n",
      "Ready.\n",
      "Reading 0 ... 14500  =      0.000 ...    58.000 secs...\n"
     ]
    },
    {
     "name": "stderr",
     "output_type": "stream",
     "text": [
      "C:\\Users\\PESYLV~1\\AppData\\Local\\Temp/ipykernel_29536/564882533.py:16: FutureWarning: The frame.append method is deprecated and will be removed from pandas in a future version. Use pandas.concat instead.\n",
      "  df = df.append({\"data\": rawpd, \"age\": int(mlab[:2])+2.5}, ignore_index=True)\n"
     ]
    },
    {
     "name": "stdout",
     "output_type": "stream",
     "text": [
      "<class 'list'>\n",
      "Opening raw data file C:/Users/pesylvestre/Documents/Informatique/BRAIL/FY2023 In-House PoC3/In-HousePOC3/in_housepoc3/data/Lemon_PreDict\\sub-032313\\sub-032313_EO6_eeg.fif...\n",
      "Isotrak not found\n",
      "    Range : 172105 ... 186605 =    688.420 ...   746.420 secs\n",
      "Ready.\n",
      "Reading 0 ... 14500  =      0.000 ...    58.000 secs...\n"
     ]
    },
    {
     "name": "stderr",
     "output_type": "stream",
     "text": [
      "C:\\Users\\PESYLV~1\\AppData\\Local\\Temp/ipykernel_29536/564882533.py:16: FutureWarning: The frame.append method is deprecated and will be removed from pandas in a future version. Use pandas.concat instead.\n",
      "  df = df.append({\"data\": rawpd, \"age\": int(mlab[:2])+2.5}, ignore_index=True)\n"
     ]
    },
    {
     "name": "stdout",
     "output_type": "stream",
     "text": [
      "<class 'list'>\n",
      "Opening raw data file C:/Users/pesylvestre/Documents/Informatique/BRAIL/FY2023 In-House PoC3/In-HousePOC3/in_housepoc3/data/Lemon_PreDict\\sub-032313\\sub-032313_EO7_eeg.fif...\n",
      "Isotrak not found\n",
      "    Range : 203388 ... 217889 =    813.552 ...   871.556 secs\n",
      "Ready.\n",
      "Reading 0 ... 14501  =      0.000 ...    58.004 secs...\n"
     ]
    },
    {
     "name": "stderr",
     "output_type": "stream",
     "text": [
      "C:\\Users\\PESYLV~1\\AppData\\Local\\Temp/ipykernel_29536/564882533.py:16: FutureWarning: The frame.append method is deprecated and will be removed from pandas in a future version. Use pandas.concat instead.\n",
      "  df = df.append({\"data\": rawpd, \"age\": int(mlab[:2])+2.5}, ignore_index=True)\n"
     ]
    },
    {
     "name": "stdout",
     "output_type": "stream",
     "text": [
      "<class 'list'>\n",
      "Opening raw data file C:/Users/pesylvestre/Documents/Informatique/BRAIL/FY2023 In-House PoC3/In-HousePOC3/in_housepoc3/data/Lemon_PreDict\\sub-032313\\sub-032313_EO8_eeg.fif...\n",
      "Isotrak not found\n",
      "    Range : 235764 ... 250264 =    943.056 ...  1001.056 secs\n",
      "Ready.\n",
      "Reading 0 ... 14500  =      0.000 ...    58.000 secs...\n"
     ]
    },
    {
     "name": "stderr",
     "output_type": "stream",
     "text": [
      "C:\\Users\\PESYLV~1\\AppData\\Local\\Temp/ipykernel_29536/564882533.py:16: FutureWarning: The frame.append method is deprecated and will be removed from pandas in a future version. Use pandas.concat instead.\n",
      "  df = df.append({\"data\": rawpd, \"age\": int(mlab[:2])+2.5}, ignore_index=True)\n"
     ]
    },
    {
     "name": "stdout",
     "output_type": "stream",
     "text": [
      "<class 'list'>\n",
      "Opening raw data file C:/Users/pesylvestre/Documents/Informatique/BRAIL/FY2023 In-House PoC3/In-HousePOC3/in_housepoc3/data/Lemon_PreDict\\sub-032314\\sub-032314_EC1_eeg.fif...\n",
      "Isotrak not found\n",
      "    Range : 5344 ... 19844 =     21.376 ...    79.376 secs\n",
      "Ready.\n",
      "Reading 0 ... 14500  =      0.000 ...    58.000 secs...\n"
     ]
    },
    {
     "name": "stderr",
     "output_type": "stream",
     "text": [
      "C:\\Users\\PESYLV~1\\AppData\\Local\\Temp/ipykernel_29536/564882533.py:16: FutureWarning: The frame.append method is deprecated and will be removed from pandas in a future version. Use pandas.concat instead.\n",
      "  df = df.append({\"data\": rawpd, \"age\": int(mlab[:2])+2.5}, ignore_index=True)\n"
     ]
    },
    {
     "name": "stdout",
     "output_type": "stream",
     "text": [
      "<class 'list'>\n",
      "Opening raw data file C:/Users/pesylvestre/Documents/Informatique/BRAIL/FY2023 In-House PoC3/In-HousePOC3/in_housepoc3/data/Lemon_PreDict\\sub-032314\\sub-032314_EC2_eeg.fif...\n",
      "Isotrak not found\n",
      "    Range : 35974 ... 50475 =    143.896 ...   201.900 secs\n",
      "Ready.\n",
      "Reading 0 ... 14501  =      0.000 ...    58.004 secs...\n"
     ]
    },
    {
     "name": "stderr",
     "output_type": "stream",
     "text": [
      "C:\\Users\\PESYLV~1\\AppData\\Local\\Temp/ipykernel_29536/564882533.py:16: FutureWarning: The frame.append method is deprecated and will be removed from pandas in a future version. Use pandas.concat instead.\n",
      "  df = df.append({\"data\": rawpd, \"age\": int(mlab[:2])+2.5}, ignore_index=True)\n"
     ]
    },
    {
     "name": "stdout",
     "output_type": "stream",
     "text": [
      "<class 'list'>\n",
      "Opening raw data file C:/Users/pesylvestre/Documents/Informatique/BRAIL/FY2023 In-House PoC3/In-HousePOC3/in_housepoc3/data/Lemon_PreDict\\sub-032314\\sub-032314_EC3_eeg.fif...\n",
      "Isotrak not found\n",
      "    Range : 66431 ... 80932 =    265.724 ...   323.728 secs\n",
      "Ready.\n",
      "Reading 0 ... 14501  =      0.000 ...    58.004 secs...\n"
     ]
    },
    {
     "name": "stderr",
     "output_type": "stream",
     "text": [
      "C:\\Users\\PESYLV~1\\AppData\\Local\\Temp/ipykernel_29536/564882533.py:16: FutureWarning: The frame.append method is deprecated and will be removed from pandas in a future version. Use pandas.concat instead.\n",
      "  df = df.append({\"data\": rawpd, \"age\": int(mlab[:2])+2.5}, ignore_index=True)\n"
     ]
    },
    {
     "name": "stdout",
     "output_type": "stream",
     "text": [
      "<class 'list'>\n",
      "Opening raw data file C:/Users/pesylvestre/Documents/Informatique/BRAIL/FY2023 In-House PoC3/In-HousePOC3/in_housepoc3/data/Lemon_PreDict\\sub-032314\\sub-032314_EC4_eeg.fif...\n",
      "Isotrak not found\n",
      "    Range : 97095 ... 111596 =    388.380 ...   446.384 secs\n",
      "Ready.\n",
      "Reading 0 ... 14501  =      0.000 ...    58.004 secs...\n"
     ]
    },
    {
     "name": "stderr",
     "output_type": "stream",
     "text": [
      "C:\\Users\\PESYLV~1\\AppData\\Local\\Temp/ipykernel_29536/564882533.py:16: FutureWarning: The frame.append method is deprecated and will be removed from pandas in a future version. Use pandas.concat instead.\n",
      "  df = df.append({\"data\": rawpd, \"age\": int(mlab[:2])+2.5}, ignore_index=True)\n"
     ]
    },
    {
     "name": "stdout",
     "output_type": "stream",
     "text": [
      "<class 'list'>\n",
      "Opening raw data file C:/Users/pesylvestre/Documents/Informatique/BRAIL/FY2023 In-House PoC3/In-HousePOC3/in_housepoc3/data/Lemon_PreDict\\sub-032314\\sub-032314_EC5_eeg.fif...\n",
      "Isotrak not found\n",
      "    Range : 128212 ... 142712 =    512.848 ...   570.848 secs\n",
      "Ready.\n",
      "Reading 0 ... 14500  =      0.000 ...    58.000 secs...\n"
     ]
    },
    {
     "name": "stderr",
     "output_type": "stream",
     "text": [
      "C:\\Users\\PESYLV~1\\AppData\\Local\\Temp/ipykernel_29536/564882533.py:16: FutureWarning: The frame.append method is deprecated and will be removed from pandas in a future version. Use pandas.concat instead.\n",
      "  df = df.append({\"data\": rawpd, \"age\": int(mlab[:2])+2.5}, ignore_index=True)\n"
     ]
    },
    {
     "name": "stdout",
     "output_type": "stream",
     "text": [
      "<class 'list'>\n",
      "Opening raw data file C:/Users/pesylvestre/Documents/Informatique/BRAIL/FY2023 In-House PoC3/In-HousePOC3/in_housepoc3/data/Lemon_PreDict\\sub-032314\\sub-032314_EC6_eeg.fif...\n",
      "Isotrak not found\n",
      "    Range : 158801 ... 173301 =    635.204 ...   693.204 secs\n",
      "Ready.\n",
      "Reading 0 ... 14500  =      0.000 ...    58.000 secs...\n"
     ]
    },
    {
     "name": "stderr",
     "output_type": "stream",
     "text": [
      "C:\\Users\\PESYLV~1\\AppData\\Local\\Temp/ipykernel_29536/564882533.py:16: FutureWarning: The frame.append method is deprecated and will be removed from pandas in a future version. Use pandas.concat instead.\n",
      "  df = df.append({\"data\": rawpd, \"age\": int(mlab[:2])+2.5}, ignore_index=True)\n"
     ]
    },
    {
     "name": "stdout",
     "output_type": "stream",
     "text": [
      "<class 'list'>\n",
      "Opening raw data file C:/Users/pesylvestre/Documents/Informatique/BRAIL/FY2023 In-House PoC3/In-HousePOC3/in_housepoc3/data/Lemon_PreDict\\sub-032314\\sub-032314_EC7_eeg.fif...\n",
      "Isotrak not found\n",
      "    Range : 189243 ... 203743 =    756.972 ...   814.972 secs\n",
      "Ready.\n",
      "Reading 0 ... 14500  =      0.000 ...    58.000 secs...\n"
     ]
    },
    {
     "name": "stderr",
     "output_type": "stream",
     "text": [
      "C:\\Users\\PESYLV~1\\AppData\\Local\\Temp/ipykernel_29536/564882533.py:16: FutureWarning: The frame.append method is deprecated and will be removed from pandas in a future version. Use pandas.concat instead.\n",
      "  df = df.append({\"data\": rawpd, \"age\": int(mlab[:2])+2.5}, ignore_index=True)\n"
     ]
    },
    {
     "name": "stdout",
     "output_type": "stream",
     "text": [
      "<class 'list'>\n",
      "Opening raw data file C:/Users/pesylvestre/Documents/Informatique/BRAIL/FY2023 In-House PoC3/In-HousePOC3/in_housepoc3/data/Lemon_PreDict\\sub-032314\\sub-032314_EC8_eeg.fif...\n",
      "Isotrak not found\n",
      "    Range : 219659 ... 234159 =    878.636 ...   936.636 secs\n",
      "Ready.\n",
      "Reading 0 ... 14500  =      0.000 ...    58.000 secs...\n"
     ]
    },
    {
     "name": "stderr",
     "output_type": "stream",
     "text": [
      "C:\\Users\\PESYLV~1\\AppData\\Local\\Temp/ipykernel_29536/564882533.py:16: FutureWarning: The frame.append method is deprecated and will be removed from pandas in a future version. Use pandas.concat instead.\n",
      "  df = df.append({\"data\": rawpd, \"age\": int(mlab[:2])+2.5}, ignore_index=True)\n"
     ]
    },
    {
     "name": "stdout",
     "output_type": "stream",
     "text": [
      "<class 'list'>\n",
      "Opening raw data file C:/Users/pesylvestre/Documents/Informatique/BRAIL/FY2023 In-House PoC3/In-HousePOC3/in_housepoc3/data/Lemon_PreDict\\sub-032314\\sub-032314_EO1_eeg.fif...\n",
      "Isotrak not found\n",
      "    Range : 20699 ... 35200 =     82.796 ...   140.800 secs\n",
      "Ready.\n",
      "Reading 0 ... 14501  =      0.000 ...    58.004 secs...\n"
     ]
    },
    {
     "name": "stderr",
     "output_type": "stream",
     "text": [
      "C:\\Users\\PESYLV~1\\AppData\\Local\\Temp/ipykernel_29536/564882533.py:16: FutureWarning: The frame.append method is deprecated and will be removed from pandas in a future version. Use pandas.concat instead.\n",
      "  df = df.append({\"data\": rawpd, \"age\": int(mlab[:2])+2.5}, ignore_index=True)\n"
     ]
    },
    {
     "name": "stdout",
     "output_type": "stream",
     "text": [
      "<class 'list'>\n",
      "Opening raw data file C:/Users/pesylvestre/Documents/Informatique/BRAIL/FY2023 In-House PoC3/In-HousePOC3/in_housepoc3/data/Lemon_PreDict\\sub-032314\\sub-032314_EO2_eeg.fif...\n",
      "Isotrak not found\n",
      "    Range : 51125 ... 65625 =    204.500 ...   262.500 secs\n",
      "Ready.\n",
      "Reading 0 ... 14500  =      0.000 ...    58.000 secs...\n"
     ]
    },
    {
     "name": "stderr",
     "output_type": "stream",
     "text": [
      "C:\\Users\\PESYLV~1\\AppData\\Local\\Temp/ipykernel_29536/564882533.py:16: FutureWarning: The frame.append method is deprecated and will be removed from pandas in a future version. Use pandas.concat instead.\n",
      "  df = df.append({\"data\": rawpd, \"age\": int(mlab[:2])+2.5}, ignore_index=True)\n"
     ]
    },
    {
     "name": "stdout",
     "output_type": "stream",
     "text": [
      "<class 'list'>\n",
      "Opening raw data file C:/Users/pesylvestre/Documents/Informatique/BRAIL/FY2023 In-House PoC3/In-HousePOC3/in_housepoc3/data/Lemon_PreDict\\sub-032314\\sub-032314_EO3_eeg.fif...\n",
      "Isotrak not found\n",
      "    Range : 81659 ... 96159 =    326.636 ...   384.636 secs\n",
      "Ready.\n",
      "Reading 0 ... 14500  =      0.000 ...    58.000 secs...\n"
     ]
    },
    {
     "name": "stderr",
     "output_type": "stream",
     "text": [
      "C:\\Users\\PESYLV~1\\AppData\\Local\\Temp/ipykernel_29536/564882533.py:16: FutureWarning: The frame.append method is deprecated and will be removed from pandas in a future version. Use pandas.concat instead.\n",
      "  df = df.append({\"data\": rawpd, \"age\": int(mlab[:2])+2.5}, ignore_index=True)\n"
     ]
    },
    {
     "name": "stdout",
     "output_type": "stream",
     "text": [
      "<class 'list'>\n",
      "Opening raw data file C:/Users/pesylvestre/Documents/Informatique/BRAIL/FY2023 In-House PoC3/In-HousePOC3/in_housepoc3/data/Lemon_PreDict\\sub-032314\\sub-032314_EO4_eeg.fif...\n",
      "Isotrak not found\n",
      "    Range : 112970 ... 127470 =    451.880 ...   509.880 secs\n",
      "Ready.\n",
      "Reading 0 ... 14500  =      0.000 ...    58.000 secs...\n"
     ]
    },
    {
     "name": "stderr",
     "output_type": "stream",
     "text": [
      "C:\\Users\\PESYLV~1\\AppData\\Local\\Temp/ipykernel_29536/564882533.py:16: FutureWarning: The frame.append method is deprecated and will be removed from pandas in a future version. Use pandas.concat instead.\n",
      "  df = df.append({\"data\": rawpd, \"age\": int(mlab[:2])+2.5}, ignore_index=True)\n"
     ]
    },
    {
     "name": "stdout",
     "output_type": "stream",
     "text": [
      "<class 'list'>\n",
      "Opening raw data file C:/Users/pesylvestre/Documents/Informatique/BRAIL/FY2023 In-House PoC3/In-HousePOC3/in_housepoc3/data/Lemon_PreDict\\sub-032314\\sub-032314_EO5_eeg.fif...\n",
      "Isotrak not found\n",
      "    Range : 143440 ... 157940 =    573.760 ...   631.760 secs\n",
      "Ready.\n",
      "Reading 0 ... 14500  =      0.000 ...    58.000 secs...\n"
     ]
    },
    {
     "name": "stderr",
     "output_type": "stream",
     "text": [
      "C:\\Users\\PESYLV~1\\AppData\\Local\\Temp/ipykernel_29536/564882533.py:16: FutureWarning: The frame.append method is deprecated and will be removed from pandas in a future version. Use pandas.concat instead.\n",
      "  df = df.append({\"data\": rawpd, \"age\": int(mlab[:2])+2.5}, ignore_index=True)\n"
     ]
    },
    {
     "name": "stdout",
     "output_type": "stream",
     "text": [
      "<class 'list'>\n",
      "Opening raw data file C:/Users/pesylvestre/Documents/Informatique/BRAIL/FY2023 In-House PoC3/In-HousePOC3/in_housepoc3/data/Lemon_PreDict\\sub-032314\\sub-032314_EO6_eeg.fif...\n",
      "Isotrak not found\n",
      "    Range : 174118 ... 188618 =    696.472 ...   754.472 secs\n",
      "Ready.\n",
      "Reading 0 ... 14500  =      0.000 ...    58.000 secs...\n"
     ]
    },
    {
     "name": "stderr",
     "output_type": "stream",
     "text": [
      "C:\\Users\\PESYLV~1\\AppData\\Local\\Temp/ipykernel_29536/564882533.py:16: FutureWarning: The frame.append method is deprecated and will be removed from pandas in a future version. Use pandas.concat instead.\n",
      "  df = df.append({\"data\": rawpd, \"age\": int(mlab[:2])+2.5}, ignore_index=True)\n"
     ]
    },
    {
     "name": "stdout",
     "output_type": "stream",
     "text": [
      "<class 'list'>\n",
      "Opening raw data file C:/Users/pesylvestre/Documents/Informatique/BRAIL/FY2023 In-House PoC3/In-HousePOC3/in_housepoc3/data/Lemon_PreDict\\sub-032314\\sub-032314_EO7_eeg.fif...\n",
      "Isotrak not found\n",
      "    Range : 204470 ... 218971 =    817.880 ...   875.884 secs\n",
      "Ready.\n",
      "Reading 0 ... 14501  =      0.000 ...    58.004 secs...\n"
     ]
    },
    {
     "name": "stderr",
     "output_type": "stream",
     "text": [
      "C:\\Users\\PESYLV~1\\AppData\\Local\\Temp/ipykernel_29536/564882533.py:16: FutureWarning: The frame.append method is deprecated and will be removed from pandas in a future version. Use pandas.concat instead.\n",
      "  df = df.append({\"data\": rawpd, \"age\": int(mlab[:2])+2.5}, ignore_index=True)\n"
     ]
    },
    {
     "name": "stdout",
     "output_type": "stream",
     "text": [
      "<class 'list'>\n",
      "Opening raw data file C:/Users/pesylvestre/Documents/Informatique/BRAIL/FY2023 In-House PoC3/In-HousePOC3/in_housepoc3/data/Lemon_PreDict\\sub-032314\\sub-032314_EO8_eeg.fif...\n",
      "Isotrak not found\n",
      "    Range : 235018 ... 249518 =    940.072 ...   998.072 secs\n",
      "Ready.\n",
      "Reading 0 ... 14500  =      0.000 ...    58.000 secs...\n"
     ]
    },
    {
     "name": "stderr",
     "output_type": "stream",
     "text": [
      "C:\\Users\\PESYLV~1\\AppData\\Local\\Temp/ipykernel_29536/564882533.py:16: FutureWarning: The frame.append method is deprecated and will be removed from pandas in a future version. Use pandas.concat instead.\n",
      "  df = df.append({\"data\": rawpd, \"age\": int(mlab[:2])+2.5}, ignore_index=True)\n"
     ]
    },
    {
     "name": "stdout",
     "output_type": "stream",
     "text": [
      "<class 'list'>\n",
      "Opening raw data file C:/Users/pesylvestre/Documents/Informatique/BRAIL/FY2023 In-House PoC3/In-HousePOC3/in_housepoc3/data/Lemon_PreDict\\sub-032315\\sub-032315_EC1_eeg.fif...\n",
      "Isotrak not found\n",
      "    Range : 3334 ... 17834 =     13.336 ...    71.336 secs\n",
      "Ready.\n",
      "Reading 0 ... 14500  =      0.000 ...    58.000 secs...\n"
     ]
    },
    {
     "name": "stderr",
     "output_type": "stream",
     "text": [
      "C:\\Users\\PESYLV~1\\AppData\\Local\\Temp/ipykernel_29536/564882533.py:16: FutureWarning: The frame.append method is deprecated and will be removed from pandas in a future version. Use pandas.concat instead.\n",
      "  df = df.append({\"data\": rawpd, \"age\": int(mlab[:2])+2.5}, ignore_index=True)\n"
     ]
    },
    {
     "name": "stdout",
     "output_type": "stream",
     "text": [
      "<class 'list'>\n",
      "Opening raw data file C:/Users/pesylvestre/Documents/Informatique/BRAIL/FY2023 In-House PoC3/In-HousePOC3/in_housepoc3/data/Lemon_PreDict\\sub-032315\\sub-032315_EC2_eeg.fif...\n",
      "Isotrak not found\n",
      "    Range : 34410 ... 48910 =    137.640 ...   195.640 secs\n",
      "Ready.\n",
      "Reading 0 ... 14500  =      0.000 ...    58.000 secs...\n"
     ]
    },
    {
     "name": "stderr",
     "output_type": "stream",
     "text": [
      "C:\\Users\\PESYLV~1\\AppData\\Local\\Temp/ipykernel_29536/564882533.py:16: FutureWarning: The frame.append method is deprecated and will be removed from pandas in a future version. Use pandas.concat instead.\n",
      "  df = df.append({\"data\": rawpd, \"age\": int(mlab[:2])+2.5}, ignore_index=True)\n"
     ]
    },
    {
     "name": "stdout",
     "output_type": "stream",
     "text": [
      "<class 'list'>\n",
      "Opening raw data file C:/Users/pesylvestre/Documents/Informatique/BRAIL/FY2023 In-House PoC3/In-HousePOC3/in_housepoc3/data/Lemon_PreDict\\sub-032315\\sub-032315_EC3_eeg.fif...\n",
      "Isotrak not found\n",
      "    Range : 64812 ... 79312 =    259.248 ...   317.248 secs\n",
      "Ready.\n",
      "Reading 0 ... 14500  =      0.000 ...    58.000 secs...\n"
     ]
    },
    {
     "name": "stderr",
     "output_type": "stream",
     "text": [
      "C:\\Users\\PESYLV~1\\AppData\\Local\\Temp/ipykernel_29536/564882533.py:16: FutureWarning: The frame.append method is deprecated and will be removed from pandas in a future version. Use pandas.concat instead.\n",
      "  df = df.append({\"data\": rawpd, \"age\": int(mlab[:2])+2.5}, ignore_index=True)\n"
     ]
    },
    {
     "name": "stdout",
     "output_type": "stream",
     "text": [
      "<class 'list'>\n",
      "Opening raw data file C:/Users/pesylvestre/Documents/Informatique/BRAIL/FY2023 In-House PoC3/In-HousePOC3/in_housepoc3/data/Lemon_PreDict\\sub-032315\\sub-032315_EC4_eeg.fif...\n",
      "Isotrak not found\n",
      "    Range : 95134 ... 109634 =    380.536 ...   438.536 secs\n",
      "Ready.\n",
      "Reading 0 ... 14500  =      0.000 ...    58.000 secs...\n"
     ]
    },
    {
     "name": "stderr",
     "output_type": "stream",
     "text": [
      "C:\\Users\\PESYLV~1\\AppData\\Local\\Temp/ipykernel_29536/564882533.py:16: FutureWarning: The frame.append method is deprecated and will be removed from pandas in a future version. Use pandas.concat instead.\n",
      "  df = df.append({\"data\": rawpd, \"age\": int(mlab[:2])+2.5}, ignore_index=True)\n"
     ]
    },
    {
     "name": "stdout",
     "output_type": "stream",
     "text": [
      "<class 'list'>\n",
      "Opening raw data file C:/Users/pesylvestre/Documents/Informatique/BRAIL/FY2023 In-House PoC3/In-HousePOC3/in_housepoc3/data/Lemon_PreDict\\sub-032315\\sub-032315_EC5_eeg.fif...\n",
      "Isotrak not found\n",
      "    Range : 125486 ... 139987 =    501.944 ...   559.948 secs\n",
      "Ready.\n",
      "Reading 0 ... 14501  =      0.000 ...    58.004 secs...\n"
     ]
    },
    {
     "name": "stderr",
     "output_type": "stream",
     "text": [
      "C:\\Users\\PESYLV~1\\AppData\\Local\\Temp/ipykernel_29536/564882533.py:16: FutureWarning: The frame.append method is deprecated and will be removed from pandas in a future version. Use pandas.concat instead.\n",
      "  df = df.append({\"data\": rawpd, \"age\": int(mlab[:2])+2.5}, ignore_index=True)\n"
     ]
    },
    {
     "name": "stdout",
     "output_type": "stream",
     "text": [
      "<class 'list'>\n",
      "Opening raw data file C:/Users/pesylvestre/Documents/Informatique/BRAIL/FY2023 In-House PoC3/In-HousePOC3/in_housepoc3/data/Lemon_PreDict\\sub-032315\\sub-032315_EC6_eeg.fif...\n",
      "Isotrak not found\n",
      "    Range : 156375 ... 170875 =    625.500 ...   683.500 secs\n",
      "Ready.\n",
      "Reading 0 ... 14500  =      0.000 ...    58.000 secs...\n"
     ]
    },
    {
     "name": "stderr",
     "output_type": "stream",
     "text": [
      "C:\\Users\\PESYLV~1\\AppData\\Local\\Temp/ipykernel_29536/564882533.py:16: FutureWarning: The frame.append method is deprecated and will be removed from pandas in a future version. Use pandas.concat instead.\n",
      "  df = df.append({\"data\": rawpd, \"age\": int(mlab[:2])+2.5}, ignore_index=True)\n"
     ]
    },
    {
     "name": "stdout",
     "output_type": "stream",
     "text": [
      "<class 'list'>\n",
      "Opening raw data file C:/Users/pesylvestre/Documents/Informatique/BRAIL/FY2023 In-House PoC3/In-HousePOC3/in_housepoc3/data/Lemon_PreDict\\sub-032315\\sub-032315_EC7_eeg.fif...\n",
      "Isotrak not found\n",
      "    Range : 187025 ... 201525 =    748.100 ...   806.100 secs\n",
      "Ready.\n",
      "Reading 0 ... 14500  =      0.000 ...    58.000 secs...\n"
     ]
    },
    {
     "name": "stderr",
     "output_type": "stream",
     "text": [
      "C:\\Users\\PESYLV~1\\AppData\\Local\\Temp/ipykernel_29536/564882533.py:16: FutureWarning: The frame.append method is deprecated and will be removed from pandas in a future version. Use pandas.concat instead.\n",
      "  df = df.append({\"data\": rawpd, \"age\": int(mlab[:2])+2.5}, ignore_index=True)\n"
     ]
    },
    {
     "name": "stdout",
     "output_type": "stream",
     "text": [
      "<class 'list'>\n",
      "Opening raw data file C:/Users/pesylvestre/Documents/Informatique/BRAIL/FY2023 In-House PoC3/In-HousePOC3/in_housepoc3/data/Lemon_PreDict\\sub-032315\\sub-032315_EC8_eeg.fif...\n",
      "Isotrak not found\n",
      "    Range : 217532 ... 232032 =    870.128 ...   928.128 secs\n",
      "Ready.\n",
      "Reading 0 ... 14500  =      0.000 ...    58.000 secs...\n"
     ]
    },
    {
     "name": "stderr",
     "output_type": "stream",
     "text": [
      "C:\\Users\\PESYLV~1\\AppData\\Local\\Temp/ipykernel_29536/564882533.py:16: FutureWarning: The frame.append method is deprecated and will be removed from pandas in a future version. Use pandas.concat instead.\n",
      "  df = df.append({\"data\": rawpd, \"age\": int(mlab[:2])+2.5}, ignore_index=True)\n"
     ]
    },
    {
     "name": "stdout",
     "output_type": "stream",
     "text": [
      "<class 'list'>\n",
      "Opening raw data file C:/Users/pesylvestre/Documents/Informatique/BRAIL/FY2023 In-House PoC3/In-HousePOC3/in_housepoc3/data/Lemon_PreDict\\sub-032315\\sub-032315_EO1_eeg.fif...\n",
      "Isotrak not found\n",
      "    Range : 19138 ... 33639 =     76.552 ...   134.556 secs\n",
      "Ready.\n",
      "Reading 0 ... 14501  =      0.000 ...    58.004 secs...\n"
     ]
    },
    {
     "name": "stderr",
     "output_type": "stream",
     "text": [
      "C:\\Users\\PESYLV~1\\AppData\\Local\\Temp/ipykernel_29536/564882533.py:16: FutureWarning: The frame.append method is deprecated and will be removed from pandas in a future version. Use pandas.concat instead.\n",
      "  df = df.append({\"data\": rawpd, \"age\": int(mlab[:2])+2.5}, ignore_index=True)\n"
     ]
    },
    {
     "name": "stdout",
     "output_type": "stream",
     "text": [
      "<class 'list'>\n",
      "Opening raw data file C:/Users/pesylvestre/Documents/Informatique/BRAIL/FY2023 In-House PoC3/In-HousePOC3/in_housepoc3/data/Lemon_PreDict\\sub-032315\\sub-032315_EO2_eeg.fif...\n",
      "Isotrak not found\n",
      "    Range : 49577 ... 64077 =    198.308 ...   256.308 secs\n",
      "Ready.\n",
      "Reading 0 ... 14500  =      0.000 ...    58.000 secs...\n"
     ]
    },
    {
     "name": "stderr",
     "output_type": "stream",
     "text": [
      "C:\\Users\\PESYLV~1\\AppData\\Local\\Temp/ipykernel_29536/564882533.py:16: FutureWarning: The frame.append method is deprecated and will be removed from pandas in a future version. Use pandas.concat instead.\n",
      "  df = df.append({\"data\": rawpd, \"age\": int(mlab[:2])+2.5}, ignore_index=True)\n"
     ]
    },
    {
     "name": "stdout",
     "output_type": "stream",
     "text": [
      "<class 'list'>\n",
      "Opening raw data file C:/Users/pesylvestre/Documents/Informatique/BRAIL/FY2023 In-House PoC3/In-HousePOC3/in_housepoc3/data/Lemon_PreDict\\sub-032315\\sub-032315_EO3_eeg.fif...\n",
      "Isotrak not found\n",
      "    Range : 79997 ... 94497 =    319.988 ...   377.988 secs\n",
      "Ready.\n",
      "Reading 0 ... 14500  =      0.000 ...    58.000 secs...\n"
     ]
    },
    {
     "name": "stderr",
     "output_type": "stream",
     "text": [
      "C:\\Users\\PESYLV~1\\AppData\\Local\\Temp/ipykernel_29536/564882533.py:16: FutureWarning: The frame.append method is deprecated and will be removed from pandas in a future version. Use pandas.concat instead.\n",
      "  df = df.append({\"data\": rawpd, \"age\": int(mlab[:2])+2.5}, ignore_index=True)\n"
     ]
    },
    {
     "name": "stdout",
     "output_type": "stream",
     "text": [
      "<class 'list'>\n",
      "Opening raw data file C:/Users/pesylvestre/Documents/Informatique/BRAIL/FY2023 In-House PoC3/In-HousePOC3/in_housepoc3/data/Lemon_PreDict\\sub-032315\\sub-032315_EO4_eeg.fif...\n",
      "Isotrak not found\n",
      "    Range : 110352 ... 124852 =    441.408 ...   499.408 secs\n",
      "Ready.\n",
      "Reading 0 ... 14500  =      0.000 ...    58.000 secs...\n"
     ]
    },
    {
     "name": "stderr",
     "output_type": "stream",
     "text": [
      "C:\\Users\\PESYLV~1\\AppData\\Local\\Temp/ipykernel_29536/564882533.py:16: FutureWarning: The frame.append method is deprecated and will be removed from pandas in a future version. Use pandas.concat instead.\n",
      "  df = df.append({\"data\": rawpd, \"age\": int(mlab[:2])+2.5}, ignore_index=True)\n"
     ]
    },
    {
     "name": "stdout",
     "output_type": "stream",
     "text": [
      "<class 'list'>\n",
      "Opening raw data file C:/Users/pesylvestre/Documents/Informatique/BRAIL/FY2023 In-House PoC3/In-HousePOC3/in_housepoc3/data/Lemon_PreDict\\sub-032315\\sub-032315_EO5_eeg.fif...\n",
      "Isotrak not found\n",
      "    Range : 141040 ... 155541 =    564.160 ...   622.164 secs\n",
      "Ready.\n",
      "Reading 0 ... 14501  =      0.000 ...    58.004 secs...\n"
     ]
    },
    {
     "name": "stderr",
     "output_type": "stream",
     "text": [
      "C:\\Users\\PESYLV~1\\AppData\\Local\\Temp/ipykernel_29536/564882533.py:16: FutureWarning: The frame.append method is deprecated and will be removed from pandas in a future version. Use pandas.concat instead.\n",
      "  df = df.append({\"data\": rawpd, \"age\": int(mlab[:2])+2.5}, ignore_index=True)\n"
     ]
    },
    {
     "name": "stdout",
     "output_type": "stream",
     "text": [
      "<class 'list'>\n",
      "Opening raw data file C:/Users/pesylvestre/Documents/Informatique/BRAIL/FY2023 In-House PoC3/In-HousePOC3/in_housepoc3/data/Lemon_PreDict\\sub-032315\\sub-032315_EO6_eeg.fif...\n",
      "Isotrak not found\n",
      "    Range : 171742 ... 186243 =    686.968 ...   744.972 secs\n",
      "Ready.\n",
      "Reading 0 ... 14501  =      0.000 ...    58.004 secs...\n"
     ]
    },
    {
     "name": "stderr",
     "output_type": "stream",
     "text": [
      "C:\\Users\\PESYLV~1\\AppData\\Local\\Temp/ipykernel_29536/564882533.py:16: FutureWarning: The frame.append method is deprecated and will be removed from pandas in a future version. Use pandas.concat instead.\n",
      "  df = df.append({\"data\": rawpd, \"age\": int(mlab[:2])+2.5}, ignore_index=True)\n"
     ]
    },
    {
     "name": "stdout",
     "output_type": "stream",
     "text": [
      "<class 'list'>\n",
      "Opening raw data file C:/Users/pesylvestre/Documents/Informatique/BRAIL/FY2023 In-House PoC3/In-HousePOC3/in_housepoc3/data/Lemon_PreDict\\sub-032315\\sub-032315_EO7_eeg.fif...\n",
      "Isotrak not found\n",
      "    Range : 202359 ... 216859 =    809.436 ...   867.436 secs\n",
      "Ready.\n",
      "Reading 0 ... 14500  =      0.000 ...    58.000 secs...\n"
     ]
    },
    {
     "name": "stderr",
     "output_type": "stream",
     "text": [
      "C:\\Users\\PESYLV~1\\AppData\\Local\\Temp/ipykernel_29536/564882533.py:16: FutureWarning: The frame.append method is deprecated and will be removed from pandas in a future version. Use pandas.concat instead.\n",
      "  df = df.append({\"data\": rawpd, \"age\": int(mlab[:2])+2.5}, ignore_index=True)\n"
     ]
    },
    {
     "name": "stdout",
     "output_type": "stream",
     "text": [
      "<class 'list'>\n",
      "Opening raw data file C:/Users/pesylvestre/Documents/Informatique/BRAIL/FY2023 In-House PoC3/In-HousePOC3/in_housepoc3/data/Lemon_PreDict\\sub-032315\\sub-032315_EO8_eeg.fif...\n",
      "Isotrak not found\n",
      "    Range : 232800 ... 247301 =    931.200 ...   989.204 secs\n",
      "Ready.\n",
      "Reading 0 ... 14501  =      0.000 ...    58.004 secs...\n"
     ]
    },
    {
     "name": "stderr",
     "output_type": "stream",
     "text": [
      "C:\\Users\\PESYLV~1\\AppData\\Local\\Temp/ipykernel_29536/564882533.py:16: FutureWarning: The frame.append method is deprecated and will be removed from pandas in a future version. Use pandas.concat instead.\n",
      "  df = df.append({\"data\": rawpd, \"age\": int(mlab[:2])+2.5}, ignore_index=True)\n"
     ]
    },
    {
     "name": "stdout",
     "output_type": "stream",
     "text": [
      "<class 'list'>\n",
      "Opening raw data file C:/Users/pesylvestre/Documents/Informatique/BRAIL/FY2023 In-House PoC3/In-HousePOC3/in_housepoc3/data/Lemon_PreDict\\sub-032316\\sub-032316_EC1_eeg.fif...\n",
      "Isotrak not found\n",
      "    Range : 2096 ... 16597 =      8.384 ...    66.388 secs\n",
      "Ready.\n",
      "Reading 0 ... 14501  =      0.000 ...    58.004 secs...\n"
     ]
    },
    {
     "name": "stderr",
     "output_type": "stream",
     "text": [
      "C:\\Users\\PESYLV~1\\AppData\\Local\\Temp/ipykernel_29536/564882533.py:16: FutureWarning: The frame.append method is deprecated and will be removed from pandas in a future version. Use pandas.concat instead.\n",
      "  df = df.append({\"data\": rawpd, \"age\": int(mlab[:2])+2.5}, ignore_index=True)\n"
     ]
    },
    {
     "name": "stdout",
     "output_type": "stream",
     "text": [
      "<class 'list'>\n",
      "Opening raw data file C:/Users/pesylvestre/Documents/Informatique/BRAIL/FY2023 In-House PoC3/In-HousePOC3/in_housepoc3/data/Lemon_PreDict\\sub-032316\\sub-032316_EC2_eeg.fif...\n",
      "Isotrak not found\n",
      "    Range : 33344 ... 47844 =    133.376 ...   191.376 secs\n",
      "Ready.\n",
      "Reading 0 ... 14500  =      0.000 ...    58.000 secs...\n"
     ]
    },
    {
     "name": "stderr",
     "output_type": "stream",
     "text": [
      "C:\\Users\\PESYLV~1\\AppData\\Local\\Temp/ipykernel_29536/564882533.py:16: FutureWarning: The frame.append method is deprecated and will be removed from pandas in a future version. Use pandas.concat instead.\n",
      "  df = df.append({\"data\": rawpd, \"age\": int(mlab[:2])+2.5}, ignore_index=True)\n"
     ]
    },
    {
     "name": "stdout",
     "output_type": "stream",
     "text": [
      "<class 'list'>\n",
      "Opening raw data file C:/Users/pesylvestre/Documents/Informatique/BRAIL/FY2023 In-House PoC3/In-HousePOC3/in_housepoc3/data/Lemon_PreDict\\sub-032316\\sub-032316_EC3_eeg.fif...\n",
      "Isotrak not found\n",
      "    Range : 64846 ... 79346 =    259.384 ...   317.384 secs\n",
      "Ready.\n",
      "Reading 0 ... 14500  =      0.000 ...    58.000 secs...\n"
     ]
    },
    {
     "name": "stderr",
     "output_type": "stream",
     "text": [
      "C:\\Users\\PESYLV~1\\AppData\\Local\\Temp/ipykernel_29536/564882533.py:16: FutureWarning: The frame.append method is deprecated and will be removed from pandas in a future version. Use pandas.concat instead.\n",
      "  df = df.append({\"data\": rawpd, \"age\": int(mlab[:2])+2.5}, ignore_index=True)\n"
     ]
    },
    {
     "name": "stdout",
     "output_type": "stream",
     "text": [
      "<class 'list'>\n",
      "Opening raw data file C:/Users/pesylvestre/Documents/Informatique/BRAIL/FY2023 In-House PoC3/In-HousePOC3/in_housepoc3/data/Lemon_PreDict\\sub-032316\\sub-032316_EC4_eeg.fif...\n",
      "Isotrak not found\n",
      "    Range : 95774 ... 110274 =    383.096 ...   441.096 secs\n",
      "Ready.\n",
      "Reading 0 ... 14500  =      0.000 ...    58.000 secs...\n"
     ]
    },
    {
     "name": "stderr",
     "output_type": "stream",
     "text": [
      "C:\\Users\\PESYLV~1\\AppData\\Local\\Temp/ipykernel_29536/564882533.py:16: FutureWarning: The frame.append method is deprecated and will be removed from pandas in a future version. Use pandas.concat instead.\n",
      "  df = df.append({\"data\": rawpd, \"age\": int(mlab[:2])+2.5}, ignore_index=True)\n"
     ]
    },
    {
     "name": "stdout",
     "output_type": "stream",
     "text": [
      "<class 'list'>\n",
      "Opening raw data file C:/Users/pesylvestre/Documents/Informatique/BRAIL/FY2023 In-House PoC3/In-HousePOC3/in_housepoc3/data/Lemon_PreDict\\sub-032316\\sub-032316_EC5_eeg.fif...\n",
      "Isotrak not found\n",
      "    Range : 126636 ... 141136 =    506.544 ...   564.544 secs\n",
      "Ready.\n",
      "Reading 0 ... 14500  =      0.000 ...    58.000 secs...\n"
     ]
    },
    {
     "name": "stderr",
     "output_type": "stream",
     "text": [
      "C:\\Users\\PESYLV~1\\AppData\\Local\\Temp/ipykernel_29536/564882533.py:16: FutureWarning: The frame.append method is deprecated and will be removed from pandas in a future version. Use pandas.concat instead.\n",
      "  df = df.append({\"data\": rawpd, \"age\": int(mlab[:2])+2.5}, ignore_index=True)\n"
     ]
    },
    {
     "name": "stdout",
     "output_type": "stream",
     "text": [
      "<class 'list'>\n",
      "Opening raw data file C:/Users/pesylvestre/Documents/Informatique/BRAIL/FY2023 In-House PoC3/In-HousePOC3/in_housepoc3/data/Lemon_PreDict\\sub-032316\\sub-032316_EC6_eeg.fif...\n",
      "Isotrak not found\n",
      "    Range : 157714 ... 172214 =    630.856 ...   688.856 secs\n",
      "Ready.\n",
      "Reading 0 ... 14500  =      0.000 ...    58.000 secs...\n"
     ]
    },
    {
     "name": "stderr",
     "output_type": "stream",
     "text": [
      "C:\\Users\\PESYLV~1\\AppData\\Local\\Temp/ipykernel_29536/564882533.py:16: FutureWarning: The frame.append method is deprecated and will be removed from pandas in a future version. Use pandas.concat instead.\n",
      "  df = df.append({\"data\": rawpd, \"age\": int(mlab[:2])+2.5}, ignore_index=True)\n"
     ]
    },
    {
     "name": "stdout",
     "output_type": "stream",
     "text": [
      "<class 'list'>\n",
      "Opening raw data file C:/Users/pesylvestre/Documents/Informatique/BRAIL/FY2023 In-House PoC3/In-HousePOC3/in_housepoc3/data/Lemon_PreDict\\sub-032316\\sub-032316_EC7_eeg.fif...\n",
      "Isotrak not found\n",
      "    Range : 188427 ... 202927 =    753.708 ...   811.708 secs\n",
      "Ready.\n",
      "Reading 0 ... 14500  =      0.000 ...    58.000 secs...\n"
     ]
    },
    {
     "name": "stderr",
     "output_type": "stream",
     "text": [
      "C:\\Users\\PESYLV~1\\AppData\\Local\\Temp/ipykernel_29536/564882533.py:16: FutureWarning: The frame.append method is deprecated and will be removed from pandas in a future version. Use pandas.concat instead.\n",
      "  df = df.append({\"data\": rawpd, \"age\": int(mlab[:2])+2.5}, ignore_index=True)\n"
     ]
    },
    {
     "name": "stdout",
     "output_type": "stream",
     "text": [
      "<class 'list'>\n",
      "Opening raw data file C:/Users/pesylvestre/Documents/Informatique/BRAIL/FY2023 In-House PoC3/In-HousePOC3/in_housepoc3/data/Lemon_PreDict\\sub-032316\\sub-032316_EC8_eeg.fif...\n",
      "Isotrak not found\n",
      "    Range : 219399 ... 233899 =    877.596 ...   935.596 secs\n",
      "Ready.\n",
      "Reading 0 ... 14500  =      0.000 ...    58.000 secs...\n"
     ]
    },
    {
     "name": "stderr",
     "output_type": "stream",
     "text": [
      "C:\\Users\\PESYLV~1\\AppData\\Local\\Temp/ipykernel_29536/564882533.py:16: FutureWarning: The frame.append method is deprecated and will be removed from pandas in a future version. Use pandas.concat instead.\n",
      "  df = df.append({\"data\": rawpd, \"age\": int(mlab[:2])+2.5}, ignore_index=True)\n"
     ]
    },
    {
     "name": "stdout",
     "output_type": "stream",
     "text": [
      "<class 'list'>\n",
      "Opening raw data file C:/Users/pesylvestre/Documents/Informatique/BRAIL/FY2023 In-House PoC3/In-HousePOC3/in_housepoc3/data/Lemon_PreDict\\sub-032316\\sub-032316_EO1_eeg.fif...\n",
      "Isotrak not found\n",
      "    Range : 17779 ... 32279 =     71.116 ...   129.116 secs\n",
      "Ready.\n",
      "Reading 0 ... 14500  =      0.000 ...    58.000 secs...\n"
     ]
    },
    {
     "name": "stderr",
     "output_type": "stream",
     "text": [
      "C:\\Users\\PESYLV~1\\AppData\\Local\\Temp/ipykernel_29536/564882533.py:16: FutureWarning: The frame.append method is deprecated and will be removed from pandas in a future version. Use pandas.concat instead.\n",
      "  df = df.append({\"data\": rawpd, \"age\": int(mlab[:2])+2.5}, ignore_index=True)\n"
     ]
    },
    {
     "name": "stdout",
     "output_type": "stream",
     "text": [
      "<class 'list'>\n",
      "Opening raw data file C:/Users/pesylvestre/Documents/Informatique/BRAIL/FY2023 In-House PoC3/In-HousePOC3/in_housepoc3/data/Lemon_PreDict\\sub-032316\\sub-032316_EO2_eeg.fif...\n",
      "Isotrak not found\n",
      "    Range : 49174 ... 63674 =    196.696 ...   254.696 secs\n",
      "Ready.\n",
      "Reading 0 ... 14500  =      0.000 ...    58.000 secs...\n"
     ]
    },
    {
     "name": "stderr",
     "output_type": "stream",
     "text": [
      "C:\\Users\\PESYLV~1\\AppData\\Local\\Temp/ipykernel_29536/564882533.py:16: FutureWarning: The frame.append method is deprecated and will be removed from pandas in a future version. Use pandas.concat instead.\n",
      "  df = df.append({\"data\": rawpd, \"age\": int(mlab[:2])+2.5}, ignore_index=True)\n"
     ]
    },
    {
     "name": "stdout",
     "output_type": "stream",
     "text": [
      "<class 'list'>\n",
      "Opening raw data file C:/Users/pesylvestre/Documents/Informatique/BRAIL/FY2023 In-House PoC3/In-HousePOC3/in_housepoc3/data/Lemon_PreDict\\sub-032316\\sub-032316_EO3_eeg.fif...\n",
      "Isotrak not found\n",
      "    Range : 80309 ... 94810 =    321.236 ...   379.240 secs\n",
      "Ready.\n",
      "Reading 0 ... 14501  =      0.000 ...    58.004 secs...\n"
     ]
    },
    {
     "name": "stderr",
     "output_type": "stream",
     "text": [
      "C:\\Users\\PESYLV~1\\AppData\\Local\\Temp/ipykernel_29536/564882533.py:16: FutureWarning: The frame.append method is deprecated and will be removed from pandas in a future version. Use pandas.concat instead.\n",
      "  df = df.append({\"data\": rawpd, \"age\": int(mlab[:2])+2.5}, ignore_index=True)\n"
     ]
    },
    {
     "name": "stdout",
     "output_type": "stream",
     "text": [
      "<class 'list'>\n",
      "Opening raw data file C:/Users/pesylvestre/Documents/Informatique/BRAIL/FY2023 In-House PoC3/In-HousePOC3/in_housepoc3/data/Lemon_PreDict\\sub-032316\\sub-032316_EO4_eeg.fif...\n",
      "Isotrak not found\n",
      "    Range : 111128 ... 125628 =    444.512 ...   502.512 secs\n",
      "Ready.\n",
      "Reading 0 ... 14500  =      0.000 ...    58.000 secs...\n"
     ]
    },
    {
     "name": "stderr",
     "output_type": "stream",
     "text": [
      "C:\\Users\\PESYLV~1\\AppData\\Local\\Temp/ipykernel_29536/564882533.py:16: FutureWarning: The frame.append method is deprecated and will be removed from pandas in a future version. Use pandas.concat instead.\n",
      "  df = df.append({\"data\": rawpd, \"age\": int(mlab[:2])+2.5}, ignore_index=True)\n"
     ]
    },
    {
     "name": "stdout",
     "output_type": "stream",
     "text": [
      "<class 'list'>\n",
      "Opening raw data file C:/Users/pesylvestre/Documents/Informatique/BRAIL/FY2023 In-House PoC3/In-HousePOC3/in_housepoc3/data/Lemon_PreDict\\sub-032316\\sub-032316_EO5_eeg.fif...\n",
      "Isotrak not found\n",
      "    Range : 142129 ... 156629 =    568.516 ...   626.516 secs\n",
      "Ready.\n",
      "Reading 0 ... 14500  =      0.000 ...    58.000 secs...\n"
     ]
    },
    {
     "name": "stderr",
     "output_type": "stream",
     "text": [
      "C:\\Users\\PESYLV~1\\AppData\\Local\\Temp/ipykernel_29536/564882533.py:16: FutureWarning: The frame.append method is deprecated and will be removed from pandas in a future version. Use pandas.concat instead.\n",
      "  df = df.append({\"data\": rawpd, \"age\": int(mlab[:2])+2.5}, ignore_index=True)\n"
     ]
    },
    {
     "name": "stdout",
     "output_type": "stream",
     "text": [
      "<class 'list'>\n",
      "Opening raw data file C:/Users/pesylvestre/Documents/Informatique/BRAIL/FY2023 In-House PoC3/In-HousePOC3/in_housepoc3/data/Lemon_PreDict\\sub-032316\\sub-032316_EO6_eeg.fif...\n",
      "Isotrak not found\n",
      "    Range : 173061 ... 187561 =    692.244 ...   750.244 secs\n",
      "Ready.\n",
      "Reading 0 ... 14500  =      0.000 ...    58.000 secs...\n"
     ]
    },
    {
     "name": "stderr",
     "output_type": "stream",
     "text": [
      "C:\\Users\\PESYLV~1\\AppData\\Local\\Temp/ipykernel_29536/564882533.py:16: FutureWarning: The frame.append method is deprecated and will be removed from pandas in a future version. Use pandas.concat instead.\n",
      "  df = df.append({\"data\": rawpd, \"age\": int(mlab[:2])+2.5}, ignore_index=True)\n"
     ]
    },
    {
     "name": "stdout",
     "output_type": "stream",
     "text": [
      "<class 'list'>\n",
      "Opening raw data file C:/Users/pesylvestre/Documents/Informatique/BRAIL/FY2023 In-House PoC3/In-HousePOC3/in_housepoc3/data/Lemon_PreDict\\sub-032316\\sub-032316_EO7_eeg.fif...\n",
      "Isotrak not found\n",
      "    Range : 203879 ... 218379 =    815.516 ...   873.516 secs\n",
      "Ready.\n",
      "Reading 0 ... 14500  =      0.000 ...    58.000 secs...\n"
     ]
    },
    {
     "name": "stderr",
     "output_type": "stream",
     "text": [
      "C:\\Users\\PESYLV~1\\AppData\\Local\\Temp/ipykernel_29536/564882533.py:16: FutureWarning: The frame.append method is deprecated and will be removed from pandas in a future version. Use pandas.concat instead.\n",
      "  df = df.append({\"data\": rawpd, \"age\": int(mlab[:2])+2.5}, ignore_index=True)\n"
     ]
    },
    {
     "name": "stdout",
     "output_type": "stream",
     "text": [
      "<class 'list'>\n",
      "Opening raw data file C:/Users/pesylvestre/Documents/Informatique/BRAIL/FY2023 In-House PoC3/In-HousePOC3/in_housepoc3/data/Lemon_PreDict\\sub-032316\\sub-032316_EO8_eeg.fif...\n",
      "Isotrak not found\n",
      "    Range : 235067 ... 249567 =    940.268 ...   998.268 secs\n",
      "Ready.\n",
      "Reading 0 ... 14500  =      0.000 ...    58.000 secs...\n"
     ]
    },
    {
     "name": "stderr",
     "output_type": "stream",
     "text": [
      "C:\\Users\\PESYLV~1\\AppData\\Local\\Temp/ipykernel_29536/564882533.py:16: FutureWarning: The frame.append method is deprecated and will be removed from pandas in a future version. Use pandas.concat instead.\n",
      "  df = df.append({\"data\": rawpd, \"age\": int(mlab[:2])+2.5}, ignore_index=True)\n"
     ]
    },
    {
     "name": "stdout",
     "output_type": "stream",
     "text": [
      "<class 'list'>\n",
      "Opening raw data file C:/Users/pesylvestre/Documents/Informatique/BRAIL/FY2023 In-House PoC3/In-HousePOC3/in_housepoc3/data/Lemon_PreDict\\sub-032317\\sub-032317_EC1_eeg.fif...\n",
      "Isotrak not found\n",
      "    Range : 2126 ... 16626 =      8.504 ...    66.504 secs\n",
      "Ready.\n",
      "Reading 0 ... 14500  =      0.000 ...    58.000 secs...\n"
     ]
    },
    {
     "name": "stderr",
     "output_type": "stream",
     "text": [
      "C:\\Users\\PESYLV~1\\AppData\\Local\\Temp/ipykernel_29536/564882533.py:16: FutureWarning: The frame.append method is deprecated and will be removed from pandas in a future version. Use pandas.concat instead.\n",
      "  df = df.append({\"data\": rawpd, \"age\": int(mlab[:2])+2.5}, ignore_index=True)\n"
     ]
    },
    {
     "name": "stdout",
     "output_type": "stream",
     "text": [
      "<class 'list'>\n",
      "Opening raw data file C:/Users/pesylvestre/Documents/Informatique/BRAIL/FY2023 In-House PoC3/In-HousePOC3/in_housepoc3/data/Lemon_PreDict\\sub-032317\\sub-032317_EC2_eeg.fif...\n",
      "Isotrak not found\n",
      "    Range : 33131 ... 47631 =    132.524 ...   190.524 secs\n",
      "Ready.\n",
      "Reading 0 ... 14500  =      0.000 ...    58.000 secs...\n"
     ]
    },
    {
     "name": "stderr",
     "output_type": "stream",
     "text": [
      "C:\\Users\\PESYLV~1\\AppData\\Local\\Temp/ipykernel_29536/564882533.py:16: FutureWarning: The frame.append method is deprecated and will be removed from pandas in a future version. Use pandas.concat instead.\n",
      "  df = df.append({\"data\": rawpd, \"age\": int(mlab[:2])+2.5}, ignore_index=True)\n"
     ]
    },
    {
     "name": "stdout",
     "output_type": "stream",
     "text": [
      "<class 'list'>\n",
      "Opening raw data file C:/Users/pesylvestre/Documents/Informatique/BRAIL/FY2023 In-House PoC3/In-HousePOC3/in_housepoc3/data/Lemon_PreDict\\sub-032317\\sub-032317_EC3_eeg.fif...\n",
      "Isotrak not found\n",
      "    Range : 64262 ... 78763 =    257.048 ...   315.052 secs\n",
      "Ready.\n",
      "Reading 0 ... 14501  =      0.000 ...    58.004 secs...\n"
     ]
    },
    {
     "name": "stderr",
     "output_type": "stream",
     "text": [
      "C:\\Users\\PESYLV~1\\AppData\\Local\\Temp/ipykernel_29536/564882533.py:16: FutureWarning: The frame.append method is deprecated and will be removed from pandas in a future version. Use pandas.concat instead.\n",
      "  df = df.append({\"data\": rawpd, \"age\": int(mlab[:2])+2.5}, ignore_index=True)\n"
     ]
    },
    {
     "name": "stdout",
     "output_type": "stream",
     "text": [
      "<class 'list'>\n",
      "Opening raw data file C:/Users/pesylvestre/Documents/Informatique/BRAIL/FY2023 In-House PoC3/In-HousePOC3/in_housepoc3/data/Lemon_PreDict\\sub-032317\\sub-032317_EC4_eeg.fif...\n",
      "Isotrak not found\n",
      "    Range : 95627 ... 110128 =    382.508 ...   440.512 secs\n",
      "Ready.\n",
      "Reading 0 ... 14501  =      0.000 ...    58.004 secs...\n"
     ]
    },
    {
     "name": "stderr",
     "output_type": "stream",
     "text": [
      "C:\\Users\\PESYLV~1\\AppData\\Local\\Temp/ipykernel_29536/564882533.py:16: FutureWarning: The frame.append method is deprecated and will be removed from pandas in a future version. Use pandas.concat instead.\n",
      "  df = df.append({\"data\": rawpd, \"age\": int(mlab[:2])+2.5}, ignore_index=True)\n"
     ]
    },
    {
     "name": "stdout",
     "output_type": "stream",
     "text": [
      "<class 'list'>\n",
      "Opening raw data file C:/Users/pesylvestre/Documents/Informatique/BRAIL/FY2023 In-House PoC3/In-HousePOC3/in_housepoc3/data/Lemon_PreDict\\sub-032317\\sub-032317_EC5_eeg.fif...\n",
      "Isotrak not found\n",
      "    Range : 126466 ... 140966 =    505.864 ...   563.864 secs\n",
      "Ready.\n",
      "Reading 0 ... 14500  =      0.000 ...    58.000 secs...\n"
     ]
    },
    {
     "name": "stderr",
     "output_type": "stream",
     "text": [
      "C:\\Users\\PESYLV~1\\AppData\\Local\\Temp/ipykernel_29536/564882533.py:16: FutureWarning: The frame.append method is deprecated and will be removed from pandas in a future version. Use pandas.concat instead.\n",
      "  df = df.append({\"data\": rawpd, \"age\": int(mlab[:2])+2.5}, ignore_index=True)\n"
     ]
    },
    {
     "name": "stdout",
     "output_type": "stream",
     "text": [
      "<class 'list'>\n",
      "Opening raw data file C:/Users/pesylvestre/Documents/Informatique/BRAIL/FY2023 In-House PoC3/In-HousePOC3/in_housepoc3/data/Lemon_PreDict\\sub-032317\\sub-032317_EC6_eeg.fif...\n",
      "Isotrak not found\n",
      "    Range : 157464 ... 171964 =    629.856 ...   687.856 secs\n",
      "Ready.\n",
      "Reading 0 ... 14500  =      0.000 ...    58.000 secs...\n"
     ]
    },
    {
     "name": "stderr",
     "output_type": "stream",
     "text": [
      "C:\\Users\\PESYLV~1\\AppData\\Local\\Temp/ipykernel_29536/564882533.py:16: FutureWarning: The frame.append method is deprecated and will be removed from pandas in a future version. Use pandas.concat instead.\n",
      "  df = df.append({\"data\": rawpd, \"age\": int(mlab[:2])+2.5}, ignore_index=True)\n"
     ]
    },
    {
     "name": "stdout",
     "output_type": "stream",
     "text": [
      "<class 'list'>\n",
      "Opening raw data file C:/Users/pesylvestre/Documents/Informatique/BRAIL/FY2023 In-House PoC3/In-HousePOC3/in_housepoc3/data/Lemon_PreDict\\sub-032317\\sub-032317_EC7_eeg.fif...\n",
      "Isotrak not found\n",
      "    Range : 188565 ... 203066 =    754.260 ...   812.264 secs\n",
      "Ready.\n",
      "Reading 0 ... 14501  =      0.000 ...    58.004 secs...\n"
     ]
    },
    {
     "name": "stderr",
     "output_type": "stream",
     "text": [
      "C:\\Users\\PESYLV~1\\AppData\\Local\\Temp/ipykernel_29536/564882533.py:16: FutureWarning: The frame.append method is deprecated and will be removed from pandas in a future version. Use pandas.concat instead.\n",
      "  df = df.append({\"data\": rawpd, \"age\": int(mlab[:2])+2.5}, ignore_index=True)\n"
     ]
    },
    {
     "name": "stdout",
     "output_type": "stream",
     "text": [
      "<class 'list'>\n",
      "Opening raw data file C:/Users/pesylvestre/Documents/Informatique/BRAIL/FY2023 In-House PoC3/In-HousePOC3/in_housepoc3/data/Lemon_PreDict\\sub-032317\\sub-032317_EC8_eeg.fif...\n",
      "Isotrak not found\n",
      "    Range : 221859 ... 236359 =    887.436 ...   945.436 secs\n",
      "Ready.\n",
      "Reading 0 ... 14500  =      0.000 ...    58.000 secs...\n"
     ]
    },
    {
     "name": "stderr",
     "output_type": "stream",
     "text": [
      "C:\\Users\\PESYLV~1\\AppData\\Local\\Temp/ipykernel_29536/564882533.py:16: FutureWarning: The frame.append method is deprecated and will be removed from pandas in a future version. Use pandas.concat instead.\n",
      "  df = df.append({\"data\": rawpd, \"age\": int(mlab[:2])+2.5}, ignore_index=True)\n"
     ]
    },
    {
     "name": "stdout",
     "output_type": "stream",
     "text": [
      "<class 'list'>\n",
      "Opening raw data file C:/Users/pesylvestre/Documents/Informatique/BRAIL/FY2023 In-House PoC3/In-HousePOC3/in_housepoc3/data/Lemon_PreDict\\sub-032317\\sub-032317_EO1_eeg.fif...\n",
      "Isotrak not found\n",
      "    Range : 17634 ... 32134 =     70.536 ...   128.536 secs\n",
      "Ready.\n",
      "Reading 0 ... 14500  =      0.000 ...    58.000 secs...\n"
     ]
    },
    {
     "name": "stderr",
     "output_type": "stream",
     "text": [
      "C:\\Users\\PESYLV~1\\AppData\\Local\\Temp/ipykernel_29536/564882533.py:16: FutureWarning: The frame.append method is deprecated and will be removed from pandas in a future version. Use pandas.concat instead.\n",
      "  df = df.append({\"data\": rawpd, \"age\": int(mlab[:2])+2.5}, ignore_index=True)\n"
     ]
    },
    {
     "name": "stdout",
     "output_type": "stream",
     "text": [
      "<class 'list'>\n",
      "Opening raw data file C:/Users/pesylvestre/Documents/Informatique/BRAIL/FY2023 In-House PoC3/In-HousePOC3/in_housepoc3/data/Lemon_PreDict\\sub-032317\\sub-032317_EO2_eeg.fif...\n",
      "Isotrak not found\n",
      "    Range : 48667 ... 63168 =    194.668 ...   252.672 secs\n",
      "Ready.\n",
      "Reading 0 ... 14501  =      0.000 ...    58.004 secs...\n"
     ]
    },
    {
     "name": "stderr",
     "output_type": "stream",
     "text": [
      "C:\\Users\\PESYLV~1\\AppData\\Local\\Temp/ipykernel_29536/564882533.py:16: FutureWarning: The frame.append method is deprecated and will be removed from pandas in a future version. Use pandas.concat instead.\n",
      "  df = df.append({\"data\": rawpd, \"age\": int(mlab[:2])+2.5}, ignore_index=True)\n"
     ]
    },
    {
     "name": "stdout",
     "output_type": "stream",
     "text": [
      "<class 'list'>\n",
      "Opening raw data file C:/Users/pesylvestre/Documents/Informatique/BRAIL/FY2023 In-House PoC3/In-HousePOC3/in_housepoc3/data/Lemon_PreDict\\sub-032317\\sub-032317_EO3_eeg.fif...\n",
      "Isotrak not found\n",
      "    Range : 79788 ... 94289 =    319.152 ...   377.156 secs\n",
      "Ready.\n",
      "Reading 0 ... 14501  =      0.000 ...    58.004 secs...\n"
     ]
    },
    {
     "name": "stderr",
     "output_type": "stream",
     "text": [
      "C:\\Users\\PESYLV~1\\AppData\\Local\\Temp/ipykernel_29536/564882533.py:16: FutureWarning: The frame.append method is deprecated and will be removed from pandas in a future version. Use pandas.concat instead.\n",
      "  df = df.append({\"data\": rawpd, \"age\": int(mlab[:2])+2.5}, ignore_index=True)\n"
     ]
    },
    {
     "name": "stdout",
     "output_type": "stream",
     "text": [
      "<class 'list'>\n",
      "Opening raw data file C:/Users/pesylvestre/Documents/Informatique/BRAIL/FY2023 In-House PoC3/In-HousePOC3/in_housepoc3/data/Lemon_PreDict\\sub-032317\\sub-032317_EO4_eeg.fif...\n",
      "Isotrak not found\n",
      "    Range : 111013 ... 125514 =    444.052 ...   502.056 secs\n",
      "Ready.\n",
      "Reading 0 ... 14501  =      0.000 ...    58.004 secs...\n"
     ]
    },
    {
     "name": "stderr",
     "output_type": "stream",
     "text": [
      "C:\\Users\\PESYLV~1\\AppData\\Local\\Temp/ipykernel_29536/564882533.py:16: FutureWarning: The frame.append method is deprecated and will be removed from pandas in a future version. Use pandas.concat instead.\n",
      "  df = df.append({\"data\": rawpd, \"age\": int(mlab[:2])+2.5}, ignore_index=True)\n"
     ]
    },
    {
     "name": "stdout",
     "output_type": "stream",
     "text": [
      "<class 'list'>\n",
      "Opening raw data file C:/Users/pesylvestre/Documents/Informatique/BRAIL/FY2023 In-House PoC3/In-HousePOC3/in_housepoc3/data/Lemon_PreDict\\sub-032317\\sub-032317_EO5_eeg.fif...\n",
      "Isotrak not found\n",
      "    Range : 141916 ... 156416 =    567.664 ...   625.664 secs\n",
      "Ready.\n",
      "Reading 0 ... 14500  =      0.000 ...    58.000 secs...\n"
     ]
    },
    {
     "name": "stderr",
     "output_type": "stream",
     "text": [
      "C:\\Users\\PESYLV~1\\AppData\\Local\\Temp/ipykernel_29536/564882533.py:16: FutureWarning: The frame.append method is deprecated and will be removed from pandas in a future version. Use pandas.concat instead.\n",
      "  df = df.append({\"data\": rawpd, \"age\": int(mlab[:2])+2.5}, ignore_index=True)\n"
     ]
    },
    {
     "name": "stdout",
     "output_type": "stream",
     "text": [
      "<class 'list'>\n",
      "Opening raw data file C:/Users/pesylvestre/Documents/Informatique/BRAIL/FY2023 In-House PoC3/In-HousePOC3/in_housepoc3/data/Lemon_PreDict\\sub-032317\\sub-032317_EO6_eeg.fif...\n",
      "Isotrak not found\n",
      "    Range : 173062 ... 187562 =    692.248 ...   750.248 secs\n",
      "Ready.\n",
      "Reading 0 ... 14500  =      0.000 ...    58.000 secs...\n"
     ]
    },
    {
     "name": "stderr",
     "output_type": "stream",
     "text": [
      "C:\\Users\\PESYLV~1\\AppData\\Local\\Temp/ipykernel_29536/564882533.py:16: FutureWarning: The frame.append method is deprecated and will be removed from pandas in a future version. Use pandas.concat instead.\n",
      "  df = df.append({\"data\": rawpd, \"age\": int(mlab[:2])+2.5}, ignore_index=True)\n"
     ]
    },
    {
     "name": "stdout",
     "output_type": "stream",
     "text": [
      "<class 'list'>\n",
      "Opening raw data file C:/Users/pesylvestre/Documents/Informatique/BRAIL/FY2023 In-House PoC3/In-HousePOC3/in_housepoc3/data/Lemon_PreDict\\sub-032317\\sub-032317_EO7_eeg.fif...\n",
      "Isotrak not found\n",
      "    Range : 206140 ... 220640 =    824.560 ...   882.560 secs\n",
      "Ready.\n",
      "Reading 0 ... 14500  =      0.000 ...    58.000 secs...\n"
     ]
    },
    {
     "name": "stderr",
     "output_type": "stream",
     "text": [
      "C:\\Users\\PESYLV~1\\AppData\\Local\\Temp/ipykernel_29536/564882533.py:16: FutureWarning: The frame.append method is deprecated and will be removed from pandas in a future version. Use pandas.concat instead.\n",
      "  df = df.append({\"data\": rawpd, \"age\": int(mlab[:2])+2.5}, ignore_index=True)\n"
     ]
    },
    {
     "name": "stdout",
     "output_type": "stream",
     "text": [
      "<class 'list'>\n",
      "Opening raw data file C:/Users/pesylvestre/Documents/Informatique/BRAIL/FY2023 In-House PoC3/In-HousePOC3/in_housepoc3/data/Lemon_PreDict\\sub-032317\\sub-032317_EO8_eeg.fif...\n",
      "Isotrak not found\n",
      "    Range : 237601 ... 252101 =    950.404 ...  1008.404 secs\n",
      "Ready.\n",
      "Reading 0 ... 14500  =      0.000 ...    58.000 secs...\n"
     ]
    },
    {
     "name": "stderr",
     "output_type": "stream",
     "text": [
      "C:\\Users\\PESYLV~1\\AppData\\Local\\Temp/ipykernel_29536/564882533.py:16: FutureWarning: The frame.append method is deprecated and will be removed from pandas in a future version. Use pandas.concat instead.\n",
      "  df = df.append({\"data\": rawpd, \"age\": int(mlab[:2])+2.5}, ignore_index=True)\n"
     ]
    },
    {
     "name": "stdout",
     "output_type": "stream",
     "text": [
      "<class 'list'>\n",
      "Opening raw data file C:/Users/pesylvestre/Documents/Informatique/BRAIL/FY2023 In-House PoC3/In-HousePOC3/in_housepoc3/data/Lemon_PreDict\\sub-032318\\sub-032318_EC1_eeg.fif...\n",
      "Isotrak not found\n",
      "    Range : 6258 ... 20758 =     25.032 ...    83.032 secs\n",
      "Ready.\n",
      "Reading 0 ... 14500  =      0.000 ...    58.000 secs...\n"
     ]
    },
    {
     "name": "stderr",
     "output_type": "stream",
     "text": [
      "C:\\Users\\PESYLV~1\\AppData\\Local\\Temp/ipykernel_29536/564882533.py:16: FutureWarning: The frame.append method is deprecated and will be removed from pandas in a future version. Use pandas.concat instead.\n",
      "  df = df.append({\"data\": rawpd, \"age\": int(mlab[:2])+2.5}, ignore_index=True)\n"
     ]
    },
    {
     "name": "stdout",
     "output_type": "stream",
     "text": [
      "<class 'list'>\n",
      "Opening raw data file C:/Users/pesylvestre/Documents/Informatique/BRAIL/FY2023 In-House PoC3/In-HousePOC3/in_housepoc3/data/Lemon_PreDict\\sub-032318\\sub-032318_EC2_eeg.fif...\n",
      "Isotrak not found\n",
      "    Range : 37358 ... 51859 =    149.432 ...   207.436 secs\n",
      "Ready.\n",
      "Reading 0 ... 14501  =      0.000 ...    58.004 secs...\n"
     ]
    },
    {
     "name": "stderr",
     "output_type": "stream",
     "text": [
      "C:\\Users\\PESYLV~1\\AppData\\Local\\Temp/ipykernel_29536/564882533.py:16: FutureWarning: The frame.append method is deprecated and will be removed from pandas in a future version. Use pandas.concat instead.\n",
      "  df = df.append({\"data\": rawpd, \"age\": int(mlab[:2])+2.5}, ignore_index=True)\n"
     ]
    },
    {
     "name": "stdout",
     "output_type": "stream",
     "text": [
      "<class 'list'>\n",
      "Opening raw data file C:/Users/pesylvestre/Documents/Informatique/BRAIL/FY2023 In-House PoC3/In-HousePOC3/in_housepoc3/data/Lemon_PreDict\\sub-032318\\sub-032318_EC3_eeg.fif...\n",
      "Isotrak not found\n",
      "    Range : 68645 ... 83146 =    274.580 ...   332.584 secs\n",
      "Ready.\n",
      "Reading 0 ... 14501  =      0.000 ...    58.004 secs...\n"
     ]
    },
    {
     "name": "stderr",
     "output_type": "stream",
     "text": [
      "C:\\Users\\PESYLV~1\\AppData\\Local\\Temp/ipykernel_29536/564882533.py:16: FutureWarning: The frame.append method is deprecated and will be removed from pandas in a future version. Use pandas.concat instead.\n",
      "  df = df.append({\"data\": rawpd, \"age\": int(mlab[:2])+2.5}, ignore_index=True)\n"
     ]
    },
    {
     "name": "stdout",
     "output_type": "stream",
     "text": [
      "<class 'list'>\n",
      "Opening raw data file C:/Users/pesylvestre/Documents/Informatique/BRAIL/FY2023 In-House PoC3/In-HousePOC3/in_housepoc3/data/Lemon_PreDict\\sub-032318\\sub-032318_EC4_eeg.fif...\n",
      "Isotrak not found\n",
      "    Range : 103925 ... 118426 =    415.700 ...   473.704 secs\n",
      "Ready.\n",
      "Reading 0 ... 14501  =      0.000 ...    58.004 secs...\n"
     ]
    },
    {
     "name": "stderr",
     "output_type": "stream",
     "text": [
      "C:\\Users\\PESYLV~1\\AppData\\Local\\Temp/ipykernel_29536/564882533.py:16: FutureWarning: The frame.append method is deprecated and will be removed from pandas in a future version. Use pandas.concat instead.\n",
      "  df = df.append({\"data\": rawpd, \"age\": int(mlab[:2])+2.5}, ignore_index=True)\n"
     ]
    },
    {
     "name": "stdout",
     "output_type": "stream",
     "text": [
      "<class 'list'>\n",
      "Opening raw data file C:/Users/pesylvestre/Documents/Informatique/BRAIL/FY2023 In-House PoC3/In-HousePOC3/in_housepoc3/data/Lemon_PreDict\\sub-032318\\sub-032318_EC5_eeg.fif...\n",
      "Isotrak not found\n",
      "    Range : 134918 ... 149419 =    539.672 ...   597.676 secs\n",
      "Ready.\n",
      "Reading 0 ... 14501  =      0.000 ...    58.004 secs...\n"
     ]
    },
    {
     "name": "stderr",
     "output_type": "stream",
     "text": [
      "C:\\Users\\PESYLV~1\\AppData\\Local\\Temp/ipykernel_29536/564882533.py:16: FutureWarning: The frame.append method is deprecated and will be removed from pandas in a future version. Use pandas.concat instead.\n",
      "  df = df.append({\"data\": rawpd, \"age\": int(mlab[:2])+2.5}, ignore_index=True)\n"
     ]
    },
    {
     "name": "stdout",
     "output_type": "stream",
     "text": [
      "<class 'list'>\n",
      "Opening raw data file C:/Users/pesylvestre/Documents/Informatique/BRAIL/FY2023 In-House PoC3/In-HousePOC3/in_housepoc3/data/Lemon_PreDict\\sub-032318\\sub-032318_EC6_eeg.fif...\n",
      "Isotrak not found\n",
      "    Range : 166171 ... 180671 =    664.684 ...   722.684 secs\n",
      "Ready.\n",
      "Reading 0 ... 14500  =      0.000 ...    58.000 secs...\n"
     ]
    },
    {
     "name": "stderr",
     "output_type": "stream",
     "text": [
      "C:\\Users\\PESYLV~1\\AppData\\Local\\Temp/ipykernel_29536/564882533.py:16: FutureWarning: The frame.append method is deprecated and will be removed from pandas in a future version. Use pandas.concat instead.\n",
      "  df = df.append({\"data\": rawpd, \"age\": int(mlab[:2])+2.5}, ignore_index=True)\n"
     ]
    },
    {
     "name": "stdout",
     "output_type": "stream",
     "text": [
      "<class 'list'>\n",
      "Opening raw data file C:/Users/pesylvestre/Documents/Informatique/BRAIL/FY2023 In-House PoC3/In-HousePOC3/in_housepoc3/data/Lemon_PreDict\\sub-032318\\sub-032318_EC7_eeg.fif...\n",
      "Isotrak not found\n",
      "    Range : 197562 ... 212062 =    790.248 ...   848.248 secs\n",
      "Ready.\n",
      "Reading 0 ... 14500  =      0.000 ...    58.000 secs...\n"
     ]
    },
    {
     "name": "stderr",
     "output_type": "stream",
     "text": [
      "C:\\Users\\PESYLV~1\\AppData\\Local\\Temp/ipykernel_29536/564882533.py:16: FutureWarning: The frame.append method is deprecated and will be removed from pandas in a future version. Use pandas.concat instead.\n",
      "  df = df.append({\"data\": rawpd, \"age\": int(mlab[:2])+2.5}, ignore_index=True)\n"
     ]
    },
    {
     "name": "stdout",
     "output_type": "stream",
     "text": [
      "<class 'list'>\n",
      "Opening raw data file C:/Users/pesylvestre/Documents/Informatique/BRAIL/FY2023 In-House PoC3/In-HousePOC3/in_housepoc3/data/Lemon_PreDict\\sub-032318\\sub-032318_EC8_eeg.fif...\n",
      "Isotrak not found\n",
      "    Range : 228604 ... 243104 =    914.416 ...   972.416 secs\n",
      "Ready.\n",
      "Reading 0 ... 14500  =      0.000 ...    58.000 secs...\n"
     ]
    },
    {
     "name": "stderr",
     "output_type": "stream",
     "text": [
      "C:\\Users\\PESYLV~1\\AppData\\Local\\Temp/ipykernel_29536/564882533.py:16: FutureWarning: The frame.append method is deprecated and will be removed from pandas in a future version. Use pandas.concat instead.\n",
      "  df = df.append({\"data\": rawpd, \"age\": int(mlab[:2])+2.5}, ignore_index=True)\n"
     ]
    },
    {
     "name": "stdout",
     "output_type": "stream",
     "text": [
      "<class 'list'>\n",
      "Opening raw data file C:/Users/pesylvestre/Documents/Informatique/BRAIL/FY2023 In-House PoC3/In-HousePOC3/in_housepoc3/data/Lemon_PreDict\\sub-032318\\sub-032318_EO1_eeg.fif...\n",
      "Isotrak not found\n",
      "    Range : 21761 ... 36261 =     87.044 ...   145.044 secs\n",
      "Ready.\n",
      "Reading 0 ... 14500  =      0.000 ...    58.000 secs...\n"
     ]
    },
    {
     "name": "stderr",
     "output_type": "stream",
     "text": [
      "C:\\Users\\PESYLV~1\\AppData\\Local\\Temp/ipykernel_29536/564882533.py:16: FutureWarning: The frame.append method is deprecated and will be removed from pandas in a future version. Use pandas.concat instead.\n",
      "  df = df.append({\"data\": rawpd, \"age\": int(mlab[:2])+2.5}, ignore_index=True)\n"
     ]
    },
    {
     "name": "stdout",
     "output_type": "stream",
     "text": [
      "<class 'list'>\n",
      "Opening raw data file C:/Users/pesylvestre/Documents/Informatique/BRAIL/FY2023 In-House PoC3/In-HousePOC3/in_housepoc3/data/Lemon_PreDict\\sub-032318\\sub-032318_EO2_eeg.fif...\n",
      "Isotrak not found\n",
      "    Range : 52892 ... 67392 =    211.568 ...   269.568 secs\n",
      "Ready.\n",
      "Reading 0 ... 14500  =      0.000 ...    58.000 secs...\n"
     ]
    },
    {
     "name": "stderr",
     "output_type": "stream",
     "text": [
      "C:\\Users\\PESYLV~1\\AppData\\Local\\Temp/ipykernel_29536/564882533.py:16: FutureWarning: The frame.append method is deprecated and will be removed from pandas in a future version. Use pandas.concat instead.\n",
      "  df = df.append({\"data\": rawpd, \"age\": int(mlab[:2])+2.5}, ignore_index=True)\n"
     ]
    },
    {
     "name": "stdout",
     "output_type": "stream",
     "text": [
      "<class 'list'>\n",
      "Opening raw data file C:/Users/pesylvestre/Documents/Informatique/BRAIL/FY2023 In-House PoC3/In-HousePOC3/in_housepoc3/data/Lemon_PreDict\\sub-032318\\sub-032318_EO3_eeg.fif...\n",
      "Isotrak not found\n",
      "    Range : 88507 ... 103007 =    354.028 ...   412.028 secs\n",
      "Ready.\n",
      "Reading 0 ... 14500  =      0.000 ...    58.000 secs...\n"
     ]
    },
    {
     "name": "stderr",
     "output_type": "stream",
     "text": [
      "C:\\Users\\PESYLV~1\\AppData\\Local\\Temp/ipykernel_29536/564882533.py:16: FutureWarning: The frame.append method is deprecated and will be removed from pandas in a future version. Use pandas.concat instead.\n",
      "  df = df.append({\"data\": rawpd, \"age\": int(mlab[:2])+2.5}, ignore_index=True)\n"
     ]
    },
    {
     "name": "stdout",
     "output_type": "stream",
     "text": [
      "<class 'list'>\n",
      "Opening raw data file C:/Users/pesylvestre/Documents/Informatique/BRAIL/FY2023 In-House PoC3/In-HousePOC3/in_housepoc3/data/Lemon_PreDict\\sub-032318\\sub-032318_EO4_eeg.fif...\n",
      "Isotrak not found\n",
      "    Range : 119257 ... 133758 =    477.028 ...   535.032 secs\n",
      "Ready.\n",
      "Reading 0 ... 14501  =      0.000 ...    58.004 secs...\n"
     ]
    },
    {
     "name": "stderr",
     "output_type": "stream",
     "text": [
      "C:\\Users\\PESYLV~1\\AppData\\Local\\Temp/ipykernel_29536/564882533.py:16: FutureWarning: The frame.append method is deprecated and will be removed from pandas in a future version. Use pandas.concat instead.\n",
      "  df = df.append({\"data\": rawpd, \"age\": int(mlab[:2])+2.5}, ignore_index=True)\n"
     ]
    },
    {
     "name": "stdout",
     "output_type": "stream",
     "text": [
      "<class 'list'>\n",
      "Opening raw data file C:/Users/pesylvestre/Documents/Informatique/BRAIL/FY2023 In-House PoC3/In-HousePOC3/in_housepoc3/data/Lemon_PreDict\\sub-032318\\sub-032318_EO5_eeg.fif...\n",
      "Isotrak not found\n",
      "    Range : 150462 ... 164962 =    601.848 ...   659.848 secs\n",
      "Ready.\n",
      "Reading 0 ... 14500  =      0.000 ...    58.000 secs...\n"
     ]
    },
    {
     "name": "stderr",
     "output_type": "stream",
     "text": [
      "C:\\Users\\PESYLV~1\\AppData\\Local\\Temp/ipykernel_29536/564882533.py:16: FutureWarning: The frame.append method is deprecated and will be removed from pandas in a future version. Use pandas.concat instead.\n",
      "  df = df.append({\"data\": rawpd, \"age\": int(mlab[:2])+2.5}, ignore_index=True)\n"
     ]
    },
    {
     "name": "stdout",
     "output_type": "stream",
     "text": [
      "<class 'list'>\n",
      "Opening raw data file C:/Users/pesylvestre/Documents/Informatique/BRAIL/FY2023 In-House PoC3/In-HousePOC3/in_housepoc3/data/Lemon_PreDict\\sub-032318\\sub-032318_EO6_eeg.fif...\n",
      "Isotrak not found\n",
      "    Range : 181758 ... 196258 =    727.032 ...   785.032 secs\n",
      "Ready.\n",
      "Reading 0 ... 14500  =      0.000 ...    58.000 secs...\n"
     ]
    },
    {
     "name": "stderr",
     "output_type": "stream",
     "text": [
      "C:\\Users\\PESYLV~1\\AppData\\Local\\Temp/ipykernel_29536/564882533.py:16: FutureWarning: The frame.append method is deprecated and will be removed from pandas in a future version. Use pandas.concat instead.\n",
      "  df = df.append({\"data\": rawpd, \"age\": int(mlab[:2])+2.5}, ignore_index=True)\n"
     ]
    },
    {
     "name": "stdout",
     "output_type": "stream",
     "text": [
      "<class 'list'>\n",
      "Opening raw data file C:/Users/pesylvestre/Documents/Informatique/BRAIL/FY2023 In-House PoC3/In-HousePOC3/in_housepoc3/data/Lemon_PreDict\\sub-032318\\sub-032318_EO7_eeg.fif...\n",
      "Isotrak not found\n",
      "    Range : 213099 ... 227599 =    852.396 ...   910.396 secs\n",
      "Ready.\n",
      "Reading 0 ... 14500  =      0.000 ...    58.000 secs...\n"
     ]
    },
    {
     "name": "stderr",
     "output_type": "stream",
     "text": [
      "C:\\Users\\PESYLV~1\\AppData\\Local\\Temp/ipykernel_29536/564882533.py:16: FutureWarning: The frame.append method is deprecated and will be removed from pandas in a future version. Use pandas.concat instead.\n",
      "  df = df.append({\"data\": rawpd, \"age\": int(mlab[:2])+2.5}, ignore_index=True)\n"
     ]
    },
    {
     "name": "stdout",
     "output_type": "stream",
     "text": [
      "<class 'list'>\n",
      "Opening raw data file C:/Users/pesylvestre/Documents/Informatique/BRAIL/FY2023 In-House PoC3/In-HousePOC3/in_housepoc3/data/Lemon_PreDict\\sub-032318\\sub-032318_EO8_eeg.fif...\n",
      "Isotrak not found\n",
      "    Range : 244218 ... 258719 =    976.872 ...  1034.876 secs\n",
      "Ready.\n",
      "Reading 0 ... 14501  =      0.000 ...    58.004 secs...\n"
     ]
    },
    {
     "name": "stderr",
     "output_type": "stream",
     "text": [
      "C:\\Users\\PESYLV~1\\AppData\\Local\\Temp/ipykernel_29536/564882533.py:16: FutureWarning: The frame.append method is deprecated and will be removed from pandas in a future version. Use pandas.concat instead.\n",
      "  df = df.append({\"data\": rawpd, \"age\": int(mlab[:2])+2.5}, ignore_index=True)\n"
     ]
    },
    {
     "name": "stdout",
     "output_type": "stream",
     "text": [
      "<class 'list'>\n",
      "Opening raw data file C:/Users/pesylvestre/Documents/Informatique/BRAIL/FY2023 In-House PoC3/In-HousePOC3/in_housepoc3/data/Lemon_PreDict\\sub-032319\\sub-032319_EC1_eeg.fif...\n",
      "Isotrak not found\n",
      "    Range : 5466 ... 19967 =     21.864 ...    79.868 secs\n",
      "Ready.\n",
      "Reading 0 ... 14501  =      0.000 ...    58.004 secs...\n"
     ]
    },
    {
     "name": "stderr",
     "output_type": "stream",
     "text": [
      "C:\\Users\\PESYLV~1\\AppData\\Local\\Temp/ipykernel_29536/564882533.py:16: FutureWarning: The frame.append method is deprecated and will be removed from pandas in a future version. Use pandas.concat instead.\n",
      "  df = df.append({\"data\": rawpd, \"age\": int(mlab[:2])+2.5}, ignore_index=True)\n"
     ]
    },
    {
     "name": "stdout",
     "output_type": "stream",
     "text": [
      "<class 'list'>\n",
      "Opening raw data file C:/Users/pesylvestre/Documents/Informatique/BRAIL/FY2023 In-House PoC3/In-HousePOC3/in_housepoc3/data/Lemon_PreDict\\sub-032319\\sub-032319_EC2_eeg.fif...\n",
      "Isotrak not found\n",
      "    Range : 36449 ... 50950 =    145.796 ...   203.800 secs\n",
      "Ready.\n",
      "Reading 0 ... 14501  =      0.000 ...    58.004 secs...\n"
     ]
    },
    {
     "name": "stderr",
     "output_type": "stream",
     "text": [
      "C:\\Users\\PESYLV~1\\AppData\\Local\\Temp/ipykernel_29536/564882533.py:16: FutureWarning: The frame.append method is deprecated and will be removed from pandas in a future version. Use pandas.concat instead.\n",
      "  df = df.append({\"data\": rawpd, \"age\": int(mlab[:2])+2.5}, ignore_index=True)\n"
     ]
    },
    {
     "name": "stdout",
     "output_type": "stream",
     "text": [
      "<class 'list'>\n",
      "Opening raw data file C:/Users/pesylvestre/Documents/Informatique/BRAIL/FY2023 In-House PoC3/In-HousePOC3/in_housepoc3/data/Lemon_PreDict\\sub-032319\\sub-032319_EC3_eeg.fif...\n",
      "Isotrak not found\n",
      "    Range : 67590 ... 82090 =    270.360 ...   328.360 secs\n",
      "Ready.\n",
      "Reading 0 ... 14500  =      0.000 ...    58.000 secs...\n"
     ]
    },
    {
     "name": "stderr",
     "output_type": "stream",
     "text": [
      "C:\\Users\\PESYLV~1\\AppData\\Local\\Temp/ipykernel_29536/564882533.py:16: FutureWarning: The frame.append method is deprecated and will be removed from pandas in a future version. Use pandas.concat instead.\n",
      "  df = df.append({\"data\": rawpd, \"age\": int(mlab[:2])+2.5}, ignore_index=True)\n"
     ]
    },
    {
     "name": "stdout",
     "output_type": "stream",
     "text": [
      "<class 'list'>\n",
      "Opening raw data file C:/Users/pesylvestre/Documents/Informatique/BRAIL/FY2023 In-House PoC3/In-HousePOC3/in_housepoc3/data/Lemon_PreDict\\sub-032319\\sub-032319_EC4_eeg.fif...\n",
      "Isotrak not found\n",
      "    Range : 98577 ... 113077 =    394.308 ...   452.308 secs\n",
      "Ready.\n",
      "Reading 0 ... 14500  =      0.000 ...    58.000 secs...\n"
     ]
    },
    {
     "name": "stderr",
     "output_type": "stream",
     "text": [
      "C:\\Users\\PESYLV~1\\AppData\\Local\\Temp/ipykernel_29536/564882533.py:16: FutureWarning: The frame.append method is deprecated and will be removed from pandas in a future version. Use pandas.concat instead.\n",
      "  df = df.append({\"data\": rawpd, \"age\": int(mlab[:2])+2.5}, ignore_index=True)\n"
     ]
    },
    {
     "name": "stdout",
     "output_type": "stream",
     "text": [
      "<class 'list'>\n",
      "Opening raw data file C:/Users/pesylvestre/Documents/Informatique/BRAIL/FY2023 In-House PoC3/In-HousePOC3/in_housepoc3/data/Lemon_PreDict\\sub-032319\\sub-032319_EC5_eeg.fif...\n",
      "Isotrak not found\n",
      "    Range : 129585 ... 144085 =    518.340 ...   576.340 secs\n",
      "Ready.\n",
      "Reading 0 ... 14500  =      0.000 ...    58.000 secs...\n"
     ]
    },
    {
     "name": "stderr",
     "output_type": "stream",
     "text": [
      "C:\\Users\\PESYLV~1\\AppData\\Local\\Temp/ipykernel_29536/564882533.py:16: FutureWarning: The frame.append method is deprecated and will be removed from pandas in a future version. Use pandas.concat instead.\n",
      "  df = df.append({\"data\": rawpd, \"age\": int(mlab[:2])+2.5}, ignore_index=True)\n"
     ]
    },
    {
     "name": "stdout",
     "output_type": "stream",
     "text": [
      "<class 'list'>\n",
      "Opening raw data file C:/Users/pesylvestre/Documents/Informatique/BRAIL/FY2023 In-House PoC3/In-HousePOC3/in_housepoc3/data/Lemon_PreDict\\sub-032319\\sub-032319_EC6_eeg.fif...\n",
      "Isotrak not found\n",
      "    Range : 161219 ... 175719 =    644.876 ...   702.876 secs\n",
      "Ready.\n",
      "Reading 0 ... 14500  =      0.000 ...    58.000 secs...\n",
      "<class 'list'>\n"
     ]
    },
    {
     "name": "stderr",
     "output_type": "stream",
     "text": [
      "C:\\Users\\PESYLV~1\\AppData\\Local\\Temp/ipykernel_29536/564882533.py:16: FutureWarning: The frame.append method is deprecated and will be removed from pandas in a future version. Use pandas.concat instead.\n",
      "  df = df.append({\"data\": rawpd, \"age\": int(mlab[:2])+2.5}, ignore_index=True)\n"
     ]
    },
    {
     "name": "stdout",
     "output_type": "stream",
     "text": [
      "Opening raw data file C:/Users/pesylvestre/Documents/Informatique/BRAIL/FY2023 In-House PoC3/In-HousePOC3/in_housepoc3/data/Lemon_PreDict\\sub-032319\\sub-032319_EC7_eeg.fif...\n",
      "Isotrak not found\n",
      "    Range : 192580 ... 207081 =    770.320 ...   828.324 secs\n",
      "Ready.\n",
      "Reading 0 ... 14501  =      0.000 ...    58.004 secs...\n",
      "<class 'list'>\n"
     ]
    },
    {
     "name": "stderr",
     "output_type": "stream",
     "text": [
      "C:\\Users\\PESYLV~1\\AppData\\Local\\Temp/ipykernel_29536/564882533.py:16: FutureWarning: The frame.append method is deprecated and will be removed from pandas in a future version. Use pandas.concat instead.\n",
      "  df = df.append({\"data\": rawpd, \"age\": int(mlab[:2])+2.5}, ignore_index=True)\n"
     ]
    },
    {
     "name": "stdout",
     "output_type": "stream",
     "text": [
      "Opening raw data file C:/Users/pesylvestre/Documents/Informatique/BRAIL/FY2023 In-House PoC3/In-HousePOC3/in_housepoc3/data/Lemon_PreDict\\sub-032319\\sub-032319_EC8_eeg.fif...\n",
      "Isotrak not found\n",
      "    Range : 223829 ... 238329 =    895.316 ...   953.316 secs\n",
      "Ready.\n",
      "Reading 0 ... 14500  =      0.000 ...    58.000 secs...\n",
      "<class 'list'>\n",
      "Opening raw data file C:/Users/pesylvestre/Documents/Informatique/BRAIL/FY2023 In-House PoC3/In-HousePOC3/in_housepoc3/data/Lemon_PreDict\\sub-032319\\sub-032319_EO1_eeg.fif...\n"
     ]
    },
    {
     "name": "stderr",
     "output_type": "stream",
     "text": [
      "C:\\Users\\PESYLV~1\\AppData\\Local\\Temp/ipykernel_29536/564882533.py:16: FutureWarning: The frame.append method is deprecated and will be removed from pandas in a future version. Use pandas.concat instead.\n",
      "  df = df.append({\"data\": rawpd, \"age\": int(mlab[:2])+2.5}, ignore_index=True)\n",
      "C:\\Users\\PESYLV~1\\AppData\\Local\\Temp/ipykernel_29536/564882533.py:16: FutureWarning: The frame.append method is deprecated and will be removed from pandas in a future version. Use pandas.concat instead.\n",
      "  df = df.append({\"data\": rawpd, \"age\": int(mlab[:2])+2.5}, ignore_index=True)\n"
     ]
    },
    {
     "name": "stdout",
     "output_type": "stream",
     "text": [
      "Isotrak not found\n",
      "    Range : 20939 ... 35439 =     83.756 ...   141.756 secs\n",
      "Ready.\n",
      "Reading 0 ... 14500  =      0.000 ...    58.000 secs...\n",
      "<class 'list'>\n",
      "Opening raw data file C:/Users/pesylvestre/Documents/Informatique/BRAIL/FY2023 In-House PoC3/In-HousePOC3/in_housepoc3/data/Lemon_PreDict\\sub-032319\\sub-032319_EO2_eeg.fif...\n",
      "Isotrak not found\n",
      "    Range : 51918 ... 66419 =    207.672 ...   265.676 secs\n",
      "Ready.\n",
      "Reading 0 ... 14501  =      0.000 ...    58.004 secs...\n"
     ]
    },
    {
     "name": "stderr",
     "output_type": "stream",
     "text": [
      "C:\\Users\\PESYLV~1\\AppData\\Local\\Temp/ipykernel_29536/564882533.py:16: FutureWarning: The frame.append method is deprecated and will be removed from pandas in a future version. Use pandas.concat instead.\n",
      "  df = df.append({\"data\": rawpd, \"age\": int(mlab[:2])+2.5}, ignore_index=True)\n"
     ]
    },
    {
     "name": "stdout",
     "output_type": "stream",
     "text": [
      "<class 'list'>\n",
      "Opening raw data file C:/Users/pesylvestre/Documents/Informatique/BRAIL/FY2023 In-House PoC3/In-HousePOC3/in_housepoc3/data/Lemon_PreDict\\sub-032319\\sub-032319_EO3_eeg.fif...\n",
      "Isotrak not found\n",
      "    Range : 83077 ... 97577 =    332.308 ...   390.308 secs\n",
      "Ready.\n",
      "Reading 0 ... 14500  =      0.000 ...    58.000 secs...\n"
     ]
    },
    {
     "name": "stderr",
     "output_type": "stream",
     "text": [
      "C:\\Users\\PESYLV~1\\AppData\\Local\\Temp/ipykernel_29536/564882533.py:16: FutureWarning: The frame.append method is deprecated and will be removed from pandas in a future version. Use pandas.concat instead.\n",
      "  df = df.append({\"data\": rawpd, \"age\": int(mlab[:2])+2.5}, ignore_index=True)\n"
     ]
    },
    {
     "name": "stdout",
     "output_type": "stream",
     "text": [
      "<class 'list'>\n",
      "Opening raw data file C:/Users/pesylvestre/Documents/Informatique/BRAIL/FY2023 In-House PoC3/In-HousePOC3/in_housepoc3/data/Lemon_PreDict\\sub-032319\\sub-032319_EO4_eeg.fif...\n",
      "Isotrak not found\n",
      "    Range : 114016 ... 128516 =    456.064 ...   514.064 secs\n",
      "Ready.\n",
      "Reading 0 ... 14500  =      0.000 ...    58.000 secs...\n"
     ]
    },
    {
     "name": "stderr",
     "output_type": "stream",
     "text": [
      "C:\\Users\\PESYLV~1\\AppData\\Local\\Temp/ipykernel_29536/564882533.py:16: FutureWarning: The frame.append method is deprecated and will be removed from pandas in a future version. Use pandas.concat instead.\n",
      "  df = df.append({\"data\": rawpd, \"age\": int(mlab[:2])+2.5}, ignore_index=True)\n"
     ]
    },
    {
     "name": "stdout",
     "output_type": "stream",
     "text": [
      "<class 'list'>\n",
      "Opening raw data file C:/Users/pesylvestre/Documents/Informatique/BRAIL/FY2023 In-House PoC3/In-HousePOC3/in_housepoc3/data/Lemon_PreDict\\sub-032319\\sub-032319_EO5_eeg.fif...\n",
      "Isotrak not found\n",
      "    Range : 145732 ... 160232 =    582.928 ...   640.928 secs\n",
      "Ready.\n",
      "Reading 0 ... 14500  =      0.000 ...    58.000 secs...\n"
     ]
    },
    {
     "name": "stderr",
     "output_type": "stream",
     "text": [
      "C:\\Users\\PESYLV~1\\AppData\\Local\\Temp/ipykernel_29536/564882533.py:16: FutureWarning: The frame.append method is deprecated and will be removed from pandas in a future version. Use pandas.concat instead.\n",
      "  df = df.append({\"data\": rawpd, \"age\": int(mlab[:2])+2.5}, ignore_index=True)\n"
     ]
    },
    {
     "name": "stdout",
     "output_type": "stream",
     "text": [
      "<class 'list'>\n",
      "Opening raw data file C:/Users/pesylvestre/Documents/Informatique/BRAIL/FY2023 In-House PoC3/In-HousePOC3/in_housepoc3/data/Lemon_PreDict\\sub-032319\\sub-032319_EO6_eeg.fif...\n",
      "Isotrak not found\n",
      "    Range : 176751 ... 191251 =    707.004 ...   765.004 secs\n",
      "Ready.\n",
      "Reading 0 ... 14500  =      0.000 ...    58.000 secs...\n"
     ]
    },
    {
     "name": "stderr",
     "output_type": "stream",
     "text": [
      "C:\\Users\\PESYLV~1\\AppData\\Local\\Temp/ipykernel_29536/564882533.py:16: FutureWarning: The frame.append method is deprecated and will be removed from pandas in a future version. Use pandas.concat instead.\n",
      "  df = df.append({\"data\": rawpd, \"age\": int(mlab[:2])+2.5}, ignore_index=True)\n"
     ]
    },
    {
     "name": "stdout",
     "output_type": "stream",
     "text": [
      "<class 'list'>\n",
      "Opening raw data file C:/Users/pesylvestre/Documents/Informatique/BRAIL/FY2023 In-House PoC3/In-HousePOC3/in_housepoc3/data/Lemon_PreDict\\sub-032319\\sub-032319_EO7_eeg.fif...\n",
      "Isotrak not found\n",
      "    Range : 208019 ... 222519 =    832.076 ...   890.076 secs\n",
      "Ready.\n",
      "Reading 0 ... 14500  =      0.000 ...    58.000 secs...\n"
     ]
    },
    {
     "name": "stderr",
     "output_type": "stream",
     "text": [
      "C:\\Users\\PESYLV~1\\AppData\\Local\\Temp/ipykernel_29536/564882533.py:16: FutureWarning: The frame.append method is deprecated and will be removed from pandas in a future version. Use pandas.concat instead.\n",
      "  df = df.append({\"data\": rawpd, \"age\": int(mlab[:2])+2.5}, ignore_index=True)\n"
     ]
    },
    {
     "name": "stdout",
     "output_type": "stream",
     "text": [
      "<class 'list'>\n",
      "Opening raw data file C:/Users/pesylvestre/Documents/Informatique/BRAIL/FY2023 In-House PoC3/In-HousePOC3/in_housepoc3/data/Lemon_PreDict\\sub-032319\\sub-032319_EO8_eeg.fif...\n",
      "Isotrak not found\n",
      "    Range : 239297 ... 253798 =    957.188 ...  1015.192 secs\n",
      "Ready.\n",
      "Reading 0 ... 14501  =      0.000 ...    58.004 secs...\n"
     ]
    },
    {
     "name": "stderr",
     "output_type": "stream",
     "text": [
      "C:\\Users\\PESYLV~1\\AppData\\Local\\Temp/ipykernel_29536/564882533.py:16: FutureWarning: The frame.append method is deprecated and will be removed from pandas in a future version. Use pandas.concat instead.\n",
      "  df = df.append({\"data\": rawpd, \"age\": int(mlab[:2])+2.5}, ignore_index=True)\n"
     ]
    },
    {
     "name": "stdout",
     "output_type": "stream",
     "text": [
      "<class 'list'>\n",
      "Opening raw data file C:/Users/pesylvestre/Documents/Informatique/BRAIL/FY2023 In-House PoC3/In-HousePOC3/in_housepoc3/data/Lemon_PreDict\\sub-032320\\sub-032320_EC1_eeg.fif...\n",
      "Isotrak not found\n",
      "    Range : 4122 ... 18623 =     16.488 ...    74.492 secs\n",
      "Ready.\n",
      "Reading 0 ... 14501  =      0.000 ...    58.004 secs...\n"
     ]
    },
    {
     "name": "stderr",
     "output_type": "stream",
     "text": [
      "C:\\Users\\PESYLV~1\\AppData\\Local\\Temp/ipykernel_29536/564882533.py:16: FutureWarning: The frame.append method is deprecated and will be removed from pandas in a future version. Use pandas.concat instead.\n",
      "  df = df.append({\"data\": rawpd, \"age\": int(mlab[:2])+2.5}, ignore_index=True)\n"
     ]
    },
    {
     "name": "stdout",
     "output_type": "stream",
     "text": [
      "<class 'list'>\n",
      "Opening raw data file C:/Users/pesylvestre/Documents/Informatique/BRAIL/FY2023 In-House PoC3/In-HousePOC3/in_housepoc3/data/Lemon_PreDict\\sub-032320\\sub-032320_EC2_eeg.fif...\n",
      "Isotrak not found\n",
      "    Range : 35038 ... 49539 =    140.152 ...   198.156 secs\n",
      "Ready.\n",
      "Reading 0 ... 14501  =      0.000 ...    58.004 secs...\n"
     ]
    },
    {
     "name": "stderr",
     "output_type": "stream",
     "text": [
      "C:\\Users\\PESYLV~1\\AppData\\Local\\Temp/ipykernel_29536/564882533.py:16: FutureWarning: The frame.append method is deprecated and will be removed from pandas in a future version. Use pandas.concat instead.\n",
      "  df = df.append({\"data\": rawpd, \"age\": int(mlab[:2])+2.5}, ignore_index=True)\n"
     ]
    },
    {
     "name": "stdout",
     "output_type": "stream",
     "text": [
      "<class 'list'>\n",
      "Opening raw data file C:/Users/pesylvestre/Documents/Informatique/BRAIL/FY2023 In-House PoC3/In-HousePOC3/in_housepoc3/data/Lemon_PreDict\\sub-032320\\sub-032320_EC3_eeg.fif...\n",
      "Isotrak not found\n",
      "    Range : 70314 ... 84815 =    281.256 ...   339.260 secs\n",
      "Ready.\n",
      "Reading 0 ... 14501  =      0.000 ...    58.004 secs...\n"
     ]
    },
    {
     "name": "stderr",
     "output_type": "stream",
     "text": [
      "C:\\Users\\PESYLV~1\\AppData\\Local\\Temp/ipykernel_29536/564882533.py:16: FutureWarning: The frame.append method is deprecated and will be removed from pandas in a future version. Use pandas.concat instead.\n",
      "  df = df.append({\"data\": rawpd, \"age\": int(mlab[:2])+2.5}, ignore_index=True)\n"
     ]
    },
    {
     "name": "stdout",
     "output_type": "stream",
     "text": [
      "<class 'list'>\n",
      "Opening raw data file C:/Users/pesylvestre/Documents/Informatique/BRAIL/FY2023 In-House PoC3/In-HousePOC3/in_housepoc3/data/Lemon_PreDict\\sub-032320\\sub-032320_EC4_eeg.fif...\n",
      "Isotrak not found\n",
      "    Range : 101060 ... 115561 =    404.240 ...   462.244 secs\n",
      "Ready.\n",
      "Reading 0 ... 14501  =      0.000 ...    58.004 secs...\n"
     ]
    },
    {
     "name": "stderr",
     "output_type": "stream",
     "text": [
      "C:\\Users\\PESYLV~1\\AppData\\Local\\Temp/ipykernel_29536/564882533.py:16: FutureWarning: The frame.append method is deprecated and will be removed from pandas in a future version. Use pandas.concat instead.\n",
      "  df = df.append({\"data\": rawpd, \"age\": int(mlab[:2])+2.5}, ignore_index=True)\n"
     ]
    },
    {
     "name": "stdout",
     "output_type": "stream",
     "text": [
      "<class 'list'>\n",
      "Opening raw data file C:/Users/pesylvestre/Documents/Informatique/BRAIL/FY2023 In-House PoC3/In-HousePOC3/in_housepoc3/data/Lemon_PreDict\\sub-032320\\sub-032320_EC5_eeg.fif...\n",
      "Isotrak not found\n",
      "    Range : 132335 ... 146836 =    529.340 ...   587.344 secs\n",
      "Ready.\n",
      "Reading 0 ... 14501  =      0.000 ...    58.004 secs...\n"
     ]
    },
    {
     "name": "stderr",
     "output_type": "stream",
     "text": [
      "C:\\Users\\PESYLV~1\\AppData\\Local\\Temp/ipykernel_29536/564882533.py:16: FutureWarning: The frame.append method is deprecated and will be removed from pandas in a future version. Use pandas.concat instead.\n",
      "  df = df.append({\"data\": rawpd, \"age\": int(mlab[:2])+2.5}, ignore_index=True)\n"
     ]
    },
    {
     "name": "stdout",
     "output_type": "stream",
     "text": [
      "<class 'list'>\n",
      "Opening raw data file C:/Users/pesylvestre/Documents/Informatique/BRAIL/FY2023 In-House PoC3/In-HousePOC3/in_housepoc3/data/Lemon_PreDict\\sub-032320\\sub-032320_EC6_eeg.fif...\n",
      "Isotrak not found\n",
      "    Range : 163075 ... 177575 =    652.300 ...   710.300 secs\n",
      "Ready.\n",
      "Reading 0 ... 14500  =      0.000 ...    58.000 secs...\n"
     ]
    },
    {
     "name": "stderr",
     "output_type": "stream",
     "text": [
      "C:\\Users\\PESYLV~1\\AppData\\Local\\Temp/ipykernel_29536/564882533.py:16: FutureWarning: The frame.append method is deprecated and will be removed from pandas in a future version. Use pandas.concat instead.\n",
      "  df = df.append({\"data\": rawpd, \"age\": int(mlab[:2])+2.5}, ignore_index=True)\n"
     ]
    },
    {
     "name": "stdout",
     "output_type": "stream",
     "text": [
      "<class 'list'>\n",
      "Opening raw data file C:/Users/pesylvestre/Documents/Informatique/BRAIL/FY2023 In-House PoC3/In-HousePOC3/in_housepoc3/data/Lemon_PreDict\\sub-032320\\sub-032320_EC7_eeg.fif...\n",
      "Isotrak not found\n",
      "    Range : 194069 ... 208570 =    776.276 ...   834.280 secs\n",
      "Ready.\n",
      "Reading 0 ... 14501  =      0.000 ...    58.004 secs...\n"
     ]
    },
    {
     "name": "stderr",
     "output_type": "stream",
     "text": [
      "C:\\Users\\PESYLV~1\\AppData\\Local\\Temp/ipykernel_29536/564882533.py:16: FutureWarning: The frame.append method is deprecated and will be removed from pandas in a future version. Use pandas.concat instead.\n",
      "  df = df.append({\"data\": rawpd, \"age\": int(mlab[:2])+2.5}, ignore_index=True)\n"
     ]
    },
    {
     "name": "stdout",
     "output_type": "stream",
     "text": [
      "<class 'list'>\n",
      "Opening raw data file C:/Users/pesylvestre/Documents/Informatique/BRAIL/FY2023 In-House PoC3/In-HousePOC3/in_housepoc3/data/Lemon_PreDict\\sub-032320\\sub-032320_EC8_eeg.fif...\n",
      "Isotrak not found\n",
      "    Range : 224948 ... 239448 =    899.792 ...   957.792 secs\n",
      "Ready.\n",
      "Reading 0 ... 14500  =      0.000 ...    58.000 secs...\n"
     ]
    },
    {
     "name": "stderr",
     "output_type": "stream",
     "text": [
      "C:\\Users\\PESYLV~1\\AppData\\Local\\Temp/ipykernel_29536/564882533.py:16: FutureWarning: The frame.append method is deprecated and will be removed from pandas in a future version. Use pandas.concat instead.\n",
      "  df = df.append({\"data\": rawpd, \"age\": int(mlab[:2])+2.5}, ignore_index=True)\n"
     ]
    },
    {
     "name": "stdout",
     "output_type": "stream",
     "text": [
      "<class 'list'>\n",
      "Opening raw data file C:/Users/pesylvestre/Documents/Informatique/BRAIL/FY2023 In-House PoC3/In-HousePOC3/in_housepoc3/data/Lemon_PreDict\\sub-032320\\sub-032320_EO1_eeg.fif...\n",
      "Isotrak not found\n",
      "    Range : 19582 ... 34082 =     78.328 ...   136.328 secs\n",
      "Ready.\n",
      "Reading 0 ... 14500  =      0.000 ...    58.000 secs...\n"
     ]
    },
    {
     "name": "stderr",
     "output_type": "stream",
     "text": [
      "C:\\Users\\PESYLV~1\\AppData\\Local\\Temp/ipykernel_29536/564882533.py:16: FutureWarning: The frame.append method is deprecated and will be removed from pandas in a future version. Use pandas.concat instead.\n",
      "  df = df.append({\"data\": rawpd, \"age\": int(mlab[:2])+2.5}, ignore_index=True)\n"
     ]
    },
    {
     "name": "stdout",
     "output_type": "stream",
     "text": [
      "<class 'list'>\n",
      "Opening raw data file C:/Users/pesylvestre/Documents/Informatique/BRAIL/FY2023 In-House PoC3/In-HousePOC3/in_housepoc3/data/Lemon_PreDict\\sub-032320\\sub-032320_EO2_eeg.fif...\n",
      "Isotrak not found\n",
      "    Range : 50457 ... 64957 =    201.828 ...   259.828 secs\n",
      "Ready.\n",
      "Reading 0 ... 14500  =      0.000 ...    58.000 secs...\n"
     ]
    },
    {
     "name": "stderr",
     "output_type": "stream",
     "text": [
      "C:\\Users\\PESYLV~1\\AppData\\Local\\Temp/ipykernel_29536/564882533.py:16: FutureWarning: The frame.append method is deprecated and will be removed from pandas in a future version. Use pandas.concat instead.\n",
      "  df = df.append({\"data\": rawpd, \"age\": int(mlab[:2])+2.5}, ignore_index=True)\n"
     ]
    },
    {
     "name": "stdout",
     "output_type": "stream",
     "text": [
      "<class 'list'>\n",
      "Opening raw data file C:/Users/pesylvestre/Documents/Informatique/BRAIL/FY2023 In-House PoC3/In-HousePOC3/in_housepoc3/data/Lemon_PreDict\\sub-032320\\sub-032320_EO3_eeg.fif...\n",
      "Isotrak not found\n",
      "    Range : 85661 ... 100162 =    342.644 ...   400.648 secs\n",
      "Ready.\n",
      "Reading 0 ... 14501  =      0.000 ...    58.004 secs...\n"
     ]
    },
    {
     "name": "stderr",
     "output_type": "stream",
     "text": [
      "C:\\Users\\PESYLV~1\\AppData\\Local\\Temp/ipykernel_29536/564882533.py:16: FutureWarning: The frame.append method is deprecated and will be removed from pandas in a future version. Use pandas.concat instead.\n",
      "  df = df.append({\"data\": rawpd, \"age\": int(mlab[:2])+2.5}, ignore_index=True)\n"
     ]
    },
    {
     "name": "stdout",
     "output_type": "stream",
     "text": [
      "<class 'list'>\n",
      "Opening raw data file C:/Users/pesylvestre/Documents/Informatique/BRAIL/FY2023 In-House PoC3/In-HousePOC3/in_housepoc3/data/Lemon_PreDict\\sub-032320\\sub-032320_EO4_eeg.fif...\n",
      "Isotrak not found\n",
      "    Range : 116908 ... 131408 =    467.632 ...   525.632 secs\n",
      "Ready.\n",
      "Reading 0 ... 14500  =      0.000 ...    58.000 secs...\n"
     ]
    },
    {
     "name": "stderr",
     "output_type": "stream",
     "text": [
      "C:\\Users\\PESYLV~1\\AppData\\Local\\Temp/ipykernel_29536/564882533.py:16: FutureWarning: The frame.append method is deprecated and will be removed from pandas in a future version. Use pandas.concat instead.\n",
      "  df = df.append({\"data\": rawpd, \"age\": int(mlab[:2])+2.5}, ignore_index=True)\n"
     ]
    },
    {
     "name": "stdout",
     "output_type": "stream",
     "text": [
      "<class 'list'>\n",
      "Opening raw data file C:/Users/pesylvestre/Documents/Informatique/BRAIL/FY2023 In-House PoC3/In-HousePOC3/in_housepoc3/data/Lemon_PreDict\\sub-032320\\sub-032320_EO5_eeg.fif...\n",
      "Isotrak not found\n",
      "    Range : 147510 ... 162010 =    590.040 ...   648.040 secs\n",
      "Ready.\n",
      "Reading 0 ... 14500  =      0.000 ...    58.000 secs...\n"
     ]
    },
    {
     "name": "stderr",
     "output_type": "stream",
     "text": [
      "C:\\Users\\PESYLV~1\\AppData\\Local\\Temp/ipykernel_29536/564882533.py:16: FutureWarning: The frame.append method is deprecated and will be removed from pandas in a future version. Use pandas.concat instead.\n",
      "  df = df.append({\"data\": rawpd, \"age\": int(mlab[:2])+2.5}, ignore_index=True)\n"
     ]
    },
    {
     "name": "stdout",
     "output_type": "stream",
     "text": [
      "<class 'list'>\n",
      "Opening raw data file C:/Users/pesylvestre/Documents/Informatique/BRAIL/FY2023 In-House PoC3/In-HousePOC3/in_housepoc3/data/Lemon_PreDict\\sub-032320\\sub-032320_EO6_eeg.fif...\n",
      "Isotrak not found\n",
      "    Range : 178561 ... 193062 =    714.244 ...   772.248 secs\n",
      "Ready.\n",
      "Reading 0 ... 14501  =      0.000 ...    58.004 secs...\n"
     ]
    },
    {
     "name": "stderr",
     "output_type": "stream",
     "text": [
      "C:\\Users\\PESYLV~1\\AppData\\Local\\Temp/ipykernel_29536/564882533.py:16: FutureWarning: The frame.append method is deprecated and will be removed from pandas in a future version. Use pandas.concat instead.\n",
      "  df = df.append({\"data\": rawpd, \"age\": int(mlab[:2])+2.5}, ignore_index=True)\n"
     ]
    },
    {
     "name": "stdout",
     "output_type": "stream",
     "text": [
      "<class 'list'>\n",
      "Opening raw data file C:/Users/pesylvestre/Documents/Informatique/BRAIL/FY2023 In-House PoC3/In-HousePOC3/in_housepoc3/data/Lemon_PreDict\\sub-032320\\sub-032320_EO7_eeg.fif...\n",
      "Isotrak not found\n",
      "    Range : 209556 ... 224056 =    838.224 ...   896.224 secs\n",
      "Ready.\n",
      "Reading 0 ... 14500  =      0.000 ...    58.000 secs...\n"
     ]
    },
    {
     "name": "stderr",
     "output_type": "stream",
     "text": [
      "C:\\Users\\PESYLV~1\\AppData\\Local\\Temp/ipykernel_29536/564882533.py:16: FutureWarning: The frame.append method is deprecated and will be removed from pandas in a future version. Use pandas.concat instead.\n",
      "  df = df.append({\"data\": rawpd, \"age\": int(mlab[:2])+2.5}, ignore_index=True)\n"
     ]
    },
    {
     "name": "stdout",
     "output_type": "stream",
     "text": [
      "<class 'list'>\n",
      "Opening raw data file C:/Users/pesylvestre/Documents/Informatique/BRAIL/FY2023 In-House PoC3/In-HousePOC3/in_housepoc3/data/Lemon_PreDict\\sub-032320\\sub-032320_EO8_eeg.fif...\n",
      "Isotrak not found\n",
      "    Range : 240485 ... 254986 =    961.940 ...  1019.944 secs\n",
      "Ready.\n",
      "Reading 0 ... 14501  =      0.000 ...    58.004 secs...\n"
     ]
    },
    {
     "name": "stderr",
     "output_type": "stream",
     "text": [
      "C:\\Users\\PESYLV~1\\AppData\\Local\\Temp/ipykernel_29536/564882533.py:16: FutureWarning: The frame.append method is deprecated and will be removed from pandas in a future version. Use pandas.concat instead.\n",
      "  df = df.append({\"data\": rawpd, \"age\": int(mlab[:2])+2.5}, ignore_index=True)\n"
     ]
    },
    {
     "name": "stdout",
     "output_type": "stream",
     "text": [
      "<class 'list'>\n",
      "Opening raw data file C:/Users/pesylvestre/Documents/Informatique/BRAIL/FY2023 In-House PoC3/In-HousePOC3/in_housepoc3/data/Lemon_PreDict\\sub-032321\\sub-032321_EC1_eeg.fif...\n",
      "Isotrak not found\n",
      "    Range : 4922 ... 19423 =     19.688 ...    77.692 secs\n",
      "Ready.\n",
      "Reading 0 ... 14501  =      0.000 ...    58.004 secs...\n"
     ]
    },
    {
     "name": "stderr",
     "output_type": "stream",
     "text": [
      "C:\\Users\\PESYLV~1\\AppData\\Local\\Temp/ipykernel_29536/564882533.py:16: FutureWarning: The frame.append method is deprecated and will be removed from pandas in a future version. Use pandas.concat instead.\n",
      "  df = df.append({\"data\": rawpd, \"age\": int(mlab[:2])+2.5}, ignore_index=True)\n"
     ]
    },
    {
     "name": "stdout",
     "output_type": "stream",
     "text": [
      "<class 'list'>\n",
      "Opening raw data file C:/Users/pesylvestre/Documents/Informatique/BRAIL/FY2023 In-House PoC3/In-HousePOC3/in_housepoc3/data/Lemon_PreDict\\sub-032321\\sub-032321_EC2_eeg.fif...\n",
      "Isotrak not found\n",
      "    Range : 35904 ... 50405 =    143.616 ...   201.620 secs\n",
      "Ready.\n",
      "Reading 0 ... 14501  =      0.000 ...    58.004 secs...\n"
     ]
    },
    {
     "name": "stderr",
     "output_type": "stream",
     "text": [
      "C:\\Users\\PESYLV~1\\AppData\\Local\\Temp/ipykernel_29536/564882533.py:16: FutureWarning: The frame.append method is deprecated and will be removed from pandas in a future version. Use pandas.concat instead.\n",
      "  df = df.append({\"data\": rawpd, \"age\": int(mlab[:2])+2.5}, ignore_index=True)\n"
     ]
    },
    {
     "name": "stdout",
     "output_type": "stream",
     "text": [
      "<class 'list'>\n",
      "Opening raw data file C:/Users/pesylvestre/Documents/Informatique/BRAIL/FY2023 In-House PoC3/In-HousePOC3/in_housepoc3/data/Lemon_PreDict\\sub-032321\\sub-032321_EC3_eeg.fif...\n",
      "Isotrak not found\n",
      "    Range : 67684 ... 82184 =    270.736 ...   328.736 secs\n",
      "Ready.\n",
      "Reading 0 ... 14500  =      0.000 ...    58.000 secs...\n"
     ]
    },
    {
     "name": "stderr",
     "output_type": "stream",
     "text": [
      "C:\\Users\\PESYLV~1\\AppData\\Local\\Temp/ipykernel_29536/564882533.py:16: FutureWarning: The frame.append method is deprecated and will be removed from pandas in a future version. Use pandas.concat instead.\n",
      "  df = df.append({\"data\": rawpd, \"age\": int(mlab[:2])+2.5}, ignore_index=True)\n"
     ]
    },
    {
     "name": "stdout",
     "output_type": "stream",
     "text": [
      "<class 'list'>\n",
      "Opening raw data file C:/Users/pesylvestre/Documents/Informatique/BRAIL/FY2023 In-House PoC3/In-HousePOC3/in_housepoc3/data/Lemon_PreDict\\sub-032321\\sub-032321_EC4_eeg.fif...\n",
      "Isotrak not found\n",
      "    Range : 98680 ... 113181 =    394.720 ...   452.724 secs\n",
      "Ready.\n",
      "Reading 0 ... 14501  =      0.000 ...    58.004 secs...\n"
     ]
    },
    {
     "name": "stderr",
     "output_type": "stream",
     "text": [
      "C:\\Users\\PESYLV~1\\AppData\\Local\\Temp/ipykernel_29536/564882533.py:16: FutureWarning: The frame.append method is deprecated and will be removed from pandas in a future version. Use pandas.concat instead.\n",
      "  df = df.append({\"data\": rawpd, \"age\": int(mlab[:2])+2.5}, ignore_index=True)\n"
     ]
    },
    {
     "name": "stdout",
     "output_type": "stream",
     "text": [
      "<class 'list'>\n",
      "Opening raw data file C:/Users/pesylvestre/Documents/Informatique/BRAIL/FY2023 In-House PoC3/In-HousePOC3/in_housepoc3/data/Lemon_PreDict\\sub-032321\\sub-032321_EC5_eeg.fif...\n",
      "Isotrak not found\n",
      "    Range : 129754 ... 144255 =    519.016 ...   577.020 secs\n",
      "Ready.\n",
      "Reading 0 ... 14501  =      0.000 ...    58.004 secs...\n"
     ]
    },
    {
     "name": "stderr",
     "output_type": "stream",
     "text": [
      "C:\\Users\\PESYLV~1\\AppData\\Local\\Temp/ipykernel_29536/564882533.py:16: FutureWarning: The frame.append method is deprecated and will be removed from pandas in a future version. Use pandas.concat instead.\n",
      "  df = df.append({\"data\": rawpd, \"age\": int(mlab[:2])+2.5}, ignore_index=True)\n"
     ]
    },
    {
     "name": "stdout",
     "output_type": "stream",
     "text": [
      "<class 'list'>\n",
      "Opening raw data file C:/Users/pesylvestre/Documents/Informatique/BRAIL/FY2023 In-House PoC3/In-HousePOC3/in_housepoc3/data/Lemon_PreDict\\sub-032321\\sub-032321_EC6_eeg.fif...\n",
      "Isotrak not found\n",
      "    Range : 160704 ... 175204 =    642.816 ...   700.816 secs\n",
      "Ready.\n",
      "Reading 0 ... 14500  =      0.000 ...    58.000 secs...\n"
     ]
    },
    {
     "name": "stderr",
     "output_type": "stream",
     "text": [
      "C:\\Users\\PESYLV~1\\AppData\\Local\\Temp/ipykernel_29536/564882533.py:16: FutureWarning: The frame.append method is deprecated and will be removed from pandas in a future version. Use pandas.concat instead.\n",
      "  df = df.append({\"data\": rawpd, \"age\": int(mlab[:2])+2.5}, ignore_index=True)\n"
     ]
    },
    {
     "name": "stdout",
     "output_type": "stream",
     "text": [
      "<class 'list'>\n",
      "Opening raw data file C:/Users/pesylvestre/Documents/Informatique/BRAIL/FY2023 In-House PoC3/In-HousePOC3/in_housepoc3/data/Lemon_PreDict\\sub-032321\\sub-032321_EC7_eeg.fif...\n",
      "Isotrak not found\n",
      "    Range : 191734 ... 206234 =    766.936 ...   824.936 secs\n",
      "Ready.\n",
      "Reading 0 ... 14500  =      0.000 ...    58.000 secs...\n"
     ]
    },
    {
     "name": "stderr",
     "output_type": "stream",
     "text": [
      "C:\\Users\\PESYLV~1\\AppData\\Local\\Temp/ipykernel_29536/564882533.py:16: FutureWarning: The frame.append method is deprecated and will be removed from pandas in a future version. Use pandas.concat instead.\n",
      "  df = df.append({\"data\": rawpd, \"age\": int(mlab[:2])+2.5}, ignore_index=True)\n"
     ]
    },
    {
     "name": "stdout",
     "output_type": "stream",
     "text": [
      "<class 'list'>\n",
      "Opening raw data file C:/Users/pesylvestre/Documents/Informatique/BRAIL/FY2023 In-House PoC3/In-HousePOC3/in_housepoc3/data/Lemon_PreDict\\sub-032321\\sub-032321_EC8_eeg.fif...\n",
      "Isotrak not found\n",
      "    Range : 222746 ... 237246 =    890.984 ...   948.984 secs\n",
      "Ready.\n",
      "Reading 0 ... 14500  =      0.000 ...    58.000 secs...\n"
     ]
    },
    {
     "name": "stderr",
     "output_type": "stream",
     "text": [
      "C:\\Users\\PESYLV~1\\AppData\\Local\\Temp/ipykernel_29536/564882533.py:16: FutureWarning: The frame.append method is deprecated and will be removed from pandas in a future version. Use pandas.concat instead.\n",
      "  df = df.append({\"data\": rawpd, \"age\": int(mlab[:2])+2.5}, ignore_index=True)\n"
     ]
    },
    {
     "name": "stdout",
     "output_type": "stream",
     "text": [
      "<class 'list'>\n",
      "Opening raw data file C:/Users/pesylvestre/Documents/Informatique/BRAIL/FY2023 In-House PoC3/In-HousePOC3/in_housepoc3/data/Lemon_PreDict\\sub-032321\\sub-032321_EO1_eeg.fif...\n",
      "Isotrak not found\n",
      "    Range : 20401 ... 34902 =     81.604 ...   139.608 secs\n",
      "Ready.\n",
      "Reading 0 ... 14501  =      0.000 ...    58.004 secs...\n"
     ]
    },
    {
     "name": "stderr",
     "output_type": "stream",
     "text": [
      "C:\\Users\\PESYLV~1\\AppData\\Local\\Temp/ipykernel_29536/564882533.py:16: FutureWarning: The frame.append method is deprecated and will be removed from pandas in a future version. Use pandas.concat instead.\n",
      "  df = df.append({\"data\": rawpd, \"age\": int(mlab[:2])+2.5}, ignore_index=True)\n"
     ]
    },
    {
     "name": "stdout",
     "output_type": "stream",
     "text": [
      "<class 'list'>\n",
      "Opening raw data file C:/Users/pesylvestre/Documents/Informatique/BRAIL/FY2023 In-House PoC3/In-HousePOC3/in_housepoc3/data/Lemon_PreDict\\sub-032321\\sub-032321_EO2_eeg.fif...\n",
      "Isotrak not found\n",
      "    Range : 52077 ... 66578 =    208.308 ...   266.312 secs\n",
      "Ready.\n",
      "Reading 0 ... 14501  =      0.000 ...    58.004 secs...\n"
     ]
    },
    {
     "name": "stderr",
     "output_type": "stream",
     "text": [
      "C:\\Users\\PESYLV~1\\AppData\\Local\\Temp/ipykernel_29536/564882533.py:16: FutureWarning: The frame.append method is deprecated and will be removed from pandas in a future version. Use pandas.concat instead.\n",
      "  df = df.append({\"data\": rawpd, \"age\": int(mlab[:2])+2.5}, ignore_index=True)\n"
     ]
    },
    {
     "name": "stdout",
     "output_type": "stream",
     "text": [
      "<class 'list'>\n",
      "Opening raw data file C:/Users/pesylvestre/Documents/Informatique/BRAIL/FY2023 In-House PoC3/In-HousePOC3/in_housepoc3/data/Lemon_PreDict\\sub-032321\\sub-032321_EO3_eeg.fif...\n",
      "Isotrak not found\n",
      "    Range : 83164 ... 97664 =    332.656 ...   390.656 secs\n",
      "Ready.\n",
      "Reading 0 ... 14500  =      0.000 ...    58.000 secs...\n"
     ]
    },
    {
     "name": "stderr",
     "output_type": "stream",
     "text": [
      "C:\\Users\\PESYLV~1\\AppData\\Local\\Temp/ipykernel_29536/564882533.py:16: FutureWarning: The frame.append method is deprecated and will be removed from pandas in a future version. Use pandas.concat instead.\n",
      "  df = df.append({\"data\": rawpd, \"age\": int(mlab[:2])+2.5}, ignore_index=True)\n"
     ]
    },
    {
     "name": "stdout",
     "output_type": "stream",
     "text": [
      "<class 'list'>\n",
      "Opening raw data file C:/Users/pesylvestre/Documents/Informatique/BRAIL/FY2023 In-House PoC3/In-HousePOC3/in_housepoc3/data/Lemon_PreDict\\sub-032321\\sub-032321_EO4_eeg.fif...\n",
      "Isotrak not found\n",
      "    Range : 114282 ... 128782 =    457.128 ...   515.128 secs\n",
      "Ready.\n",
      "Reading 0 ... 14500  =      0.000 ...    58.000 secs...\n"
     ]
    },
    {
     "name": "stderr",
     "output_type": "stream",
     "text": [
      "C:\\Users\\PESYLV~1\\AppData\\Local\\Temp/ipykernel_29536/564882533.py:16: FutureWarning: The frame.append method is deprecated and will be removed from pandas in a future version. Use pandas.concat instead.\n",
      "  df = df.append({\"data\": rawpd, \"age\": int(mlab[:2])+2.5}, ignore_index=True)\n"
     ]
    },
    {
     "name": "stdout",
     "output_type": "stream",
     "text": [
      "<class 'list'>\n",
      "Opening raw data file C:/Users/pesylvestre/Documents/Informatique/BRAIL/FY2023 In-House PoC3/In-HousePOC3/in_housepoc3/data/Lemon_PreDict\\sub-032321\\sub-032321_EO5_eeg.fif...\n",
      "Isotrak not found\n",
      "    Range : 145231 ... 159731 =    580.924 ...   638.924 secs\n",
      "Ready.\n",
      "Reading 0 ... 14500  =      0.000 ...    58.000 secs...\n"
     ]
    },
    {
     "name": "stderr",
     "output_type": "stream",
     "text": [
      "C:\\Users\\PESYLV~1\\AppData\\Local\\Temp/ipykernel_29536/564882533.py:16: FutureWarning: The frame.append method is deprecated and will be removed from pandas in a future version. Use pandas.concat instead.\n",
      "  df = df.append({\"data\": rawpd, \"age\": int(mlab[:2])+2.5}, ignore_index=True)\n"
     ]
    },
    {
     "name": "stdout",
     "output_type": "stream",
     "text": [
      "<class 'list'>\n",
      "Opening raw data file C:/Users/pesylvestre/Documents/Informatique/BRAIL/FY2023 In-House PoC3/In-HousePOC3/in_housepoc3/data/Lemon_PreDict\\sub-032321\\sub-032321_EO6_eeg.fif...\n",
      "Isotrak not found\n",
      "    Range : 176213 ... 190713 =    704.852 ...   762.852 secs\n",
      "Ready.\n",
      "Reading 0 ... 14500  =      0.000 ...    58.000 secs...\n"
     ]
    },
    {
     "name": "stderr",
     "output_type": "stream",
     "text": [
      "C:\\Users\\PESYLV~1\\AppData\\Local\\Temp/ipykernel_29536/564882533.py:16: FutureWarning: The frame.append method is deprecated and will be removed from pandas in a future version. Use pandas.concat instead.\n",
      "  df = df.append({\"data\": rawpd, \"age\": int(mlab[:2])+2.5}, ignore_index=True)\n"
     ]
    },
    {
     "name": "stdout",
     "output_type": "stream",
     "text": [
      "<class 'list'>\n",
      "Opening raw data file C:/Users/pesylvestre/Documents/Informatique/BRAIL/FY2023 In-House PoC3/In-HousePOC3/in_housepoc3/data/Lemon_PreDict\\sub-032321\\sub-032321_EO7_eeg.fif...\n",
      "Isotrak not found\n",
      "    Range : 207215 ... 221716 =    828.860 ...   886.864 secs\n",
      "Ready.\n",
      "Reading 0 ... 14501  =      0.000 ...    58.004 secs...\n"
     ]
    },
    {
     "name": "stderr",
     "output_type": "stream",
     "text": [
      "C:\\Users\\PESYLV~1\\AppData\\Local\\Temp/ipykernel_29536/564882533.py:16: FutureWarning: The frame.append method is deprecated and will be removed from pandas in a future version. Use pandas.concat instead.\n",
      "  df = df.append({\"data\": rawpd, \"age\": int(mlab[:2])+2.5}, ignore_index=True)\n"
     ]
    },
    {
     "name": "stdout",
     "output_type": "stream",
     "text": [
      "<class 'list'>\n",
      "Opening raw data file C:/Users/pesylvestre/Documents/Informatique/BRAIL/FY2023 In-House PoC3/In-HousePOC3/in_housepoc3/data/Lemon_PreDict\\sub-032321\\sub-032321_EO8_eeg.fif...\n",
      "Isotrak not found\n",
      "    Range : 238767 ... 253268 =    955.068 ...  1013.072 secs\n",
      "Ready.\n",
      "Reading 0 ... 14501  =      0.000 ...    58.004 secs...\n"
     ]
    },
    {
     "name": "stderr",
     "output_type": "stream",
     "text": [
      "C:\\Users\\PESYLV~1\\AppData\\Local\\Temp/ipykernel_29536/564882533.py:16: FutureWarning: The frame.append method is deprecated and will be removed from pandas in a future version. Use pandas.concat instead.\n",
      "  df = df.append({\"data\": rawpd, \"age\": int(mlab[:2])+2.5}, ignore_index=True)\n"
     ]
    },
    {
     "name": "stdout",
     "output_type": "stream",
     "text": [
      "<class 'list'>\n",
      "Opening raw data file C:/Users/pesylvestre/Documents/Informatique/BRAIL/FY2023 In-House PoC3/In-HousePOC3/in_housepoc3/data/Lemon_PreDict\\sub-032322\\sub-032322_EC1_eeg.fif...\n",
      "Isotrak not found\n",
      "    Range : 10402 ... 24903 =     41.608 ...    99.612 secs\n",
      "Ready.\n",
      "Reading 0 ... 14501  =      0.000 ...    58.004 secs...\n"
     ]
    },
    {
     "name": "stderr",
     "output_type": "stream",
     "text": [
      "C:\\Users\\PESYLV~1\\AppData\\Local\\Temp/ipykernel_29536/564882533.py:16: FutureWarning: The frame.append method is deprecated and will be removed from pandas in a future version. Use pandas.concat instead.\n",
      "  df = df.append({\"data\": rawpd, \"age\": int(mlab[:2])+2.5}, ignore_index=True)\n"
     ]
    },
    {
     "name": "stdout",
     "output_type": "stream",
     "text": [
      "<class 'list'>\n",
      "Opening raw data file C:/Users/pesylvestre/Documents/Informatique/BRAIL/FY2023 In-House PoC3/In-HousePOC3/in_housepoc3/data/Lemon_PreDict\\sub-032322\\sub-032322_EC2_eeg.fif...\n",
      "Isotrak not found\n",
      "    Range : 41324 ... 55825 =    165.296 ...   223.300 secs\n",
      "Ready.\n",
      "Reading 0 ... 14501  =      0.000 ...    58.004 secs...\n"
     ]
    },
    {
     "name": "stderr",
     "output_type": "stream",
     "text": [
      "C:\\Users\\PESYLV~1\\AppData\\Local\\Temp/ipykernel_29536/564882533.py:16: FutureWarning: The frame.append method is deprecated and will be removed from pandas in a future version. Use pandas.concat instead.\n",
      "  df = df.append({\"data\": rawpd, \"age\": int(mlab[:2])+2.5}, ignore_index=True)\n"
     ]
    },
    {
     "name": "stdout",
     "output_type": "stream",
     "text": [
      "<class 'list'>\n",
      "Opening raw data file C:/Users/pesylvestre/Documents/Informatique/BRAIL/FY2023 In-House PoC3/In-HousePOC3/in_housepoc3/data/Lemon_PreDict\\sub-032322\\sub-032322_EC3_eeg.fif...\n",
      "Isotrak not found\n",
      "    Range : 72254 ... 86755 =    289.016 ...   347.020 secs\n",
      "Ready.\n",
      "Reading 0 ... 14501  =      0.000 ...    58.004 secs...\n"
     ]
    },
    {
     "name": "stderr",
     "output_type": "stream",
     "text": [
      "C:\\Users\\PESYLV~1\\AppData\\Local\\Temp/ipykernel_29536/564882533.py:16: FutureWarning: The frame.append method is deprecated and will be removed from pandas in a future version. Use pandas.concat instead.\n",
      "  df = df.append({\"data\": rawpd, \"age\": int(mlab[:2])+2.5}, ignore_index=True)\n"
     ]
    },
    {
     "name": "stdout",
     "output_type": "stream",
     "text": [
      "<class 'list'>\n",
      "Opening raw data file C:/Users/pesylvestre/Documents/Informatique/BRAIL/FY2023 In-House PoC3/In-HousePOC3/in_housepoc3/data/Lemon_PreDict\\sub-032322\\sub-032322_EC4_eeg.fif...\n",
      "Isotrak not found\n",
      "    Range : 103462 ... 117962 =    413.848 ...   471.848 secs\n",
      "Ready.\n",
      "Reading 0 ... 14500  =      0.000 ...    58.000 secs...\n"
     ]
    },
    {
     "name": "stderr",
     "output_type": "stream",
     "text": [
      "C:\\Users\\PESYLV~1\\AppData\\Local\\Temp/ipykernel_29536/564882533.py:16: FutureWarning: The frame.append method is deprecated and will be removed from pandas in a future version. Use pandas.concat instead.\n",
      "  df = df.append({\"data\": rawpd, \"age\": int(mlab[:2])+2.5}, ignore_index=True)\n"
     ]
    },
    {
     "name": "stdout",
     "output_type": "stream",
     "text": [
      "<class 'list'>\n",
      "Opening raw data file C:/Users/pesylvestre/Documents/Informatique/BRAIL/FY2023 In-House PoC3/In-HousePOC3/in_housepoc3/data/Lemon_PreDict\\sub-032322\\sub-032322_EC5_eeg.fif...\n",
      "Isotrak not found\n",
      "    Range : 134656 ... 149157 =    538.624 ...   596.628 secs\n",
      "Ready.\n",
      "Reading 0 ... 14501  =      0.000 ...    58.004 secs...\n"
     ]
    },
    {
     "name": "stderr",
     "output_type": "stream",
     "text": [
      "C:\\Users\\PESYLV~1\\AppData\\Local\\Temp/ipykernel_29536/564882533.py:16: FutureWarning: The frame.append method is deprecated and will be removed from pandas in a future version. Use pandas.concat instead.\n",
      "  df = df.append({\"data\": rawpd, \"age\": int(mlab[:2])+2.5}, ignore_index=True)\n"
     ]
    },
    {
     "name": "stdout",
     "output_type": "stream",
     "text": [
      "<class 'list'>\n",
      "Opening raw data file C:/Users/pesylvestre/Documents/Informatique/BRAIL/FY2023 In-House PoC3/In-HousePOC3/in_housepoc3/data/Lemon_PreDict\\sub-032322\\sub-032322_EC6_eeg.fif...\n",
      "Isotrak not found\n",
      "    Range : 165612 ... 180112 =    662.448 ...   720.448 secs\n",
      "Ready.\n",
      "Reading 0 ... 14500  =      0.000 ...    58.000 secs...\n"
     ]
    },
    {
     "name": "stderr",
     "output_type": "stream",
     "text": [
      "C:\\Users\\PESYLV~1\\AppData\\Local\\Temp/ipykernel_29536/564882533.py:16: FutureWarning: The frame.append method is deprecated and will be removed from pandas in a future version. Use pandas.concat instead.\n",
      "  df = df.append({\"data\": rawpd, \"age\": int(mlab[:2])+2.5}, ignore_index=True)\n"
     ]
    },
    {
     "name": "stdout",
     "output_type": "stream",
     "text": [
      "<class 'list'>\n",
      "Opening raw data file C:/Users/pesylvestre/Documents/Informatique/BRAIL/FY2023 In-House PoC3/In-HousePOC3/in_housepoc3/data/Lemon_PreDict\\sub-032322\\sub-032322_EC7_eeg.fif...\n",
      "Isotrak not found\n",
      "    Range : 198282 ... 212783 =    793.128 ...   851.132 secs\n",
      "Ready.\n",
      "Reading 0 ... 14501  =      0.000 ...    58.004 secs...\n"
     ]
    },
    {
     "name": "stderr",
     "output_type": "stream",
     "text": [
      "C:\\Users\\PESYLV~1\\AppData\\Local\\Temp/ipykernel_29536/564882533.py:16: FutureWarning: The frame.append method is deprecated and will be removed from pandas in a future version. Use pandas.concat instead.\n",
      "  df = df.append({\"data\": rawpd, \"age\": int(mlab[:2])+2.5}, ignore_index=True)\n"
     ]
    },
    {
     "name": "stdout",
     "output_type": "stream",
     "text": [
      "<class 'list'>\n",
      "Opening raw data file C:/Users/pesylvestre/Documents/Informatique/BRAIL/FY2023 In-House PoC3/In-HousePOC3/in_housepoc3/data/Lemon_PreDict\\sub-032322\\sub-032322_EC8_eeg.fif...\n",
      "Isotrak not found\n",
      "    Range : 229132 ... 243632 =    916.528 ...   974.528 secs\n",
      "Ready.\n",
      "Reading 0 ... 14500  =      0.000 ...    58.000 secs...\n"
     ]
    },
    {
     "name": "stderr",
     "output_type": "stream",
     "text": [
      "C:\\Users\\PESYLV~1\\AppData\\Local\\Temp/ipykernel_29536/564882533.py:16: FutureWarning: The frame.append method is deprecated and will be removed from pandas in a future version. Use pandas.concat instead.\n",
      "  df = df.append({\"data\": rawpd, \"age\": int(mlab[:2])+2.5}, ignore_index=True)\n"
     ]
    },
    {
     "name": "stdout",
     "output_type": "stream",
     "text": [
      "<class 'list'>\n",
      "Opening raw data file C:/Users/pesylvestre/Documents/Informatique/BRAIL/FY2023 In-House PoC3/In-HousePOC3/in_housepoc3/data/Lemon_PreDict\\sub-032322\\sub-032322_EO1_eeg.fif...\n",
      "Isotrak not found\n",
      "    Range : 25845 ... 40345 =    103.380 ...   161.380 secs\n",
      "Ready.\n",
      "Reading 0 ... 14500  =      0.000 ...    58.000 secs...\n"
     ]
    },
    {
     "name": "stderr",
     "output_type": "stream",
     "text": [
      "C:\\Users\\PESYLV~1\\AppData\\Local\\Temp/ipykernel_29536/564882533.py:16: FutureWarning: The frame.append method is deprecated and will be removed from pandas in a future version. Use pandas.concat instead.\n",
      "  df = df.append({\"data\": rawpd, \"age\": int(mlab[:2])+2.5}, ignore_index=True)\n"
     ]
    },
    {
     "name": "stdout",
     "output_type": "stream",
     "text": [
      "<class 'list'>\n",
      "Opening raw data file C:/Users/pesylvestre/Documents/Informatique/BRAIL/FY2023 In-House PoC3/In-HousePOC3/in_housepoc3/data/Lemon_PreDict\\sub-032322\\sub-032322_EO2_eeg.fif...\n",
      "Isotrak not found\n",
      "    Range : 56830 ... 71330 =    227.320 ...   285.320 secs\n",
      "Ready.\n",
      "Reading 0 ... 14500  =      0.000 ...    58.000 secs...\n"
     ]
    },
    {
     "name": "stderr",
     "output_type": "stream",
     "text": [
      "C:\\Users\\PESYLV~1\\AppData\\Local\\Temp/ipykernel_29536/564882533.py:16: FutureWarning: The frame.append method is deprecated and will be removed from pandas in a future version. Use pandas.concat instead.\n",
      "  df = df.append({\"data\": rawpd, \"age\": int(mlab[:2])+2.5}, ignore_index=True)\n"
     ]
    },
    {
     "name": "stdout",
     "output_type": "stream",
     "text": [
      "<class 'list'>\n",
      "Opening raw data file C:/Users/pesylvestre/Documents/Informatique/BRAIL/FY2023 In-House PoC3/In-HousePOC3/in_housepoc3/data/Lemon_PreDict\\sub-032322\\sub-032322_EO3_eeg.fif...\n",
      "Isotrak not found\n",
      "    Range : 87667 ... 102168 =    350.668 ...   408.672 secs\n",
      "Ready.\n",
      "Reading 0 ... 14501  =      0.000 ...    58.004 secs...\n"
     ]
    },
    {
     "name": "stderr",
     "output_type": "stream",
     "text": [
      "C:\\Users\\PESYLV~1\\AppData\\Local\\Temp/ipykernel_29536/564882533.py:16: FutureWarning: The frame.append method is deprecated and will be removed from pandas in a future version. Use pandas.concat instead.\n",
      "  df = df.append({\"data\": rawpd, \"age\": int(mlab[:2])+2.5}, ignore_index=True)\n"
     ]
    },
    {
     "name": "stdout",
     "output_type": "stream",
     "text": [
      "<class 'list'>\n",
      "Opening raw data file C:/Users/pesylvestre/Documents/Informatique/BRAIL/FY2023 In-House PoC3/In-HousePOC3/in_housepoc3/data/Lemon_PreDict\\sub-032322\\sub-032322_EO4_eeg.fif...\n",
      "Isotrak not found\n",
      "    Range : 119170 ... 133671 =    476.680 ...   534.684 secs\n",
      "Ready.\n",
      "Reading 0 ... 14501  =      0.000 ...    58.004 secs...\n"
     ]
    },
    {
     "name": "stderr",
     "output_type": "stream",
     "text": [
      "C:\\Users\\PESYLV~1\\AppData\\Local\\Temp/ipykernel_29536/564882533.py:16: FutureWarning: The frame.append method is deprecated and will be removed from pandas in a future version. Use pandas.concat instead.\n",
      "  df = df.append({\"data\": rawpd, \"age\": int(mlab[:2])+2.5}, ignore_index=True)\n"
     ]
    },
    {
     "name": "stdout",
     "output_type": "stream",
     "text": [
      "<class 'list'>\n",
      "Opening raw data file C:/Users/pesylvestre/Documents/Informatique/BRAIL/FY2023 In-House PoC3/In-HousePOC3/in_housepoc3/data/Lemon_PreDict\\sub-032322\\sub-032322_EO5_eeg.fif...\n",
      "Isotrak not found\n",
      "    Range : 150166 ... 164667 =    600.664 ...   658.668 secs\n",
      "Ready.\n",
      "Reading 0 ... 14501  =      0.000 ...    58.004 secs...\n"
     ]
    },
    {
     "name": "stderr",
     "output_type": "stream",
     "text": [
      "C:\\Users\\PESYLV~1\\AppData\\Local\\Temp/ipykernel_29536/564882533.py:16: FutureWarning: The frame.append method is deprecated and will be removed from pandas in a future version. Use pandas.concat instead.\n",
      "  df = df.append({\"data\": rawpd, \"age\": int(mlab[:2])+2.5}, ignore_index=True)\n"
     ]
    },
    {
     "name": "stdout",
     "output_type": "stream",
     "text": [
      "<class 'list'>\n",
      "Opening raw data file C:/Users/pesylvestre/Documents/Informatique/BRAIL/FY2023 In-House PoC3/In-HousePOC3/in_housepoc3/data/Lemon_PreDict\\sub-032322\\sub-032322_EO6_eeg.fif...\n",
      "Isotrak not found\n",
      "    Range : 182780 ... 197280 =    731.120 ...   789.120 secs\n",
      "Ready.\n",
      "Reading 0 ... 14500  =      0.000 ...    58.000 secs...\n"
     ]
    },
    {
     "name": "stderr",
     "output_type": "stream",
     "text": [
      "C:\\Users\\PESYLV~1\\AppData\\Local\\Temp/ipykernel_29536/564882533.py:16: FutureWarning: The frame.append method is deprecated and will be removed from pandas in a future version. Use pandas.concat instead.\n",
      "  df = df.append({\"data\": rawpd, \"age\": int(mlab[:2])+2.5}, ignore_index=True)\n"
     ]
    },
    {
     "name": "stdout",
     "output_type": "stream",
     "text": [
      "<class 'list'>\n",
      "Opening raw data file C:/Users/pesylvestre/Documents/Informatique/BRAIL/FY2023 In-House PoC3/In-HousePOC3/in_housepoc3/data/Lemon_PreDict\\sub-032322\\sub-032322_EO7_eeg.fif...\n",
      "Isotrak not found\n",
      "    Range : 213657 ... 228157 =    854.628 ...   912.628 secs\n",
      "Ready.\n",
      "Reading 0 ... 14500  =      0.000 ...    58.000 secs...\n"
     ]
    },
    {
     "name": "stderr",
     "output_type": "stream",
     "text": [
      "C:\\Users\\PESYLV~1\\AppData\\Local\\Temp/ipykernel_29536/564882533.py:16: FutureWarning: The frame.append method is deprecated and will be removed from pandas in a future version. Use pandas.concat instead.\n",
      "  df = df.append({\"data\": rawpd, \"age\": int(mlab[:2])+2.5}, ignore_index=True)\n"
     ]
    },
    {
     "name": "stdout",
     "output_type": "stream",
     "text": [
      "<class 'list'>\n",
      "Opening raw data file C:/Users/pesylvestre/Documents/Informatique/BRAIL/FY2023 In-House PoC3/In-HousePOC3/in_housepoc3/data/Lemon_PreDict\\sub-032322\\sub-032322_EO8_eeg.fif...\n",
      "Isotrak not found\n",
      "    Range : 244648 ... 259148 =    978.592 ...  1036.592 secs\n",
      "Ready.\n",
      "Reading 0 ... 14500  =      0.000 ...    58.000 secs...\n"
     ]
    },
    {
     "name": "stderr",
     "output_type": "stream",
     "text": [
      "C:\\Users\\PESYLV~1\\AppData\\Local\\Temp/ipykernel_29536/564882533.py:16: FutureWarning: The frame.append method is deprecated and will be removed from pandas in a future version. Use pandas.concat instead.\n",
      "  df = df.append({\"data\": rawpd, \"age\": int(mlab[:2])+2.5}, ignore_index=True)\n"
     ]
    },
    {
     "name": "stdout",
     "output_type": "stream",
     "text": [
      "<class 'list'>\n",
      "Opening raw data file C:/Users/pesylvestre/Documents/Informatique/BRAIL/FY2023 In-House PoC3/In-HousePOC3/in_housepoc3/data/Lemon_PreDict\\sub-032323\\sub-032323_EC1_eeg.fif...\n",
      "Isotrak not found\n",
      "    Range : 11792 ... 26292 =     47.168 ...   105.168 secs\n",
      "Ready.\n",
      "Reading 0 ... 14500  =      0.000 ...    58.000 secs...\n"
     ]
    },
    {
     "name": "stderr",
     "output_type": "stream",
     "text": [
      "C:\\Users\\PESYLV~1\\AppData\\Local\\Temp/ipykernel_29536/564882533.py:16: FutureWarning: The frame.append method is deprecated and will be removed from pandas in a future version. Use pandas.concat instead.\n",
      "  df = df.append({\"data\": rawpd, \"age\": int(mlab[:2])+2.5}, ignore_index=True)\n"
     ]
    },
    {
     "name": "stdout",
     "output_type": "stream",
     "text": [
      "<class 'list'>\n",
      "Opening raw data file C:/Users/pesylvestre/Documents/Informatique/BRAIL/FY2023 In-House PoC3/In-HousePOC3/in_housepoc3/data/Lemon_PreDict\\sub-032323\\sub-032323_EC2_eeg.fif...\n",
      "Isotrak not found\n",
      "    Range : 42764 ... 57264 =    171.056 ...   229.056 secs\n",
      "Ready.\n",
      "Reading 0 ... 14500  =      0.000 ...    58.000 secs...\n"
     ]
    },
    {
     "name": "stderr",
     "output_type": "stream",
     "text": [
      "C:\\Users\\PESYLV~1\\AppData\\Local\\Temp/ipykernel_29536/564882533.py:16: FutureWarning: The frame.append method is deprecated and will be removed from pandas in a future version. Use pandas.concat instead.\n",
      "  df = df.append({\"data\": rawpd, \"age\": int(mlab[:2])+2.5}, ignore_index=True)\n"
     ]
    },
    {
     "name": "stdout",
     "output_type": "stream",
     "text": [
      "<class 'list'>\n",
      "Opening raw data file C:/Users/pesylvestre/Documents/Informatique/BRAIL/FY2023 In-House PoC3/In-HousePOC3/in_housepoc3/data/Lemon_PreDict\\sub-032323\\sub-032323_EC3_eeg.fif...\n",
      "Isotrak not found\n",
      "    Range : 73692 ... 88193 =    294.768 ...   352.772 secs\n",
      "Ready.\n",
      "Reading 0 ... 14501  =      0.000 ...    58.004 secs...\n"
     ]
    },
    {
     "name": "stderr",
     "output_type": "stream",
     "text": [
      "C:\\Users\\PESYLV~1\\AppData\\Local\\Temp/ipykernel_29536/564882533.py:16: FutureWarning: The frame.append method is deprecated and will be removed from pandas in a future version. Use pandas.concat instead.\n",
      "  df = df.append({\"data\": rawpd, \"age\": int(mlab[:2])+2.5}, ignore_index=True)\n"
     ]
    },
    {
     "name": "stdout",
     "output_type": "stream",
     "text": [
      "<class 'list'>\n",
      "Opening raw data file C:/Users/pesylvestre/Documents/Informatique/BRAIL/FY2023 In-House PoC3/In-HousePOC3/in_housepoc3/data/Lemon_PreDict\\sub-032323\\sub-032323_EC4_eeg.fif...\n",
      "Isotrak not found\n",
      "    Range : 104620 ... 119120 =    418.480 ...   476.480 secs\n",
      "Ready.\n",
      "Reading 0 ... 14500  =      0.000 ...    58.000 secs...\n"
     ]
    },
    {
     "name": "stderr",
     "output_type": "stream",
     "text": [
      "C:\\Users\\PESYLV~1\\AppData\\Local\\Temp/ipykernel_29536/564882533.py:16: FutureWarning: The frame.append method is deprecated and will be removed from pandas in a future version. Use pandas.concat instead.\n",
      "  df = df.append({\"data\": rawpd, \"age\": int(mlab[:2])+2.5}, ignore_index=True)\n"
     ]
    },
    {
     "name": "stdout",
     "output_type": "stream",
     "text": [
      "<class 'list'>\n",
      "Opening raw data file C:/Users/pesylvestre/Documents/Informatique/BRAIL/FY2023 In-House PoC3/In-HousePOC3/in_housepoc3/data/Lemon_PreDict\\sub-032323\\sub-032323_EC5_eeg.fif...\n",
      "Isotrak not found\n",
      "    Range : 135648 ... 150149 =    542.592 ...   600.596 secs\n",
      "Ready.\n",
      "Reading 0 ... 14501  =      0.000 ...    58.004 secs...\n"
     ]
    },
    {
     "name": "stderr",
     "output_type": "stream",
     "text": [
      "C:\\Users\\PESYLV~1\\AppData\\Local\\Temp/ipykernel_29536/564882533.py:16: FutureWarning: The frame.append method is deprecated and will be removed from pandas in a future version. Use pandas.concat instead.\n",
      "  df = df.append({\"data\": rawpd, \"age\": int(mlab[:2])+2.5}, ignore_index=True)\n"
     ]
    },
    {
     "name": "stdout",
     "output_type": "stream",
     "text": [
      "<class 'list'>\n",
      "Opening raw data file C:/Users/pesylvestre/Documents/Informatique/BRAIL/FY2023 In-House PoC3/In-HousePOC3/in_housepoc3/data/Lemon_PreDict\\sub-032323\\sub-032323_EC6_eeg.fif...\n",
      "Isotrak not found\n",
      "    Range : 166596 ... 181096 =    666.384 ...   724.384 secs\n",
      "Ready.\n",
      "Reading 0 ... 14500  =      0.000 ...    58.000 secs...\n"
     ]
    },
    {
     "name": "stderr",
     "output_type": "stream",
     "text": [
      "C:\\Users\\PESYLV~1\\AppData\\Local\\Temp/ipykernel_29536/564882533.py:16: FutureWarning: The frame.append method is deprecated and will be removed from pandas in a future version. Use pandas.concat instead.\n",
      "  df = df.append({\"data\": rawpd, \"age\": int(mlab[:2])+2.5}, ignore_index=True)\n"
     ]
    },
    {
     "name": "stdout",
     "output_type": "stream",
     "text": [
      "<class 'list'>\n",
      "Opening raw data file C:/Users/pesylvestre/Documents/Informatique/BRAIL/FY2023 In-House PoC3/In-HousePOC3/in_housepoc3/data/Lemon_PreDict\\sub-032323\\sub-032323_EC7_eeg.fif...\n",
      "Isotrak not found\n",
      "    Range : 197380 ... 211880 =    789.520 ...   847.520 secs\n",
      "Ready.\n",
      "Reading 0 ... 14500  =      0.000 ...    58.000 secs...\n"
     ]
    },
    {
     "name": "stderr",
     "output_type": "stream",
     "text": [
      "C:\\Users\\PESYLV~1\\AppData\\Local\\Temp/ipykernel_29536/564882533.py:16: FutureWarning: The frame.append method is deprecated and will be removed from pandas in a future version. Use pandas.concat instead.\n",
      "  df = df.append({\"data\": rawpd, \"age\": int(mlab[:2])+2.5}, ignore_index=True)\n"
     ]
    },
    {
     "name": "stdout",
     "output_type": "stream",
     "text": [
      "<class 'list'>\n",
      "Opening raw data file C:/Users/pesylvestre/Documents/Informatique/BRAIL/FY2023 In-House PoC3/In-HousePOC3/in_housepoc3/data/Lemon_PreDict\\sub-032323\\sub-032323_EO1_eeg.fif...\n",
      "Isotrak not found\n",
      "    Range : 27314 ... 41814 =    109.256 ...   167.256 secs\n",
      "Ready.\n",
      "Reading 0 ... 14500  =      0.000 ...    58.000 secs...\n"
     ]
    },
    {
     "name": "stderr",
     "output_type": "stream",
     "text": [
      "C:\\Users\\PESYLV~1\\AppData\\Local\\Temp/ipykernel_29536/564882533.py:16: FutureWarning: The frame.append method is deprecated and will be removed from pandas in a future version. Use pandas.concat instead.\n",
      "  df = df.append({\"data\": rawpd, \"age\": int(mlab[:2])+2.5}, ignore_index=True)\n"
     ]
    },
    {
     "name": "stdout",
     "output_type": "stream",
     "text": [
      "<class 'list'>\n",
      "Opening raw data file C:/Users/pesylvestre/Documents/Informatique/BRAIL/FY2023 In-House PoC3/In-HousePOC3/in_housepoc3/data/Lemon_PreDict\\sub-032323\\sub-032323_EO2_eeg.fif...\n",
      "Isotrak not found\n",
      "    Range : 58240 ... 72740 =    232.960 ...   290.960 secs\n",
      "Ready.\n",
      "Reading 0 ... 14500  =      0.000 ...    58.000 secs...\n"
     ]
    },
    {
     "name": "stderr",
     "output_type": "stream",
     "text": [
      "C:\\Users\\PESYLV~1\\AppData\\Local\\Temp/ipykernel_29536/564882533.py:16: FutureWarning: The frame.append method is deprecated and will be removed from pandas in a future version. Use pandas.concat instead.\n",
      "  df = df.append({\"data\": rawpd, \"age\": int(mlab[:2])+2.5}, ignore_index=True)\n"
     ]
    },
    {
     "name": "stdout",
     "output_type": "stream",
     "text": [
      "<class 'list'>\n",
      "Opening raw data file C:/Users/pesylvestre/Documents/Informatique/BRAIL/FY2023 In-House PoC3/In-HousePOC3/in_housepoc3/data/Lemon_PreDict\\sub-032323\\sub-032323_EO3_eeg.fif...\n",
      "Isotrak not found\n",
      "    Range : 89168 ... 103668 =    356.672 ...   414.672 secs\n",
      "Ready.\n",
      "Reading 0 ... 14500  =      0.000 ...    58.000 secs...\n",
      "<class 'list'>\n"
     ]
    },
    {
     "name": "stderr",
     "output_type": "stream",
     "text": [
      "C:\\Users\\PESYLV~1\\AppData\\Local\\Temp/ipykernel_29536/564882533.py:16: FutureWarning: The frame.append method is deprecated and will be removed from pandas in a future version. Use pandas.concat instead.\n",
      "  df = df.append({\"data\": rawpd, \"age\": int(mlab[:2])+2.5}, ignore_index=True)\n",
      "C:\\Users\\PESYLV~1\\AppData\\Local\\Temp/ipykernel_29536/564882533.py:16: FutureWarning: The frame.append method is deprecated and will be removed from pandas in a future version. Use pandas.concat instead.\n",
      "  df = df.append({\"data\": rawpd, \"age\": int(mlab[:2])+2.5}, ignore_index=True)\n"
     ]
    },
    {
     "name": "stdout",
     "output_type": "stream",
     "text": [
      "Opening raw data file C:/Users/pesylvestre/Documents/Informatique/BRAIL/FY2023 In-House PoC3/In-HousePOC3/in_housepoc3/data/Lemon_PreDict\\sub-032323\\sub-032323_EO4_eeg.fif...\n",
      "Isotrak not found\n",
      "    Range : 120031 ... 134532 =    480.124 ...   538.128 secs\n",
      "Ready.\n",
      "Reading 0 ... 14501  =      0.000 ...    58.004 secs...\n",
      "<class 'list'>\n",
      "Opening raw data file C:/Users/pesylvestre/Documents/Informatique/BRAIL/FY2023 In-House PoC3/In-HousePOC3/in_housepoc3/data/Lemon_PreDict\\sub-032323\\sub-032323_EO5_eeg.fif...\n",
      "Isotrak not found\n",
      "    Range : 151170 ... 165670 =    604.680 ...   662.680 secs\n",
      "Ready.\n",
      "Reading 0 ... 14500  =      0.000 ...    58.000 secs...\n"
     ]
    },
    {
     "name": "stderr",
     "output_type": "stream",
     "text": [
      "C:\\Users\\PESYLV~1\\AppData\\Local\\Temp/ipykernel_29536/564882533.py:16: FutureWarning: The frame.append method is deprecated and will be removed from pandas in a future version. Use pandas.concat instead.\n",
      "  df = df.append({\"data\": rawpd, \"age\": int(mlab[:2])+2.5}, ignore_index=True)\n"
     ]
    },
    {
     "name": "stdout",
     "output_type": "stream",
     "text": [
      "<class 'list'>\n",
      "Opening raw data file C:/Users/pesylvestre/Documents/Informatique/BRAIL/FY2023 In-House PoC3/In-HousePOC3/in_housepoc3/data/Lemon_PreDict\\sub-032323\\sub-032323_EO6_eeg.fif...\n",
      "Isotrak not found\n",
      "    Range : 182190 ... 196690 =    728.760 ...   786.760 secs\n",
      "Ready.\n",
      "Reading 0 ... 14500  =      0.000 ...    58.000 secs...\n"
     ]
    },
    {
     "name": "stderr",
     "output_type": "stream",
     "text": [
      "C:\\Users\\PESYLV~1\\AppData\\Local\\Temp/ipykernel_29536/564882533.py:16: FutureWarning: The frame.append method is deprecated and will be removed from pandas in a future version. Use pandas.concat instead.\n",
      "  df = df.append({\"data\": rawpd, \"age\": int(mlab[:2])+2.5}, ignore_index=True)\n"
     ]
    },
    {
     "name": "stdout",
     "output_type": "stream",
     "text": [
      "<class 'list'>\n",
      "Opening raw data file C:/Users/pesylvestre/Documents/Informatique/BRAIL/FY2023 In-House PoC3/In-HousePOC3/in_housepoc3/data/Lemon_PreDict\\sub-032323\\sub-032323_EO7_eeg.fif...\n",
      "Isotrak not found\n",
      "    Range : 212906 ... 227406 =    851.624 ...   909.624 secs\n",
      "Ready.\n",
      "Reading 0 ... 14500  =      0.000 ...    58.000 secs...\n"
     ]
    },
    {
     "name": "stderr",
     "output_type": "stream",
     "text": [
      "C:\\Users\\PESYLV~1\\AppData\\Local\\Temp/ipykernel_29536/564882533.py:16: FutureWarning: The frame.append method is deprecated and will be removed from pandas in a future version. Use pandas.concat instead.\n",
      "  df = df.append({\"data\": rawpd, \"age\": int(mlab[:2])+2.5}, ignore_index=True)\n"
     ]
    },
    {
     "name": "stdout",
     "output_type": "stream",
     "text": [
      "<class 'list'>\n",
      "Opening raw data file C:/Users/pesylvestre/Documents/Informatique/BRAIL/FY2023 In-House PoC3/In-HousePOC3/in_housepoc3/data/Lemon_PreDict\\sub-032323\\sub-032323_EO8_eeg.fif...\n",
      "Isotrak not found\n",
      "    Range : 243922 ... 258422 =    975.688 ...  1033.688 secs\n",
      "Ready.\n",
      "Reading 0 ... 14500  =      0.000 ...    58.000 secs...\n"
     ]
    },
    {
     "name": "stderr",
     "output_type": "stream",
     "text": [
      "C:\\Users\\PESYLV~1\\AppData\\Local\\Temp/ipykernel_29536/564882533.py:16: FutureWarning: The frame.append method is deprecated and will be removed from pandas in a future version. Use pandas.concat instead.\n",
      "  df = df.append({\"data\": rawpd, \"age\": int(mlab[:2])+2.5}, ignore_index=True)\n"
     ]
    },
    {
     "name": "stdout",
     "output_type": "stream",
     "text": [
      "<class 'list'>\n",
      "Opening raw data file C:/Users/pesylvestre/Documents/Informatique/BRAIL/FY2023 In-House PoC3/In-HousePOC3/in_housepoc3/data/Lemon_PreDict\\sub-032324\\sub-032324_EC1_eeg.fif...\n",
      "Isotrak not found\n",
      "    Range : 1409 ... 15910 =      5.636 ...    63.640 secs\n",
      "Ready.\n",
      "Reading 0 ... 14501  =      0.000 ...    58.004 secs...\n"
     ]
    },
    {
     "name": "stderr",
     "output_type": "stream",
     "text": [
      "C:\\Users\\PESYLV~1\\AppData\\Local\\Temp/ipykernel_29536/564882533.py:16: FutureWarning: The frame.append method is deprecated and will be removed from pandas in a future version. Use pandas.concat instead.\n",
      "  df = df.append({\"data\": rawpd, \"age\": int(mlab[:2])+2.5}, ignore_index=True)\n"
     ]
    },
    {
     "name": "stdout",
     "output_type": "stream",
     "text": [
      "<class 'list'>\n",
      "Opening raw data file C:/Users/pesylvestre/Documents/Informatique/BRAIL/FY2023 In-House PoC3/In-HousePOC3/in_housepoc3/data/Lemon_PreDict\\sub-032324\\sub-032324_EC2_eeg.fif...\n",
      "Isotrak not found\n",
      "    Range : 32425 ... 46925 =    129.700 ...   187.700 secs\n",
      "Ready.\n",
      "Reading 0 ... 14500  =      0.000 ...    58.000 secs...\n"
     ]
    },
    {
     "name": "stderr",
     "output_type": "stream",
     "text": [
      "C:\\Users\\PESYLV~1\\AppData\\Local\\Temp/ipykernel_29536/564882533.py:16: FutureWarning: The frame.append method is deprecated and will be removed from pandas in a future version. Use pandas.concat instead.\n",
      "  df = df.append({\"data\": rawpd, \"age\": int(mlab[:2])+2.5}, ignore_index=True)\n"
     ]
    },
    {
     "name": "stdout",
     "output_type": "stream",
     "text": [
      "<class 'list'>\n",
      "Opening raw data file C:/Users/pesylvestre/Documents/Informatique/BRAIL/FY2023 In-House PoC3/In-HousePOC3/in_housepoc3/data/Lemon_PreDict\\sub-032324\\sub-032324_EC3_eeg.fif...\n",
      "Isotrak not found\n",
      "    Range : 63552 ... 78052 =    254.208 ...   312.208 secs\n",
      "Ready.\n",
      "Reading 0 ... 14500  =      0.000 ...    58.000 secs...\n"
     ]
    },
    {
     "name": "stderr",
     "output_type": "stream",
     "text": [
      "C:\\Users\\PESYLV~1\\AppData\\Local\\Temp/ipykernel_29536/564882533.py:16: FutureWarning: The frame.append method is deprecated and will be removed from pandas in a future version. Use pandas.concat instead.\n",
      "  df = df.append({\"data\": rawpd, \"age\": int(mlab[:2])+2.5}, ignore_index=True)\n"
     ]
    },
    {
     "name": "stdout",
     "output_type": "stream",
     "text": [
      "<class 'list'>\n",
      "Opening raw data file C:/Users/pesylvestre/Documents/Informatique/BRAIL/FY2023 In-House PoC3/In-HousePOC3/in_housepoc3/data/Lemon_PreDict\\sub-032324\\sub-032324_EC4_eeg.fif...\n",
      "Isotrak not found\n",
      "    Range : 94447 ... 108948 =    377.788 ...   435.792 secs\n",
      "Ready.\n",
      "Reading 0 ... 14501  =      0.000 ...    58.004 secs...\n",
      "<class 'list'>\n"
     ]
    },
    {
     "name": "stderr",
     "output_type": "stream",
     "text": [
      "C:\\Users\\PESYLV~1\\AppData\\Local\\Temp/ipykernel_29536/564882533.py:16: FutureWarning: The frame.append method is deprecated and will be removed from pandas in a future version. Use pandas.concat instead.\n",
      "  df = df.append({\"data\": rawpd, \"age\": int(mlab[:2])+2.5}, ignore_index=True)\n"
     ]
    },
    {
     "name": "stdout",
     "output_type": "stream",
     "text": [
      "Opening raw data file C:/Users/pesylvestre/Documents/Informatique/BRAIL/FY2023 In-House PoC3/In-HousePOC3/in_housepoc3/data/Lemon_PreDict\\sub-032324\\sub-032324_EC5_eeg.fif...\n"
     ]
    },
    {
     "name": "stderr",
     "output_type": "stream",
     "text": [
      "C:\\Users\\PESYLV~1\\AppData\\Local\\Temp/ipykernel_29536/564882533.py:16: FutureWarning: The frame.append method is deprecated and will be removed from pandas in a future version. Use pandas.concat instead.\n",
      "  df = df.append({\"data\": rawpd, \"age\": int(mlab[:2])+2.5}, ignore_index=True)\n"
     ]
    },
    {
     "name": "stdout",
     "output_type": "stream",
     "text": [
      "Isotrak not found\n",
      "    Range : 125456 ... 139956 =    501.824 ...   559.824 secs\n",
      "Ready.\n",
      "Reading 0 ... 14500  =      0.000 ...    58.000 secs...\n",
      "<class 'list'>\n",
      "Opening raw data file C:/Users/pesylvestre/Documents/Informatique/BRAIL/FY2023 In-House PoC3/In-HousePOC3/in_housepoc3/data/Lemon_PreDict\\sub-032324\\sub-032324_EC6_eeg.fif...\n"
     ]
    },
    {
     "name": "stderr",
     "output_type": "stream",
     "text": [
      "C:\\Users\\PESYLV~1\\AppData\\Local\\Temp/ipykernel_29536/564882533.py:16: FutureWarning: The frame.append method is deprecated and will be removed from pandas in a future version. Use pandas.concat instead.\n",
      "  df = df.append({\"data\": rawpd, \"age\": int(mlab[:2])+2.5}, ignore_index=True)\n"
     ]
    },
    {
     "name": "stdout",
     "output_type": "stream",
     "text": [
      "Isotrak not found\n",
      "    Range : 156402 ... 170902 =    625.608 ...   683.608 secs\n",
      "Ready.\n",
      "Reading 0 ... 14500  =      0.000 ...    58.000 secs...\n",
      "<class 'list'>\n",
      "Opening raw data file C:/Users/pesylvestre/Documents/Informatique/BRAIL/FY2023 In-House PoC3/In-HousePOC3/in_housepoc3/data/Lemon_PreDict\\sub-032324\\sub-032324_EC7_eeg.fif...\n"
     ]
    },
    {
     "name": "stderr",
     "output_type": "stream",
     "text": [
      "C:\\Users\\PESYLV~1\\AppData\\Local\\Temp/ipykernel_29536/564882533.py:16: FutureWarning: The frame.append method is deprecated and will be removed from pandas in a future version. Use pandas.concat instead.\n",
      "  df = df.append({\"data\": rawpd, \"age\": int(mlab[:2])+2.5}, ignore_index=True)\n"
     ]
    },
    {
     "name": "stdout",
     "output_type": "stream",
     "text": [
      "Isotrak not found\n",
      "    Range : 187434 ... 201934 =    749.736 ...   807.736 secs\n",
      "Ready.\n",
      "Reading 0 ... 14500  =      0.000 ...    58.000 secs...\n",
      "<class 'list'>\n",
      "Opening raw data file C:/Users/pesylvestre/Documents/Informatique/BRAIL/FY2023 In-House PoC3/In-HousePOC3/in_housepoc3/data/Lemon_PreDict\\sub-032324\\sub-032324_EC8_eeg.fif...\n"
     ]
    },
    {
     "name": "stderr",
     "output_type": "stream",
     "text": [
      "C:\\Users\\PESYLV~1\\AppData\\Local\\Temp/ipykernel_29536/564882533.py:16: FutureWarning: The frame.append method is deprecated and will be removed from pandas in a future version. Use pandas.concat instead.\n",
      "  df = df.append({\"data\": rawpd, \"age\": int(mlab[:2])+2.5}, ignore_index=True)\n"
     ]
    },
    {
     "name": "stdout",
     "output_type": "stream",
     "text": [
      "Isotrak not found\n",
      "    Range : 218379 ... 232879 =    873.516 ...   931.516 secs\n",
      "Ready.\n",
      "Reading 0 ... 14500  =      0.000 ...    58.000 secs...\n",
      "<class 'list'>\n",
      "Opening raw data file C:/Users/pesylvestre/Documents/Informatique/BRAIL/FY2023 In-House PoC3/In-HousePOC3/in_housepoc3/data/Lemon_PreDict\\sub-032324\\sub-032324_EO1_eeg.fif...\n",
      "Isotrak not found\n",
      "    Range : 16950 ... 31450 =     67.800 ...   125.800 secs\n",
      "Ready.\n",
      "Reading 0 ... 14500  =      0.000 ...    58.000 secs...\n"
     ]
    },
    {
     "name": "stderr",
     "output_type": "stream",
     "text": [
      "C:\\Users\\PESYLV~1\\AppData\\Local\\Temp/ipykernel_29536/564882533.py:16: FutureWarning: The frame.append method is deprecated and will be removed from pandas in a future version. Use pandas.concat instead.\n",
      "  df = df.append({\"data\": rawpd, \"age\": int(mlab[:2])+2.5}, ignore_index=True)\n"
     ]
    },
    {
     "name": "stdout",
     "output_type": "stream",
     "text": [
      "<class 'list'>\n",
      "Opening raw data file C:/Users/pesylvestre/Documents/Informatique/BRAIL/FY2023 In-House PoC3/In-HousePOC3/in_housepoc3/data/Lemon_PreDict\\sub-032324\\sub-032324_EO2_eeg.fif...\n",
      "Isotrak not found\n",
      "    Range : 47831 ... 62331 =    191.324 ...   249.324 secs\n",
      "Ready.\n",
      "Reading 0 ... 14500  =      0.000 ...    58.000 secs...\n"
     ]
    },
    {
     "name": "stderr",
     "output_type": "stream",
     "text": [
      "C:\\Users\\PESYLV~1\\AppData\\Local\\Temp/ipykernel_29536/564882533.py:16: FutureWarning: The frame.append method is deprecated and will be removed from pandas in a future version. Use pandas.concat instead.\n",
      "  df = df.append({\"data\": rawpd, \"age\": int(mlab[:2])+2.5}, ignore_index=True)\n"
     ]
    },
    {
     "name": "stdout",
     "output_type": "stream",
     "text": [
      "<class 'list'>\n",
      "Opening raw data file C:/Users/pesylvestre/Documents/Informatique/BRAIL/FY2023 In-House PoC3/In-HousePOC3/in_housepoc3/data/Lemon_PreDict\\sub-032324\\sub-032324_EO3_eeg.fif...\n",
      "Isotrak not found\n",
      "    Range : 78938 ... 93438 =    315.752 ...   373.752 secs\n",
      "Ready.\n",
      "Reading 0 ... 14500  =      0.000 ...    58.000 secs...\n"
     ]
    },
    {
     "name": "stderr",
     "output_type": "stream",
     "text": [
      "C:\\Users\\PESYLV~1\\AppData\\Local\\Temp/ipykernel_29536/564882533.py:16: FutureWarning: The frame.append method is deprecated and will be removed from pandas in a future version. Use pandas.concat instead.\n",
      "  df = df.append({\"data\": rawpd, \"age\": int(mlab[:2])+2.5}, ignore_index=True)\n"
     ]
    },
    {
     "name": "stdout",
     "output_type": "stream",
     "text": [
      "<class 'list'>\n",
      "Opening raw data file C:/Users/pesylvestre/Documents/Informatique/BRAIL/FY2023 In-House PoC3/In-HousePOC3/in_housepoc3/data/Lemon_PreDict\\sub-032324\\sub-032324_EO4_eeg.fif...\n",
      "Isotrak not found\n",
      "    Range : 109860 ... 124360 =    439.440 ...   497.440 secs\n",
      "Ready.\n",
      "Reading 0 ... 14500  =      0.000 ...    58.000 secs...\n"
     ]
    },
    {
     "name": "stderr",
     "output_type": "stream",
     "text": [
      "C:\\Users\\PESYLV~1\\AppData\\Local\\Temp/ipykernel_29536/564882533.py:16: FutureWarning: The frame.append method is deprecated and will be removed from pandas in a future version. Use pandas.concat instead.\n",
      "  df = df.append({\"data\": rawpd, \"age\": int(mlab[:2])+2.5}, ignore_index=True)\n"
     ]
    },
    {
     "name": "stdout",
     "output_type": "stream",
     "text": [
      "<class 'list'>\n",
      "Opening raw data file C:/Users/pesylvestre/Documents/Informatique/BRAIL/FY2023 In-House PoC3/In-HousePOC3/in_housepoc3/data/Lemon_PreDict\\sub-032324\\sub-032324_EO5_eeg.fif...\n",
      "Isotrak not found\n",
      "    Range : 140923 ... 155423 =    563.692 ...   621.692 secs\n",
      "Ready.\n",
      "Reading 0 ... 14500  =      0.000 ...    58.000 secs...\n"
     ]
    },
    {
     "name": "stderr",
     "output_type": "stream",
     "text": [
      "C:\\Users\\PESYLV~1\\AppData\\Local\\Temp/ipykernel_29536/564882533.py:16: FutureWarning: The frame.append method is deprecated and will be removed from pandas in a future version. Use pandas.concat instead.\n",
      "  df = df.append({\"data\": rawpd, \"age\": int(mlab[:2])+2.5}, ignore_index=True)\n"
     ]
    },
    {
     "name": "stdout",
     "output_type": "stream",
     "text": [
      "<class 'list'>\n",
      "Opening raw data file C:/Users/pesylvestre/Documents/Informatique/BRAIL/FY2023 In-House PoC3/In-HousePOC3/in_housepoc3/data/Lemon_PreDict\\sub-032324\\sub-032324_EO6_eeg.fif...\n",
      "Isotrak not found\n",
      "    Range : 171959 ... 186459 =    687.836 ...   745.836 secs\n",
      "Ready.\n",
      "Reading 0 ... 14500  =      0.000 ...    58.000 secs...\n"
     ]
    },
    {
     "name": "stderr",
     "output_type": "stream",
     "text": [
      "C:\\Users\\PESYLV~1\\AppData\\Local\\Temp/ipykernel_29536/564882533.py:16: FutureWarning: The frame.append method is deprecated and will be removed from pandas in a future version. Use pandas.concat instead.\n",
      "  df = df.append({\"data\": rawpd, \"age\": int(mlab[:2])+2.5}, ignore_index=True)\n"
     ]
    },
    {
     "name": "stdout",
     "output_type": "stream",
     "text": [
      "<class 'list'>\n",
      "Opening raw data file C:/Users/pesylvestre/Documents/Informatique/BRAIL/FY2023 In-House PoC3/In-HousePOC3/in_housepoc3/data/Lemon_PreDict\\sub-032324\\sub-032324_EO7_eeg.fif...\n",
      "Isotrak not found\n",
      "    Range : 202899 ... 217400 =    811.596 ...   869.600 secs\n",
      "Ready.\n",
      "Reading 0 ... 14501  =      0.000 ...    58.004 secs...\n"
     ]
    },
    {
     "name": "stderr",
     "output_type": "stream",
     "text": [
      "C:\\Users\\PESYLV~1\\AppData\\Local\\Temp/ipykernel_29536/564882533.py:16: FutureWarning: The frame.append method is deprecated and will be removed from pandas in a future version. Use pandas.concat instead.\n",
      "  df = df.append({\"data\": rawpd, \"age\": int(mlab[:2])+2.5}, ignore_index=True)\n"
     ]
    },
    {
     "name": "stdout",
     "output_type": "stream",
     "text": [
      "<class 'list'>\n",
      "Opening raw data file C:/Users/pesylvestre/Documents/Informatique/BRAIL/FY2023 In-House PoC3/In-HousePOC3/in_housepoc3/data/Lemon_PreDict\\sub-032324\\sub-032324_EO8_eeg.fif...\n",
      "Isotrak not found\n",
      "    Range : 233873 ... 248373 =    935.492 ...   993.492 secs\n",
      "Ready.\n",
      "Reading 0 ... 14500  =      0.000 ...    58.000 secs...\n"
     ]
    },
    {
     "name": "stderr",
     "output_type": "stream",
     "text": [
      "C:\\Users\\PESYLV~1\\AppData\\Local\\Temp/ipykernel_29536/564882533.py:16: FutureWarning: The frame.append method is deprecated and will be removed from pandas in a future version. Use pandas.concat instead.\n",
      "  df = df.append({\"data\": rawpd, \"age\": int(mlab[:2])+2.5}, ignore_index=True)\n"
     ]
    },
    {
     "name": "stdout",
     "output_type": "stream",
     "text": [
      "<class 'list'>\n",
      "Opening raw data file C:/Users/pesylvestre/Documents/Informatique/BRAIL/FY2023 In-House PoC3/In-HousePOC3/in_housepoc3/data/Lemon_PreDict\\sub-032325\\sub-032325_EC1_eeg.fif...\n",
      "Isotrak not found\n",
      "    Range : 1763 ... 16263 =      7.052 ...    65.052 secs\n",
      "Ready.\n",
      "Reading 0 ... 14500  =      0.000 ...    58.000 secs...\n"
     ]
    },
    {
     "name": "stderr",
     "output_type": "stream",
     "text": [
      "C:\\Users\\PESYLV~1\\AppData\\Local\\Temp/ipykernel_29536/564882533.py:16: FutureWarning: The frame.append method is deprecated and will be removed from pandas in a future version. Use pandas.concat instead.\n",
      "  df = df.append({\"data\": rawpd, \"age\": int(mlab[:2])+2.5}, ignore_index=True)\n"
     ]
    },
    {
     "name": "stdout",
     "output_type": "stream",
     "text": [
      "<class 'list'>\n",
      "Opening raw data file C:/Users/pesylvestre/Documents/Informatique/BRAIL/FY2023 In-House PoC3/In-HousePOC3/in_housepoc3/data/Lemon_PreDict\\sub-032325\\sub-032325_EC2_eeg.fif...\n",
      "Isotrak not found\n",
      "    Range : 32710 ... 47210 =    130.840 ...   188.840 secs\n",
      "Ready.\n",
      "Reading 0 ... 14500  =      0.000 ...    58.000 secs...\n"
     ]
    },
    {
     "name": "stderr",
     "output_type": "stream",
     "text": [
      "C:\\Users\\PESYLV~1\\AppData\\Local\\Temp/ipykernel_29536/564882533.py:16: FutureWarning: The frame.append method is deprecated and will be removed from pandas in a future version. Use pandas.concat instead.\n",
      "  df = df.append({\"data\": rawpd, \"age\": int(mlab[:2])+2.5}, ignore_index=True)\n"
     ]
    },
    {
     "name": "stdout",
     "output_type": "stream",
     "text": [
      "<class 'list'>\n",
      "Opening raw data file C:/Users/pesylvestre/Documents/Informatique/BRAIL/FY2023 In-House PoC3/In-HousePOC3/in_housepoc3/data/Lemon_PreDict\\sub-032325\\sub-032325_EC3_eeg.fif...\n",
      "Isotrak not found\n",
      "    Range : 64536 ... 79036 =    258.144 ...   316.144 secs\n",
      "Ready.\n",
      "Reading 0 ... 14500  =      0.000 ...    58.000 secs...\n"
     ]
    },
    {
     "name": "stderr",
     "output_type": "stream",
     "text": [
      "C:\\Users\\PESYLV~1\\AppData\\Local\\Temp/ipykernel_29536/564882533.py:16: FutureWarning: The frame.append method is deprecated and will be removed from pandas in a future version. Use pandas.concat instead.\n",
      "  df = df.append({\"data\": rawpd, \"age\": int(mlab[:2])+2.5}, ignore_index=True)\n"
     ]
    },
    {
     "name": "stdout",
     "output_type": "stream",
     "text": [
      "<class 'list'>\n",
      "Opening raw data file C:/Users/pesylvestre/Documents/Informatique/BRAIL/FY2023 In-House PoC3/In-HousePOC3/in_housepoc3/data/Lemon_PreDict\\sub-032325\\sub-032325_EC4_eeg.fif...\n",
      "Isotrak not found\n",
      "    Range : 95530 ... 110030 =    382.120 ...   440.120 secs\n",
      "Ready.\n",
      "Reading 0 ... 14500  =      0.000 ...    58.000 secs...\n"
     ]
    },
    {
     "name": "stderr",
     "output_type": "stream",
     "text": [
      "C:\\Users\\PESYLV~1\\AppData\\Local\\Temp/ipykernel_29536/564882533.py:16: FutureWarning: The frame.append method is deprecated and will be removed from pandas in a future version. Use pandas.concat instead.\n",
      "  df = df.append({\"data\": rawpd, \"age\": int(mlab[:2])+2.5}, ignore_index=True)\n"
     ]
    },
    {
     "name": "stdout",
     "output_type": "stream",
     "text": [
      "<class 'list'>\n",
      "Opening raw data file C:/Users/pesylvestre/Documents/Informatique/BRAIL/FY2023 In-House PoC3/In-HousePOC3/in_housepoc3/data/Lemon_PreDict\\sub-032325\\sub-032325_EC5_eeg.fif...\n",
      "Isotrak not found\n",
      "    Range : 126722 ... 141222 =    506.888 ...   564.888 secs\n",
      "Ready.\n",
      "Reading 0 ... 14500  =      0.000 ...    58.000 secs...\n"
     ]
    },
    {
     "name": "stderr",
     "output_type": "stream",
     "text": [
      "C:\\Users\\PESYLV~1\\AppData\\Local\\Temp/ipykernel_29536/564882533.py:16: FutureWarning: The frame.append method is deprecated and will be removed from pandas in a future version. Use pandas.concat instead.\n",
      "  df = df.append({\"data\": rawpd, \"age\": int(mlab[:2])+2.5}, ignore_index=True)\n"
     ]
    },
    {
     "name": "stdout",
     "output_type": "stream",
     "text": [
      "<class 'list'>\n",
      "Opening raw data file C:/Users/pesylvestre/Documents/Informatique/BRAIL/FY2023 In-House PoC3/In-HousePOC3/in_housepoc3/data/Lemon_PreDict\\sub-032325\\sub-032325_EC6_eeg.fif...\n",
      "Isotrak not found\n",
      "    Range : 158048 ... 172548 =    632.192 ...   690.192 secs\n",
      "Ready.\n",
      "Reading 0 ... 14500  =      0.000 ...    58.000 secs...\n"
     ]
    },
    {
     "name": "stderr",
     "output_type": "stream",
     "text": [
      "C:\\Users\\PESYLV~1\\AppData\\Local\\Temp/ipykernel_29536/564882533.py:16: FutureWarning: The frame.append method is deprecated and will be removed from pandas in a future version. Use pandas.concat instead.\n",
      "  df = df.append({\"data\": rawpd, \"age\": int(mlab[:2])+2.5}, ignore_index=True)\n"
     ]
    },
    {
     "name": "stdout",
     "output_type": "stream",
     "text": [
      "<class 'list'>\n",
      "Opening raw data file C:/Users/pesylvestre/Documents/Informatique/BRAIL/FY2023 In-House PoC3/In-HousePOC3/in_housepoc3/data/Lemon_PreDict\\sub-032325\\sub-032325_EC7_eeg.fif...\n",
      "Isotrak not found\n",
      "    Range : 189334 ... 203834 =    757.336 ...   815.336 secs\n",
      "Ready.\n",
      "Reading 0 ... 14500  =      0.000 ...    58.000 secs...\n"
     ]
    },
    {
     "name": "stderr",
     "output_type": "stream",
     "text": [
      "C:\\Users\\PESYLV~1\\AppData\\Local\\Temp/ipykernel_29536/564882533.py:16: FutureWarning: The frame.append method is deprecated and will be removed from pandas in a future version. Use pandas.concat instead.\n",
      "  df = df.append({\"data\": rawpd, \"age\": int(mlab[:2])+2.5}, ignore_index=True)\n"
     ]
    },
    {
     "name": "stdout",
     "output_type": "stream",
     "text": [
      "<class 'list'>\n",
      "Opening raw data file C:/Users/pesylvestre/Documents/Informatique/BRAIL/FY2023 In-House PoC3/In-HousePOC3/in_housepoc3/data/Lemon_PreDict\\sub-032325\\sub-032325_EC8_eeg.fif...\n",
      "Isotrak not found\n",
      "    Range : 220192 ... 234692 =    880.768 ...   938.768 secs\n",
      "Ready.\n",
      "Reading 0 ... 14500  =      0.000 ...    58.000 secs...\n"
     ]
    },
    {
     "name": "stderr",
     "output_type": "stream",
     "text": [
      "C:\\Users\\PESYLV~1\\AppData\\Local\\Temp/ipykernel_29536/564882533.py:16: FutureWarning: The frame.append method is deprecated and will be removed from pandas in a future version. Use pandas.concat instead.\n",
      "  df = df.append({\"data\": rawpd, \"age\": int(mlab[:2])+2.5}, ignore_index=True)\n"
     ]
    },
    {
     "name": "stdout",
     "output_type": "stream",
     "text": [
      "<class 'list'>\n",
      "Opening raw data file C:/Users/pesylvestre/Documents/Informatique/BRAIL/FY2023 In-House PoC3/In-HousePOC3/in_housepoc3/data/Lemon_PreDict\\sub-032325\\sub-032325_EO1_eeg.fif...\n",
      "Isotrak not found\n",
      "    Range : 17229 ... 31729 =     68.916 ...   126.916 secs\n",
      "Ready.\n",
      "Reading 0 ... 14500  =      0.000 ...    58.000 secs...\n"
     ]
    },
    {
     "name": "stderr",
     "output_type": "stream",
     "text": [
      "C:\\Users\\PESYLV~1\\AppData\\Local\\Temp/ipykernel_29536/564882533.py:16: FutureWarning: The frame.append method is deprecated and will be removed from pandas in a future version. Use pandas.concat instead.\n",
      "  df = df.append({\"data\": rawpd, \"age\": int(mlab[:2])+2.5}, ignore_index=True)\n"
     ]
    },
    {
     "name": "stdout",
     "output_type": "stream",
     "text": [
      "<class 'list'>\n",
      "Opening raw data file C:/Users/pesylvestre/Documents/Informatique/BRAIL/FY2023 In-House PoC3/In-HousePOC3/in_housepoc3/data/Lemon_PreDict\\sub-032325\\sub-032325_EO2_eeg.fif...\n",
      "Isotrak not found\n",
      "    Range : 48407 ... 62907 =    193.628 ...   251.628 secs\n",
      "Ready.\n",
      "Reading 0 ... 14500  =      0.000 ...    58.000 secs...\n"
     ]
    },
    {
     "name": "stderr",
     "output_type": "stream",
     "text": [
      "C:\\Users\\PESYLV~1\\AppData\\Local\\Temp/ipykernel_29536/564882533.py:16: FutureWarning: The frame.append method is deprecated and will be removed from pandas in a future version. Use pandas.concat instead.\n",
      "  df = df.append({\"data\": rawpd, \"age\": int(mlab[:2])+2.5}, ignore_index=True)\n"
     ]
    },
    {
     "name": "stdout",
     "output_type": "stream",
     "text": [
      "<class 'list'>\n",
      "Opening raw data file C:/Users/pesylvestre/Documents/Informatique/BRAIL/FY2023 In-House PoC3/In-HousePOC3/in_housepoc3/data/Lemon_PreDict\\sub-032325\\sub-032325_EO3_eeg.fif...\n",
      "Isotrak not found\n",
      "    Range : 80076 ... 94576 =    320.304 ...   378.304 secs\n",
      "Ready.\n",
      "Reading 0 ... 14500  =      0.000 ...    58.000 secs...\n"
     ]
    },
    {
     "name": "stderr",
     "output_type": "stream",
     "text": [
      "C:\\Users\\PESYLV~1\\AppData\\Local\\Temp/ipykernel_29536/564882533.py:16: FutureWarning: The frame.append method is deprecated and will be removed from pandas in a future version. Use pandas.concat instead.\n",
      "  df = df.append({\"data\": rawpd, \"age\": int(mlab[:2])+2.5}, ignore_index=True)\n"
     ]
    },
    {
     "name": "stdout",
     "output_type": "stream",
     "text": [
      "<class 'list'>\n",
      "Opening raw data file C:/Users/pesylvestre/Documents/Informatique/BRAIL/FY2023 In-House PoC3/In-HousePOC3/in_housepoc3/data/Lemon_PreDict\\sub-032325\\sub-032325_EO4_eeg.fif...\n",
      "Isotrak not found\n",
      "    Range : 111179 ... 125679 =    444.716 ...   502.716 secs\n",
      "Ready.\n",
      "Reading 0 ... 14500  =      0.000 ...    58.000 secs...\n"
     ]
    },
    {
     "name": "stderr",
     "output_type": "stream",
     "text": [
      "C:\\Users\\PESYLV~1\\AppData\\Local\\Temp/ipykernel_29536/564882533.py:16: FutureWarning: The frame.append method is deprecated and will be removed from pandas in a future version. Use pandas.concat instead.\n",
      "  df = df.append({\"data\": rawpd, \"age\": int(mlab[:2])+2.5}, ignore_index=True)\n"
     ]
    },
    {
     "name": "stdout",
     "output_type": "stream",
     "text": [
      "<class 'list'>\n",
      "Opening raw data file C:/Users/pesylvestre/Documents/Informatique/BRAIL/FY2023 In-House PoC3/In-HousePOC3/in_housepoc3/data/Lemon_PreDict\\sub-032325\\sub-032325_EO5_eeg.fif...\n",
      "Isotrak not found\n",
      "    Range : 142503 ... 157004 =    570.012 ...   628.016 secs\n",
      "Ready.\n",
      "Reading 0 ... 14501  =      0.000 ...    58.004 secs...\n"
     ]
    },
    {
     "name": "stderr",
     "output_type": "stream",
     "text": [
      "C:\\Users\\PESYLV~1\\AppData\\Local\\Temp/ipykernel_29536/564882533.py:16: FutureWarning: The frame.append method is deprecated and will be removed from pandas in a future version. Use pandas.concat instead.\n",
      "  df = df.append({\"data\": rawpd, \"age\": int(mlab[:2])+2.5}, ignore_index=True)\n"
     ]
    },
    {
     "name": "stdout",
     "output_type": "stream",
     "text": [
      "<class 'list'>\n",
      "Opening raw data file C:/Users/pesylvestre/Documents/Informatique/BRAIL/FY2023 In-House PoC3/In-HousePOC3/in_housepoc3/data/Lemon_PreDict\\sub-032325\\sub-032325_EO6_eeg.fif...\n",
      "Isotrak not found\n",
      "    Range : 173500 ... 188000 =    694.000 ...   752.000 secs\n",
      "Ready.\n",
      "Reading 0 ... 14500  =      0.000 ...    58.000 secs...\n"
     ]
    },
    {
     "name": "stderr",
     "output_type": "stream",
     "text": [
      "C:\\Users\\PESYLV~1\\AppData\\Local\\Temp/ipykernel_29536/564882533.py:16: FutureWarning: The frame.append method is deprecated and will be removed from pandas in a future version. Use pandas.concat instead.\n",
      "  df = df.append({\"data\": rawpd, \"age\": int(mlab[:2])+2.5}, ignore_index=True)\n"
     ]
    },
    {
     "name": "stdout",
     "output_type": "stream",
     "text": [
      "<class 'list'>\n",
      "Opening raw data file C:/Users/pesylvestre/Documents/Informatique/BRAIL/FY2023 In-House PoC3/In-HousePOC3/in_housepoc3/data/Lemon_PreDict\\sub-032325\\sub-032325_EO7_eeg.fif...\n",
      "Isotrak not found\n",
      "    Range : 204733 ... 219233 =    818.932 ...   876.932 secs\n",
      "Ready.\n",
      "Reading 0 ... 14500  =      0.000 ...    58.000 secs...\n"
     ]
    },
    {
     "name": "stderr",
     "output_type": "stream",
     "text": [
      "C:\\Users\\PESYLV~1\\AppData\\Local\\Temp/ipykernel_29536/564882533.py:16: FutureWarning: The frame.append method is deprecated and will be removed from pandas in a future version. Use pandas.concat instead.\n",
      "  df = df.append({\"data\": rawpd, \"age\": int(mlab[:2])+2.5}, ignore_index=True)\n"
     ]
    },
    {
     "name": "stdout",
     "output_type": "stream",
     "text": [
      "<class 'list'>\n",
      "Opening raw data file C:/Users/pesylvestre/Documents/Informatique/BRAIL/FY2023 In-House PoC3/In-HousePOC3/in_housepoc3/data/Lemon_PreDict\\sub-032325\\sub-032325_EO8_eeg.fif...\n",
      "Isotrak not found\n",
      "    Range : 235680 ... 250180 =    942.720 ...  1000.720 secs\n",
      "Ready.\n",
      "Reading 0 ... 14500  =      0.000 ...    58.000 secs...\n"
     ]
    },
    {
     "name": "stderr",
     "output_type": "stream",
     "text": [
      "C:\\Users\\PESYLV~1\\AppData\\Local\\Temp/ipykernel_29536/564882533.py:16: FutureWarning: The frame.append method is deprecated and will be removed from pandas in a future version. Use pandas.concat instead.\n",
      "  df = df.append({\"data\": rawpd, \"age\": int(mlab[:2])+2.5}, ignore_index=True)\n"
     ]
    },
    {
     "name": "stdout",
     "output_type": "stream",
     "text": [
      "<class 'list'>\n",
      "Opening raw data file C:/Users/pesylvestre/Documents/Informatique/BRAIL/FY2023 In-House PoC3/In-HousePOC3/in_housepoc3/data/Lemon_PreDict\\sub-032326\\sub-032326_EC1_eeg.fif...\n",
      "Isotrak not found\n",
      "    Range : 1826 ... 16326 =      7.304 ...    65.304 secs\n",
      "Ready.\n",
      "Reading 0 ... 14500  =      0.000 ...    58.000 secs...\n"
     ]
    },
    {
     "name": "stderr",
     "output_type": "stream",
     "text": [
      "C:\\Users\\PESYLV~1\\AppData\\Local\\Temp/ipykernel_29536/564882533.py:16: FutureWarning: The frame.append method is deprecated and will be removed from pandas in a future version. Use pandas.concat instead.\n",
      "  df = df.append({\"data\": rawpd, \"age\": int(mlab[:2])+2.5}, ignore_index=True)\n"
     ]
    },
    {
     "name": "stdout",
     "output_type": "stream",
     "text": [
      "<class 'list'>\n",
      "Opening raw data file C:/Users/pesylvestre/Documents/Informatique/BRAIL/FY2023 In-House PoC3/In-HousePOC3/in_housepoc3/data/Lemon_PreDict\\sub-032326\\sub-032326_EC2_eeg.fif...\n",
      "Isotrak not found\n",
      "    Range : 32898 ... 47398 =    131.592 ...   189.592 secs\n",
      "Ready.\n",
      "Reading 0 ... 14500  =      0.000 ...    58.000 secs...\n"
     ]
    },
    {
     "name": "stderr",
     "output_type": "stream",
     "text": [
      "C:\\Users\\PESYLV~1\\AppData\\Local\\Temp/ipykernel_29536/564882533.py:16: FutureWarning: The frame.append method is deprecated and will be removed from pandas in a future version. Use pandas.concat instead.\n",
      "  df = df.append({\"data\": rawpd, \"age\": int(mlab[:2])+2.5}, ignore_index=True)\n"
     ]
    },
    {
     "name": "stdout",
     "output_type": "stream",
     "text": [
      "<class 'list'>\n",
      "Opening raw data file C:/Users/pesylvestre/Documents/Informatique/BRAIL/FY2023 In-House PoC3/In-HousePOC3/in_housepoc3/data/Lemon_PreDict\\sub-032326\\sub-032326_EC3_eeg.fif...\n",
      "Isotrak not found\n",
      "    Range : 63967 ... 78468 =    255.868 ...   313.872 secs\n",
      "Ready.\n",
      "Reading 0 ... 14501  =      0.000 ...    58.004 secs...\n"
     ]
    },
    {
     "name": "stderr",
     "output_type": "stream",
     "text": [
      "C:\\Users\\PESYLV~1\\AppData\\Local\\Temp/ipykernel_29536/564882533.py:16: FutureWarning: The frame.append method is deprecated and will be removed from pandas in a future version. Use pandas.concat instead.\n",
      "  df = df.append({\"data\": rawpd, \"age\": int(mlab[:2])+2.5}, ignore_index=True)\n"
     ]
    },
    {
     "name": "stdout",
     "output_type": "stream",
     "text": [
      "<class 'list'>\n",
      "Opening raw data file C:/Users/pesylvestre/Documents/Informatique/BRAIL/FY2023 In-House PoC3/In-HousePOC3/in_housepoc3/data/Lemon_PreDict\\sub-032326\\sub-032326_EC4_eeg.fif...\n",
      "Isotrak not found\n",
      "    Range : 95167 ... 109668 =    380.668 ...   438.672 secs\n",
      "Ready.\n",
      "Reading 0 ... 14501  =      0.000 ...    58.004 secs...\n"
     ]
    },
    {
     "name": "stderr",
     "output_type": "stream",
     "text": [
      "C:\\Users\\PESYLV~1\\AppData\\Local\\Temp/ipykernel_29536/564882533.py:16: FutureWarning: The frame.append method is deprecated and will be removed from pandas in a future version. Use pandas.concat instead.\n",
      "  df = df.append({\"data\": rawpd, \"age\": int(mlab[:2])+2.5}, ignore_index=True)\n"
     ]
    },
    {
     "name": "stdout",
     "output_type": "stream",
     "text": [
      "<class 'list'>\n",
      "Opening raw data file C:/Users/pesylvestre/Documents/Informatique/BRAIL/FY2023 In-House PoC3/In-HousePOC3/in_housepoc3/data/Lemon_PreDict\\sub-032326\\sub-032326_EC5_eeg.fif...\n",
      "Isotrak not found\n",
      "    Range : 129593 ... 144093 =    518.372 ...   576.372 secs\n",
      "Ready.\n",
      "Reading 0 ... 14500  =      0.000 ...    58.000 secs...\n"
     ]
    },
    {
     "name": "stderr",
     "output_type": "stream",
     "text": [
      "C:\\Users\\PESYLV~1\\AppData\\Local\\Temp/ipykernel_29536/564882533.py:16: FutureWarning: The frame.append method is deprecated and will be removed from pandas in a future version. Use pandas.concat instead.\n",
      "  df = df.append({\"data\": rawpd, \"age\": int(mlab[:2])+2.5}, ignore_index=True)\n"
     ]
    },
    {
     "name": "stdout",
     "output_type": "stream",
     "text": [
      "<class 'list'>\n",
      "Opening raw data file C:/Users/pesylvestre/Documents/Informatique/BRAIL/FY2023 In-House PoC3/In-HousePOC3/in_housepoc3/data/Lemon_PreDict\\sub-032326\\sub-032326_EC6_eeg.fif...\n",
      "Isotrak not found\n",
      "    Range : 160757 ... 175258 =    643.028 ...   701.032 secs\n",
      "Ready.\n",
      "Reading 0 ... 14501  =      0.000 ...    58.004 secs...\n"
     ]
    },
    {
     "name": "stderr",
     "output_type": "stream",
     "text": [
      "C:\\Users\\PESYLV~1\\AppData\\Local\\Temp/ipykernel_29536/564882533.py:16: FutureWarning: The frame.append method is deprecated and will be removed from pandas in a future version. Use pandas.concat instead.\n",
      "  df = df.append({\"data\": rawpd, \"age\": int(mlab[:2])+2.5}, ignore_index=True)\n"
     ]
    },
    {
     "name": "stdout",
     "output_type": "stream",
     "text": [
      "<class 'list'>\n",
      "Opening raw data file C:/Users/pesylvestre/Documents/Informatique/BRAIL/FY2023 In-House PoC3/In-HousePOC3/in_housepoc3/data/Lemon_PreDict\\sub-032326\\sub-032326_EC7_eeg.fif...\n",
      "Isotrak not found\n",
      "    Range : 198233 ... 212734 =    792.932 ...   850.936 secs\n",
      "Ready.\n",
      "Reading 0 ... 14501  =      0.000 ...    58.004 secs...\n"
     ]
    },
    {
     "name": "stderr",
     "output_type": "stream",
     "text": [
      "C:\\Users\\PESYLV~1\\AppData\\Local\\Temp/ipykernel_29536/564882533.py:16: FutureWarning: The frame.append method is deprecated and will be removed from pandas in a future version. Use pandas.concat instead.\n",
      "  df = df.append({\"data\": rawpd, \"age\": int(mlab[:2])+2.5}, ignore_index=True)\n"
     ]
    },
    {
     "name": "stdout",
     "output_type": "stream",
     "text": [
      "<class 'list'>\n",
      "Opening raw data file C:/Users/pesylvestre/Documents/Informatique/BRAIL/FY2023 In-House PoC3/In-HousePOC3/in_housepoc3/data/Lemon_PreDict\\sub-032326\\sub-032326_EC8_eeg.fif...\n",
      "Isotrak not found\n",
      "    Range : 229350 ... 243850 =    917.400 ...   975.400 secs\n",
      "Ready.\n",
      "Reading 0 ... 14500  =      0.000 ...    58.000 secs...\n"
     ]
    },
    {
     "name": "stderr",
     "output_type": "stream",
     "text": [
      "C:\\Users\\PESYLV~1\\AppData\\Local\\Temp/ipykernel_29536/564882533.py:16: FutureWarning: The frame.append method is deprecated and will be removed from pandas in a future version. Use pandas.concat instead.\n",
      "  df = df.append({\"data\": rawpd, \"age\": int(mlab[:2])+2.5}, ignore_index=True)\n"
     ]
    },
    {
     "name": "stdout",
     "output_type": "stream",
     "text": [
      "<class 'list'>\n",
      "Opening raw data file C:/Users/pesylvestre/Documents/Informatique/BRAIL/FY2023 In-House PoC3/In-HousePOC3/in_housepoc3/data/Lemon_PreDict\\sub-032326\\sub-032326_EO1_eeg.fif...\n",
      "Isotrak not found\n",
      "    Range : 17361 ... 31861 =     69.444 ...   127.444 secs\n",
      "Ready.\n",
      "Reading 0 ... 14500  =      0.000 ...    58.000 secs...\n"
     ]
    },
    {
     "name": "stderr",
     "output_type": "stream",
     "text": [
      "C:\\Users\\PESYLV~1\\AppData\\Local\\Temp/ipykernel_29536/564882533.py:16: FutureWarning: The frame.append method is deprecated and will be removed from pandas in a future version. Use pandas.concat instead.\n",
      "  df = df.append({\"data\": rawpd, \"age\": int(mlab[:2])+2.5}, ignore_index=True)\n"
     ]
    },
    {
     "name": "stdout",
     "output_type": "stream",
     "text": [
      "<class 'list'>\n",
      "Opening raw data file C:/Users/pesylvestre/Documents/Informatique/BRAIL/FY2023 In-House PoC3/In-HousePOC3/in_housepoc3/data/Lemon_PreDict\\sub-032326\\sub-032326_EO2_eeg.fif...\n",
      "Isotrak not found\n",
      "    Range : 48492 ... 62992 =    193.968 ...   251.968 secs\n",
      "Ready.\n",
      "Reading 0 ... 14500  =      0.000 ...    58.000 secs...\n"
     ]
    },
    {
     "name": "stderr",
     "output_type": "stream",
     "text": [
      "C:\\Users\\PESYLV~1\\AppData\\Local\\Temp/ipykernel_29536/564882533.py:16: FutureWarning: The frame.append method is deprecated and will be removed from pandas in a future version. Use pandas.concat instead.\n",
      "  df = df.append({\"data\": rawpd, \"age\": int(mlab[:2])+2.5}, ignore_index=True)\n"
     ]
    },
    {
     "name": "stdout",
     "output_type": "stream",
     "text": [
      "<class 'list'>\n",
      "Opening raw data file C:/Users/pesylvestre/Documents/Informatique/BRAIL/FY2023 In-House PoC3/In-HousePOC3/in_housepoc3/data/Lemon_PreDict\\sub-032326\\sub-032326_EO3_eeg.fif...\n",
      "Isotrak not found\n",
      "    Range : 79453 ... 93953 =    317.812 ...   375.812 secs\n",
      "Ready.\n",
      "Reading 0 ... 14500  =      0.000 ...    58.000 secs...\n"
     ]
    },
    {
     "name": "stderr",
     "output_type": "stream",
     "text": [
      "C:\\Users\\PESYLV~1\\AppData\\Local\\Temp/ipykernel_29536/564882533.py:16: FutureWarning: The frame.append method is deprecated and will be removed from pandas in a future version. Use pandas.concat instead.\n",
      "  df = df.append({\"data\": rawpd, \"age\": int(mlab[:2])+2.5}, ignore_index=True)\n"
     ]
    },
    {
     "name": "stdout",
     "output_type": "stream",
     "text": [
      "<class 'list'>\n",
      "Opening raw data file C:/Users/pesylvestre/Documents/Informatique/BRAIL/FY2023 In-House PoC3/In-HousePOC3/in_housepoc3/data/Lemon_PreDict\\sub-032326\\sub-032326_EO4_eeg.fif...\n",
      "Isotrak not found\n",
      "    Range : 110759 ... 125260 =    443.036 ...   501.040 secs\n",
      "Ready.\n",
      "Reading 0 ... 14501  =      0.000 ...    58.004 secs...\n"
     ]
    },
    {
     "name": "stderr",
     "output_type": "stream",
     "text": [
      "C:\\Users\\PESYLV~1\\AppData\\Local\\Temp/ipykernel_29536/564882533.py:16: FutureWarning: The frame.append method is deprecated and will be removed from pandas in a future version. Use pandas.concat instead.\n",
      "  df = df.append({\"data\": rawpd, \"age\": int(mlab[:2])+2.5}, ignore_index=True)\n"
     ]
    },
    {
     "name": "stdout",
     "output_type": "stream",
     "text": [
      "<class 'list'>\n",
      "Opening raw data file C:/Users/pesylvestre/Documents/Informatique/BRAIL/FY2023 In-House PoC3/In-HousePOC3/in_housepoc3/data/Lemon_PreDict\\sub-032326\\sub-032326_EO5_eeg.fif...\n"
     ]
    },
    {
     "name": "stderr",
     "output_type": "stream",
     "text": [
      "C:\\Users\\PESYLV~1\\AppData\\Local\\Temp/ipykernel_29536/564882533.py:16: FutureWarning: The frame.append method is deprecated and will be removed from pandas in a future version. Use pandas.concat instead.\n",
      "  df = df.append({\"data\": rawpd, \"age\": int(mlab[:2])+2.5}, ignore_index=True)\n"
     ]
    },
    {
     "name": "stdout",
     "output_type": "stream",
     "text": [
      "Isotrak not found\n",
      "    Range : 145211 ... 159711 =    580.844 ...   638.844 secs\n",
      "Ready.\n",
      "Reading 0 ... 14500  =      0.000 ...    58.000 secs...\n",
      "<class 'list'>\n",
      "Opening raw data file C:/Users/pesylvestre/Documents/Informatique/BRAIL/FY2023 In-House PoC3/In-HousePOC3/in_housepoc3/data/Lemon_PreDict\\sub-032326\\sub-032326_EO6_eeg.fif...\n",
      "Isotrak not found\n",
      "    Range : 176345 ... 190845 =    705.380 ...   763.380 secs\n",
      "Ready.\n",
      "Reading 0 ... 14500  =      0.000 ...    58.000 secs...\n"
     ]
    },
    {
     "name": "stderr",
     "output_type": "stream",
     "text": [
      "C:\\Users\\PESYLV~1\\AppData\\Local\\Temp/ipykernel_29536/564882533.py:16: FutureWarning: The frame.append method is deprecated and will be removed from pandas in a future version. Use pandas.concat instead.\n",
      "  df = df.append({\"data\": rawpd, \"age\": int(mlab[:2])+2.5}, ignore_index=True)\n"
     ]
    },
    {
     "name": "stdout",
     "output_type": "stream",
     "text": [
      "<class 'list'>\n",
      "Opening raw data file C:/Users/pesylvestre/Documents/Informatique/BRAIL/FY2023 In-House PoC3/In-HousePOC3/in_housepoc3/data/Lemon_PreDict\\sub-032326\\sub-032326_EO7_eeg.fif...\n",
      "Isotrak not found\n",
      "    Range : 213771 ... 228271 =    855.084 ...   913.084 secs\n",
      "Ready.\n",
      "Reading 0 ... 14500  =      0.000 ...    58.000 secs...\n"
     ]
    },
    {
     "name": "stderr",
     "output_type": "stream",
     "text": [
      "C:\\Users\\PESYLV~1\\AppData\\Local\\Temp/ipykernel_29536/564882533.py:16: FutureWarning: The frame.append method is deprecated and will be removed from pandas in a future version. Use pandas.concat instead.\n",
      "  df = df.append({\"data\": rawpd, \"age\": int(mlab[:2])+2.5}, ignore_index=True)\n"
     ]
    },
    {
     "name": "stdout",
     "output_type": "stream",
     "text": [
      "<class 'list'>\n",
      "Opening raw data file C:/Users/pesylvestre/Documents/Informatique/BRAIL/FY2023 In-House PoC3/In-HousePOC3/in_housepoc3/data/Lemon_PreDict\\sub-032326\\sub-032326_EO8_eeg.fif...\n"
     ]
    },
    {
     "name": "stderr",
     "output_type": "stream",
     "text": [
      "C:\\Users\\PESYLV~1\\AppData\\Local\\Temp/ipykernel_29536/564882533.py:16: FutureWarning: The frame.append method is deprecated and will be removed from pandas in a future version. Use pandas.concat instead.\n",
      "  df = df.append({\"data\": rawpd, \"age\": int(mlab[:2])+2.5}, ignore_index=True)\n"
     ]
    },
    {
     "name": "stdout",
     "output_type": "stream",
     "text": [
      "Isotrak not found\n",
      "    Range : 244900 ... 259400 =    979.600 ...  1037.600 secs\n",
      "Ready.\n",
      "Reading 0 ... 14500  =      0.000 ...    58.000 secs...\n",
      "<class 'list'>\n",
      "Opening raw data file C:/Users/pesylvestre/Documents/Informatique/BRAIL/FY2023 In-House PoC3/In-HousePOC3/in_housepoc3/data/Lemon_PreDict\\sub-032327\\sub-032327_EC1_eeg.fif...\n",
      "Isotrak not found\n",
      "    Range : 5120 ... 19620 =     20.480 ...    78.480 secs\n",
      "Ready.\n",
      "Reading 0 ... 14500  =      0.000 ...    58.000 secs...\n"
     ]
    },
    {
     "name": "stderr",
     "output_type": "stream",
     "text": [
      "C:\\Users\\PESYLV~1\\AppData\\Local\\Temp/ipykernel_29536/564882533.py:16: FutureWarning: The frame.append method is deprecated and will be removed from pandas in a future version. Use pandas.concat instead.\n",
      "  df = df.append({\"data\": rawpd, \"age\": int(mlab[:2])+2.5}, ignore_index=True)\n"
     ]
    },
    {
     "name": "stdout",
     "output_type": "stream",
     "text": [
      "<class 'list'>\n",
      "Opening raw data file C:/Users/pesylvestre/Documents/Informatique/BRAIL/FY2023 In-House PoC3/In-HousePOC3/in_housepoc3/data/Lemon_PreDict\\sub-032327\\sub-032327_EC2_eeg.fif...\n",
      "Isotrak not found\n",
      "    Range : 35980 ... 50480 =    143.920 ...   201.920 secs\n",
      "Ready.\n",
      "Reading 0 ... 14500  =      0.000 ...    58.000 secs...\n"
     ]
    },
    {
     "name": "stderr",
     "output_type": "stream",
     "text": [
      "C:\\Users\\PESYLV~1\\AppData\\Local\\Temp/ipykernel_29536/564882533.py:16: FutureWarning: The frame.append method is deprecated and will be removed from pandas in a future version. Use pandas.concat instead.\n",
      "  df = df.append({\"data\": rawpd, \"age\": int(mlab[:2])+2.5}, ignore_index=True)\n"
     ]
    },
    {
     "name": "stdout",
     "output_type": "stream",
     "text": [
      "<class 'list'>\n",
      "Opening raw data file C:/Users/pesylvestre/Documents/Informatique/BRAIL/FY2023 In-House PoC3/In-HousePOC3/in_housepoc3/data/Lemon_PreDict\\sub-032327\\sub-032327_EC3_eeg.fif...\n",
      "Isotrak not found\n",
      "    Range : 66999 ... 81500 =    267.996 ...   326.000 secs\n",
      "Ready.\n",
      "Reading 0 ... 14501  =      0.000 ...    58.004 secs...\n"
     ]
    },
    {
     "name": "stderr",
     "output_type": "stream",
     "text": [
      "C:\\Users\\PESYLV~1\\AppData\\Local\\Temp/ipykernel_29536/564882533.py:16: FutureWarning: The frame.append method is deprecated and will be removed from pandas in a future version. Use pandas.concat instead.\n",
      "  df = df.append({\"data\": rawpd, \"age\": int(mlab[:2])+2.5}, ignore_index=True)\n"
     ]
    },
    {
     "name": "stdout",
     "output_type": "stream",
     "text": [
      "<class 'list'>\n",
      "Opening raw data file C:/Users/pesylvestre/Documents/Informatique/BRAIL/FY2023 In-House PoC3/In-HousePOC3/in_housepoc3/data/Lemon_PreDict\\sub-032327\\sub-032327_EC4_eeg.fif...\n",
      "Isotrak not found\n",
      "    Range : 98244 ... 112744 =    392.976 ...   450.976 secs\n",
      "Ready.\n",
      "Reading 0 ... 14500  =      0.000 ...    58.000 secs...\n"
     ]
    },
    {
     "name": "stderr",
     "output_type": "stream",
     "text": [
      "C:\\Users\\PESYLV~1\\AppData\\Local\\Temp/ipykernel_29536/564882533.py:16: FutureWarning: The frame.append method is deprecated and will be removed from pandas in a future version. Use pandas.concat instead.\n",
      "  df = df.append({\"data\": rawpd, \"age\": int(mlab[:2])+2.5}, ignore_index=True)\n"
     ]
    },
    {
     "name": "stdout",
     "output_type": "stream",
     "text": [
      "<class 'list'>\n",
      "Opening raw data file C:/Users/pesylvestre/Documents/Informatique/BRAIL/FY2023 In-House PoC3/In-HousePOC3/in_housepoc3/data/Lemon_PreDict\\sub-032327\\sub-032327_EC5_eeg.fif...\n",
      "Isotrak not found\n",
      "    Range : 129315 ... 143815 =    517.260 ...   575.260 secs\n",
      "Ready.\n",
      "Reading 0 ... 14500  =      0.000 ...    58.000 secs...\n"
     ]
    },
    {
     "name": "stderr",
     "output_type": "stream",
     "text": [
      "C:\\Users\\PESYLV~1\\AppData\\Local\\Temp/ipykernel_29536/564882533.py:16: FutureWarning: The frame.append method is deprecated and will be removed from pandas in a future version. Use pandas.concat instead.\n",
      "  df = df.append({\"data\": rawpd, \"age\": int(mlab[:2])+2.5}, ignore_index=True)\n"
     ]
    },
    {
     "name": "stdout",
     "output_type": "stream",
     "text": [
      "<class 'list'>\n",
      "Opening raw data file C:/Users/pesylvestre/Documents/Informatique/BRAIL/FY2023 In-House PoC3/In-HousePOC3/in_housepoc3/data/Lemon_PreDict\\sub-032327\\sub-032327_EC6_eeg.fif...\n",
      "Isotrak not found\n",
      "    Range : 161203 ... 175703 =    644.812 ...   702.812 secs\n",
      "Ready.\n",
      "Reading 0 ... 14500  =      0.000 ...    58.000 secs...\n",
      "<class 'list'>\n"
     ]
    },
    {
     "name": "stderr",
     "output_type": "stream",
     "text": [
      "C:\\Users\\PESYLV~1\\AppData\\Local\\Temp/ipykernel_29536/564882533.py:16: FutureWarning: The frame.append method is deprecated and will be removed from pandas in a future version. Use pandas.concat instead.\n",
      "  df = df.append({\"data\": rawpd, \"age\": int(mlab[:2])+2.5}, ignore_index=True)\n"
     ]
    },
    {
     "name": "stdout",
     "output_type": "stream",
     "text": [
      "Opening raw data file C:/Users/pesylvestre/Documents/Informatique/BRAIL/FY2023 In-House PoC3/In-HousePOC3/in_housepoc3/data/Lemon_PreDict\\sub-032327\\sub-032327_EC7_eeg.fif...\n",
      "Isotrak not found\n",
      "    Range : 192304 ... 206804 =    769.216 ...   827.216 secs\n",
      "Ready.\n",
      "Reading 0 ... 14500  =      0.000 ...    58.000 secs...\n"
     ]
    },
    {
     "name": "stderr",
     "output_type": "stream",
     "text": [
      "C:\\Users\\PESYLV~1\\AppData\\Local\\Temp/ipykernel_29536/564882533.py:16: FutureWarning: The frame.append method is deprecated and will be removed from pandas in a future version. Use pandas.concat instead.\n",
      "  df = df.append({\"data\": rawpd, \"age\": int(mlab[:2])+2.5}, ignore_index=True)\n"
     ]
    },
    {
     "name": "stdout",
     "output_type": "stream",
     "text": [
      "<class 'list'>\n",
      "Opening raw data file C:/Users/pesylvestre/Documents/Informatique/BRAIL/FY2023 In-House PoC3/In-HousePOC3/in_housepoc3/data/Lemon_PreDict\\sub-032327\\sub-032327_EC8_eeg.fif...\n",
      "Isotrak not found\n",
      "    Range : 224496 ... 238997 =    897.984 ...   955.988 secs\n",
      "Ready.\n",
      "Reading 0 ... 14501  =      0.000 ...    58.004 secs...\n"
     ]
    },
    {
     "name": "stderr",
     "output_type": "stream",
     "text": [
      "C:\\Users\\PESYLV~1\\AppData\\Local\\Temp/ipykernel_29536/564882533.py:16: FutureWarning: The frame.append method is deprecated and will be removed from pandas in a future version. Use pandas.concat instead.\n",
      "  df = df.append({\"data\": rawpd, \"age\": int(mlab[:2])+2.5}, ignore_index=True)\n"
     ]
    },
    {
     "name": "stdout",
     "output_type": "stream",
     "text": [
      "<class 'list'>\n",
      "Opening raw data file C:/Users/pesylvestre/Documents/Informatique/BRAIL/FY2023 In-House PoC3/In-HousePOC3/in_housepoc3/data/Lemon_PreDict\\sub-032327\\sub-032327_EO1_eeg.fif...\n"
     ]
    },
    {
     "name": "stderr",
     "output_type": "stream",
     "text": [
      "C:\\Users\\PESYLV~1\\AppData\\Local\\Temp/ipykernel_29536/564882533.py:16: FutureWarning: The frame.append method is deprecated and will be removed from pandas in a future version. Use pandas.concat instead.\n",
      "  df = df.append({\"data\": rawpd, \"age\": int(mlab[:2])+2.5}, ignore_index=True)\n"
     ]
    },
    {
     "name": "stdout",
     "output_type": "stream",
     "text": [
      "Isotrak not found\n",
      "    Range : 20505 ... 35005 =     82.020 ...   140.020 secs\n",
      "Ready.\n",
      "Reading 0 ... 14500  =      0.000 ...    58.000 secs...\n",
      "<class 'list'>\n",
      "Opening raw data file C:/Users/pesylvestre/Documents/Informatique/BRAIL/FY2023 In-House PoC3/In-HousePOC3/in_housepoc3/data/Lemon_PreDict\\sub-032327\\sub-032327_EO2_eeg.fif...\n",
      "Isotrak not found\n",
      "    Range : 51473 ... 65973 =    205.892 ...   263.892 secs\n",
      "Ready.\n",
      "Reading 0 ... 14500  =      0.000 ...    58.000 secs...\n"
     ]
    },
    {
     "name": "stderr",
     "output_type": "stream",
     "text": [
      "C:\\Users\\PESYLV~1\\AppData\\Local\\Temp/ipykernel_29536/564882533.py:16: FutureWarning: The frame.append method is deprecated and will be removed from pandas in a future version. Use pandas.concat instead.\n",
      "  df = df.append({\"data\": rawpd, \"age\": int(mlab[:2])+2.5}, ignore_index=True)\n"
     ]
    },
    {
     "name": "stdout",
     "output_type": "stream",
     "text": [
      "<class 'list'>\n",
      "Opening raw data file C:/Users/pesylvestre/Documents/Informatique/BRAIL/FY2023 In-House PoC3/In-HousePOC3/in_housepoc3/data/Lemon_PreDict\\sub-032327\\sub-032327_EO3_eeg.fif...\n",
      "Isotrak not found\n",
      "    Range : 82656 ... 97156 =    330.624 ...   388.624 secs\n",
      "Ready.\n",
      "Reading 0 ... 14500  =      0.000 ...    58.000 secs...\n"
     ]
    },
    {
     "name": "stderr",
     "output_type": "stream",
     "text": [
      "C:\\Users\\PESYLV~1\\AppData\\Local\\Temp/ipykernel_29536/564882533.py:16: FutureWarning: The frame.append method is deprecated and will be removed from pandas in a future version. Use pandas.concat instead.\n",
      "  df = df.append({\"data\": rawpd, \"age\": int(mlab[:2])+2.5}, ignore_index=True)\n"
     ]
    },
    {
     "name": "stdout",
     "output_type": "stream",
     "text": [
      "<class 'list'>\n",
      "Opening raw data file C:/Users/pesylvestre/Documents/Informatique/BRAIL/FY2023 In-House PoC3/In-HousePOC3/in_housepoc3/data/Lemon_PreDict\\sub-032327\\sub-032327_EO4_eeg.fif...\n"
     ]
    },
    {
     "name": "stderr",
     "output_type": "stream",
     "text": [
      "C:\\Users\\PESYLV~1\\AppData\\Local\\Temp/ipykernel_29536/564882533.py:16: FutureWarning: The frame.append method is deprecated and will be removed from pandas in a future version. Use pandas.concat instead.\n",
      "  df = df.append({\"data\": rawpd, \"age\": int(mlab[:2])+2.5}, ignore_index=True)\n"
     ]
    },
    {
     "name": "stdout",
     "output_type": "stream",
     "text": [
      "Isotrak not found\n",
      "    Range : 113838 ... 128338 =    455.352 ...   513.352 secs\n",
      "Ready.\n",
      "Reading 0 ... 14500  =      0.000 ...    58.000 secs...\n",
      "<class 'list'>\n",
      "Opening raw data file C:/Users/pesylvestre/Documents/Informatique/BRAIL/FY2023 In-House PoC3/In-HousePOC3/in_housepoc3/data/Lemon_PreDict\\sub-032327\\sub-032327_EO5_eeg.fif...\n"
     ]
    },
    {
     "name": "stderr",
     "output_type": "stream",
     "text": [
      "C:\\Users\\PESYLV~1\\AppData\\Local\\Temp/ipykernel_29536/564882533.py:16: FutureWarning: The frame.append method is deprecated and will be removed from pandas in a future version. Use pandas.concat instead.\n",
      "  df = df.append({\"data\": rawpd, \"age\": int(mlab[:2])+2.5}, ignore_index=True)\n"
     ]
    },
    {
     "name": "stdout",
     "output_type": "stream",
     "text": [
      "Isotrak not found\n",
      "    Range : 144752 ... 159252 =    579.008 ...   637.008 secs\n",
      "Ready.\n",
      "Reading 0 ... 14500  =      0.000 ...    58.000 secs...\n",
      "<class 'list'>\n",
      "Opening raw data file C:/Users/pesylvestre/Documents/Informatique/BRAIL/FY2023 In-House PoC3/In-HousePOC3/in_housepoc3/data/Lemon_PreDict\\sub-032327\\sub-032327_EO6_eeg.fif...\n"
     ]
    },
    {
     "name": "stderr",
     "output_type": "stream",
     "text": [
      "C:\\Users\\PESYLV~1\\AppData\\Local\\Temp/ipykernel_29536/564882533.py:16: FutureWarning: The frame.append method is deprecated and will be removed from pandas in a future version. Use pandas.concat instead.\n",
      "  df = df.append({\"data\": rawpd, \"age\": int(mlab[:2])+2.5}, ignore_index=True)\n"
     ]
    },
    {
     "name": "stdout",
     "output_type": "stream",
     "text": [
      "Isotrak not found\n",
      "    Range : 176799 ... 191299 =    707.196 ...   765.196 secs\n",
      "Ready.\n",
      "Reading 0 ... 14500  =      0.000 ...    58.000 secs...\n",
      "<class 'list'>\n"
     ]
    },
    {
     "name": "stderr",
     "output_type": "stream",
     "text": [
      "C:\\Users\\PESYLV~1\\AppData\\Local\\Temp/ipykernel_29536/564882533.py:16: FutureWarning: The frame.append method is deprecated and will be removed from pandas in a future version. Use pandas.concat instead.\n",
      "  df = df.append({\"data\": rawpd, \"age\": int(mlab[:2])+2.5}, ignore_index=True)\n"
     ]
    },
    {
     "name": "stdout",
     "output_type": "stream",
     "text": [
      "Opening raw data file C:/Users/pesylvestre/Documents/Informatique/BRAIL/FY2023 In-House PoC3/In-HousePOC3/in_housepoc3/data/Lemon_PreDict\\sub-032327\\sub-032327_EO7_eeg.fif...\n",
      "Isotrak not found\n",
      "    Range : 208730 ... 223231 =    834.920 ...   892.924 secs\n",
      "Ready.\n",
      "Reading 0 ... 14501  =      0.000 ...    58.004 secs...\n",
      "<class 'list'>\n",
      "Opening raw data file C:/Users/pesylvestre/Documents/Informatique/BRAIL/FY2023 In-House PoC3/In-HousePOC3/in_housepoc3/data/Lemon_PreDict\\sub-032327\\sub-032327_EO8_eeg.fif...\n"
     ]
    },
    {
     "name": "stderr",
     "output_type": "stream",
     "text": [
      "C:\\Users\\PESYLV~1\\AppData\\Local\\Temp/ipykernel_29536/564882533.py:16: FutureWarning: The frame.append method is deprecated and will be removed from pandas in a future version. Use pandas.concat instead.\n",
      "  df = df.append({\"data\": rawpd, \"age\": int(mlab[:2])+2.5}, ignore_index=True)\n"
     ]
    },
    {
     "name": "stdout",
     "output_type": "stream",
     "text": [
      "Isotrak not found\n",
      "    Range : 240011 ... 254511 =    960.044 ...  1018.044 secs\n",
      "Ready.\n",
      "Reading 0 ... 14500  =      0.000 ...    58.000 secs...\n",
      "<class 'list'>\n",
      "Opening raw data file C:/Users/pesylvestre/Documents/Informatique/BRAIL/FY2023 In-House PoC3/In-HousePOC3/in_housepoc3/data/Lemon_PreDict\\sub-032328\\sub-032328_EC1_eeg.fif...\n",
      "Isotrak not found\n",
      "    Range : 5835 ... 20335 =     23.340 ...    81.340 secs\n",
      "Ready.\n",
      "Reading 0 ... 14500  =      0.000 ...    58.000 secs...\n"
     ]
    },
    {
     "name": "stderr",
     "output_type": "stream",
     "text": [
      "C:\\Users\\PESYLV~1\\AppData\\Local\\Temp/ipykernel_29536/564882533.py:16: FutureWarning: The frame.append method is deprecated and will be removed from pandas in a future version. Use pandas.concat instead.\n",
      "  df = df.append({\"data\": rawpd, \"age\": int(mlab[:2])+2.5}, ignore_index=True)\n"
     ]
    },
    {
     "name": "stdout",
     "output_type": "stream",
     "text": [
      "<class 'list'>\n",
      "Opening raw data file C:/Users/pesylvestre/Documents/Informatique/BRAIL/FY2023 In-House PoC3/In-HousePOC3/in_housepoc3/data/Lemon_PreDict\\sub-032328\\sub-032328_EC2_eeg.fif...\n",
      "Isotrak not found\n",
      "    Range : 39594 ... 54094 =    158.376 ...   216.376 secs\n",
      "Ready.\n",
      "Reading 0 ... 14500  =      0.000 ...    58.000 secs...\n"
     ]
    },
    {
     "name": "stderr",
     "output_type": "stream",
     "text": [
      "C:\\Users\\PESYLV~1\\AppData\\Local\\Temp/ipykernel_29536/564882533.py:16: FutureWarning: The frame.append method is deprecated and will be removed from pandas in a future version. Use pandas.concat instead.\n",
      "  df = df.append({\"data\": rawpd, \"age\": int(mlab[:2])+2.5}, ignore_index=True)\n"
     ]
    },
    {
     "name": "stdout",
     "output_type": "stream",
     "text": [
      "<class 'list'>\n",
      "Opening raw data file C:/Users/pesylvestre/Documents/Informatique/BRAIL/FY2023 In-House PoC3/In-HousePOC3/in_housepoc3/data/Lemon_PreDict\\sub-032328\\sub-032328_EC3_eeg.fif...\n",
      "Isotrak not found\n",
      "    Range : 70880 ... 85380 =    283.520 ...   341.520 secs\n",
      "Ready.\n",
      "Reading 0 ... 14500  =      0.000 ...    58.000 secs...\n"
     ]
    },
    {
     "name": "stderr",
     "output_type": "stream",
     "text": [
      "C:\\Users\\PESYLV~1\\AppData\\Local\\Temp/ipykernel_29536/564882533.py:16: FutureWarning: The frame.append method is deprecated and will be removed from pandas in a future version. Use pandas.concat instead.\n",
      "  df = df.append({\"data\": rawpd, \"age\": int(mlab[:2])+2.5}, ignore_index=True)\n"
     ]
    },
    {
     "name": "stdout",
     "output_type": "stream",
     "text": [
      "<class 'list'>\n",
      "Opening raw data file C:/Users/pesylvestre/Documents/Informatique/BRAIL/FY2023 In-House PoC3/In-HousePOC3/in_housepoc3/data/Lemon_PreDict\\sub-032328\\sub-032328_EC4_eeg.fif...\n",
      "Isotrak not found\n",
      "    Range : 102362 ... 116863 =    409.448 ...   467.452 secs\n",
      "Ready.\n",
      "Reading 0 ... 14501  =      0.000 ...    58.004 secs...\n"
     ]
    },
    {
     "name": "stderr",
     "output_type": "stream",
     "text": [
      "C:\\Users\\PESYLV~1\\AppData\\Local\\Temp/ipykernel_29536/564882533.py:16: FutureWarning: The frame.append method is deprecated and will be removed from pandas in a future version. Use pandas.concat instead.\n",
      "  df = df.append({\"data\": rawpd, \"age\": int(mlab[:2])+2.5}, ignore_index=True)\n"
     ]
    },
    {
     "name": "stdout",
     "output_type": "stream",
     "text": [
      "<class 'list'>\n",
      "Opening raw data file C:/Users/pesylvestre/Documents/Informatique/BRAIL/FY2023 In-House PoC3/In-HousePOC3/in_housepoc3/data/Lemon_PreDict\\sub-032328\\sub-032328_EC5_eeg.fif...\n",
      "Isotrak not found\n",
      "    Range : 133165 ... 147665 =    532.660 ...   590.660 secs\n",
      "Ready.\n",
      "Reading 0 ... 14500  =      0.000 ...    58.000 secs...\n"
     ]
    },
    {
     "name": "stderr",
     "output_type": "stream",
     "text": [
      "C:\\Users\\PESYLV~1\\AppData\\Local\\Temp/ipykernel_29536/564882533.py:16: FutureWarning: The frame.append method is deprecated and will be removed from pandas in a future version. Use pandas.concat instead.\n",
      "  df = df.append({\"data\": rawpd, \"age\": int(mlab[:2])+2.5}, ignore_index=True)\n"
     ]
    },
    {
     "name": "stdout",
     "output_type": "stream",
     "text": [
      "<class 'list'>\n",
      "Opening raw data file C:/Users/pesylvestre/Documents/Informatique/BRAIL/FY2023 In-House PoC3/In-HousePOC3/in_housepoc3/data/Lemon_PreDict\\sub-032328\\sub-032328_EC6_eeg.fif...\n",
      "Isotrak not found\n",
      "    Range : 164693 ... 179193 =    658.772 ...   716.772 secs\n",
      "Ready.\n",
      "Reading 0 ... 14500  =      0.000 ...    58.000 secs...\n"
     ]
    },
    {
     "name": "stderr",
     "output_type": "stream",
     "text": [
      "C:\\Users\\PESYLV~1\\AppData\\Local\\Temp/ipykernel_29536/564882533.py:16: FutureWarning: The frame.append method is deprecated and will be removed from pandas in a future version. Use pandas.concat instead.\n",
      "  df = df.append({\"data\": rawpd, \"age\": int(mlab[:2])+2.5}, ignore_index=True)\n"
     ]
    },
    {
     "name": "stdout",
     "output_type": "stream",
     "text": [
      "<class 'list'>\n",
      "Opening raw data file C:/Users/pesylvestre/Documents/Informatique/BRAIL/FY2023 In-House PoC3/In-HousePOC3/in_housepoc3/data/Lemon_PreDict\\sub-032328\\sub-032328_EC7_eeg.fif...\n",
      "Isotrak not found\n",
      "    Range : 195806 ... 210306 =    783.224 ...   841.224 secs\n",
      "Ready.\n",
      "Reading 0 ... 14500  =      0.000 ...    58.000 secs...\n"
     ]
    },
    {
     "name": "stderr",
     "output_type": "stream",
     "text": [
      "C:\\Users\\PESYLV~1\\AppData\\Local\\Temp/ipykernel_29536/564882533.py:16: FutureWarning: The frame.append method is deprecated and will be removed from pandas in a future version. Use pandas.concat instead.\n",
      "  df = df.append({\"data\": rawpd, \"age\": int(mlab[:2])+2.5}, ignore_index=True)\n"
     ]
    },
    {
     "name": "stdout",
     "output_type": "stream",
     "text": [
      "<class 'list'>\n",
      "Opening raw data file C:/Users/pesylvestre/Documents/Informatique/BRAIL/FY2023 In-House PoC3/In-HousePOC3/in_housepoc3/data/Lemon_PreDict\\sub-032328\\sub-032328_EC8_eeg.fif...\n",
      "Isotrak not found\n",
      "    Range : 227787 ... 242288 =    911.148 ...   969.152 secs\n",
      "Ready.\n",
      "Reading 0 ... 14501  =      0.000 ...    58.004 secs...\n"
     ]
    },
    {
     "name": "stderr",
     "output_type": "stream",
     "text": [
      "C:\\Users\\PESYLV~1\\AppData\\Local\\Temp/ipykernel_29536/564882533.py:16: FutureWarning: The frame.append method is deprecated and will be removed from pandas in a future version. Use pandas.concat instead.\n",
      "  df = df.append({\"data\": rawpd, \"age\": int(mlab[:2])+2.5}, ignore_index=True)\n"
     ]
    },
    {
     "name": "stdout",
     "output_type": "stream",
     "text": [
      "<class 'list'>\n",
      "Opening raw data file C:/Users/pesylvestre/Documents/Informatique/BRAIL/FY2023 In-House PoC3/In-HousePOC3/in_housepoc3/data/Lemon_PreDict\\sub-032328\\sub-032328_EO1_eeg.fif...\n",
      "Isotrak not found\n",
      "    Range : 21312 ... 35813 =     85.248 ...   143.252 secs\n",
      "Ready.\n",
      "Reading 0 ... 14501  =      0.000 ...    58.004 secs...\n"
     ]
    },
    {
     "name": "stderr",
     "output_type": "stream",
     "text": [
      "C:\\Users\\PESYLV~1\\AppData\\Local\\Temp/ipykernel_29536/564882533.py:16: FutureWarning: The frame.append method is deprecated and will be removed from pandas in a future version. Use pandas.concat instead.\n",
      "  df = df.append({\"data\": rawpd, \"age\": int(mlab[:2])+2.5}, ignore_index=True)\n"
     ]
    },
    {
     "name": "stdout",
     "output_type": "stream",
     "text": [
      "<class 'list'>\n",
      "Opening raw data file C:/Users/pesylvestre/Documents/Informatique/BRAIL/FY2023 In-House PoC3/In-HousePOC3/in_housepoc3/data/Lemon_PreDict\\sub-032328\\sub-032328_EO2_eeg.fif...\n",
      "Isotrak not found\n",
      "    Range : 55423 ... 69923 =    221.692 ...   279.692 secs\n",
      "Ready.\n",
      "Reading 0 ... 14500  =      0.000 ...    58.000 secs...\n"
     ]
    },
    {
     "name": "stderr",
     "output_type": "stream",
     "text": [
      "C:\\Users\\PESYLV~1\\AppData\\Local\\Temp/ipykernel_29536/564882533.py:16: FutureWarning: The frame.append method is deprecated and will be removed from pandas in a future version. Use pandas.concat instead.\n",
      "  df = df.append({\"data\": rawpd, \"age\": int(mlab[:2])+2.5}, ignore_index=True)\n"
     ]
    },
    {
     "name": "stdout",
     "output_type": "stream",
     "text": [
      "<class 'list'>\n",
      "Opening raw data file C:/Users/pesylvestre/Documents/Informatique/BRAIL/FY2023 In-House PoC3/In-HousePOC3/in_housepoc3/data/Lemon_PreDict\\sub-032328\\sub-032328_EO3_eeg.fif...\n",
      "Isotrak not found\n",
      "    Range : 86126 ... 100626 =    344.504 ...   402.504 secs\n",
      "Ready.\n",
      "Reading 0 ... 14500  =      0.000 ...    58.000 secs...\n"
     ]
    },
    {
     "name": "stderr",
     "output_type": "stream",
     "text": [
      "C:\\Users\\PESYLV~1\\AppData\\Local\\Temp/ipykernel_29536/564882533.py:16: FutureWarning: The frame.append method is deprecated and will be removed from pandas in a future version. Use pandas.concat instead.\n",
      "  df = df.append({\"data\": rawpd, \"age\": int(mlab[:2])+2.5}, ignore_index=True)\n"
     ]
    },
    {
     "name": "stdout",
     "output_type": "stream",
     "text": [
      "<class 'list'>\n",
      "Opening raw data file C:/Users/pesylvestre/Documents/Informatique/BRAIL/FY2023 In-House PoC3/In-HousePOC3/in_housepoc3/data/Lemon_PreDict\\sub-032328\\sub-032328_EO4_eeg.fif...\n",
      "Isotrak not found\n",
      "    Range : 117805 ... 132305 =    471.220 ...   529.220 secs\n",
      "Ready.\n",
      "Reading 0 ... 14500  =      0.000 ...    58.000 secs...\n"
     ]
    },
    {
     "name": "stderr",
     "output_type": "stream",
     "text": [
      "C:\\Users\\PESYLV~1\\AppData\\Local\\Temp/ipykernel_29536/564882533.py:16: FutureWarning: The frame.append method is deprecated and will be removed from pandas in a future version. Use pandas.concat instead.\n",
      "  df = df.append({\"data\": rawpd, \"age\": int(mlab[:2])+2.5}, ignore_index=True)\n"
     ]
    },
    {
     "name": "stdout",
     "output_type": "stream",
     "text": [
      "<class 'list'>\n",
      "Opening raw data file C:/Users/pesylvestre/Documents/Informatique/BRAIL/FY2023 In-House PoC3/In-HousePOC3/in_housepoc3/data/Lemon_PreDict\\sub-032328\\sub-032328_EO5_eeg.fif...\n",
      "Isotrak not found\n",
      "    Range : 149208 ... 163709 =    596.832 ...   654.836 secs\n",
      "Ready.\n",
      "Reading 0 ... 14501  =      0.000 ...    58.004 secs...\n"
     ]
    },
    {
     "name": "stderr",
     "output_type": "stream",
     "text": [
      "C:\\Users\\PESYLV~1\\AppData\\Local\\Temp/ipykernel_29536/564882533.py:16: FutureWarning: The frame.append method is deprecated and will be removed from pandas in a future version. Use pandas.concat instead.\n",
      "  df = df.append({\"data\": rawpd, \"age\": int(mlab[:2])+2.5}, ignore_index=True)\n"
     ]
    },
    {
     "name": "stdout",
     "output_type": "stream",
     "text": [
      "<class 'list'>\n",
      "Opening raw data file C:/Users/pesylvestre/Documents/Informatique/BRAIL/FY2023 In-House PoC3/In-HousePOC3/in_housepoc3/data/Lemon_PreDict\\sub-032328\\sub-032328_EO6_eeg.fif...\n",
      "Isotrak not found\n",
      "    Range : 180203 ... 194704 =    720.812 ...   778.816 secs\n",
      "Ready.\n",
      "Reading 0 ... 14501  =      0.000 ...    58.004 secs...\n"
     ]
    },
    {
     "name": "stderr",
     "output_type": "stream",
     "text": [
      "C:\\Users\\PESYLV~1\\AppData\\Local\\Temp/ipykernel_29536/564882533.py:16: FutureWarning: The frame.append method is deprecated and will be removed from pandas in a future version. Use pandas.concat instead.\n",
      "  df = df.append({\"data\": rawpd, \"age\": int(mlab[:2])+2.5}, ignore_index=True)\n"
     ]
    },
    {
     "name": "stdout",
     "output_type": "stream",
     "text": [
      "<class 'list'>\n",
      "Opening raw data file C:/Users/pesylvestre/Documents/Informatique/BRAIL/FY2023 In-House PoC3/In-HousePOC3/in_housepoc3/data/Lemon_PreDict\\sub-032328\\sub-032328_EO7_eeg.fif...\n",
      "Isotrak not found\n",
      "    Range : 211259 ... 225759 =    845.036 ...   903.036 secs\n",
      "Ready.\n",
      "Reading 0 ... 14500  =      0.000 ...    58.000 secs...\n"
     ]
    },
    {
     "name": "stderr",
     "output_type": "stream",
     "text": [
      "C:\\Users\\PESYLV~1\\AppData\\Local\\Temp/ipykernel_29536/564882533.py:16: FutureWarning: The frame.append method is deprecated and will be removed from pandas in a future version. Use pandas.concat instead.\n",
      "  df = df.append({\"data\": rawpd, \"age\": int(mlab[:2])+2.5}, ignore_index=True)\n"
     ]
    },
    {
     "name": "stdout",
     "output_type": "stream",
     "text": [
      "<class 'list'>\n",
      "Opening raw data file C:/Users/pesylvestre/Documents/Informatique/BRAIL/FY2023 In-House PoC3/In-HousePOC3/in_housepoc3/data/Lemon_PreDict\\sub-032328\\sub-032328_EO8_eeg.fif...\n",
      "Isotrak not found\n",
      "    Range : 243391 ... 257891 =    973.564 ...  1031.564 secs\n",
      "Ready.\n",
      "Reading 0 ... 14500  =      0.000 ...    58.000 secs...\n"
     ]
    },
    {
     "name": "stderr",
     "output_type": "stream",
     "text": [
      "C:\\Users\\PESYLV~1\\AppData\\Local\\Temp/ipykernel_29536/564882533.py:16: FutureWarning: The frame.append method is deprecated and will be removed from pandas in a future version. Use pandas.concat instead.\n",
      "  df = df.append({\"data\": rawpd, \"age\": int(mlab[:2])+2.5}, ignore_index=True)\n"
     ]
    },
    {
     "name": "stdout",
     "output_type": "stream",
     "text": [
      "<class 'list'>\n",
      "Opening raw data file C:/Users/pesylvestre/Documents/Informatique/BRAIL/FY2023 In-House PoC3/In-HousePOC3/in_housepoc3/data/Lemon_PreDict\\sub-032329\\sub-032329_EC1_eeg.fif...\n",
      "Isotrak not found\n",
      "    Range : 1942 ... 16442 =      7.768 ...    65.768 secs\n",
      "Ready.\n",
      "Reading 0 ... 14500  =      0.000 ...    58.000 secs...\n"
     ]
    },
    {
     "name": "stderr",
     "output_type": "stream",
     "text": [
      "C:\\Users\\PESYLV~1\\AppData\\Local\\Temp/ipykernel_29536/564882533.py:16: FutureWarning: The frame.append method is deprecated and will be removed from pandas in a future version. Use pandas.concat instead.\n",
      "  df = df.append({\"data\": rawpd, \"age\": int(mlab[:2])+2.5}, ignore_index=True)\n"
     ]
    },
    {
     "name": "stdout",
     "output_type": "stream",
     "text": [
      "<class 'list'>\n",
      "Opening raw data file C:/Users/pesylvestre/Documents/Informatique/BRAIL/FY2023 In-House PoC3/In-HousePOC3/in_housepoc3/data/Lemon_PreDict\\sub-032329\\sub-032329_EC2_eeg.fif...\n",
      "Isotrak not found\n",
      "    Range : 33153 ... 47654 =    132.612 ...   190.616 secs\n",
      "Ready.\n",
      "Reading 0 ... 14501  =      0.000 ...    58.004 secs...\n"
     ]
    },
    {
     "name": "stderr",
     "output_type": "stream",
     "text": [
      "C:\\Users\\PESYLV~1\\AppData\\Local\\Temp/ipykernel_29536/564882533.py:16: FutureWarning: The frame.append method is deprecated and will be removed from pandas in a future version. Use pandas.concat instead.\n",
      "  df = df.append({\"data\": rawpd, \"age\": int(mlab[:2])+2.5}, ignore_index=True)\n"
     ]
    },
    {
     "name": "stdout",
     "output_type": "stream",
     "text": [
      "<class 'list'>\n",
      "Opening raw data file C:/Users/pesylvestre/Documents/Informatique/BRAIL/FY2023 In-House PoC3/In-HousePOC3/in_housepoc3/data/Lemon_PreDict\\sub-032329\\sub-032329_EC3_eeg.fif...\n",
      "Isotrak not found\n",
      "    Range : 64044 ... 78544 =    256.176 ...   314.176 secs\n",
      "Ready.\n",
      "Reading 0 ... 14500  =      0.000 ...    58.000 secs...\n"
     ]
    },
    {
     "name": "stderr",
     "output_type": "stream",
     "text": [
      "C:\\Users\\PESYLV~1\\AppData\\Local\\Temp/ipykernel_29536/564882533.py:16: FutureWarning: The frame.append method is deprecated and will be removed from pandas in a future version. Use pandas.concat instead.\n",
      "  df = df.append({\"data\": rawpd, \"age\": int(mlab[:2])+2.5}, ignore_index=True)\n"
     ]
    },
    {
     "name": "stdout",
     "output_type": "stream",
     "text": [
      "<class 'list'>\n",
      "Opening raw data file C:/Users/pesylvestre/Documents/Informatique/BRAIL/FY2023 In-House PoC3/In-HousePOC3/in_housepoc3/data/Lemon_PreDict\\sub-032329\\sub-032329_EC4_eeg.fif...\n",
      "Isotrak not found\n",
      "    Range : 94970 ... 109470 =    379.880 ...   437.880 secs\n",
      "Ready.\n",
      "Reading 0 ... 14500  =      0.000 ...    58.000 secs...\n",
      "<class 'list'>\n"
     ]
    },
    {
     "name": "stderr",
     "output_type": "stream",
     "text": [
      "C:\\Users\\PESYLV~1\\AppData\\Local\\Temp/ipykernel_29536/564882533.py:16: FutureWarning: The frame.append method is deprecated and will be removed from pandas in a future version. Use pandas.concat instead.\n",
      "  df = df.append({\"data\": rawpd, \"age\": int(mlab[:2])+2.5}, ignore_index=True)\n"
     ]
    },
    {
     "name": "stdout",
     "output_type": "stream",
     "text": [
      "Opening raw data file C:/Users/pesylvestre/Documents/Informatique/BRAIL/FY2023 In-House PoC3/In-HousePOC3/in_housepoc3/data/Lemon_PreDict\\sub-032329\\sub-032329_EC5_eeg.fif...\n"
     ]
    },
    {
     "name": "stderr",
     "output_type": "stream",
     "text": [
      "C:\\Users\\PESYLV~1\\AppData\\Local\\Temp/ipykernel_29536/564882533.py:16: FutureWarning: The frame.append method is deprecated and will be removed from pandas in a future version. Use pandas.concat instead.\n",
      "  df = df.append({\"data\": rawpd, \"age\": int(mlab[:2])+2.5}, ignore_index=True)\n"
     ]
    },
    {
     "name": "stdout",
     "output_type": "stream",
     "text": [
      "Isotrak not found\n",
      "    Range : 125916 ... 140417 =    503.664 ...   561.668 secs\n",
      "Ready.\n",
      "Reading 0 ... 14501  =      0.000 ...    58.004 secs...\n",
      "<class 'list'>\n",
      "Opening raw data file C:/Users/pesylvestre/Documents/Informatique/BRAIL/FY2023 In-House PoC3/In-HousePOC3/in_housepoc3/data/Lemon_PreDict\\sub-032329\\sub-032329_EC6_eeg.fif...\n",
      "Isotrak not found\n",
      "    Range : 156873 ... 171374 =    627.492 ...   685.496 secs\n",
      "Ready.\n",
      "Reading 0 ... 14501  =      0.000 ...    58.004 secs...\n"
     ]
    },
    {
     "name": "stderr",
     "output_type": "stream",
     "text": [
      "C:\\Users\\PESYLV~1\\AppData\\Local\\Temp/ipykernel_29536/564882533.py:16: FutureWarning: The frame.append method is deprecated and will be removed from pandas in a future version. Use pandas.concat instead.\n",
      "  df = df.append({\"data\": rawpd, \"age\": int(mlab[:2])+2.5}, ignore_index=True)\n"
     ]
    },
    {
     "name": "stdout",
     "output_type": "stream",
     "text": [
      "<class 'list'>\n",
      "Opening raw data file C:/Users/pesylvestre/Documents/Informatique/BRAIL/FY2023 In-House PoC3/In-HousePOC3/in_housepoc3/data/Lemon_PreDict\\sub-032329\\sub-032329_EC7_eeg.fif...\n",
      "Isotrak not found\n",
      "    Range : 187855 ... 202355 =    751.420 ...   809.420 secs\n",
      "Ready.\n",
      "Reading 0 ... 14500  =      0.000 ...    58.000 secs...\n"
     ]
    },
    {
     "name": "stderr",
     "output_type": "stream",
     "text": [
      "C:\\Users\\PESYLV~1\\AppData\\Local\\Temp/ipykernel_29536/564882533.py:16: FutureWarning: The frame.append method is deprecated and will be removed from pandas in a future version. Use pandas.concat instead.\n",
      "  df = df.append({\"data\": rawpd, \"age\": int(mlab[:2])+2.5}, ignore_index=True)\n"
     ]
    },
    {
     "name": "stdout",
     "output_type": "stream",
     "text": [
      "<class 'list'>\n",
      "Opening raw data file C:/Users/pesylvestre/Documents/Informatique/BRAIL/FY2023 In-House PoC3/In-HousePOC3/in_housepoc3/data/Lemon_PreDict\\sub-032329\\sub-032329_EC8_eeg.fif...\n",
      "Isotrak not found\n",
      "    Range : 220133 ... 234633 =    880.532 ...   938.532 secs\n",
      "Ready.\n",
      "Reading 0 ... 14500  =      0.000 ...    58.000 secs...\n"
     ]
    },
    {
     "name": "stderr",
     "output_type": "stream",
     "text": [
      "C:\\Users\\PESYLV~1\\AppData\\Local\\Temp/ipykernel_29536/564882533.py:16: FutureWarning: The frame.append method is deprecated and will be removed from pandas in a future version. Use pandas.concat instead.\n",
      "  df = df.append({\"data\": rawpd, \"age\": int(mlab[:2])+2.5}, ignore_index=True)\n"
     ]
    },
    {
     "name": "stdout",
     "output_type": "stream",
     "text": [
      "<class 'list'>\n",
      "Opening raw data file C:/Users/pesylvestre/Documents/Informatique/BRAIL/FY2023 In-House PoC3/In-HousePOC3/in_housepoc3/data/Lemon_PreDict\\sub-032329\\sub-032329_EO1_eeg.fif...\n",
      "Isotrak not found\n",
      "    Range : 17406 ... 31906 =     69.624 ...   127.624 secs\n",
      "Ready.\n",
      "Reading 0 ... 14500  =      0.000 ...    58.000 secs...\n"
     ]
    },
    {
     "name": "stderr",
     "output_type": "stream",
     "text": [
      "C:\\Users\\PESYLV~1\\AppData\\Local\\Temp/ipykernel_29536/564882533.py:16: FutureWarning: The frame.append method is deprecated and will be removed from pandas in a future version. Use pandas.concat instead.\n",
      "  df = df.append({\"data\": rawpd, \"age\": int(mlab[:2])+2.5}, ignore_index=True)\n"
     ]
    },
    {
     "name": "stdout",
     "output_type": "stream",
     "text": [
      "<class 'list'>\n",
      "Opening raw data file C:/Users/pesylvestre/Documents/Informatique/BRAIL/FY2023 In-House PoC3/In-HousePOC3/in_housepoc3/data/Lemon_PreDict\\sub-032329\\sub-032329_EO2_eeg.fif...\n",
      "Isotrak not found\n",
      "    Range : 48597 ... 63098 =    194.388 ...   252.392 secs\n",
      "Ready.\n",
      "Reading 0 ... 14501  =      0.000 ...    58.004 secs...\n"
     ]
    },
    {
     "name": "stderr",
     "output_type": "stream",
     "text": [
      "C:\\Users\\PESYLV~1\\AppData\\Local\\Temp/ipykernel_29536/564882533.py:16: FutureWarning: The frame.append method is deprecated and will be removed from pandas in a future version. Use pandas.concat instead.\n",
      "  df = df.append({\"data\": rawpd, \"age\": int(mlab[:2])+2.5}, ignore_index=True)\n"
     ]
    },
    {
     "name": "stdout",
     "output_type": "stream",
     "text": [
      "<class 'list'>\n",
      "Opening raw data file C:/Users/pesylvestre/Documents/Informatique/BRAIL/FY2023 In-House PoC3/In-HousePOC3/in_housepoc3/data/Lemon_PreDict\\sub-032329\\sub-032329_EO3_eeg.fif...\n",
      "Isotrak not found\n",
      "    Range : 79473 ... 93973 =    317.892 ...   375.892 secs\n",
      "Ready.\n",
      "Reading 0 ... 14500  =      0.000 ...    58.000 secs...\n"
     ]
    },
    {
     "name": "stderr",
     "output_type": "stream",
     "text": [
      "C:\\Users\\PESYLV~1\\AppData\\Local\\Temp/ipykernel_29536/564882533.py:16: FutureWarning: The frame.append method is deprecated and will be removed from pandas in a future version. Use pandas.concat instead.\n",
      "  df = df.append({\"data\": rawpd, \"age\": int(mlab[:2])+2.5}, ignore_index=True)\n"
     ]
    },
    {
     "name": "stdout",
     "output_type": "stream",
     "text": [
      "<class 'list'>\n",
      "Opening raw data file C:/Users/pesylvestre/Documents/Informatique/BRAIL/FY2023 In-House PoC3/In-HousePOC3/in_housepoc3/data/Lemon_PreDict\\sub-032329\\sub-032329_EO4_eeg.fif...\n",
      "Isotrak not found\n",
      "    Range : 110393 ... 124893 =    441.572 ...   499.572 secs\n",
      "Ready.\n",
      "Reading 0 ... 14500  =      0.000 ...    58.000 secs...\n"
     ]
    },
    {
     "name": "stderr",
     "output_type": "stream",
     "text": [
      "C:\\Users\\PESYLV~1\\AppData\\Local\\Temp/ipykernel_29536/564882533.py:16: FutureWarning: The frame.append method is deprecated and will be removed from pandas in a future version. Use pandas.concat instead.\n",
      "  df = df.append({\"data\": rawpd, \"age\": int(mlab[:2])+2.5}, ignore_index=True)\n"
     ]
    },
    {
     "name": "stdout",
     "output_type": "stream",
     "text": [
      "<class 'list'>\n",
      "Opening raw data file C:/Users/pesylvestre/Documents/Informatique/BRAIL/FY2023 In-House PoC3/In-HousePOC3/in_housepoc3/data/Lemon_PreDict\\sub-032329\\sub-032329_EO5_eeg.fif...\n",
      "Isotrak not found\n",
      "    Range : 141379 ... 155880 =    565.516 ...   623.520 secs\n",
      "Ready.\n",
      "Reading 0 ... 14501  =      0.000 ...    58.004 secs...\n"
     ]
    },
    {
     "name": "stderr",
     "output_type": "stream",
     "text": [
      "C:\\Users\\PESYLV~1\\AppData\\Local\\Temp/ipykernel_29536/564882533.py:16: FutureWarning: The frame.append method is deprecated and will be removed from pandas in a future version. Use pandas.concat instead.\n",
      "  df = df.append({\"data\": rawpd, \"age\": int(mlab[:2])+2.5}, ignore_index=True)\n"
     ]
    },
    {
     "name": "stdout",
     "output_type": "stream",
     "text": [
      "<class 'list'>\n",
      "Opening raw data file C:/Users/pesylvestre/Documents/Informatique/BRAIL/FY2023 In-House PoC3/In-HousePOC3/in_housepoc3/data/Lemon_PreDict\\sub-032329\\sub-032329_EO6_eeg.fif...\n",
      "Isotrak not found\n",
      "    Range : 172397 ... 186897 =    689.588 ...   747.588 secs\n",
      "Ready.\n",
      "Reading 0 ... 14500  =      0.000 ...    58.000 secs...\n"
     ]
    },
    {
     "name": "stderr",
     "output_type": "stream",
     "text": [
      "C:\\Users\\PESYLV~1\\AppData\\Local\\Temp/ipykernel_29536/564882533.py:16: FutureWarning: The frame.append method is deprecated and will be removed from pandas in a future version. Use pandas.concat instead.\n",
      "  df = df.append({\"data\": rawpd, \"age\": int(mlab[:2])+2.5}, ignore_index=True)\n"
     ]
    },
    {
     "name": "stdout",
     "output_type": "stream",
     "text": [
      "<class 'list'>\n",
      "Opening raw data file C:/Users/pesylvestre/Documents/Informatique/BRAIL/FY2023 In-House PoC3/In-HousePOC3/in_housepoc3/data/Lemon_PreDict\\sub-032329\\sub-032329_EO7_eeg.fif...\n",
      "Isotrak not found\n",
      "    Range : 204486 ... 218987 =    817.944 ...   875.948 secs\n",
      "Ready.\n",
      "Reading 0 ... 14501  =      0.000 ...    58.004 secs...\n"
     ]
    },
    {
     "name": "stderr",
     "output_type": "stream",
     "text": [
      "C:\\Users\\PESYLV~1\\AppData\\Local\\Temp/ipykernel_29536/564882533.py:16: FutureWarning: The frame.append method is deprecated and will be removed from pandas in a future version. Use pandas.concat instead.\n",
      "  df = df.append({\"data\": rawpd, \"age\": int(mlab[:2])+2.5}, ignore_index=True)\n"
     ]
    },
    {
     "name": "stdout",
     "output_type": "stream",
     "text": [
      "<class 'list'>\n",
      "Opening raw data file C:/Users/pesylvestre/Documents/Informatique/BRAIL/FY2023 In-House PoC3/In-HousePOC3/in_housepoc3/data/Lemon_PreDict\\sub-032329\\sub-032329_EO8_eeg.fif...\n",
      "Isotrak not found\n",
      "    Range : 235580 ... 250081 =    942.320 ...  1000.324 secs\n",
      "Ready.\n",
      "Reading 0 ... 14501  =      0.000 ...    58.004 secs...\n"
     ]
    },
    {
     "name": "stderr",
     "output_type": "stream",
     "text": [
      "C:\\Users\\PESYLV~1\\AppData\\Local\\Temp/ipykernel_29536/564882533.py:16: FutureWarning: The frame.append method is deprecated and will be removed from pandas in a future version. Use pandas.concat instead.\n",
      "  df = df.append({\"data\": rawpd, \"age\": int(mlab[:2])+2.5}, ignore_index=True)\n"
     ]
    },
    {
     "name": "stdout",
     "output_type": "stream",
     "text": [
      "<class 'list'>\n",
      "Opening raw data file C:/Users/pesylvestre/Documents/Informatique/BRAIL/FY2023 In-House PoC3/In-HousePOC3/in_housepoc3/data/Lemon_PreDict\\sub-032330\\sub-032330_EC1_eeg.fif...\n",
      "Isotrak not found\n",
      "    Range : 2149 ... 16650 =      8.596 ...    66.600 secs\n",
      "Ready.\n",
      "Reading 0 ... 14501  =      0.000 ...    58.004 secs...\n"
     ]
    },
    {
     "name": "stderr",
     "output_type": "stream",
     "text": [
      "C:\\Users\\PESYLV~1\\AppData\\Local\\Temp/ipykernel_29536/564882533.py:16: FutureWarning: The frame.append method is deprecated and will be removed from pandas in a future version. Use pandas.concat instead.\n",
      "  df = df.append({\"data\": rawpd, \"age\": int(mlab[:2])+2.5}, ignore_index=True)\n"
     ]
    },
    {
     "name": "stdout",
     "output_type": "stream",
     "text": [
      "<class 'list'>\n",
      "Opening raw data file C:/Users/pesylvestre/Documents/Informatique/BRAIL/FY2023 In-House PoC3/In-HousePOC3/in_housepoc3/data/Lemon_PreDict\\sub-032330\\sub-032330_EC2_eeg.fif...\n",
      "Isotrak not found\n",
      "    Range : 33079 ... 47579 =    132.316 ...   190.316 secs\n",
      "Ready.\n",
      "Reading 0 ... 14500  =      0.000 ...    58.000 secs...\n"
     ]
    },
    {
     "name": "stderr",
     "output_type": "stream",
     "text": [
      "C:\\Users\\PESYLV~1\\AppData\\Local\\Temp/ipykernel_29536/564882533.py:16: FutureWarning: The frame.append method is deprecated and will be removed from pandas in a future version. Use pandas.concat instead.\n",
      "  df = df.append({\"data\": rawpd, \"age\": int(mlab[:2])+2.5}, ignore_index=True)\n"
     ]
    },
    {
     "name": "stdout",
     "output_type": "stream",
     "text": [
      "<class 'list'>\n",
      "Opening raw data file C:/Users/pesylvestre/Documents/Informatique/BRAIL/FY2023 In-House PoC3/In-HousePOC3/in_housepoc3/data/Lemon_PreDict\\sub-032330\\sub-032330_EC3_eeg.fif...\n",
      "Isotrak not found\n",
      "    Range : 64063 ... 78563 =    256.252 ...   314.252 secs\n",
      "Ready.\n",
      "Reading 0 ... 14500  =      0.000 ...    58.000 secs...\n"
     ]
    },
    {
     "name": "stderr",
     "output_type": "stream",
     "text": [
      "C:\\Users\\PESYLV~1\\AppData\\Local\\Temp/ipykernel_29536/564882533.py:16: FutureWarning: The frame.append method is deprecated and will be removed from pandas in a future version. Use pandas.concat instead.\n",
      "  df = df.append({\"data\": rawpd, \"age\": int(mlab[:2])+2.5}, ignore_index=True)\n"
     ]
    },
    {
     "name": "stdout",
     "output_type": "stream",
     "text": [
      "<class 'list'>\n",
      "Opening raw data file C:/Users/pesylvestre/Documents/Informatique/BRAIL/FY2023 In-House PoC3/In-HousePOC3/in_housepoc3/data/Lemon_PreDict\\sub-032330\\sub-032330_EC4_eeg.fif...\n",
      "Isotrak not found\n",
      "    Range : 110987 ... 125488 =    443.948 ...   501.952 secs\n",
      "Ready.\n",
      "Reading 0 ... 14501  =      0.000 ...    58.004 secs...\n"
     ]
    },
    {
     "name": "stderr",
     "output_type": "stream",
     "text": [
      "C:\\Users\\PESYLV~1\\AppData\\Local\\Temp/ipykernel_29536/564882533.py:16: FutureWarning: The frame.append method is deprecated and will be removed from pandas in a future version. Use pandas.concat instead.\n",
      "  df = df.append({\"data\": rawpd, \"age\": int(mlab[:2])+2.5}, ignore_index=True)\n"
     ]
    },
    {
     "name": "stdout",
     "output_type": "stream",
     "text": [
      "<class 'list'>\n",
      "Opening raw data file C:/Users/pesylvestre/Documents/Informatique/BRAIL/FY2023 In-House PoC3/In-HousePOC3/in_housepoc3/data/Lemon_PreDict\\sub-032330\\sub-032330_EC5_eeg.fif...\n",
      "Isotrak not found\n",
      "    Range : 142096 ... 156596 =    568.384 ...   626.384 secs\n",
      "Ready.\n",
      "Reading 0 ... 14500  =      0.000 ...    58.000 secs...\n"
     ]
    },
    {
     "name": "stderr",
     "output_type": "stream",
     "text": [
      "C:\\Users\\PESYLV~1\\AppData\\Local\\Temp/ipykernel_29536/564882533.py:16: FutureWarning: The frame.append method is deprecated and will be removed from pandas in a future version. Use pandas.concat instead.\n",
      "  df = df.append({\"data\": rawpd, \"age\": int(mlab[:2])+2.5}, ignore_index=True)\n"
     ]
    },
    {
     "name": "stdout",
     "output_type": "stream",
     "text": [
      "<class 'list'>\n",
      "Opening raw data file C:/Users/pesylvestre/Documents/Informatique/BRAIL/FY2023 In-House PoC3/In-HousePOC3/in_housepoc3/data/Lemon_PreDict\\sub-032330\\sub-032330_EC6_eeg.fif...\n",
      "Isotrak not found\n",
      "    Range : 173646 ... 188146 =    694.584 ...   752.584 secs\n",
      "Ready.\n",
      "Reading 0 ... 14500  =      0.000 ...    58.000 secs...\n"
     ]
    },
    {
     "name": "stderr",
     "output_type": "stream",
     "text": [
      "C:\\Users\\PESYLV~1\\AppData\\Local\\Temp/ipykernel_29536/564882533.py:16: FutureWarning: The frame.append method is deprecated and will be removed from pandas in a future version. Use pandas.concat instead.\n",
      "  df = df.append({\"data\": rawpd, \"age\": int(mlab[:2])+2.5}, ignore_index=True)\n"
     ]
    },
    {
     "name": "stdout",
     "output_type": "stream",
     "text": [
      "<class 'list'>\n",
      "Opening raw data file C:/Users/pesylvestre/Documents/Informatique/BRAIL/FY2023 In-House PoC3/In-HousePOC3/in_housepoc3/data/Lemon_PreDict\\sub-032330\\sub-032330_EC7_eeg.fif...\n",
      "Isotrak not found\n",
      "    Range : 205108 ... 219608 =    820.432 ...   878.432 secs\n",
      "Ready.\n",
      "Reading 0 ... 14500  =      0.000 ...    58.000 secs...\n"
     ]
    },
    {
     "name": "stderr",
     "output_type": "stream",
     "text": [
      "C:\\Users\\PESYLV~1\\AppData\\Local\\Temp/ipykernel_29536/564882533.py:16: FutureWarning: The frame.append method is deprecated and will be removed from pandas in a future version. Use pandas.concat instead.\n",
      "  df = df.append({\"data\": rawpd, \"age\": int(mlab[:2])+2.5}, ignore_index=True)\n"
     ]
    },
    {
     "name": "stdout",
     "output_type": "stream",
     "text": [
      "<class 'list'>\n",
      "Opening raw data file C:/Users/pesylvestre/Documents/Informatique/BRAIL/FY2023 In-House PoC3/In-HousePOC3/in_housepoc3/data/Lemon_PreDict\\sub-032330\\sub-032330_EC8_eeg.fif...\n",
      "Isotrak not found\n",
      "    Range : 236736 ... 251236 =    946.944 ...  1004.944 secs\n",
      "Ready.\n",
      "Reading 0 ... 14500  =      0.000 ...    58.000 secs...\n"
     ]
    },
    {
     "name": "stderr",
     "output_type": "stream",
     "text": [
      "C:\\Users\\PESYLV~1\\AppData\\Local\\Temp/ipykernel_29536/564882533.py:16: FutureWarning: The frame.append method is deprecated and will be removed from pandas in a future version. Use pandas.concat instead.\n",
      "  df = df.append({\"data\": rawpd, \"age\": int(mlab[:2])+2.5}, ignore_index=True)\n"
     ]
    },
    {
     "name": "stdout",
     "output_type": "stream",
     "text": [
      "<class 'list'>\n",
      "Opening raw data file C:/Users/pesylvestre/Documents/Informatique/BRAIL/FY2023 In-House PoC3/In-HousePOC3/in_housepoc3/data/Lemon_PreDict\\sub-032330\\sub-032330_EO1_eeg.fif...\n",
      "Isotrak not found\n",
      "    Range : 17652 ... 32152 =     70.608 ...   128.608 secs\n",
      "Ready.\n",
      "Reading 0 ... 14500  =      0.000 ...    58.000 secs...\n"
     ]
    },
    {
     "name": "stderr",
     "output_type": "stream",
     "text": [
      "C:\\Users\\PESYLV~1\\AppData\\Local\\Temp/ipykernel_29536/564882533.py:16: FutureWarning: The frame.append method is deprecated and will be removed from pandas in a future version. Use pandas.concat instead.\n",
      "  df = df.append({\"data\": rawpd, \"age\": int(mlab[:2])+2.5}, ignore_index=True)\n"
     ]
    },
    {
     "name": "stdout",
     "output_type": "stream",
     "text": [
      "<class 'list'>\n",
      "Opening raw data file C:/Users/pesylvestre/Documents/Informatique/BRAIL/FY2023 In-House PoC3/In-HousePOC3/in_housepoc3/data/Lemon_PreDict\\sub-032330\\sub-032330_EO2_eeg.fif...\n",
      "Isotrak not found\n",
      "    Range : 48534 ... 63035 =    194.136 ...   252.140 secs\n",
      "Ready.\n",
      "Reading 0 ... 14501  =      0.000 ...    58.004 secs...\n"
     ]
    },
    {
     "name": "stderr",
     "output_type": "stream",
     "text": [
      "C:\\Users\\PESYLV~1\\AppData\\Local\\Temp/ipykernel_29536/564882533.py:16: FutureWarning: The frame.append method is deprecated and will be removed from pandas in a future version. Use pandas.concat instead.\n",
      "  df = df.append({\"data\": rawpd, \"age\": int(mlab[:2])+2.5}, ignore_index=True)\n"
     ]
    },
    {
     "name": "stdout",
     "output_type": "stream",
     "text": [
      "<class 'list'>\n",
      "Opening raw data file C:/Users/pesylvestre/Documents/Informatique/BRAIL/FY2023 In-House PoC3/In-HousePOC3/in_housepoc3/data/Lemon_PreDict\\sub-032330\\sub-032330_EO3_eeg.fif...\n",
      "Isotrak not found\n",
      "    Range : 82410 ... 96910 =    329.640 ...   387.640 secs\n",
      "Ready.\n",
      "Reading 0 ... 14500  =      0.000 ...    58.000 secs...\n"
     ]
    },
    {
     "name": "stderr",
     "output_type": "stream",
     "text": [
      "C:\\Users\\PESYLV~1\\AppData\\Local\\Temp/ipykernel_29536/564882533.py:16: FutureWarning: The frame.append method is deprecated and will be removed from pandas in a future version. Use pandas.concat instead.\n",
      "  df = df.append({\"data\": rawpd, \"age\": int(mlab[:2])+2.5}, ignore_index=True)\n"
     ]
    },
    {
     "name": "stdout",
     "output_type": "stream",
     "text": [
      "<class 'list'>\n",
      "Opening raw data file C:/Users/pesylvestre/Documents/Informatique/BRAIL/FY2023 In-House PoC3/In-HousePOC3/in_housepoc3/data/Lemon_PreDict\\sub-032330\\sub-032330_EO4_eeg.fif...\n",
      "Isotrak not found\n",
      "    Range : 126534 ... 141035 =    506.136 ...   564.140 secs\n",
      "Ready.\n",
      "Reading 0 ... 14501  =      0.000 ...    58.004 secs...\n"
     ]
    },
    {
     "name": "stderr",
     "output_type": "stream",
     "text": [
      "C:\\Users\\PESYLV~1\\AppData\\Local\\Temp/ipykernel_29536/564882533.py:16: FutureWarning: The frame.append method is deprecated and will be removed from pandas in a future version. Use pandas.concat instead.\n",
      "  df = df.append({\"data\": rawpd, \"age\": int(mlab[:2])+2.5}, ignore_index=True)\n"
     ]
    },
    {
     "name": "stdout",
     "output_type": "stream",
     "text": [
      "<class 'list'>\n",
      "Opening raw data file C:/Users/pesylvestre/Documents/Informatique/BRAIL/FY2023 In-House PoC3/In-HousePOC3/in_housepoc3/data/Lemon_PreDict\\sub-032330\\sub-032330_EO5_eeg.fif...\n",
      "Isotrak not found\n",
      "    Range : 157997 ... 172497 =    631.988 ...   689.988 secs\n",
      "Ready.\n",
      "Reading 0 ... 14500  =      0.000 ...    58.000 secs...\n"
     ]
    },
    {
     "name": "stderr",
     "output_type": "stream",
     "text": [
      "C:\\Users\\PESYLV~1\\AppData\\Local\\Temp/ipykernel_29536/564882533.py:16: FutureWarning: The frame.append method is deprecated and will be removed from pandas in a future version. Use pandas.concat instead.\n",
      "  df = df.append({\"data\": rawpd, \"age\": int(mlab[:2])+2.5}, ignore_index=True)\n"
     ]
    },
    {
     "name": "stdout",
     "output_type": "stream",
     "text": [
      "<class 'list'>\n",
      "Opening raw data file C:/Users/pesylvestre/Documents/Informatique/BRAIL/FY2023 In-House PoC3/In-HousePOC3/in_housepoc3/data/Lemon_PreDict\\sub-032330\\sub-032330_EO6_eeg.fif...\n",
      "Isotrak not found\n",
      "    Range : 189401 ... 203901 =    757.604 ...   815.604 secs\n",
      "Ready.\n",
      "Reading 0 ... 14500  =      0.000 ...    58.000 secs...\n"
     ]
    },
    {
     "name": "stderr",
     "output_type": "stream",
     "text": [
      "C:\\Users\\PESYLV~1\\AppData\\Local\\Temp/ipykernel_29536/564882533.py:16: FutureWarning: The frame.append method is deprecated and will be removed from pandas in a future version. Use pandas.concat instead.\n",
      "  df = df.append({\"data\": rawpd, \"age\": int(mlab[:2])+2.5}, ignore_index=True)\n"
     ]
    },
    {
     "name": "stdout",
     "output_type": "stream",
     "text": [
      "<class 'list'>\n",
      "Opening raw data file C:/Users/pesylvestre/Documents/Informatique/BRAIL/FY2023 In-House PoC3/In-HousePOC3/in_housepoc3/data/Lemon_PreDict\\sub-032330\\sub-032330_EO7_eeg.fif...\n",
      "Isotrak not found\n",
      "    Range : 221139 ... 235639 =    884.556 ...   942.556 secs\n",
      "Ready.\n",
      "Reading 0 ... 14500  =      0.000 ...    58.000 secs...\n"
     ]
    },
    {
     "name": "stderr",
     "output_type": "stream",
     "text": [
      "C:\\Users\\PESYLV~1\\AppData\\Local\\Temp/ipykernel_29536/564882533.py:16: FutureWarning: The frame.append method is deprecated and will be removed from pandas in a future version. Use pandas.concat instead.\n",
      "  df = df.append({\"data\": rawpd, \"age\": int(mlab[:2])+2.5}, ignore_index=True)\n"
     ]
    },
    {
     "name": "stdout",
     "output_type": "stream",
     "text": [
      "<class 'list'>\n",
      "Opening raw data file C:/Users/pesylvestre/Documents/Informatique/BRAIL/FY2023 In-House PoC3/In-HousePOC3/in_housepoc3/data/Lemon_PreDict\\sub-032330\\sub-032330_EO8_eeg.fif...\n",
      "Isotrak not found\n",
      "    Range : 252275 ... 266775 =   1009.100 ...  1067.100 secs\n",
      "Ready.\n",
      "Reading 0 ... 14500  =      0.000 ...    58.000 secs...\n"
     ]
    },
    {
     "name": "stderr",
     "output_type": "stream",
     "text": [
      "C:\\Users\\PESYLV~1\\AppData\\Local\\Temp/ipykernel_29536/564882533.py:16: FutureWarning: The frame.append method is deprecated and will be removed from pandas in a future version. Use pandas.concat instead.\n",
      "  df = df.append({\"data\": rawpd, \"age\": int(mlab[:2])+2.5}, ignore_index=True)\n"
     ]
    },
    {
     "name": "stdout",
     "output_type": "stream",
     "text": [
      "<class 'list'>\n",
      "Opening raw data file C:/Users/pesylvestre/Documents/Informatique/BRAIL/FY2023 In-House PoC3/In-HousePOC3/in_housepoc3/data/Lemon_PreDict\\sub-032331\\sub-032331_EC1_eeg.fif...\n",
      "Isotrak not found\n",
      "    Range : 2638 ... 17138 =     10.552 ...    68.552 secs\n",
      "Ready.\n",
      "Reading 0 ... 14500  =      0.000 ...    58.000 secs...\n"
     ]
    },
    {
     "name": "stderr",
     "output_type": "stream",
     "text": [
      "C:\\Users\\PESYLV~1\\AppData\\Local\\Temp/ipykernel_29536/564882533.py:16: FutureWarning: The frame.append method is deprecated and will be removed from pandas in a future version. Use pandas.concat instead.\n",
      "  df = df.append({\"data\": rawpd, \"age\": int(mlab[:2])+2.5}, ignore_index=True)\n"
     ]
    },
    {
     "name": "stdout",
     "output_type": "stream",
     "text": [
      "<class 'list'>\n",
      "Opening raw data file C:/Users/pesylvestre/Documents/Informatique/BRAIL/FY2023 In-House PoC3/In-HousePOC3/in_housepoc3/data/Lemon_PreDict\\sub-032331\\sub-032331_EC2_eeg.fif...\n",
      "Isotrak not found\n",
      "    Range : 33639 ... 48139 =    134.556 ...   192.556 secs\n",
      "Ready.\n",
      "Reading 0 ... 14500  =      0.000 ...    58.000 secs...\n"
     ]
    },
    {
     "name": "stderr",
     "output_type": "stream",
     "text": [
      "C:\\Users\\PESYLV~1\\AppData\\Local\\Temp/ipykernel_29536/564882533.py:16: FutureWarning: The frame.append method is deprecated and will be removed from pandas in a future version. Use pandas.concat instead.\n",
      "  df = df.append({\"data\": rawpd, \"age\": int(mlab[:2])+2.5}, ignore_index=True)\n"
     ]
    },
    {
     "name": "stdout",
     "output_type": "stream",
     "text": [
      "<class 'list'>\n",
      "Opening raw data file C:/Users/pesylvestre/Documents/Informatique/BRAIL/FY2023 In-House PoC3/In-HousePOC3/in_housepoc3/data/Lemon_PreDict\\sub-032331\\sub-032331_EC3_eeg.fif...\n",
      "Isotrak not found\n",
      "    Range : 64591 ... 79091 =    258.364 ...   316.364 secs\n",
      "Ready.\n",
      "Reading 0 ... 14500  =      0.000 ...    58.000 secs...\n"
     ]
    },
    {
     "name": "stderr",
     "output_type": "stream",
     "text": [
      "C:\\Users\\PESYLV~1\\AppData\\Local\\Temp/ipykernel_29536/564882533.py:16: FutureWarning: The frame.append method is deprecated and will be removed from pandas in a future version. Use pandas.concat instead.\n",
      "  df = df.append({\"data\": rawpd, \"age\": int(mlab[:2])+2.5}, ignore_index=True)\n"
     ]
    },
    {
     "name": "stdout",
     "output_type": "stream",
     "text": [
      "<class 'list'>\n",
      "Opening raw data file C:/Users/pesylvestre/Documents/Informatique/BRAIL/FY2023 In-House PoC3/In-HousePOC3/in_housepoc3/data/Lemon_PreDict\\sub-032331\\sub-032331_EC4_eeg.fif...\n",
      "Isotrak not found\n",
      "    Range : 95684 ... 110184 =    382.736 ...   440.736 secs\n",
      "Ready.\n",
      "Reading 0 ... 14500  =      0.000 ...    58.000 secs...\n"
     ]
    },
    {
     "name": "stderr",
     "output_type": "stream",
     "text": [
      "C:\\Users\\PESYLV~1\\AppData\\Local\\Temp/ipykernel_29536/564882533.py:16: FutureWarning: The frame.append method is deprecated and will be removed from pandas in a future version. Use pandas.concat instead.\n",
      "  df = df.append({\"data\": rawpd, \"age\": int(mlab[:2])+2.5}, ignore_index=True)\n"
     ]
    },
    {
     "name": "stdout",
     "output_type": "stream",
     "text": [
      "<class 'list'>\n",
      "Opening raw data file C:/Users/pesylvestre/Documents/Informatique/BRAIL/FY2023 In-House PoC3/In-HousePOC3/in_housepoc3/data/Lemon_PreDict\\sub-032331\\sub-032331_EC5_eeg.fif...\n",
      "Isotrak not found\n",
      "    Range : 126642 ... 141142 =    506.568 ...   564.568 secs\n",
      "Ready.\n",
      "Reading 0 ... 14500  =      0.000 ...    58.000 secs...\n"
     ]
    },
    {
     "name": "stderr",
     "output_type": "stream",
     "text": [
      "C:\\Users\\PESYLV~1\\AppData\\Local\\Temp/ipykernel_29536/564882533.py:16: FutureWarning: The frame.append method is deprecated and will be removed from pandas in a future version. Use pandas.concat instead.\n",
      "  df = df.append({\"data\": rawpd, \"age\": int(mlab[:2])+2.5}, ignore_index=True)\n"
     ]
    },
    {
     "name": "stdout",
     "output_type": "stream",
     "text": [
      "<class 'list'>\n",
      "Opening raw data file C:/Users/pesylvestre/Documents/Informatique/BRAIL/FY2023 In-House PoC3/In-HousePOC3/in_housepoc3/data/Lemon_PreDict\\sub-032331\\sub-032331_EC6_eeg.fif...\n",
      "Isotrak not found\n",
      "    Range : 157611 ... 172112 =    630.444 ...   688.448 secs\n",
      "Ready.\n",
      "Reading 0 ... 14501  =      0.000 ...    58.004 secs...\n"
     ]
    },
    {
     "name": "stderr",
     "output_type": "stream",
     "text": [
      "C:\\Users\\PESYLV~1\\AppData\\Local\\Temp/ipykernel_29536/564882533.py:16: FutureWarning: The frame.append method is deprecated and will be removed from pandas in a future version. Use pandas.concat instead.\n",
      "  df = df.append({\"data\": rawpd, \"age\": int(mlab[:2])+2.5}, ignore_index=True)\n"
     ]
    },
    {
     "name": "stdout",
     "output_type": "stream",
     "text": [
      "<class 'list'>\n",
      "Opening raw data file C:/Users/pesylvestre/Documents/Informatique/BRAIL/FY2023 In-House PoC3/In-HousePOC3/in_housepoc3/data/Lemon_PreDict\\sub-032331\\sub-032331_EC7_eeg.fif...\n",
      "Isotrak not found\n",
      "    Range : 188661 ... 203161 =    754.644 ...   812.644 secs\n",
      "Ready.\n",
      "Reading 0 ... 14500  =      0.000 ...    58.000 secs...\n"
     ]
    },
    {
     "name": "stderr",
     "output_type": "stream",
     "text": [
      "C:\\Users\\PESYLV~1\\AppData\\Local\\Temp/ipykernel_29536/564882533.py:16: FutureWarning: The frame.append method is deprecated and will be removed from pandas in a future version. Use pandas.concat instead.\n",
      "  df = df.append({\"data\": rawpd, \"age\": int(mlab[:2])+2.5}, ignore_index=True)\n"
     ]
    },
    {
     "name": "stdout",
     "output_type": "stream",
     "text": [
      "<class 'list'>\n",
      "Opening raw data file C:/Users/pesylvestre/Documents/Informatique/BRAIL/FY2023 In-House PoC3/In-HousePOC3/in_housepoc3/data/Lemon_PreDict\\sub-032331\\sub-032331_EC8_eeg.fif...\n",
      "Isotrak not found\n",
      "    Range : 220593 ... 235093 =    882.372 ...   940.372 secs\n",
      "Ready.\n",
      "Reading 0 ... 14500  =      0.000 ...    58.000 secs...\n"
     ]
    },
    {
     "name": "stderr",
     "output_type": "stream",
     "text": [
      "C:\\Users\\PESYLV~1\\AppData\\Local\\Temp/ipykernel_29536/564882533.py:16: FutureWarning: The frame.append method is deprecated and will be removed from pandas in a future version. Use pandas.concat instead.\n",
      "  df = df.append({\"data\": rawpd, \"age\": int(mlab[:2])+2.5}, ignore_index=True)\n"
     ]
    },
    {
     "name": "stdout",
     "output_type": "stream",
     "text": [
      "<class 'list'>\n",
      "Opening raw data file C:/Users/pesylvestre/Documents/Informatique/BRAIL/FY2023 In-House PoC3/In-HousePOC3/in_housepoc3/data/Lemon_PreDict\\sub-032331\\sub-032331_EO1_eeg.fif...\n",
      "Isotrak not found\n",
      "    Range : 18133 ... 32634 =     72.532 ...   130.536 secs\n",
      "Ready.\n",
      "Reading 0 ... 14501  =      0.000 ...    58.004 secs...\n"
     ]
    },
    {
     "name": "stderr",
     "output_type": "stream",
     "text": [
      "C:\\Users\\PESYLV~1\\AppData\\Local\\Temp/ipykernel_29536/564882533.py:16: FutureWarning: The frame.append method is deprecated and will be removed from pandas in a future version. Use pandas.concat instead.\n",
      "  df = df.append({\"data\": rawpd, \"age\": int(mlab[:2])+2.5}, ignore_index=True)\n"
     ]
    },
    {
     "name": "stdout",
     "output_type": "stream",
     "text": [
      "<class 'list'>\n",
      "Opening raw data file C:/Users/pesylvestre/Documents/Informatique/BRAIL/FY2023 In-House PoC3/In-HousePOC3/in_housepoc3/data/Lemon_PreDict\\sub-032331\\sub-032331_EO2_eeg.fif...\n",
      "Isotrak not found\n",
      "    Range : 49093 ... 63593 =    196.372 ...   254.372 secs\n",
      "Ready.\n",
      "Reading 0 ... 14500  =      0.000 ...    58.000 secs...\n"
     ]
    },
    {
     "name": "stderr",
     "output_type": "stream",
     "text": [
      "C:\\Users\\PESYLV~1\\AppData\\Local\\Temp/ipykernel_29536/564882533.py:16: FutureWarning: The frame.append method is deprecated and will be removed from pandas in a future version. Use pandas.concat instead.\n",
      "  df = df.append({\"data\": rawpd, \"age\": int(mlab[:2])+2.5}, ignore_index=True)\n"
     ]
    },
    {
     "name": "stdout",
     "output_type": "stream",
     "text": [
      "<class 'list'>\n",
      "Opening raw data file C:/Users/pesylvestre/Documents/Informatique/BRAIL/FY2023 In-House PoC3/In-HousePOC3/in_housepoc3/data/Lemon_PreDict\\sub-032331\\sub-032331_EO3_eeg.fif...\n",
      "Isotrak not found\n",
      "    Range : 80194 ... 94694 =    320.776 ...   378.776 secs\n",
      "Ready.\n",
      "Reading 0 ... 14500  =      0.000 ...    58.000 secs...\n"
     ]
    },
    {
     "name": "stderr",
     "output_type": "stream",
     "text": [
      "C:\\Users\\PESYLV~1\\AppData\\Local\\Temp/ipykernel_29536/564882533.py:16: FutureWarning: The frame.append method is deprecated and will be removed from pandas in a future version. Use pandas.concat instead.\n",
      "  df = df.append({\"data\": rawpd, \"age\": int(mlab[:2])+2.5}, ignore_index=True)\n"
     ]
    },
    {
     "name": "stdout",
     "output_type": "stream",
     "text": [
      "<class 'list'>\n",
      "Opening raw data file C:/Users/pesylvestre/Documents/Informatique/BRAIL/FY2023 In-House PoC3/In-HousePOC3/in_housepoc3/data/Lemon_PreDict\\sub-032331\\sub-032331_EO4_eeg.fif...\n",
      "Isotrak not found\n",
      "    Range : 111208 ... 125708 =    444.832 ...   502.832 secs\n",
      "Ready.\n",
      "Reading 0 ... 14500  =      0.000 ...    58.000 secs...\n"
     ]
    },
    {
     "name": "stderr",
     "output_type": "stream",
     "text": [
      "C:\\Users\\PESYLV~1\\AppData\\Local\\Temp/ipykernel_29536/564882533.py:16: FutureWarning: The frame.append method is deprecated and will be removed from pandas in a future version. Use pandas.concat instead.\n",
      "  df = df.append({\"data\": rawpd, \"age\": int(mlab[:2])+2.5}, ignore_index=True)\n"
     ]
    },
    {
     "name": "stdout",
     "output_type": "stream",
     "text": [
      "<class 'list'>\n",
      "Opening raw data file C:/Users/pesylvestre/Documents/Informatique/BRAIL/FY2023 In-House PoC3/In-HousePOC3/in_housepoc3/data/Lemon_PreDict\\sub-032331\\sub-032331_EO5_eeg.fif...\n",
      "Isotrak not found\n",
      "    Range : 142078 ... 156578 =    568.312 ...   626.312 secs\n",
      "Ready.\n",
      "Reading 0 ... 14500  =      0.000 ...    58.000 secs...\n"
     ]
    },
    {
     "name": "stderr",
     "output_type": "stream",
     "text": [
      "C:\\Users\\PESYLV~1\\AppData\\Local\\Temp/ipykernel_29536/564882533.py:16: FutureWarning: The frame.append method is deprecated and will be removed from pandas in a future version. Use pandas.concat instead.\n",
      "  df = df.append({\"data\": rawpd, \"age\": int(mlab[:2])+2.5}, ignore_index=True)\n"
     ]
    },
    {
     "name": "stdout",
     "output_type": "stream",
     "text": [
      "<class 'list'>\n",
      "Opening raw data file C:/Users/pesylvestre/Documents/Informatique/BRAIL/FY2023 In-House PoC3/In-HousePOC3/in_housepoc3/data/Lemon_PreDict\\sub-032331\\sub-032331_EO6_eeg.fif...\n",
      "Isotrak not found\n",
      "    Range : 173127 ... 187628 =    692.508 ...   750.512 secs\n",
      "Ready.\n",
      "Reading 0 ... 14501  =      0.000 ...    58.004 secs...\n"
     ]
    },
    {
     "name": "stderr",
     "output_type": "stream",
     "text": [
      "C:\\Users\\PESYLV~1\\AppData\\Local\\Temp/ipykernel_29536/564882533.py:16: FutureWarning: The frame.append method is deprecated and will be removed from pandas in a future version. Use pandas.concat instead.\n",
      "  df = df.append({\"data\": rawpd, \"age\": int(mlab[:2])+2.5}, ignore_index=True)\n"
     ]
    },
    {
     "name": "stdout",
     "output_type": "stream",
     "text": [
      "<class 'list'>\n",
      "Opening raw data file C:/Users/pesylvestre/Documents/Informatique/BRAIL/FY2023 In-House PoC3/In-HousePOC3/in_housepoc3/data/Lemon_PreDict\\sub-032331\\sub-032331_EO7_eeg.fif...\n",
      "Isotrak not found\n",
      "    Range : 205097 ... 219597 =    820.388 ...   878.388 secs\n",
      "Ready.\n",
      "Reading 0 ... 14500  =      0.000 ...    58.000 secs...\n"
     ]
    },
    {
     "name": "stderr",
     "output_type": "stream",
     "text": [
      "C:\\Users\\PESYLV~1\\AppData\\Local\\Temp/ipykernel_29536/564882533.py:16: FutureWarning: The frame.append method is deprecated and will be removed from pandas in a future version. Use pandas.concat instead.\n",
      "  df = df.append({\"data\": rawpd, \"age\": int(mlab[:2])+2.5}, ignore_index=True)\n"
     ]
    },
    {
     "name": "stdout",
     "output_type": "stream",
     "text": [
      "<class 'list'>\n",
      "Opening raw data file C:/Users/pesylvestre/Documents/Informatique/BRAIL/FY2023 In-House PoC3/In-HousePOC3/in_housepoc3/data/Lemon_PreDict\\sub-032331\\sub-032331_EO8_eeg.fif...\n",
      "Isotrak not found\n",
      "    Range : 236161 ... 250661 =    944.644 ...  1002.644 secs\n",
      "Ready.\n",
      "Reading 0 ... 14500  =      0.000 ...    58.000 secs...\n"
     ]
    },
    {
     "name": "stderr",
     "output_type": "stream",
     "text": [
      "C:\\Users\\PESYLV~1\\AppData\\Local\\Temp/ipykernel_29536/564882533.py:16: FutureWarning: The frame.append method is deprecated and will be removed from pandas in a future version. Use pandas.concat instead.\n",
      "  df = df.append({\"data\": rawpd, \"age\": int(mlab[:2])+2.5}, ignore_index=True)\n"
     ]
    },
    {
     "name": "stdout",
     "output_type": "stream",
     "text": [
      "<class 'list'>\n",
      "Opening raw data file C:/Users/pesylvestre/Documents/Informatique/BRAIL/FY2023 In-House PoC3/In-HousePOC3/in_housepoc3/data/Lemon_PreDict\\sub-032332\\sub-032332_EC1_eeg.fif...\n",
      "Isotrak not found\n",
      "    Range : 2108 ... 16608 =      8.432 ...    66.432 secs\n",
      "Ready.\n",
      "Reading 0 ... 14500  =      0.000 ...    58.000 secs...\n"
     ]
    },
    {
     "name": "stderr",
     "output_type": "stream",
     "text": [
      "C:\\Users\\PESYLV~1\\AppData\\Local\\Temp/ipykernel_29536/564882533.py:16: FutureWarning: The frame.append method is deprecated and will be removed from pandas in a future version. Use pandas.concat instead.\n",
      "  df = df.append({\"data\": rawpd, \"age\": int(mlab[:2])+2.5}, ignore_index=True)\n"
     ]
    },
    {
     "name": "stdout",
     "output_type": "stream",
     "text": [
      "<class 'list'>\n",
      "Opening raw data file C:/Users/pesylvestre/Documents/Informatique/BRAIL/FY2023 In-House PoC3/In-HousePOC3/in_housepoc3/data/Lemon_PreDict\\sub-032332\\sub-032332_EC2_eeg.fif...\n",
      "Isotrak not found\n",
      "    Range : 33261 ... 47762 =    133.044 ...   191.048 secs\n",
      "Ready.\n",
      "Reading 0 ... 14501  =      0.000 ...    58.004 secs...\n"
     ]
    },
    {
     "name": "stderr",
     "output_type": "stream",
     "text": [
      "C:\\Users\\PESYLV~1\\AppData\\Local\\Temp/ipykernel_29536/564882533.py:16: FutureWarning: The frame.append method is deprecated and will be removed from pandas in a future version. Use pandas.concat instead.\n",
      "  df = df.append({\"data\": rawpd, \"age\": int(mlab[:2])+2.5}, ignore_index=True)\n"
     ]
    },
    {
     "name": "stdout",
     "output_type": "stream",
     "text": [
      "<class 'list'>\n",
      "Opening raw data file C:/Users/pesylvestre/Documents/Informatique/BRAIL/FY2023 In-House PoC3/In-HousePOC3/in_housepoc3/data/Lemon_PreDict\\sub-032332\\sub-032332_EC3_eeg.fif...\n",
      "Isotrak not found\n",
      "    Range : 64227 ... 78727 =    256.908 ...   314.908 secs\n",
      "Ready.\n",
      "Reading 0 ... 14500  =      0.000 ...    58.000 secs...\n"
     ]
    },
    {
     "name": "stderr",
     "output_type": "stream",
     "text": [
      "C:\\Users\\PESYLV~1\\AppData\\Local\\Temp/ipykernel_29536/564882533.py:16: FutureWarning: The frame.append method is deprecated and will be removed from pandas in a future version. Use pandas.concat instead.\n",
      "  df = df.append({\"data\": rawpd, \"age\": int(mlab[:2])+2.5}, ignore_index=True)\n"
     ]
    },
    {
     "name": "stdout",
     "output_type": "stream",
     "text": [
      "<class 'list'>\n",
      "Opening raw data file C:/Users/pesylvestre/Documents/Informatique/BRAIL/FY2023 In-House PoC3/In-HousePOC3/in_housepoc3/data/Lemon_PreDict\\sub-032332\\sub-032332_EC4_eeg.fif...\n",
      "Isotrak not found\n",
      "    Range : 95288 ... 109788 =    381.152 ...   439.152 secs\n",
      "Ready.\n",
      "Reading 0 ... 14500  =      0.000 ...    58.000 secs...\n"
     ]
    },
    {
     "name": "stderr",
     "output_type": "stream",
     "text": [
      "C:\\Users\\PESYLV~1\\AppData\\Local\\Temp/ipykernel_29536/564882533.py:16: FutureWarning: The frame.append method is deprecated and will be removed from pandas in a future version. Use pandas.concat instead.\n",
      "  df = df.append({\"data\": rawpd, \"age\": int(mlab[:2])+2.5}, ignore_index=True)\n"
     ]
    },
    {
     "name": "stdout",
     "output_type": "stream",
     "text": [
      "<class 'list'>\n",
      "Opening raw data file C:/Users/pesylvestre/Documents/Informatique/BRAIL/FY2023 In-House PoC3/In-HousePOC3/in_housepoc3/data/Lemon_PreDict\\sub-032332\\sub-032332_EC5_eeg.fif...\n",
      "Isotrak not found\n",
      "    Range : 126116 ... 140616 =    504.464 ...   562.464 secs\n",
      "Ready.\n",
      "Reading 0 ... 14500  =      0.000 ...    58.000 secs...\n"
     ]
    },
    {
     "name": "stderr",
     "output_type": "stream",
     "text": [
      "C:\\Users\\PESYLV~1\\AppData\\Local\\Temp/ipykernel_29536/564882533.py:16: FutureWarning: The frame.append method is deprecated and will be removed from pandas in a future version. Use pandas.concat instead.\n",
      "  df = df.append({\"data\": rawpd, \"age\": int(mlab[:2])+2.5}, ignore_index=True)\n"
     ]
    },
    {
     "name": "stdout",
     "output_type": "stream",
     "text": [
      "<class 'list'>\n",
      "Opening raw data file C:/Users/pesylvestre/Documents/Informatique/BRAIL/FY2023 In-House PoC3/In-HousePOC3/in_housepoc3/data/Lemon_PreDict\\sub-032332\\sub-032332_EC6_eeg.fif...\n",
      "Isotrak not found\n",
      "    Range : 157099 ... 171599 =    628.396 ...   686.396 secs\n",
      "Ready.\n",
      "Reading 0 ... 14500  =      0.000 ...    58.000 secs...\n"
     ]
    },
    {
     "name": "stderr",
     "output_type": "stream",
     "text": [
      "C:\\Users\\PESYLV~1\\AppData\\Local\\Temp/ipykernel_29536/564882533.py:16: FutureWarning: The frame.append method is deprecated and will be removed from pandas in a future version. Use pandas.concat instead.\n",
      "  df = df.append({\"data\": rawpd, \"age\": int(mlab[:2])+2.5}, ignore_index=True)\n"
     ]
    },
    {
     "name": "stdout",
     "output_type": "stream",
     "text": [
      "<class 'list'>\n",
      "Opening raw data file C:/Users/pesylvestre/Documents/Informatique/BRAIL/FY2023 In-House PoC3/In-HousePOC3/in_housepoc3/data/Lemon_PreDict\\sub-032332\\sub-032332_EC7_eeg.fif...\n",
      "Isotrak not found\n",
      "    Range : 188618 ... 203118 =    754.472 ...   812.472 secs\n",
      "Ready.\n",
      "Reading 0 ... 14500  =      0.000 ...    58.000 secs...\n"
     ]
    },
    {
     "name": "stderr",
     "output_type": "stream",
     "text": [
      "C:\\Users\\PESYLV~1\\AppData\\Local\\Temp/ipykernel_29536/564882533.py:16: FutureWarning: The frame.append method is deprecated and will be removed from pandas in a future version. Use pandas.concat instead.\n",
      "  df = df.append({\"data\": rawpd, \"age\": int(mlab[:2])+2.5}, ignore_index=True)\n"
     ]
    },
    {
     "name": "stdout",
     "output_type": "stream",
     "text": [
      "<class 'list'>\n",
      "Opening raw data file C:/Users/pesylvestre/Documents/Informatique/BRAIL/FY2023 In-House PoC3/In-HousePOC3/in_housepoc3/data/Lemon_PreDict\\sub-032332\\sub-032332_EC8_eeg.fif...\n",
      "Isotrak not found\n",
      "    Range : 219694 ... 234194 =    878.776 ...   936.776 secs\n",
      "Ready.\n",
      "Reading 0 ... 14500  =      0.000 ...    58.000 secs...\n"
     ]
    },
    {
     "name": "stderr",
     "output_type": "stream",
     "text": [
      "C:\\Users\\PESYLV~1\\AppData\\Local\\Temp/ipykernel_29536/564882533.py:16: FutureWarning: The frame.append method is deprecated and will be removed from pandas in a future version. Use pandas.concat instead.\n",
      "  df = df.append({\"data\": rawpd, \"age\": int(mlab[:2])+2.5}, ignore_index=True)\n"
     ]
    },
    {
     "name": "stdout",
     "output_type": "stream",
     "text": [
      "<class 'list'>\n",
      "Opening raw data file C:/Users/pesylvestre/Documents/Informatique/BRAIL/FY2023 In-House PoC3/In-HousePOC3/in_housepoc3/data/Lemon_PreDict\\sub-032332\\sub-032332_EO1_eeg.fif...\n",
      "Isotrak not found\n",
      "    Range : 17580 ... 32080 =     70.320 ...   128.320 secs\n",
      "Ready.\n",
      "Reading 0 ... 14500  =      0.000 ...    58.000 secs...\n",
      "<class 'list'>\n"
     ]
    },
    {
     "name": "stderr",
     "output_type": "stream",
     "text": [
      "C:\\Users\\PESYLV~1\\AppData\\Local\\Temp/ipykernel_29536/564882533.py:16: FutureWarning: The frame.append method is deprecated and will be removed from pandas in a future version. Use pandas.concat instead.\n",
      "  df = df.append({\"data\": rawpd, \"age\": int(mlab[:2])+2.5}, ignore_index=True)\n"
     ]
    },
    {
     "name": "stdout",
     "output_type": "stream",
     "text": [
      "Opening raw data file C:/Users/pesylvestre/Documents/Informatique/BRAIL/FY2023 In-House PoC3/In-HousePOC3/in_housepoc3/data/Lemon_PreDict\\sub-032332\\sub-032332_EO2_eeg.fif...\n",
      "Isotrak not found\n",
      "    Range : 48739 ... 63239 =    194.956 ...   252.956 secs\n",
      "Ready.\n",
      "Reading 0 ... 14500  =      0.000 ...    58.000 secs...\n"
     ]
    },
    {
     "name": "stderr",
     "output_type": "stream",
     "text": [
      "C:\\Users\\PESYLV~1\\AppData\\Local\\Temp/ipykernel_29536/564882533.py:16: FutureWarning: The frame.append method is deprecated and will be removed from pandas in a future version. Use pandas.concat instead.\n",
      "  df = df.append({\"data\": rawpd, \"age\": int(mlab[:2])+2.5}, ignore_index=True)\n"
     ]
    },
    {
     "name": "stdout",
     "output_type": "stream",
     "text": [
      "<class 'list'>\n",
      "Opening raw data file C:/Users/pesylvestre/Documents/Informatique/BRAIL/FY2023 In-House PoC3/In-HousePOC3/in_housepoc3/data/Lemon_PreDict\\sub-032332\\sub-032332_EO3_eeg.fif...\n",
      "Isotrak not found\n",
      "    Range : 79831 ... 94331 =    319.324 ...   377.324 secs\n",
      "Ready.\n",
      "Reading 0 ... 14500  =      0.000 ...    58.000 secs...\n"
     ]
    },
    {
     "name": "stderr",
     "output_type": "stream",
     "text": [
      "C:\\Users\\PESYLV~1\\AppData\\Local\\Temp/ipykernel_29536/564882533.py:16: FutureWarning: The frame.append method is deprecated and will be removed from pandas in a future version. Use pandas.concat instead.\n",
      "  df = df.append({\"data\": rawpd, \"age\": int(mlab[:2])+2.5}, ignore_index=True)\n"
     ]
    },
    {
     "name": "stdout",
     "output_type": "stream",
     "text": [
      "<class 'list'>\n",
      "Opening raw data file C:/Users/pesylvestre/Documents/Informatique/BRAIL/FY2023 In-House PoC3/In-HousePOC3/in_housepoc3/data/Lemon_PreDict\\sub-032332\\sub-032332_EO4_eeg.fif...\n",
      "Isotrak not found\n",
      "    Range : 110721 ... 125221 =    442.884 ...   500.884 secs\n",
      "Ready.\n",
      "Reading 0 ... 14500  =      0.000 ...    58.000 secs...\n"
     ]
    },
    {
     "name": "stderr",
     "output_type": "stream",
     "text": [
      "C:\\Users\\PESYLV~1\\AppData\\Local\\Temp/ipykernel_29536/564882533.py:16: FutureWarning: The frame.append method is deprecated and will be removed from pandas in a future version. Use pandas.concat instead.\n",
      "  df = df.append({\"data\": rawpd, \"age\": int(mlab[:2])+2.5}, ignore_index=True)\n"
     ]
    },
    {
     "name": "stdout",
     "output_type": "stream",
     "text": [
      "<class 'list'>\n",
      "Opening raw data file C:/Users/pesylvestre/Documents/Informatique/BRAIL/FY2023 In-House PoC3/In-HousePOC3/in_housepoc3/data/Lemon_PreDict\\sub-032332\\sub-032332_EO5_eeg.fif...\n",
      "Isotrak not found\n",
      "    Range : 141606 ... 156106 =    566.424 ...   624.424 secs\n",
      "Ready.\n",
      "Reading 0 ... 14500  =      0.000 ...    58.000 secs...\n"
     ]
    },
    {
     "name": "stderr",
     "output_type": "stream",
     "text": [
      "C:\\Users\\PESYLV~1\\AppData\\Local\\Temp/ipykernel_29536/564882533.py:16: FutureWarning: The frame.append method is deprecated and will be removed from pandas in a future version. Use pandas.concat instead.\n",
      "  df = df.append({\"data\": rawpd, \"age\": int(mlab[:2])+2.5}, ignore_index=True)\n"
     ]
    },
    {
     "name": "stdout",
     "output_type": "stream",
     "text": [
      "<class 'list'>\n",
      "Opening raw data file C:/Users/pesylvestre/Documents/Informatique/BRAIL/FY2023 In-House PoC3/In-HousePOC3/in_housepoc3/data/Lemon_PreDict\\sub-032332\\sub-032332_EO6_eeg.fif...\n",
      "Isotrak not found\n",
      "    Range : 173180 ... 187680 =    692.720 ...   750.720 secs\n",
      "Ready.\n",
      "Reading 0 ... 14500  =      0.000 ...    58.000 secs...\n"
     ]
    },
    {
     "name": "stderr",
     "output_type": "stream",
     "text": [
      "C:\\Users\\PESYLV~1\\AppData\\Local\\Temp/ipykernel_29536/564882533.py:16: FutureWarning: The frame.append method is deprecated and will be removed from pandas in a future version. Use pandas.concat instead.\n",
      "  df = df.append({\"data\": rawpd, \"age\": int(mlab[:2])+2.5}, ignore_index=True)\n"
     ]
    },
    {
     "name": "stdout",
     "output_type": "stream",
     "text": [
      "<class 'list'>\n",
      "Opening raw data file C:/Users/pesylvestre/Documents/Informatique/BRAIL/FY2023 In-House PoC3/In-HousePOC3/in_housepoc3/data/Lemon_PreDict\\sub-032332\\sub-032332_EO7_eeg.fif...\n",
      "Isotrak not found\n",
      "    Range : 204137 ... 218638 =    816.548 ...   874.552 secs\n",
      "Ready.\n",
      "Reading 0 ... 14501  =      0.000 ...    58.004 secs...\n"
     ]
    },
    {
     "name": "stderr",
     "output_type": "stream",
     "text": [
      "C:\\Users\\PESYLV~1\\AppData\\Local\\Temp/ipykernel_29536/564882533.py:16: FutureWarning: The frame.append method is deprecated and will be removed from pandas in a future version. Use pandas.concat instead.\n",
      "  df = df.append({\"data\": rawpd, \"age\": int(mlab[:2])+2.5}, ignore_index=True)\n"
     ]
    },
    {
     "name": "stdout",
     "output_type": "stream",
     "text": [
      "<class 'list'>\n",
      "Opening raw data file C:/Users/pesylvestre/Documents/Informatique/BRAIL/FY2023 In-House PoC3/In-HousePOC3/in_housepoc3/data/Lemon_PreDict\\sub-032332\\sub-032332_EO8_eeg.fif...\n",
      "Isotrak not found\n",
      "    Range : 235186 ... 249686 =    940.744 ...   998.744 secs\n",
      "Ready.\n",
      "Reading 0 ... 14500  =      0.000 ...    58.000 secs...\n"
     ]
    },
    {
     "name": "stderr",
     "output_type": "stream",
     "text": [
      "C:\\Users\\PESYLV~1\\AppData\\Local\\Temp/ipykernel_29536/564882533.py:16: FutureWarning: The frame.append method is deprecated and will be removed from pandas in a future version. Use pandas.concat instead.\n",
      "  df = df.append({\"data\": rawpd, \"age\": int(mlab[:2])+2.5}, ignore_index=True)\n"
     ]
    },
    {
     "name": "stdout",
     "output_type": "stream",
     "text": [
      "<class 'list'>\n",
      "Opening raw data file C:/Users/pesylvestre/Documents/Informatique/BRAIL/FY2023 In-House PoC3/In-HousePOC3/in_housepoc3/data/Lemon_PreDict\\sub-032333\\sub-032333_EC1_eeg.fif...\n",
      "Isotrak not found\n",
      "    Range : 1821 ... 16321 =      7.284 ...    65.284 secs\n",
      "Ready.\n",
      "Reading 0 ... 14500  =      0.000 ...    58.000 secs...\n"
     ]
    },
    {
     "name": "stderr",
     "output_type": "stream",
     "text": [
      "C:\\Users\\PESYLV~1\\AppData\\Local\\Temp/ipykernel_29536/564882533.py:16: FutureWarning: The frame.append method is deprecated and will be removed from pandas in a future version. Use pandas.concat instead.\n",
      "  df = df.append({\"data\": rawpd, \"age\": int(mlab[:2])+2.5}, ignore_index=True)\n"
     ]
    },
    {
     "name": "stdout",
     "output_type": "stream",
     "text": [
      "<class 'list'>\n",
      "Opening raw data file C:/Users/pesylvestre/Documents/Informatique/BRAIL/FY2023 In-House PoC3/In-HousePOC3/in_housepoc3/data/Lemon_PreDict\\sub-032333\\sub-032333_EC2_eeg.fif...\n",
      "Isotrak not found\n",
      "    Range : 33085 ... 47585 =    132.340 ...   190.340 secs\n",
      "Ready.\n",
      "Reading 0 ... 14500  =      0.000 ...    58.000 secs...\n"
     ]
    },
    {
     "name": "stderr",
     "output_type": "stream",
     "text": [
      "C:\\Users\\PESYLV~1\\AppData\\Local\\Temp/ipykernel_29536/564882533.py:16: FutureWarning: The frame.append method is deprecated and will be removed from pandas in a future version. Use pandas.concat instead.\n",
      "  df = df.append({\"data\": rawpd, \"age\": int(mlab[:2])+2.5}, ignore_index=True)\n"
     ]
    },
    {
     "name": "stdout",
     "output_type": "stream",
     "text": [
      "<class 'list'>\n",
      "Opening raw data file C:/Users/pesylvestre/Documents/Informatique/BRAIL/FY2023 In-House PoC3/In-HousePOC3/in_housepoc3/data/Lemon_PreDict\\sub-032333\\sub-032333_EC3_eeg.fif...\n",
      "Isotrak not found\n",
      "    Range : 64071 ... 78571 =    256.284 ...   314.284 secs\n",
      "Ready.\n",
      "Reading 0 ... 14500  =      0.000 ...    58.000 secs...\n"
     ]
    },
    {
     "name": "stderr",
     "output_type": "stream",
     "text": [
      "C:\\Users\\PESYLV~1\\AppData\\Local\\Temp/ipykernel_29536/564882533.py:16: FutureWarning: The frame.append method is deprecated and will be removed from pandas in a future version. Use pandas.concat instead.\n",
      "  df = df.append({\"data\": rawpd, \"age\": int(mlab[:2])+2.5}, ignore_index=True)\n"
     ]
    },
    {
     "name": "stdout",
     "output_type": "stream",
     "text": [
      "<class 'list'>\n",
      "Opening raw data file C:/Users/pesylvestre/Documents/Informatique/BRAIL/FY2023 In-House PoC3/In-HousePOC3/in_housepoc3/data/Lemon_PreDict\\sub-032333\\sub-032333_EC4_eeg.fif...\n",
      "Isotrak not found\n",
      "    Range : 96982 ... 111482 =    387.928 ...   445.928 secs\n",
      "Ready.\n",
      "Reading 0 ... 14500  =      0.000 ...    58.000 secs...\n"
     ]
    },
    {
     "name": "stderr",
     "output_type": "stream",
     "text": [
      "C:\\Users\\PESYLV~1\\AppData\\Local\\Temp/ipykernel_29536/564882533.py:16: FutureWarning: The frame.append method is deprecated and will be removed from pandas in a future version. Use pandas.concat instead.\n",
      "  df = df.append({\"data\": rawpd, \"age\": int(mlab[:2])+2.5}, ignore_index=True)\n"
     ]
    },
    {
     "name": "stdout",
     "output_type": "stream",
     "text": [
      "<class 'list'>\n",
      "Opening raw data file C:/Users/pesylvestre/Documents/Informatique/BRAIL/FY2023 In-House PoC3/In-HousePOC3/in_housepoc3/data/Lemon_PreDict\\sub-032333\\sub-032333_EC5_eeg.fif...\n",
      "Isotrak not found\n",
      "    Range : 127888 ... 142388 =    511.552 ...   569.552 secs\n",
      "Ready.\n",
      "Reading 0 ... 14500  =      0.000 ...    58.000 secs...\n"
     ]
    },
    {
     "name": "stderr",
     "output_type": "stream",
     "text": [
      "C:\\Users\\PESYLV~1\\AppData\\Local\\Temp/ipykernel_29536/564882533.py:16: FutureWarning: The frame.append method is deprecated and will be removed from pandas in a future version. Use pandas.concat instead.\n",
      "  df = df.append({\"data\": rawpd, \"age\": int(mlab[:2])+2.5}, ignore_index=True)\n"
     ]
    },
    {
     "name": "stdout",
     "output_type": "stream",
     "text": [
      "<class 'list'>\n",
      "Opening raw data file C:/Users/pesylvestre/Documents/Informatique/BRAIL/FY2023 In-House PoC3/In-HousePOC3/in_housepoc3/data/Lemon_PreDict\\sub-032333\\sub-032333_EC6_eeg.fif...\n",
      "Isotrak not found\n",
      "    Range : 160369 ... 174869 =    641.476 ...   699.476 secs\n",
      "Ready.\n",
      "Reading 0 ... 14500  =      0.000 ...    58.000 secs...\n"
     ]
    },
    {
     "name": "stderr",
     "output_type": "stream",
     "text": [
      "C:\\Users\\PESYLV~1\\AppData\\Local\\Temp/ipykernel_29536/564882533.py:16: FutureWarning: The frame.append method is deprecated and will be removed from pandas in a future version. Use pandas.concat instead.\n",
      "  df = df.append({\"data\": rawpd, \"age\": int(mlab[:2])+2.5}, ignore_index=True)\n"
     ]
    },
    {
     "name": "stdout",
     "output_type": "stream",
     "text": [
      "<class 'list'>\n",
      "Opening raw data file C:/Users/pesylvestre/Documents/Informatique/BRAIL/FY2023 In-House PoC3/In-HousePOC3/in_housepoc3/data/Lemon_PreDict\\sub-032333\\sub-032333_EC7_eeg.fif...\n",
      "Isotrak not found\n",
      "    Range : 191296 ... 205797 =    765.184 ...   823.188 secs\n",
      "Ready.\n",
      "Reading 0 ... 14501  =      0.000 ...    58.004 secs...\n"
     ]
    },
    {
     "name": "stderr",
     "output_type": "stream",
     "text": [
      "C:\\Users\\PESYLV~1\\AppData\\Local\\Temp/ipykernel_29536/564882533.py:16: FutureWarning: The frame.append method is deprecated and will be removed from pandas in a future version. Use pandas.concat instead.\n",
      "  df = df.append({\"data\": rawpd, \"age\": int(mlab[:2])+2.5}, ignore_index=True)\n"
     ]
    },
    {
     "name": "stdout",
     "output_type": "stream",
     "text": [
      "<class 'list'>\n",
      "Opening raw data file C:/Users/pesylvestre/Documents/Informatique/BRAIL/FY2023 In-House PoC3/In-HousePOC3/in_housepoc3/data/Lemon_PreDict\\sub-032333\\sub-032333_EC8_eeg.fif...\n",
      "Isotrak not found\n",
      "    Range : 222267 ... 236767 =    889.068 ...   947.068 secs\n",
      "Ready.\n",
      "Reading 0 ... 14500  =      0.000 ...    58.000 secs...\n"
     ]
    },
    {
     "name": "stderr",
     "output_type": "stream",
     "text": [
      "C:\\Users\\PESYLV~1\\AppData\\Local\\Temp/ipykernel_29536/564882533.py:16: FutureWarning: The frame.append method is deprecated and will be removed from pandas in a future version. Use pandas.concat instead.\n",
      "  df = df.append({\"data\": rawpd, \"age\": int(mlab[:2])+2.5}, ignore_index=True)\n"
     ]
    },
    {
     "name": "stdout",
     "output_type": "stream",
     "text": [
      "<class 'list'>\n",
      "Opening raw data file C:/Users/pesylvestre/Documents/Informatique/BRAIL/FY2023 In-House PoC3/In-HousePOC3/in_housepoc3/data/Lemon_PreDict\\sub-032333\\sub-032333_EO1_eeg.fif...\n",
      "Isotrak not found\n",
      "    Range : 17538 ... 32038 =     70.152 ...   128.152 secs\n",
      "Ready.\n",
      "Reading 0 ... 14500  =      0.000 ...    58.000 secs...\n"
     ]
    },
    {
     "name": "stderr",
     "output_type": "stream",
     "text": [
      "C:\\Users\\PESYLV~1\\AppData\\Local\\Temp/ipykernel_29536/564882533.py:16: FutureWarning: The frame.append method is deprecated and will be removed from pandas in a future version. Use pandas.concat instead.\n",
      "  df = df.append({\"data\": rawpd, \"age\": int(mlab[:2])+2.5}, ignore_index=True)\n"
     ]
    },
    {
     "name": "stdout",
     "output_type": "stream",
     "text": [
      "<class 'list'>\n",
      "Opening raw data file C:/Users/pesylvestre/Documents/Informatique/BRAIL/FY2023 In-House PoC3/In-HousePOC3/in_housepoc3/data/Lemon_PreDict\\sub-032333\\sub-032333_EO2_eeg.fif...\n",
      "Isotrak not found\n",
      "    Range : 48590 ... 63090 =    194.360 ...   252.360 secs\n",
      "Ready.\n",
      "Reading 0 ... 14500  =      0.000 ...    58.000 secs...\n"
     ]
    },
    {
     "name": "stderr",
     "output_type": "stream",
     "text": [
      "C:\\Users\\PESYLV~1\\AppData\\Local\\Temp/ipykernel_29536/564882533.py:16: FutureWarning: The frame.append method is deprecated and will be removed from pandas in a future version. Use pandas.concat instead.\n",
      "  df = df.append({\"data\": rawpd, \"age\": int(mlab[:2])+2.5}, ignore_index=True)\n"
     ]
    },
    {
     "name": "stdout",
     "output_type": "stream",
     "text": [
      "<class 'list'>\n",
      "Opening raw data file C:/Users/pesylvestre/Documents/Informatique/BRAIL/FY2023 In-House PoC3/In-HousePOC3/in_housepoc3/data/Lemon_PreDict\\sub-032333\\sub-032333_EO3_eeg.fif...\n",
      "Isotrak not found\n",
      "    Range : 79591 ... 94091 =    318.364 ...   376.364 secs\n",
      "Ready.\n",
      "Reading 0 ... 14500  =      0.000 ...    58.000 secs...\n"
     ]
    },
    {
     "name": "stderr",
     "output_type": "stream",
     "text": [
      "C:\\Users\\PESYLV~1\\AppData\\Local\\Temp/ipykernel_29536/564882533.py:16: FutureWarning: The frame.append method is deprecated and will be removed from pandas in a future version. Use pandas.concat instead.\n",
      "  df = df.append({\"data\": rawpd, \"age\": int(mlab[:2])+2.5}, ignore_index=True)\n"
     ]
    },
    {
     "name": "stdout",
     "output_type": "stream",
     "text": [
      "<class 'list'>\n",
      "Opening raw data file C:/Users/pesylvestre/Documents/Informatique/BRAIL/FY2023 In-House PoC3/In-HousePOC3/in_housepoc3/data/Lemon_PreDict\\sub-032333\\sub-032333_EO4_eeg.fif...\n",
      "Isotrak not found\n",
      "    Range : 112413 ... 126913 =    449.652 ...   507.652 secs\n",
      "Ready.\n",
      "Reading 0 ... 14500  =      0.000 ...    58.000 secs...\n"
     ]
    },
    {
     "name": "stderr",
     "output_type": "stream",
     "text": [
      "C:\\Users\\PESYLV~1\\AppData\\Local\\Temp/ipykernel_29536/564882533.py:16: FutureWarning: The frame.append method is deprecated and will be removed from pandas in a future version. Use pandas.concat instead.\n",
      "  df = df.append({\"data\": rawpd, \"age\": int(mlab[:2])+2.5}, ignore_index=True)\n"
     ]
    },
    {
     "name": "stdout",
     "output_type": "stream",
     "text": [
      "<class 'list'>\n",
      "Opening raw data file C:/Users/pesylvestre/Documents/Informatique/BRAIL/FY2023 In-House PoC3/In-HousePOC3/in_housepoc3/data/Lemon_PreDict\\sub-032333\\sub-032333_EO5_eeg.fif...\n",
      "Isotrak not found\n",
      "    Range : 144860 ... 159361 =    579.440 ...   637.444 secs\n",
      "Ready.\n",
      "Reading 0 ... 14501  =      0.000 ...    58.004 secs...\n"
     ]
    },
    {
     "name": "stderr",
     "output_type": "stream",
     "text": [
      "C:\\Users\\PESYLV~1\\AppData\\Local\\Temp/ipykernel_29536/564882533.py:16: FutureWarning: The frame.append method is deprecated and will be removed from pandas in a future version. Use pandas.concat instead.\n",
      "  df = df.append({\"data\": rawpd, \"age\": int(mlab[:2])+2.5}, ignore_index=True)\n"
     ]
    },
    {
     "name": "stdout",
     "output_type": "stream",
     "text": [
      "<class 'list'>\n",
      "Opening raw data file C:/Users/pesylvestre/Documents/Informatique/BRAIL/FY2023 In-House PoC3/In-HousePOC3/in_housepoc3/data/Lemon_PreDict\\sub-032333\\sub-032333_EO6_eeg.fif...\n",
      "Isotrak not found\n",
      "    Range : 175807 ... 190308 =    703.228 ...   761.232 secs\n",
      "Ready.\n",
      "Reading 0 ... 14501  =      0.000 ...    58.004 secs...\n"
     ]
    },
    {
     "name": "stderr",
     "output_type": "stream",
     "text": [
      "C:\\Users\\PESYLV~1\\AppData\\Local\\Temp/ipykernel_29536/564882533.py:16: FutureWarning: The frame.append method is deprecated and will be removed from pandas in a future version. Use pandas.concat instead.\n",
      "  df = df.append({\"data\": rawpd, \"age\": int(mlab[:2])+2.5}, ignore_index=True)\n"
     ]
    },
    {
     "name": "stdout",
     "output_type": "stream",
     "text": [
      "<class 'list'>\n",
      "Opening raw data file C:/Users/pesylvestre/Documents/Informatique/BRAIL/FY2023 In-House PoC3/In-HousePOC3/in_housepoc3/data/Lemon_PreDict\\sub-032333\\sub-032333_EO7_eeg.fif...\n",
      "Isotrak not found\n",
      "    Range : 206756 ... 221257 =    827.024 ...   885.028 secs\n",
      "Ready.\n",
      "Reading 0 ... 14501  =      0.000 ...    58.004 secs...\n"
     ]
    },
    {
     "name": "stderr",
     "output_type": "stream",
     "text": [
      "C:\\Users\\PESYLV~1\\AppData\\Local\\Temp/ipykernel_29536/564882533.py:16: FutureWarning: The frame.append method is deprecated and will be removed from pandas in a future version. Use pandas.concat instead.\n",
      "  df = df.append({\"data\": rawpd, \"age\": int(mlab[:2])+2.5}, ignore_index=True)\n"
     ]
    },
    {
     "name": "stdout",
     "output_type": "stream",
     "text": [
      "<class 'list'>\n",
      "Opening raw data file C:/Users/pesylvestre/Documents/Informatique/BRAIL/FY2023 In-House PoC3/In-HousePOC3/in_housepoc3/data/Lemon_PreDict\\sub-032333\\sub-032333_EO8_eeg.fif...\n",
      "Isotrak not found\n",
      "    Range : 237794 ... 252295 =    951.176 ...  1009.180 secs\n",
      "Ready.\n",
      "Reading 0 ... 14501  =      0.000 ...    58.004 secs...\n"
     ]
    },
    {
     "name": "stderr",
     "output_type": "stream",
     "text": [
      "C:\\Users\\PESYLV~1\\AppData\\Local\\Temp/ipykernel_29536/564882533.py:16: FutureWarning: The frame.append method is deprecated and will be removed from pandas in a future version. Use pandas.concat instead.\n",
      "  df = df.append({\"data\": rawpd, \"age\": int(mlab[:2])+2.5}, ignore_index=True)\n"
     ]
    },
    {
     "name": "stdout",
     "output_type": "stream",
     "text": [
      "<class 'list'>\n",
      "Opening raw data file C:/Users/pesylvestre/Documents/Informatique/BRAIL/FY2023 In-House PoC3/In-HousePOC3/in_housepoc3/data/Lemon_PreDict\\sub-032334\\sub-032334_EC1_eeg.fif...\n",
      "Isotrak not found\n",
      "    Range : 2115 ... 16615 =      8.460 ...    66.460 secs\n",
      "Ready.\n",
      "Reading 0 ... 14500  =      0.000 ...    58.000 secs...\n"
     ]
    },
    {
     "name": "stderr",
     "output_type": "stream",
     "text": [
      "C:\\Users\\PESYLV~1\\AppData\\Local\\Temp/ipykernel_29536/564882533.py:16: FutureWarning: The frame.append method is deprecated and will be removed from pandas in a future version. Use pandas.concat instead.\n",
      "  df = df.append({\"data\": rawpd, \"age\": int(mlab[:2])+2.5}, ignore_index=True)\n"
     ]
    },
    {
     "name": "stdout",
     "output_type": "stream",
     "text": [
      "<class 'list'>\n",
      "Opening raw data file C:/Users/pesylvestre/Documents/Informatique/BRAIL/FY2023 In-House PoC3/In-HousePOC3/in_housepoc3/data/Lemon_PreDict\\sub-032334\\sub-032334_EC2_eeg.fif...\n",
      "Isotrak not found\n",
      "    Range : 34757 ... 49257 =    139.028 ...   197.028 secs\n",
      "Ready.\n",
      "Reading 0 ... 14500  =      0.000 ...    58.000 secs...\n"
     ]
    },
    {
     "name": "stderr",
     "output_type": "stream",
     "text": [
      "C:\\Users\\PESYLV~1\\AppData\\Local\\Temp/ipykernel_29536/564882533.py:16: FutureWarning: The frame.append method is deprecated and will be removed from pandas in a future version. Use pandas.concat instead.\n",
      "  df = df.append({\"data\": rawpd, \"age\": int(mlab[:2])+2.5}, ignore_index=True)\n"
     ]
    },
    {
     "name": "stdout",
     "output_type": "stream",
     "text": [
      "<class 'list'>\n",
      "Opening raw data file C:/Users/pesylvestre/Documents/Informatique/BRAIL/FY2023 In-House PoC3/In-HousePOC3/in_housepoc3/data/Lemon_PreDict\\sub-032334\\sub-032334_EC3_eeg.fif...\n",
      "Isotrak not found\n",
      "    Range : 67558 ... 82058 =    270.232 ...   328.232 secs\n",
      "Ready.\n",
      "Reading 0 ... 14500  =      0.000 ...    58.000 secs...\n"
     ]
    },
    {
     "name": "stderr",
     "output_type": "stream",
     "text": [
      "C:\\Users\\PESYLV~1\\AppData\\Local\\Temp/ipykernel_29536/564882533.py:16: FutureWarning: The frame.append method is deprecated and will be removed from pandas in a future version. Use pandas.concat instead.\n",
      "  df = df.append({\"data\": rawpd, \"age\": int(mlab[:2])+2.5}, ignore_index=True)\n"
     ]
    },
    {
     "name": "stdout",
     "output_type": "stream",
     "text": [
      "<class 'list'>\n",
      "Opening raw data file C:/Users/pesylvestre/Documents/Informatique/BRAIL/FY2023 In-House PoC3/In-HousePOC3/in_housepoc3/data/Lemon_PreDict\\sub-032334\\sub-032334_EC4_eeg.fif...\n",
      "Isotrak not found\n",
      "    Range : 98653 ... 113153 =    394.612 ...   452.612 secs\n",
      "Ready.\n",
      "Reading 0 ... 14500  =      0.000 ...    58.000 secs...\n"
     ]
    },
    {
     "name": "stderr",
     "output_type": "stream",
     "text": [
      "C:\\Users\\PESYLV~1\\AppData\\Local\\Temp/ipykernel_29536/564882533.py:16: FutureWarning: The frame.append method is deprecated and will be removed from pandas in a future version. Use pandas.concat instead.\n",
      "  df = df.append({\"data\": rawpd, \"age\": int(mlab[:2])+2.5}, ignore_index=True)\n"
     ]
    },
    {
     "name": "stdout",
     "output_type": "stream",
     "text": [
      "<class 'list'>\n",
      "Opening raw data file C:/Users/pesylvestre/Documents/Informatique/BRAIL/FY2023 In-House PoC3/In-HousePOC3/in_housepoc3/data/Lemon_PreDict\\sub-032334\\sub-032334_EC5_eeg.fif...\n",
      "Isotrak not found\n",
      "    Range : 129620 ... 144121 =    518.480 ...   576.484 secs\n",
      "Ready.\n",
      "Reading 0 ... 14501  =      0.000 ...    58.004 secs...\n"
     ]
    },
    {
     "name": "stderr",
     "output_type": "stream",
     "text": [
      "C:\\Users\\PESYLV~1\\AppData\\Local\\Temp/ipykernel_29536/564882533.py:16: FutureWarning: The frame.append method is deprecated and will be removed from pandas in a future version. Use pandas.concat instead.\n",
      "  df = df.append({\"data\": rawpd, \"age\": int(mlab[:2])+2.5}, ignore_index=True)\n"
     ]
    },
    {
     "name": "stdout",
     "output_type": "stream",
     "text": [
      "<class 'list'>\n",
      "Opening raw data file C:/Users/pesylvestre/Documents/Informatique/BRAIL/FY2023 In-House PoC3/In-HousePOC3/in_housepoc3/data/Lemon_PreDict\\sub-032334\\sub-032334_EC6_eeg.fif...\n",
      "Isotrak not found\n",
      "    Range : 160483 ... 174983 =    641.932 ...   699.932 secs\n",
      "Ready.\n",
      "Reading 0 ... 14500  =      0.000 ...    58.000 secs...\n"
     ]
    },
    {
     "name": "stderr",
     "output_type": "stream",
     "text": [
      "C:\\Users\\PESYLV~1\\AppData\\Local\\Temp/ipykernel_29536/564882533.py:16: FutureWarning: The frame.append method is deprecated and will be removed from pandas in a future version. Use pandas.concat instead.\n",
      "  df = df.append({\"data\": rawpd, \"age\": int(mlab[:2])+2.5}, ignore_index=True)\n"
     ]
    },
    {
     "name": "stdout",
     "output_type": "stream",
     "text": [
      "<class 'list'>\n",
      "Opening raw data file C:/Users/pesylvestre/Documents/Informatique/BRAIL/FY2023 In-House PoC3/In-HousePOC3/in_housepoc3/data/Lemon_PreDict\\sub-032334\\sub-032334_EC7_eeg.fif...\n",
      "Isotrak not found\n",
      "    Range : 194144 ... 208644 =    776.576 ...   834.576 secs\n",
      "Ready.\n",
      "Reading 0 ... 14500  =      0.000 ...    58.000 secs...\n"
     ]
    },
    {
     "name": "stderr",
     "output_type": "stream",
     "text": [
      "C:\\Users\\PESYLV~1\\AppData\\Local\\Temp/ipykernel_29536/564882533.py:16: FutureWarning: The frame.append method is deprecated and will be removed from pandas in a future version. Use pandas.concat instead.\n",
      "  df = df.append({\"data\": rawpd, \"age\": int(mlab[:2])+2.5}, ignore_index=True)\n"
     ]
    },
    {
     "name": "stdout",
     "output_type": "stream",
     "text": [
      "<class 'list'>\n",
      "Opening raw data file C:/Users/pesylvestre/Documents/Informatique/BRAIL/FY2023 In-House PoC3/In-HousePOC3/in_housepoc3/data/Lemon_PreDict\\sub-032334\\sub-032334_EC8_eeg.fif...\n",
      "Isotrak not found\n",
      "    Range : 226042 ... 240542 =    904.168 ...   962.168 secs\n",
      "Ready.\n",
      "Reading 0 ... 14500  =      0.000 ...    58.000 secs...\n"
     ]
    },
    {
     "name": "stderr",
     "output_type": "stream",
     "text": [
      "C:\\Users\\PESYLV~1\\AppData\\Local\\Temp/ipykernel_29536/564882533.py:16: FutureWarning: The frame.append method is deprecated and will be removed from pandas in a future version. Use pandas.concat instead.\n",
      "  df = df.append({\"data\": rawpd, \"age\": int(mlab[:2])+2.5}, ignore_index=True)\n"
     ]
    },
    {
     "name": "stdout",
     "output_type": "stream",
     "text": [
      "<class 'list'>\n",
      "Opening raw data file C:/Users/pesylvestre/Documents/Informatique/BRAIL/FY2023 In-House PoC3/In-HousePOC3/in_housepoc3/data/Lemon_PreDict\\sub-032334\\sub-032334_EO1_eeg.fif...\n",
      "Isotrak not found\n",
      "    Range : 17586 ... 32086 =     70.344 ...   128.344 secs\n",
      "Ready.\n",
      "Reading 0 ... 14500  =      0.000 ...    58.000 secs...\n"
     ]
    },
    {
     "name": "stderr",
     "output_type": "stream",
     "text": [
      "C:\\Users\\PESYLV~1\\AppData\\Local\\Temp/ipykernel_29536/564882533.py:16: FutureWarning: The frame.append method is deprecated and will be removed from pandas in a future version. Use pandas.concat instead.\n",
      "  df = df.append({\"data\": rawpd, \"age\": int(mlab[:2])+2.5}, ignore_index=True)\n"
     ]
    },
    {
     "name": "stdout",
     "output_type": "stream",
     "text": [
      "<class 'list'>\n",
      "Opening raw data file C:/Users/pesylvestre/Documents/Informatique/BRAIL/FY2023 In-House PoC3/In-HousePOC3/in_housepoc3/data/Lemon_PreDict\\sub-032334\\sub-032334_EO2_eeg.fif...\n",
      "Isotrak not found\n",
      "    Range : 50127 ... 64628 =    200.508 ...   258.512 secs\n",
      "Ready.\n",
      "Reading 0 ... 14501  =      0.000 ...    58.004 secs...\n"
     ]
    },
    {
     "name": "stderr",
     "output_type": "stream",
     "text": [
      "C:\\Users\\PESYLV~1\\AppData\\Local\\Temp/ipykernel_29536/564882533.py:16: FutureWarning: The frame.append method is deprecated and will be removed from pandas in a future version. Use pandas.concat instead.\n",
      "  df = df.append({\"data\": rawpd, \"age\": int(mlab[:2])+2.5}, ignore_index=True)\n"
     ]
    },
    {
     "name": "stdout",
     "output_type": "stream",
     "text": [
      "<class 'list'>\n",
      "Opening raw data file C:/Users/pesylvestre/Documents/Informatique/BRAIL/FY2023 In-House PoC3/In-HousePOC3/in_housepoc3/data/Lemon_PreDict\\sub-032334\\sub-032334_EO3_eeg.fif...\n",
      "Isotrak not found\n",
      "    Range : 83134 ... 97634 =    332.536 ...   390.536 secs\n",
      "Ready.\n",
      "Reading 0 ... 14500  =      0.000 ...    58.000 secs...\n"
     ]
    },
    {
     "name": "stderr",
     "output_type": "stream",
     "text": [
      "C:\\Users\\PESYLV~1\\AppData\\Local\\Temp/ipykernel_29536/564882533.py:16: FutureWarning: The frame.append method is deprecated and will be removed from pandas in a future version. Use pandas.concat instead.\n",
      "  df = df.append({\"data\": rawpd, \"age\": int(mlab[:2])+2.5}, ignore_index=True)\n"
     ]
    },
    {
     "name": "stdout",
     "output_type": "stream",
     "text": [
      "<class 'list'>\n",
      "Opening raw data file C:/Users/pesylvestre/Documents/Informatique/BRAIL/FY2023 In-House PoC3/In-HousePOC3/in_housepoc3/data/Lemon_PreDict\\sub-032334\\sub-032334_EO4_eeg.fif...\n",
      "Isotrak not found\n",
      "    Range : 114181 ... 128681 =    456.724 ...   514.724 secs\n",
      "Ready.\n",
      "Reading 0 ... 14500  =      0.000 ...    58.000 secs...\n"
     ]
    },
    {
     "name": "stderr",
     "output_type": "stream",
     "text": [
      "C:\\Users\\PESYLV~1\\AppData\\Local\\Temp/ipykernel_29536/564882533.py:16: FutureWarning: The frame.append method is deprecated and will be removed from pandas in a future version. Use pandas.concat instead.\n",
      "  df = df.append({\"data\": rawpd, \"age\": int(mlab[:2])+2.5}, ignore_index=True)\n"
     ]
    },
    {
     "name": "stdout",
     "output_type": "stream",
     "text": [
      "<class 'list'>\n",
      "Opening raw data file C:/Users/pesylvestre/Documents/Informatique/BRAIL/FY2023 In-House PoC3/In-HousePOC3/in_housepoc3/data/Lemon_PreDict\\sub-032334\\sub-032334_EO5_eeg.fif...\n"
     ]
    },
    {
     "name": "stderr",
     "output_type": "stream",
     "text": [
      "C:\\Users\\PESYLV~1\\AppData\\Local\\Temp/ipykernel_29536/564882533.py:16: FutureWarning: The frame.append method is deprecated and will be removed from pandas in a future version. Use pandas.concat instead.\n",
      "  df = df.append({\"data\": rawpd, \"age\": int(mlab[:2])+2.5}, ignore_index=True)\n"
     ]
    },
    {
     "name": "stdout",
     "output_type": "stream",
     "text": [
      "Isotrak not found\n",
      "    Range : 145001 ... 159501 =    580.004 ...   638.004 secs\n",
      "Ready.\n",
      "Reading 0 ... 14500  =      0.000 ...    58.000 secs...\n",
      "<class 'list'>\n",
      "Opening raw data file C:/Users/pesylvestre/Documents/Informatique/BRAIL/FY2023 In-House PoC3/In-HousePOC3/in_housepoc3/data/Lemon_PreDict\\sub-032334\\sub-032334_EO6_eeg.fif...\n",
      "Isotrak not found\n",
      "    Range : 178610 ... 193110 =    714.440 ...   772.440 secs\n",
      "Ready.\n",
      "Reading 0 ... 14500  =      0.000 ...    58.000 secs...\n"
     ]
    },
    {
     "name": "stderr",
     "output_type": "stream",
     "text": [
      "C:\\Users\\PESYLV~1\\AppData\\Local\\Temp/ipykernel_29536/564882533.py:16: FutureWarning: The frame.append method is deprecated and will be removed from pandas in a future version. Use pandas.concat instead.\n",
      "  df = df.append({\"data\": rawpd, \"age\": int(mlab[:2])+2.5}, ignore_index=True)\n"
     ]
    },
    {
     "name": "stdout",
     "output_type": "stream",
     "text": [
      "<class 'list'>\n",
      "Opening raw data file C:/Users/pesylvestre/Documents/Informatique/BRAIL/FY2023 In-House PoC3/In-HousePOC3/in_housepoc3/data/Lemon_PreDict\\sub-032334\\sub-032334_EO7_eeg.fif...\n",
      "Isotrak not found\n",
      "    Range : 210573 ... 225073 =    842.292 ...   900.292 secs\n",
      "Ready.\n",
      "Reading 0 ... 14500  =      0.000 ...    58.000 secs...\n"
     ]
    },
    {
     "name": "stderr",
     "output_type": "stream",
     "text": [
      "C:\\Users\\PESYLV~1\\AppData\\Local\\Temp/ipykernel_29536/564882533.py:16: FutureWarning: The frame.append method is deprecated and will be removed from pandas in a future version. Use pandas.concat instead.\n",
      "  df = df.append({\"data\": rawpd, \"age\": int(mlab[:2])+2.5}, ignore_index=True)\n"
     ]
    },
    {
     "name": "stdout",
     "output_type": "stream",
     "text": [
      "<class 'list'>\n",
      "Opening raw data file C:/Users/pesylvestre/Documents/Informatique/BRAIL/FY2023 In-House PoC3/In-HousePOC3/in_housepoc3/data/Lemon_PreDict\\sub-032334\\sub-032334_EO8_eeg.fif...\n",
      "Isotrak not found\n",
      "    Range : 241602 ... 256103 =    966.408 ...  1024.412 secs\n",
      "Ready.\n",
      "Reading 0 ... 14501  =      0.000 ...    58.004 secs...\n"
     ]
    },
    {
     "name": "stderr",
     "output_type": "stream",
     "text": [
      "C:\\Users\\PESYLV~1\\AppData\\Local\\Temp/ipykernel_29536/564882533.py:16: FutureWarning: The frame.append method is deprecated and will be removed from pandas in a future version. Use pandas.concat instead.\n",
      "  df = df.append({\"data\": rawpd, \"age\": int(mlab[:2])+2.5}, ignore_index=True)\n"
     ]
    },
    {
     "name": "stdout",
     "output_type": "stream",
     "text": [
      "<class 'list'>\n",
      "Opening raw data file C:/Users/pesylvestre/Documents/Informatique/BRAIL/FY2023 In-House PoC3/In-HousePOC3/in_housepoc3/data/Lemon_PreDict\\sub-032336\\sub-032336_EC1_eeg.fif...\n",
      "Isotrak not found\n",
      "    Range : 8866 ... 23367 =     35.464 ...    93.468 secs\n",
      "Ready.\n",
      "Reading 0 ... 14501  =      0.000 ...    58.004 secs...\n"
     ]
    },
    {
     "name": "stderr",
     "output_type": "stream",
     "text": [
      "C:\\Users\\PESYLV~1\\AppData\\Local\\Temp/ipykernel_29536/564882533.py:16: FutureWarning: The frame.append method is deprecated and will be removed from pandas in a future version. Use pandas.concat instead.\n",
      "  df = df.append({\"data\": rawpd, \"age\": int(mlab[:2])+2.5}, ignore_index=True)\n"
     ]
    },
    {
     "name": "stdout",
     "output_type": "stream",
     "text": [
      "<class 'list'>\n",
      "Opening raw data file C:/Users/pesylvestre/Documents/Informatique/BRAIL/FY2023 In-House PoC3/In-HousePOC3/in_housepoc3/data/Lemon_PreDict\\sub-032336\\sub-032336_EC2_eeg.fif...\n"
     ]
    },
    {
     "name": "stderr",
     "output_type": "stream",
     "text": [
      "C:\\Users\\PESYLV~1\\AppData\\Local\\Temp/ipykernel_29536/564882533.py:16: FutureWarning: The frame.append method is deprecated and will be removed from pandas in a future version. Use pandas.concat instead.\n",
      "  df = df.append({\"data\": rawpd, \"age\": int(mlab[:2])+2.5}, ignore_index=True)\n"
     ]
    },
    {
     "name": "stdout",
     "output_type": "stream",
     "text": [
      "Isotrak not found\n",
      "    Range : 39675 ... 54176 =    158.700 ...   216.704 secs\n",
      "Ready.\n",
      "Reading 0 ... 14501  =      0.000 ...    58.004 secs...\n",
      "<class 'list'>\n",
      "Opening raw data file C:/Users/pesylvestre/Documents/Informatique/BRAIL/FY2023 In-House PoC3/In-HousePOC3/in_housepoc3/data/Lemon_PreDict\\sub-032336\\sub-032336_EC3_eeg.fif...\n"
     ]
    },
    {
     "name": "stderr",
     "output_type": "stream",
     "text": [
      "C:\\Users\\PESYLV~1\\AppData\\Local\\Temp/ipykernel_29536/564882533.py:16: FutureWarning: The frame.append method is deprecated and will be removed from pandas in a future version. Use pandas.concat instead.\n",
      "  df = df.append({\"data\": rawpd, \"age\": int(mlab[:2])+2.5}, ignore_index=True)\n"
     ]
    },
    {
     "name": "stdout",
     "output_type": "stream",
     "text": [
      "Isotrak not found\n",
      "    Range : 70874 ... 85375 =    283.496 ...   341.500 secs\n",
      "Ready.\n",
      "Reading 0 ... 14501  =      0.000 ...    58.004 secs...\n",
      "<class 'list'>\n",
      "Opening raw data file C:/Users/pesylvestre/Documents/Informatique/BRAIL/FY2023 In-House PoC3/In-HousePOC3/in_housepoc3/data/Lemon_PreDict\\sub-032336\\sub-032336_EC4_eeg.fif...\n"
     ]
    },
    {
     "name": "stderr",
     "output_type": "stream",
     "text": [
      "C:\\Users\\PESYLV~1\\AppData\\Local\\Temp/ipykernel_29536/564882533.py:16: FutureWarning: The frame.append method is deprecated and will be removed from pandas in a future version. Use pandas.concat instead.\n",
      "  df = df.append({\"data\": rawpd, \"age\": int(mlab[:2])+2.5}, ignore_index=True)\n"
     ]
    },
    {
     "name": "stdout",
     "output_type": "stream",
     "text": [
      "Isotrak not found\n",
      "    Range : 101816 ... 116317 =    407.264 ...   465.268 secs\n",
      "Ready.\n",
      "Reading 0 ... 14501  =      0.000 ...    58.004 secs...\n",
      "<class 'list'>\n",
      "Opening raw data file C:/Users/pesylvestre/Documents/Informatique/BRAIL/FY2023 In-House PoC3/In-HousePOC3/in_housepoc3/data/Lemon_PreDict\\sub-032336\\sub-032336_EC5_eeg.fif...\n"
     ]
    },
    {
     "name": "stderr",
     "output_type": "stream",
     "text": [
      "C:\\Users\\PESYLV~1\\AppData\\Local\\Temp/ipykernel_29536/564882533.py:16: FutureWarning: The frame.append method is deprecated and will be removed from pandas in a future version. Use pandas.concat instead.\n",
      "  df = df.append({\"data\": rawpd, \"age\": int(mlab[:2])+2.5}, ignore_index=True)\n"
     ]
    },
    {
     "name": "stdout",
     "output_type": "stream",
     "text": [
      "Isotrak not found\n",
      "    Range : 132661 ... 147161 =    530.644 ...   588.644 secs\n",
      "Ready.\n",
      "Reading 0 ... 14500  =      0.000 ...    58.000 secs...\n",
      "<class 'list'>\n",
      "Opening raw data file C:/Users/pesylvestre/Documents/Informatique/BRAIL/FY2023 In-House PoC3/In-HousePOC3/in_housepoc3/data/Lemon_PreDict\\sub-032336\\sub-032336_EC6_eeg.fif...\n"
     ]
    },
    {
     "name": "stderr",
     "output_type": "stream",
     "text": [
      "C:\\Users\\PESYLV~1\\AppData\\Local\\Temp/ipykernel_29536/564882533.py:16: FutureWarning: The frame.append method is deprecated and will be removed from pandas in a future version. Use pandas.concat instead.\n",
      "  df = df.append({\"data\": rawpd, \"age\": int(mlab[:2])+2.5}, ignore_index=True)\n"
     ]
    },
    {
     "name": "stdout",
     "output_type": "stream",
     "text": [
      "Isotrak not found\n",
      "    Range : 165204 ... 179704 =    660.816 ...   718.816 secs\n",
      "Ready.\n",
      "Reading 0 ... 14500  =      0.000 ...    58.000 secs...\n",
      "<class 'list'>\n",
      "Opening raw data file C:/Users/pesylvestre/Documents/Informatique/BRAIL/FY2023 In-House PoC3/In-HousePOC3/in_housepoc3/data/Lemon_PreDict\\sub-032336\\sub-032336_EC7_eeg.fif...\n",
      "Isotrak not found\n",
      "    Range : 195947 ... 210447 =    783.788 ...   841.788 secs\n",
      "Ready.\n",
      "Reading 0 ... 14500  =      0.000 ...    58.000 secs...\n"
     ]
    },
    {
     "name": "stderr",
     "output_type": "stream",
     "text": [
      "C:\\Users\\PESYLV~1\\AppData\\Local\\Temp/ipykernel_29536/564882533.py:16: FutureWarning: The frame.append method is deprecated and will be removed from pandas in a future version. Use pandas.concat instead.\n",
      "  df = df.append({\"data\": rawpd, \"age\": int(mlab[:2])+2.5}, ignore_index=True)\n"
     ]
    },
    {
     "name": "stdout",
     "output_type": "stream",
     "text": [
      "<class 'list'>\n",
      "Opening raw data file C:/Users/pesylvestre/Documents/Informatique/BRAIL/FY2023 In-House PoC3/In-HousePOC3/in_housepoc3/data/Lemon_PreDict\\sub-032336\\sub-032336_EC8_eeg.fif...\n",
      "Isotrak not found\n",
      "    Range : 226898 ... 241398 =    907.592 ...   965.592 secs\n",
      "Ready.\n",
      "Reading 0 ... 14500  =      0.000 ...    58.000 secs...\n"
     ]
    },
    {
     "name": "stderr",
     "output_type": "stream",
     "text": [
      "C:\\Users\\PESYLV~1\\AppData\\Local\\Temp/ipykernel_29536/564882533.py:16: FutureWarning: The frame.append method is deprecated and will be removed from pandas in a future version. Use pandas.concat instead.\n",
      "  df = df.append({\"data\": rawpd, \"age\": int(mlab[:2])+2.5}, ignore_index=True)\n"
     ]
    },
    {
     "name": "stdout",
     "output_type": "stream",
     "text": [
      "<class 'list'>\n",
      "Opening raw data file C:/Users/pesylvestre/Documents/Informatique/BRAIL/FY2023 In-House PoC3/In-HousePOC3/in_housepoc3/data/Lemon_PreDict\\sub-032336\\sub-032336_EO1_eeg.fif...\n",
      "Isotrak not found\n",
      "    Range : 24260 ... 38760 =     97.040 ...   155.040 secs\n",
      "Ready.\n",
      "Reading 0 ... 14500  =      0.000 ...    58.000 secs...\n"
     ]
    },
    {
     "name": "stderr",
     "output_type": "stream",
     "text": [
      "C:\\Users\\PESYLV~1\\AppData\\Local\\Temp/ipykernel_29536/564882533.py:16: FutureWarning: The frame.append method is deprecated and will be removed from pandas in a future version. Use pandas.concat instead.\n",
      "  df = df.append({\"data\": rawpd, \"age\": int(mlab[:2])+2.5}, ignore_index=True)\n"
     ]
    },
    {
     "name": "stdout",
     "output_type": "stream",
     "text": [
      "<class 'list'>\n",
      "Opening raw data file C:/Users/pesylvestre/Documents/Informatique/BRAIL/FY2023 In-House PoC3/In-HousePOC3/in_housepoc3/data/Lemon_PreDict\\sub-032336\\sub-032336_EO2_eeg.fif...\n",
      "Isotrak not found\n",
      "    Range : 55099 ... 69600 =    220.396 ...   278.400 secs\n",
      "Ready.\n",
      "Reading 0 ... 14501  =      0.000 ...    58.004 secs...\n"
     ]
    },
    {
     "name": "stderr",
     "output_type": "stream",
     "text": [
      "C:\\Users\\PESYLV~1\\AppData\\Local\\Temp/ipykernel_29536/564882533.py:16: FutureWarning: The frame.append method is deprecated and will be removed from pandas in a future version. Use pandas.concat instead.\n",
      "  df = df.append({\"data\": rawpd, \"age\": int(mlab[:2])+2.5}, ignore_index=True)\n"
     ]
    },
    {
     "name": "stdout",
     "output_type": "stream",
     "text": [
      "<class 'list'>\n",
      "Opening raw data file C:/Users/pesylvestre/Documents/Informatique/BRAIL/FY2023 In-House PoC3/In-HousePOC3/in_housepoc3/data/Lemon_PreDict\\sub-032336\\sub-032336_EO3_eeg.fif...\n",
      "Isotrak not found\n",
      "    Range : 86280 ... 100780 =    345.120 ...   403.120 secs\n",
      "Ready.\n",
      "Reading 0 ... 14500  =      0.000 ...    58.000 secs...\n"
     ]
    },
    {
     "name": "stderr",
     "output_type": "stream",
     "text": [
      "C:\\Users\\PESYLV~1\\AppData\\Local\\Temp/ipykernel_29536/564882533.py:16: FutureWarning: The frame.append method is deprecated and will be removed from pandas in a future version. Use pandas.concat instead.\n",
      "  df = df.append({\"data\": rawpd, \"age\": int(mlab[:2])+2.5}, ignore_index=True)\n"
     ]
    },
    {
     "name": "stdout",
     "output_type": "stream",
     "text": [
      "<class 'list'>\n",
      "Opening raw data file C:/Users/pesylvestre/Documents/Informatique/BRAIL/FY2023 In-House PoC3/In-HousePOC3/in_housepoc3/data/Lemon_PreDict\\sub-032336\\sub-032336_EO4_eeg.fif...\n",
      "Isotrak not found\n",
      "    Range : 117246 ... 131747 =    468.984 ...   526.988 secs\n",
      "Ready.\n",
      "Reading 0 ... 14501  =      0.000 ...    58.004 secs...\n"
     ]
    },
    {
     "name": "stderr",
     "output_type": "stream",
     "text": [
      "C:\\Users\\PESYLV~1\\AppData\\Local\\Temp/ipykernel_29536/564882533.py:16: FutureWarning: The frame.append method is deprecated and will be removed from pandas in a future version. Use pandas.concat instead.\n",
      "  df = df.append({\"data\": rawpd, \"age\": int(mlab[:2])+2.5}, ignore_index=True)\n"
     ]
    },
    {
     "name": "stdout",
     "output_type": "stream",
     "text": [
      "<class 'list'>\n",
      "Opening raw data file C:/Users/pesylvestre/Documents/Informatique/BRAIL/FY2023 In-House PoC3/In-HousePOC3/in_housepoc3/data/Lemon_PreDict\\sub-032336\\sub-032336_EO5_eeg.fif...\n",
      "Isotrak not found\n",
      "    Range : 149619 ... 164120 =    598.476 ...   656.480 secs\n",
      "Ready.\n",
      "Reading 0 ... 14501  =      0.000 ...    58.004 secs...\n"
     ]
    },
    {
     "name": "stderr",
     "output_type": "stream",
     "text": [
      "C:\\Users\\PESYLV~1\\AppData\\Local\\Temp/ipykernel_29536/564882533.py:16: FutureWarning: The frame.append method is deprecated and will be removed from pandas in a future version. Use pandas.concat instead.\n",
      "  df = df.append({\"data\": rawpd, \"age\": int(mlab[:2])+2.5}, ignore_index=True)\n"
     ]
    },
    {
     "name": "stdout",
     "output_type": "stream",
     "text": [
      "<class 'list'>\n",
      "Opening raw data file C:/Users/pesylvestre/Documents/Informatique/BRAIL/FY2023 In-House PoC3/In-HousePOC3/in_housepoc3/data/Lemon_PreDict\\sub-032336\\sub-032336_EO6_eeg.fif...\n",
      "Isotrak not found\n",
      "    Range : 180528 ... 195028 =    722.112 ...   780.112 secs\n",
      "Ready.\n",
      "Reading 0 ... 14500  =      0.000 ...    58.000 secs...\n"
     ]
    },
    {
     "name": "stderr",
     "output_type": "stream",
     "text": [
      "C:\\Users\\PESYLV~1\\AppData\\Local\\Temp/ipykernel_29536/564882533.py:16: FutureWarning: The frame.append method is deprecated and will be removed from pandas in a future version. Use pandas.concat instead.\n",
      "  df = df.append({\"data\": rawpd, \"age\": int(mlab[:2])+2.5}, ignore_index=True)\n"
     ]
    },
    {
     "name": "stdout",
     "output_type": "stream",
     "text": [
      "<class 'list'>\n",
      "Opening raw data file C:/Users/pesylvestre/Documents/Informatique/BRAIL/FY2023 In-House PoC3/In-HousePOC3/in_housepoc3/data/Lemon_PreDict\\sub-032336\\sub-032336_EO7_eeg.fif...\n",
      "Isotrak not found\n",
      "    Range : 211407 ... 225908 =    845.628 ...   903.632 secs\n",
      "Ready.\n",
      "Reading 0 ... 14501  =      0.000 ...    58.004 secs...\n"
     ]
    },
    {
     "name": "stderr",
     "output_type": "stream",
     "text": [
      "C:\\Users\\PESYLV~1\\AppData\\Local\\Temp/ipykernel_29536/564882533.py:16: FutureWarning: The frame.append method is deprecated and will be removed from pandas in a future version. Use pandas.concat instead.\n",
      "  df = df.append({\"data\": rawpd, \"age\": int(mlab[:2])+2.5}, ignore_index=True)\n"
     ]
    },
    {
     "name": "stdout",
     "output_type": "stream",
     "text": [
      "<class 'list'>\n",
      "Opening raw data file C:/Users/pesylvestre/Documents/Informatique/BRAIL/FY2023 In-House PoC3/In-HousePOC3/in_housepoc3/data/Lemon_PreDict\\sub-032336\\sub-032336_EO8_eeg.fif...\n",
      "Isotrak not found\n",
      "    Range : 242402 ... 256903 =    969.608 ...  1027.612 secs\n",
      "Ready.\n",
      "Reading 0 ... 14501  =      0.000 ...    58.004 secs...\n"
     ]
    },
    {
     "name": "stderr",
     "output_type": "stream",
     "text": [
      "C:\\Users\\PESYLV~1\\AppData\\Local\\Temp/ipykernel_29536/564882533.py:16: FutureWarning: The frame.append method is deprecated and will be removed from pandas in a future version. Use pandas.concat instead.\n",
      "  df = df.append({\"data\": rawpd, \"age\": int(mlab[:2])+2.5}, ignore_index=True)\n"
     ]
    },
    {
     "name": "stdout",
     "output_type": "stream",
     "text": [
      "<class 'list'>\n",
      "Opening raw data file C:/Users/pesylvestre/Documents/Informatique/BRAIL/FY2023 In-House PoC3/In-HousePOC3/in_housepoc3/data/Lemon_PreDict\\sub-032337\\sub-032337_EC1_eeg.fif...\n",
      "Isotrak not found\n",
      "    Range : 1861 ... 16361 =      7.444 ...    65.444 secs\n",
      "Ready.\n",
      "Reading 0 ... 14500  =      0.000 ...    58.000 secs...\n"
     ]
    },
    {
     "name": "stderr",
     "output_type": "stream",
     "text": [
      "C:\\Users\\PESYLV~1\\AppData\\Local\\Temp/ipykernel_29536/564882533.py:16: FutureWarning: The frame.append method is deprecated and will be removed from pandas in a future version. Use pandas.concat instead.\n",
      "  df = df.append({\"data\": rawpd, \"age\": int(mlab[:2])+2.5}, ignore_index=True)\n"
     ]
    },
    {
     "name": "stdout",
     "output_type": "stream",
     "text": [
      "<class 'list'>\n",
      "Opening raw data file C:/Users/pesylvestre/Documents/Informatique/BRAIL/FY2023 In-House PoC3/In-HousePOC3/in_housepoc3/data/Lemon_PreDict\\sub-032337\\sub-032337_EC2_eeg.fif...\n",
      "Isotrak not found\n",
      "    Range : 32817 ... 47318 =    131.268 ...   189.272 secs\n",
      "Ready.\n",
      "Reading 0 ... 14501  =      0.000 ...    58.004 secs...\n"
     ]
    },
    {
     "name": "stderr",
     "output_type": "stream",
     "text": [
      "C:\\Users\\PESYLV~1\\AppData\\Local\\Temp/ipykernel_29536/564882533.py:16: FutureWarning: The frame.append method is deprecated and will be removed from pandas in a future version. Use pandas.concat instead.\n",
      "  df = df.append({\"data\": rawpd, \"age\": int(mlab[:2])+2.5}, ignore_index=True)\n"
     ]
    },
    {
     "name": "stdout",
     "output_type": "stream",
     "text": [
      "<class 'list'>\n",
      "Opening raw data file C:/Users/pesylvestre/Documents/Informatique/BRAIL/FY2023 In-House PoC3/In-HousePOC3/in_housepoc3/data/Lemon_PreDict\\sub-032337\\sub-032337_EC3_eeg.fif...\n",
      "Isotrak not found\n",
      "    Range : 65272 ... 79772 =    261.088 ...   319.088 secs\n",
      "Ready.\n",
      "Reading 0 ... 14500  =      0.000 ...    58.000 secs...\n"
     ]
    },
    {
     "name": "stderr",
     "output_type": "stream",
     "text": [
      "C:\\Users\\PESYLV~1\\AppData\\Local\\Temp/ipykernel_29536/564882533.py:16: FutureWarning: The frame.append method is deprecated and will be removed from pandas in a future version. Use pandas.concat instead.\n",
      "  df = df.append({\"data\": rawpd, \"age\": int(mlab[:2])+2.5}, ignore_index=True)\n"
     ]
    },
    {
     "name": "stdout",
     "output_type": "stream",
     "text": [
      "<class 'list'>\n",
      "Opening raw data file C:/Users/pesylvestre/Documents/Informatique/BRAIL/FY2023 In-House PoC3/In-HousePOC3/in_housepoc3/data/Lemon_PreDict\\sub-032337\\sub-032337_EC4_eeg.fif...\n",
      "Isotrak not found\n",
      "    Range : 96238 ... 110738 =    384.952 ...   442.952 secs\n",
      "Ready.\n",
      "Reading 0 ... 14500  =      0.000 ...    58.000 secs...\n"
     ]
    },
    {
     "name": "stderr",
     "output_type": "stream",
     "text": [
      "C:\\Users\\PESYLV~1\\AppData\\Local\\Temp/ipykernel_29536/564882533.py:16: FutureWarning: The frame.append method is deprecated and will be removed from pandas in a future version. Use pandas.concat instead.\n",
      "  df = df.append({\"data\": rawpd, \"age\": int(mlab[:2])+2.5}, ignore_index=True)\n"
     ]
    },
    {
     "name": "stdout",
     "output_type": "stream",
     "text": [
      "<class 'list'>\n",
      "Opening raw data file C:/Users/pesylvestre/Documents/Informatique/BRAIL/FY2023 In-House PoC3/In-HousePOC3/in_housepoc3/data/Lemon_PreDict\\sub-032337\\sub-032337_EC5_eeg.fif...\n",
      "Isotrak not found\n",
      "    Range : 127712 ... 142212 =    510.848 ...   568.848 secs\n",
      "Ready.\n",
      "Reading 0 ... 14500  =      0.000 ...    58.000 secs...\n"
     ]
    },
    {
     "name": "stderr",
     "output_type": "stream",
     "text": [
      "C:\\Users\\PESYLV~1\\AppData\\Local\\Temp/ipykernel_29536/564882533.py:16: FutureWarning: The frame.append method is deprecated and will be removed from pandas in a future version. Use pandas.concat instead.\n",
      "  df = df.append({\"data\": rawpd, \"age\": int(mlab[:2])+2.5}, ignore_index=True)\n"
     ]
    },
    {
     "name": "stdout",
     "output_type": "stream",
     "text": [
      "<class 'list'>\n",
      "Opening raw data file C:/Users/pesylvestre/Documents/Informatique/BRAIL/FY2023 In-House PoC3/In-HousePOC3/in_housepoc3/data/Lemon_PreDict\\sub-032337\\sub-032337_EC6_eeg.fif...\n",
      "Isotrak not found\n",
      "    Range : 159579 ... 174079 =    638.316 ...   696.316 secs\n",
      "Ready.\n",
      "Reading 0 ... 14500  =      0.000 ...    58.000 secs...\n"
     ]
    },
    {
     "name": "stderr",
     "output_type": "stream",
     "text": [
      "C:\\Users\\PESYLV~1\\AppData\\Local\\Temp/ipykernel_29536/564882533.py:16: FutureWarning: The frame.append method is deprecated and will be removed from pandas in a future version. Use pandas.concat instead.\n",
      "  df = df.append({\"data\": rawpd, \"age\": int(mlab[:2])+2.5}, ignore_index=True)\n"
     ]
    },
    {
     "name": "stdout",
     "output_type": "stream",
     "text": [
      "<class 'list'>\n",
      "Opening raw data file C:/Users/pesylvestre/Documents/Informatique/BRAIL/FY2023 In-House PoC3/In-HousePOC3/in_housepoc3/data/Lemon_PreDict\\sub-032337\\sub-032337_EC7_eeg.fif...\n",
      "Isotrak not found\n",
      "    Range : 191101 ... 205601 =    764.404 ...   822.404 secs\n",
      "Ready.\n",
      "Reading 0 ... 14500  =      0.000 ...    58.000 secs...\n"
     ]
    },
    {
     "name": "stderr",
     "output_type": "stream",
     "text": [
      "C:\\Users\\PESYLV~1\\AppData\\Local\\Temp/ipykernel_29536/564882533.py:16: FutureWarning: The frame.append method is deprecated and will be removed from pandas in a future version. Use pandas.concat instead.\n",
      "  df = df.append({\"data\": rawpd, \"age\": int(mlab[:2])+2.5}, ignore_index=True)\n"
     ]
    },
    {
     "name": "stdout",
     "output_type": "stream",
     "text": [
      "<class 'list'>\n",
      "Opening raw data file C:/Users/pesylvestre/Documents/Informatique/BRAIL/FY2023 In-House PoC3/In-HousePOC3/in_housepoc3/data/Lemon_PreDict\\sub-032337\\sub-032337_EC8_eeg.fif...\n",
      "Isotrak not found\n",
      "    Range : 222469 ... 236969 =    889.876 ...   947.876 secs\n",
      "Ready.\n",
      "Reading 0 ... 14500  =      0.000 ...    58.000 secs...\n"
     ]
    },
    {
     "name": "stderr",
     "output_type": "stream",
     "text": [
      "C:\\Users\\PESYLV~1\\AppData\\Local\\Temp/ipykernel_29536/564882533.py:16: FutureWarning: The frame.append method is deprecated and will be removed from pandas in a future version. Use pandas.concat instead.\n",
      "  df = df.append({\"data\": rawpd, \"age\": int(mlab[:2])+2.5}, ignore_index=True)\n"
     ]
    },
    {
     "name": "stdout",
     "output_type": "stream",
     "text": [
      "<class 'list'>\n",
      "Opening raw data file C:/Users/pesylvestre/Documents/Informatique/BRAIL/FY2023 In-House PoC3/In-HousePOC3/in_housepoc3/data/Lemon_PreDict\\sub-032337\\sub-032337_EO1_eeg.fif...\n",
      "Isotrak not found\n",
      "    Range : 17262 ... 31762 =     69.048 ...   127.048 secs\n",
      "Ready.\n",
      "Reading 0 ... 14500  =      0.000 ...    58.000 secs...\n"
     ]
    },
    {
     "name": "stderr",
     "output_type": "stream",
     "text": [
      "C:\\Users\\PESYLV~1\\AppData\\Local\\Temp/ipykernel_29536/564882533.py:16: FutureWarning: The frame.append method is deprecated and will be removed from pandas in a future version. Use pandas.concat instead.\n",
      "  df = df.append({\"data\": rawpd, \"age\": int(mlab[:2])+2.5}, ignore_index=True)\n"
     ]
    },
    {
     "name": "stdout",
     "output_type": "stream",
     "text": [
      "<class 'list'>\n",
      "Opening raw data file C:/Users/pesylvestre/Documents/Informatique/BRAIL/FY2023 In-House PoC3/In-HousePOC3/in_housepoc3/data/Lemon_PreDict\\sub-032337\\sub-032337_EO2_eeg.fif...\n",
      "Isotrak not found\n",
      "    Range : 48392 ... 62893 =    193.568 ...   251.572 secs\n",
      "Ready.\n",
      "Reading 0 ... 14501  =      0.000 ...    58.004 secs...\n",
      "<class 'list'>\n"
     ]
    },
    {
     "name": "stderr",
     "output_type": "stream",
     "text": [
      "C:\\Users\\PESYLV~1\\AppData\\Local\\Temp/ipykernel_29536/564882533.py:16: FutureWarning: The frame.append method is deprecated and will be removed from pandas in a future version. Use pandas.concat instead.\n",
      "  df = df.append({\"data\": rawpd, \"age\": int(mlab[:2])+2.5}, ignore_index=True)\n"
     ]
    },
    {
     "name": "stdout",
     "output_type": "stream",
     "text": [
      "Opening raw data file C:/Users/pesylvestre/Documents/Informatique/BRAIL/FY2023 In-House PoC3/In-HousePOC3/in_housepoc3/data/Lemon_PreDict\\sub-032337\\sub-032337_EO3_eeg.fif...\n",
      "Isotrak not found\n",
      "    Range : 80672 ... 95172 =    322.688 ...   380.688 secs\n",
      "Ready.\n",
      "Reading 0 ... 14500  =      0.000 ...    58.000 secs...\n"
     ]
    },
    {
     "name": "stderr",
     "output_type": "stream",
     "text": [
      "C:\\Users\\PESYLV~1\\AppData\\Local\\Temp/ipykernel_29536/564882533.py:16: FutureWarning: The frame.append method is deprecated and will be removed from pandas in a future version. Use pandas.concat instead.\n",
      "  df = df.append({\"data\": rawpd, \"age\": int(mlab[:2])+2.5}, ignore_index=True)\n"
     ]
    },
    {
     "name": "stdout",
     "output_type": "stream",
     "text": [
      "<class 'list'>\n",
      "Opening raw data file C:/Users/pesylvestre/Documents/Informatique/BRAIL/FY2023 In-House PoC3/In-HousePOC3/in_housepoc3/data/Lemon_PreDict\\sub-032337\\sub-032337_EO4_eeg.fif...\n",
      "Isotrak not found\n",
      "    Range : 111813 ... 126313 =    447.252 ...   505.252 secs\n",
      "Ready.\n",
      "Reading 0 ... 14500  =      0.000 ...    58.000 secs...\n"
     ]
    },
    {
     "name": "stderr",
     "output_type": "stream",
     "text": [
      "C:\\Users\\PESYLV~1\\AppData\\Local\\Temp/ipykernel_29536/564882533.py:16: FutureWarning: The frame.append method is deprecated and will be removed from pandas in a future version. Use pandas.concat instead.\n",
      "  df = df.append({\"data\": rawpd, \"age\": int(mlab[:2])+2.5}, ignore_index=True)\n"
     ]
    },
    {
     "name": "stdout",
     "output_type": "stream",
     "text": [
      "<class 'list'>\n",
      "Opening raw data file C:/Users/pesylvestre/Documents/Informatique/BRAIL/FY2023 In-House PoC3/In-HousePOC3/in_housepoc3/data/Lemon_PreDict\\sub-032337\\sub-032337_EO5_eeg.fif...\n",
      "Isotrak not found\n",
      "    Range : 144024 ... 158524 =    576.096 ...   634.096 secs\n",
      "Ready.\n",
      "Reading 0 ... 14500  =      0.000 ...    58.000 secs...\n"
     ]
    },
    {
     "name": "stderr",
     "output_type": "stream",
     "text": [
      "C:\\Users\\PESYLV~1\\AppData\\Local\\Temp/ipykernel_29536/564882533.py:16: FutureWarning: The frame.append method is deprecated and will be removed from pandas in a future version. Use pandas.concat instead.\n",
      "  df = df.append({\"data\": rawpd, \"age\": int(mlab[:2])+2.5}, ignore_index=True)\n"
     ]
    },
    {
     "name": "stdout",
     "output_type": "stream",
     "text": [
      "<class 'list'>\n",
      "Opening raw data file C:/Users/pesylvestre/Documents/Informatique/BRAIL/FY2023 In-House PoC3/In-HousePOC3/in_housepoc3/data/Lemon_PreDict\\sub-032337\\sub-032337_EO6_eeg.fif...\n",
      "Isotrak not found\n",
      "    Range : 175554 ... 190055 =    702.216 ...   760.220 secs\n",
      "Ready.\n",
      "Reading 0 ... 14501  =      0.000 ...    58.004 secs...\n"
     ]
    },
    {
     "name": "stderr",
     "output_type": "stream",
     "text": [
      "C:\\Users\\PESYLV~1\\AppData\\Local\\Temp/ipykernel_29536/564882533.py:16: FutureWarning: The frame.append method is deprecated and will be removed from pandas in a future version. Use pandas.concat instead.\n",
      "  df = df.append({\"data\": rawpd, \"age\": int(mlab[:2])+2.5}, ignore_index=True)\n"
     ]
    },
    {
     "name": "stdout",
     "output_type": "stream",
     "text": [
      "<class 'list'>\n",
      "Opening raw data file C:/Users/pesylvestre/Documents/Informatique/BRAIL/FY2023 In-House PoC3/In-HousePOC3/in_housepoc3/data/Lemon_PreDict\\sub-032337\\sub-032337_EO7_eeg.fif...\n"
     ]
    },
    {
     "name": "stderr",
     "output_type": "stream",
     "text": [
      "C:\\Users\\PESYLV~1\\AppData\\Local\\Temp/ipykernel_29536/564882533.py:16: FutureWarning: The frame.append method is deprecated and will be removed from pandas in a future version. Use pandas.concat instead.\n",
      "  df = df.append({\"data\": rawpd, \"age\": int(mlab[:2])+2.5}, ignore_index=True)\n"
     ]
    },
    {
     "name": "stdout",
     "output_type": "stream",
     "text": [
      "Isotrak not found\n",
      "    Range : 206579 ... 221080 =    826.316 ...   884.320 secs\n",
      "Ready.\n",
      "Reading 0 ... 14501  =      0.000 ...    58.004 secs...\n",
      "<class 'list'>\n",
      "Opening raw data file C:/Users/pesylvestre/Documents/Informatique/BRAIL/FY2023 In-House PoC3/In-HousePOC3/in_housepoc3/data/Lemon_PreDict\\sub-032337\\sub-032337_EO8_eeg.fif...\n"
     ]
    },
    {
     "name": "stderr",
     "output_type": "stream",
     "text": [
      "C:\\Users\\PESYLV~1\\AppData\\Local\\Temp/ipykernel_29536/564882533.py:16: FutureWarning: The frame.append method is deprecated and will be removed from pandas in a future version. Use pandas.concat instead.\n",
      "  df = df.append({\"data\": rawpd, \"age\": int(mlab[:2])+2.5}, ignore_index=True)\n"
     ]
    },
    {
     "name": "stdout",
     "output_type": "stream",
     "text": [
      "Isotrak not found\n",
      "    Range : 238257 ... 252758 =    953.028 ...  1011.032 secs\n",
      "Ready.\n",
      "Reading 0 ... 14501  =      0.000 ...    58.004 secs...\n",
      "<class 'list'>\n",
      "Opening raw data file C:/Users/pesylvestre/Documents/Informatique/BRAIL/FY2023 In-House PoC3/In-HousePOC3/in_housepoc3/data/Lemon_PreDict\\sub-032338\\sub-032338_EC1_eeg.fif...\n",
      "Isotrak not found\n",
      "    Range : 1890 ... 16391 =      7.560 ...    65.564 secs\n",
      "Ready.\n",
      "Reading 0 ... 14501  =      0.000 ...    58.004 secs...\n"
     ]
    },
    {
     "name": "stderr",
     "output_type": "stream",
     "text": [
      "C:\\Users\\PESYLV~1\\AppData\\Local\\Temp/ipykernel_29536/564882533.py:16: FutureWarning: The frame.append method is deprecated and will be removed from pandas in a future version. Use pandas.concat instead.\n",
      "  df = df.append({\"data\": rawpd, \"age\": int(mlab[:2])+2.5}, ignore_index=True)\n"
     ]
    },
    {
     "name": "stdout",
     "output_type": "stream",
     "text": [
      "<class 'list'>\n",
      "Opening raw data file C:/Users/pesylvestre/Documents/Informatique/BRAIL/FY2023 In-House PoC3/In-HousePOC3/in_housepoc3/data/Lemon_PreDict\\sub-032338\\sub-032338_EC2_eeg.fif...\n",
      "Isotrak not found\n",
      "    Range : 32808 ... 47308 =    131.232 ...   189.232 secs\n",
      "Ready.\n",
      "Reading 0 ... 14500  =      0.000 ...    58.000 secs...\n"
     ]
    },
    {
     "name": "stderr",
     "output_type": "stream",
     "text": [
      "C:\\Users\\PESYLV~1\\AppData\\Local\\Temp/ipykernel_29536/564882533.py:16: FutureWarning: The frame.append method is deprecated and will be removed from pandas in a future version. Use pandas.concat instead.\n",
      "  df = df.append({\"data\": rawpd, \"age\": int(mlab[:2])+2.5}, ignore_index=True)\n"
     ]
    },
    {
     "name": "stdout",
     "output_type": "stream",
     "text": [
      "<class 'list'>\n",
      "Opening raw data file C:/Users/pesylvestre/Documents/Informatique/BRAIL/FY2023 In-House PoC3/In-HousePOC3/in_housepoc3/data/Lemon_PreDict\\sub-032338\\sub-032338_EC3_eeg.fif...\n",
      "Isotrak not found\n",
      "    Range : 63816 ... 78316 =    255.264 ...   313.264 secs\n",
      "Ready.\n",
      "Reading 0 ... 14500  =      0.000 ...    58.000 secs...\n"
     ]
    },
    {
     "name": "stderr",
     "output_type": "stream",
     "text": [
      "C:\\Users\\PESYLV~1\\AppData\\Local\\Temp/ipykernel_29536/564882533.py:16: FutureWarning: The frame.append method is deprecated and will be removed from pandas in a future version. Use pandas.concat instead.\n",
      "  df = df.append({\"data\": rawpd, \"age\": int(mlab[:2])+2.5}, ignore_index=True)\n"
     ]
    },
    {
     "name": "stdout",
     "output_type": "stream",
     "text": [
      "<class 'list'>\n",
      "Opening raw data file C:/Users/pesylvestre/Documents/Informatique/BRAIL/FY2023 In-House PoC3/In-HousePOC3/in_housepoc3/data/Lemon_PreDict\\sub-032338\\sub-032338_EC4_eeg.fif...\n",
      "Isotrak not found\n",
      "    Range : 94906 ... 109406 =    379.624 ...   437.624 secs\n",
      "Ready.\n",
      "Reading 0 ... 14500  =      0.000 ...    58.000 secs...\n"
     ]
    },
    {
     "name": "stderr",
     "output_type": "stream",
     "text": [
      "C:\\Users\\PESYLV~1\\AppData\\Local\\Temp/ipykernel_29536/564882533.py:16: FutureWarning: The frame.append method is deprecated and will be removed from pandas in a future version. Use pandas.concat instead.\n",
      "  df = df.append({\"data\": rawpd, \"age\": int(mlab[:2])+2.5}, ignore_index=True)\n"
     ]
    },
    {
     "name": "stdout",
     "output_type": "stream",
     "text": [
      "<class 'list'>\n",
      "Opening raw data file C:/Users/pesylvestre/Documents/Informatique/BRAIL/FY2023 In-House PoC3/In-HousePOC3/in_housepoc3/data/Lemon_PreDict\\sub-032338\\sub-032338_EC5_eeg.fif...\n",
      "Isotrak not found\n",
      "    Range : 125936 ... 140437 =    503.744 ...   561.748 secs\n",
      "Ready.\n",
      "Reading 0 ... 14501  =      0.000 ...    58.004 secs...\n"
     ]
    },
    {
     "name": "stderr",
     "output_type": "stream",
     "text": [
      "C:\\Users\\PESYLV~1\\AppData\\Local\\Temp/ipykernel_29536/564882533.py:16: FutureWarning: The frame.append method is deprecated and will be removed from pandas in a future version. Use pandas.concat instead.\n",
      "  df = df.append({\"data\": rawpd, \"age\": int(mlab[:2])+2.5}, ignore_index=True)\n"
     ]
    },
    {
     "name": "stdout",
     "output_type": "stream",
     "text": [
      "<class 'list'>\n",
      "Opening raw data file C:/Users/pesylvestre/Documents/Informatique/BRAIL/FY2023 In-House PoC3/In-HousePOC3/in_housepoc3/data/Lemon_PreDict\\sub-032338\\sub-032338_EC6_eeg.fif...\n",
      "Isotrak not found\n",
      "    Range : 157096 ... 171597 =    628.384 ...   686.388 secs\n",
      "Ready.\n",
      "Reading 0 ... 14501  =      0.000 ...    58.004 secs...\n"
     ]
    },
    {
     "name": "stderr",
     "output_type": "stream",
     "text": [
      "C:\\Users\\PESYLV~1\\AppData\\Local\\Temp/ipykernel_29536/564882533.py:16: FutureWarning: The frame.append method is deprecated and will be removed from pandas in a future version. Use pandas.concat instead.\n",
      "  df = df.append({\"data\": rawpd, \"age\": int(mlab[:2])+2.5}, ignore_index=True)\n"
     ]
    },
    {
     "name": "stdout",
     "output_type": "stream",
     "text": [
      "<class 'list'>\n",
      "Opening raw data file C:/Users/pesylvestre/Documents/Informatique/BRAIL/FY2023 In-House PoC3/In-HousePOC3/in_housepoc3/data/Lemon_PreDict\\sub-032338\\sub-032338_EC7_eeg.fif...\n",
      "Isotrak not found\n",
      "    Range : 188155 ... 202655 =    752.620 ...   810.620 secs\n",
      "Ready.\n",
      "Reading 0 ... 14500  =      0.000 ...    58.000 secs...\n"
     ]
    },
    {
     "name": "stderr",
     "output_type": "stream",
     "text": [
      "C:\\Users\\PESYLV~1\\AppData\\Local\\Temp/ipykernel_29536/564882533.py:16: FutureWarning: The frame.append method is deprecated and will be removed from pandas in a future version. Use pandas.concat instead.\n",
      "  df = df.append({\"data\": rawpd, \"age\": int(mlab[:2])+2.5}, ignore_index=True)\n"
     ]
    },
    {
     "name": "stdout",
     "output_type": "stream",
     "text": [
      "<class 'list'>\n",
      "Opening raw data file C:/Users/pesylvestre/Documents/Informatique/BRAIL/FY2023 In-House PoC3/In-HousePOC3/in_housepoc3/data/Lemon_PreDict\\sub-032338\\sub-032338_EC8_eeg.fif...\n",
      "Isotrak not found\n",
      "    Range : 219708 ... 234209 =    878.832 ...   936.836 secs\n",
      "Ready.\n",
      "Reading 0 ... 14501  =      0.000 ...    58.004 secs...\n"
     ]
    },
    {
     "name": "stderr",
     "output_type": "stream",
     "text": [
      "C:\\Users\\PESYLV~1\\AppData\\Local\\Temp/ipykernel_29536/564882533.py:16: FutureWarning: The frame.append method is deprecated and will be removed from pandas in a future version. Use pandas.concat instead.\n",
      "  df = df.append({\"data\": rawpd, \"age\": int(mlab[:2])+2.5}, ignore_index=True)\n"
     ]
    },
    {
     "name": "stdout",
     "output_type": "stream",
     "text": [
      "<class 'list'>\n",
      "Opening raw data file C:/Users/pesylvestre/Documents/Informatique/BRAIL/FY2023 In-House PoC3/In-HousePOC3/in_housepoc3/data/Lemon_PreDict\\sub-032338\\sub-032338_EO1_eeg.fif...\n",
      "Isotrak not found\n",
      "    Range : 17351 ... 31851 =     69.404 ...   127.404 secs\n",
      "Ready.\n",
      "Reading 0 ... 14500  =      0.000 ...    58.000 secs...\n"
     ]
    },
    {
     "name": "stderr",
     "output_type": "stream",
     "text": [
      "C:\\Users\\PESYLV~1\\AppData\\Local\\Temp/ipykernel_29536/564882533.py:16: FutureWarning: The frame.append method is deprecated and will be removed from pandas in a future version. Use pandas.concat instead.\n",
      "  df = df.append({\"data\": rawpd, \"age\": int(mlab[:2])+2.5}, ignore_index=True)\n"
     ]
    },
    {
     "name": "stdout",
     "output_type": "stream",
     "text": [
      "<class 'list'>\n",
      "Opening raw data file C:/Users/pesylvestre/Documents/Informatique/BRAIL/FY2023 In-House PoC3/In-HousePOC3/in_housepoc3/data/Lemon_PreDict\\sub-032338\\sub-032338_EO2_eeg.fif...\n",
      "Isotrak not found\n",
      "    Range : 48276 ... 62777 =    193.104 ...   251.108 secs\n",
      "Ready.\n",
      "Reading 0 ... 14501  =      0.000 ...    58.004 secs...\n"
     ]
    },
    {
     "name": "stderr",
     "output_type": "stream",
     "text": [
      "C:\\Users\\PESYLV~1\\AppData\\Local\\Temp/ipykernel_29536/564882533.py:16: FutureWarning: The frame.append method is deprecated and will be removed from pandas in a future version. Use pandas.concat instead.\n",
      "  df = df.append({\"data\": rawpd, \"age\": int(mlab[:2])+2.5}, ignore_index=True)\n"
     ]
    },
    {
     "name": "stdout",
     "output_type": "stream",
     "text": [
      "<class 'list'>\n",
      "Opening raw data file C:/Users/pesylvestre/Documents/Informatique/BRAIL/FY2023 In-House PoC3/In-HousePOC3/in_housepoc3/data/Lemon_PreDict\\sub-032338\\sub-032338_EO3_eeg.fif...\n",
      "Isotrak not found\n",
      "    Range : 79327 ... 93827 =    317.308 ...   375.308 secs\n",
      "Ready.\n",
      "Reading 0 ... 14500  =      0.000 ...    58.000 secs...\n"
     ]
    },
    {
     "name": "stderr",
     "output_type": "stream",
     "text": [
      "C:\\Users\\PESYLV~1\\AppData\\Local\\Temp/ipykernel_29536/564882533.py:16: FutureWarning: The frame.append method is deprecated and will be removed from pandas in a future version. Use pandas.concat instead.\n",
      "  df = df.append({\"data\": rawpd, \"age\": int(mlab[:2])+2.5}, ignore_index=True)\n"
     ]
    },
    {
     "name": "stdout",
     "output_type": "stream",
     "text": [
      "<class 'list'>\n",
      "Opening raw data file C:/Users/pesylvestre/Documents/Informatique/BRAIL/FY2023 In-House PoC3/In-HousePOC3/in_housepoc3/data/Lemon_PreDict\\sub-032338\\sub-032338_EO4_eeg.fif...\n",
      "Isotrak not found\n",
      "    Range : 110409 ... 124910 =    441.636 ...   499.640 secs\n",
      "Ready.\n",
      "Reading 0 ... 14501  =      0.000 ...    58.004 secs...\n"
     ]
    },
    {
     "name": "stderr",
     "output_type": "stream",
     "text": [
      "C:\\Users\\PESYLV~1\\AppData\\Local\\Temp/ipykernel_29536/564882533.py:16: FutureWarning: The frame.append method is deprecated and will be removed from pandas in a future version. Use pandas.concat instead.\n",
      "  df = df.append({\"data\": rawpd, \"age\": int(mlab[:2])+2.5}, ignore_index=True)\n"
     ]
    },
    {
     "name": "stdout",
     "output_type": "stream",
     "text": [
      "<class 'list'>\n",
      "Opening raw data file C:/Users/pesylvestre/Documents/Informatique/BRAIL/FY2023 In-House PoC3/In-HousePOC3/in_housepoc3/data/Lemon_PreDict\\sub-032338\\sub-032338_EO5_eeg.fif...\n",
      "Isotrak not found\n",
      "    Range : 141533 ... 156033 =    566.132 ...   624.132 secs\n",
      "Ready.\n",
      "Reading 0 ... 14500  =      0.000 ...    58.000 secs...\n"
     ]
    },
    {
     "name": "stderr",
     "output_type": "stream",
     "text": [
      "C:\\Users\\PESYLV~1\\AppData\\Local\\Temp/ipykernel_29536/564882533.py:16: FutureWarning: The frame.append method is deprecated and will be removed from pandas in a future version. Use pandas.concat instead.\n",
      "  df = df.append({\"data\": rawpd, \"age\": int(mlab[:2])+2.5}, ignore_index=True)\n"
     ]
    },
    {
     "name": "stdout",
     "output_type": "stream",
     "text": [
      "<class 'list'>\n",
      "Opening raw data file C:/Users/pesylvestre/Documents/Informatique/BRAIL/FY2023 In-House PoC3/In-HousePOC3/in_housepoc3/data/Lemon_PreDict\\sub-032338\\sub-032338_EO6_eeg.fif...\n",
      "Isotrak not found\n",
      "    Range : 172611 ... 187111 =    690.444 ...   748.444 secs\n",
      "Ready.\n",
      "Reading 0 ... 14500  =      0.000 ...    58.000 secs...\n"
     ]
    },
    {
     "name": "stderr",
     "output_type": "stream",
     "text": [
      "C:\\Users\\PESYLV~1\\AppData\\Local\\Temp/ipykernel_29536/564882533.py:16: FutureWarning: The frame.append method is deprecated and will be removed from pandas in a future version. Use pandas.concat instead.\n",
      "  df = df.append({\"data\": rawpd, \"age\": int(mlab[:2])+2.5}, ignore_index=True)\n"
     ]
    },
    {
     "name": "stdout",
     "output_type": "stream",
     "text": [
      "<class 'list'>\n",
      "Opening raw data file C:/Users/pesylvestre/Documents/Informatique/BRAIL/FY2023 In-House PoC3/In-HousePOC3/in_housepoc3/data/Lemon_PreDict\\sub-032338\\sub-032338_EO7_eeg.fif...\n",
      "Isotrak not found\n",
      "    Range : 203714 ... 218214 =    814.856 ...   872.856 secs\n",
      "Ready.\n",
      "Reading 0 ... 14500  =      0.000 ...    58.000 secs...\n"
     ]
    },
    {
     "name": "stderr",
     "output_type": "stream",
     "text": [
      "C:\\Users\\PESYLV~1\\AppData\\Local\\Temp/ipykernel_29536/564882533.py:16: FutureWarning: The frame.append method is deprecated and will be removed from pandas in a future version. Use pandas.concat instead.\n",
      "  df = df.append({\"data\": rawpd, \"age\": int(mlab[:2])+2.5}, ignore_index=True)\n"
     ]
    },
    {
     "name": "stdout",
     "output_type": "stream",
     "text": [
      "<class 'list'>\n",
      "Opening raw data file C:/Users/pesylvestre/Documents/Informatique/BRAIL/FY2023 In-House PoC3/In-HousePOC3/in_housepoc3/data/Lemon_PreDict\\sub-032338\\sub-032338_EO8_eeg.fif...\n",
      "Isotrak not found\n",
      "    Range : 235867 ... 250367 =    943.468 ...  1001.468 secs\n",
      "Ready.\n",
      "Reading 0 ... 14500  =      0.000 ...    58.000 secs...\n"
     ]
    },
    {
     "name": "stderr",
     "output_type": "stream",
     "text": [
      "C:\\Users\\PESYLV~1\\AppData\\Local\\Temp/ipykernel_29536/564882533.py:16: FutureWarning: The frame.append method is deprecated and will be removed from pandas in a future version. Use pandas.concat instead.\n",
      "  df = df.append({\"data\": rawpd, \"age\": int(mlab[:2])+2.5}, ignore_index=True)\n"
     ]
    },
    {
     "name": "stdout",
     "output_type": "stream",
     "text": [
      "<class 'list'>\n",
      "Opening raw data file C:/Users/pesylvestre/Documents/Informatique/BRAIL/FY2023 In-House PoC3/In-HousePOC3/in_housepoc3/data/Lemon_PreDict\\sub-032339\\sub-032339_EC1_eeg.fif...\n",
      "Isotrak not found\n",
      "    Range : 1653 ... 16154 =      6.612 ...    64.616 secs\n",
      "Ready.\n",
      "Reading 0 ... 14501  =      0.000 ...    58.004 secs...\n"
     ]
    },
    {
     "name": "stderr",
     "output_type": "stream",
     "text": [
      "C:\\Users\\PESYLV~1\\AppData\\Local\\Temp/ipykernel_29536/564882533.py:16: FutureWarning: The frame.append method is deprecated and will be removed from pandas in a future version. Use pandas.concat instead.\n",
      "  df = df.append({\"data\": rawpd, \"age\": int(mlab[:2])+2.5}, ignore_index=True)\n"
     ]
    },
    {
     "name": "stdout",
     "output_type": "stream",
     "text": [
      "<class 'list'>\n",
      "Opening raw data file C:/Users/pesylvestre/Documents/Informatique/BRAIL/FY2023 In-House PoC3/In-HousePOC3/in_housepoc3/data/Lemon_PreDict\\sub-032339\\sub-032339_EC2_eeg.fif...\n",
      "Isotrak not found\n",
      "    Range : 32573 ... 47074 =    130.292 ...   188.296 secs\n",
      "Ready.\n",
      "Reading 0 ... 14501  =      0.000 ...    58.004 secs...\n"
     ]
    },
    {
     "name": "stderr",
     "output_type": "stream",
     "text": [
      "C:\\Users\\PESYLV~1\\AppData\\Local\\Temp/ipykernel_29536/564882533.py:16: FutureWarning: The frame.append method is deprecated and will be removed from pandas in a future version. Use pandas.concat instead.\n",
      "  df = df.append({\"data\": rawpd, \"age\": int(mlab[:2])+2.5}, ignore_index=True)\n"
     ]
    },
    {
     "name": "stdout",
     "output_type": "stream",
     "text": [
      "<class 'list'>\n",
      "Opening raw data file C:/Users/pesylvestre/Documents/Informatique/BRAIL/FY2023 In-House PoC3/In-HousePOC3/in_housepoc3/data/Lemon_PreDict\\sub-032339\\sub-032339_EC3_eeg.fif...\n",
      "Isotrak not found\n",
      "    Range : 63629 ... 78130 =    254.516 ...   312.520 secs\n",
      "Ready.\n",
      "Reading 0 ... 14501  =      0.000 ...    58.004 secs...\n"
     ]
    },
    {
     "name": "stderr",
     "output_type": "stream",
     "text": [
      "C:\\Users\\PESYLV~1\\AppData\\Local\\Temp/ipykernel_29536/564882533.py:16: FutureWarning: The frame.append method is deprecated and will be removed from pandas in a future version. Use pandas.concat instead.\n",
      "  df = df.append({\"data\": rawpd, \"age\": int(mlab[:2])+2.5}, ignore_index=True)\n"
     ]
    },
    {
     "name": "stdout",
     "output_type": "stream",
     "text": [
      "<class 'list'>\n",
      "Opening raw data file C:/Users/pesylvestre/Documents/Informatique/BRAIL/FY2023 In-House PoC3/In-HousePOC3/in_housepoc3/data/Lemon_PreDict\\sub-032339\\sub-032339_EC4_eeg.fif...\n",
      "Isotrak not found\n",
      "    Range : 94606 ... 109106 =    378.424 ...   436.424 secs\n",
      "Ready.\n",
      "Reading 0 ... 14500  =      0.000 ...    58.000 secs...\n"
     ]
    },
    {
     "name": "stderr",
     "output_type": "stream",
     "text": [
      "C:\\Users\\PESYLV~1\\AppData\\Local\\Temp/ipykernel_29536/564882533.py:16: FutureWarning: The frame.append method is deprecated and will be removed from pandas in a future version. Use pandas.concat instead.\n",
      "  df = df.append({\"data\": rawpd, \"age\": int(mlab[:2])+2.5}, ignore_index=True)\n"
     ]
    },
    {
     "name": "stdout",
     "output_type": "stream",
     "text": [
      "<class 'list'>\n",
      "Opening raw data file C:/Users/pesylvestre/Documents/Informatique/BRAIL/FY2023 In-House PoC3/In-HousePOC3/in_housepoc3/data/Lemon_PreDict\\sub-032339\\sub-032339_EC5_eeg.fif...\n",
      "Isotrak not found\n",
      "    Range : 125628 ... 140128 =    502.512 ...   560.512 secs\n",
      "Ready.\n",
      "Reading 0 ... 14500  =      0.000 ...    58.000 secs...\n"
     ]
    },
    {
     "name": "stderr",
     "output_type": "stream",
     "text": [
      "C:\\Users\\PESYLV~1\\AppData\\Local\\Temp/ipykernel_29536/564882533.py:16: FutureWarning: The frame.append method is deprecated and will be removed from pandas in a future version. Use pandas.concat instead.\n",
      "  df = df.append({\"data\": rawpd, \"age\": int(mlab[:2])+2.5}, ignore_index=True)\n"
     ]
    },
    {
     "name": "stdout",
     "output_type": "stream",
     "text": [
      "<class 'list'>\n",
      "Opening raw data file C:/Users/pesylvestre/Documents/Informatique/BRAIL/FY2023 In-House PoC3/In-HousePOC3/in_housepoc3/data/Lemon_PreDict\\sub-032339\\sub-032339_EC6_eeg.fif...\n",
      "Isotrak not found\n",
      "    Range : 156802 ... 171302 =    627.208 ...   685.208 secs\n",
      "Ready.\n",
      "Reading 0 ... 14500  =      0.000 ...    58.000 secs...\n"
     ]
    },
    {
     "name": "stderr",
     "output_type": "stream",
     "text": [
      "C:\\Users\\PESYLV~1\\AppData\\Local\\Temp/ipykernel_29536/564882533.py:16: FutureWarning: The frame.append method is deprecated and will be removed from pandas in a future version. Use pandas.concat instead.\n",
      "  df = df.append({\"data\": rawpd, \"age\": int(mlab[:2])+2.5}, ignore_index=True)\n"
     ]
    },
    {
     "name": "stdout",
     "output_type": "stream",
     "text": [
      "<class 'list'>\n",
      "Opening raw data file C:/Users/pesylvestre/Documents/Informatique/BRAIL/FY2023 In-House PoC3/In-HousePOC3/in_housepoc3/data/Lemon_PreDict\\sub-032339\\sub-032339_EC7_eeg.fif...\n",
      "Isotrak not found\n",
      "    Range : 187647 ... 202148 =    750.588 ...   808.592 secs\n",
      "Ready.\n",
      "Reading 0 ... 14501  =      0.000 ...    58.004 secs...\n"
     ]
    },
    {
     "name": "stderr",
     "output_type": "stream",
     "text": [
      "C:\\Users\\PESYLV~1\\AppData\\Local\\Temp/ipykernel_29536/564882533.py:16: FutureWarning: The frame.append method is deprecated and will be removed from pandas in a future version. Use pandas.concat instead.\n",
      "  df = df.append({\"data\": rawpd, \"age\": int(mlab[:2])+2.5}, ignore_index=True)\n"
     ]
    },
    {
     "name": "stdout",
     "output_type": "stream",
     "text": [
      "<class 'list'>\n",
      "Opening raw data file C:/Users/pesylvestre/Documents/Informatique/BRAIL/FY2023 In-House PoC3/In-HousePOC3/in_housepoc3/data/Lemon_PreDict\\sub-032339\\sub-032339_EC8_eeg.fif...\n",
      "Isotrak not found\n",
      "    Range : 219446 ... 233946 =    877.784 ...   935.784 secs\n",
      "Ready.\n",
      "Reading 0 ... 14500  =      0.000 ...    58.000 secs...\n"
     ]
    },
    {
     "name": "stderr",
     "output_type": "stream",
     "text": [
      "C:\\Users\\PESYLV~1\\AppData\\Local\\Temp/ipykernel_29536/564882533.py:16: FutureWarning: The frame.append method is deprecated and will be removed from pandas in a future version. Use pandas.concat instead.\n",
      "  df = df.append({\"data\": rawpd, \"age\": int(mlab[:2])+2.5}, ignore_index=True)\n"
     ]
    },
    {
     "name": "stdout",
     "output_type": "stream",
     "text": [
      "<class 'list'>\n",
      "Opening raw data file C:/Users/pesylvestre/Documents/Informatique/BRAIL/FY2023 In-House PoC3/In-HousePOC3/in_housepoc3/data/Lemon_PreDict\\sub-032339\\sub-032339_EO1_eeg.fif...\n",
      "Isotrak not found\n",
      "    Range : 17122 ... 31622 =     68.488 ...   126.488 secs\n",
      "Ready.\n",
      "Reading 0 ... 14500  =      0.000 ...    58.000 secs...\n"
     ]
    },
    {
     "name": "stderr",
     "output_type": "stream",
     "text": [
      "C:\\Users\\PESYLV~1\\AppData\\Local\\Temp/ipykernel_29536/564882533.py:16: FutureWarning: The frame.append method is deprecated and will be removed from pandas in a future version. Use pandas.concat instead.\n",
      "  df = df.append({\"data\": rawpd, \"age\": int(mlab[:2])+2.5}, ignore_index=True)\n"
     ]
    },
    {
     "name": "stdout",
     "output_type": "stream",
     "text": [
      "<class 'list'>\n",
      "Opening raw data file C:/Users/pesylvestre/Documents/Informatique/BRAIL/FY2023 In-House PoC3/In-HousePOC3/in_housepoc3/data/Lemon_PreDict\\sub-032339\\sub-032339_EO2_eeg.fif...\n",
      "Isotrak not found\n",
      "    Range : 48149 ... 62650 =    192.596 ...   250.600 secs\n",
      "Ready.\n",
      "Reading 0 ... 14501  =      0.000 ...    58.004 secs...\n"
     ]
    },
    {
     "name": "stderr",
     "output_type": "stream",
     "text": [
      "C:\\Users\\PESYLV~1\\AppData\\Local\\Temp/ipykernel_29536/564882533.py:16: FutureWarning: The frame.append method is deprecated and will be removed from pandas in a future version. Use pandas.concat instead.\n",
      "  df = df.append({\"data\": rawpd, \"age\": int(mlab[:2])+2.5}, ignore_index=True)\n"
     ]
    },
    {
     "name": "stdout",
     "output_type": "stream",
     "text": [
      "<class 'list'>\n",
      "Opening raw data file C:/Users/pesylvestre/Documents/Informatique/BRAIL/FY2023 In-House PoC3/In-HousePOC3/in_housepoc3/data/Lemon_PreDict\\sub-032339\\sub-032339_EO3_eeg.fif...\n",
      "Isotrak not found\n",
      "    Range : 79083 ... 93583 =    316.332 ...   374.332 secs\n",
      "Ready.\n",
      "Reading 0 ... 14500  =      0.000 ...    58.000 secs...\n"
     ]
    },
    {
     "name": "stderr",
     "output_type": "stream",
     "text": [
      "C:\\Users\\PESYLV~1\\AppData\\Local\\Temp/ipykernel_29536/564882533.py:16: FutureWarning: The frame.append method is deprecated and will be removed from pandas in a future version. Use pandas.concat instead.\n",
      "  df = df.append({\"data\": rawpd, \"age\": int(mlab[:2])+2.5}, ignore_index=True)\n"
     ]
    },
    {
     "name": "stdout",
     "output_type": "stream",
     "text": [
      "<class 'list'>\n",
      "Opening raw data file C:/Users/pesylvestre/Documents/Informatique/BRAIL/FY2023 In-House PoC3/In-HousePOC3/in_housepoc3/data/Lemon_PreDict\\sub-032339\\sub-032339_EO4_eeg.fif...\n",
      "Isotrak not found\n",
      "    Range : 110044 ... 124544 =    440.176 ...   498.176 secs\n",
      "Ready.\n",
      "Reading 0 ... 14500  =      0.000 ...    58.000 secs...\n"
     ]
    },
    {
     "name": "stderr",
     "output_type": "stream",
     "text": [
      "C:\\Users\\PESYLV~1\\AppData\\Local\\Temp/ipykernel_29536/564882533.py:16: FutureWarning: The frame.append method is deprecated and will be removed from pandas in a future version. Use pandas.concat instead.\n",
      "  df = df.append({\"data\": rawpd, \"age\": int(mlab[:2])+2.5}, ignore_index=True)\n"
     ]
    },
    {
     "name": "stdout",
     "output_type": "stream",
     "text": [
      "<class 'list'>\n",
      "Opening raw data file C:/Users/pesylvestre/Documents/Informatique/BRAIL/FY2023 In-House PoC3/In-HousePOC3/in_housepoc3/data/Lemon_PreDict\\sub-032339\\sub-032339_EO5_eeg.fif...\n",
      "Isotrak not found\n",
      "    Range : 141147 ... 155647 =    564.588 ...   622.588 secs\n",
      "Ready.\n",
      "Reading 0 ... 14500  =      0.000 ...    58.000 secs...\n"
     ]
    },
    {
     "name": "stderr",
     "output_type": "stream",
     "text": [
      "C:\\Users\\PESYLV~1\\AppData\\Local\\Temp/ipykernel_29536/564882533.py:16: FutureWarning: The frame.append method is deprecated and will be removed from pandas in a future version. Use pandas.concat instead.\n",
      "  df = df.append({\"data\": rawpd, \"age\": int(mlab[:2])+2.5}, ignore_index=True)\n"
     ]
    },
    {
     "name": "stdout",
     "output_type": "stream",
     "text": [
      "<class 'list'>\n",
      "Opening raw data file C:/Users/pesylvestre/Documents/Informatique/BRAIL/FY2023 In-House PoC3/In-HousePOC3/in_housepoc3/data/Lemon_PreDict\\sub-032339\\sub-032339_EO6_eeg.fif...\n",
      "Isotrak not found\n",
      "    Range : 172246 ... 186746 =    688.984 ...   746.984 secs\n",
      "Ready.\n",
      "Reading 0 ... 14500  =      0.000 ...    58.000 secs...\n"
     ]
    },
    {
     "name": "stderr",
     "output_type": "stream",
     "text": [
      "C:\\Users\\PESYLV~1\\AppData\\Local\\Temp/ipykernel_29536/564882533.py:16: FutureWarning: The frame.append method is deprecated and will be removed from pandas in a future version. Use pandas.concat instead.\n",
      "  df = df.append({\"data\": rawpd, \"age\": int(mlab[:2])+2.5}, ignore_index=True)\n"
     ]
    },
    {
     "name": "stdout",
     "output_type": "stream",
     "text": [
      "<class 'list'>\n",
      "Opening raw data file C:/Users/pesylvestre/Documents/Informatique/BRAIL/FY2023 In-House PoC3/In-HousePOC3/in_housepoc3/data/Lemon_PreDict\\sub-032339\\sub-032339_EO7_eeg.fif...\n",
      "Isotrak not found\n",
      "    Range : 203980 ... 218481 =    815.920 ...   873.924 secs\n",
      "Ready.\n",
      "Reading 0 ... 14501  =      0.000 ...    58.004 secs...\n"
     ]
    },
    {
     "name": "stderr",
     "output_type": "stream",
     "text": [
      "C:\\Users\\PESYLV~1\\AppData\\Local\\Temp/ipykernel_29536/564882533.py:16: FutureWarning: The frame.append method is deprecated and will be removed from pandas in a future version. Use pandas.concat instead.\n",
      "  df = df.append({\"data\": rawpd, \"age\": int(mlab[:2])+2.5}, ignore_index=True)\n"
     ]
    },
    {
     "name": "stdout",
     "output_type": "stream",
     "text": [
      "<class 'list'>\n",
      "Opening raw data file C:/Users/pesylvestre/Documents/Informatique/BRAIL/FY2023 In-House PoC3/In-HousePOC3/in_housepoc3/data/Lemon_PreDict\\sub-032339\\sub-032339_EO8_eeg.fif...\n",
      "Isotrak not found\n",
      "    Range : 235277 ... 249778 =    941.108 ...   999.112 secs\n",
      "Ready.\n",
      "Reading 0 ... 14501  =      0.000 ...    58.004 secs...\n"
     ]
    },
    {
     "name": "stderr",
     "output_type": "stream",
     "text": [
      "C:\\Users\\PESYLV~1\\AppData\\Local\\Temp/ipykernel_29536/564882533.py:16: FutureWarning: The frame.append method is deprecated and will be removed from pandas in a future version. Use pandas.concat instead.\n",
      "  df = df.append({\"data\": rawpd, \"age\": int(mlab[:2])+2.5}, ignore_index=True)\n"
     ]
    },
    {
     "name": "stdout",
     "output_type": "stream",
     "text": [
      "<class 'list'>\n",
      "Opening raw data file C:/Users/pesylvestre/Documents/Informatique/BRAIL/FY2023 In-House PoC3/In-HousePOC3/in_housepoc3/data/Lemon_PreDict\\sub-032340\\sub-032340_EC1_eeg.fif...\n",
      "Isotrak not found\n",
      "    Range : 1927 ... 16428 =      7.708 ...    65.712 secs\n",
      "Ready.\n",
      "Reading 0 ... 14501  =      0.000 ...    58.004 secs...\n"
     ]
    },
    {
     "name": "stderr",
     "output_type": "stream",
     "text": [
      "C:\\Users\\PESYLV~1\\AppData\\Local\\Temp/ipykernel_29536/564882533.py:16: FutureWarning: The frame.append method is deprecated and will be removed from pandas in a future version. Use pandas.concat instead.\n",
      "  df = df.append({\"data\": rawpd, \"age\": int(mlab[:2])+2.5}, ignore_index=True)\n"
     ]
    },
    {
     "name": "stdout",
     "output_type": "stream",
     "text": [
      "<class 'list'>\n",
      "Opening raw data file C:/Users/pesylvestre/Documents/Informatique/BRAIL/FY2023 In-House PoC3/In-HousePOC3/in_housepoc3/data/Lemon_PreDict\\sub-032340\\sub-032340_EC2_eeg.fif...\n",
      "Isotrak not found\n",
      "    Range : 33073 ... 47574 =    132.292 ...   190.296 secs\n",
      "Ready.\n",
      "Reading 0 ... 14501  =      0.000 ...    58.004 secs...\n"
     ]
    },
    {
     "name": "stderr",
     "output_type": "stream",
     "text": [
      "C:\\Users\\PESYLV~1\\AppData\\Local\\Temp/ipykernel_29536/564882533.py:16: FutureWarning: The frame.append method is deprecated and will be removed from pandas in a future version. Use pandas.concat instead.\n",
      "  df = df.append({\"data\": rawpd, \"age\": int(mlab[:2])+2.5}, ignore_index=True)\n"
     ]
    },
    {
     "name": "stdout",
     "output_type": "stream",
     "text": [
      "<class 'list'>\n",
      "Opening raw data file C:/Users/pesylvestre/Documents/Informatique/BRAIL/FY2023 In-House PoC3/In-HousePOC3/in_housepoc3/data/Lemon_PreDict\\sub-032340\\sub-032340_EC3_eeg.fif...\n",
      "Isotrak not found\n",
      "    Range : 64109 ... 78610 =    256.436 ...   314.440 secs\n",
      "Ready.\n",
      "Reading 0 ... 14501  =      0.000 ...    58.004 secs...\n"
     ]
    },
    {
     "name": "stderr",
     "output_type": "stream",
     "text": [
      "C:\\Users\\PESYLV~1\\AppData\\Local\\Temp/ipykernel_29536/564882533.py:16: FutureWarning: The frame.append method is deprecated and will be removed from pandas in a future version. Use pandas.concat instead.\n",
      "  df = df.append({\"data\": rawpd, \"age\": int(mlab[:2])+2.5}, ignore_index=True)\n"
     ]
    },
    {
     "name": "stdout",
     "output_type": "stream",
     "text": [
      "<class 'list'>\n",
      "Opening raw data file C:/Users/pesylvestre/Documents/Informatique/BRAIL/FY2023 In-House PoC3/In-HousePOC3/in_housepoc3/data/Lemon_PreDict\\sub-032340\\sub-032340_EC4_eeg.fif...\n",
      "Isotrak not found\n",
      "    Range : 95790 ... 110290 =    383.160 ...   441.160 secs\n",
      "Ready.\n",
      "Reading 0 ... 14500  =      0.000 ...    58.000 secs...\n"
     ]
    },
    {
     "name": "stderr",
     "output_type": "stream",
     "text": [
      "C:\\Users\\PESYLV~1\\AppData\\Local\\Temp/ipykernel_29536/564882533.py:16: FutureWarning: The frame.append method is deprecated and will be removed from pandas in a future version. Use pandas.concat instead.\n",
      "  df = df.append({\"data\": rawpd, \"age\": int(mlab[:2])+2.5}, ignore_index=True)\n"
     ]
    },
    {
     "name": "stdout",
     "output_type": "stream",
     "text": [
      "<class 'list'>\n",
      "Opening raw data file C:/Users/pesylvestre/Documents/Informatique/BRAIL/FY2023 In-House PoC3/In-HousePOC3/in_housepoc3/data/Lemon_PreDict\\sub-032340\\sub-032340_EC5_eeg.fif...\n",
      "Isotrak not found\n",
      "    Range : 127583 ... 142084 =    510.332 ...   568.336 secs\n",
      "Ready.\n",
      "Reading 0 ... 14501  =      0.000 ...    58.004 secs...\n"
     ]
    },
    {
     "name": "stderr",
     "output_type": "stream",
     "text": [
      "C:\\Users\\PESYLV~1\\AppData\\Local\\Temp/ipykernel_29536/564882533.py:16: FutureWarning: The frame.append method is deprecated and will be removed from pandas in a future version. Use pandas.concat instead.\n",
      "  df = df.append({\"data\": rawpd, \"age\": int(mlab[:2])+2.5}, ignore_index=True)\n"
     ]
    },
    {
     "name": "stdout",
     "output_type": "stream",
     "text": [
      "<class 'list'>\n",
      "Opening raw data file C:/Users/pesylvestre/Documents/Informatique/BRAIL/FY2023 In-House PoC3/In-HousePOC3/in_housepoc3/data/Lemon_PreDict\\sub-032340\\sub-032340_EC6_eeg.fif...\n",
      "Isotrak not found\n",
      "    Range : 158750 ... 173251 =    635.000 ...   693.004 secs\n",
      "Ready.\n",
      "Reading 0 ... 14501  =      0.000 ...    58.004 secs...\n"
     ]
    },
    {
     "name": "stderr",
     "output_type": "stream",
     "text": [
      "C:\\Users\\PESYLV~1\\AppData\\Local\\Temp/ipykernel_29536/564882533.py:16: FutureWarning: The frame.append method is deprecated and will be removed from pandas in a future version. Use pandas.concat instead.\n",
      "  df = df.append({\"data\": rawpd, \"age\": int(mlab[:2])+2.5}, ignore_index=True)\n"
     ]
    },
    {
     "name": "stdout",
     "output_type": "stream",
     "text": [
      "<class 'list'>\n",
      "Opening raw data file C:/Users/pesylvestre/Documents/Informatique/BRAIL/FY2023 In-House PoC3/In-HousePOC3/in_housepoc3/data/Lemon_PreDict\\sub-032340\\sub-032340_EC7_eeg.fif...\n",
      "Isotrak not found\n",
      "    Range : 190217 ... 204717 =    760.868 ...   818.868 secs\n",
      "Ready.\n",
      "Reading 0 ... 14500  =      0.000 ...    58.000 secs...\n"
     ]
    },
    {
     "name": "stderr",
     "output_type": "stream",
     "text": [
      "C:\\Users\\PESYLV~1\\AppData\\Local\\Temp/ipykernel_29536/564882533.py:16: FutureWarning: The frame.append method is deprecated and will be removed from pandas in a future version. Use pandas.concat instead.\n",
      "  df = df.append({\"data\": rawpd, \"age\": int(mlab[:2])+2.5}, ignore_index=True)\n"
     ]
    },
    {
     "name": "stdout",
     "output_type": "stream",
     "text": [
      "<class 'list'>\n",
      "Opening raw data file C:/Users/pesylvestre/Documents/Informatique/BRAIL/FY2023 In-House PoC3/In-HousePOC3/in_housepoc3/data/Lemon_PreDict\\sub-032340\\sub-032340_EC8_eeg.fif...\n",
      "Isotrak not found\n",
      "    Range : 221479 ... 235979 =    885.916 ...   943.916 secs\n",
      "Ready.\n",
      "Reading 0 ... 14500  =      0.000 ...    58.000 secs...\n"
     ]
    },
    {
     "name": "stderr",
     "output_type": "stream",
     "text": [
      "C:\\Users\\PESYLV~1\\AppData\\Local\\Temp/ipykernel_29536/564882533.py:16: FutureWarning: The frame.append method is deprecated and will be removed from pandas in a future version. Use pandas.concat instead.\n",
      "  df = df.append({\"data\": rawpd, \"age\": int(mlab[:2])+2.5}, ignore_index=True)\n"
     ]
    },
    {
     "name": "stdout",
     "output_type": "stream",
     "text": [
      "<class 'list'>\n",
      "Opening raw data file C:/Users/pesylvestre/Documents/Informatique/BRAIL/FY2023 In-House PoC3/In-HousePOC3/in_housepoc3/data/Lemon_PreDict\\sub-032340\\sub-032340_EO1_eeg.fif...\n",
      "Isotrak not found\n",
      "    Range : 17467 ... 31967 =     69.868 ...   127.868 secs\n",
      "Ready.\n",
      "Reading 0 ... 14500  =      0.000 ...    58.000 secs...\n"
     ]
    },
    {
     "name": "stderr",
     "output_type": "stream",
     "text": [
      "C:\\Users\\PESYLV~1\\AppData\\Local\\Temp/ipykernel_29536/564882533.py:16: FutureWarning: The frame.append method is deprecated and will be removed from pandas in a future version. Use pandas.concat instead.\n",
      "  df = df.append({\"data\": rawpd, \"age\": int(mlab[:2])+2.5}, ignore_index=True)\n"
     ]
    },
    {
     "name": "stdout",
     "output_type": "stream",
     "text": [
      "<class 'list'>\n",
      "Opening raw data file C:/Users/pesylvestre/Documents/Informatique/BRAIL/FY2023 In-House PoC3/In-HousePOC3/in_housepoc3/data/Lemon_PreDict\\sub-032340\\sub-032340_EO2_eeg.fif...\n",
      "Isotrak not found\n",
      "    Range : 48569 ... 63069 =    194.276 ...   252.276 secs\n",
      "Ready.\n",
      "Reading 0 ... 14500  =      0.000 ...    58.000 secs...\n"
     ]
    },
    {
     "name": "stderr",
     "output_type": "stream",
     "text": [
      "C:\\Users\\PESYLV~1\\AppData\\Local\\Temp/ipykernel_29536/564882533.py:16: FutureWarning: The frame.append method is deprecated and will be removed from pandas in a future version. Use pandas.concat instead.\n",
      "  df = df.append({\"data\": rawpd, \"age\": int(mlab[:2])+2.5}, ignore_index=True)\n"
     ]
    },
    {
     "name": "stdout",
     "output_type": "stream",
     "text": [
      "<class 'list'>\n",
      "Opening raw data file C:/Users/pesylvestre/Documents/Informatique/BRAIL/FY2023 In-House PoC3/In-HousePOC3/in_housepoc3/data/Lemon_PreDict\\sub-032340\\sub-032340_EO3_eeg.fif...\n",
      "Isotrak not found\n",
      "    Range : 80224 ... 94724 =    320.896 ...   378.896 secs\n",
      "Ready.\n",
      "Reading 0 ... 14500  =      0.000 ...    58.000 secs...\n"
     ]
    },
    {
     "name": "stderr",
     "output_type": "stream",
     "text": [
      "C:\\Users\\PESYLV~1\\AppData\\Local\\Temp/ipykernel_29536/564882533.py:16: FutureWarning: The frame.append method is deprecated and will be removed from pandas in a future version. Use pandas.concat instead.\n",
      "  df = df.append({\"data\": rawpd, \"age\": int(mlab[:2])+2.5}, ignore_index=True)\n"
     ]
    },
    {
     "name": "stdout",
     "output_type": "stream",
     "text": [
      "<class 'list'>\n",
      "Opening raw data file C:/Users/pesylvestre/Documents/Informatique/BRAIL/FY2023 In-House PoC3/In-HousePOC3/in_housepoc3/data/Lemon_PreDict\\sub-032340\\sub-032340_EO4_eeg.fif...\n",
      "Isotrak not found\n",
      "    Range : 111417 ... 125918 =    445.668 ...   503.672 secs\n",
      "Ready.\n",
      "Reading 0 ... 14501  =      0.000 ...    58.004 secs...\n"
     ]
    },
    {
     "name": "stderr",
     "output_type": "stream",
     "text": [
      "C:\\Users\\PESYLV~1\\AppData\\Local\\Temp/ipykernel_29536/564882533.py:16: FutureWarning: The frame.append method is deprecated and will be removed from pandas in a future version. Use pandas.concat instead.\n",
      "  df = df.append({\"data\": rawpd, \"age\": int(mlab[:2])+2.5}, ignore_index=True)\n"
     ]
    },
    {
     "name": "stdout",
     "output_type": "stream",
     "text": [
      "<class 'list'>\n",
      "Opening raw data file C:/Users/pesylvestre/Documents/Informatique/BRAIL/FY2023 In-House PoC3/In-HousePOC3/in_housepoc3/data/Lemon_PreDict\\sub-032340\\sub-032340_EO5_eeg.fif...\n",
      "Isotrak not found\n",
      "    Range : 143150 ... 157650 =    572.600 ...   630.600 secs\n",
      "Ready.\n",
      "Reading 0 ... 14500  =      0.000 ...    58.000 secs...\n"
     ]
    },
    {
     "name": "stderr",
     "output_type": "stream",
     "text": [
      "C:\\Users\\PESYLV~1\\AppData\\Local\\Temp/ipykernel_29536/564882533.py:16: FutureWarning: The frame.append method is deprecated and will be removed from pandas in a future version. Use pandas.concat instead.\n",
      "  df = df.append({\"data\": rawpd, \"age\": int(mlab[:2])+2.5}, ignore_index=True)\n"
     ]
    },
    {
     "name": "stdout",
     "output_type": "stream",
     "text": [
      "<class 'list'>\n",
      "Opening raw data file C:/Users/pesylvestre/Documents/Informatique/BRAIL/FY2023 In-House PoC3/In-HousePOC3/in_housepoc3/data/Lemon_PreDict\\sub-032340\\sub-032340_EO6_eeg.fif...\n",
      "Isotrak not found\n",
      "    Range : 174516 ... 189016 =    698.064 ...   756.064 secs\n",
      "Ready.\n",
      "Reading 0 ... 14500  =      0.000 ...    58.000 secs...\n"
     ]
    },
    {
     "name": "stderr",
     "output_type": "stream",
     "text": [
      "C:\\Users\\PESYLV~1\\AppData\\Local\\Temp/ipykernel_29536/564882533.py:16: FutureWarning: The frame.append method is deprecated and will be removed from pandas in a future version. Use pandas.concat instead.\n",
      "  df = df.append({\"data\": rawpd, \"age\": int(mlab[:2])+2.5}, ignore_index=True)\n"
     ]
    },
    {
     "name": "stdout",
     "output_type": "stream",
     "text": [
      "<class 'list'>\n",
      "Opening raw data file C:/Users/pesylvestre/Documents/Informatique/BRAIL/FY2023 In-House PoC3/In-HousePOC3/in_housepoc3/data/Lemon_PreDict\\sub-032340\\sub-032340_EO7_eeg.fif...\n",
      "Isotrak not found\n",
      "    Range : 205981 ... 220481 =    823.924 ...   881.924 secs\n",
      "Ready.\n",
      "Reading 0 ... 14500  =      0.000 ...    58.000 secs...\n"
     ]
    },
    {
     "name": "stderr",
     "output_type": "stream",
     "text": [
      "C:\\Users\\PESYLV~1\\AppData\\Local\\Temp/ipykernel_29536/564882533.py:16: FutureWarning: The frame.append method is deprecated and will be removed from pandas in a future version. Use pandas.concat instead.\n",
      "  df = df.append({\"data\": rawpd, \"age\": int(mlab[:2])+2.5}, ignore_index=True)\n"
     ]
    },
    {
     "name": "stdout",
     "output_type": "stream",
     "text": [
      "<class 'list'>\n",
      "Opening raw data file C:/Users/pesylvestre/Documents/Informatique/BRAIL/FY2023 In-House PoC3/In-HousePOC3/in_housepoc3/data/Lemon_PreDict\\sub-032340\\sub-032340_EO8_eeg.fif...\n",
      "Isotrak not found\n",
      "    Range : 236953 ... 251454 =    947.812 ...  1005.816 secs\n",
      "Ready.\n",
      "Reading 0 ... 14501  =      0.000 ...    58.004 secs...\n"
     ]
    },
    {
     "name": "stderr",
     "output_type": "stream",
     "text": [
      "C:\\Users\\PESYLV~1\\AppData\\Local\\Temp/ipykernel_29536/564882533.py:16: FutureWarning: The frame.append method is deprecated and will be removed from pandas in a future version. Use pandas.concat instead.\n",
      "  df = df.append({\"data\": rawpd, \"age\": int(mlab[:2])+2.5}, ignore_index=True)\n"
     ]
    },
    {
     "name": "stdout",
     "output_type": "stream",
     "text": [
      "<class 'list'>\n",
      "Opening raw data file C:/Users/pesylvestre/Documents/Informatique/BRAIL/FY2023 In-House PoC3/In-HousePOC3/in_housepoc3/data/Lemon_PreDict\\sub-032341\\sub-032341_EC1_eeg.fif...\n",
      "Isotrak not found\n",
      "    Range : 2067 ... 16568 =      8.268 ...    66.272 secs\n",
      "Ready.\n",
      "Reading 0 ... 14501  =      0.000 ...    58.004 secs...\n"
     ]
    },
    {
     "name": "stderr",
     "output_type": "stream",
     "text": [
      "C:\\Users\\PESYLV~1\\AppData\\Local\\Temp/ipykernel_29536/564882533.py:16: FutureWarning: The frame.append method is deprecated and will be removed from pandas in a future version. Use pandas.concat instead.\n",
      "  df = df.append({\"data\": rawpd, \"age\": int(mlab[:2])+2.5}, ignore_index=True)\n"
     ]
    },
    {
     "name": "stdout",
     "output_type": "stream",
     "text": [
      "<class 'list'>\n",
      "Opening raw data file C:/Users/pesylvestre/Documents/Informatique/BRAIL/FY2023 In-House PoC3/In-HousePOC3/in_housepoc3/data/Lemon_PreDict\\sub-032341\\sub-032341_EC2_eeg.fif...\n",
      "Isotrak not found\n",
      "    Range : 33007 ... 47508 =    132.028 ...   190.032 secs\n",
      "Ready.\n",
      "Reading 0 ... 14501  =      0.000 ...    58.004 secs...\n"
     ]
    },
    {
     "name": "stderr",
     "output_type": "stream",
     "text": [
      "C:\\Users\\PESYLV~1\\AppData\\Local\\Temp/ipykernel_29536/564882533.py:16: FutureWarning: The frame.append method is deprecated and will be removed from pandas in a future version. Use pandas.concat instead.\n",
      "  df = df.append({\"data\": rawpd, \"age\": int(mlab[:2])+2.5}, ignore_index=True)\n"
     ]
    },
    {
     "name": "stdout",
     "output_type": "stream",
     "text": [
      "<class 'list'>\n",
      "Opening raw data file C:/Users/pesylvestre/Documents/Informatique/BRAIL/FY2023 In-House PoC3/In-HousePOC3/in_housepoc3/data/Lemon_PreDict\\sub-032341\\sub-032341_EC3_eeg.fif...\n",
      "Isotrak not found\n",
      "    Range : 63928 ... 78428 =    255.712 ...   313.712 secs\n",
      "Ready.\n",
      "Reading 0 ... 14500  =      0.000 ...    58.000 secs...\n"
     ]
    },
    {
     "name": "stderr",
     "output_type": "stream",
     "text": [
      "C:\\Users\\PESYLV~1\\AppData\\Local\\Temp/ipykernel_29536/564882533.py:16: FutureWarning: The frame.append method is deprecated and will be removed from pandas in a future version. Use pandas.concat instead.\n",
      "  df = df.append({\"data\": rawpd, \"age\": int(mlab[:2])+2.5}, ignore_index=True)\n"
     ]
    },
    {
     "name": "stdout",
     "output_type": "stream",
     "text": [
      "<class 'list'>\n",
      "Opening raw data file C:/Users/pesylvestre/Documents/Informatique/BRAIL/FY2023 In-House PoC3/In-HousePOC3/in_housepoc3/data/Lemon_PreDict\\sub-032341\\sub-032341_EC4_eeg.fif...\n",
      "Isotrak not found\n",
      "    Range : 94812 ... 109312 =    379.248 ...   437.248 secs\n",
      "Ready.\n",
      "Reading 0 ... 14500  =      0.000 ...    58.000 secs...\n"
     ]
    },
    {
     "name": "stderr",
     "output_type": "stream",
     "text": [
      "C:\\Users\\PESYLV~1\\AppData\\Local\\Temp/ipykernel_29536/564882533.py:16: FutureWarning: The frame.append method is deprecated and will be removed from pandas in a future version. Use pandas.concat instead.\n",
      "  df = df.append({\"data\": rawpd, \"age\": int(mlab[:2])+2.5}, ignore_index=True)\n"
     ]
    },
    {
     "name": "stdout",
     "output_type": "stream",
     "text": [
      "<class 'list'>\n",
      "Opening raw data file C:/Users/pesylvestre/Documents/Informatique/BRAIL/FY2023 In-House PoC3/In-HousePOC3/in_housepoc3/data/Lemon_PreDict\\sub-032341\\sub-032341_EC5_eeg.fif...\n",
      "Isotrak not found\n",
      "    Range : 127855 ... 142355 =    511.420 ...   569.420 secs\n",
      "Ready.\n",
      "Reading 0 ... 14500  =      0.000 ...    58.000 secs...\n"
     ]
    },
    {
     "name": "stderr",
     "output_type": "stream",
     "text": [
      "C:\\Users\\PESYLV~1\\AppData\\Local\\Temp/ipykernel_29536/564882533.py:16: FutureWarning: The frame.append method is deprecated and will be removed from pandas in a future version. Use pandas.concat instead.\n",
      "  df = df.append({\"data\": rawpd, \"age\": int(mlab[:2])+2.5}, ignore_index=True)\n"
     ]
    },
    {
     "name": "stdout",
     "output_type": "stream",
     "text": [
      "<class 'list'>\n",
      "Opening raw data file C:/Users/pesylvestre/Documents/Informatique/BRAIL/FY2023 In-House PoC3/In-HousePOC3/in_housepoc3/data/Lemon_PreDict\\sub-032341\\sub-032341_EC6_eeg.fif...\n",
      "Isotrak not found\n",
      "    Range : 159465 ... 173966 =    637.860 ...   695.864 secs\n",
      "Ready.\n",
      "Reading 0 ... 14501  =      0.000 ...    58.004 secs...\n"
     ]
    },
    {
     "name": "stderr",
     "output_type": "stream",
     "text": [
      "C:\\Users\\PESYLV~1\\AppData\\Local\\Temp/ipykernel_29536/564882533.py:16: FutureWarning: The frame.append method is deprecated and will be removed from pandas in a future version. Use pandas.concat instead.\n",
      "  df = df.append({\"data\": rawpd, \"age\": int(mlab[:2])+2.5}, ignore_index=True)\n"
     ]
    },
    {
     "name": "stdout",
     "output_type": "stream",
     "text": [
      "<class 'list'>\n",
      "Opening raw data file C:/Users/pesylvestre/Documents/Informatique/BRAIL/FY2023 In-House PoC3/In-HousePOC3/in_housepoc3/data/Lemon_PreDict\\sub-032341\\sub-032341_EC7_eeg.fif...\n",
      "Isotrak not found\n",
      "    Range : 190344 ... 204844 =    761.376 ...   819.376 secs\n",
      "Ready.\n",
      "Reading 0 ... 14500  =      0.000 ...    58.000 secs...\n"
     ]
    },
    {
     "name": "stderr",
     "output_type": "stream",
     "text": [
      "C:\\Users\\PESYLV~1\\AppData\\Local\\Temp/ipykernel_29536/564882533.py:16: FutureWarning: The frame.append method is deprecated and will be removed from pandas in a future version. Use pandas.concat instead.\n",
      "  df = df.append({\"data\": rawpd, \"age\": int(mlab[:2])+2.5}, ignore_index=True)\n"
     ]
    },
    {
     "name": "stdout",
     "output_type": "stream",
     "text": [
      "<class 'list'>\n",
      "Opening raw data file C:/Users/pesylvestre/Documents/Informatique/BRAIL/FY2023 In-House PoC3/In-HousePOC3/in_housepoc3/data/Lemon_PreDict\\sub-032341\\sub-032341_EC8_eeg.fif...\n",
      "Isotrak not found\n",
      "    Range : 221434 ... 235934 =    885.736 ...   943.736 secs\n",
      "Ready.\n",
      "Reading 0 ... 14500  =      0.000 ...    58.000 secs...\n"
     ]
    },
    {
     "name": "stderr",
     "output_type": "stream",
     "text": [
      "C:\\Users\\PESYLV~1\\AppData\\Local\\Temp/ipykernel_29536/564882533.py:16: FutureWarning: The frame.append method is deprecated and will be removed from pandas in a future version. Use pandas.concat instead.\n",
      "  df = df.append({\"data\": rawpd, \"age\": int(mlab[:2])+2.5}, ignore_index=True)\n"
     ]
    },
    {
     "name": "stdout",
     "output_type": "stream",
     "text": [
      "<class 'list'>\n",
      "Opening raw data file C:/Users/pesylvestre/Documents/Informatique/BRAIL/FY2023 In-House PoC3/In-HousePOC3/in_housepoc3/data/Lemon_PreDict\\sub-032341\\sub-032341_EO1_eeg.fif...\n",
      "Isotrak not found\n",
      "    Range : 17527 ... 32027 =     70.108 ...   128.108 secs\n",
      "Ready.\n",
      "Reading 0 ... 14500  =      0.000 ...    58.000 secs...\n"
     ]
    },
    {
     "name": "stderr",
     "output_type": "stream",
     "text": [
      "C:\\Users\\PESYLV~1\\AppData\\Local\\Temp/ipykernel_29536/564882533.py:16: FutureWarning: The frame.append method is deprecated and will be removed from pandas in a future version. Use pandas.concat instead.\n",
      "  df = df.append({\"data\": rawpd, \"age\": int(mlab[:2])+2.5}, ignore_index=True)\n"
     ]
    },
    {
     "name": "stdout",
     "output_type": "stream",
     "text": [
      "<class 'list'>\n",
      "Opening raw data file C:/Users/pesylvestre/Documents/Informatique/BRAIL/FY2023 In-House PoC3/In-HousePOC3/in_housepoc3/data/Lemon_PreDict\\sub-032341\\sub-032341_EO2_eeg.fif...\n",
      "Isotrak not found\n",
      "    Range : 48455 ... 62955 =    193.820 ...   251.820 secs\n",
      "Ready.\n",
      "Reading 0 ... 14500  =      0.000 ...    58.000 secs...\n"
     ]
    },
    {
     "name": "stderr",
     "output_type": "stream",
     "text": [
      "C:\\Users\\PESYLV~1\\AppData\\Local\\Temp/ipykernel_29536/564882533.py:16: FutureWarning: The frame.append method is deprecated and will be removed from pandas in a future version. Use pandas.concat instead.\n",
      "  df = df.append({\"data\": rawpd, \"age\": int(mlab[:2])+2.5}, ignore_index=True)\n"
     ]
    },
    {
     "name": "stdout",
     "output_type": "stream",
     "text": [
      "<class 'list'>\n",
      "Opening raw data file C:/Users/pesylvestre/Documents/Informatique/BRAIL/FY2023 In-House PoC3/In-HousePOC3/in_housepoc3/data/Lemon_PreDict\\sub-032341\\sub-032341_EO3_eeg.fif...\n",
      "Isotrak not found\n",
      "    Range : 79357 ... 93857 =    317.428 ...   375.428 secs\n",
      "Ready.\n",
      "Reading 0 ... 14500  =      0.000 ...    58.000 secs...\n"
     ]
    },
    {
     "name": "stderr",
     "output_type": "stream",
     "text": [
      "C:\\Users\\PESYLV~1\\AppData\\Local\\Temp/ipykernel_29536/564882533.py:16: FutureWarning: The frame.append method is deprecated and will be removed from pandas in a future version. Use pandas.concat instead.\n",
      "  df = df.append({\"data\": rawpd, \"age\": int(mlab[:2])+2.5}, ignore_index=True)\n"
     ]
    },
    {
     "name": "stdout",
     "output_type": "stream",
     "text": [
      "<class 'list'>\n",
      "Opening raw data file C:/Users/pesylvestre/Documents/Informatique/BRAIL/FY2023 In-House PoC3/In-HousePOC3/in_housepoc3/data/Lemon_PreDict\\sub-032341\\sub-032341_EO4_eeg.fif...\n",
      "Isotrak not found\n",
      "    Range : 112334 ... 126834 =    449.336 ...   507.336 secs\n",
      "Ready.\n",
      "Reading 0 ... 14500  =      0.000 ...    58.000 secs...\n"
     ]
    },
    {
     "name": "stderr",
     "output_type": "stream",
     "text": [
      "C:\\Users\\PESYLV~1\\AppData\\Local\\Temp/ipykernel_29536/564882533.py:16: FutureWarning: The frame.append method is deprecated and will be removed from pandas in a future version. Use pandas.concat instead.\n",
      "  df = df.append({\"data\": rawpd, \"age\": int(mlab[:2])+2.5}, ignore_index=True)\n"
     ]
    },
    {
     "name": "stdout",
     "output_type": "stream",
     "text": [
      "<class 'list'>\n",
      "Opening raw data file C:/Users/pesylvestre/Documents/Informatique/BRAIL/FY2023 In-House PoC3/In-HousePOC3/in_housepoc3/data/Lemon_PreDict\\sub-032341\\sub-032341_EO5_eeg.fif...\n",
      "Isotrak not found\n",
      "    Range : 143290 ... 157791 =    573.160 ...   631.164 secs\n",
      "Ready.\n",
      "Reading 0 ... 14501  =      0.000 ...    58.004 secs...\n"
     ]
    },
    {
     "name": "stderr",
     "output_type": "stream",
     "text": [
      "C:\\Users\\PESYLV~1\\AppData\\Local\\Temp/ipykernel_29536/564882533.py:16: FutureWarning: The frame.append method is deprecated and will be removed from pandas in a future version. Use pandas.concat instead.\n",
      "  df = df.append({\"data\": rawpd, \"age\": int(mlab[:2])+2.5}, ignore_index=True)\n"
     ]
    },
    {
     "name": "stdout",
     "output_type": "stream",
     "text": [
      "<class 'list'>\n",
      "Opening raw data file C:/Users/pesylvestre/Documents/Informatique/BRAIL/FY2023 In-House PoC3/In-HousePOC3/in_housepoc3/data/Lemon_PreDict\\sub-032341\\sub-032341_EO6_eeg.fif...\n",
      "Isotrak not found\n",
      "    Range : 174871 ... 189371 =    699.484 ...   757.484 secs\n",
      "Ready.\n",
      "Reading 0 ... 14500  =      0.000 ...    58.000 secs...\n"
     ]
    },
    {
     "name": "stderr",
     "output_type": "stream",
     "text": [
      "C:\\Users\\PESYLV~1\\AppData\\Local\\Temp/ipykernel_29536/564882533.py:16: FutureWarning: The frame.append method is deprecated and will be removed from pandas in a future version. Use pandas.concat instead.\n",
      "  df = df.append({\"data\": rawpd, \"age\": int(mlab[:2])+2.5}, ignore_index=True)\n"
     ]
    },
    {
     "name": "stdout",
     "output_type": "stream",
     "text": [
      "<class 'list'>\n",
      "Opening raw data file C:/Users/pesylvestre/Documents/Informatique/BRAIL/FY2023 In-House PoC3/In-HousePOC3/in_housepoc3/data/Lemon_PreDict\\sub-032341\\sub-032341_EO7_eeg.fif...\n",
      "Isotrak not found\n",
      "    Range : 205894 ... 220394 =    823.576 ...   881.576 secs\n",
      "Ready.\n",
      "Reading 0 ... 14500  =      0.000 ...    58.000 secs...\n"
     ]
    },
    {
     "name": "stderr",
     "output_type": "stream",
     "text": [
      "C:\\Users\\PESYLV~1\\AppData\\Local\\Temp/ipykernel_29536/564882533.py:16: FutureWarning: The frame.append method is deprecated and will be removed from pandas in a future version. Use pandas.concat instead.\n",
      "  df = df.append({\"data\": rawpd, \"age\": int(mlab[:2])+2.5}, ignore_index=True)\n"
     ]
    },
    {
     "name": "stdout",
     "output_type": "stream",
     "text": [
      "<class 'list'>\n",
      "Opening raw data file C:/Users/pesylvestre/Documents/Informatique/BRAIL/FY2023 In-House PoC3/In-HousePOC3/in_housepoc3/data/Lemon_PreDict\\sub-032341\\sub-032341_EO8_eeg.fif...\n",
      "Isotrak not found\n",
      "    Range : 237187 ... 251687 =    948.748 ...  1006.748 secs\n",
      "Ready.\n",
      "Reading 0 ... 14500  =      0.000 ...    58.000 secs...\n"
     ]
    },
    {
     "name": "stderr",
     "output_type": "stream",
     "text": [
      "C:\\Users\\PESYLV~1\\AppData\\Local\\Temp/ipykernel_29536/564882533.py:16: FutureWarning: The frame.append method is deprecated and will be removed from pandas in a future version. Use pandas.concat instead.\n",
      "  df = df.append({\"data\": rawpd, \"age\": int(mlab[:2])+2.5}, ignore_index=True)\n"
     ]
    },
    {
     "name": "stdout",
     "output_type": "stream",
     "text": [
      "<class 'list'>\n",
      "Opening raw data file C:/Users/pesylvestre/Documents/Informatique/BRAIL/FY2023 In-House PoC3/In-HousePOC3/in_housepoc3/data/Lemon_PreDict\\sub-032342\\sub-032342_EC1_eeg.fif...\n",
      "Isotrak not found\n",
      "    Range : 1782 ... 16282 =      7.128 ...    65.128 secs\n",
      "Ready.\n",
      "Reading 0 ... 14500  =      0.000 ...    58.000 secs...\n"
     ]
    },
    {
     "name": "stderr",
     "output_type": "stream",
     "text": [
      "C:\\Users\\PESYLV~1\\AppData\\Local\\Temp/ipykernel_29536/564882533.py:16: FutureWarning: The frame.append method is deprecated and will be removed from pandas in a future version. Use pandas.concat instead.\n",
      "  df = df.append({\"data\": rawpd, \"age\": int(mlab[:2])+2.5}, ignore_index=True)\n"
     ]
    },
    {
     "name": "stdout",
     "output_type": "stream",
     "text": [
      "<class 'list'>\n",
      "Opening raw data file C:/Users/pesylvestre/Documents/Informatique/BRAIL/FY2023 In-House PoC3/In-HousePOC3/in_housepoc3/data/Lemon_PreDict\\sub-032342\\sub-032342_EC2_eeg.fif...\n",
      "Isotrak not found\n",
      "    Range : 38919 ... 53420 =    155.676 ...   213.680 secs\n",
      "Ready.\n",
      "Reading 0 ... 14501  =      0.000 ...    58.004 secs...\n"
     ]
    },
    {
     "name": "stderr",
     "output_type": "stream",
     "text": [
      "C:\\Users\\PESYLV~1\\AppData\\Local\\Temp/ipykernel_29536/564882533.py:16: FutureWarning: The frame.append method is deprecated and will be removed from pandas in a future version. Use pandas.concat instead.\n",
      "  df = df.append({\"data\": rawpd, \"age\": int(mlab[:2])+2.5}, ignore_index=True)\n"
     ]
    },
    {
     "name": "stdout",
     "output_type": "stream",
     "text": [
      "<class 'list'>\n",
      "Opening raw data file C:/Users/pesylvestre/Documents/Informatique/BRAIL/FY2023 In-House PoC3/In-HousePOC3/in_housepoc3/data/Lemon_PreDict\\sub-032342\\sub-032342_EC3_eeg.fif...\n",
      "Isotrak not found\n",
      "    Range : 69946 ... 84446 =    279.784 ...   337.784 secs\n",
      "Ready.\n",
      "Reading 0 ... 14500  =      0.000 ...    58.000 secs...\n"
     ]
    },
    {
     "name": "stderr",
     "output_type": "stream",
     "text": [
      "C:\\Users\\PESYLV~1\\AppData\\Local\\Temp/ipykernel_29536/564882533.py:16: FutureWarning: The frame.append method is deprecated and will be removed from pandas in a future version. Use pandas.concat instead.\n",
      "  df = df.append({\"data\": rawpd, \"age\": int(mlab[:2])+2.5}, ignore_index=True)\n"
     ]
    },
    {
     "name": "stdout",
     "output_type": "stream",
     "text": [
      "<class 'list'>\n",
      "Opening raw data file C:/Users/pesylvestre/Documents/Informatique/BRAIL/FY2023 In-House PoC3/In-HousePOC3/in_housepoc3/data/Lemon_PreDict\\sub-032342\\sub-032342_EC4_eeg.fif...\n",
      "Isotrak not found\n",
      "    Range : 101088 ... 115589 =    404.352 ...   462.356 secs\n",
      "Ready.\n",
      "Reading 0 ... 14501  =      0.000 ...    58.004 secs...\n"
     ]
    },
    {
     "name": "stderr",
     "output_type": "stream",
     "text": [
      "C:\\Users\\PESYLV~1\\AppData\\Local\\Temp/ipykernel_29536/564882533.py:16: FutureWarning: The frame.append method is deprecated and will be removed from pandas in a future version. Use pandas.concat instead.\n",
      "  df = df.append({\"data\": rawpd, \"age\": int(mlab[:2])+2.5}, ignore_index=True)\n"
     ]
    },
    {
     "name": "stdout",
     "output_type": "stream",
     "text": [
      "<class 'list'>\n",
      "Opening raw data file C:/Users/pesylvestre/Documents/Informatique/BRAIL/FY2023 In-House PoC3/In-HousePOC3/in_housepoc3/data/Lemon_PreDict\\sub-032342\\sub-032342_EC5_eeg.fif...\n",
      "Isotrak not found\n",
      "    Range : 134040 ... 148540 =    536.160 ...   594.160 secs\n",
      "Ready.\n",
      "Reading 0 ... 14500  =      0.000 ...    58.000 secs...\n"
     ]
    },
    {
     "name": "stderr",
     "output_type": "stream",
     "text": [
      "C:\\Users\\PESYLV~1\\AppData\\Local\\Temp/ipykernel_29536/564882533.py:16: FutureWarning: The frame.append method is deprecated and will be removed from pandas in a future version. Use pandas.concat instead.\n",
      "  df = df.append({\"data\": rawpd, \"age\": int(mlab[:2])+2.5}, ignore_index=True)\n"
     ]
    },
    {
     "name": "stdout",
     "output_type": "stream",
     "text": [
      "<class 'list'>\n",
      "Opening raw data file C:/Users/pesylvestre/Documents/Informatique/BRAIL/FY2023 In-House PoC3/In-HousePOC3/in_housepoc3/data/Lemon_PreDict\\sub-032342\\sub-032342_EC6_eeg.fif...\n",
      "Isotrak not found\n",
      "    Range : 165356 ... 179856 =    661.424 ...   719.424 secs\n",
      "Ready.\n",
      "Reading 0 ... 14500  =      0.000 ...    58.000 secs...\n"
     ]
    },
    {
     "name": "stderr",
     "output_type": "stream",
     "text": [
      "C:\\Users\\PESYLV~1\\AppData\\Local\\Temp/ipykernel_29536/564882533.py:16: FutureWarning: The frame.append method is deprecated and will be removed from pandas in a future version. Use pandas.concat instead.\n",
      "  df = df.append({\"data\": rawpd, \"age\": int(mlab[:2])+2.5}, ignore_index=True)\n"
     ]
    },
    {
     "name": "stdout",
     "output_type": "stream",
     "text": [
      "<class 'list'>\n",
      "Opening raw data file C:/Users/pesylvestre/Documents/Informatique/BRAIL/FY2023 In-House PoC3/In-HousePOC3/in_housepoc3/data/Lemon_PreDict\\sub-032342\\sub-032342_EC7_eeg.fif...\n",
      "Isotrak not found\n",
      "    Range : 196695 ... 211195 =    786.780 ...   844.780 secs\n",
      "Ready.\n",
      "Reading 0 ... 14500  =      0.000 ...    58.000 secs...\n"
     ]
    },
    {
     "name": "stderr",
     "output_type": "stream",
     "text": [
      "C:\\Users\\PESYLV~1\\AppData\\Local\\Temp/ipykernel_29536/564882533.py:16: FutureWarning: The frame.append method is deprecated and will be removed from pandas in a future version. Use pandas.concat instead.\n",
      "  df = df.append({\"data\": rawpd, \"age\": int(mlab[:2])+2.5}, ignore_index=True)\n"
     ]
    },
    {
     "name": "stdout",
     "output_type": "stream",
     "text": [
      "<class 'list'>\n",
      "Opening raw data file C:/Users/pesylvestre/Documents/Informatique/BRAIL/FY2023 In-House PoC3/In-HousePOC3/in_housepoc3/data/Lemon_PreDict\\sub-032342\\sub-032342_EC8_eeg.fif...\n",
      "Isotrak not found\n",
      "    Range : 228022 ... 242523 =    912.088 ...   970.092 secs\n",
      "Ready.\n",
      "Reading 0 ... 14501  =      0.000 ...    58.004 secs...\n"
     ]
    },
    {
     "name": "stderr",
     "output_type": "stream",
     "text": [
      "C:\\Users\\PESYLV~1\\AppData\\Local\\Temp/ipykernel_29536/564882533.py:16: FutureWarning: The frame.append method is deprecated and will be removed from pandas in a future version. Use pandas.concat instead.\n",
      "  df = df.append({\"data\": rawpd, \"age\": int(mlab[:2])+2.5}, ignore_index=True)\n"
     ]
    },
    {
     "name": "stdout",
     "output_type": "stream",
     "text": [
      "<class 'list'>\n",
      "Opening raw data file C:/Users/pesylvestre/Documents/Informatique/BRAIL/FY2023 In-House PoC3/In-HousePOC3/in_housepoc3/data/Lemon_PreDict\\sub-032342\\sub-032342_EO1_eeg.fif...\n",
      "Isotrak not found\n",
      "    Range : 23459 ... 37960 =     93.836 ...   151.840 secs\n",
      "Ready.\n",
      "Reading 0 ... 14501  =      0.000 ...    58.004 secs...\n"
     ]
    },
    {
     "name": "stderr",
     "output_type": "stream",
     "text": [
      "C:\\Users\\PESYLV~1\\AppData\\Local\\Temp/ipykernel_29536/564882533.py:16: FutureWarning: The frame.append method is deprecated and will be removed from pandas in a future version. Use pandas.concat instead.\n",
      "  df = df.append({\"data\": rawpd, \"age\": int(mlab[:2])+2.5}, ignore_index=True)\n"
     ]
    },
    {
     "name": "stdout",
     "output_type": "stream",
     "text": [
      "<class 'list'>\n",
      "Opening raw data file C:/Users/pesylvestre/Documents/Informatique/BRAIL/FY2023 In-House PoC3/In-HousePOC3/in_housepoc3/data/Lemon_PreDict\\sub-032342\\sub-032342_EO2_eeg.fif...\n",
      "Isotrak not found\n",
      "    Range : 54472 ... 68973 =    217.888 ...   275.892 secs\n",
      "Ready.\n",
      "Reading 0 ... 14501  =      0.000 ...    58.004 secs...\n"
     ]
    },
    {
     "name": "stderr",
     "output_type": "stream",
     "text": [
      "C:\\Users\\PESYLV~1\\AppData\\Local\\Temp/ipykernel_29536/564882533.py:16: FutureWarning: The frame.append method is deprecated and will be removed from pandas in a future version. Use pandas.concat instead.\n",
      "  df = df.append({\"data\": rawpd, \"age\": int(mlab[:2])+2.5}, ignore_index=True)\n"
     ]
    },
    {
     "name": "stdout",
     "output_type": "stream",
     "text": [
      "<class 'list'>\n",
      "Opening raw data file C:/Users/pesylvestre/Documents/Informatique/BRAIL/FY2023 In-House PoC3/In-HousePOC3/in_housepoc3/data/Lemon_PreDict\\sub-032342\\sub-032342_EO3_eeg.fif...\n",
      "Isotrak not found\n",
      "    Range : 85480 ... 99980 =    341.920 ...   399.920 secs\n",
      "Ready.\n",
      "Reading 0 ... 14500  =      0.000 ...    58.000 secs...\n"
     ]
    },
    {
     "name": "stderr",
     "output_type": "stream",
     "text": [
      "C:\\Users\\PESYLV~1\\AppData\\Local\\Temp/ipykernel_29536/564882533.py:16: FutureWarning: The frame.append method is deprecated and will be removed from pandas in a future version. Use pandas.concat instead.\n",
      "  df = df.append({\"data\": rawpd, \"age\": int(mlab[:2])+2.5}, ignore_index=True)\n"
     ]
    },
    {
     "name": "stdout",
     "output_type": "stream",
     "text": [
      "<class 'list'>\n",
      "Opening raw data file C:/Users/pesylvestre/Documents/Informatique/BRAIL/FY2023 In-House PoC3/In-HousePOC3/in_housepoc3/data/Lemon_PreDict\\sub-032342\\sub-032342_EO4_eeg.fif...\n",
      "Isotrak not found\n",
      "    Range : 118463 ... 132963 =    473.852 ...   531.852 secs\n",
      "Ready.\n",
      "Reading 0 ... 14500  =      0.000 ...    58.000 secs...\n"
     ]
    },
    {
     "name": "stderr",
     "output_type": "stream",
     "text": [
      "C:\\Users\\PESYLV~1\\AppData\\Local\\Temp/ipykernel_29536/564882533.py:16: FutureWarning: The frame.append method is deprecated and will be removed from pandas in a future version. Use pandas.concat instead.\n",
      "  df = df.append({\"data\": rawpd, \"age\": int(mlab[:2])+2.5}, ignore_index=True)\n"
     ]
    },
    {
     "name": "stdout",
     "output_type": "stream",
     "text": [
      "<class 'list'>\n",
      "Opening raw data file C:/Users/pesylvestre/Documents/Informatique/BRAIL/FY2023 In-House PoC3/In-HousePOC3/in_housepoc3/data/Lemon_PreDict\\sub-032342\\sub-032342_EO5_eeg.fif...\n",
      "Isotrak not found\n",
      "    Range : 149560 ... 164060 =    598.240 ...   656.240 secs\n",
      "Ready.\n",
      "Reading 0 ... 14500  =      0.000 ...    58.000 secs...\n"
     ]
    },
    {
     "name": "stderr",
     "output_type": "stream",
     "text": [
      "C:\\Users\\PESYLV~1\\AppData\\Local\\Temp/ipykernel_29536/564882533.py:16: FutureWarning: The frame.append method is deprecated and will be removed from pandas in a future version. Use pandas.concat instead.\n",
      "  df = df.append({\"data\": rawpd, \"age\": int(mlab[:2])+2.5}, ignore_index=True)\n"
     ]
    },
    {
     "name": "stdout",
     "output_type": "stream",
     "text": [
      "<class 'list'>\n",
      "Opening raw data file C:/Users/pesylvestre/Documents/Informatique/BRAIL/FY2023 In-House PoC3/In-HousePOC3/in_housepoc3/data/Lemon_PreDict\\sub-032342\\sub-032342_EO6_eeg.fif...\n",
      "Isotrak not found\n",
      "    Range : 180888 ... 195388 =    723.552 ...   781.552 secs\n",
      "Ready.\n",
      "Reading 0 ... 14500  =      0.000 ...    58.000 secs...\n"
     ]
    },
    {
     "name": "stderr",
     "output_type": "stream",
     "text": [
      "C:\\Users\\PESYLV~1\\AppData\\Local\\Temp/ipykernel_29536/564882533.py:16: FutureWarning: The frame.append method is deprecated and will be removed from pandas in a future version. Use pandas.concat instead.\n",
      "  df = df.append({\"data\": rawpd, \"age\": int(mlab[:2])+2.5}, ignore_index=True)\n"
     ]
    },
    {
     "name": "stdout",
     "output_type": "stream",
     "text": [
      "<class 'list'>\n",
      "Opening raw data file C:/Users/pesylvestre/Documents/Informatique/BRAIL/FY2023 In-House PoC3/In-HousePOC3/in_housepoc3/data/Lemon_PreDict\\sub-032342\\sub-032342_EO7_eeg.fif...\n",
      "Isotrak not found\n",
      "    Range : 212433 ... 226933 =    849.732 ...   907.732 secs\n",
      "Ready.\n",
      "Reading 0 ... 14500  =      0.000 ...    58.000 secs...\n"
     ]
    },
    {
     "name": "stderr",
     "output_type": "stream",
     "text": [
      "C:\\Users\\PESYLV~1\\AppData\\Local\\Temp/ipykernel_29536/564882533.py:16: FutureWarning: The frame.append method is deprecated and will be removed from pandas in a future version. Use pandas.concat instead.\n",
      "  df = df.append({\"data\": rawpd, \"age\": int(mlab[:2])+2.5}, ignore_index=True)\n"
     ]
    },
    {
     "name": "stdout",
     "output_type": "stream",
     "text": [
      "<class 'list'>\n",
      "Opening raw data file C:/Users/pesylvestre/Documents/Informatique/BRAIL/FY2023 In-House PoC3/In-HousePOC3/in_housepoc3/data/Lemon_PreDict\\sub-032342\\sub-032342_EO8_eeg.fif...\n",
      "Isotrak not found\n",
      "    Range : 243763 ... 258263 =    975.052 ...  1033.052 secs\n",
      "Ready.\n",
      "Reading 0 ... 14500  =      0.000 ...    58.000 secs...\n"
     ]
    },
    {
     "name": "stderr",
     "output_type": "stream",
     "text": [
      "C:\\Users\\PESYLV~1\\AppData\\Local\\Temp/ipykernel_29536/564882533.py:16: FutureWarning: The frame.append method is deprecated and will be removed from pandas in a future version. Use pandas.concat instead.\n",
      "  df = df.append({\"data\": rawpd, \"age\": int(mlab[:2])+2.5}, ignore_index=True)\n"
     ]
    },
    {
     "name": "stdout",
     "output_type": "stream",
     "text": [
      "<class 'list'>\n",
      "Opening raw data file C:/Users/pesylvestre/Documents/Informatique/BRAIL/FY2023 In-House PoC3/In-HousePOC3/in_housepoc3/data/Lemon_PreDict\\sub-032343\\sub-032343_EC1_eeg.fif...\n",
      "Isotrak not found\n",
      "    Range : 1351 ... 15852 =      5.404 ...    63.408 secs\n",
      "Ready.\n",
      "Reading 0 ... 14501  =      0.000 ...    58.004 secs...\n"
     ]
    },
    {
     "name": "stderr",
     "output_type": "stream",
     "text": [
      "C:\\Users\\PESYLV~1\\AppData\\Local\\Temp/ipykernel_29536/564882533.py:16: FutureWarning: The frame.append method is deprecated and will be removed from pandas in a future version. Use pandas.concat instead.\n",
      "  df = df.append({\"data\": rawpd, \"age\": int(mlab[:2])+2.5}, ignore_index=True)\n"
     ]
    },
    {
     "name": "stdout",
     "output_type": "stream",
     "text": [
      "<class 'list'>\n",
      "Opening raw data file C:/Users/pesylvestre/Documents/Informatique/BRAIL/FY2023 In-House PoC3/In-HousePOC3/in_housepoc3/data/Lemon_PreDict\\sub-032343\\sub-032343_EC2_eeg.fif...\n",
      "Isotrak not found\n",
      "    Range : 32560 ... 47060 =    130.240 ...   188.240 secs\n",
      "Ready.\n",
      "Reading 0 ... 14500  =      0.000 ...    58.000 secs...\n"
     ]
    },
    {
     "name": "stderr",
     "output_type": "stream",
     "text": [
      "C:\\Users\\PESYLV~1\\AppData\\Local\\Temp/ipykernel_29536/564882533.py:16: FutureWarning: The frame.append method is deprecated and will be removed from pandas in a future version. Use pandas.concat instead.\n",
      "  df = df.append({\"data\": rawpd, \"age\": int(mlab[:2])+2.5}, ignore_index=True)\n"
     ]
    },
    {
     "name": "stdout",
     "output_type": "stream",
     "text": [
      "<class 'list'>\n",
      "Opening raw data file C:/Users/pesylvestre/Documents/Informatique/BRAIL/FY2023 In-House PoC3/In-HousePOC3/in_housepoc3/data/Lemon_PreDict\\sub-032343\\sub-032343_EC3_eeg.fif...\n",
      "Isotrak not found\n",
      "    Range : 63740 ... 78240 =    254.960 ...   312.960 secs\n",
      "Ready.\n",
      "Reading 0 ... 14500  =      0.000 ...    58.000 secs...\n"
     ]
    },
    {
     "name": "stderr",
     "output_type": "stream",
     "text": [
      "C:\\Users\\PESYLV~1\\AppData\\Local\\Temp/ipykernel_29536/564882533.py:16: FutureWarning: The frame.append method is deprecated and will be removed from pandas in a future version. Use pandas.concat instead.\n",
      "  df = df.append({\"data\": rawpd, \"age\": int(mlab[:2])+2.5}, ignore_index=True)\n"
     ]
    },
    {
     "name": "stdout",
     "output_type": "stream",
     "text": [
      "<class 'list'>\n",
      "Opening raw data file C:/Users/pesylvestre/Documents/Informatique/BRAIL/FY2023 In-House PoC3/In-HousePOC3/in_housepoc3/data/Lemon_PreDict\\sub-032343\\sub-032343_EC4_eeg.fif...\n",
      "Isotrak not found\n",
      "    Range : 94856 ... 109357 =    379.424 ...   437.428 secs\n",
      "Ready.\n",
      "Reading 0 ... 14501  =      0.000 ...    58.004 secs...\n"
     ]
    },
    {
     "name": "stderr",
     "output_type": "stream",
     "text": [
      "C:\\Users\\PESYLV~1\\AppData\\Local\\Temp/ipykernel_29536/564882533.py:16: FutureWarning: The frame.append method is deprecated and will be removed from pandas in a future version. Use pandas.concat instead.\n",
      "  df = df.append({\"data\": rawpd, \"age\": int(mlab[:2])+2.5}, ignore_index=True)\n"
     ]
    },
    {
     "name": "stdout",
     "output_type": "stream",
     "text": [
      "<class 'list'>\n",
      "Opening raw data file C:/Users/pesylvestre/Documents/Informatique/BRAIL/FY2023 In-House PoC3/In-HousePOC3/in_housepoc3/data/Lemon_PreDict\\sub-032343\\sub-032343_EC5_eeg.fif...\n",
      "Isotrak not found\n",
      "    Range : 125796 ... 140296 =    503.184 ...   561.184 secs\n",
      "Ready.\n",
      "Reading 0 ... 14500  =      0.000 ...    58.000 secs...\n"
     ]
    },
    {
     "name": "stderr",
     "output_type": "stream",
     "text": [
      "C:\\Users\\PESYLV~1\\AppData\\Local\\Temp/ipykernel_29536/564882533.py:16: FutureWarning: The frame.append method is deprecated and will be removed from pandas in a future version. Use pandas.concat instead.\n",
      "  df = df.append({\"data\": rawpd, \"age\": int(mlab[:2])+2.5}, ignore_index=True)\n"
     ]
    },
    {
     "name": "stdout",
     "output_type": "stream",
     "text": [
      "<class 'list'>\n",
      "Opening raw data file C:/Users/pesylvestre/Documents/Informatique/BRAIL/FY2023 In-House PoC3/In-HousePOC3/in_housepoc3/data/Lemon_PreDict\\sub-032343\\sub-032343_EC6_eeg.fif...\n",
      "Isotrak not found\n",
      "    Range : 159628 ... 174129 =    638.512 ...   696.516 secs\n",
      "Ready.\n",
      "Reading 0 ... 14501  =      0.000 ...    58.004 secs...\n"
     ]
    },
    {
     "name": "stderr",
     "output_type": "stream",
     "text": [
      "C:\\Users\\PESYLV~1\\AppData\\Local\\Temp/ipykernel_29536/564882533.py:16: FutureWarning: The frame.append method is deprecated and will be removed from pandas in a future version. Use pandas.concat instead.\n",
      "  df = df.append({\"data\": rawpd, \"age\": int(mlab[:2])+2.5}, ignore_index=True)\n"
     ]
    },
    {
     "name": "stdout",
     "output_type": "stream",
     "text": [
      "<class 'list'>\n",
      "Opening raw data file C:/Users/pesylvestre/Documents/Informatique/BRAIL/FY2023 In-House PoC3/In-HousePOC3/in_housepoc3/data/Lemon_PreDict\\sub-032343\\sub-032343_EC7_eeg.fif...\n",
      "Isotrak not found\n",
      "    Range : 190917 ... 205418 =    763.668 ...   821.672 secs\n",
      "Ready.\n",
      "Reading 0 ... 14501  =      0.000 ...    58.004 secs...\n"
     ]
    },
    {
     "name": "stderr",
     "output_type": "stream",
     "text": [
      "C:\\Users\\PESYLV~1\\AppData\\Local\\Temp/ipykernel_29536/564882533.py:16: FutureWarning: The frame.append method is deprecated and will be removed from pandas in a future version. Use pandas.concat instead.\n",
      "  df = df.append({\"data\": rawpd, \"age\": int(mlab[:2])+2.5}, ignore_index=True)\n"
     ]
    },
    {
     "name": "stdout",
     "output_type": "stream",
     "text": [
      "<class 'list'>\n",
      "Opening raw data file C:/Users/pesylvestre/Documents/Informatique/BRAIL/FY2023 In-House PoC3/In-HousePOC3/in_housepoc3/data/Lemon_PreDict\\sub-032343\\sub-032343_EC8_eeg.fif...\n",
      "Isotrak not found\n",
      "    Range : 222183 ... 236683 =    888.732 ...   946.732 secs\n",
      "Ready.\n",
      "Reading 0 ... 14500  =      0.000 ...    58.000 secs...\n"
     ]
    },
    {
     "name": "stderr",
     "output_type": "stream",
     "text": [
      "C:\\Users\\PESYLV~1\\AppData\\Local\\Temp/ipykernel_29536/564882533.py:16: FutureWarning: The frame.append method is deprecated and will be removed from pandas in a future version. Use pandas.concat instead.\n",
      "  df = df.append({\"data\": rawpd, \"age\": int(mlab[:2])+2.5}, ignore_index=True)\n"
     ]
    },
    {
     "name": "stdout",
     "output_type": "stream",
     "text": [
      "<class 'list'>\n",
      "Opening raw data file C:/Users/pesylvestre/Documents/Informatique/BRAIL/FY2023 In-House PoC3/In-HousePOC3/in_housepoc3/data/Lemon_PreDict\\sub-032343\\sub-032343_EO1_eeg.fif...\n",
      "Isotrak not found\n",
      "    Range : 16998 ... 31498 =     67.992 ...   125.992 secs\n",
      "Ready.\n",
      "Reading 0 ... 14500  =      0.000 ...    58.000 secs...\n"
     ]
    },
    {
     "name": "stderr",
     "output_type": "stream",
     "text": [
      "C:\\Users\\PESYLV~1\\AppData\\Local\\Temp/ipykernel_29536/564882533.py:16: FutureWarning: The frame.append method is deprecated and will be removed from pandas in a future version. Use pandas.concat instead.\n",
      "  df = df.append({\"data\": rawpd, \"age\": int(mlab[:2])+2.5}, ignore_index=True)\n"
     ]
    },
    {
     "name": "stdout",
     "output_type": "stream",
     "text": [
      "<class 'list'>\n",
      "Opening raw data file C:/Users/pesylvestre/Documents/Informatique/BRAIL/FY2023 In-House PoC3/In-HousePOC3/in_housepoc3/data/Lemon_PreDict\\sub-032343\\sub-032343_EO2_eeg.fif...\n",
      "Isotrak not found\n",
      "    Range : 48262 ... 62763 =    193.048 ...   251.052 secs\n",
      "Ready.\n",
      "Reading 0 ... 14501  =      0.000 ...    58.004 secs...\n"
     ]
    },
    {
     "name": "stderr",
     "output_type": "stream",
     "text": [
      "C:\\Users\\PESYLV~1\\AppData\\Local\\Temp/ipykernel_29536/564882533.py:16: FutureWarning: The frame.append method is deprecated and will be removed from pandas in a future version. Use pandas.concat instead.\n",
      "  df = df.append({\"data\": rawpd, \"age\": int(mlab[:2])+2.5}, ignore_index=True)\n"
     ]
    },
    {
     "name": "stdout",
     "output_type": "stream",
     "text": [
      "<class 'list'>\n",
      "Opening raw data file C:/Users/pesylvestre/Documents/Informatique/BRAIL/FY2023 In-House PoC3/In-HousePOC3/in_housepoc3/data/Lemon_PreDict\\sub-032343\\sub-032343_EO3_eeg.fif...\n",
      "Isotrak not found\n",
      "    Range : 79255 ... 93756 =    317.020 ...   375.024 secs\n",
      "Ready.\n",
      "Reading 0 ... 14501  =      0.000 ...    58.004 secs...\n"
     ]
    },
    {
     "name": "stderr",
     "output_type": "stream",
     "text": [
      "C:\\Users\\PESYLV~1\\AppData\\Local\\Temp/ipykernel_29536/564882533.py:16: FutureWarning: The frame.append method is deprecated and will be removed from pandas in a future version. Use pandas.concat instead.\n",
      "  df = df.append({\"data\": rawpd, \"age\": int(mlab[:2])+2.5}, ignore_index=True)\n"
     ]
    },
    {
     "name": "stdout",
     "output_type": "stream",
     "text": [
      "<class 'list'>\n",
      "Opening raw data file C:/Users/pesylvestre/Documents/Informatique/BRAIL/FY2023 In-House PoC3/In-HousePOC3/in_housepoc3/data/Lemon_PreDict\\sub-032343\\sub-032343_EO4_eeg.fif...\n",
      "Isotrak not found\n",
      "    Range : 110317 ... 124817 =    441.268 ...   499.268 secs\n",
      "Ready.\n",
      "Reading 0 ... 14500  =      0.000 ...    58.000 secs...\n"
     ]
    },
    {
     "name": "stderr",
     "output_type": "stream",
     "text": [
      "C:\\Users\\PESYLV~1\\AppData\\Local\\Temp/ipykernel_29536/564882533.py:16: FutureWarning: The frame.append method is deprecated and will be removed from pandas in a future version. Use pandas.concat instead.\n",
      "  df = df.append({\"data\": rawpd, \"age\": int(mlab[:2])+2.5}, ignore_index=True)\n"
     ]
    },
    {
     "name": "stdout",
     "output_type": "stream",
     "text": [
      "<class 'list'>\n",
      "Opening raw data file C:/Users/pesylvestre/Documents/Informatique/BRAIL/FY2023 In-House PoC3/In-HousePOC3/in_housepoc3/data/Lemon_PreDict\\sub-032343\\sub-032343_EO5_eeg.fif...\n",
      "Isotrak not found\n",
      "    Range : 144031 ... 158531 =    576.124 ...   634.124 secs\n",
      "Ready.\n",
      "Reading 0 ... 14500  =      0.000 ...    58.000 secs...\n"
     ]
    },
    {
     "name": "stderr",
     "output_type": "stream",
     "text": [
      "C:\\Users\\PESYLV~1\\AppData\\Local\\Temp/ipykernel_29536/564882533.py:16: FutureWarning: The frame.append method is deprecated and will be removed from pandas in a future version. Use pandas.concat instead.\n",
      "  df = df.append({\"data\": rawpd, \"age\": int(mlab[:2])+2.5}, ignore_index=True)\n"
     ]
    },
    {
     "name": "stdout",
     "output_type": "stream",
     "text": [
      "<class 'list'>\n",
      "Opening raw data file C:/Users/pesylvestre/Documents/Informatique/BRAIL/FY2023 In-House PoC3/In-HousePOC3/in_housepoc3/data/Lemon_PreDict\\sub-032343\\sub-032343_EO6_eeg.fif...\n",
      "Isotrak not found\n",
      "    Range : 175243 ... 189743 =    700.972 ...   758.972 secs\n",
      "Ready.\n",
      "Reading 0 ... 14500  =      0.000 ...    58.000 secs...\n"
     ]
    },
    {
     "name": "stderr",
     "output_type": "stream",
     "text": [
      "C:\\Users\\PESYLV~1\\AppData\\Local\\Temp/ipykernel_29536/564882533.py:16: FutureWarning: The frame.append method is deprecated and will be removed from pandas in a future version. Use pandas.concat instead.\n",
      "  df = df.append({\"data\": rawpd, \"age\": int(mlab[:2])+2.5}, ignore_index=True)\n"
     ]
    },
    {
     "name": "stdout",
     "output_type": "stream",
     "text": [
      "<class 'list'>\n",
      "Opening raw data file C:/Users/pesylvestre/Documents/Informatique/BRAIL/FY2023 In-House PoC3/In-HousePOC3/in_housepoc3/data/Lemon_PreDict\\sub-032343\\sub-032343_EO7_eeg.fif...\n",
      "Isotrak not found\n",
      "    Range : 206493 ... 220994 =    825.972 ...   883.976 secs\n",
      "Ready.\n",
      "Reading 0 ... 14501  =      0.000 ...    58.004 secs...\n"
     ]
    },
    {
     "name": "stderr",
     "output_type": "stream",
     "text": [
      "C:\\Users\\PESYLV~1\\AppData\\Local\\Temp/ipykernel_29536/564882533.py:16: FutureWarning: The frame.append method is deprecated and will be removed from pandas in a future version. Use pandas.concat instead.\n",
      "  df = df.append({\"data\": rawpd, \"age\": int(mlab[:2])+2.5}, ignore_index=True)\n"
     ]
    },
    {
     "name": "stdout",
     "output_type": "stream",
     "text": [
      "<class 'list'>\n",
      "Opening raw data file C:/Users/pesylvestre/Documents/Informatique/BRAIL/FY2023 In-House PoC3/In-HousePOC3/in_housepoc3/data/Lemon_PreDict\\sub-032343\\sub-032343_EO8_eeg.fif...\n",
      "Isotrak not found\n",
      "    Range : 237874 ... 252375 =    951.496 ...  1009.500 secs\n",
      "Ready.\n",
      "Reading 0 ... 14501  =      0.000 ...    58.004 secs...\n"
     ]
    },
    {
     "name": "stderr",
     "output_type": "stream",
     "text": [
      "C:\\Users\\PESYLV~1\\AppData\\Local\\Temp/ipykernel_29536/564882533.py:16: FutureWarning: The frame.append method is deprecated and will be removed from pandas in a future version. Use pandas.concat instead.\n",
      "  df = df.append({\"data\": rawpd, \"age\": int(mlab[:2])+2.5}, ignore_index=True)\n"
     ]
    },
    {
     "name": "stdout",
     "output_type": "stream",
     "text": [
      "<class 'list'>\n",
      "Opening raw data file C:/Users/pesylvestre/Documents/Informatique/BRAIL/FY2023 In-House PoC3/In-HousePOC3/in_housepoc3/data/Lemon_PreDict\\sub-032344\\sub-032344_EC1_eeg.fif...\n",
      "Isotrak not found\n",
      "    Range : 1774 ... 16275 =      7.096 ...    65.100 secs\n",
      "Ready.\n",
      "Reading 0 ... 14501  =      0.000 ...    58.004 secs...\n"
     ]
    },
    {
     "name": "stderr",
     "output_type": "stream",
     "text": [
      "C:\\Users\\PESYLV~1\\AppData\\Local\\Temp/ipykernel_29536/564882533.py:16: FutureWarning: The frame.append method is deprecated and will be removed from pandas in a future version. Use pandas.concat instead.\n",
      "  df = df.append({\"data\": rawpd, \"age\": int(mlab[:2])+2.5}, ignore_index=True)\n"
     ]
    },
    {
     "name": "stdout",
     "output_type": "stream",
     "text": [
      "<class 'list'>\n",
      "Opening raw data file C:/Users/pesylvestre/Documents/Informatique/BRAIL/FY2023 In-House PoC3/In-HousePOC3/in_housepoc3/data/Lemon_PreDict\\sub-032344\\sub-032344_EC2_eeg.fif...\n",
      "Isotrak not found\n",
      "    Range : 32760 ... 47260 =    131.040 ...   189.040 secs\n",
      "Ready.\n",
      "Reading 0 ... 14500  =      0.000 ...    58.000 secs...\n"
     ]
    },
    {
     "name": "stderr",
     "output_type": "stream",
     "text": [
      "C:\\Users\\PESYLV~1\\AppData\\Local\\Temp/ipykernel_29536/564882533.py:16: FutureWarning: The frame.append method is deprecated and will be removed from pandas in a future version. Use pandas.concat instead.\n",
      "  df = df.append({\"data\": rawpd, \"age\": int(mlab[:2])+2.5}, ignore_index=True)\n"
     ]
    },
    {
     "name": "stdout",
     "output_type": "stream",
     "text": [
      "<class 'list'>\n",
      "Opening raw data file C:/Users/pesylvestre/Documents/Informatique/BRAIL/FY2023 In-House PoC3/In-HousePOC3/in_housepoc3/data/Lemon_PreDict\\sub-032344\\sub-032344_EC3_eeg.fif...\n",
      "Isotrak not found\n",
      "    Range : 64066 ... 78566 =    256.264 ...   314.264 secs\n",
      "Ready.\n",
      "Reading 0 ... 14500  =      0.000 ...    58.000 secs...\n"
     ]
    },
    {
     "name": "stderr",
     "output_type": "stream",
     "text": [
      "C:\\Users\\PESYLV~1\\AppData\\Local\\Temp/ipykernel_29536/564882533.py:16: FutureWarning: The frame.append method is deprecated and will be removed from pandas in a future version. Use pandas.concat instead.\n",
      "  df = df.append({\"data\": rawpd, \"age\": int(mlab[:2])+2.5}, ignore_index=True)\n"
     ]
    },
    {
     "name": "stdout",
     "output_type": "stream",
     "text": [
      "<class 'list'>\n",
      "Opening raw data file C:/Users/pesylvestre/Documents/Informatique/BRAIL/FY2023 In-House PoC3/In-HousePOC3/in_housepoc3/data/Lemon_PreDict\\sub-032344\\sub-032344_EC4_eeg.fif...\n",
      "Isotrak not found\n",
      "    Range : 95562 ... 110063 =    382.248 ...   440.252 secs\n",
      "Ready.\n",
      "Reading 0 ... 14501  =      0.000 ...    58.004 secs...\n"
     ]
    },
    {
     "name": "stderr",
     "output_type": "stream",
     "text": [
      "C:\\Users\\PESYLV~1\\AppData\\Local\\Temp/ipykernel_29536/564882533.py:16: FutureWarning: The frame.append method is deprecated and will be removed from pandas in a future version. Use pandas.concat instead.\n",
      "  df = df.append({\"data\": rawpd, \"age\": int(mlab[:2])+2.5}, ignore_index=True)\n"
     ]
    },
    {
     "name": "stdout",
     "output_type": "stream",
     "text": [
      "<class 'list'>\n",
      "Opening raw data file C:/Users/pesylvestre/Documents/Informatique/BRAIL/FY2023 In-House PoC3/In-HousePOC3/in_housepoc3/data/Lemon_PreDict\\sub-032344\\sub-032344_EC5_eeg.fif...\n",
      "Isotrak not found\n",
      "    Range : 142567 ... 157068 =    570.268 ...   628.272 secs\n",
      "Ready.\n",
      "Reading 0 ... 14501  =      0.000 ...    58.004 secs...\n"
     ]
    },
    {
     "name": "stderr",
     "output_type": "stream",
     "text": [
      "C:\\Users\\PESYLV~1\\AppData\\Local\\Temp/ipykernel_29536/564882533.py:16: FutureWarning: The frame.append method is deprecated and will be removed from pandas in a future version. Use pandas.concat instead.\n",
      "  df = df.append({\"data\": rawpd, \"age\": int(mlab[:2])+2.5}, ignore_index=True)\n"
     ]
    },
    {
     "name": "stdout",
     "output_type": "stream",
     "text": [
      "<class 'list'>\n"
     ]
    },
    {
     "name": "stderr",
     "output_type": "stream",
     "text": [
      "C:\\Users\\PESYLV~1\\AppData\\Local\\Temp/ipykernel_29536/564882533.py:16: FutureWarning: The frame.append method is deprecated and will be removed from pandas in a future version. Use pandas.concat instead.\n",
      "  df = df.append({\"data\": rawpd, \"age\": int(mlab[:2])+2.5}, ignore_index=True)\n"
     ]
    },
    {
     "name": "stdout",
     "output_type": "stream",
     "text": [
      "Opening raw data file C:/Users/pesylvestre/Documents/Informatique/BRAIL/FY2023 In-House PoC3/In-HousePOC3/in_housepoc3/data/Lemon_PreDict\\sub-032344\\sub-032344_EC6_eeg.fif...\n",
      "Isotrak not found\n",
      "    Range : 175198 ... 189698 =    700.792 ...   758.792 secs\n",
      "Ready.\n",
      "Reading 0 ... 14500  =      0.000 ...    58.000 secs...\n",
      "<class 'list'>\n",
      "Opening raw data file C:/Users/pesylvestre/Documents/Informatique/BRAIL/FY2023 In-House PoC3/In-HousePOC3/in_housepoc3/data/Lemon_PreDict\\sub-032344\\sub-032344_EC7_eeg.fif...\n",
      "Isotrak not found\n",
      "    Range : 217506 ... 232006 =    870.024 ...   928.024 secs\n",
      "Ready.\n",
      "Reading 0 ... 14500  =      0.000 ...    58.000 secs...\n"
     ]
    },
    {
     "name": "stderr",
     "output_type": "stream",
     "text": [
      "C:\\Users\\PESYLV~1\\AppData\\Local\\Temp/ipykernel_29536/564882533.py:16: FutureWarning: The frame.append method is deprecated and will be removed from pandas in a future version. Use pandas.concat instead.\n",
      "  df = df.append({\"data\": rawpd, \"age\": int(mlab[:2])+2.5}, ignore_index=True)\n"
     ]
    },
    {
     "name": "stdout",
     "output_type": "stream",
     "text": [
      "<class 'list'>\n",
      "Opening raw data file C:/Users/pesylvestre/Documents/Informatique/BRAIL/FY2023 In-House PoC3/In-HousePOC3/in_housepoc3/data/Lemon_PreDict\\sub-032344\\sub-032344_EC8_eeg.fif...\n",
      "Isotrak not found\n",
      "    Range : 248553 ... 263054 =    994.212 ...  1052.216 secs\n",
      "Ready.\n",
      "Reading 0 ... 14501  =      0.000 ...    58.004 secs...\n"
     ]
    },
    {
     "name": "stderr",
     "output_type": "stream",
     "text": [
      "C:\\Users\\PESYLV~1\\AppData\\Local\\Temp/ipykernel_29536/564882533.py:16: FutureWarning: The frame.append method is deprecated and will be removed from pandas in a future version. Use pandas.concat instead.\n",
      "  df = df.append({\"data\": rawpd, \"age\": int(mlab[:2])+2.5}, ignore_index=True)\n"
     ]
    },
    {
     "name": "stdout",
     "output_type": "stream",
     "text": [
      "<class 'list'>\n",
      "Opening raw data file C:/Users/pesylvestre/Documents/Informatique/BRAIL/FY2023 In-House PoC3/In-HousePOC3/in_housepoc3/data/Lemon_PreDict\\sub-032344\\sub-032344_EO1_eeg.fif...\n",
      "Isotrak not found\n",
      "    Range : 17263 ... 31763 =     69.052 ...   127.052 secs\n",
      "Ready.\n",
      "Reading 0 ... 14500  =      0.000 ...    58.000 secs...\n"
     ]
    },
    {
     "name": "stderr",
     "output_type": "stream",
     "text": [
      "C:\\Users\\PESYLV~1\\AppData\\Local\\Temp/ipykernel_29536/564882533.py:16: FutureWarning: The frame.append method is deprecated and will be removed from pandas in a future version. Use pandas.concat instead.\n",
      "  df = df.append({\"data\": rawpd, \"age\": int(mlab[:2])+2.5}, ignore_index=True)\n"
     ]
    },
    {
     "name": "stdout",
     "output_type": "stream",
     "text": [
      "<class 'list'>\n",
      "Opening raw data file C:/Users/pesylvestre/Documents/Informatique/BRAIL/FY2023 In-House PoC3/In-HousePOC3/in_housepoc3/data/Lemon_PreDict\\sub-032344\\sub-032344_EO2_eeg.fif...\n",
      "Isotrak not found\n",
      "    Range : 48477 ... 62977 =    193.908 ...   251.908 secs\n",
      "Ready.\n",
      "Reading 0 ... 14500  =      0.000 ...    58.000 secs...\n"
     ]
    },
    {
     "name": "stderr",
     "output_type": "stream",
     "text": [
      "C:\\Users\\PESYLV~1\\AppData\\Local\\Temp/ipykernel_29536/564882533.py:16: FutureWarning: The frame.append method is deprecated and will be removed from pandas in a future version. Use pandas.concat instead.\n",
      "  df = df.append({\"data\": rawpd, \"age\": int(mlab[:2])+2.5}, ignore_index=True)\n"
     ]
    },
    {
     "name": "stdout",
     "output_type": "stream",
     "text": [
      "<class 'list'>\n",
      "Opening raw data file C:/Users/pesylvestre/Documents/Informatique/BRAIL/FY2023 In-House PoC3/In-HousePOC3/in_housepoc3/data/Lemon_PreDict\\sub-032344\\sub-032344_EO3_eeg.fif...\n",
      "Isotrak not found\n",
      "    Range : 79714 ... 94215 =    318.856 ...   376.860 secs\n",
      "Ready.\n",
      "Reading 0 ... 14501  =      0.000 ...    58.004 secs...\n"
     ]
    },
    {
     "name": "stderr",
     "output_type": "stream",
     "text": [
      "C:\\Users\\PESYLV~1\\AppData\\Local\\Temp/ipykernel_29536/564882533.py:16: FutureWarning: The frame.append method is deprecated and will be removed from pandas in a future version. Use pandas.concat instead.\n",
      "  df = df.append({\"data\": rawpd, \"age\": int(mlab[:2])+2.5}, ignore_index=True)\n"
     ]
    },
    {
     "name": "stdout",
     "output_type": "stream",
     "text": [
      "<class 'list'>\n",
      "Opening raw data file C:/Users/pesylvestre/Documents/Informatique/BRAIL/FY2023 In-House PoC3/In-HousePOC3/in_housepoc3/data/Lemon_PreDict\\sub-032344\\sub-032344_EO4_eeg.fif...\n",
      "Isotrak not found\n",
      "    Range : 120061 ... 134562 =    480.244 ...   538.248 secs\n",
      "Ready.\n",
      "Reading 0 ... 14501  =      0.000 ...    58.004 secs...\n"
     ]
    },
    {
     "name": "stderr",
     "output_type": "stream",
     "text": [
      "C:\\Users\\PESYLV~1\\AppData\\Local\\Temp/ipykernel_29536/564882533.py:16: FutureWarning: The frame.append method is deprecated and will be removed from pandas in a future version. Use pandas.concat instead.\n",
      "  df = df.append({\"data\": rawpd, \"age\": int(mlab[:2])+2.5}, ignore_index=True)\n"
     ]
    },
    {
     "name": "stdout",
     "output_type": "stream",
     "text": [
      "<class 'list'>\n",
      "Opening raw data file C:/Users/pesylvestre/Documents/Informatique/BRAIL/FY2023 In-House PoC3/In-HousePOC3/in_housepoc3/data/Lemon_PreDict\\sub-032344\\sub-032344_EO5_eeg.fif...\n"
     ]
    },
    {
     "name": "stderr",
     "output_type": "stream",
     "text": [
      "C:\\Users\\PESYLV~1\\AppData\\Local\\Temp/ipykernel_29536/564882533.py:16: FutureWarning: The frame.append method is deprecated and will be removed from pandas in a future version. Use pandas.concat instead.\n",
      "  df = df.append({\"data\": rawpd, \"age\": int(mlab[:2])+2.5}, ignore_index=True)\n"
     ]
    },
    {
     "name": "stdout",
     "output_type": "stream",
     "text": [
      "Isotrak not found\n",
      "    Range : 159672 ... 174172 =    638.688 ...   696.688 secs\n",
      "Ready.\n",
      "Reading 0 ... 14500  =      0.000 ...    58.000 secs...\n",
      "<class 'list'>\n",
      "Opening raw data file C:/Users/pesylvestre/Documents/Informatique/BRAIL/FY2023 In-House PoC3/In-HousePOC3/in_housepoc3/data/Lemon_PreDict\\sub-032344\\sub-032344_EO6_eeg.fif...\n"
     ]
    },
    {
     "name": "stderr",
     "output_type": "stream",
     "text": [
      "C:\\Users\\PESYLV~1\\AppData\\Local\\Temp/ipykernel_29536/564882533.py:16: FutureWarning: The frame.append method is deprecated and will be removed from pandas in a future version. Use pandas.concat instead.\n",
      "  df = df.append({\"data\": rawpd, \"age\": int(mlab[:2])+2.5}, ignore_index=True)\n"
     ]
    },
    {
     "name": "stdout",
     "output_type": "stream",
     "text": [
      "Isotrak not found\n",
      "    Range : 197113 ... 211614 =    788.452 ...   846.456 secs\n",
      "Ready.\n",
      "Reading 0 ... 14501  =      0.000 ...    58.004 secs...\n",
      "<class 'list'>\n",
      "Opening raw data file C:/Users/pesylvestre/Documents/Informatique/BRAIL/FY2023 In-House PoC3/In-HousePOC3/in_housepoc3/data/Lemon_PreDict\\sub-032344\\sub-032344_EO7_eeg.fif...\n"
     ]
    },
    {
     "name": "stderr",
     "output_type": "stream",
     "text": [
      "C:\\Users\\PESYLV~1\\AppData\\Local\\Temp/ipykernel_29536/564882533.py:16: FutureWarning: The frame.append method is deprecated and will be removed from pandas in a future version. Use pandas.concat instead.\n",
      "  df = df.append({\"data\": rawpd, \"age\": int(mlab[:2])+2.5}, ignore_index=True)\n"
     ]
    },
    {
     "name": "stdout",
     "output_type": "stream",
     "text": [
      "Isotrak not found\n",
      "    Range : 233050 ... 247550 =    932.200 ...   990.200 secs\n",
      "Ready.\n",
      "Reading 0 ... 14500  =      0.000 ...    58.000 secs...\n",
      "<class 'list'>\n",
      "Opening raw data file C:/Users/pesylvestre/Documents/Informatique/BRAIL/FY2023 In-House PoC3/In-HousePOC3/in_housepoc3/data/Lemon_PreDict\\sub-032344\\sub-032344_EO8_eeg.fif...\n"
     ]
    },
    {
     "name": "stderr",
     "output_type": "stream",
     "text": [
      "C:\\Users\\PESYLV~1\\AppData\\Local\\Temp/ipykernel_29536/564882533.py:16: FutureWarning: The frame.append method is deprecated and will be removed from pandas in a future version. Use pandas.concat instead.\n",
      "  df = df.append({\"data\": rawpd, \"age\": int(mlab[:2])+2.5}, ignore_index=True)\n"
     ]
    },
    {
     "name": "stdout",
     "output_type": "stream",
     "text": [
      "Isotrak not found\n",
      "    Range : 264155 ... 278655 =   1056.620 ...  1114.620 secs\n",
      "Ready.\n",
      "Reading 0 ... 14500  =      0.000 ...    58.000 secs...\n",
      "<class 'list'>\n",
      "Opening raw data file C:/Users/pesylvestre/Documents/Informatique/BRAIL/FY2023 In-House PoC3/In-HousePOC3/in_housepoc3/data/Lemon_PreDict\\sub-032345\\sub-032345_EC1_eeg.fif...\n"
     ]
    },
    {
     "name": "stderr",
     "output_type": "stream",
     "text": [
      "C:\\Users\\PESYLV~1\\AppData\\Local\\Temp/ipykernel_29536/564882533.py:16: FutureWarning: The frame.append method is deprecated and will be removed from pandas in a future version. Use pandas.concat instead.\n",
      "  df = df.append({\"data\": rawpd, \"age\": int(mlab[:2])+2.5}, ignore_index=True)\n"
     ]
    },
    {
     "name": "stdout",
     "output_type": "stream",
     "text": [
      "Isotrak not found\n",
      "    Range : 1487 ... 15987 =      5.948 ...    63.948 secs\n",
      "Ready.\n",
      "Reading 0 ... 14500  =      0.000 ...    58.000 secs...\n",
      "<class 'list'>\n",
      "Opening raw data file C:/Users/pesylvestre/Documents/Informatique/BRAIL/FY2023 In-House PoC3/In-HousePOC3/in_housepoc3/data/Lemon_PreDict\\sub-032345\\sub-032345_EC2_eeg.fif...\n",
      "Isotrak not found\n",
      "    Range : 32608 ... 47109 =    130.432 ...   188.436 secs\n",
      "Ready.\n",
      "Reading 0 ... 14501  =      0.000 ...    58.004 secs...\n"
     ]
    },
    {
     "name": "stderr",
     "output_type": "stream",
     "text": [
      "C:\\Users\\PESYLV~1\\AppData\\Local\\Temp/ipykernel_29536/564882533.py:16: FutureWarning: The frame.append method is deprecated and will be removed from pandas in a future version. Use pandas.concat instead.\n",
      "  df = df.append({\"data\": rawpd, \"age\": int(mlab[:2])+2.5}, ignore_index=True)\n"
     ]
    },
    {
     "name": "stdout",
     "output_type": "stream",
     "text": [
      "<class 'list'>\n",
      "Opening raw data file C:/Users/pesylvestre/Documents/Informatique/BRAIL/FY2023 In-House PoC3/In-HousePOC3/in_housepoc3/data/Lemon_PreDict\\sub-032345\\sub-032345_EC3_eeg.fif...\n",
      "Isotrak not found\n",
      "    Range : 64088 ... 78588 =    256.352 ...   314.352 secs\n",
      "Ready.\n",
      "Reading 0 ... 14500  =      0.000 ...    58.000 secs...\n"
     ]
    },
    {
     "name": "stderr",
     "output_type": "stream",
     "text": [
      "C:\\Users\\PESYLV~1\\AppData\\Local\\Temp/ipykernel_29536/564882533.py:16: FutureWarning: The frame.append method is deprecated and will be removed from pandas in a future version. Use pandas.concat instead.\n",
      "  df = df.append({\"data\": rawpd, \"age\": int(mlab[:2])+2.5}, ignore_index=True)\n"
     ]
    },
    {
     "name": "stdout",
     "output_type": "stream",
     "text": [
      "<class 'list'>\n",
      "Opening raw data file C:/Users/pesylvestre/Documents/Informatique/BRAIL/FY2023 In-House PoC3/In-HousePOC3/in_housepoc3/data/Lemon_PreDict\\sub-032345\\sub-032345_EC4_eeg.fif...\n",
      "Isotrak not found\n",
      "    Range : 95172 ... 109672 =    380.688 ...   438.688 secs\n",
      "Ready.\n",
      "Reading 0 ... 14500  =      0.000 ...    58.000 secs...\n"
     ]
    },
    {
     "name": "stderr",
     "output_type": "stream",
     "text": [
      "C:\\Users\\PESYLV~1\\AppData\\Local\\Temp/ipykernel_29536/564882533.py:16: FutureWarning: The frame.append method is deprecated and will be removed from pandas in a future version. Use pandas.concat instead.\n",
      "  df = df.append({\"data\": rawpd, \"age\": int(mlab[:2])+2.5}, ignore_index=True)\n"
     ]
    },
    {
     "name": "stdout",
     "output_type": "stream",
     "text": [
      "<class 'list'>\n",
      "Opening raw data file C:/Users/pesylvestre/Documents/Informatique/BRAIL/FY2023 In-House PoC3/In-HousePOC3/in_housepoc3/data/Lemon_PreDict\\sub-032345\\sub-032345_EC5_eeg.fif...\n",
      "Isotrak not found\n",
      "    Range : 126510 ... 141011 =    506.040 ...   564.044 secs\n",
      "Ready.\n",
      "Reading 0 ... 14501  =      0.000 ...    58.004 secs...\n"
     ]
    },
    {
     "name": "stderr",
     "output_type": "stream",
     "text": [
      "C:\\Users\\PESYLV~1\\AppData\\Local\\Temp/ipykernel_29536/564882533.py:16: FutureWarning: The frame.append method is deprecated and will be removed from pandas in a future version. Use pandas.concat instead.\n",
      "  df = df.append({\"data\": rawpd, \"age\": int(mlab[:2])+2.5}, ignore_index=True)\n"
     ]
    },
    {
     "name": "stdout",
     "output_type": "stream",
     "text": [
      "<class 'list'>\n",
      "Opening raw data file C:/Users/pesylvestre/Documents/Informatique/BRAIL/FY2023 In-House PoC3/In-HousePOC3/in_housepoc3/data/Lemon_PreDict\\sub-032345\\sub-032345_EC6_eeg.fif...\n",
      "Isotrak not found\n",
      "    Range : 157705 ... 172206 =    630.820 ...   688.824 secs\n",
      "Ready.\n",
      "Reading 0 ... 14501  =      0.000 ...    58.004 secs...\n"
     ]
    },
    {
     "name": "stderr",
     "output_type": "stream",
     "text": [
      "C:\\Users\\PESYLV~1\\AppData\\Local\\Temp/ipykernel_29536/564882533.py:16: FutureWarning: The frame.append method is deprecated and will be removed from pandas in a future version. Use pandas.concat instead.\n",
      "  df = df.append({\"data\": rawpd, \"age\": int(mlab[:2])+2.5}, ignore_index=True)\n"
     ]
    },
    {
     "name": "stdout",
     "output_type": "stream",
     "text": [
      "<class 'list'>\n",
      "Opening raw data file C:/Users/pesylvestre/Documents/Informatique/BRAIL/FY2023 In-House PoC3/In-HousePOC3/in_housepoc3/data/Lemon_PreDict\\sub-032345\\sub-032345_EC7_eeg.fif...\n",
      "Isotrak not found\n",
      "    Range : 188805 ... 203305 =    755.220 ...   813.220 secs\n",
      "Ready.\n",
      "Reading 0 ... 14500  =      0.000 ...    58.000 secs...\n"
     ]
    },
    {
     "name": "stderr",
     "output_type": "stream",
     "text": [
      "C:\\Users\\PESYLV~1\\AppData\\Local\\Temp/ipykernel_29536/564882533.py:16: FutureWarning: The frame.append method is deprecated and will be removed from pandas in a future version. Use pandas.concat instead.\n",
      "  df = df.append({\"data\": rawpd, \"age\": int(mlab[:2])+2.5}, ignore_index=True)\n"
     ]
    },
    {
     "name": "stdout",
     "output_type": "stream",
     "text": [
      "<class 'list'>\n",
      "Opening raw data file C:/Users/pesylvestre/Documents/Informatique/BRAIL/FY2023 In-House PoC3/In-HousePOC3/in_housepoc3/data/Lemon_PreDict\\sub-032345\\sub-032345_EC8_eeg.fif...\n",
      "Isotrak not found\n",
      "    Range : 222557 ... 237058 =    890.228 ...   948.232 secs\n",
      "Ready.\n",
      "Reading 0 ... 14501  =      0.000 ...    58.004 secs...\n"
     ]
    },
    {
     "name": "stderr",
     "output_type": "stream",
     "text": [
      "C:\\Users\\PESYLV~1\\AppData\\Local\\Temp/ipykernel_29536/564882533.py:16: FutureWarning: The frame.append method is deprecated and will be removed from pandas in a future version. Use pandas.concat instead.\n",
      "  df = df.append({\"data\": rawpd, \"age\": int(mlab[:2])+2.5}, ignore_index=True)\n"
     ]
    },
    {
     "name": "stdout",
     "output_type": "stream",
     "text": [
      "<class 'list'>\n",
      "Opening raw data file C:/Users/pesylvestre/Documents/Informatique/BRAIL/FY2023 In-House PoC3/In-HousePOC3/in_housepoc3/data/Lemon_PreDict\\sub-032345\\sub-032345_EO1_eeg.fif...\n",
      "Isotrak not found\n",
      "    Range : 17014 ... 31514 =     68.056 ...   126.056 secs\n",
      "Ready.\n",
      "Reading 0 ... 14500  =      0.000 ...    58.000 secs...\n"
     ]
    },
    {
     "name": "stderr",
     "output_type": "stream",
     "text": [
      "C:\\Users\\PESYLV~1\\AppData\\Local\\Temp/ipykernel_29536/564882533.py:16: FutureWarning: The frame.append method is deprecated and will be removed from pandas in a future version. Use pandas.concat instead.\n",
      "  df = df.append({\"data\": rawpd, \"age\": int(mlab[:2])+2.5}, ignore_index=True)\n"
     ]
    },
    {
     "name": "stdout",
     "output_type": "stream",
     "text": [
      "<class 'list'>\n",
      "Opening raw data file C:/Users/pesylvestre/Documents/Informatique/BRAIL/FY2023 In-House PoC3/In-HousePOC3/in_housepoc3/data/Lemon_PreDict\\sub-032345\\sub-032345_EO2_eeg.fif...\n",
      "Isotrak not found\n",
      "    Range : 48467 ... 62968 =    193.868 ...   251.872 secs\n",
      "Ready.\n",
      "Reading 0 ... 14501  =      0.000 ...    58.004 secs...\n"
     ]
    },
    {
     "name": "stderr",
     "output_type": "stream",
     "text": [
      "C:\\Users\\PESYLV~1\\AppData\\Local\\Temp/ipykernel_29536/564882533.py:16: FutureWarning: The frame.append method is deprecated and will be removed from pandas in a future version. Use pandas.concat instead.\n",
      "  df = df.append({\"data\": rawpd, \"age\": int(mlab[:2])+2.5}, ignore_index=True)\n"
     ]
    },
    {
     "name": "stdout",
     "output_type": "stream",
     "text": [
      "<class 'list'>\n",
      "Opening raw data file C:/Users/pesylvestre/Documents/Informatique/BRAIL/FY2023 In-House PoC3/In-HousePOC3/in_housepoc3/data/Lemon_PreDict\\sub-032345\\sub-032345_EO3_eeg.fif...\n",
      "Isotrak not found\n",
      "    Range : 79680 ... 94180 =    318.720 ...   376.720 secs\n",
      "Ready.\n",
      "Reading 0 ... 14500  =      0.000 ...    58.000 secs...\n"
     ]
    },
    {
     "name": "stderr",
     "output_type": "stream",
     "text": [
      "C:\\Users\\PESYLV~1\\AppData\\Local\\Temp/ipykernel_29536/564882533.py:16: FutureWarning: The frame.append method is deprecated and will be removed from pandas in a future version. Use pandas.concat instead.\n",
      "  df = df.append({\"data\": rawpd, \"age\": int(mlab[:2])+2.5}, ignore_index=True)\n"
     ]
    },
    {
     "name": "stdout",
     "output_type": "stream",
     "text": [
      "<class 'list'>\n",
      "Opening raw data file C:/Users/pesylvestre/Documents/Informatique/BRAIL/FY2023 In-House PoC3/In-HousePOC3/in_housepoc3/data/Lemon_PreDict\\sub-032345\\sub-032345_EO4_eeg.fif...\n",
      "Isotrak not found\n",
      "    Range : 110743 ... 125243 =    442.972 ...   500.972 secs\n",
      "Ready.\n",
      "Reading 0 ... 14500  =      0.000 ...    58.000 secs...\n"
     ]
    },
    {
     "name": "stderr",
     "output_type": "stream",
     "text": [
      "C:\\Users\\PESYLV~1\\AppData\\Local\\Temp/ipykernel_29536/564882533.py:16: FutureWarning: The frame.append method is deprecated and will be removed from pandas in a future version. Use pandas.concat instead.\n",
      "  df = df.append({\"data\": rawpd, \"age\": int(mlab[:2])+2.5}, ignore_index=True)\n"
     ]
    },
    {
     "name": "stdout",
     "output_type": "stream",
     "text": [
      "<class 'list'>\n",
      "Opening raw data file C:/Users/pesylvestre/Documents/Informatique/BRAIL/FY2023 In-House PoC3/In-HousePOC3/in_housepoc3/data/Lemon_PreDict\\sub-032345\\sub-032345_EO5_eeg.fif...\n",
      "Isotrak not found\n",
      "    Range : 142111 ... 156612 =    568.444 ...   626.448 secs\n",
      "Ready.\n",
      "Reading 0 ... 14501  =      0.000 ...    58.004 secs...\n"
     ]
    },
    {
     "name": "stderr",
     "output_type": "stream",
     "text": [
      "C:\\Users\\PESYLV~1\\AppData\\Local\\Temp/ipykernel_29536/564882533.py:16: FutureWarning: The frame.append method is deprecated and will be removed from pandas in a future version. Use pandas.concat instead.\n",
      "  df = df.append({\"data\": rawpd, \"age\": int(mlab[:2])+2.5}, ignore_index=True)\n"
     ]
    },
    {
     "name": "stdout",
     "output_type": "stream",
     "text": [
      "<class 'list'>\n",
      "Opening raw data file C:/Users/pesylvestre/Documents/Informatique/BRAIL/FY2023 In-House PoC3/In-HousePOC3/in_housepoc3/data/Lemon_PreDict\\sub-032345\\sub-032345_EO6_eeg.fif...\n",
      "Isotrak not found\n",
      "    Range : 173343 ... 187843 =    693.372 ...   751.372 secs\n",
      "Ready.\n",
      "Reading 0 ... 14500  =      0.000 ...    58.000 secs...\n"
     ]
    },
    {
     "name": "stderr",
     "output_type": "stream",
     "text": [
      "C:\\Users\\PESYLV~1\\AppData\\Local\\Temp/ipykernel_29536/564882533.py:16: FutureWarning: The frame.append method is deprecated and will be removed from pandas in a future version. Use pandas.concat instead.\n",
      "  df = df.append({\"data\": rawpd, \"age\": int(mlab[:2])+2.5}, ignore_index=True)\n"
     ]
    },
    {
     "name": "stdout",
     "output_type": "stream",
     "text": [
      "<class 'list'>\n",
      "Opening raw data file C:/Users/pesylvestre/Documents/Informatique/BRAIL/FY2023 In-House PoC3/In-HousePOC3/in_housepoc3/data/Lemon_PreDict\\sub-032345\\sub-032345_EO7_eeg.fif...\n",
      "Isotrak not found\n",
      "    Range : 206778 ... 221279 =    827.112 ...   885.116 secs\n",
      "Ready.\n",
      "Reading 0 ... 14501  =      0.000 ...    58.004 secs...\n"
     ]
    },
    {
     "name": "stderr",
     "output_type": "stream",
     "text": [
      "C:\\Users\\PESYLV~1\\AppData\\Local\\Temp/ipykernel_29536/564882533.py:16: FutureWarning: The frame.append method is deprecated and will be removed from pandas in a future version. Use pandas.concat instead.\n",
      "  df = df.append({\"data\": rawpd, \"age\": int(mlab[:2])+2.5}, ignore_index=True)\n"
     ]
    },
    {
     "name": "stdout",
     "output_type": "stream",
     "text": [
      "<class 'list'>\n",
      "Opening raw data file C:/Users/pesylvestre/Documents/Informatique/BRAIL/FY2023 In-House PoC3/In-HousePOC3/in_housepoc3/data/Lemon_PreDict\\sub-032345\\sub-032345_EO8_eeg.fif...\n",
      "Isotrak not found\n",
      "    Range : 238327 ... 252828 =    953.308 ...  1011.312 secs\n",
      "Ready.\n",
      "Reading 0 ... 14501  =      0.000 ...    58.004 secs...\n"
     ]
    },
    {
     "name": "stderr",
     "output_type": "stream",
     "text": [
      "C:\\Users\\PESYLV~1\\AppData\\Local\\Temp/ipykernel_29536/564882533.py:16: FutureWarning: The frame.append method is deprecated and will be removed from pandas in a future version. Use pandas.concat instead.\n",
      "  df = df.append({\"data\": rawpd, \"age\": int(mlab[:2])+2.5}, ignore_index=True)\n"
     ]
    },
    {
     "name": "stdout",
     "output_type": "stream",
     "text": [
      "<class 'list'>\n",
      "Opening raw data file C:/Users/pesylvestre/Documents/Informatique/BRAIL/FY2023 In-House PoC3/In-HousePOC3/in_housepoc3/data/Lemon_PreDict\\sub-032346\\sub-032346_EC1_eeg.fif...\n",
      "Isotrak not found\n",
      "    Range : 1687 ... 16188 =      6.748 ...    64.752 secs\n",
      "Ready.\n",
      "Reading 0 ... 14501  =      0.000 ...    58.004 secs...\n"
     ]
    },
    {
     "name": "stderr",
     "output_type": "stream",
     "text": [
      "C:\\Users\\PESYLV~1\\AppData\\Local\\Temp/ipykernel_29536/564882533.py:16: FutureWarning: The frame.append method is deprecated and will be removed from pandas in a future version. Use pandas.concat instead.\n",
      "  df = df.append({\"data\": rawpd, \"age\": int(mlab[:2])+2.5}, ignore_index=True)\n"
     ]
    },
    {
     "name": "stdout",
     "output_type": "stream",
     "text": [
      "<class 'list'>\n",
      "Opening raw data file C:/Users/pesylvestre/Documents/Informatique/BRAIL/FY2023 In-House PoC3/In-HousePOC3/in_housepoc3/data/Lemon_PreDict\\sub-032346\\sub-032346_EC2_eeg.fif...\n",
      "Isotrak not found\n",
      "    Range : 32665 ... 47165 =    130.660 ...   188.660 secs\n",
      "Ready.\n",
      "Reading 0 ... 14500  =      0.000 ...    58.000 secs...\n"
     ]
    },
    {
     "name": "stderr",
     "output_type": "stream",
     "text": [
      "C:\\Users\\PESYLV~1\\AppData\\Local\\Temp/ipykernel_29536/564882533.py:16: FutureWarning: The frame.append method is deprecated and will be removed from pandas in a future version. Use pandas.concat instead.\n",
      "  df = df.append({\"data\": rawpd, \"age\": int(mlab[:2])+2.5}, ignore_index=True)\n"
     ]
    },
    {
     "name": "stdout",
     "output_type": "stream",
     "text": [
      "<class 'list'>\n",
      "Opening raw data file C:/Users/pesylvestre/Documents/Informatique/BRAIL/FY2023 In-House PoC3/In-HousePOC3/in_housepoc3/data/Lemon_PreDict\\sub-032346\\sub-032346_EC3_eeg.fif...\n",
      "Isotrak not found\n",
      "    Range : 67787 ... 82287 =    271.148 ...   329.148 secs\n",
      "Ready.\n",
      "Reading 0 ... 14500  =      0.000 ...    58.000 secs...\n"
     ]
    },
    {
     "name": "stderr",
     "output_type": "stream",
     "text": [
      "C:\\Users\\PESYLV~1\\AppData\\Local\\Temp/ipykernel_29536/564882533.py:16: FutureWarning: The frame.append method is deprecated and will be removed from pandas in a future version. Use pandas.concat instead.\n",
      "  df = df.append({\"data\": rawpd, \"age\": int(mlab[:2])+2.5}, ignore_index=True)\n"
     ]
    },
    {
     "name": "stdout",
     "output_type": "stream",
     "text": [
      "<class 'list'>\n",
      "Opening raw data file C:/Users/pesylvestre/Documents/Informatique/BRAIL/FY2023 In-House PoC3/In-HousePOC3/in_housepoc3/data/Lemon_PreDict\\sub-032346\\sub-032346_EC4_eeg.fif...\n",
      "Isotrak not found\n",
      "    Range : 102158 ... 116659 =    408.632 ...   466.636 secs\n",
      "Ready.\n",
      "Reading 0 ... 14501  =      0.000 ...    58.004 secs...\n"
     ]
    },
    {
     "name": "stderr",
     "output_type": "stream",
     "text": [
      "C:\\Users\\PESYLV~1\\AppData\\Local\\Temp/ipykernel_29536/564882533.py:16: FutureWarning: The frame.append method is deprecated and will be removed from pandas in a future version. Use pandas.concat instead.\n",
      "  df = df.append({\"data\": rawpd, \"age\": int(mlab[:2])+2.5}, ignore_index=True)\n"
     ]
    },
    {
     "name": "stdout",
     "output_type": "stream",
     "text": [
      "<class 'list'>\n",
      "Opening raw data file C:/Users/pesylvestre/Documents/Informatique/BRAIL/FY2023 In-House PoC3/In-HousePOC3/in_housepoc3/data/Lemon_PreDict\\sub-032346\\sub-032346_EC5_eeg.fif...\n",
      "Isotrak not found\n",
      "    Range : 133448 ... 147948 =    533.792 ...   591.792 secs\n",
      "Ready.\n",
      "Reading 0 ... 14500  =      0.000 ...    58.000 secs...\n"
     ]
    },
    {
     "name": "stderr",
     "output_type": "stream",
     "text": [
      "C:\\Users\\PESYLV~1\\AppData\\Local\\Temp/ipykernel_29536/564882533.py:16: FutureWarning: The frame.append method is deprecated and will be removed from pandas in a future version. Use pandas.concat instead.\n",
      "  df = df.append({\"data\": rawpd, \"age\": int(mlab[:2])+2.5}, ignore_index=True)\n"
     ]
    },
    {
     "name": "stdout",
     "output_type": "stream",
     "text": [
      "<class 'list'>\n",
      "Opening raw data file C:/Users/pesylvestre/Documents/Informatique/BRAIL/FY2023 In-House PoC3/In-HousePOC3/in_housepoc3/data/Lemon_PreDict\\sub-032346\\sub-032346_EC6_eeg.fif...\n",
      "Isotrak not found\n",
      "    Range : 166002 ... 180503 =    664.008 ...   722.012 secs\n",
      "Ready.\n",
      "Reading 0 ... 14501  =      0.000 ...    58.004 secs...\n"
     ]
    },
    {
     "name": "stderr",
     "output_type": "stream",
     "text": [
      "C:\\Users\\PESYLV~1\\AppData\\Local\\Temp/ipykernel_29536/564882533.py:16: FutureWarning: The frame.append method is deprecated and will be removed from pandas in a future version. Use pandas.concat instead.\n",
      "  df = df.append({\"data\": rawpd, \"age\": int(mlab[:2])+2.5}, ignore_index=True)\n"
     ]
    },
    {
     "name": "stdout",
     "output_type": "stream",
     "text": [
      "<class 'list'>\n",
      "Opening raw data file C:/Users/pesylvestre/Documents/Informatique/BRAIL/FY2023 In-House PoC3/In-HousePOC3/in_housepoc3/data/Lemon_PreDict\\sub-032346\\sub-032346_EC7_eeg.fif...\n",
      "Isotrak not found\n",
      "    Range : 197292 ... 211792 =    789.168 ...   847.168 secs\n",
      "Ready.\n",
      "Reading 0 ... 14500  =      0.000 ...    58.000 secs...\n"
     ]
    },
    {
     "name": "stderr",
     "output_type": "stream",
     "text": [
      "C:\\Users\\PESYLV~1\\AppData\\Local\\Temp/ipykernel_29536/564882533.py:16: FutureWarning: The frame.append method is deprecated and will be removed from pandas in a future version. Use pandas.concat instead.\n",
      "  df = df.append({\"data\": rawpd, \"age\": int(mlab[:2])+2.5}, ignore_index=True)\n"
     ]
    },
    {
     "name": "stdout",
     "output_type": "stream",
     "text": [
      "<class 'list'>\n",
      "Opening raw data file C:/Users/pesylvestre/Documents/Informatique/BRAIL/FY2023 In-House PoC3/In-HousePOC3/in_housepoc3/data/Lemon_PreDict\\sub-032346\\sub-032346_EC8_eeg.fif...\n",
      "Isotrak not found\n",
      "    Range : 228521 ... 243021 =    914.084 ...   972.084 secs\n",
      "Ready.\n",
      "Reading 0 ... 14500  =      0.000 ...    58.000 secs...\n"
     ]
    },
    {
     "name": "stderr",
     "output_type": "stream",
     "text": [
      "C:\\Users\\PESYLV~1\\AppData\\Local\\Temp/ipykernel_29536/564882533.py:16: FutureWarning: The frame.append method is deprecated and will be removed from pandas in a future version. Use pandas.concat instead.\n",
      "  df = df.append({\"data\": rawpd, \"age\": int(mlab[:2])+2.5}, ignore_index=True)\n"
     ]
    },
    {
     "name": "stdout",
     "output_type": "stream",
     "text": [
      "<class 'list'>\n",
      "Opening raw data file C:/Users/pesylvestre/Documents/Informatique/BRAIL/FY2023 In-House PoC3/In-HousePOC3/in_housepoc3/data/Lemon_PreDict\\sub-032346\\sub-032346_EO1_eeg.fif...\n",
      "Isotrak not found\n",
      "    Range : 17155 ... 31655 =     68.620 ...   126.620 secs\n",
      "Ready.\n",
      "Reading 0 ... 14500  =      0.000 ...    58.000 secs...\n"
     ]
    },
    {
     "name": "stderr",
     "output_type": "stream",
     "text": [
      "C:\\Users\\PESYLV~1\\AppData\\Local\\Temp/ipykernel_29536/564882533.py:16: FutureWarning: The frame.append method is deprecated and will be removed from pandas in a future version. Use pandas.concat instead.\n",
      "  df = df.append({\"data\": rawpd, \"age\": int(mlab[:2])+2.5}, ignore_index=True)\n"
     ]
    },
    {
     "name": "stdout",
     "output_type": "stream",
     "text": [
      "<class 'list'>\n",
      "Opening raw data file C:/Users/pesylvestre/Documents/Informatique/BRAIL/FY2023 In-House PoC3/In-HousePOC3/in_housepoc3/data/Lemon_PreDict\\sub-032346\\sub-032346_EO2_eeg.fif...\n",
      "Isotrak not found\n",
      "    Range : 48370 ... 62871 =    193.480 ...   251.484 secs\n",
      "Ready.\n",
      "Reading 0 ... 14501  =      0.000 ...    58.004 secs...\n"
     ]
    },
    {
     "name": "stderr",
     "output_type": "stream",
     "text": [
      "C:\\Users\\PESYLV~1\\AppData\\Local\\Temp/ipykernel_29536/564882533.py:16: FutureWarning: The frame.append method is deprecated and will be removed from pandas in a future version. Use pandas.concat instead.\n",
      "  df = df.append({\"data\": rawpd, \"age\": int(mlab[:2])+2.5}, ignore_index=True)\n"
     ]
    },
    {
     "name": "stdout",
     "output_type": "stream",
     "text": [
      "<class 'list'>\n",
      "Opening raw data file C:/Users/pesylvestre/Documents/Informatique/BRAIL/FY2023 In-House PoC3/In-HousePOC3/in_housepoc3/data/Lemon_PreDict\\sub-032346\\sub-032346_EO3_eeg.fif...\n"
     ]
    },
    {
     "name": "stderr",
     "output_type": "stream",
     "text": [
      "C:\\Users\\PESYLV~1\\AppData\\Local\\Temp/ipykernel_29536/564882533.py:16: FutureWarning: The frame.append method is deprecated and will be removed from pandas in a future version. Use pandas.concat instead.\n",
      "  df = df.append({\"data\": rawpd, \"age\": int(mlab[:2])+2.5}, ignore_index=True)\n"
     ]
    },
    {
     "name": "stdout",
     "output_type": "stream",
     "text": [
      "Isotrak not found\n",
      "    Range : 86534 ... 101034 =    346.136 ...   404.136 secs\n",
      "Ready.\n",
      "Reading 0 ... 14500  =      0.000 ...    58.000 secs...\n",
      "<class 'list'>\n",
      "Opening raw data file C:/Users/pesylvestre/Documents/Informatique/BRAIL/FY2023 In-House PoC3/In-HousePOC3/in_housepoc3/data/Lemon_PreDict\\sub-032346\\sub-032346_EO4_eeg.fif...\n",
      "Isotrak not found\n",
      "    Range : 117917 ... 132417 =    471.668 ...   529.668 secs\n",
      "Ready.\n",
      "Reading 0 ... 14500  =      0.000 ...    58.000 secs...\n"
     ]
    },
    {
     "name": "stderr",
     "output_type": "stream",
     "text": [
      "C:\\Users\\PESYLV~1\\AppData\\Local\\Temp/ipykernel_29536/564882533.py:16: FutureWarning: The frame.append method is deprecated and will be removed from pandas in a future version. Use pandas.concat instead.\n",
      "  df = df.append({\"data\": rawpd, \"age\": int(mlab[:2])+2.5}, ignore_index=True)\n"
     ]
    },
    {
     "name": "stdout",
     "output_type": "stream",
     "text": [
      "<class 'list'>\n",
      "Opening raw data file C:/Users/pesylvestre/Documents/Informatique/BRAIL/FY2023 In-House PoC3/In-HousePOC3/in_housepoc3/data/Lemon_PreDict\\sub-032346\\sub-032346_EO5_eeg.fif...\n",
      "Isotrak not found\n",
      "    Range : 150204 ... 164705 =    600.816 ...   658.820 secs\n",
      "Ready.\n",
      "Reading 0 ... 14501  =      0.000 ...    58.004 secs...\n"
     ]
    },
    {
     "name": "stderr",
     "output_type": "stream",
     "text": [
      "C:\\Users\\PESYLV~1\\AppData\\Local\\Temp/ipykernel_29536/564882533.py:16: FutureWarning: The frame.append method is deprecated and will be removed from pandas in a future version. Use pandas.concat instead.\n",
      "  df = df.append({\"data\": rawpd, \"age\": int(mlab[:2])+2.5}, ignore_index=True)\n"
     ]
    },
    {
     "name": "stdout",
     "output_type": "stream",
     "text": [
      "<class 'list'>\n",
      "Opening raw data file C:/Users/pesylvestre/Documents/Informatique/BRAIL/FY2023 In-House PoC3/In-HousePOC3/in_housepoc3/data/Lemon_PreDict\\sub-032346\\sub-032346_EO6_eeg.fif...\n",
      "Isotrak not found\n",
      "    Range : 181810 ... 196310 =    727.240 ...   785.240 secs\n",
      "Ready.\n",
      "Reading 0 ... 14500  =      0.000 ...    58.000 secs...\n"
     ]
    },
    {
     "name": "stderr",
     "output_type": "stream",
     "text": [
      "C:\\Users\\PESYLV~1\\AppData\\Local\\Temp/ipykernel_29536/564882533.py:16: FutureWarning: The frame.append method is deprecated and will be removed from pandas in a future version. Use pandas.concat instead.\n",
      "  df = df.append({\"data\": rawpd, \"age\": int(mlab[:2])+2.5}, ignore_index=True)\n"
     ]
    },
    {
     "name": "stdout",
     "output_type": "stream",
     "text": [
      "<class 'list'>\n",
      "Opening raw data file C:/Users/pesylvestre/Documents/Informatique/BRAIL/FY2023 In-House PoC3/In-HousePOC3/in_housepoc3/data/Lemon_PreDict\\sub-032346\\sub-032346_EO7_eeg.fif...\n",
      "Isotrak not found\n",
      "    Range : 212881 ... 227382 =    851.524 ...   909.528 secs\n",
      "Ready.\n",
      "Reading 0 ... 14501  =      0.000 ...    58.004 secs...\n"
     ]
    },
    {
     "name": "stderr",
     "output_type": "stream",
     "text": [
      "C:\\Users\\PESYLV~1\\AppData\\Local\\Temp/ipykernel_29536/564882533.py:16: FutureWarning: The frame.append method is deprecated and will be removed from pandas in a future version. Use pandas.concat instead.\n",
      "  df = df.append({\"data\": rawpd, \"age\": int(mlab[:2])+2.5}, ignore_index=True)\n"
     ]
    },
    {
     "name": "stdout",
     "output_type": "stream",
     "text": [
      "<class 'list'>\n",
      "Opening raw data file C:/Users/pesylvestre/Documents/Informatique/BRAIL/FY2023 In-House PoC3/In-HousePOC3/in_housepoc3/data/Lemon_PreDict\\sub-032346\\sub-032346_EO8_eeg.fif...\n",
      "Isotrak not found\n",
      "    Range : 244119 ... 258619 =    976.476 ...  1034.476 secs\n",
      "Ready.\n",
      "Reading 0 ... 14500  =      0.000 ...    58.000 secs...\n"
     ]
    },
    {
     "name": "stderr",
     "output_type": "stream",
     "text": [
      "C:\\Users\\PESYLV~1\\AppData\\Local\\Temp/ipykernel_29536/564882533.py:16: FutureWarning: The frame.append method is deprecated and will be removed from pandas in a future version. Use pandas.concat instead.\n",
      "  df = df.append({\"data\": rawpd, \"age\": int(mlab[:2])+2.5}, ignore_index=True)\n"
     ]
    },
    {
     "name": "stdout",
     "output_type": "stream",
     "text": [
      "<class 'list'>\n",
      "Opening raw data file C:/Users/pesylvestre/Documents/Informatique/BRAIL/FY2023 In-House PoC3/In-HousePOC3/in_housepoc3/data/Lemon_PreDict\\sub-032347\\sub-032347_EC1_eeg.fif...\n",
      "Isotrak not found\n",
      "    Range : 2369 ... 3869 =      9.476 ...    15.476 secs\n",
      "Ready.\n",
      "Reading 0 ... 1500  =      0.000 ...     6.000 secs...\n",
      "Opening raw data file C:/Users/pesylvestre/Documents/Informatique/BRAIL/FY2023 In-House PoC3/In-HousePOC3/in_housepoc3/data/Lemon_PreDict\\sub-032347\\sub-032347_EC2_eeg.fif...\n",
      "Isotrak not found\n",
      "    Range : 7261 ... 7761 =     29.044 ...    31.044 secs\n",
      "Ready.\n",
      "Reading 0 ... 500  =      0.000 ...     2.000 secs...\n",
      "Opening raw data file C:/Users/pesylvestre/Documents/Informatique/BRAIL/FY2023 In-House PoC3/In-HousePOC3/in_housepoc3/data/Lemon_PreDict\\sub-032347\\sub-032347_EC3_eeg.fif...\n",
      "Isotrak not found\n",
      "    Range : 21049 ... 35549 =     84.196 ...   142.196 secs\n",
      "Ready.\n",
      "Reading 0 ... 14500  =      0.000 ...    58.000 secs...\n"
     ]
    },
    {
     "name": "stderr",
     "output_type": "stream",
     "text": [
      "C:\\Users\\PESYLV~1\\AppData\\Local\\Temp/ipykernel_29536/564882533.py:16: FutureWarning: The frame.append method is deprecated and will be removed from pandas in a future version. Use pandas.concat instead.\n",
      "  df = df.append({\"data\": rawpd, \"age\": int(mlab[:2])+2.5}, ignore_index=True)\n"
     ]
    },
    {
     "name": "stdout",
     "output_type": "stream",
     "text": [
      "<class 'list'>\n",
      "Opening raw data file C:/Users/pesylvestre/Documents/Informatique/BRAIL/FY2023 In-House PoC3/In-HousePOC3/in_housepoc3/data/Lemon_PreDict\\sub-032347\\sub-032347_EC4_eeg.fif...\n",
      "Isotrak not found\n",
      "    Range : 52098 ... 66598 =    208.392 ...   266.392 secs\n",
      "Ready.\n",
      "Reading 0 ... 14500  =      0.000 ...    58.000 secs...\n"
     ]
    },
    {
     "name": "stderr",
     "output_type": "stream",
     "text": [
      "C:\\Users\\PESYLV~1\\AppData\\Local\\Temp/ipykernel_29536/564882533.py:16: FutureWarning: The frame.append method is deprecated and will be removed from pandas in a future version. Use pandas.concat instead.\n",
      "  df = df.append({\"data\": rawpd, \"age\": int(mlab[:2])+2.5}, ignore_index=True)\n"
     ]
    },
    {
     "name": "stdout",
     "output_type": "stream",
     "text": [
      "<class 'list'>\n",
      "Opening raw data file C:/Users/pesylvestre/Documents/Informatique/BRAIL/FY2023 In-House PoC3/In-HousePOC3/in_housepoc3/data/Lemon_PreDict\\sub-032347\\sub-032347_EC5_eeg.fif...\n",
      "Isotrak not found\n",
      "    Range : 83207 ... 97707 =    332.828 ...   390.828 secs\n",
      "Ready.\n",
      "Reading 0 ... 14500  =      0.000 ...    58.000 secs...\n"
     ]
    },
    {
     "name": "stderr",
     "output_type": "stream",
     "text": [
      "C:\\Users\\PESYLV~1\\AppData\\Local\\Temp/ipykernel_29536/564882533.py:16: FutureWarning: The frame.append method is deprecated and will be removed from pandas in a future version. Use pandas.concat instead.\n",
      "  df = df.append({\"data\": rawpd, \"age\": int(mlab[:2])+2.5}, ignore_index=True)\n"
     ]
    },
    {
     "name": "stdout",
     "output_type": "stream",
     "text": [
      "<class 'list'>\n",
      "Opening raw data file C:/Users/pesylvestre/Documents/Informatique/BRAIL/FY2023 In-House PoC3/In-HousePOC3/in_housepoc3/data/Lemon_PreDict\\sub-032347\\sub-032347_EC6_eeg.fif...\n",
      "Isotrak not found\n",
      "    Range : 114161 ... 128661 =    456.644 ...   514.644 secs\n",
      "Ready.\n",
      "Reading 0 ... 14500  =      0.000 ...    58.000 secs...\n"
     ]
    },
    {
     "name": "stderr",
     "output_type": "stream",
     "text": [
      "C:\\Users\\PESYLV~1\\AppData\\Local\\Temp/ipykernel_29536/564882533.py:16: FutureWarning: The frame.append method is deprecated and will be removed from pandas in a future version. Use pandas.concat instead.\n",
      "  df = df.append({\"data\": rawpd, \"age\": int(mlab[:2])+2.5}, ignore_index=True)\n"
     ]
    },
    {
     "name": "stdout",
     "output_type": "stream",
     "text": [
      "<class 'list'>\n",
      "Opening raw data file C:/Users/pesylvestre/Documents/Informatique/BRAIL/FY2023 In-House PoC3/In-HousePOC3/in_housepoc3/data/Lemon_PreDict\\sub-032347\\sub-032347_EC7_eeg.fif...\n",
      "Isotrak not found\n",
      "    Range : 145418 ... 159919 =    581.672 ...   639.676 secs\n",
      "Ready.\n",
      "Reading 0 ... 14501  =      0.000 ...    58.004 secs...\n"
     ]
    },
    {
     "name": "stderr",
     "output_type": "stream",
     "text": [
      "C:\\Users\\PESYLV~1\\AppData\\Local\\Temp/ipykernel_29536/564882533.py:16: FutureWarning: The frame.append method is deprecated and will be removed from pandas in a future version. Use pandas.concat instead.\n",
      "  df = df.append({\"data\": rawpd, \"age\": int(mlab[:2])+2.5}, ignore_index=True)\n"
     ]
    },
    {
     "name": "stdout",
     "output_type": "stream",
     "text": [
      "<class 'list'>\n",
      "Opening raw data file C:/Users/pesylvestre/Documents/Informatique/BRAIL/FY2023 In-House PoC3/In-HousePOC3/in_housepoc3/data/Lemon_PreDict\\sub-032347\\sub-032347_EC8_eeg.fif...\n",
      "Isotrak not found\n",
      "    Range : 176683 ... 191183 =    706.732 ...   764.732 secs\n",
      "Ready.\n",
      "Reading 0 ... 14500  =      0.000 ...    58.000 secs...\n"
     ]
    },
    {
     "name": "stderr",
     "output_type": "stream",
     "text": [
      "C:\\Users\\PESYLV~1\\AppData\\Local\\Temp/ipykernel_29536/564882533.py:16: FutureWarning: The frame.append method is deprecated and will be removed from pandas in a future version. Use pandas.concat instead.\n",
      "  df = df.append({\"data\": rawpd, \"age\": int(mlab[:2])+2.5}, ignore_index=True)\n"
     ]
    },
    {
     "name": "stdout",
     "output_type": "stream",
     "text": [
      "<class 'list'>\n",
      "Opening raw data file C:/Users/pesylvestre/Documents/Informatique/BRAIL/FY2023 In-House PoC3/In-HousePOC3/in_housepoc3/data/Lemon_PreDict\\sub-032347\\sub-032347_EO1_eeg.fif...\n",
      "Isotrak not found\n",
      "    Range : 36652 ... 51152 =    146.608 ...   204.608 secs\n",
      "Ready.\n",
      "Reading 0 ... 14500  =      0.000 ...    58.000 secs...\n"
     ]
    },
    {
     "name": "stderr",
     "output_type": "stream",
     "text": [
      "C:\\Users\\PESYLV~1\\AppData\\Local\\Temp/ipykernel_29536/564882533.py:16: FutureWarning: The frame.append method is deprecated and will be removed from pandas in a future version. Use pandas.concat instead.\n",
      "  df = df.append({\"data\": rawpd, \"age\": int(mlab[:2])+2.5}, ignore_index=True)\n"
     ]
    },
    {
     "name": "stdout",
     "output_type": "stream",
     "text": [
      "<class 'list'>\n",
      "Opening raw data file C:/Users/pesylvestre/Documents/Informatique/BRAIL/FY2023 In-House PoC3/In-HousePOC3/in_housepoc3/data/Lemon_PreDict\\sub-032347\\sub-032347_EO2_eeg.fif...\n",
      "Isotrak not found\n",
      "    Range : 67743 ... 82243 =    270.972 ...   328.972 secs\n",
      "Ready.\n",
      "Reading 0 ... 14500  =      0.000 ...    58.000 secs...\n"
     ]
    },
    {
     "name": "stderr",
     "output_type": "stream",
     "text": [
      "C:\\Users\\PESYLV~1\\AppData\\Local\\Temp/ipykernel_29536/564882533.py:16: FutureWarning: The frame.append method is deprecated and will be removed from pandas in a future version. Use pandas.concat instead.\n",
      "  df = df.append({\"data\": rawpd, \"age\": int(mlab[:2])+2.5}, ignore_index=True)\n"
     ]
    },
    {
     "name": "stdout",
     "output_type": "stream",
     "text": [
      "<class 'list'>\n",
      "Opening raw data file C:/Users/pesylvestre/Documents/Informatique/BRAIL/FY2023 In-House PoC3/In-HousePOC3/in_housepoc3/data/Lemon_PreDict\\sub-032347\\sub-032347_EO3_eeg.fif...\n",
      "Isotrak not found\n",
      "    Range : 98680 ... 113180 =    394.720 ...   452.720 secs\n",
      "Ready.\n",
      "Reading 0 ... 14500  =      0.000 ...    58.000 secs...\n"
     ]
    },
    {
     "name": "stderr",
     "output_type": "stream",
     "text": [
      "C:\\Users\\PESYLV~1\\AppData\\Local\\Temp/ipykernel_29536/564882533.py:16: FutureWarning: The frame.append method is deprecated and will be removed from pandas in a future version. Use pandas.concat instead.\n",
      "  df = df.append({\"data\": rawpd, \"age\": int(mlab[:2])+2.5}, ignore_index=True)\n"
     ]
    },
    {
     "name": "stdout",
     "output_type": "stream",
     "text": [
      "<class 'list'>\n",
      "Opening raw data file C:/Users/pesylvestre/Documents/Informatique/BRAIL/FY2023 In-House PoC3/In-HousePOC3/in_housepoc3/data/Lemon_PreDict\\sub-032347\\sub-032347_EO4_eeg.fif...\n"
     ]
    },
    {
     "name": "stderr",
     "output_type": "stream",
     "text": [
      "C:\\Users\\PESYLV~1\\AppData\\Local\\Temp/ipykernel_29536/564882533.py:16: FutureWarning: The frame.append method is deprecated and will be removed from pandas in a future version. Use pandas.concat instead.\n",
      "  df = df.append({\"data\": rawpd, \"age\": int(mlab[:2])+2.5}, ignore_index=True)\n"
     ]
    },
    {
     "name": "stdout",
     "output_type": "stream",
     "text": [
      "Isotrak not found\n",
      "    Range : 129665 ... 144166 =    518.660 ...   576.664 secs\n",
      "Ready.\n",
      "Reading 0 ... 14501  =      0.000 ...    58.004 secs...\n",
      "<class 'list'>\n",
      "Opening raw data file C:/Users/pesylvestre/Documents/Informatique/BRAIL/FY2023 In-House PoC3/In-HousePOC3/in_housepoc3/data/Lemon_PreDict\\sub-032347\\sub-032347_EO5_eeg.fif...\n",
      "Isotrak not found\n",
      "    Range : 160817 ... 175317 =    643.268 ...   701.268 secs\n",
      "Ready.\n",
      "Reading 0 ... 14500  =      0.000 ...    58.000 secs...\n"
     ]
    },
    {
     "name": "stderr",
     "output_type": "stream",
     "text": [
      "C:\\Users\\PESYLV~1\\AppData\\Local\\Temp/ipykernel_29536/564882533.py:16: FutureWarning: The frame.append method is deprecated and will be removed from pandas in a future version. Use pandas.concat instead.\n",
      "  df = df.append({\"data\": rawpd, \"age\": int(mlab[:2])+2.5}, ignore_index=True)\n"
     ]
    },
    {
     "name": "stdout",
     "output_type": "stream",
     "text": [
      "<class 'list'>\n",
      "Opening raw data file C:/Users/pesylvestre/Documents/Informatique/BRAIL/FY2023 In-House PoC3/In-HousePOC3/in_housepoc3/data/Lemon_PreDict\\sub-032347\\sub-032347_EO6_eeg.fif...\n",
      "Isotrak not found\n",
      "    Range : 192175 ... 206675 =    768.700 ...   826.700 secs\n",
      "Ready.\n",
      "Reading 0 ... 14500  =      0.000 ...    58.000 secs...\n"
     ]
    },
    {
     "name": "stderr",
     "output_type": "stream",
     "text": [
      "C:\\Users\\PESYLV~1\\AppData\\Local\\Temp/ipykernel_29536/564882533.py:16: FutureWarning: The frame.append method is deprecated and will be removed from pandas in a future version. Use pandas.concat instead.\n",
      "  df = df.append({\"data\": rawpd, \"age\": int(mlab[:2])+2.5}, ignore_index=True)\n"
     ]
    },
    {
     "name": "stdout",
     "output_type": "stream",
     "text": [
      "<class 'list'>\n",
      "Opening raw data file C:/Users/pesylvestre/Documents/Informatique/BRAIL/FY2023 In-House PoC3/In-HousePOC3/in_housepoc3/data/Lemon_PreDict\\sub-032347\\sub-032347_EO7_eeg.fif...\n",
      "Isotrak not found\n",
      "    Range : 223406 ... 237906 =    893.624 ...   951.624 secs\n",
      "Ready.\n",
      "Reading 0 ... 14500  =      0.000 ...    58.000 secs...\n"
     ]
    },
    {
     "name": "stderr",
     "output_type": "stream",
     "text": [
      "C:\\Users\\PESYLV~1\\AppData\\Local\\Temp/ipykernel_29536/564882533.py:16: FutureWarning: The frame.append method is deprecated and will be removed from pandas in a future version. Use pandas.concat instead.\n",
      "  df = df.append({\"data\": rawpd, \"age\": int(mlab[:2])+2.5}, ignore_index=True)\n"
     ]
    },
    {
     "name": "stdout",
     "output_type": "stream",
     "text": [
      "<class 'list'>\n",
      "Opening raw data file C:/Users/pesylvestre/Documents/Informatique/BRAIL/FY2023 In-House PoC3/In-HousePOC3/in_housepoc3/data/Lemon_PreDict\\sub-032347\\sub-032347_EO8_eeg.fif...\n",
      "Isotrak not found\n",
      "    Range : 261292 ... 275792 =   1045.168 ...  1103.168 secs\n",
      "Ready.\n",
      "Reading 0 ... 14500  =      0.000 ...    58.000 secs...\n"
     ]
    },
    {
     "name": "stderr",
     "output_type": "stream",
     "text": [
      "C:\\Users\\PESYLV~1\\AppData\\Local\\Temp/ipykernel_29536/564882533.py:16: FutureWarning: The frame.append method is deprecated and will be removed from pandas in a future version. Use pandas.concat instead.\n",
      "  df = df.append({\"data\": rawpd, \"age\": int(mlab[:2])+2.5}, ignore_index=True)\n"
     ]
    },
    {
     "name": "stdout",
     "output_type": "stream",
     "text": [
      "<class 'list'>\n",
      "Opening raw data file C:/Users/pesylvestre/Documents/Informatique/BRAIL/FY2023 In-House PoC3/In-HousePOC3/in_housepoc3/data/Lemon_PreDict\\sub-032348\\sub-032348_EC1_eeg.fif...\n",
      "Isotrak not found\n",
      "    Range : 9229 ... 23730 =     36.916 ...    94.920 secs\n",
      "Ready.\n",
      "Reading 0 ... 14501  =      0.000 ...    58.004 secs...\n"
     ]
    },
    {
     "name": "stderr",
     "output_type": "stream",
     "text": [
      "C:\\Users\\PESYLV~1\\AppData\\Local\\Temp/ipykernel_29536/564882533.py:16: FutureWarning: The frame.append method is deprecated and will be removed from pandas in a future version. Use pandas.concat instead.\n",
      "  df = df.append({\"data\": rawpd, \"age\": int(mlab[:2])+2.5}, ignore_index=True)\n"
     ]
    },
    {
     "name": "stdout",
     "output_type": "stream",
     "text": [
      "<class 'list'>\n",
      "Opening raw data file C:/Users/pesylvestre/Documents/Informatique/BRAIL/FY2023 In-House PoC3/In-HousePOC3/in_housepoc3/data/Lemon_PreDict\\sub-032348\\sub-032348_EC2_eeg.fif...\n",
      "Isotrak not found\n",
      "    Range : 40150 ... 54651 =    160.600 ...   218.604 secs\n",
      "Ready.\n",
      "Reading 0 ... 14501  =      0.000 ...    58.004 secs...\n"
     ]
    },
    {
     "name": "stderr",
     "output_type": "stream",
     "text": [
      "C:\\Users\\PESYLV~1\\AppData\\Local\\Temp/ipykernel_29536/564882533.py:16: FutureWarning: The frame.append method is deprecated and will be removed from pandas in a future version. Use pandas.concat instead.\n",
      "  df = df.append({\"data\": rawpd, \"age\": int(mlab[:2])+2.5}, ignore_index=True)\n"
     ]
    },
    {
     "name": "stdout",
     "output_type": "stream",
     "text": [
      "<class 'list'>\n",
      "Opening raw data file C:/Users/pesylvestre/Documents/Informatique/BRAIL/FY2023 In-House PoC3/In-HousePOC3/in_housepoc3/data/Lemon_PreDict\\sub-032348\\sub-032348_EC3_eeg.fif...\n",
      "Isotrak not found\n",
      "    Range : 71121 ... 85621 =    284.484 ...   342.484 secs\n",
      "Ready.\n",
      "Reading 0 ... 14500  =      0.000 ...    58.000 secs...\n"
     ]
    },
    {
     "name": "stderr",
     "output_type": "stream",
     "text": [
      "C:\\Users\\PESYLV~1\\AppData\\Local\\Temp/ipykernel_29536/564882533.py:16: FutureWarning: The frame.append method is deprecated and will be removed from pandas in a future version. Use pandas.concat instead.\n",
      "  df = df.append({\"data\": rawpd, \"age\": int(mlab[:2])+2.5}, ignore_index=True)\n"
     ]
    },
    {
     "name": "stdout",
     "output_type": "stream",
     "text": [
      "<class 'list'>\n",
      "Opening raw data file C:/Users/pesylvestre/Documents/Informatique/BRAIL/FY2023 In-House PoC3/In-HousePOC3/in_housepoc3/data/Lemon_PreDict\\sub-032348\\sub-032348_EC4_eeg.fif...\n",
      "Isotrak not found\n",
      "    Range : 105751 ... 120252 =    423.004 ...   481.008 secs\n",
      "Ready.\n",
      "Reading 0 ... 14501  =      0.000 ...    58.004 secs...\n"
     ]
    },
    {
     "name": "stderr",
     "output_type": "stream",
     "text": [
      "C:\\Users\\PESYLV~1\\AppData\\Local\\Temp/ipykernel_29536/564882533.py:16: FutureWarning: The frame.append method is deprecated and will be removed from pandas in a future version. Use pandas.concat instead.\n",
      "  df = df.append({\"data\": rawpd, \"age\": int(mlab[:2])+2.5}, ignore_index=True)\n"
     ]
    },
    {
     "name": "stdout",
     "output_type": "stream",
     "text": [
      "<class 'list'>\n",
      "Opening raw data file C:/Users/pesylvestre/Documents/Informatique/BRAIL/FY2023 In-House PoC3/In-HousePOC3/in_housepoc3/data/Lemon_PreDict\\sub-032348\\sub-032348_EC5_eeg.fif...\n",
      "Isotrak not found\n",
      "    Range : 136459 ... 150959 =    545.836 ...   603.836 secs\n",
      "Ready.\n",
      "Reading 0 ... 14500  =      0.000 ...    58.000 secs...\n"
     ]
    },
    {
     "name": "stderr",
     "output_type": "stream",
     "text": [
      "C:\\Users\\PESYLV~1\\AppData\\Local\\Temp/ipykernel_29536/564882533.py:16: FutureWarning: The frame.append method is deprecated and will be removed from pandas in a future version. Use pandas.concat instead.\n",
      "  df = df.append({\"data\": rawpd, \"age\": int(mlab[:2])+2.5}, ignore_index=True)\n"
     ]
    },
    {
     "name": "stdout",
     "output_type": "stream",
     "text": [
      "<class 'list'>\n",
      "Opening raw data file C:/Users/pesylvestre/Documents/Informatique/BRAIL/FY2023 In-House PoC3/In-HousePOC3/in_housepoc3/data/Lemon_PreDict\\sub-032348\\sub-032348_EC6_eeg.fif...\n",
      "Isotrak not found\n",
      "    Range : 167216 ... 181716 =    668.864 ...   726.864 secs\n",
      "Ready.\n",
      "Reading 0 ... 14500  =      0.000 ...    58.000 secs...\n"
     ]
    },
    {
     "name": "stderr",
     "output_type": "stream",
     "text": [
      "C:\\Users\\PESYLV~1\\AppData\\Local\\Temp/ipykernel_29536/564882533.py:16: FutureWarning: The frame.append method is deprecated and will be removed from pandas in a future version. Use pandas.concat instead.\n",
      "  df = df.append({\"data\": rawpd, \"age\": int(mlab[:2])+2.5}, ignore_index=True)\n"
     ]
    },
    {
     "name": "stdout",
     "output_type": "stream",
     "text": [
      "<class 'list'>\n",
      "Opening raw data file C:/Users/pesylvestre/Documents/Informatique/BRAIL/FY2023 In-House PoC3/In-HousePOC3/in_housepoc3/data/Lemon_PreDict\\sub-032348\\sub-032348_EC7_eeg.fif...\n",
      "Isotrak not found\n",
      "    Range : 198268 ... 212768 =    793.072 ...   851.072 secs\n",
      "Ready.\n",
      "Reading 0 ... 14500  =      0.000 ...    58.000 secs...\n"
     ]
    },
    {
     "name": "stderr",
     "output_type": "stream",
     "text": [
      "C:\\Users\\PESYLV~1\\AppData\\Local\\Temp/ipykernel_29536/564882533.py:16: FutureWarning: The frame.append method is deprecated and will be removed from pandas in a future version. Use pandas.concat instead.\n",
      "  df = df.append({\"data\": rawpd, \"age\": int(mlab[:2])+2.5}, ignore_index=True)\n"
     ]
    },
    {
     "name": "stdout",
     "output_type": "stream",
     "text": [
      "<class 'list'>\n",
      "Opening raw data file C:/Users/pesylvestre/Documents/Informatique/BRAIL/FY2023 In-House PoC3/In-HousePOC3/in_housepoc3/data/Lemon_PreDict\\sub-032348\\sub-032348_EC8_eeg.fif...\n",
      "Isotrak not found\n",
      "    Range : 229343 ... 243843 =    917.372 ...   975.372 secs\n",
      "Ready.\n",
      "Reading 0 ... 14500  =      0.000 ...    58.000 secs...\n"
     ]
    },
    {
     "name": "stderr",
     "output_type": "stream",
     "text": [
      "C:\\Users\\PESYLV~1\\AppData\\Local\\Temp/ipykernel_29536/564882533.py:16: FutureWarning: The frame.append method is deprecated and will be removed from pandas in a future version. Use pandas.concat instead.\n",
      "  df = df.append({\"data\": rawpd, \"age\": int(mlab[:2])+2.5}, ignore_index=True)\n"
     ]
    },
    {
     "name": "stdout",
     "output_type": "stream",
     "text": [
      "<class 'list'>\n",
      "Opening raw data file C:/Users/pesylvestre/Documents/Informatique/BRAIL/FY2023 In-House PoC3/In-HousePOC3/in_housepoc3/data/Lemon_PreDict\\sub-032348\\sub-032348_EO1_eeg.fif...\n",
      "Isotrak not found\n",
      "    Range : 24670 ... 39170 =     98.680 ...   156.680 secs\n",
      "Ready.\n",
      "Reading 0 ... 14500  =      0.000 ...    58.000 secs...\n"
     ]
    },
    {
     "name": "stderr",
     "output_type": "stream",
     "text": [
      "C:\\Users\\PESYLV~1\\AppData\\Local\\Temp/ipykernel_29536/564882533.py:16: FutureWarning: The frame.append method is deprecated and will be removed from pandas in a future version. Use pandas.concat instead.\n",
      "  df = df.append({\"data\": rawpd, \"age\": int(mlab[:2])+2.5}, ignore_index=True)\n"
     ]
    },
    {
     "name": "stdout",
     "output_type": "stream",
     "text": [
      "<class 'list'>\n",
      "Opening raw data file C:/Users/pesylvestre/Documents/Informatique/BRAIL/FY2023 In-House PoC3/In-HousePOC3/in_housepoc3/data/Lemon_PreDict\\sub-032348\\sub-032348_EO2_eeg.fif...\n"
     ]
    },
    {
     "name": "stderr",
     "output_type": "stream",
     "text": [
      "C:\\Users\\PESYLV~1\\AppData\\Local\\Temp/ipykernel_29536/564882533.py:16: FutureWarning: The frame.append method is deprecated and will be removed from pandas in a future version. Use pandas.concat instead.\n",
      "  df = df.append({\"data\": rawpd, \"age\": int(mlab[:2])+2.5}, ignore_index=True)\n"
     ]
    },
    {
     "name": "stdout",
     "output_type": "stream",
     "text": [
      "Isotrak not found\n",
      "    Range : 55677 ... 70177 =    222.708 ...   280.708 secs\n",
      "Ready.\n",
      "Reading 0 ... 14500  =      0.000 ...    58.000 secs...\n",
      "<class 'list'>\n",
      "Opening raw data file C:/Users/pesylvestre/Documents/Informatique/BRAIL/FY2023 In-House PoC3/In-HousePOC3/in_housepoc3/data/Lemon_PreDict\\sub-032348\\sub-032348_EO3_eeg.fif...\n",
      "Isotrak not found\n",
      "    Range : 87333 ... 101833 =    349.332 ...   407.332 secs\n",
      "Ready.\n",
      "Reading 0 ... 14500  =      0.000 ...    58.000 secs...\n"
     ]
    },
    {
     "name": "stderr",
     "output_type": "stream",
     "text": [
      "C:\\Users\\PESYLV~1\\AppData\\Local\\Temp/ipykernel_29536/564882533.py:16: FutureWarning: The frame.append method is deprecated and will be removed from pandas in a future version. Use pandas.concat instead.\n",
      "  df = df.append({\"data\": rawpd, \"age\": int(mlab[:2])+2.5}, ignore_index=True)\n"
     ]
    },
    {
     "name": "stdout",
     "output_type": "stream",
     "text": [
      "<class 'list'>\n",
      "Opening raw data file C:/Users/pesylvestre/Documents/Informatique/BRAIL/FY2023 In-House PoC3/In-HousePOC3/in_housepoc3/data/Lemon_PreDict\\sub-032348\\sub-032348_EO4_eeg.fif...\n",
      "Isotrak not found\n",
      "    Range : 121127 ... 135628 =    484.508 ...   542.512 secs\n",
      "Ready.\n",
      "Reading 0 ... 14501  =      0.000 ...    58.004 secs...\n"
     ]
    },
    {
     "name": "stderr",
     "output_type": "stream",
     "text": [
      "C:\\Users\\PESYLV~1\\AppData\\Local\\Temp/ipykernel_29536/564882533.py:16: FutureWarning: The frame.append method is deprecated and will be removed from pandas in a future version. Use pandas.concat instead.\n",
      "  df = df.append({\"data\": rawpd, \"age\": int(mlab[:2])+2.5}, ignore_index=True)\n"
     ]
    },
    {
     "name": "stdout",
     "output_type": "stream",
     "text": [
      "<class 'list'>\n",
      "Opening raw data file C:/Users/pesylvestre/Documents/Informatique/BRAIL/FY2023 In-House PoC3/In-HousePOC3/in_housepoc3/data/Lemon_PreDict\\sub-032348\\sub-032348_EO5_eeg.fif...\n",
      "Isotrak not found\n",
      "    Range : 151843 ... 166344 =    607.372 ...   665.376 secs\n",
      "Ready.\n",
      "Reading 0 ... 14501  =      0.000 ...    58.004 secs...\n"
     ]
    },
    {
     "name": "stderr",
     "output_type": "stream",
     "text": [
      "C:\\Users\\PESYLV~1\\AppData\\Local\\Temp/ipykernel_29536/564882533.py:16: FutureWarning: The frame.append method is deprecated and will be removed from pandas in a future version. Use pandas.concat instead.\n",
      "  df = df.append({\"data\": rawpd, \"age\": int(mlab[:2])+2.5}, ignore_index=True)\n"
     ]
    },
    {
     "name": "stdout",
     "output_type": "stream",
     "text": [
      "<class 'list'>\n",
      "Opening raw data file C:/Users/pesylvestre/Documents/Informatique/BRAIL/FY2023 In-House PoC3/In-HousePOC3/in_housepoc3/data/Lemon_PreDict\\sub-032348\\sub-032348_EO6_eeg.fif...\n",
      "Isotrak not found\n",
      "    Range : 182723 ... 197223 =    730.892 ...   788.892 secs\n",
      "Ready.\n",
      "Reading 0 ... 14500  =      0.000 ...    58.000 secs...\n"
     ]
    },
    {
     "name": "stderr",
     "output_type": "stream",
     "text": [
      "C:\\Users\\PESYLV~1\\AppData\\Local\\Temp/ipykernel_29536/564882533.py:16: FutureWarning: The frame.append method is deprecated and will be removed from pandas in a future version. Use pandas.concat instead.\n",
      "  df = df.append({\"data\": rawpd, \"age\": int(mlab[:2])+2.5}, ignore_index=True)\n"
     ]
    },
    {
     "name": "stdout",
     "output_type": "stream",
     "text": [
      "<class 'list'>\n",
      "Opening raw data file C:/Users/pesylvestre/Documents/Informatique/BRAIL/FY2023 In-House PoC3/In-HousePOC3/in_housepoc3/data/Lemon_PreDict\\sub-032348\\sub-032348_EO7_eeg.fif...\n",
      "Isotrak not found\n",
      "    Range : 213862 ... 228362 =    855.448 ...   913.448 secs\n",
      "Ready.\n",
      "Reading 0 ... 14500  =      0.000 ...    58.000 secs...\n"
     ]
    },
    {
     "name": "stderr",
     "output_type": "stream",
     "text": [
      "C:\\Users\\PESYLV~1\\AppData\\Local\\Temp/ipykernel_29536/564882533.py:16: FutureWarning: The frame.append method is deprecated and will be removed from pandas in a future version. Use pandas.concat instead.\n",
      "  df = df.append({\"data\": rawpd, \"age\": int(mlab[:2])+2.5}, ignore_index=True)\n"
     ]
    },
    {
     "name": "stdout",
     "output_type": "stream",
     "text": [
      "<class 'list'>\n",
      "Opening raw data file C:/Users/pesylvestre/Documents/Informatique/BRAIL/FY2023 In-House PoC3/In-HousePOC3/in_housepoc3/data/Lemon_PreDict\\sub-032348\\sub-032348_EO8_eeg.fif...\n",
      "Isotrak not found\n",
      "    Range : 244831 ... 259331 =    979.324 ...  1037.324 secs\n",
      "Ready.\n",
      "Reading 0 ... 14500  =      0.000 ...    58.000 secs...\n"
     ]
    },
    {
     "name": "stderr",
     "output_type": "stream",
     "text": [
      "C:\\Users\\PESYLV~1\\AppData\\Local\\Temp/ipykernel_29536/564882533.py:16: FutureWarning: The frame.append method is deprecated and will be removed from pandas in a future version. Use pandas.concat instead.\n",
      "  df = df.append({\"data\": rawpd, \"age\": int(mlab[:2])+2.5}, ignore_index=True)\n"
     ]
    },
    {
     "name": "stdout",
     "output_type": "stream",
     "text": [
      "<class 'list'>\n",
      "Opening raw data file C:/Users/pesylvestre/Documents/Informatique/BRAIL/FY2023 In-House PoC3/In-HousePOC3/in_housepoc3/data/Lemon_PreDict\\sub-032349\\sub-032349_EC1_eeg.fif...\n",
      "Isotrak not found\n",
      "    Range : 1499 ... 16000 =      5.996 ...    64.000 secs\n",
      "Ready.\n",
      "Reading 0 ... 14501  =      0.000 ...    58.004 secs...\n"
     ]
    },
    {
     "name": "stderr",
     "output_type": "stream",
     "text": [
      "C:\\Users\\PESYLV~1\\AppData\\Local\\Temp/ipykernel_29536/564882533.py:16: FutureWarning: The frame.append method is deprecated and will be removed from pandas in a future version. Use pandas.concat instead.\n",
      "  df = df.append({\"data\": rawpd, \"age\": int(mlab[:2])+2.5}, ignore_index=True)\n"
     ]
    },
    {
     "name": "stdout",
     "output_type": "stream",
     "text": [
      "<class 'list'>\n",
      "Opening raw data file C:/Users/pesylvestre/Documents/Informatique/BRAIL/FY2023 In-House PoC3/In-HousePOC3/in_housepoc3/data/Lemon_PreDict\\sub-032349\\sub-032349_EC2_eeg.fif...\n",
      "Isotrak not found\n",
      "    Range : 33580 ... 48081 =    134.320 ...   192.324 secs\n",
      "Ready.\n",
      "Reading 0 ... 14501  =      0.000 ...    58.004 secs...\n"
     ]
    },
    {
     "name": "stderr",
     "output_type": "stream",
     "text": [
      "C:\\Users\\PESYLV~1\\AppData\\Local\\Temp/ipykernel_29536/564882533.py:16: FutureWarning: The frame.append method is deprecated and will be removed from pandas in a future version. Use pandas.concat instead.\n",
      "  df = df.append({\"data\": rawpd, \"age\": int(mlab[:2])+2.5}, ignore_index=True)\n"
     ]
    },
    {
     "name": "stdout",
     "output_type": "stream",
     "text": [
      "<class 'list'>\n",
      "Opening raw data file C:/Users/pesylvestre/Documents/Informatique/BRAIL/FY2023 In-House PoC3/In-HousePOC3/in_housepoc3/data/Lemon_PreDict\\sub-032349\\sub-032349_EC3_eeg.fif...\n",
      "Isotrak not found\n",
      "    Range : 71171 ... 85672 =    284.684 ...   342.688 secs\n",
      "Ready.\n",
      "Reading 0 ... 14501  =      0.000 ...    58.004 secs...\n"
     ]
    },
    {
     "name": "stderr",
     "output_type": "stream",
     "text": [
      "C:\\Users\\PESYLV~1\\AppData\\Local\\Temp/ipykernel_29536/564882533.py:16: FutureWarning: The frame.append method is deprecated and will be removed from pandas in a future version. Use pandas.concat instead.\n",
      "  df = df.append({\"data\": rawpd, \"age\": int(mlab[:2])+2.5}, ignore_index=True)\n"
     ]
    },
    {
     "name": "stdout",
     "output_type": "stream",
     "text": [
      "<class 'list'>\n",
      "Opening raw data file C:/Users/pesylvestre/Documents/Informatique/BRAIL/FY2023 In-House PoC3/In-HousePOC3/in_housepoc3/data/Lemon_PreDict\\sub-032349\\sub-032349_EC4_eeg.fif...\n",
      "Isotrak not found\n",
      "    Range : 102161 ... 116662 =    408.644 ...   466.648 secs\n",
      "Ready.\n",
      "Reading 0 ... 14501  =      0.000 ...    58.004 secs...\n"
     ]
    },
    {
     "name": "stderr",
     "output_type": "stream",
     "text": [
      "C:\\Users\\PESYLV~1\\AppData\\Local\\Temp/ipykernel_29536/564882533.py:16: FutureWarning: The frame.append method is deprecated and will be removed from pandas in a future version. Use pandas.concat instead.\n",
      "  df = df.append({\"data\": rawpd, \"age\": int(mlab[:2])+2.5}, ignore_index=True)\n"
     ]
    },
    {
     "name": "stdout",
     "output_type": "stream",
     "text": [
      "<class 'list'>\n",
      "Opening raw data file C:/Users/pesylvestre/Documents/Informatique/BRAIL/FY2023 In-House PoC3/In-HousePOC3/in_housepoc3/data/Lemon_PreDict\\sub-032349\\sub-032349_EC5_eeg.fif...\n",
      "Isotrak not found\n",
      "    Range : 134099 ... 148600 =    536.396 ...   594.400 secs\n",
      "Ready.\n",
      "Reading 0 ... 14501  =      0.000 ...    58.004 secs...\n"
     ]
    },
    {
     "name": "stderr",
     "output_type": "stream",
     "text": [
      "C:\\Users\\PESYLV~1\\AppData\\Local\\Temp/ipykernel_29536/564882533.py:16: FutureWarning: The frame.append method is deprecated and will be removed from pandas in a future version. Use pandas.concat instead.\n",
      "  df = df.append({\"data\": rawpd, \"age\": int(mlab[:2])+2.5}, ignore_index=True)\n"
     ]
    },
    {
     "name": "stdout",
     "output_type": "stream",
     "text": [
      "<class 'list'>\n",
      "Opening raw data file C:/Users/pesylvestre/Documents/Informatique/BRAIL/FY2023 In-House PoC3/In-HousePOC3/in_housepoc3/data/Lemon_PreDict\\sub-032349\\sub-032349_EC6_eeg.fif...\n",
      "Isotrak not found\n",
      "    Range : 166168 ... 180668 =    664.672 ...   722.672 secs\n",
      "Ready.\n",
      "Reading 0 ... 14500  =      0.000 ...    58.000 secs...\n"
     ]
    },
    {
     "name": "stderr",
     "output_type": "stream",
     "text": [
      "C:\\Users\\PESYLV~1\\AppData\\Local\\Temp/ipykernel_29536/564882533.py:16: FutureWarning: The frame.append method is deprecated and will be removed from pandas in a future version. Use pandas.concat instead.\n",
      "  df = df.append({\"data\": rawpd, \"age\": int(mlab[:2])+2.5}, ignore_index=True)\n"
     ]
    },
    {
     "name": "stdout",
     "output_type": "stream",
     "text": [
      "<class 'list'>\n",
      "Opening raw data file C:/Users/pesylvestre/Documents/Informatique/BRAIL/FY2023 In-House PoC3/In-HousePOC3/in_housepoc3/data/Lemon_PreDict\\sub-032349\\sub-032349_EC7_eeg.fif...\n",
      "Isotrak not found\n",
      "    Range : 202680 ... 217180 =    810.720 ...   868.720 secs\n",
      "Ready.\n",
      "Reading 0 ... 14500  =      0.000 ...    58.000 secs...\n"
     ]
    },
    {
     "name": "stderr",
     "output_type": "stream",
     "text": [
      "C:\\Users\\PESYLV~1\\AppData\\Local\\Temp/ipykernel_29536/564882533.py:16: FutureWarning: The frame.append method is deprecated and will be removed from pandas in a future version. Use pandas.concat instead.\n",
      "  df = df.append({\"data\": rawpd, \"age\": int(mlab[:2])+2.5}, ignore_index=True)\n"
     ]
    },
    {
     "name": "stdout",
     "output_type": "stream",
     "text": [
      "<class 'list'>\n",
      "Opening raw data file C:/Users/pesylvestre/Documents/Informatique/BRAIL/FY2023 In-House PoC3/In-HousePOC3/in_housepoc3/data/Lemon_PreDict\\sub-032349\\sub-032349_EC8_eeg.fif...\n",
      "Isotrak not found\n",
      "    Range : 249215 ... 263716 =    996.860 ...  1054.864 secs\n",
      "Ready.\n",
      "Reading 0 ... 14501  =      0.000 ...    58.004 secs...\n"
     ]
    },
    {
     "name": "stderr",
     "output_type": "stream",
     "text": [
      "C:\\Users\\PESYLV~1\\AppData\\Local\\Temp/ipykernel_29536/564882533.py:16: FutureWarning: The frame.append method is deprecated and will be removed from pandas in a future version. Use pandas.concat instead.\n",
      "  df = df.append({\"data\": rawpd, \"age\": int(mlab[:2])+2.5}, ignore_index=True)\n"
     ]
    },
    {
     "name": "stdout",
     "output_type": "stream",
     "text": [
      "<class 'list'>\n",
      "Opening raw data file C:/Users/pesylvestre/Documents/Informatique/BRAIL/FY2023 In-House PoC3/In-HousePOC3/in_housepoc3/data/Lemon_PreDict\\sub-032349\\sub-032349_EO1_eeg.fif...\n",
      "Isotrak not found\n",
      "    Range : 16963 ... 31463 =     67.852 ...   125.852 secs\n",
      "Ready.\n",
      "Reading 0 ... 14500  =      0.000 ...    58.000 secs...\n"
     ]
    },
    {
     "name": "stderr",
     "output_type": "stream",
     "text": [
      "C:\\Users\\PESYLV~1\\AppData\\Local\\Temp/ipykernel_29536/564882533.py:16: FutureWarning: The frame.append method is deprecated and will be removed from pandas in a future version. Use pandas.concat instead.\n",
      "  df = df.append({\"data\": rawpd, \"age\": int(mlab[:2])+2.5}, ignore_index=True)\n"
     ]
    },
    {
     "name": "stdout",
     "output_type": "stream",
     "text": [
      "<class 'list'>\n",
      "Opening raw data file C:/Users/pesylvestre/Documents/Informatique/BRAIL/FY2023 In-House PoC3/In-HousePOC3/in_housepoc3/data/Lemon_PreDict\\sub-032349\\sub-032349_EO2_eeg.fif...\n",
      "Isotrak not found\n",
      "    Range : 49930 ... 64430 =    199.720 ...   257.720 secs\n",
      "Ready.\n",
      "Reading 0 ... 14500  =      0.000 ...    58.000 secs...\n"
     ]
    },
    {
     "name": "stderr",
     "output_type": "stream",
     "text": [
      "C:\\Users\\PESYLV~1\\AppData\\Local\\Temp/ipykernel_29536/564882533.py:16: FutureWarning: The frame.append method is deprecated and will be removed from pandas in a future version. Use pandas.concat instead.\n",
      "  df = df.append({\"data\": rawpd, \"age\": int(mlab[:2])+2.5}, ignore_index=True)\n"
     ]
    },
    {
     "name": "stdout",
     "output_type": "stream",
     "text": [
      "<class 'list'>\n",
      "Opening raw data file C:/Users/pesylvestre/Documents/Informatique/BRAIL/FY2023 In-House PoC3/In-HousePOC3/in_housepoc3/data/Lemon_PreDict\\sub-032349\\sub-032349_EO3_eeg.fif...\n",
      "Isotrak not found\n",
      "    Range : 86708 ... 101208 =    346.832 ...   404.832 secs\n",
      "Ready.\n",
      "Reading 0 ... 14500  =      0.000 ...    58.000 secs...\n"
     ]
    },
    {
     "name": "stderr",
     "output_type": "stream",
     "text": [
      "C:\\Users\\PESYLV~1\\AppData\\Local\\Temp/ipykernel_29536/564882533.py:16: FutureWarning: The frame.append method is deprecated and will be removed from pandas in a future version. Use pandas.concat instead.\n",
      "  df = df.append({\"data\": rawpd, \"age\": int(mlab[:2])+2.5}, ignore_index=True)\n"
     ]
    },
    {
     "name": "stdout",
     "output_type": "stream",
     "text": [
      "<class 'list'>\n",
      "Opening raw data file C:/Users/pesylvestre/Documents/Informatique/BRAIL/FY2023 In-House PoC3/In-HousePOC3/in_housepoc3/data/Lemon_PreDict\\sub-032349\\sub-032349_EO4_eeg.fif...\n",
      "Isotrak not found\n",
      "    Range : 117636 ... 132137 =    470.544 ...   528.548 secs\n",
      "Ready.\n",
      "Reading 0 ... 14501  =      0.000 ...    58.004 secs...\n"
     ]
    },
    {
     "name": "stderr",
     "output_type": "stream",
     "text": [
      "C:\\Users\\PESYLV~1\\AppData\\Local\\Temp/ipykernel_29536/564882533.py:16: FutureWarning: The frame.append method is deprecated and will be removed from pandas in a future version. Use pandas.concat instead.\n",
      "  df = df.append({\"data\": rawpd, \"age\": int(mlab[:2])+2.5}, ignore_index=True)\n"
     ]
    },
    {
     "name": "stdout",
     "output_type": "stream",
     "text": [
      "<class 'list'>\n",
      "Opening raw data file C:/Users/pesylvestre/Documents/Informatique/BRAIL/FY2023 In-House PoC3/In-HousePOC3/in_housepoc3/data/Lemon_PreDict\\sub-032349\\sub-032349_EO5_eeg.fif...\n",
      "Isotrak not found\n",
      "    Range : 149582 ... 164083 =    598.328 ...   656.332 secs\n",
      "Ready.\n",
      "Reading 0 ... 14501  =      0.000 ...    58.004 secs...\n"
     ]
    },
    {
     "name": "stderr",
     "output_type": "stream",
     "text": [
      "C:\\Users\\PESYLV~1\\AppData\\Local\\Temp/ipykernel_29536/564882533.py:16: FutureWarning: The frame.append method is deprecated and will be removed from pandas in a future version. Use pandas.concat instead.\n",
      "  df = df.append({\"data\": rawpd, \"age\": int(mlab[:2])+2.5}, ignore_index=True)\n"
     ]
    },
    {
     "name": "stdout",
     "output_type": "stream",
     "text": [
      "<class 'list'>\n",
      "Opening raw data file C:/Users/pesylvestre/Documents/Informatique/BRAIL/FY2023 In-House PoC3/In-HousePOC3/in_housepoc3/data/Lemon_PreDict\\sub-032349\\sub-032349_EO6_eeg.fif...\n",
      "Isotrak not found\n",
      "    Range : 181895 ... 196395 =    727.580 ...   785.580 secs\n",
      "Ready.\n",
      "Reading 0 ... 14500  =      0.000 ...    58.000 secs...\n"
     ]
    },
    {
     "name": "stderr",
     "output_type": "stream",
     "text": [
      "C:\\Users\\PESYLV~1\\AppData\\Local\\Temp/ipykernel_29536/564882533.py:16: FutureWarning: The frame.append method is deprecated and will be removed from pandas in a future version. Use pandas.concat instead.\n",
      "  df = df.append({\"data\": rawpd, \"age\": int(mlab[:2])+2.5}, ignore_index=True)\n"
     ]
    },
    {
     "name": "stdout",
     "output_type": "stream",
     "text": [
      "<class 'list'>\n",
      "Opening raw data file C:/Users/pesylvestre/Documents/Informatique/BRAIL/FY2023 In-House PoC3/In-HousePOC3/in_housepoc3/data/Lemon_PreDict\\sub-032349\\sub-032349_EO7_eeg.fif...\n",
      "Isotrak not found\n",
      "    Range : 227329 ... 241829 =    909.316 ...   967.316 secs\n",
      "Ready.\n",
      "Reading 0 ... 14500  =      0.000 ...    58.000 secs...\n"
     ]
    },
    {
     "name": "stderr",
     "output_type": "stream",
     "text": [
      "C:\\Users\\PESYLV~1\\AppData\\Local\\Temp/ipykernel_29536/564882533.py:16: FutureWarning: The frame.append method is deprecated and will be removed from pandas in a future version. Use pandas.concat instead.\n",
      "  df = df.append({\"data\": rawpd, \"age\": int(mlab[:2])+2.5}, ignore_index=True)\n"
     ]
    },
    {
     "name": "stdout",
     "output_type": "stream",
     "text": [
      "<class 'list'>\n",
      "Opening raw data file C:/Users/pesylvestre/Documents/Informatique/BRAIL/FY2023 In-House PoC3/In-HousePOC3/in_housepoc3/data/Lemon_PreDict\\sub-032349\\sub-032349_EO8_eeg.fif...\n",
      "Isotrak not found\n",
      "    Range : 265304 ... 279804 =   1061.216 ...  1119.216 secs\n",
      "Ready.\n",
      "Reading 0 ... 14500  =      0.000 ...    58.000 secs...\n"
     ]
    },
    {
     "name": "stderr",
     "output_type": "stream",
     "text": [
      "C:\\Users\\PESYLV~1\\AppData\\Local\\Temp/ipykernel_29536/564882533.py:16: FutureWarning: The frame.append method is deprecated and will be removed from pandas in a future version. Use pandas.concat instead.\n",
      "  df = df.append({\"data\": rawpd, \"age\": int(mlab[:2])+2.5}, ignore_index=True)\n"
     ]
    },
    {
     "name": "stdout",
     "output_type": "stream",
     "text": [
      "<class 'list'>\n",
      "Opening raw data file C:/Users/pesylvestre/Documents/Informatique/BRAIL/FY2023 In-House PoC3/In-HousePOC3/in_housepoc3/data/Lemon_PreDict\\sub-032350\\sub-032350_EC1_eeg.fif...\n",
      "Isotrak not found\n",
      "    Range : 1883 ... 16384 =      7.532 ...    65.536 secs\n",
      "Ready.\n",
      "Reading 0 ... 14501  =      0.000 ...    58.004 secs...\n"
     ]
    },
    {
     "name": "stderr",
     "output_type": "stream",
     "text": [
      "C:\\Users\\PESYLV~1\\AppData\\Local\\Temp/ipykernel_29536/564882533.py:16: FutureWarning: The frame.append method is deprecated and will be removed from pandas in a future version. Use pandas.concat instead.\n",
      "  df = df.append({\"data\": rawpd, \"age\": int(mlab[:2])+2.5}, ignore_index=True)\n"
     ]
    },
    {
     "name": "stdout",
     "output_type": "stream",
     "text": [
      "<class 'list'>\n",
      "Opening raw data file C:/Users/pesylvestre/Documents/Informatique/BRAIL/FY2023 In-House PoC3/In-HousePOC3/in_housepoc3/data/Lemon_PreDict\\sub-032350\\sub-032350_EC2_eeg.fif...\n",
      "Isotrak not found\n",
      "    Range : 33487 ... 47987 =    133.948 ...   191.948 secs\n",
      "Ready.\n",
      "Reading 0 ... 14500  =      0.000 ...    58.000 secs...\n"
     ]
    },
    {
     "name": "stderr",
     "output_type": "stream",
     "text": [
      "C:\\Users\\PESYLV~1\\AppData\\Local\\Temp/ipykernel_29536/564882533.py:16: FutureWarning: The frame.append method is deprecated and will be removed from pandas in a future version. Use pandas.concat instead.\n",
      "  df = df.append({\"data\": rawpd, \"age\": int(mlab[:2])+2.5}, ignore_index=True)\n"
     ]
    },
    {
     "name": "stdout",
     "output_type": "stream",
     "text": [
      "<class 'list'>\n",
      "Opening raw data file C:/Users/pesylvestre/Documents/Informatique/BRAIL/FY2023 In-House PoC3/In-HousePOC3/in_housepoc3/data/Lemon_PreDict\\sub-032350\\sub-032350_EC3_eeg.fif...\n",
      "Isotrak not found\n",
      "    Range : 64655 ... 79155 =    258.620 ...   316.620 secs\n",
      "Ready.\n",
      "Reading 0 ... 14500  =      0.000 ...    58.000 secs...\n"
     ]
    },
    {
     "name": "stderr",
     "output_type": "stream",
     "text": [
      "C:\\Users\\PESYLV~1\\AppData\\Local\\Temp/ipykernel_29536/564882533.py:16: FutureWarning: The frame.append method is deprecated and will be removed from pandas in a future version. Use pandas.concat instead.\n",
      "  df = df.append({\"data\": rawpd, \"age\": int(mlab[:2])+2.5}, ignore_index=True)\n"
     ]
    },
    {
     "name": "stdout",
     "output_type": "stream",
     "text": [
      "<class 'list'>\n",
      "Opening raw data file C:/Users/pesylvestre/Documents/Informatique/BRAIL/FY2023 In-House PoC3/In-HousePOC3/in_housepoc3/data/Lemon_PreDict\\sub-032350\\sub-032350_EC4_eeg.fif...\n",
      "Isotrak not found\n",
      "    Range : 96168 ... 110668 =    384.672 ...   442.672 secs\n",
      "Ready.\n",
      "Reading 0 ... 14500  =      0.000 ...    58.000 secs...\n"
     ]
    },
    {
     "name": "stderr",
     "output_type": "stream",
     "text": [
      "C:\\Users\\PESYLV~1\\AppData\\Local\\Temp/ipykernel_29536/564882533.py:16: FutureWarning: The frame.append method is deprecated and will be removed from pandas in a future version. Use pandas.concat instead.\n",
      "  df = df.append({\"data\": rawpd, \"age\": int(mlab[:2])+2.5}, ignore_index=True)\n"
     ]
    },
    {
     "name": "stdout",
     "output_type": "stream",
     "text": [
      "<class 'list'>\n",
      "Opening raw data file C:/Users/pesylvestre/Documents/Informatique/BRAIL/FY2023 In-House PoC3/In-HousePOC3/in_housepoc3/data/Lemon_PreDict\\sub-032350\\sub-032350_EC5_eeg.fif...\n",
      "Isotrak not found\n",
      "    Range : 127684 ... 142184 =    510.736 ...   568.736 secs\n",
      "Ready.\n",
      "Reading 0 ... 14500  =      0.000 ...    58.000 secs...\n"
     ]
    },
    {
     "name": "stderr",
     "output_type": "stream",
     "text": [
      "C:\\Users\\PESYLV~1\\AppData\\Local\\Temp/ipykernel_29536/564882533.py:16: FutureWarning: The frame.append method is deprecated and will be removed from pandas in a future version. Use pandas.concat instead.\n",
      "  df = df.append({\"data\": rawpd, \"age\": int(mlab[:2])+2.5}, ignore_index=True)\n"
     ]
    },
    {
     "name": "stdout",
     "output_type": "stream",
     "text": [
      "<class 'list'>\n",
      "Opening raw data file C:/Users/pesylvestre/Documents/Informatique/BRAIL/FY2023 In-House PoC3/In-HousePOC3/in_housepoc3/data/Lemon_PreDict\\sub-032350\\sub-032350_EC6_eeg.fif...\n",
      "Isotrak not found\n",
      "    Range : 158771 ... 173271 =    635.084 ...   693.084 secs\n",
      "Ready.\n",
      "Reading 0 ... 14500  =      0.000 ...    58.000 secs...\n"
     ]
    },
    {
     "name": "stderr",
     "output_type": "stream",
     "text": [
      "C:\\Users\\PESYLV~1\\AppData\\Local\\Temp/ipykernel_29536/564882533.py:16: FutureWarning: The frame.append method is deprecated and will be removed from pandas in a future version. Use pandas.concat instead.\n",
      "  df = df.append({\"data\": rawpd, \"age\": int(mlab[:2])+2.5}, ignore_index=True)\n"
     ]
    },
    {
     "name": "stdout",
     "output_type": "stream",
     "text": [
      "<class 'list'>\n",
      "Opening raw data file C:/Users/pesylvestre/Documents/Informatique/BRAIL/FY2023 In-House PoC3/In-HousePOC3/in_housepoc3/data/Lemon_PreDict\\sub-032350\\sub-032350_EC7_eeg.fif...\n",
      "Isotrak not found\n",
      "    Range : 193963 ... 208463 =    775.852 ...   833.852 secs\n",
      "Ready.\n",
      "Reading 0 ... 14500  =      0.000 ...    58.000 secs...\n"
     ]
    },
    {
     "name": "stderr",
     "output_type": "stream",
     "text": [
      "C:\\Users\\PESYLV~1\\AppData\\Local\\Temp/ipykernel_29536/564882533.py:16: FutureWarning: The frame.append method is deprecated and will be removed from pandas in a future version. Use pandas.concat instead.\n",
      "  df = df.append({\"data\": rawpd, \"age\": int(mlab[:2])+2.5}, ignore_index=True)\n"
     ]
    },
    {
     "name": "stdout",
     "output_type": "stream",
     "text": [
      "<class 'list'>\n",
      "Opening raw data file C:/Users/pesylvestre/Documents/Informatique/BRAIL/FY2023 In-House PoC3/In-HousePOC3/in_housepoc3/data/Lemon_PreDict\\sub-032350\\sub-032350_EC8_eeg.fif...\n",
      "Isotrak not found\n",
      "    Range : 225796 ... 240296 =    903.184 ...   961.184 secs\n",
      "Ready.\n",
      "Reading 0 ... 14500  =      0.000 ...    58.000 secs...\n"
     ]
    },
    {
     "name": "stderr",
     "output_type": "stream",
     "text": [
      "C:\\Users\\PESYLV~1\\AppData\\Local\\Temp/ipykernel_29536/564882533.py:16: FutureWarning: The frame.append method is deprecated and will be removed from pandas in a future version. Use pandas.concat instead.\n",
      "  df = df.append({\"data\": rawpd, \"age\": int(mlab[:2])+2.5}, ignore_index=True)\n"
     ]
    },
    {
     "name": "stdout",
     "output_type": "stream",
     "text": [
      "<class 'list'>\n",
      "Opening raw data file C:/Users/pesylvestre/Documents/Informatique/BRAIL/FY2023 In-House PoC3/In-HousePOC3/in_housepoc3/data/Lemon_PreDict\\sub-032350\\sub-032350_EO1_eeg.fif...\n",
      "Isotrak not found\n",
      "    Range : 17187 ... 31688 =     68.748 ...   126.752 secs\n",
      "Ready.\n",
      "Reading 0 ... 14501  =      0.000 ...    58.004 secs...\n"
     ]
    }
   ],
   "source": [
    "df = pd.DataFrame(columns=[\"data\", \"age\"])\n",
    "shape = []\n",
    "for g in gb:\n",
    "    raw = mne.io.read_raw_fif(g, preload=True)\n",
    "    shape += [(len(raw.ch_names),raw.n_times)]\n",
    "    if raw.n_times < 14501:\n",
    "        continue\n",
    "    rawpd = raw.to_data_frame().to_numpy().tolist()\n",
    "    print(type(rawpd))\n",
    "    #print(rawpd.shape)\n",
    "    if raw.n_times == 14502:\n",
    "            rawpd = np.delete(rawpd, -1, 0)\n",
    "    #tdpd = rawpd.values.ravel()\n",
    "    tg = g.split(\"\\\\\")\n",
    "    mlab = find_row(lab, 0, tg[1])[2].values[0]\n",
    "    df = df.append({\"data\": rawpd, \"age\": int(mlab[:2])+2.5}, ignore_index=True)\n",
    "print(df)\n",
    "print(df.shape)\n",
    "print(shape)"
   ]
  },
  {
   "cell_type": "code",
   "execution_count": null,
   "metadata": {},
   "outputs": [],
   "source": [
    "from collections import Counter\n",
    "\n",
    "compteur = Counter(shape)\n",
    "print(compteur) # {1: 2, 2: 2, 3: 1, 4: 1}"
   ]
  },
  {
   "cell_type": "code",
   "execution_count": null,
   "metadata": {},
   "outputs": [],
   "source": [
    "print(df.shape)\n",
    "df"
   ]
  },
  {
   "cell_type": "code",
   "execution_count": null,
   "metadata": {},
   "outputs": [],
   "source": [
    "import numpy as np\n",
    "import pyriemann\n",
    "import geomstats"
   ]
  },
  {
   "cell_type": "code",
   "execution_count": null,
   "metadata": {},
   "outputs": [],
   "source": [
    "df.shape"
   ]
  },
  {
   "cell_type": "code",
   "execution_count": null,
   "metadata": {},
   "outputs": [],
   "source": [
    "df[\"data\"].shape"
   ]
  },
  {
   "cell_type": "code",
   "execution_count": null,
   "metadata": {},
   "outputs": [],
   "source": [
    "type(df[\"data\"][1])"
   ]
  },
  {
   "cell_type": "code",
   "execution_count": null,
   "metadata": {},
   "outputs": [],
   "source": [
    "df[\"data\"][1].shape"
   ]
  },
  {
   "cell_type": "code",
   "execution_count": null,
   "metadata": {},
   "outputs": [],
   "source": [
    "npy = df[\"data\"].to_numpy()"
   ]
  },
  {
   "cell_type": "code",
   "execution_count": null,
   "metadata": {},
   "outputs": [],
   "source": [
    "print(type(npy), type(npy[0]), type(npy[0][0]), type(npy[0][0][0]))"
   ]
  },
  {
   "cell_type": "code",
   "execution_count": null,
   "metadata": {},
   "outputs": [],
   "source": [
    "i = 0\n",
    "j = 0\n",
    "k = 0\n",
    "tnpy = np.zeros((3385,14501,63))\n",
    "tnpy.shape\n",
    "while i in range(len(npy)):\n",
    "    while j in range(len(npy[0])):\n",
    "        while k in range(len(npy[0][0])):\n",
    "            tnpy[i][j][k] = int(npy[i][j][k])\n",
    "            k +=1\n",
    "        j+=1\n",
    "    i+=1"
   ]
  },
  {
   "cell_type": "code",
   "execution_count": null,
   "metadata": {},
   "outputs": [],
   "source": [
    "print(type(tnpy), type(tnpy[0]), type(tnpy[0][0]), type(tnpy[0][0][0]))"
   ]
  },
  {
   "cell_type": "code",
   "execution_count": null,
   "metadata": {},
   "outputs": [],
   "source": [
    "cov1 = pyriemann.estimation.Covariances()\n",
    "cov = cov1.fit_transform(tnpy)"
   ]
  },
  {
   "cell_type": "code",
   "execution_count": null,
   "metadata": {},
   "outputs": [],
   "source": [
    "mdm = pyriemann.classification.MDM()\n",
    "accuracy = pyriemann.utils.cross_validation.cross_val_score(mdm, cov, y, cv=5)\n",
    "print(\"Précision du MDM : \", accuracy.mean())"
   ]
  },
  {
   "cell_type": "code",
   "execution_count": null,
   "metadata": {},
   "outputs": [],
   "source": [
    "ts = pyriemann.tangentspace.TangentSpace()\n",
    "cov_ts = ts.fit_transform(cov)"
   ]
  },
  {
   "cell_type": "code",
   "execution_count": null,
   "metadata": {},
   "outputs": [],
   "source": [
    "pca = pyriemann.utils.base.PCA(n_components=2)\n",
    "cov_pca = pca.fit_transform(cov_ts)\n",
    "pyriemann.utils.viz.plot_embedding(cov_pca, y, title=\"Visualisation des matrices de covariance\")"
   ]
  },
  {
   "cell_type": "code",
   "execution_count": null,
   "metadata": {},
   "outputs": [],
   "source": []
  }
 ],
 "metadata": {
  "kernelspec": {
   "display_name": "Python 3 (ipykernel)",
   "language": "python",
   "name": "python3"
  },
  "language_info": {
   "codemirror_mode": {
    "name": "ipython",
    "version": 3
   },
   "file_extension": ".py",
   "mimetype": "text/x-python",
   "name": "python",
   "nbconvert_exporter": "python",
   "pygments_lexer": "ipython3",
   "version": "3.8.9"
  }
 },
 "nbformat": 4,
 "nbformat_minor": 4
}
